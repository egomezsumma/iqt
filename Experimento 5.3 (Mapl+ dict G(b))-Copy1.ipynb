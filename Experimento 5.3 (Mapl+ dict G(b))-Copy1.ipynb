{
 "cells": [
  {
   "cell_type": "markdown",
   "metadata": {},
   "source": [
    "# Optimizacion con MAPL\n",
    "\n",
    "$ G_{i} \\leftarrow train(\\{(Hr_{n}^{b}, LR_{n}^{b})\\}_i) \\hspace{1cm}  (\\forall n=1,2 ... n\\_samples) (\\forall b \\in Bvals) $\n",
    " \n",
    "$ \\hspace{5.5cm} LR_n = downsampling(HR_n) $\n",
    "\n",
    "$ M, C \\leftarrow mapl(Y^{lr}.gtab) $\n",
    "\n",
    "$ \\min_{Yhr, C^{hr}} \\{ \\left( \\sum_{i}^{Nb} ||G^{b}Yhr^{b} - Ylr^{b}||^2 \\right) + || Yhr - M*C^{hr} || + ||C||_{1} \\}$\n"
   ]
  },
  {
   "cell_type": "code",
   "execution_count": 1,
   "metadata": {
    "collapsed": false
   },
   "outputs": [
    {
     "name": "stdout",
     "output_type": "stream",
     "text": [
      "Populating the interactive namespace from numpy and matplotlib\n"
     ]
    }
   ],
   "source": [
    "%pylab inline\n",
    "import time\n",
    "import numpy as np\n",
    "import matplotlib.pyplot as plt\n",
    "from utils import img_utils\n",
    "import seaborn as sns\n",
    "import utils.math_utils as mat_utils\n",
    "#import nibabel as nib\n",
    "import mapmri.mapmri as mp\n",
    "#from dipy.core.gradients import gradient_table\n",
    "import cvxpy as cvx\n",
    "reload(img_utils)\n",
    "import load.hcp_img_loader as hcp"
   ]
  },
  {
   "cell_type": "code",
   "execution_count": 2,
   "metadata": {
    "collapsed": false
   },
   "outputs": [],
   "source": [
    "def get_sample_dwi(index, numbers, loader_func, bval=None, bvalpos=None,  scale=2):\n",
    "    # Load Hcp subject\n",
    "    img, gtab, idxs = loader_func(index, numbers, bval, bvalpos)\n",
    "    # Downsample data\n",
    "    lr, _ = img_utils.downsampling(img, scale)\n",
    "    data = img.get_data()\n",
    "    data_noS0 =data[:,:,:, idxs]\n",
    "    s0_idxs = [ i for i in xrange(max(idxs)+1)  if i not in idxs] \n",
    "    return data_noS0, lr[:,:,:, idxs], data[:,:,:,s0_idxs], lr[:, :, :, s0_idxs], gtab\n",
    "\n",
    "def get_sample(index, numbers, loader_func, bval=None, bvalpos=None,  scale=2):\n",
    "    hr, lr, S0hr, S0lr, gtab = get_sample_dwi(index, numbers, loader_func, bval=None, bvalpos=None,  scale=2)\n",
    "    \n",
    "    hr = get_atenuation(hr, S0hr)\n",
    "    lr = get_atenuation(lr, S0lr)\n",
    "    del(S0hr, S0lr)\n",
    "    return hr, lr, gtab\n",
    "\n",
    "\n",
    "\n",
    "def get_sample_c(index, numbers, loader_func, bval=None, bvalpos=None,  scale=2, multiply_S0=False):\n",
    "    hr, lr, S0hr, S0lr, gtab = get_sample_dwi(index, numbers, loader_func, bval=None, bvalpos=None,  scale=2)\n",
    "    # Calculate MAPL  C_hr:(Nx,Ny,Nz,Nc) c_lr:(nx,ny,nz,nc)\n",
    "    C_hr = getC(hr, gtab, radial_order = 4)\n",
    "    c_lr = getC(lr, gtab, radial_order = 4)\n",
    "    \n",
    "    # Multiply by S0 to get the signal (and not the atenuation)\n",
    "    if multiply_S0 :\n",
    "        C_hr = get_signal(C_hr, S0hr)\n",
    "        c_lr = get_signal(c_lr, S0lr)\n",
    "    \n",
    "    # Clean-up\n",
    "    del(hr)\n",
    "    del(lr)\n",
    "    del(S0hr)\n",
    "    del(S0lr)\n",
    "    return C_hr, c_lr, gtab\n",
    "    \n",
    "\"\"\"\n",
    "def get_sample_mapl(index, numbers, loader_func, bval=None, bvalpos=None,  scale=2, multiply_S0=False):\n",
    "    hr, lr, S0hr, S0lr, gtab = get_sample_dwi(index, numbers, loader_func, bval=None, bvalpos=None,  scale=2)\n",
    "    # Calculate MAPL  C_hr:(Nx,Ny,Nz,Nc) c_lr:(nx,ny,nz,nc)\n",
    "    C_hr = getC(hr, gtab, radial_order = 4)\n",
    "    c_lr = getC(lr, gtab, radial_order = 4)\n",
    "    \n",
    "    # Multiply by S0 to get the signal (and not the atenuation)\n",
    "    if multiply_S0 :\n",
    "        C_hr = get_signal(C_hr, S0hr)\n",
    "        c_lr = get_signal(c_lr, S0lr)\n",
    "    \n",
    "    # Clean-up\n",
    "    del(hr)\n",
    "    del(lr)\n",
    "    del(S0hr)\n",
    "    del(S0lr)\n",
    "    return C_hr, c_lr, gtab\n",
    "\"\"\"\n",
    "def get_sample_maker(numbers, loader_func, bval=None, bvalpos=None, scale=2):\n",
    "    return lambda index : get_sample(index, numbers, loader_func, bval, bvalpos,  scale)\n",
    "\n",
    "def mm(A, cast_int=True):\n",
    "    if cast_int :\n",
    "        return (int(A.min()), int(A.max()))\n",
    "    else:\n",
    "        return (A.min(), A.max())\n",
    "    \n",
    "def buildT(sample_getter, n_samples):\n",
    "    C, c, _ = sample_getter(0)\n",
    "    X = img_utils.column_this(c)\n",
    "    Y = img_utils.column_this(C)\n",
    "    for i in range(1, n_samples):\n",
    "        noised_hr, noised_lr, _ = sample_getter(i)\n",
    "        X = img_utils.append_column(X, c)\n",
    "        Y = img_utils.append_column(Y, C)\n",
    "    return X, Y\n",
    "\n",
    "\n",
    "def buildT_grouping_by_q(sample_getter, n_samples, bvals_needed):\n",
    "    \"\"\"\n",
    "    Genera tantos conjuntos de entrenamiento como \n",
    "    bvals distintos tenga el volumne\n",
    "    \"\"\"\n",
    "    hr, lr, gtab = sample_getter(0)\n",
    "    bs = bvals_needed[0:hr.shape[3]]\n",
    "    \n",
    "    dicX = split_by_bval(lr, bs, gtab)\n",
    "    dicY = split_by_bval(hr, bs, gtab)\n",
    "    for i in range(1, n_samples):\n",
    "        hr, lr, gtab = sample_getter(i)\n",
    "        dicX = split_by_bval(lr, bs, gtab, dicX)\n",
    "        dicY = split_by_bval(hr, bs, gtab, dicY)\n",
    "    return dicX, dicY\n",
    "\n",
    "def split_by_bval(img, bvals_needed, gtab, res=None):\n",
    "    \"\"\"\n",
    "    Dada una imagen separa la cuarta dimension segun su vbal\n",
    "    Y por cada una hace un vector columna\n",
    "    \"\"\"\n",
    "    if res is None:\n",
    "        res = dict((b, None) for b in bvals_needed)\n",
    "        \n",
    "    for i in xrange(len(gtab.bvals)):\n",
    "        b = gtab.bvals[i]\n",
    "        if b not in bvals_needed :\n",
    "            continue\n",
    "        \n",
    "        XorY = res[b]\n",
    "        if XorY is None:\n",
    "            res[b] = img_utils.column_this(img[:,:,:,i])\n",
    "        else:\n",
    "            res[b] = img_utils.append_column(XorY, img[:,:,:,i])\n",
    "    return res\n",
    "\n",
    "def buildT_grouping_by_c(sample_getter, n_samples):\n",
    "    \"\"\"\n",
    "    Genera tantos conjuntos de entrenamiento coef de MAPL\n",
    "    \"\"\"\n",
    "    C, c, _ = sample_getter(0)\n",
    "    dicX = split_by_coef(c)\n",
    "    dicY = split_by_coef(C)\n",
    "    for i in range(1, n_samples):\n",
    "        C, c, _ = sample_getter(i)\n",
    "        dicX = split_by_coef(c, dicX)\n",
    "        dicY = split_by_coef(C, dicY)\n",
    "    return dicX, dicY\n",
    "\n",
    "def split_by_coef(img, res=None):\n",
    "    \"\"\"\n",
    "    Dada una imagen separa la cuarta dimension segun su coef de MAPL\n",
    "    \"\"\"\n",
    "    Nc = img.shape[3]\n",
    "    if res is None:\n",
    "        res = dict((coef, None) for coef in xrange(Nc))\n",
    "        \n",
    "    for c in xrange(Nc):\n",
    "        XorY = res[c]\n",
    "        if XorY is None:\n",
    "            res[c] = img_utils.column_this(img[:,:,:,c])\n",
    "        else:\n",
    "            res[c] = img_utils.append_column(XorY, img[:,:,:,c])\n",
    "    return res\n",
    "\n",
    "def get_atenuation(Sq, S0):\n",
    "    _S0 = S0\n",
    "    if len(S0.shape) > 3 :\n",
    "        _S0 = S0.mean(axis=3)\n",
    "    for b in xrange(Sq.shape[3]):\n",
    "        Sq[:,:,:,b] = np.divide(Sq[:,:,:,b], _S0)\n",
    "    return Sq\n",
    "\n",
    "def get_signal(Eq, S0):\n",
    "    _S0 = S0\n",
    "    if len(S0.shape) > 3 :\n",
    "        _S0 = S0.mean(axis=3)\n",
    "    for b in xrange(Eq.shape[3]):\n",
    "        Eq[:,:,:,b] = np.multiply(Eq[:,:,:,b], _S0)\n",
    "    return Eq\n",
    "    \n",
    "\n",
    "## Example of use\n",
    "#buildT(get_sample_maker(numbers, scale), n_samples)"
   ]
  },
  {
   "cell_type": "markdown",
   "metadata": {},
   "source": [
    "## MapMri"
   ]
  },
  {
   "cell_type": "code",
   "execution_count": 3,
   "metadata": {
    "collapsed": true
   },
   "outputs": [],
   "source": [
    "def getC(data, gtab, radial_order = 4):\n",
    "    Nx, Ny, Nz, Nb = data.shape\n",
    "    vhr =Nx*Ny*Nz\n",
    "    map_model = mp.MapmriModel(gtab,\n",
    "                                radial_order=radial_order,\n",
    "                                laplacian_regularization=True,\n",
    "                                laplacian_weighting=0.2,\n",
    "                                anisotropic_scaling=False,\n",
    "                                dti_scale_estimation=False)\n",
    "    map_model_fit = map_model.fit(data)\n",
    "    # (Nx, Ny, Nz, Nc)\n",
    "    C = map_model_fit.mapmri_coeff\n",
    "    return C\n",
    "\n",
    "def getMAndU(radial_order, mu, gtab, tau):\n",
    "    r'''Recovers the reconstructed signal for any qvalue array or\n",
    "        gradient table.\n",
    "        '''\n",
    "    qvals = np.sqrt(gtab.bvals / tau) / (2 * np.pi)\n",
    "    q = qvals[:, None] * gtab.bvecs\n",
    "    M = mp.mapmri_isotropic_phi_matrix(radial_order, mu[0], q)\n",
    "    \n",
    "    # Lapalcian matrix\n",
    "    laplacian_matrix = mp.mapmri_isotropic_laplacian_reg_matrix(radial_order, 1.)\n",
    "    laplacian_matrix = laplacian_matrix * mu[0]\n",
    "    \n",
    "    return M, laplacian_matrix\n",
    "    \n",
    "def getM(radial_order, mu, gtab, tau):\n",
    "    r'''Recovers the reconstructed signal for any qvalue array or\n",
    "        gradient table.\n",
    "        '''\n",
    "    qvals = np.sqrt(gtab.bvals / tau) / (2 * np.pi)\n",
    "    q = qvals[:, None] * gtab.bvecs\n",
    "    M = mp.mapmri_isotropic_phi_matrix(radial_order, mu[0], q)\n",
    "    return  M\n",
    "\n",
    "def get_mapl_params(gtab, radial_order = 4):\n",
    "    #Fiteo el model\n",
    "    map_model = mp.MapmriModel(gtab,\n",
    "                                radial_order=radial_order,\n",
    "                                laplacian_regularization=True,\n",
    "                                laplacian_weighting=0.2,\n",
    "                                anisotropic_scaling=False,\n",
    "                                dti_scale_estimation=False)\n",
    "    # Fiteo la data\n",
    "    #map_model_fit = map_model.fit(i_hr)\n",
    "    tau = map_model.tau\n",
    "    mu = map_model.mu\n",
    "    print 'mu.shape', mu.shape\n",
    "    M = getM(radial_order, mu, gtab, tau)\n",
    "    return M, tau, mu    \n",
    "    \n",
    "def get_mapl_params2(gtab, radial_order = 4):\n",
    "    #Fiteo el model\n",
    "    map_model = mp.MapmriModel(gtab,\n",
    "                                radial_order=radial_order,\n",
    "                                laplacian_regularization=True,\n",
    "                                laplacian_weighting=0.2,\n",
    "                                anisotropic_scaling=False,\n",
    "                                dti_scale_estimation=False)\n",
    "    # Fiteo la data\n",
    "    #map_model_fit = map_model.fit(i_hr)\n",
    "    tau = map_model.tau\n",
    "    mu = map_model.mu\n",
    "    print 'mu.shape', mu.shape, mu\n",
    "    M, U = getMAndU(radial_order, mu, gtab, tau)\n",
    "    return M, tau, mu, U    \n",
    "    "
   ]
  },
  {
   "cell_type": "markdown",
   "metadata": {},
   "source": [
    "# 3D Tv-Norm\n",
    "\n",
    "$ \\sum_{ijk \\in positions(I)} \\left|\\left| (I_{i,j,k}, I_{i,j,k}, I_{i,j,k}) - ( I_{i-1,j,k}, I_{i,j-1,k},  I_{i,j,k-1}) \\right|\\right| $"
   ]
  },
  {
   "cell_type": "code",
   "execution_count": 4,
   "metadata": {
    "collapsed": true
   },
   "outputs": [],
   "source": [
    "from cvxpy.expressions.expression import Expression\n",
    "from cvxpy.atoms.elementwise.norm2_elemwise import norm2_elemwise\n",
    "\n",
    "def tv3d_CubosYSlices(value, *args):\n",
    "    value = Expression.cast_to_const(value)\n",
    "    rows, cols = value.size\n",
    "    if value.is_scalar():\n",
    "        raise ValueError(\"tv cannot take a scalar argument.\")\n",
    "    # L1 norm for vectors.\n",
    "    elif value.is_vector():\n",
    "        return ValueError(\"You may call tv.\")\n",
    "    # L2 norm for matrices.\n",
    "    else:\n",
    "        args = map(Expression.cast_to_const, args)\n",
    "        slices = [value] + list(args)\n",
    "        \n",
    "        Nz = len(slices)\n",
    "        Nx, Ny = slices[0].size\n",
    "        if Nz < 2 or Nx < 2 or Ny < 2:\n",
    "            return ValueError(\"You may call tv.\")\n",
    "        \n",
    "        norm2_slices = []\n",
    "        cub_k, cub_x, cub_y, cub_z = [], [], [], []\n",
    "        \n",
    "        for z in range(0, Nz-1):\n",
    "            mat= slices[z]  \n",
    "            cub_k.append(cvx.vec(mat[0:Nx-1, 0:Ny-1]))\n",
    "            cub_x.append(cvx.vec(mat[1:Nx, 0:Ny-1]))\n",
    "            cub_y.append(cvx.vec(mat[0:Nx-1, 1:Ny]))\n",
    "        \n",
    "        for z in range(1, Nz):\n",
    "            mat= slices[z]  \n",
    "            cub_z.append(cvx.vec(mat[0:Nx-1, 0:Ny-1]))\n",
    "        \n",
    "        K = cvx.vstack(*cub_k)\n",
    "        X = cvx.vstack(*cub_x)\n",
    "        Y = cvx.vstack(*cub_y)\n",
    "        Z = cvx.vstack(*cub_z)\n",
    "        \n",
    "        diffs = []\n",
    "        diffs += [\n",
    "            X - K,\n",
    "            Y - K,\n",
    "            Z - K,\n",
    "        ]\n",
    "        norm2 = norm2_elemwise(*diffs)\n",
    "        \n",
    "        return cvx.sum_entries(norm2)\n",
    "\n",
    "def call_tv3d_CubosYSlices(Yhr, Nx, Ny, Nz, bval):\n",
    "    vhr = Nx*Ny*Nz\n",
    "    vhrb = vhr*bval\n",
    "    Nxy = Nx*Ny\n",
    "    b_offset = vhr\n",
    "    tvs_by_b = []\n",
    "    for b in xrange(bval):\n",
    "        b_offset = b*vhr\n",
    "        slices = []\n",
    "        for z in range(0, Nz):\n",
    "            XY = Yhr[b_offset + z*Nxy: b_offset + (z+1)*Nxy] # el slice XY para este z y b\n",
    "            mat = cvx.reshape(XY, Nx, Ny)\n",
    "            slices.append(mat)\n",
    "        \n",
    "        tvs_by_b.append(tv3d_CubosYSlices(*slices))\n",
    "        #tvs_by_b.append(cvx.tv3d(*slices))\n",
    "        \n",
    "    print '#slices', len(slices)\n",
    "    return sum(tvs_by_b)\n",
    "\n",
    "def tv3d(Yhr, Nx, Ny, Nz, Nb):\n",
    "    return call_tv3d_CubosYSlices(Yhr, Nx, Ny, Nz, Nb)"
   ]
  },
  {
   "cell_type": "markdown",
   "metadata": {},
   "source": [
    "## Problem definition\n",
    "\n",
    "$ \\min_{C^{hr}} \\{ ||GC^{hr} - C^{lr}||^2  + ||C||_{1} \\}$\n"
   ]
  },
  {
   "cell_type": "code",
   "execution_count": 5,
   "metadata": {
    "collapsed": false
   },
   "outputs": [],
   "source": [
    " def define_problem_with_mapl(i_lr, i_hr_shape, G, M, U, tau, gtab, scale, intercept=None):\n",
    "    Nb, Nc = M.shape\n",
    "    Nx, Ny, Nz, bval = i_hr_shape\n",
    "    vlr = Nx*Ny*Nz/(scale**3)\n",
    "    vlrb = vlr*bval\n",
    "    vhr = Nx*Ny*Nz\n",
    "    vhrb = vhr*bval\n",
    "      \n",
    "    ## Hr volumes\n",
    "    Yhr = cvx.Variable(vhrb, 1, name='cvxYhr')\n",
    "    #Yhr.value = np.ones((vhrb, 1))*i_lr.mean()\n",
    "    \n",
    "    ## MAPL params\n",
    "    #cvxChr = cvx.Constant(C_hr.reshape(-1, order='F'))\n",
    "    cvxChr = cvx.Variable(vhr*Nc, name='cvxChr')\n",
    "    # M:(Nb,Nc)\n",
    "    cvxMaplE = (M * cvx.reshape(cvxChr,vhr, Nc).T).T\n",
    "    # Hr image in row by b-val\n",
    "    YhrMapl = cvx.reshape(Yhr, vhr, bval)\n",
    "    # Mapl dual expression\n",
    "    cvxMaplDualExp = cvx.sum_squares(cvxMaplE-YhrMapl)\n",
    "    \n",
    "    ## Laplacian regularization\n",
    "    cvxU = cvx.Constant(U)\n",
    "    regLaplade_list = []\n",
    "    vhrc = vhr*Nc\n",
    "    for voxel in xrange(vhr):\n",
    "        cvxLapaceReg = cvx.quad_form(cvxChr[voxel:vhrc:vhr], cvxU)\n",
    "        regLaplade_list.append(cvxLapaceReg**2)\n",
    "    cvxLaplaceRegExp = sum(regLaplade_list)\n",
    "    \n",
    "    ## LA FORMA MATRICIAL NO ME DEJA DICE QUE NO SE PUEDE MULTIPLICAR DOS MATRICES\n",
    "    #  cvxChr:(vhrc, 1) U:(Nc,Nc)\n",
    "    #cvxC_byCoef = cvx.reshape(cvxChr, vhr, Nc)\n",
    "    #cvxCUC = cvx.diag(cvxC_byCoef*cvxU*cvxC_byCoef.T)\n",
    "    #cvxLapaceRegExp = cvx.sum_squares(cvxCUC)\n",
    "\n",
    "\n",
    "    \n",
    "    \n",
    "    ## Fidelity expression\n",
    "    #cvxG = G\n",
    "    fidelity_list = []\n",
    "    lapace_list = []\n",
    "    for i in xrange(Nb):\n",
    "        b = gtab.bvals[i]\n",
    "        b_offset_hr = i*vhr\n",
    "        Yhr_b = Yhr[b_offset_hr:b_offset_hr+vhr]\n",
    "        # Aprovecho para setearle un valor unicia\n",
    "        Gb = cvx.Constant(G[b])\n",
    "        Ylr_b = cvx.Constant(i_lr[b])\n",
    "        if intercept is not None:\n",
    "            cvxInt_b = cvx.Constant(intercept[b])\n",
    "            #cvxInt_c:(vlr, 1)\n",
    "            fid_b = cvx.sum_squares((Gb*Yhr_b+cvxInt_b) - Ylr_b.T)\n",
    "        else:\n",
    "            fid_b = cvx.sum_squares(Gb*Yhr_b - Ylr_b.T)\n",
    "        fidelity_list.append(fid_b)    \n",
    "    cvxFidelityExp = sum(fidelity_list)\n",
    "    \n",
    "    \n",
    "    ## 3D Tv-Norm Regularization\n",
    "    cvx3DTvNomExp = tv3d(Yhr, Nx, Ny, Nz, Nb)\n",
    "    \n",
    "    #Sparcity regularization\n",
    "    cvxNorm1 = cvx.norm1(cvxChr)\n",
    "    \n",
    "    \n",
    "    ## Mapl weight\n",
    "    beta = cvx.Parameter(value=3*1.452e-15, name='beta', sign='positive')#3.197e-10\n",
    "    ## Sparcity weight\n",
    "    alpha = cvx.Parameter(value=1.627e-15, name='alpha', sign='positive')#4.865e-10\n",
    "    ## Fidelity weight\n",
    "    lamda = cvx.Parameter(value=1., name='lamda',sign='positive')\n",
    "    ## 3D-Tv weight\n",
    "    gamma = cvx.Parameter(value=2*1.627e-15, name='gamma',sign='positive')\n",
    "    ### AS VARIABLES\n",
    "    # beta = cvx.Variable(name='beta')\n",
    "    # beta.value = 0.2\n",
    "    ## Sparcity weight\n",
    "    # alpha = cvx.Variable(name='alpha')\n",
    "    # alpha.value = 4000\n",
    "    ## Fidelity weight\n",
    "    # gamma = cvx.Variable(name='gamma')\n",
    "    # lamda = cvx.Variable(name='lamda')\n",
    "    # lamda.value =0.5\n",
    "    \n",
    "    # Form objective.\n",
    "    #obj = cvx.Minimize(cvxFidelityExp + betha*cvxLapaceRegExp + alpha*cvx.norm(cvxChr) + gamma*cvx3DTvNomExp)\n",
    "    obj = cvx.Minimize(lamda*cvxFidelityExp + cvxMaplDualExp + beta*cvxLaplaceRegExp + alpha*cvxNorm1 + gamma*cvx3DTvNomExp)\n",
    "         \n",
    "    # Constraints\n",
    "    #constraints = [lamda > 0 , alpha > 0, beta > 0]\n",
    "    constraints = [Yhr >= 0]\n",
    "    #Agregar q M*C es positivo o deberia\n",
    "\n",
    "    # Form and solve problem.\n",
    "    prob = cvx.Problem(obj, constraints)\n",
    "    \n",
    "    return prob, cvxFidelityExp ,  cvxLaplaceRegExp , cvxNorm1\n",
    "\n"
   ]
  },
  {
   "cell_type": "code",
   "execution_count": 6,
   "metadata": {
    "collapsed": true
   },
   "outputs": [],
   "source": [
    "def solveMin(i_lr, i_hr_shape, G, M, U, tau, gtab, intercept=None, scale=2, max_iters=1500, verbose=False, prob=None):\n",
    "    Nx, Ny, Nz, Nb = i_hr_shape\n",
    "    Nb, Nc = M.shape\n",
    "    nx, ny, nz = Nx/scale, Ny/scale, Nz/scale \n",
    "    vhr, vlr = Nx*Ny*Nz, nx*ny*nz \n",
    "    \n",
    "    cvxFidelityExp ,  cvxLaplaceRegExp , cvxNorm1 = None, None, None\n",
    "    if prob is None :\n",
    "        prob, cvxFidelityExp ,  cvxLaplaceRegExp , cvxNorm1 = define_problem_with_mapl(\n",
    "                                    i_lr, \n",
    "                                    i_hr_shape, \n",
    "                                    G, \n",
    "                                    M, U,tau,\n",
    "                                    gtab,\n",
    "                                    scale,\n",
    "                                    intercept=intercept)\n",
    "     \n",
    "    \n",
    "    start_time = time.time()\n",
    "    res = prob.solve(solver='SCS', max_iters=max_iters, eps=1.0e-03, verbose=verbose )  # Returns the optimal value.\n",
    "    #res = prob.solve(solver='ECOS')  # Returns the optimal value.\n",
    "    \n",
    "    seg = time.time() - start_time\n",
    "\n",
    "    minutes = int(seg / 60)\n",
    "    print(\"--- time of optimization : %d' %d'' ---\" % (minutes , seg%60))\n",
    "    print \"--- status:\", prob.status, \"optimal value\", prob.value\n",
    "    print \n",
    "\n",
    "    variables = dict( (v.name(), v) for v in prob.variables())\n",
    "    #parameters = dict( (v.name(), v) for v in prob.parameters())\n",
    "    #print 'alpha=', variables['alpha'].value ,'beta=',  variables['beta'].value\n",
    "    print variables\n",
    "    #A, C = i_hr, C_hr\n",
    "    \n",
    "    cvxChr = variables['cvxChr']\n",
    "    cvxYhr = variables['cvxYhr']\n",
    "    \n",
    "    # cvxChr: (vhrc, 1) M:(Nb,Nc)\n",
    "    \n",
    "    C = np.asarray(cvxChr.value, dtype='float32').reshape((Nx, Ny, Nz, Nc), order='F')\n",
    "\n",
    "    A = np.asarray(cvxYhr.value, dtype='float32').reshape(i_hr_shape, order='F')\n",
    "    \n",
    "    Amapl = M.dot(C.reshape((Nx*Ny*Nz, Nc), order='F').T).T\n",
    "    Amapl = Amapl.reshape((Nx, Ny, Nz, Nb), order='F')\n",
    "    \n",
    "    print 'cvxFidelityExp', cvxFidelityExp.value   \n",
    "    print 'cvxLaplaceRegExp', cvxLaplaceRegExp.value\n",
    "    print 'cvxNorm1', cvxNorm1.value \n",
    "    \n",
    "    return A, Amapl, C, seg, prob, cvxFidelityExp, cvxLaplaceRegExp , cvxNorm1"
   ]
  },
  {
   "cell_type": "markdown",
   "metadata": {},
   "source": [
    "## Solving the problem and cross-validation (leave one out)"
   ]
  },
  {
   "cell_type": "code",
   "execution_count": 7,
   "metadata": {
    "collapsed": false
   },
   "outputs": [
    {
     "name": "stderr",
     "output_type": "stream",
     "text": [
      "/user/lgomez/home/anaconda2/lib/python2.7/site-packages/skimage/filter/__init__.py:6: skimage_deprecation: The `skimage.filter` module has been renamed to `skimage.filters`.  This placeholder module will be removed in v0.13.\n",
      "  warn(skimage_deprecation('The `skimage.filter` module has been renamed '\n",
      "/user/lgomez/home/anaconda2/lib/python2.7/site-packages/scipy/ndimage/interpolation.py:430: UserWarning: The behaviour of affine_transform with a one-dimensional array supplied for the matrix parameter has changed in scipy 0.18.0.\n",
      "  \"The behaviour of affine_transform with a one-dimensional \"\n"
     ]
    },
    {
     "name": "stdout",
     "output_type": "stream",
     "text": [
      "== Leaving out: # 100307\n",
      "= Training and fiting ...\n",
      "clr_test[0].shape (1, 216)\n",
      "mu.shape (3,) [ 0.00595503  0.00595503  0.00595503]\n",
      "U.shape (22, 22)\n",
      "= Solving optimization problem ...\n",
      "#slices 12\n",
      "----------------------------------------------------------------------------\n",
      "\tSCS v1.2.6 - Splitting Conic Solver\n",
      "\t(c) Brendan O'Donoghue, Stanford University, 2012-2016\n",
      "----------------------------------------------------------------------------\n",
      "Lin-sys: sparse-indirect, nnz in A = 16441125, CG tol ~ 1/iter^(2.00)\n",
      "eps = 1.00e-03, alpha = 1.50, max_iters = 1500, normalize = 1, scale = 1.00\n",
      "Variables n = 194437, constraints m = 459072\n",
      "Cones:\tlinear vars: 139968\n",
      "\tsoc vars: 319104, soc blks: 54469\n",
      "Setup time: 6.05e-01s\n",
      "----------------------------------------------------------------------------\n",
      " Iter | pri res | dua res | rel gap | pri obj | dua obj | kap/tau | time (s)\n",
      "----------------------------------------------------------------------------\n",
      "     0|      inf       inf      -nan      -inf       inf       inf  1.52e+00 \n",
      "   100| 6.89e-03  4.59e-03  5.03e-04  5.66e+01  5.67e+01  4.61e-14  4.81e+01 \n",
      "   200| 2.39e-03  9.19e-04  2.49e-04  5.66e+01  5.66e+01  4.65e-14  9.60e+01 \n",
      "   300| 1.38e-03  5.99e-04  1.77e-04  5.65e+01  5.66e+01  4.67e-14  1.43e+02 \n",
      "   380| 9.71e-04  4.97e-04  1.51e-04  5.65e+01  5.65e+01  4.69e-14  1.84e+02 \n",
      "----------------------------------------------------------------------------\n",
      "Status: Solved\n",
      "Timing: Solve time: 1.84e+02s\n",
      "\tLin-sys: avg # CG iterations: 8.08, avg solve time: 4.71e-01s\n",
      "\tCones: avg projection time: 1.20e-03s\n",
      "----------------------------------------------------------------------------\n",
      "Error metrics:\n",
      "dist(s, K) = 7.6605e-15, dist(y, K*) = 4.4409e-16, s'y/|s||y| = -7.2402e-19\n",
      "|Ax + s - b|_2 / (1 + |b|_2) = 9.7056e-04\n",
      "|A'y + c|_2 / (1 + |c|_2) = 4.9656e-04\n",
      "|c'x + b'y| / (1 + |c'x| + |b'y|) = 1.5064e-04\n",
      "----------------------------------------------------------------------------\n",
      "c'x = 56.5269, -b'y = 56.5441\n",
      "============================================================================\n",
      "--- time of optimization : 3' 43'' ---\n",
      "--- status: optimal optimal value 56.5268868701\n",
      "\n",
      "{'cvxChr': Variable(38016, 1), 'cvxYhr': Variable(63936, 1)}\n",
      "cvxFidelityExp 56.4907917173\n",
      "cvxLaplaceRegExp 12588.7607\n",
      "cvxNorm1 4085.96704686\n",
      "= Calculating metrics...\n",
      "\n",
      "\n",
      " === TOTAL TIME : 3' 43\"\n"
     ]
    }
   ],
   "source": [
    "from scipy.sparse import csr_matrix\n",
    "import experimento1_funciones as e1f\n",
    "reload(e1f)\n",
    "\n",
    "RES_BASE_FOLDER = './resultados/exp5/'\n",
    "VMIN, VMAX=-50, 2500\n",
    "\n",
    "voi_hr_shape = (12, 12, 12, 6)\n",
    "voi_lr_shape = (6, 6, 6, 6)\n",
    "subjects = [100307, 100408, 180129, 180432, 180836, 180937]\n",
    "#subjects = [100307, 100408, 180129, 180432]\n",
    "\n",
    "bvals2000pos = [18, 27, 69, 75, 101, 107]\n",
    "\n",
    "# Esto es por si quiero alguna S0\n",
    "#img_s0, gtab_s0 = load_subject_small(0, subjects, bval=5, bvalpos=bvals5pos[0:6])\n",
    "#i_hr=img.get_data()\n",
    "#S0 = img_s0.get_data()\n",
    "\n",
    "reload(hcp)\n",
    "\n",
    "#print '#Qvals: ', gtab.bvals.shape\n",
    "#print 'Bvals: ', set(gtab.bvals)\n",
    "## Con imagenes pequenas multi-shel\n",
    "loader_func = hcp.load_subject_medium_noS0\n",
    "sample_maker = get_sample_maker(subjects, loader_func, scale=2)\n",
    "\n",
    "n_samples = 6\n",
    "iterations = 1\n",
    "\n",
    "# Metrics to save\n",
    "min_vals_hr_r = []\n",
    "max_vals_hr_r = []\n",
    "min_vals_lr_r = []\n",
    "max_vals_lr_r = []\n",
    "\n",
    "dif_norm_hrs=[]\n",
    "dif_norm_lrs=[]    \n",
    "Yhr_recons_norms=[]\n",
    "Ylr_recons_norms=[]  \n",
    "Yhr_norms=[]\n",
    "Ylr_norms=[]\n",
    "times = []\n",
    "optimal_vals = []\n",
    "\n",
    "## For save results\n",
    "# base_folder = RES_BASE_FOLDER\n",
    "## For NOT save results\n",
    "base_folder = None\n",
    "\n",
    "for i in range(0, iterations):\n",
    "    subjects.append(subjects.pop(0))\n",
    "    subject = str(subjects[len(subjects)-1])\n",
    "    print '== Leaving out: #', subject\n",
    "    \n",
    "    ## The one that left out to validate\n",
    "    the_one_out = len(subjects)-1\n",
    "    i_hr, i_lr,  gtab = get_sample(the_one_out, subjects, loader_func, scale=2)\n",
    "    \n",
    "    ### Aca shiftear el arreglo de sujetos (train deja el ultimo afuera del entrenamiento)\n",
    "    lr_samples, hr_samples = buildT_grouping_by_q(sample_maker, n_samples, gtab.bvals) #lr, hr\n",
    "\n",
    "    # Build downsampling matrix\n",
    "    print '= Training and fiting ...'\n",
    "    regr, chr_train , clr_train, chr_test, clr_test, intercept = \\\n",
    "                e1f.train_grouping_by(hr_samples, lr_samples, intercept=True)\n",
    "    del(chr_train)\n",
    "    del(clr_train)\n",
    "    del(chr_test)\n",
    "    print 'clr_test[0].shape', clr_test[990].shape\n",
    "    \n",
    "    G = dict((c,csr_matrix(regr[c].coef_)) for c in regr.keys())\n",
    "    \n",
    "    # Mapl params\n",
    "    M, tau, mu, U = get_mapl_params2(gtab, radial_order = 4)\n",
    "    print 'U.shape', U.shape\n",
    "    \n",
    "    # Minimization solve\n",
    "    # mock: A, seg = np.ones(i_hr.shape), 20\n",
    "    print '= Solving optimization problem ...'\n",
    "    A, Amapl, C, seg, prob, cvxFidelityExp ,  cvxLaplaceRegExp , cvxNorm1 = \\\n",
    "        solveMin(clr_test, i_hr.shape, G, M, U,  tau, gtab, intercept=intercept, scale=2, max_iters=1500, verbose=True)\n",
    "    max_vals_hr_r.append(A.max())\n",
    "    min_vals_hr_r.append(A.min())\n",
    "    \n",
    "    ## Recons ^LR\n",
    "\n",
    "    #max_vals_lr_r.append(B.max())\n",
    "    #min_vals_lr_r.append(B.min())\n",
    "    \n",
    "    # Keep parameters\n",
    "    print '= Calculating metrics...'\n",
    "    dif_norm_hr = np.linalg.norm(i_hr-A) # recons-gtrust\n",
    "    Yhr_norm = np.linalg.norm(i_hr)\n",
    "    Yhr_recons_norm = np.linalg.norm(A) #recons\n",
    "    \n",
    "    #dif_norm_lr = np.linalg.norm(i_lr-B)\n",
    "    #Ylr_norm = np.linalg.norm(B)\n",
    "    #Ylr_recons_norm = np.linalg.norm(B)\n",
    "    \n",
    "    dif_norm_hrs.append(dif_norm_hr)\n",
    "    #dif_norm_lrs.append(dif_norm_lr)\n",
    "    \n",
    "    Yhr_recons_norms.append(Yhr_recons_norm)\n",
    "    #Ylr_recons_norms.append(Ylr_recons_norm)\n",
    "    \n",
    "    Yhr_norms.append(Yhr_norm)\n",
    "    #Ylr_norms.append(Ylr_norm)\n",
    "    \n",
    "    times.append(seg)\n",
    "    optimal_vals.append(prob.value)\n",
    "\n",
    "    # Save the A calculated\n",
    "    if base_folder is not None:\n",
    "        name = base_folder+ \"A/\" + 'hrRec_lo' + subject\n",
    "        np.save(name, A)\n",
    "        print 'showing hr '+ subject, 'min, max',(A.min(), A.max()) \n",
    "        titles=['Reconstruida', 'Original']\n",
    "        for b in xrange(6):\n",
    "            plt = img_utils._isc(A, i_hr,b=b ,titles=titles,  vmax=VMAX, vmin=VMIN)\n",
    "            plt.savefig(name +'b'+str(b)+'.pdf')\n",
    "        print 'saved A in: ', name + str('.npy')\n",
    "        \n",
    "    # Save the B calculated\n",
    "    if base_folder is not None:\n",
    "        name = base_folder + 'lrRec_lo' + subject\n",
    "        np.save(name, B)\n",
    "        print 'showing lr '+ subject, 'min, max',(B.min(), B.max()) \n",
    "        titles=['Reconstruida', 'Original']\n",
    "        plt = img_utils._isc(B, i_lr, titles=titles,  vmax=VMAX, vmin=VMIN)\n",
    "        plt.savefig(name + '.pdf')\n",
    "        print 'saved A in: ', name + str('.npy')\n",
    "        \n",
    "    print\n",
    "    print\n",
    "\n",
    "# Log spended\n",
    "total_sec = np.array(times).sum()\n",
    "print ' === TOTAL TIME :',  str(int(total_sec//60))+\"'\", str(int(total_sec%60))+ '\"'\n",
    "\n",
    "# Persist results\n",
    "if base_folder is not None: \n",
    "    np.save(base_folder+ 'dif_norm_hrs', dif_norm_hrs)\n",
    "    #np.save(base_folder+ 'dif_norm_lrs', dif_norm_lrs)\n",
    "    np.save(base_folder+ 'Yhr_recons_norms', Yhr_recons_norms)\n",
    "    np.save(base_folder+ 'Ylr_recons_norms', dif_norm_hrs)\n",
    "    #np.save(base_folder+ 'Yhr_norms', dif_norm_lrs)\n",
    "    np.save(base_folder+ 'Ylr_norms', Yhr_recons_norms)\n",
    "    \n",
    "    np.save(base_folder+ 'max_vals_hr_r', max_vals_hr_r)\n",
    "    np.save(base_folder+ 'min_vals_hr_r', min_vals_hr_r)\n",
    "    np.save(base_folder+ 'max_vals_lr_r', max_vals_hr_r)\n",
    "    np.save(base_folder+ 'min_vals_lr_r', min_vals_hr_r)\n",
    "    \n",
    "    np.save(base_folder+ 'times' , times)\n",
    "    np.save(base_folder+ 'optimal_vals', optimal_vals)\n",
    "    \n"
   ]
  },
  {
   "cell_type": "code",
   "execution_count": null,
   "metadata": {
    "collapsed": false
   },
   "outputs": [],
   "source": [
    "# Para darle otra ronda\n",
    "A,Amapl, C, seg, prob, cvxFidelityExp ,  cvxLaplaceRegExp , cvxNorm1 = \\\n",
    "        solveMin(clr_test, i_hr.shape, G, M, U,  tau, gtab, prob=prob, max_iters=1500, verbose=True)\n",
    "#parameters = dict((c.name(), c) for c in prob.parameters())\n",
    "#betha, alpha = parameters['betha'],  parameters['alpha']\n",
    "\n",
    "#H, _, S0hr, _,  gtab = get_sample_dwi(2, subjects, loader_func, scale=2)\n",
    "#img_utils._ish(H, b=7, vmin=H.min(), vmax=H.max())"
   ]
  },
  {
   "cell_type": "code",
   "execution_count": null,
   "metadata": {
    "collapsed": false
   },
   "outputs": [],
   "source": [
    "dict((v.name(), v.value) for v in prob.variables())\n"
   ]
  },
  {
   "cell_type": "code",
   "execution_count": 8,
   "metadata": {
    "collapsed": false
   },
   "outputs": [
    {
     "name": "stdout",
     "output_type": "stream",
     "text": [
      "0.308069 0.274024 0.429088 0.254029\n"
     ]
    },
    {
     "data": {
      "text/plain": [
       "1000.0"
      ]
     },
     "execution_count": 8,
     "metadata": {},
     "output_type": "execute_result"
    },
    {
     "data": {
      "image/png": "[encoded data removed]",
      "text/plain": [
       "<matplotlib.figure.Figure at 0x7f79857a3110>"
      ]
     },
     "metadata": {},
     "output_type": "display_data"
    }
   ],
   "source": [
    "\n",
    "b=0\n",
    "print A[:,6,:, b].mean(), np.std(A), i_hr[:,6,:, b].mean(), np.std(i_hr)\n",
    "\n",
    "img_utils._ish(A, b=b, vmin=A.min(), vmax=A.max())\n",
    "gtab.bvals[b]"
   ]
  },
  {
   "cell_type": "code",
   "execution_count": 9,
   "metadata": {
    "collapsed": false
   },
   "outputs": [
    {
     "data": {
      "text/plain": [
       "(array([ 40.,  14.,  31.,  35.,  12.,   3.,   5.,   3.,   0.,   1.]),\n",
       " array([ 0.04373868,  0.19284255,  0.34194643,  0.4910503 ,  0.64015417,\n",
       "         0.78925804,  0.93836191,  1.08746579,  1.23656966,  1.38567353,\n",
       "         1.5347774 ]),\n",
       " <a list of 10 Patch objects>)"
      ]
     },
     "execution_count": 9,
     "metadata": {},
     "output_type": "execute_result"
    },
    {
     "data": {
      "image/png": "[encoded data removed]",
      "text/plain": [
       "<matplotlib.figure.Figure at 0x7f79857a3590>"
      ]
     },
     "metadata": {},
     "output_type": "display_data"
    }
   ],
   "source": [
    "#hist(A[:,6,:, b].flatten(), range=(-0.03,0.15))\n",
    "hist(i_hr[:,6,:, b].flatten())\n"
   ]
  },
  {
   "cell_type": "code",
   "execution_count": 16,
   "metadata": {
    "collapsed": false
   },
   "outputs": [
    {
     "name": "stdout",
     "output_type": "stream",
     "text": [
      "recons (-0.00015426388, 0.28082418, 2.2698958) (12, 12, 12, 37)\n",
      "orig (0.0020386195, 0.29971552, 3.2994506) (12, 12, 12, 37)\n",
      "con la primer forma de tvnorm\n",
      "dif_norm_hrs [46.376465]\n",
      "Yhr_recons_norms [99.212112]\n",
      "Yhr_norms [99.343712]\n",
      "times [223.5637378692627]\n",
      "optimal_vals [56.52688687012697]\n"
     ]
    },
    {
     "data": {
      "image/png": "[encoded data removed]",
      "text/plain": [
       "<matplotlib.figure.Figure at 0x7f79579ed9d0>"
      ]
     },
     "metadata": {},
     "output_type": "display_data"
    }
   ],
   "source": [
    "\n",
    "img_utils._isc(A, i_hr, b=b, vmin=0, vmax=1, titles=['^Yhr', 'Yhr'])\n",
    "\n",
    "\n",
    "#img_utils._is(A, vmin=A.min(), vmax=A.max())\n",
    "print 'recons', (A.min(), A.mean(), A.max()), A.shape\n",
    "print 'orig',(i_hr.min(), i_hr.mean(), i_hr.max()), i_hr.shape\n",
    "#G.shape\n",
    "\n",
    "print 'con la primer forma de tvnorm'\n",
    "print 'dif_norm_hrs', dif_norm_hrs\n",
    "print 'Yhr_recons_norms', Yhr_recons_norms\n",
    "print 'Yhr_norms', Yhr_norms\n",
    "print 'times',times\n",
    "print 'optimal_vals', optimal_vals"
   ]
  },
  {
   "cell_type": "code",
   "execution_count": 11,
   "metadata": {
    "collapsed": false
   },
   "outputs": [
    {
     "data": {
      "text/plain": [
       "<module 'matplotlib.pyplot' from '/user/lgomez/home/anaconda2/lib/python2.7/site-packages/matplotlib/pyplot.pyc'>"
      ]
     },
     "execution_count": 11,
     "metadata": {},
     "output_type": "execute_result"
    },
    {
     "data": {
      "image/png": "[encoded data removed]",
      "text/plain": [
       "<matplotlib.figure.Figure at 0x7f7957b14850>"
      ]
     },
     "metadata": {},
     "output_type": "display_data"
    }
   ],
   "source": [
    "img_utils._isc(A, Amapl, b=4, vmin=0, vmax=1, titles=['^Yhr', 'M*^C'])\n"
   ]
  },
  {
   "cell_type": "markdown",
   "metadata": {},
   "source": [
    "# HR Testing reconstruction \n"
   ]
  },
  {
   "cell_type": "code",
   "execution_count": 12,
   "metadata": {
    "collapsed": false
   },
   "outputs": [
    {
     "name": "stdout",
     "output_type": "stream",
     "text": [
      "mse= 0.0336395\n"
     ]
    },
    {
     "data": {
      "text/plain": [
       "((0, 1), (0, 1), 'mse=', (0, 0))"
      ]
     },
     "execution_count": 12,
     "metadata": {},
     "output_type": "execute_result"
    },
    {
     "data": {
      "image/png": "[encoded data removed]",
      "text/plain": [
       "<matplotlib.figure.Figure at 0x7f7957aa1f90>"
      ]
     },
     "metadata": {},
     "output_type": "display_data"
    }
   ],
   "source": [
    "mse = ((A-i_hr)**2).mean(axis=3)\n",
    "print 'mse=', ((A-i_hr)**2).mean()\n",
    "\n",
    "bval = 5\n",
    "titles = ['^Yhr '+str(int(gtab.bvals[bval])), 'Yhr', 'mse']\n",
    "plt, _, _, im3 = img_utils._isc3(A, i_hr, mse,  b=bval,  vmin=[0, 0], vmax=[1, 1], titles=titles)\n",
    "plt.colorbar(im3,fraction=0.056, pad=0.04)\n",
    "mm(A[:,6,:, bval]), mm(i_hr[:,6,:, bval]), 'mse=', mm(mse)"
   ]
  },
  {
   "cell_type": "code",
   "execution_count": 13,
   "metadata": {
    "collapsed": false
   },
   "outputs": [],
   "source": [
    "def errrel_layers(A, B):\n",
    "    err_rel = np.zeros(A.shape)\n",
    "    for b in xrange(A.shape[3]):\n",
    "        err_rel[:,:,:,b] = np.divide(np.abs(A[:,:,:,b]-B[:,:,:,b]), B[:,:,:,b]+0.01)\n",
    "    return err_rel"
   ]
  },
  {
   "cell_type": "code",
   "execution_count": 14,
   "metadata": {
    "collapsed": false
   },
   "outputs": [
    {
     "data": {
      "text/plain": [
       "(<Container object of 37 artists>,\n",
       " 0.5447452689837452,\n",
       " 0.81558315448007679,\n",
       " 995.0)"
      ]
     },
     "execution_count": 14,
     "metadata": {},
     "output_type": "execute_result"
    },
    {
     "data": {
      "image/png": "[encoded data removed]",
      "text/plain": [
       "<matplotlib.figure.Figure at 0x7f799d0e9410>"
      ]
     },
     "metadata": {},
     "output_type": "display_data"
    }
   ],
   "source": [
    "errel = errrel_layers(A, i_hr)\n",
    "errs =[errel[:,:,:,b].mean() for b in xrange(A.shape[3])]\n",
    "\n",
    "plt.bar(gtab.bvals, errs),errs[16], errs[32], gtab.bvals[b], #set(gtab.bvals)"
   ]
  },
  {
   "cell_type": "code",
   "execution_count": 17,
   "metadata": {
    "collapsed": false
   },
   "outputs": [
    {
     "data": {
      "text/plain": [
       "<matplotlib.text.Text at 0x7f795733e5d0>"
      ]
     },
     "execution_count": 17,
     "metadata": {},
     "output_type": "execute_result"
    },
    {
     "data": {
      "image/png": "[encoded data removed]",
      "text/plain": [
       "<matplotlib.figure.Figure at 0x7f79579ed150>"
      ]
     },
     "metadata": {},
     "output_type": "display_data"
    }
   ],
   "source": [
    "errel = errrel_layers(A, i_hr)\n",
    "errs =[errel[:,:,:,b].mean() for b in xrange(A.shape[3])]\n",
    "\n",
    "plt.bar(gtab.bvals, errs),errs[16], errs[32], gtab.bvals[b], #set(gtab.bvals\n",
    "plt.xlim(985, 1010)\n",
    "plt.xlabel('MSE')\n",
    "plt.ylabel('bval')\n"
   ]
  },
  {
   "cell_type": "code",
   "execution_count": 18,
   "metadata": {
    "collapsed": false
   },
   "outputs": [
    {
     "data": {
      "text/plain": [
       "990.0"
      ]
     },
     "execution_count": 18,
     "metadata": {},
     "output_type": "execute_result"
    },
    {
     "data": {
      "image/png": "[encoded data removed]",
      "text/plain": [
       "<matplotlib.figure.Figure at 0x7f7957d67b50>"
      ]
     },
     "metadata": {},
     "output_type": "display_data"
    }
   ],
   "source": [
    "I_lr = np.ones(i_hr.shape)\n",
    "\n",
    "\n",
    "for b in xrange(I_lr.shape[3]):\n",
    "    I_lr[3:9,3:9,3:9,b] = i_lr[:, :, :, b]\n",
    "b=6\n",
    "plt, _, _, im3 = img_utils._isc3(A, i_hr, I_lr, b=b, vmax=1, titles=['recons', 'original', 'LR'])\n",
    "plt.set_cmap('gray')\n",
    "gtab.bvals[b]"
   ]
  },
  {
   "cell_type": "markdown",
   "metadata": {},
   "source": [
    "# Testing Mapl reconstruction to clr"
   ]
  },
  {
   "cell_type": "code",
   "execution_count": 17,
   "metadata": {
    "collapsed": false
   },
   "outputs": [
    {
     "name": "stdout",
     "output_type": "stream",
     "text": [
      "(6, 6, 6, 22) (6, 6, 6, 37)\n",
      "(0, 0)\n",
      "Error relativo max,min u std (0, 0) 0 0\n"
     ]
    },
    {
     "data": {
      "text/plain": [
       "<module 'matplotlib.pyplot' from '/user/lgomez/home/anaconda2/lib/python2.7/site-packages/matplotlib/pyplot.pyc'>"
      ]
     },
     "execution_count": 17,
     "metadata": {},
     "output_type": "execute_result"
    },
    {
     "data": {
      "image/png": "[encoded data removed]",
      "text/plain": [
       "<matplotlib.figure.Figure at 0x7f984c46e850>"
      ]
     },
     "metadata": {},
     "output_type": "display_data"
    }
   ],
   "source": [
    "nx, ny, nz, Nb = i_lr.shape\n",
    "Nb, Nc =  M.shape\n",
    "\n",
    "_, C_lr, _ = get_sample_c(the_one_out, subjects, loader_func, scale=2)\n",
    "print C_lr.shape, i_lr.shape\n",
    "B = M.dot(C_lr.reshape((nx*ny*nz, Nc), order='F').T).T\n",
    "B = B.reshape((nx, ny, nz, Nb), order='F')\n",
    "    \n",
    "\n",
    "err = np.abs(B - i_lr)\n",
    "err_rel = np.divide(err, i_lr+1)#para q no de infinito\n",
    "\n",
    "print mm(err) \n",
    "print 'Error relativo max,min u std', mm(err_rel), int(err_rel.mean()), \\\n",
    "                                      int(np.std(err_rel)) \n",
    "\n",
    "#img_utils._isc(i_hr, Eq_reconst,b=b, vmin=0, vmax=i_hr.max(), titles=['i_hr', 'cvxpy'])\n",
    "img_utils._isc(i_lr, B,b=b, vmin=0, vmax=1, titles=['i_lr', 'mapl'])\n"
   ]
  },
  {
   "cell_type": "code",
   "execution_count": 18,
   "metadata": {
    "collapsed": false
   },
   "outputs": [
    {
     "name": "stdout",
     "output_type": "stream",
     "text": [
      "(0, 5)\n",
      "Error relativo max,min u std (0, 4) 0 0\n"
     ]
    },
    {
     "data": {
      "text/plain": [
       "<module 'matplotlib.pyplot' from '/user/lgomez/home/anaconda2/lib/python2.7/site-packages/matplotlib/pyplot.pyc'>"
      ]
     },
     "execution_count": 18,
     "metadata": {},
     "output_type": "execute_result"
    },
    {
     "data": {
      "image/png": "[encoded data removed]",
      "text/plain": [
       "<matplotlib.figure.Figure at 0x7f984c166450>"
      ]
     },
     "metadata": {},
     "output_type": "display_data"
    }
   ],
   "source": [
    "Nx, Ny, Nz, Nb = i_hr.shape\n",
    "Nb, Nc =  M.shape\n",
    "\n",
    "C_hr, _, _ = get_sample_c(the_one_out, subjects, loader_func, scale=2)\n",
    "A_mapl = M.dot(C_hr.reshape((Nx*Ny*Nz, Nc), order='F').T).T\n",
    "A_mapl = A.reshape((Nx, Ny, Nz, Nb), order='F')\n",
    "    \n",
    "\n",
    "err = np.abs(A_mapl - i_hr)\n",
    "err_rel = np.divide(err, i_hr+1)#para q no de infinito\n",
    "\n",
    "print mm(err) \n",
    "print 'Error relativo max,min u std', mm(err_rel), int(err_rel.mean()), \\\n",
    "                                      int(np.std(err_rel)) \n",
    "\n",
    "#img_utils._isc(i_hr, Eq_reconst,b=b, vmin=0, vmax=i_hr.max(), titles=['i_hr', 'cvxpy'])\n",
    "img_utils._isc(i_hr, A_mapl,b=b, vmin=0, vmax=1, titles=['original hr', 'mapl'])\n"
   ]
  },
  {
   "cell_type": "code",
   "execution_count": 19,
   "metadata": {
    "collapsed": false
   },
   "outputs": [
    {
     "data": {
      "text/plain": [
       "<module 'matplotlib.pyplot' from '/user/lgomez/home/anaconda2/lib/python2.7/site-packages/matplotlib/pyplot.pyc'>"
      ]
     },
     "execution_count": 19,
     "metadata": {},
     "output_type": "execute_result"
    },
    {
     "data": {
      "image/png": "[encoded data removed]",
      "text/plain": [
       "<matplotlib.figure.Figure at 0x7f984c166350>"
      ]
     },
     "metadata": {},
     "output_type": "display_data"
    }
   ],
   "source": [
    "img_utils._isc(Amapl, A_mapl,b=b, vmin=0, vmax=1, titles=['recons mapl', 'mapl'])\n"
   ]
  }
 ],
 "metadata": {
  "kernelspec": {
   "display_name": "Python 2",
   "language": "python",
   "name": "python2"
  },
  "language_info": {
   "codemirror_mode": {
    "name": "ipython",
    "version": 2
   },
   "file_extension": ".py",
   "mimetype": "text/x-python",
   "name": "python",
   "nbconvert_exporter": "python",
   "pygments_lexer": "ipython2",
   "version": "2.7.12"
  }
 },
 "nbformat": 4,
 "nbformat_minor": 0
}
