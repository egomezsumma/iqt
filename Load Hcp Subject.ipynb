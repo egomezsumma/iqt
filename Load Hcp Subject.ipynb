{
 "cells": [
  {
   "cell_type": "markdown",
   "metadata": {},
   "source": [
    "# Loading an HCP subject\n"
   ]
  },
  {
   "cell_type": "code",
   "execution_count": 35,
   "metadata": {
    "collapsed": false
   },
   "outputs": [
    {
     "name": "stdout",
     "output_type": "stream",
     "text": [
      "Populating the interactive namespace from numpy and matplotlib\n"
     ]
    }
   ],
   "source": [
    "import numpy as np\n",
    "import nibabel as nib\n",
    "from dipy.core.gradients import gradient_table\n",
    "%pylab inline\n",
    "from utils import img_utils\n",
    "import seaborn as sns\n",
    "import utils.math_utils as mu"
   ]
  },
  {
   "cell_type": "code",
   "execution_count": 52,
   "metadata": {
    "collapsed": false
   },
   "outputs": [],
   "source": [
    "def load_subject(index, numbers):\n",
    "    subject = str(numbers[index])\n",
    "    folder = './HCP/'+subject+'/'\n",
    "    img = nib.load(folder+ 'data_small_12x12x12x6_'+subject+'.nii.gz')\n",
    "    bvals = np.loadtxt(folder+ 'bvals_'+subject)\n",
    "    bvecs = np.loadtxt(folder+'bvecs_'+subject)\n",
    "    gtab = gradient_table(bvals=bvals, bvecs=bvecs)\n",
    "    return img, gtab"
   ]
  },
  {
   "cell_type": "code",
   "execution_count": 61,
   "metadata": {
    "collapsed": false
   },
   "outputs": [
    {
     "data": {
      "text/plain": [
       "<module 'matplotlib.pyplot' from '/user/lgomez/home/anaconda2/lib/python2.7/site-packages/matplotlib/pyplot.pyc'>"
      ]
     },
     "execution_count": 61,
     "metadata": {},
     "output_type": "execute_result"
    },
    {
     "data": {
      "image/png": "[encoded data removed]",
      "text/plain": [
       "<matplotlib.figure.Figure at 0x7f499becc690>"
      ]
     },
     "metadata": {},
     "output_type": "display_data"
    }
   ],
   "source": [
    "numbers = [100307, 100408, 180129,180432, 180836, 180937]\n",
    "index = 5\n",
    "img, gtab = load_subject(index, numbers)\n",
    "data_n=mu.normalize(img.get_data())\n",
    "img_utils._is(data_n, vmin=0, vmax=1)"
   ]
  },
  {
   "cell_type": "code",
   "execution_count": 24,
   "metadata": {
    "collapsed": false
   },
   "outputs": [
    {
     "name": "stdout",
     "output_type": "stream",
     "text": [
      "('unknown', 'unknown')\n",
      "0\n"
     ]
    }
   ],
   "source": [
    "hdr = img.header\n",
    "print hdr.get_xyzt_units()\n",
    "raw = hdr.structarr\n",
    "print raw['xyzt_units']\n",
    "\n",
    "#[x for x in dir(hdr) if '__' not in x]"
   ]
  },
  {
   "cell_type": "code",
   "execution_count": 25,
   "metadata": {
    "collapsed": false
   },
   "outputs": [
    {
     "data": {
      "text/plain": [
       "((288,), (3, 288))"
      ]
     },
     "execution_count": 25,
     "metadata": {},
     "output_type": "execute_result"
    }
   ],
   "source": [
    "bvals = np.loadtxt('./HCP/100307/bvals')\n",
    "bvecs = np.loadtxt('./HCP/100307/bvecs')\n",
    "\n",
    "bvals.shape, bvecs.shape"
   ]
  },
  {
   "cell_type": "code",
   "execution_count": 26,
   "metadata": {
    "collapsed": false
   },
   "outputs": [],
   "source": [
    "big_delta = 0.0365  # seconds\n",
    "small_delta = 0.0157  # seconds\n",
    "\"\"\"\n",
    "gtab = gradient_table(bvals=bvals, bvecs=bvecs,\n",
    "                      small_delta=big_delta,\n",
    "                      big_delta=small_delta)\n",
    "\"\"\"\n",
    "\n",
    "gtab = gradient_table(bvals=bvals[0:6], bvecs=bvecs[:, 0:6])\n"
   ]
  },
  {
   "cell_type": "code",
   "execution_count": 27,
   "metadata": {
    "collapsed": false
   },
   "outputs": [
    {
     "data": {
      "text/plain": [
       "((12, 12, 12, 6), (6, 3))"
      ]
     },
     "execution_count": 27,
     "metadata": {},
     "output_type": "execute_result"
    }
   ],
   "source": [
    "img.get_data().shape, gtab.bvecs.shape"
   ]
  },
  {
   "cell_type": "markdown",
   "metadata": {},
   "source": [
    "# testing the data"
   ]
  },
  {
   "cell_type": "code",
   "execution_count": 28,
   "metadata": {
    "collapsed": false
   },
   "outputs": [
    {
     "name": "stdout",
     "output_type": "stream",
     "text": [
      "(12, 12, 12, 6)\n"
     ]
    }
   ],
   "source": [
    "#import gc\n",
    "#from dipy.data import get_data\n",
    "#fimg, fbval, fbvec = get_data('small_101D')\n",
    "\n",
    "data = img.get_data()\n",
    "print data.shape\n",
    "\n",
    "#from dipy.io import read_bvals_bvecs\n",
    "#bvals, bvecs = read_bvals_bvecs(fbval, fbvec)\n",
    "\n",
    "#from dipy.core.gradients import gradient_table\n",
    "gtab = gradient_table(bvals=bvals[0:6], bvecs=bvecs[:,0:6])\n"
   ]
  },
  {
   "cell_type": "code",
   "execution_count": 44,
   "metadata": {
    "collapsed": false
   },
   "outputs": [
    {
     "data": {
      "text/plain": [
       "(array([ 26.,   6.,  20.,  50.,   7.,   7.,  10.,  10.,   4.,   4.]),\n",
       " array([     0.        ,   1242.51884766,   2485.03769531,   3727.55654297,\n",
       "          4970.07539063,   6212.59423828,   7455.11308594,   8697.63193359,\n",
       "          9940.15078125,  11182.66962891,  12425.18847656]),\n",
       " <a list of 10 Patch objects>)"
      ]
     },
     "execution_count": 44,
     "metadata": {},
     "output_type": "execute_result"
    },
    {
     "data": {
      "image/png": "[encoded data removed]",
      "text/plain": [
       "<matplotlib.figure.Figure at 0x7f499ba0db90>"
      ]
     },
     "metadata": {},
     "output_type": "display_data"
    }
   ],
   "source": [
    "#img_utils._is(data, vmax=100)\n",
    "data.min(), data.max(), data[:, 6, :, 0].min(), data[:, 6, :, 0].max()\n",
    "data_n = mu.normalize(data)\n",
    "hist(data[:, 6, :, 0].flatten())\n"
   ]
  },
  {
   "cell_type": "code",
   "execution_count": 50,
   "metadata": {
    "collapsed": false
   },
   "outputs": [
    {
     "data": {
      "text/plain": [
       "<module 'matplotlib.pyplot' from '/user/lgomez/home/anaconda2/lib/python2.7/site-packages/matplotlib/pyplot.pyc'>"
      ]
     },
     "execution_count": 50,
     "metadata": {},
     "output_type": "execute_result"
    },
    {
     "data": {
      "image/png": "[encoded data removed]",
      "text/plain": [
       "<matplotlib.figure.Figure at 0x7f499a494a50>"
      ]
     },
     "metadata": {},
     "output_type": "display_data"
    }
   ],
   "source": [
    "img_utils._is(data_n,y=12, vmin=0, vmax=1)"
   ]
  },
  {
   "cell_type": "code",
   "execution_count": 16,
   "metadata": {
    "collapsed": true
   },
   "outputs": [],
   "source": [
    "from dipy.reconst.dti import TensorModel\n",
    "ten = TensorModel(gtab)\n",
    "\n",
    "tenfit = ten.fit(data)\n",
    "\n",
    "from dipy.reconst.dti import fractional_anisotropy\n",
    "fa = fractional_anisotropy(tenfit.evals)\n",
    "\n",
    "from dipy.reconst.dti import color_fa\n",
    "RGB = color_fa(fa, tenfit.evecs)"
   ]
  },
  {
   "cell_type": "code",
   "execution_count": 17,
   "metadata": {
    "collapsed": false
   },
   "outputs": [],
   "source": [
    "cfa = RGB#[13:43, 44:74, 28:29]\n",
    "cfa /= cfa.max()\n",
    "\n",
    "\n",
    "from dipy.data import get_sphere\n",
    "sphere = get_sphere('symmetric724')\n",
    "\n",
    "from dipy.viz import fvtk\n",
    "ren = fvtk.ren()\n",
    "\n",
    "evals = tenfit.evals#[13:43, 44:74, 28:29]\n",
    "evecs = tenfit.evecs#[13:43, 44:74, 28:29]\n",
    "\n",
    "fvtk.add(ren, fvtk.tensor(evals, evecs, cfa, sphere))\n",
    "fvtk.show(ren)"
   ]
  },
  {
   "cell_type": "code",
   "execution_count": null,
   "metadata": {
    "collapsed": false
   },
   "outputs": [],
   "source": [
    "fvtk.show(ren)"
   ]
  }
 ],
 "metadata": {
  "kernelspec": {
   "display_name": "Python 2",
   "language": "python",
   "name": "python2"
  },
  "language_info": {
   "codemirror_mode": {
    "name": "ipython",
    "version": 2
   },
   "file_extension": ".py",
   "mimetype": "text/x-python",
   "name": "python",
   "nbconvert_exporter": "python",
   "pygments_lexer": "ipython2",
   "version": "2.7.12"
  }
 },
 "nbformat": 4,
 "nbformat_minor": 0
}
