{
 "cells": [
  {
   "cell_type": "markdown",
   "metadata": {},
   "source": [
    "# Optimizacion con MAPL + DicsBvals"
   ]
  },
  {
   "cell_type": "code",
   "execution_count": 69,
   "metadata": {
    "collapsed": false
   },
   "outputs": [
    {
     "name": "stdout",
     "output_type": "stream",
     "text": [
      "Populating the interactive namespace from numpy and matplotlib\n"
     ]
    }
   ],
   "source": [
    "%pylab inline\n",
    "import time\n",
    "import numpy as np\n",
    "import matplotlib.pyplot as plt\n",
    "from utils import img_utils\n",
    "import seaborn as sns\n",
    "import utils.math_utils as mat_utils\n",
    "#import nibabel as nib\n",
    "import mapmri.mapmri as mp\n",
    "#from dipy.core.gradients import gradient_table\n",
    "import cvxpy as cvx\n",
    "reload(img_utils)\n",
    "import load.hcp_img_loader as hcp"
   ]
  },
  {
   "cell_type": "code",
   "execution_count": 51,
   "metadata": {
    "collapsed": false
   },
   "outputs": [],
   "source": [
    "def get_sample(index, numbers, loader_func, bval=None, bvalpos=None,  scale=2):\n",
    "    img, gtab = loader_func(index, numbers, bval, bvalpos)\n",
    "    lr, lr_affine = img_utils.downsampling(img, scale)\n",
    "    return img.get_data(), lr\n",
    "\n",
    "def get_sample_maker(numbers, loader_func, bval=None, bvalpos=None, scale=2):\n",
    "    return lambda index : get_sample(index, numbers, loader_func, bval, bvalpos,  scale)\n",
    "\n",
    "def mm(A, cast_int=True):\n",
    "    if cast_int :\n",
    "        return (int(A.min()), int(A.max()))\n",
    "    else:\n",
    "        return (A.min(), A.max())\n",
    "    \n",
    "def buildT(sample_getter, n_samples):\n",
    "    noised_hr, noised_lr = sample_getter(0)\n",
    "    X = img_utils.column_this(noised_lr)\n",
    "    Y = img_utils.column_this(noised_hr)\n",
    "    for i in range(1, n_samples):\n",
    "        noised_hr, noised_lr = sample_getter(i)\n",
    "        X = img_utils.append_column(X, noised_lr)\n",
    "        Y = img_utils.append_column(Y, noised_hr)\n",
    "    return X, Y\n",
    "\n",
    "def buildT_grouping_by_q(sample_getter, n_samples, bvals):\n",
    "    \"\"\"\n",
    "    Genera tantos conjuntos de entrenamiento como \n",
    "    bvals distintos tenga el volumne\n",
    "    \"\"\"\n",
    "    hr, lr = sample_getter(0)\n",
    "    bs = bvals[0:hr.shape[3]]\n",
    "    #dicIndices = dict((b , [ i for i in xrange(len(bs)) if bs[i] == b] ) for b in bs)\n",
    "    #dicIndices = dict((i , [ i for i in xrange(len(bs)) if bs[i] == b] ) for b in bs)\n",
    "    \n",
    "    dicX = split_by_bval(lr, bs)\n",
    "    dicY = split_by_bval(hr, bs)\n",
    "    for i in range(1, n_samples):\n",
    "        hr, lr = sample_getter(i)\n",
    "        dicX = split_by_bval(lr, bs, dicX)\n",
    "        dicY = split_by_bval(hr, bs, dicY)\n",
    "    return dicX, dicY\n",
    "\n",
    "def split_by_bval(img, bvals, res=None):\n",
    "    \"\"\"\n",
    "    Dada una imagen separa la cuarta dimension segun su vbal\n",
    "    Y por cada una hace un vector columna\n",
    "    \"\"\"\n",
    "    if res is None:\n",
    "        res = dict((i, None) for i in xrange(len(bvals)))\n",
    "        \n",
    "    for b in xrange(len(bvals)):\n",
    "        XorY = res[b]\n",
    "        if XorY is None:\n",
    "            res[b] = img_utils.column_this(img[:,:,:,b])\n",
    "        else:\n",
    "            res[b] = img_utils.append_column(XorY, img[:,:,:,b])\n",
    "    return res\n",
    "\n",
    "    \n",
    "\n",
    "## Example of use\n",
    "#buildT(get_sample_maker(numbers, scale), n_samples)"
   ]
  },
  {
   "cell_type": "markdown",
   "metadata": {},
   "source": [
    "## Problem definition\n",
    "\n",
    "\n",
    "$ \\min_{Y^{hr},C} \\{ (\\sum_{b\\in bvals} ||G_{b}Y_{b}^{hr} - Y_{b}^{lr}||^2) + || Y^{lr} - S_0*\\phi*C||^2 + ||C||_{1} \\}$\n"
   ]
  },
  {
   "cell_type": "markdown",
   "metadata": {},
   "source": [
    "## MapMri"
   ]
  },
  {
   "cell_type": "code",
   "execution_count": 103,
   "metadata": {
    "collapsed": true
   },
   "outputs": [],
   "source": [
    "def getM(radial_order, mu, gtab, tau):\n",
    "    r'''Recovers the reconstructed signal for any qvalue array or\n",
    "        gradient table.\n",
    "        '''\n",
    "    qvals = np.sqrt(gtab.bvals / tau) / (2 * np.pi)\n",
    "    q = qvals[:, None] * gtab.bvecs\n",
    "    M = mp.mapmri_isotropic_phi_matrix(radial_order, mu[0], q)\n",
    "    return  M\n",
    "\n",
    "def get_mapl_params(gtab, radial_order = 4):\n",
    "    #Fiteo el model\n",
    "    map_model = mp.MapmriModel(gtab,\n",
    "                                radial_order=radial_order,\n",
    "                                laplacian_regularization=True,\n",
    "                                laplacian_weighting=0.2,\n",
    "                                anisotropic_scaling=False,\n",
    "                                dti_scale_estimation=False)\n",
    "    # Fiteo la data\n",
    "    #map_model_fit = map_model.fit(i_hr)\n",
    "    tau = map_model.tau\n",
    "    mu = map_model.mu\n",
    "    print 'mu.shape', mu.shape\n",
    "    M = getM(radial_order, mu, gtab, tau)\n",
    "    return M, tau, mu\n",
    "\n",
    "def mapl_predict(gtab, C_or_Cvec, M, tau, Nx=None, Ny=None, Nz=None):\n",
    "    \"\"\"\n",
    "       This method can be used to predit a given q-points (within gtab)\n",
    "       For a previous fited C or a cvxpy dual variable definition\n",
    "    \"\"\"\n",
    "    is_cvxpy = isinstance(C_or_Cvec, cvx.Variable)\n",
    "    print 'M.shape', M.shape, 'C.size', C_or_Cvec.size\n",
    "    Nb, Nc = M.shape\n",
    "    vhr, Nc = C_or_Cvec.shape if hasattr(C_or_Cvec, 'shape') else C_or_Cvec.size\n",
    "    #vhr = Nx*Ny*Nz\n",
    "    \n",
    "    Cvec = C_or_Cvec\n",
    "    if not is_cvxpy :\n",
    "        Cvec = C.reshape((vhr, Nc), order='F')\n",
    "         \n",
    "    if is_cvxpy :\n",
    "        E = (M * Cvec.T)\n",
    "    else:\n",
    "        E = np.dot(M, Cvec.T).T\n",
    "        \n",
    "    if not is_cvxpy :\n",
    "        print E.shape,(Nx, Ny, Nz, Nb) \n",
    "        E = E.reshape((Nx, Ny, Nz, Nb), order='F')\n",
    "    #else:\n",
    "    #    E = E.reshape(-1, order='F')\n",
    "        \n",
    "    return E\n",
    "\n",
    "\n",
    "def cvxpy_mapl(Yhr, gtab, M, tau, Nc):\n",
    "    Nx, Ny, Nz, bval = i_hr.shape\n",
    "    vhr = Nx*Ny*Nz\n",
    "    vhrb = vhr*bval\n",
    "    \n",
    "    # Image to fit\n",
    "    cvxC = cvx.Variable(vhr, Nc)\n",
    "\n",
    "    cvxMaplE = mapl_predict(gtab, cvxC, M, tau)\n",
    "    #print 'E.size', cvxE.size\n",
    "\n",
    "    # Hr image in row by b-val\n",
    "    YhrMapl = cvx.reshape(Yhr, vhr,bval).T\n",
    "    \n",
    "    ## objective\n",
    "    #obj = cvx.Minimize(cvx.sum_squares(cvxE-YhrMap) + alpha*cvx.norm1(cvxC))\n",
    "\n",
    "    return cvxMaplE, cvxC, YhrMapl\n",
    "    ## some constraints\n",
    "    # pos_cons =[ cvxM*cvxC[i,:].T >= 0  for i in xrange(vhr) ]\n",
    "    # max_cons =[ cvxM*cvxC[i,:].T*cvxS0[i] <= i_hr.max() for i in xrange(vhr) ]"
   ]
  },
  {
   "cell_type": "code",
   "execution_count": 60,
   "metadata": {
    "collapsed": false
   },
   "outputs": [
    {
     "name": "stdout",
     "output_type": "stream",
     "text": [
      "\n"
     ]
    }
   ],
   "source": [
    "def define_problem_with_mapl(i_lr, i_hr_shape, dic_G, M, tau, gtab, scale):\n",
    "    Nx, Ny, Nz, bval = i_hr_shape\n",
    "    _, Nc = M.shape\n",
    "    vlr = Nx*Ny*Nz/(scale**3)\n",
    "    vlrb = vlr*bval\n",
    "    vhr = Nx*Ny*Nz\n",
    "    vhrb = vhr*bval\n",
    "      \n",
    "    ## Hr volumes\n",
    "    Yhr = cvx.Variable(vhrb, 1)\n",
    "    Yhr.value = np.ones((vhrb, 1))*i_lr.mean()\n",
    "    \n",
    "    ## LR volumes\n",
    "    Ylr = cvx.Parameter(vlr*bval, 1, sign=\"positive\")\n",
    "    Ylr.value = i_lr.reshape((vlr*bval, 1), order='F')\n",
    "    \n",
    "    ## Downsamplings matrixs\n",
    "    G = dict((group, cvx.Parameter(*dic_G[group].shape)) for group in dic_G.keys())\n",
    "    for group in dic_G.keys():\n",
    "        G[group].value = dic_G[group]\n",
    "    \n",
    "    ## MAPL params\n",
    "    cvxMaplE, cvxC, YhrMapl = cvxpy_mapl(Yhr, gtab, M, tau, Nc)\n",
    "    \n",
    "    ## Mapl dual expression\n",
    "    cvxMaplDualExp = cvx.sum_squares(cvxMaplE-YhrMapl)\n",
    "    \n",
    "    ## Mapl weight\n",
    "    betha = cvx.Parameter(value=.23, sign='positive')\n",
    "    ## Sparcity weight\n",
    "    alpha = cvx.Parameter(value=.15, sign='positive')\n",
    "    ## Fidelity weight\n",
    "    gamma = cvx.Parameter(value=.62, sign='positive')\n",
    "    \n",
    "    #epsilon = cvx.Parameter(value=1, sign='positive')\n",
    "    #constraints = [cvxMaplDualExp <= epsilon]\n",
    "    \n",
    "    ## Fidelity expression\n",
    "    fidelity_list = []\n",
    "    for b in xrange(bval):\n",
    "        b_offset_hr, b_offset_lr = b*vhr, b*vlr\n",
    "        Yhr_b = Yhr[b_offset_hr:b_offset_hr+vhr]\n",
    "        Ylr_b = Ylr[b_offset_lr:b_offset_lr+vlr]\n",
    "        fid_b = cvx.sum_squares(G[b]*Yhr_b - Ylr_b)\n",
    "        fidelity_list.append(fid_b)\n",
    "    print '#fidelity sums =', len(fidelity_list)\n",
    "    cvxFidelityExp = sum(fidelity_list)\n",
    "    \n",
    "    # Form objective.\n",
    "    obj = cvx.Minimize(gamma*cvxFidelityExp + betha*cvxMaplDualExp + alpha*cvx.norm1(cvxC))\n",
    "    #obj = cvx.Minimize(cvxFidelityExp )\n",
    "\n",
    "    # Constraints\n",
    "    # constraints = [Yhr >= 0, mapl <= epsilon*vhr*bval]\n",
    "    constraints = []\n",
    "    \n",
    "    # Form and solve problem.\n",
    "    prob = cvx.Problem(obj, constraints)\n",
    "    \n",
    "    return prob, Yhr, Ylr, cvxC, G \n",
    "\n",
    "\"\"\"\n",
    "NOTAS:\n",
    " - la primera formulacion funciono bastante bien (con la sum de los sum_squears) fue \n",
    "   sacado el metodo para preservarlo\n",
    " - probe con la lista de constraints de mapl con igualdad dio todos infeasibles\n",
    "   (proximo a probar lo mismo con desigualdad a un epsilon en vez de igualdad)\n",
    " - \n",
    "   \n",
    "\"\"\"\n",
    "print"
   ]
  },
  {
   "cell_type": "code",
   "execution_count": 42,
   "metadata": {
    "collapsed": true
   },
   "outputs": [],
   "source": [
    "def solveMin(i_lr, i_hr_shape, dic_G, M, tau, gtab, scale=2, max_iters=1500, verbose=False):\n",
    "    Nx, Ny, Nz, Nb = i_hr_shape\n",
    "    Nb, Nc = M.shape\n",
    "    prob, Yhr, Ylr, cvxC, G = define_problem_with_mapl(\n",
    "                                i_lr, \n",
    "                                i_hr_shape, \n",
    "                                dic_G, \n",
    "                                M, tau,\n",
    "                                gtab,\n",
    "                                scale)\n",
    "     \n",
    "    start_time = time.time()\n",
    "    res = prob.solve(solver='SCS', max_iters=max_iters, eps=1.00e-01, verbose=verbose )  # Returns the optimal value.\n",
    "    seg = time.time() - start_time\n",
    "\n",
    "    minutes = int(seg / 60)\n",
    "    print(\"--- time of optimization : %d' %d'' ---\" % (minutes , seg%60))\n",
    "    print \"--- status:\", prob.status, \"optimal value\", prob.value\n",
    "    print \n",
    "\n",
    "    # Change dimension of result representation\n",
    "    C, A = None, None\n",
    "    if Yhr.value is None :\n",
    "        #Yhr.value = np.ones(i_hr_shape)\n",
    "        print 'FRECONSTRUCTION FAIL :('\n",
    "        A = np.zeros(i_hr_shape,dtype='float32')\n",
    "    else:    \n",
    "        A = np.asarray(Yhr.value, dtype='float32').reshape(i_hr_shape, order='F')\n",
    "        C = np.asarray(cvxC.value, dtype='float32').reshape((Nx, Ny, Nz, Nc), order='F')\n",
    " \n",
    "        \n",
    "    return A, C, seg, prob\n"
   ]
  },
  {
   "cell_type": "markdown",
   "metadata": {},
   "source": [
    "## Solving the problem and cross-validation (leave one out)"
   ]
  },
  {
   "cell_type": "code",
   "execution_count": 56,
   "metadata": {
    "collapsed": false
   },
   "outputs": [
    {
     "name": "stdout",
     "output_type": "stream",
     "text": [
      "== Leaving out: # 180937\n",
      "= Training and fiting ...\n",
      "mu.shape (3,)\n",
      "= Solving optimization problem ...\n",
      "M.shape (6, 22) C.size (1728, 22)\n",
      "----------------------------------------------------------------------------\n",
      "\tSCS v1.2.6 - Splitting Conic Solver\n",
      "\t(c) Brendan O'Donoghue, Stanford University, 2012-2016\n",
      "----------------------------------------------------------------------------\n",
      "Lin-sys: sparse-indirect, nnz in A = 2630030, CG tol ~ 1/iter^(2.00)\n",
      "eps = 1.00e-01, alpha = 1.50, max_iters = 1500, normalize = 1, scale = 1.00\n",
      "Variables n = 86407, constraints m = 87710\n",
      "Cones:\tlinear vars: 76032\n",
      "\tsoc vars: 11678, soc blks: 7\n",
      "Setup time: 9.12e-02s\n",
      "----------------------------------------------------------------------------\n",
      " Iter | pri res | dua res | rel gap | pri obj | dua obj | kap/tau | time (s)\n",
      "----------------------------------------------------------------------------\n",
      "     0|      inf       inf      -nan      -inf       inf       inf  3.12e-01 \n",
      "    20| 5.20e-02  3.61e-02  1.95e-02  2.27e+06  2.36e+06  3.54e-10  1.93e+00 \n",
      "----------------------------------------------------------------------------\n",
      "Status: Solved\n",
      "Timing: Solve time: 1.93e+00s\n",
      "\tLin-sys: avg # CG iterations: 7.95, avg solve time: 8.88e-02s\n",
      "\tCones: avg projection time: 7.15e-05s\n",
      "----------------------------------------------------------------------------\n",
      "Error metrics:\n",
      "dist(s, K) = 6.9849e-10, dist(y, K*) = 1.4211e-14, s'y/|s||y| = -3.0361e-17\n",
      "|Ax + s - b|_2 / (1 + |b|_2) = 5.2036e-02\n",
      "|A'y + c|_2 / (1 + |c|_2) = 3.6109e-02\n",
      "|c'x + b'y| / (1 + |c'x| + |b'y|) = 1.9529e-02\n",
      "----------------------------------------------------------------------------\n",
      "c'x = 2267070.8129, -b'y = 2357383.1482\n",
      "============================================================================\n",
      "--- time of optimization : 0' 4'' ---\n",
      "--- status: optimal optimal value 2267070.81286\n",
      "\n",
      "= Calculating metrics...\n",
      "\n",
      "\n",
      " === TOTAL TIME : 0' 4\"\n"
     ]
    }
   ],
   "source": [
    "from scipy.sparse import csr_matrix\n",
    "import experimento1_funciones as e1f\n",
    "reload(e1f)\n",
    "\n",
    "RES_BASE_FOLDER = './resultados/exp5/'\n",
    "VMIN, VMAX=-50, 2500\n",
    "\n",
    "voi_hr_shape = (12, 12, 12, 6)\n",
    "voi_lr_shape = (6, 6, 6, 6)\n",
    "subjects = [100307, 100408, 180129, 180432, 180836, 180937]\n",
    "bvals2000pos = [18, 27, 69, 75, 101, 107]\n",
    "\n",
    "# Esto es por si quiero alguna S0\n",
    "#img_s0, gtab_s0 = load_subject_small(0, subjects, bval=5, bvalpos=bvals5pos[0:6])\n",
    "#i_hr=img.get_data()\n",
    "#S0 = img_s0.get_data()\n",
    "\n",
    "# Esto es para quedame con la gtab que es igua a todos\n",
    "#img, gtab = hcp.load_subject_small(0 , subjects)\n",
    "img, gtab = hcp.load_subject_small(0, subjects, bval=2000, bvalpos=bvals2000pos)\n",
    "del img\n",
    "\n",
    "## Con imagenes pequenas multi-shel\n",
    "#sample_maker = get_sample_maker(subjects, hcp.load_subject_small, scale=2)\n",
    "## Con imagenes pequenas single-shel\n",
    "loader_func = hcp.load_subject_small\n",
    "sample_maker = get_sample_maker(subjects, loader_func, scale=2)\n",
    "\n",
    "\n",
    "n_samples = 3\n",
    "iterations = 1\n",
    "\n",
    "# Metrics to save\n",
    "min_vals_hr_r = []\n",
    "max_vals_hr_r = []\n",
    "min_vals_lr_r = []\n",
    "max_vals_lr_r = []\n",
    "\n",
    "dif_norm_hrs=[]\n",
    "dif_norm_lrs=[]    \n",
    "Yhr_recons_norms=[]\n",
    "Ylr_recons_norms=[]  \n",
    "Yhr_norms=[]\n",
    "Ylr_norms=[]\n",
    "times = []\n",
    "optimal_vals = []\n",
    "\n",
    "## For save results\n",
    "# base_folder = RES_BASE_FOLDER\n",
    "## For NOT save results\n",
    "base_folder = None\n",
    "\n",
    "for i in range(0, iterations):\n",
    "    subject = str(subjects[len(subjects)-1])\n",
    "    print '== Leaving out: #', subject\n",
    "    \n",
    "    ### Aca shiftear el arreglo de sujetos (train deja el ultimo afuera del entrenamiento)\n",
    "    subjects.append(subjects.pop(0))\n",
    "    lr_samples, hr_samples = buildT_grouping_by_q(sample_maker, n_samples, gtab.bvals) #lr, hr\n",
    "\n",
    "    #lr_samples, hr_samples = lr_samples/1589, hr_samples/1589\n",
    "    #print 'SAMPLES min/max ', lr_samples.min(),lr_samples.max(),  hr_samples.min(), hr_samples.max()\n",
    "    \n",
    "    # Build downsampling matrix\n",
    "    print '= Training and fiting ...'\n",
    "    regr, hr_train , lr_train, hr_test, lr_test = e1f.train_grouping_by_b(hr_samples, lr_samples)\n",
    "    G = dict((b,csr_matrix(regr[b].coef_)) for b in regr.keys())\n",
    "    #regr.coef_ = csr_matrix(regr.coef_)\n",
    "    \n",
    "    # Reshape the one that left out to validate\n",
    "    the_one_out = len(subjects)-1\n",
    "    i_hr, i_lr = get_sample(the_one_out, subjects, loader_func, scale=2)\n",
    "    #i_lr = lr_test.reshape(voi_lr_shape, order='F')\n",
    "    #i_hr = hr_test.reshape(voi_hr_shape, order='F')\n",
    "    \n",
    "    # Mapl params\n",
    "    M, tau, mu = get_mapl_params(gtab, radial_order = 4)\n",
    "    \n",
    "    # Minimization solve\n",
    "    # mock: A, seg = np.ones(i_hr.shape), 20\n",
    "    print '= Solving optimization problem ...'\n",
    "    A, C, seg, prob = solveMin(i_lr, i_hr.shape, G, M, tau, gtab, scale=2, max_iters=1500, verbose=True)\n",
    "    max_vals_hr_r.append(A.max())\n",
    "    min_vals_hr_r.append(A.min())\n",
    "    \n",
    "    nx, ny, nz, nb = i_lr.shape\n",
    "    B = np.zeros((nx, ny, nz, nb))\n",
    "    for b in xrange(nb):\n",
    "        B[:,:,:,b] = (G[b]*i_hr[:,:,:,b].reshape(-1, order='F')).reshape((nx, ny, nz), order='F')\n",
    "    max_vals_lr_r.append(B.max())\n",
    "    min_vals_lr_r.append(B.min())\n",
    "    \n",
    "    # Keep parameters\n",
    "    print '= Calculating metrics...'\n",
    "    dif_norm_hr = np.linalg.norm(i_hr-A) # recons-gtrust\n",
    "    Yhr_norm = np.linalg.norm(i_hr)\n",
    "    Yhr_recons_norm = np.linalg.norm(A) #recons\n",
    "    \n",
    "    dif_norm_lr = np.linalg.norm(i_lr-B)\n",
    "    Ylr_norm = np.linalg.norm(B)\n",
    "    Ylr_recons_norm = np.linalg.norm(B)\n",
    "    \n",
    "    dif_norm_hrs.append(dif_norm_hr)\n",
    "    dif_norm_lrs.append(dif_norm_lr)\n",
    "    \n",
    "    Yhr_recons_norms.append(Yhr_recons_norm)\n",
    "    Ylr_recons_norms.append(Ylr_recons_norm)\n",
    "    \n",
    "    Yhr_norms.append(Yhr_norm)\n",
    "    Ylr_norms.append(Ylr_norm)\n",
    "    \n",
    "    times.append(seg)\n",
    "    optimal_vals.append(prob.value)\n",
    "\n",
    "    # Save the A calculated\n",
    "    if base_folder is not None:\n",
    "        name = base_folder+ \"A/\" + 'hrRec_lo' + subject\n",
    "        np.save(name, A)\n",
    "        print 'showing hr '+ subject, 'min, max',(A.min(), A.max()) \n",
    "        titles=['Reconstruida', 'Original']\n",
    "        for b in xrange(6):\n",
    "            plt = img_utils._isc(A, i_hr,b=b ,titles=titles,  vmax=VMAX, vmin=VMIN)\n",
    "            plt.savefig(name +'b'+str(b)+'.pdf')\n",
    "        print 'saved A in: ', name + str('.npy')\n",
    "        \n",
    "    # Save the B calculated\n",
    "    if base_folder is not None:\n",
    "        name = base_folder + 'lrRec_lo' + subject\n",
    "        np.save(name, B)\n",
    "        print 'showing lr '+ subject, 'min, max',(B.min(), B.max()) \n",
    "        titles=['Reconstruida', 'Original']\n",
    "        plt = img_utils._isc(B, i_lr, titles=titles,  vmax=VMAX, vmin=VMIN)\n",
    "        plt.savefig(name + '.pdf')\n",
    "        print 'saved A in: ', name + str('.npy')\n",
    "        \n",
    "    print\n",
    "    print\n",
    "\n",
    "# Log spended\n",
    "total_sec = np.array(times).sum()\n",
    "print ' === TOTAL TIME :',  str(int(total_sec//60))+\"'\", str(int(total_sec%60))+ '\"'\n",
    "\n",
    "# Persist results\n",
    "if base_folder is not None: \n",
    "    np.save(base_folder+ 'dif_norm_hrs', dif_norm_hrs)\n",
    "    np.save(base_folder+ 'dif_norm_lrs', dif_norm_lrs)\n",
    "    np.save(base_folder+ 'Yhr_recons_norms', Yhr_recons_norms)\n",
    "    np.save(base_folder+ 'Ylr_recons_norms', dif_norm_hrs)\n",
    "    np.save(base_folder+ 'Yhr_norms', dif_norm_lrs)\n",
    "    np.save(base_folder+ 'Ylr_norms', Yhr_recons_norms)\n",
    "    \n",
    "    np.save(base_folder+ 'max_vals_hr_r', max_vals_hr_r)\n",
    "    np.save(base_folder+ 'min_vals_hr_r', min_vals_hr_r)\n",
    "    np.save(base_folder+ 'max_vals_lr_r', max_vals_hr_r)\n",
    "    np.save(base_folder+ 'min_vals_lr_r', min_vals_hr_r)\n",
    "    \n",
    "    np.save(base_folder+ 'times' , times)\n",
    "    np.save(base_folder+ 'optimal_vals', optimal_vals)\n"
   ]
  },
  {
   "cell_type": "code",
   "execution_count": 61,
   "metadata": {
    "collapsed": false
   },
   "outputs": [
    {
     "data": {
      "text/plain": [
       "<module 'matplotlib.pyplot' from '/user/lgomez/home/anaconda2/lib/python2.7/site-packages/matplotlib/pyplot.pyc'>"
      ]
     },
     "execution_count": 61,
     "metadata": {},
     "output_type": "execute_result"
    },
    {
     "data": {
      "image/png": "[encoded data removed]",
      "text/plain": [
       "<matplotlib.figure.Figure at 0x7f9c6f4c4cd0>"
      ]
     },
     "metadata": {},
     "output_type": "display_data"
    }
   ],
   "source": [
    "img_utils._is(B, b=0, vmax=B.max(), vmin=B.min())"
   ]
  },
  {
   "cell_type": "code",
   "execution_count": 58,
   "metadata": {
    "collapsed": false
   },
   "outputs": [
    {
     "name": "stdout",
     "output_type": "stream",
     "text": [
      "recons (-8040.127, 1143.3719, 28406.824)\n",
      "orig (0.0, 1515.9221, 13620.414)\n",
      "con la primer forma de tvnorm\n",
      "dif_norm_hrs [268950.41]\n",
      "dif_norm_lrs [46087.348802070519]\n",
      "Yhr_recons_norms [279723.12]\n",
      "Ylr_recons_norms [75886.936960385588]\n",
      "Yhr_norms [252462.7]\n",
      "Ylr_norms [75886.936960385588]\n",
      "times [4.238785982131958]\n",
      "optimal_vals [2267070.812859458]\n"
     ]
    },
    {
     "data": {
      "image/png": "[encoded data removed]",
      "text/plain": [
       "<matplotlib.figure.Figure at 0x7f9c77b056d0>"
      ]
     },
     "metadata": {},
     "output_type": "display_data"
    }
   ],
   "source": [
    "img_utils._isc(A, i_hr, b=4, vmax=max(i_hr.max(), A.max()), vmin=min(i_hr.min(),A.min()))\n",
    "\n",
    "#img_utils._is(A, vmin=A.min(), vmax=A.max())\n",
    "print 'recons', (A.min(), A.mean(), A.max())\n",
    "print 'orig',(i_hr.min(), i_hr.mean(), i_hr.max())\n",
    "#G.shape\n",
    "\n",
    "print 'con la primer forma de tvnorm'\n",
    "print 'dif_norm_hrs', dif_norm_hrs\n",
    "print 'dif_norm_lrs', dif_norm_lrs   \n",
    "print 'Yhr_recons_norms', Yhr_recons_norms\n",
    "print 'Ylr_recons_norms', Ylr_recons_norms\n",
    "print 'Yhr_norms', Yhr_norms\n",
    "print 'Ylr_norms', Ylr_norms\n",
    "print 'times',times\n",
    "print 'optimal_vals', optimal_vals"
   ]
  },
  {
   "cell_type": "code",
   "execution_count": 62,
   "metadata": {
    "collapsed": false
   },
   "outputs": [
    {
     "data": {
      "text/plain": [
       "<module 'matplotlib.pyplot' from '/user/lgomez/home/anaconda2/lib/python2.7/site-packages/matplotlib/pyplot.pyc'>"
      ]
     },
     "execution_count": 62,
     "metadata": {},
     "output_type": "execute_result"
    },
    {
     "data": {
      "image/png": "[encoded data removed]",
      "text/plain": [
       "<matplotlib.figure.Figure at 0x7f9c71022790>"
      ]
     },
     "metadata": {},
     "output_type": "display_data"
    }
   ],
   "source": [
    "img_utils._isc(B, i_lr, b=4, vmax=max(i_lr.max(), B.max()), vmin=min(i_lr.min(),B.min()))\n"
   ]
  },
  {
   "cell_type": "markdown",
   "metadata": {},
   "source": [
    "# HR Testing reconstruction \n"
   ]
  },
  {
   "cell_type": "code",
   "execution_count": 59,
   "metadata": {
    "collapsed": false
   },
   "outputs": [
    {
     "name": "stdout",
     "output_type": "stream",
     "text": [
      "(12, 12, 12)\n"
     ]
    },
    {
     "data": {
      "text/plain": [
       "<matplotlib.colorbar.Colorbar at 0x7f9c710be4d0>"
      ]
     },
     "execution_count": 59,
     "metadata": {},
     "output_type": "execute_result"
    },
    {
     "data": {
      "image/png": "[encoded data removed]",
      "text/plain": [
       "<matplotlib.figure.Figure at 0x7f9c71493990>"
      ]
     },
     "metadata": {},
     "output_type": "display_data"
    }
   ],
   "source": [
    "mse = ((A-i_hr)**2).mean(axis=3)\n",
    "print mse.shape\n",
    "\n",
    "reload(img_utils)\n",
    "plt, _, _, im3 = img_utils._isc3(A, i_hr, mse,  b=4, vmax=[3000,374942], vmin=[0, 300])\n",
    "plt.colorbar(im3,fraction=0.056, pad=0.04)"
   ]
  },
  {
   "cell_type": "markdown",
   "metadata": {},
   "source": [
    "# LR Testing reconstruction\n",
    "\n",
    "$ G*Yhr = Yhr^* $"
   ]
  },
  {
   "cell_type": "code",
   "execution_count": 110,
   "metadata": {
    "collapsed": false
   },
   "outputs": [],
   "source": [
    "def errrel_layers(A, B):\n",
    "    err_rel = np.zeros(A.shape)\n",
    "    for b in xrange(A.shape[3]):\n",
    "        err_rel[:,:,:,b] = np.divide(np.abs(A[:,:,:,b]-B[:,:,:,b]), B[:,:,:,b]+0.01)\n",
    "    return err_rel\n",
    "    "
   ]
  },
  {
   "cell_type": "code",
   "execution_count": 111,
   "metadata": {
    "collapsed": false
   },
   "outputs": [
    {
     "name": "stdout",
     "output_type": "stream",
     "text": [
      "(6, 6, 6, 6) mse: (0, 22) 0.606745266942 1.49415870256 B: (129, 11659) i_lr: (73, 12425)\n"
     ]
    },
    {
     "data": {
      "text/plain": [
       "<matplotlib.colorbar.Colorbar at 0x7f9c6b9a1290>"
      ]
     },
     "execution_count": 111,
     "metadata": {},
     "output_type": "execute_result"
    },
    {
     "data": {
      "image/png": "[encoded data removed]",
      "text/plain": [
       "<matplotlib.figure.Figure at 0x7f9c6be81bd0>"
      ]
     },
     "metadata": {},
     "output_type": "display_data"
    }
   ],
   "source": [
    "mse_lr = errrel_layers(B,i_lr)\n",
    "#mse_lr = ((mat_utils.normalize(B)-mat_utils.normalize(i_lr))**2).mean(axis=3)\n",
    "#mse_lr = ((np.divide(B-i_lr, i_lr))**2).mean(axis=3)\n",
    "print mse_lr.shape, 'mse:',mm(mse_lr), mse_lr.mean(), np.std(mse_lr), 'B:',mm(B),'i_lr:', mm(i_lr)\n",
    "\n",
    "reload(img_utils)\n",
    "plt, _, _, im3 = img_utils._isc3(B, i_lr, mse_lr,  b=4, vmin=[73, 0], vmax=[12000,2],)\n",
    "plt.colorbar(im3,fraction=0.056, pad=0.04)"
   ]
  },
  {
   "cell_type": "markdown",
   "metadata": {},
   "source": [
    "# Testing Mapl reconstruction"
   ]
  },
  {
   "cell_type": "code",
   "execution_count": 118,
   "metadata": {
    "collapsed": false
   },
   "outputs": [
    {
     "name": "stdout",
     "output_type": "stream",
     "text": [
      "M.shape (6, 22) C.size 38016\n",
      "(1728, 6) (12, 12, 12, 6)\n",
      "(0, 21230)\n",
      "Error relativo max,min u std (0, 38) 1 1\n"
     ]
    },
    {
     "data": {
      "text/plain": [
       "'\\nMAPL SALE PAL TRASTE PORQ \\n'"
      ]
     },
     "execution_count": 118,
     "metadata": {},
     "output_type": "execute_result"
    },
    {
     "data": {
      "image/png": "[encoded data removed]",
      "text/plain": [
       "<matplotlib.figure.Figure at 0x7f9c6dcb3ad0>"
      ]
     },
     "metadata": {},
     "output_type": "display_data"
    }
   ],
   "source": [
    "Nx, Ny, Nz, Nb = i_hr.shape\n",
    "Nb, Nc =  M.shape\n",
    "Eq_reconst = mapl_predict(gtab, C.reshape((Nx*Ny*Nz, Nc), order='F'), M, tau, Nx, Ny, Nz)\n",
    "\n",
    "\n",
    "err = np.abs(Eq_reconst - i_hr)\n",
    "err_rel = np.divide(err, i_hr+1)#para q no de infinito\n",
    "\n",
    "print mm(err) \n",
    "print 'Error relativo max,min u std', mm(err_rel), int(err_rel.mean()), \\\n",
    "                                      int(np.std(err_rel)) \n",
    "\n",
    "#img_utils._isc(i_hr, Eq_reconst,b=b, vmin=0, vmax=i_hr.max(), titles=['i_hr', 'cvxpy'])\n",
    "img_utils._isc( mat_utils.normalize(i_hr), mat_utils.normalize(Eq_reconst),b=b, vmin=0, vmax=1, titles=['i_hr', 'cvxpy'])\n",
    "mm(i_hr), mm(Eq_reconst)\n",
    "\n",
    "\"\"\"\n",
    "MAPL SALE PAL TRASTE PORQ \n",
    "precisa mas de 6 puntos \n",
    "- probar con menos orden \n",
    "- probar con minimo 40 puntos y q dios ayude a la compu!!!\n",
    "\n",
    "\"\"\"\n"
   ]
  },
  {
   "cell_type": "code",
   "execution_count": null,
   "metadata": {
    "collapsed": true
   },
   "outputs": [],
   "source": []
  }
 ],
 "metadata": {
  "kernelspec": {
   "display_name": "Python 2",
   "language": "python",
   "name": "python2"
  },
  "language_info": {
   "codemirror_mode": {
    "name": "ipython",
    "version": 2
   },
   "file_extension": ".py",
   "mimetype": "text/x-python",
   "name": "python",
   "nbconvert_exporter": "python",
   "pygments_lexer": "ipython2",
   "version": "2.7.12"
  }
 },
 "nbformat": 4,
 "nbformat_minor": 0
}
