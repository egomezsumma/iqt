{
 "cells": [
  {
   "cell_type": "markdown",
   "metadata": {
    "collapsed": true
   },
   "source": [
    "# Optimization with CVWPY "
   ]
  },
  {
   "cell_type": "code",
   "execution_count": 100,
   "metadata": {
    "collapsed": false
   },
   "outputs": [
    {
     "name": "stdout",
     "output_type": "stream",
     "text": [
      "Populating the interactive namespace from numpy and matplotlib\n"
     ]
    },
    {
     "name": "stderr",
     "output_type": "stream",
     "text": [
      "WARNING: pylab import has clobbered these variables: ['plt']\n",
      "`%matplotlib` prevents importing * from pylab and numpy\n"
     ]
    }
   ],
   "source": [
    "%pylab inline\n",
    "import time\n",
    "import numpy as np\n",
    "import cvxpy as cvx\n",
    "import matplotlib.pyplot as plt\n",
    "from utils import img_utils\n",
    "import seaborn as sns\n",
    "import utils.math_utils as mu"
   ]
  },
  {
   "cell_type": "code",
   "execution_count": 2,
   "metadata": {
    "collapsed": false
   },
   "outputs": [
    {
     "data": {
      "text/plain": [
       "<module 'utils.img_utils' from 'utils/img_utils.pyc'>"
      ]
     },
     "execution_count": 2,
     "metadata": {},
     "output_type": "execute_result"
    }
   ],
   "source": [
    "reload(img_utils)"
   ]
  },
  {
   "cell_type": "markdown",
   "metadata": {},
   "source": [
    "## Load DWI"
   ]
  },
  {
   "cell_type": "code",
   "execution_count": 2,
   "metadata": {
    "collapsed": false
   },
   "outputs": [
    {
     "name": "stderr",
     "output_type": "stream",
     "text": [
      "/user/lgomez/home/anaconda2/lib/python2.7/site-packages/skimage/filter/__init__.py:6: skimage_deprecation: The `skimage.filter` module has been renamed to `skimage.filters`.  This placeholder module will be removed in v0.13.\n",
      "  warn(skimage_deprecation('The `skimage.filter` module has been renamed '\n"
     ]
    },
    {
     "name": "stdout",
     "output_type": "stream",
     "text": [
      "Dataset is already in place. If you want to fetch it again please first remove the folder /user/lgomez/home/.dipy/stanford_hardi \n",
      "Dataset is already in place. If you want to fetch it again please first remove the folder /user/lgomez/home/.dipy/stanford_hardi \n"
     ]
    }
   ],
   "source": [
    "from utils.DataGetter import DataGetter\n",
    "from utils.DownsampledImage import DownsampledImage\n",
    "\n",
    "d = DataGetter()\n",
    "datas_names = [\n",
    "    DataGetter.STANDFORD_HARDI_DATA, #(81, 106, 76, 160)\n",
    "    #DataGetter.TAIWAN_NTU_DSI_DATA,  #(96, 96, 60, 203)\n",
    "    #DataGetter.SHERBROOKE_3SHELL_DATA #(128, 128, 60, 193)\n",
    "]\n",
    "\n",
    "scale=2\n",
    "datas = d.get_data(datas_names)\n",
    "name = datas_names[0]\n",
    "gtab = datas[name]['gtab']\n",
    "\n",
    "lr_hr_img = DownsampledImage(name, datas[name]['img'], gtab, scale)\n",
    "\n",
    "img_hr = lr_hr_img.get_hr_img().astype(float)\n",
    "img_lr = lr_hr_img.get_lr_img().astype(float)\n",
    "    "
   ]
  },
  {
   "cell_type": "markdown",
   "metadata": {},
   "source": [
    "## Select Area of Interest"
   ]
  },
  {
   "cell_type": "code",
   "execution_count": null,
   "metadata": {
    "collapsed": true
   },
   "outputs": [],
   "source": [
    "img_shape = img_lr.shape\n",
    "x0,xf, y0,yf, z0,zf = volume_range_lr = (22, 28, 15, 21, 23, 29)\n",
    "b0, bf = bval_range = (10,16)\n",
    "gdirections = lr_hr_img.gtab.bvecs[b0:bf]\n",
    "\n",
    "# Type and intensiti of noise to apply\n",
    "SNR, SNR_TYPE = 25, 'gaussian'\n",
    "\n",
    "#img_hr[2*x0:2*xf, 2*y0:2*yf, 2*z0:2*zf, b0:bf] = (img_hr[2*x0:2*xf, y0, 2*z0:2*zf, b0:bf].max())*np.ones((12,12,12,6))\n",
    "\n",
    "i_lr = img_lr[x0:xf, y0:yf, z0:zf, b0:bf]\n",
    "i_hr = img_hr[2*x0:2*xf, 2*y0:2*yf, 2*z0:2*zf, b0:bf]\n"
   ]
  },
  {
   "cell_type": "code",
   "execution_count": 113,
   "metadata": {
    "collapsed": true
   },
   "outputs": [],
   "source": [
    "## Save i_hr ##\n",
    "np.save('./resultados/i_hr', i_hr)\n",
    "np.save('./resultados/i_lr', i_lr)\n"
   ]
  },
  {
   "cell_type": "code",
   "execution_count": 3,
   "metadata": {
    "collapsed": false
   },
   "outputs": [
    {
     "data": {
      "text/plain": [
       "('b=2000, G directions =',\n",
       " array([[  2.18280000e-02,   8.02420000e-01,  -5.96360000e-01],\n",
       "        [ -1.54250000e-02,   2.20980000e-01,   9.75160000e-01],\n",
       "        [ -7.09180000e-01,  -6.31060000e-04,  -7.05030000e-01],\n",
       "        [ -2.46500000e-01,   1.04300000e-01,  -9.63510000e-01],\n",
       "        [ -4.83470000e-01,   4.39100000e-01,  -7.57260000e-01],\n",
       "        [  1.51030000e-01,   9.65230000e-01,   2.13360000e-01]]))"
      ]
     },
     "execution_count": 3,
     "metadata": {},
     "output_type": "execute_result"
    },
    {
     "data": {
      "image/png": "[encoded data removed]",
      "text/plain": [
       "<matplotlib.figure.Figure at 0x7ff1c84f24d0>"
      ]
     },
     "metadata": {},
     "output_type": "display_data"
    }
   ],
   "source": [
    "img_utils._isc(i_hr,i_lr,titles=['Orig '+ str(i_hr.shape), 'Downsam... '+str(i_lr.shape)] )\n",
    "'b=2000, G directions =', gdirections\n"
   ]
  },
  {
   "cell_type": "code",
   "execution_count": 112,
   "metadata": {
    "collapsed": false
   },
   "outputs": [
    {
     "data": {
      "image/png": "[encoded data removed]",
      "text/plain": [
       "<matplotlib.figure.Figure at 0x7ff141bd3a90>"
      ]
     },
     "metadata": {},
     "output_type": "display_data"
    },
    {
     "name": "stdout",
     "output_type": "stream",
     "text": [
      "(81, 12, 76) y= 6\n",
      "HR max,min 989.0 56.3402134135 79.521167049\n"
     ]
    }
   ],
   "source": [
    "reload(img_utils)\n",
    "reload(plt)\n",
    "rect_hr = 2*z0, 2*x0, 2*xf-2*x0, 2*zf-2*z0\n",
    "\n",
    "res=img_utils._iswr(img_hr[:,2*y0:2*yf,:,0],  rect_hr, b=1,title='Orig '+ str(i_hr.shape), vmax=2500)\n",
    "#res[1].savefig('/user/lgomez/home/Documents/tesis/optimizacion/img/hardi.pdf')\n",
    "print 'HR max,min', img_hr[:,:,:,10:16].max(), img_hr[:,:,:,10:16].mean(), np.std(img_hr[:,:,:,10:16])\n",
    "#print rect_hr"
   ]
  },
  {
   "cell_type": "code",
   "execution_count": 110,
   "metadata": {
    "collapsed": false
   },
   "outputs": [
    {
     "data": {
      "image/png": "[encoded data removed]",
      "text/plain": [
       "<matplotlib.figure.Figure at 0x7ff144d71790>"
      ]
     },
     "metadata": {},
     "output_type": "display_data"
    },
    {
     "name": "stdout",
     "output_type": "stream",
     "text": [
      "(41, 6, 38) y= 3\n",
      "LR max,min 0.0 12067.0\n",
      "(23, 22, 6, 6)\n"
     ]
    }
   ],
   "source": [
    "reload(img_utils)\n",
    "\n",
    "rect_lr = z0, x0, xf-x0, zf-z0\n",
    "\n",
    "res =img_utils._iswr(img_lr[:,y0:yf,:,0], rect_lr,b=1, title='Sub muestro '+str(i_lr.shape), vmax=2500)\n",
    "#res[1].savefig('/user/lgomez/home/Documents/tesis/optimizacion/img/downsampling.pdf')\n",
    "print 'LR max,min', img_lr.min(), img_lr.max()\n",
    "print rect_lr"
   ]
  },
  {
   "cell_type": "code",
   "execution_count": 24,
   "metadata": {
    "collapsed": false
   },
   "outputs": [
    {
     "data": {
      "text/plain": [
       "<matplotlib.colorbar.Colorbar at 0x7f66ec7edc50>"
      ]
     },
     "execution_count": 24,
     "metadata": {},
     "output_type": "execute_result"
    },
    {
     "data": {
      "image/png": "[encoded data removed]",
      "text/plain": [
       "<matplotlib.figure.Figure at 0x7f66ecc361d0>"
      ]
     },
     "metadata": {},
     "output_type": "display_data"
    }
   ],
   "source": [
    "import scipy.ndimage.filters as fil\n",
    "\n",
    "imgd = np.rot90(mu.normalize(fil.laplace(img_hr[:,img_hr.shape[1]/2,:,0])))\n",
    "\n",
    "imshow(1-imgd, interpolation='none')\n",
    "colorbar()\n"
   ]
  },
  {
   "cell_type": "markdown",
   "metadata": {},
   "source": [
    "# Predicting the G downsampling Matrix"
   ]
  },
  {
   "cell_type": "markdown",
   "metadata": {},
   "source": [
    "## Training set generator"
   ]
  },
  {
   "cell_type": "code",
   "execution_count": 121,
   "metadata": {
    "collapsed": false
   },
   "outputs": [],
   "source": [
    "from dipy.sims import phantom\n",
    "\n",
    "def buildT(i_hr, snr, snr_type, n_samples):\n",
    "    noised_hr = phantom.add_noise(i_hr, snr=snr, noise_type=SNR_TYPE)\n",
    "    noised_lr = img_utils.downsampling2(noised_img, scale)\n",
    "    X = img_utils.column_this(noised_lr)\n",
    "    Y = img_utils.column_this(noised_hr)\n",
    "    for i in range(1, n_samples):\n",
    "        noised_hr = phantom.add_noise(i_hr, snr=snr, noise_type=SNR_TYPE)\n",
    "        noised_lr = img_utils.downsampling2(noised_img, scale)\n",
    "        X = img_utils.append_column(X, noised_lr)\n",
    "        Y = img_utils.append_column(Y, noised_hr)\n",
    "    return X, Y"
   ]
  },
  {
   "cell_type": "markdown",
   "metadata": {},
   "source": [
    "## Build a traininset $T^{snr}$"
   ]
  },
  {
   "cell_type": "code",
   "execution_count": 11,
   "metadata": {
    "collapsed": false
   },
   "outputs": [
    {
     "name": "stdout",
     "output_type": "stream",
     "text": [
      "(12, 12, 12, 6) y= 6\n"
     ]
    },
    {
     "data": {
      "text/plain": [
       "<module 'matplotlib.pyplot' from '/user/lgomez/home/anaconda2/lib/python2.7/site-packages/matplotlib/pyplot.pyc'>"
      ]
     },
     "execution_count": 11,
     "metadata": {},
     "output_type": "execute_result"
    },
    {
     "data": {
      "image/png": "[encoded data removed]",
      "text/plain": [
       "<matplotlib.figure.Figure at 0x7ff145187e90>"
      ]
     },
     "metadata": {},
     "output_type": "display_data"
    }
   ],
   "source": [
    "n_samples = 10\n",
    "X, Y = buildT(i_hr, SNR, SNR_TYPE, n_samples)\n",
    "\n",
    "# Show one of samples\n",
    "img_utils._is(Y[:, 1].reshape(i_hr.shape), b=1)"
   ]
  },
  {
   "cell_type": "code",
   "execution_count": 6,
   "metadata": {
    "collapsed": false
   },
   "outputs": [
    {
     "data": {
      "text/plain": [
       "<module 'utils.dmri_patch_operations.DmriPatch' from 'utils/dmri_patch_operations/DmriPatch.pyc'>"
      ]
     },
     "execution_count": 6,
     "metadata": {},
     "output_type": "execute_result"
    }
   ],
   "source": [
    "reload(rr)\n",
    "reload(sc)\n",
    "reload(db)\n",
    "reload(ixs)\n",
    "import utils.dmri_patch_operations.DmriPatch as patchs\n",
    "reload(patchs)"
   ]
  },
  {
   "cell_type": "code",
   "execution_count": 117,
   "metadata": {
    "collapsed": false
   },
   "outputs": [
    {
     "data": {
      "image/png": "[encoded data removed]",
      "text/plain": [
       "<matplotlib.figure.Figure at 0x7ff144eef250>"
      ]
     },
     "metadata": {},
     "output_type": "display_data"
    }
   ],
   "source": [
    "## Compare one sample and original HR version\n",
    "VMIN, VMAX = 0,408\n",
    "#X, Y = buildT(i_hr, t_snr, 75, n_samples)\n",
    "img_utils._isc(i_lr, X[:, 2].reshape(i_lr.shape), b=0, titles=['LR', 'LR (snr='+str(75)+')'], vmin=VMIN, vmax=VMAX)\n",
    "#mse_feta = mu.mse(i_hr[:,:,:,1], Y[:, 2].reshape(i_hr.shape)[:,:,:,1])\n",
    "#print 'mse(HR_orig, HR_2_sample)=' , mse_feta, 'sqrt(mse)=', sqrt(mse_feta)\n",
    "plt.savefig('/user/lgomez/home/Documents/tesis/optimizacion/img/lr_Tsnr75.pdf')"
   ]
  },
  {
   "cell_type": "code",
   "execution_count": 15,
   "metadata": {
    "collapsed": false
   },
   "outputs": [
    {
     "data": {
      "image/png": "[encoded data removed]",
      "text/plain": [
       "<matplotlib.figure.Figure at 0x7ff144c4c750>"
      ]
     },
     "metadata": {},
     "output_type": "display_data"
    }
   ],
   "source": [
    "## Compare one sample and original LR version\n",
    "plt =img_utils._isc(i_lr, X[:, 9].reshape(i_lr.shape), b=0, titles=['LR', 'LR (snr='+str(SNR)+')'])"
   ]
  },
  {
   "cell_type": "markdown",
   "metadata": {},
   "source": [
    "### Training"
   ]
  },
  {
   "cell_type": "code",
   "execution_count": 16,
   "metadata": {
    "collapsed": false
   },
   "outputs": [
    {
     "name": "stdout",
     "output_type": "stream",
     "text": [
      "Training set_training.shape= (10368, 9)  ->target.shape= (1296, 9)\n"
     ]
    },
    {
     "data": {
      "text/plain": [
       "(scipy.sparse.csr.csr_matrix, (1296, 10368), 25)"
      ]
     },
     "execution_count": 16,
     "metadata": {},
     "output_type": "execute_result"
    }
   ],
   "source": [
    "from scipy.sparse import csr_matrix, csc_matrix\n",
    "import experimento1_funciones as e1f\n",
    "#reload(e1f)\n",
    "\n",
    "# Calculamos la matriz de downsampling\n",
    "regr, Y_train , X_train, Y_test, X_test = e1f.train(Y,X)\n",
    "\n",
    "regr.coef_ = csr_matrix(regr.coef_)\n",
    "type(regr.coef_), regr.coef_.shape, SNR"
   ]
  },
  {
   "cell_type": "markdown",
   "metadata": {},
   "source": [
    "## Problem definition\n",
    "\n",
    "$ \\min_{Y_{hr}} \\{ ||GY_{lr} - Y_{hr}||^2 \\}$ st $Y_{hr} \\geq 0$"
   ]
  },
  {
   "cell_type": "code",
   "execution_count": 26,
   "metadata": {
    "collapsed": false
   },
   "outputs": [
    {
     "data": {
      "text/plain": [
       "(Problem(Minimize(Expression(CONVEX, POSITIVE, (1, 1))), []), True)"
      ]
     },
     "execution_count": 26,
     "metadata": {},
     "output_type": "execute_result"
    }
   ],
   "source": [
    "Nx, Ny, Nz, bval = i_hr.shape\n",
    "vhrb = Nx*Ny*Nz*bval\n",
    "vlr = Nx*Ny*Nz/8\n",
    "\n",
    "\n",
    "Yhr = cvx.Variable(vhrb, 1)\n",
    "Ylr = cvx.Parameter(vlr*bval, 1)\n",
    "#Ylr.value = i_lr.reshape((vlr*bval, 1))\n",
    "G = cvx.Parameter(*regr.coef_.shape, value=regr.coef_)\n",
    "\n",
    "# Form objective.\n",
    "obj = cvx.Minimize(cvx.sum_squares(G*Yhr - Ylr))\n",
    "\n",
    "# Create two constraints.\n",
    "#constraints = [Yhr >= 0]\n",
    "\n",
    "# Form and solve problem.\n",
    "prob = cvx.Problem(obj)\n",
    "prob, prob.is_dcp()"
   ]
  },
  {
   "cell_type": "markdown",
   "metadata": {},
   "source": [
    "### Motor SCS (mas veloz menos preciso)"
   ]
  },
  {
   "cell_type": "code",
   "execution_count": 123,
   "metadata": {
    "collapsed": false
   },
   "outputs": [],
   "source": [
    "def solveMin(prob, i_lr, lr_snr, iterations, t_snr, folder=None):\n",
    "    snrs=np.ones(iterations)*lr_snr\n",
    "    \n",
    "    Yhr_norms = []\n",
    "    times = []\n",
    "    dif_norms = []\n",
    "    Ylr_norms = []\n",
    "    optimal_vals = []\n",
    "    for lr_snr in snrs:\n",
    "\n",
    "        noised_lr = i_lr\n",
    "        if lr_snr <= 100:\n",
    "            noised_lr = phantom.add_noise(i_lr, snr=lr_snr, noise_type=SNR_TYPE)\n",
    "        Ylr.value = noised_lr.reshape((vlr*bval, 1))\n",
    "\n",
    "        start_time = time.time()\n",
    "        res = prob.solve(solver='SCS', max_iters=2100, eps=1.00e-01 )  # Returns the optimal value.\n",
    "        seg = time.time() - start_time\n",
    "        \n",
    "        minutes = int(seg / 60)\n",
    "        print(\"--- time of optimization : %d' %d'' --- num. Tsnr: %s Ylr_snr: %s\" % (minutes , seg%60, str(t_snr), str(lr_snr)))\n",
    "        print \"--- status:\", prob.status, \"optimal value\", prob.value\n",
    "        print \n",
    "\n",
    "    \n",
    "        # Keep parameters\n",
    "        dif_norm = np.linalg.norm(i_hr-A)\n",
    "        Yhr_norm = np.linalg.norm(A)\n",
    "        Ylr_norm = np.linalg.norm(noised_lr)\n",
    "        Yhr_norms.append(Yhr_norm)\n",
    "        Ylr_norms.append(Ylr_norm)\n",
    "        dif_norms.append(dif_norm)\n",
    "        times.append(seg)\n",
    "        optimal_vals.append(prob.value)\n",
    "    \n",
    "    # Save the last A calculated\n",
    "    A = np.asarray(Yhr.value).reshape(i_hr.shape)    \n",
    "    if folder is not None:\n",
    "        sufix = '_Tsnr'+str(t_snr)+'_lrsnr'+str(lr_snr)\n",
    "        np.save(folder + '/A' + sufix, A)\n",
    "        print 'saved A in: ', folder + '/A' + sufix\n",
    "\n",
    "    \n",
    "    return Yhr_norms, Ylr_norms, dif_norms, times, optimal_vals\n"
   ]
  },
  {
   "cell_type": "code",
   "execution_count": 120,
   "metadata": {
    "collapsed": false
   },
   "outputs": [
    {
     "name": "stdout",
     "output_type": "stream",
     "text": [
      "Training set_training.shape= (10368, 9)  ->target.shape= (1296, 9)\n",
      "WARN: m less than n, problem likely degenerate\n",
      "--- time of optimization : 5' 58'' --- num. Tsnr: inf Ylr_snr: 50.0\n",
      "--- status: optimal_inaccurate optimal value 3059.46803496\n",
      "\n",
      "saved A in:  ./resultados/reconstruc/A_Tsnrinf_lrsnr50.0\n",
      "WARN: m less than n, problem likely degenerate\n",
      "--- time of optimization : 4' 59'' --- num. Tsnr: inf Ylr_snr: 50.0\n",
      "--- status: optimal_inaccurate optimal value 2996.76962965\n",
      "\n",
      "saved A in:  ./resultados/reconstruc/A_Tsnrinf_lrsnr50.0\n",
      "WARN: m less than n, problem likely degenerate\n",
      "--- time of optimization : 5' 0'' --- num. Tsnr: inf Ylr_snr: 50.0\n",
      "--- status: optimal_inaccurate optimal value 3101.76302731\n",
      "\n",
      "saved A in:  ./resultados/reconstruc/A_Tsnrinf_lrsnr50.0\n",
      "WARN: m less than n, problem likely degenerate\n",
      "--- time of optimization : 5' 0'' --- num. Tsnr: inf Ylr_snr: 50.0\n",
      "--- status: optimal_inaccurate optimal value 3007.87060817\n",
      "\n",
      "saved A in:  ./resultados/reconstruc/A_Tsnrinf_lrsnr50.0\n",
      "WARN: m less than n, problem likely degenerate\n",
      "--- time of optimization : 5' 4'' --- num. Tsnr: inf Ylr_snr: 50.0\n",
      "--- status: optimal_inaccurate optimal value 2991.62401436\n",
      "\n",
      "saved A in:  ./resultados/reconstruc/A_Tsnrinf_lrsnr50.0\n",
      "WARN: m less than n, problem likely degenerate\n",
      "--- time of optimization : 5' 0'' --- num. Tsnr: inf Ylr_snr: 50.0\n",
      "--- status: optimal_inaccurate optimal value 3002.75836998\n",
      "\n",
      "saved A in:  ./resultados/reconstruc/A_Tsnrinf_lrsnr50.0\n",
      "WARN: m less than n, problem likely degenerate\n",
      "--- time of optimization : 5' 1'' --- num. Tsnr: inf Ylr_snr: 50.0\n",
      "--- status: optimal_inaccurate optimal value 3093.8905446\n",
      "\n",
      "saved A in:  ./resultados/reconstruc/A_Tsnrinf_lrsnr50.0\n",
      "WARN: m less than n, problem likely degenerate\n",
      "--- time of optimization : 5' 1'' --- num. Tsnr: inf Ylr_snr: 50.0\n",
      "--- status: optimal_inaccurate optimal value 3056.79343129\n",
      "\n",
      "saved A in:  ./resultados/reconstruc/A_Tsnrinf_lrsnr50.0\n",
      "WARN: m less than n, problem likely degenerate\n",
      "--- time of optimization : 5' 0'' --- num. Tsnr: inf Ylr_snr: 50.0\n",
      "--- status: optimal_inaccurate optimal value 3088.46716942\n",
      "\n",
      "saved A in:  ./resultados/reconstruc/A_Tsnrinf_lrsnr50.0\n",
      "WARN: m less than n, problem likely degenerate\n",
      "--- time of optimization : 5' 0'' --- num. Tsnr: inf Ylr_snr: 50.0\n",
      "--- status: optimal_inaccurate optimal value 3061.79556997\n",
      "\n",
      "saved A in:  ./resultados/reconstruc/A_Tsnrinf_lrsnr50.0\n",
      "WARN: m less than n, problem likely degenerate\n",
      "--- time of optimization : 5' 1'' --- num. Tsnr: inf Ylr_snr: 50.0\n",
      "--- status: optimal_inaccurate optimal value 2965.07275289\n",
      "\n",
      "saved A in:  ./resultados/reconstruc/A_Tsnrinf_lrsnr50.0\n",
      "WARN: m less than n, problem likely degenerate\n",
      "--- time of optimization : 5' 1'' --- num. Tsnr: inf Ylr_snr: 50.0\n",
      "--- status: optimal_inaccurate optimal value 3031.45937753\n",
      "\n",
      "saved A in:  ./resultados/reconstruc/A_Tsnrinf_lrsnr50.0\n",
      "WARN: m less than n, problem likely degenerate\n",
      "--- time of optimization : 5' 0'' --- num. Tsnr: inf Ylr_snr: 50.0\n",
      "--- status: optimal_inaccurate optimal value 3084.50810393\n",
      "\n",
      "saved A in:  ./resultados/reconstruc/A_Tsnrinf_lrsnr50.0\n",
      "WARN: m less than n, problem likely degenerate\n",
      "--- time of optimization : 5' 0'' --- num. Tsnr: inf Ylr_snr: 50.0\n",
      "--- status: optimal_inaccurate optimal value 3098.01911986\n",
      "\n",
      "saved A in:  ./resultados/reconstruc/A_Tsnrinf_lrsnr50.0\n",
      "WARN: m less than n, problem likely degenerate\n",
      "--- time of optimization : 4' 59'' --- num. Tsnr: inf Ylr_snr: 50.0\n",
      "--- status: optimal_inaccurate optimal value 3028.02060802\n",
      "\n",
      "saved A in:  ./resultados/reconstruc/A_Tsnrinf_lrsnr50.0\n",
      "WARN: m less than n, problem likely degenerate\n",
      "--- time of optimization : 5' 1'' --- num. Tsnr: inf Ylr_snr: 50.0\n",
      "--- status: optimal_inaccurate optimal value 3021.65117118\n",
      "\n",
      "saved A in:  ./resultados/reconstruc/A_Tsnrinf_lrsnr50.0\n",
      "WARN: m less than n, problem likely degenerate\n",
      "--- time of optimization : 5' 3'' --- num. Tsnr: inf Ylr_snr: 50.0\n",
      "--- status: optimal_inaccurate optimal value 3019.71465107\n",
      "\n",
      "saved A in:  ./resultados/reconstruc/A_Tsnrinf_lrsnr50.0\n",
      "WARN: m less than n, problem likely degenerate\n",
      "--- time of optimization : 4' 59'' --- num. Tsnr: inf Ylr_snr: 50.0\n",
      "--- status: optimal_inaccurate optimal value 3080.34066082\n",
      "\n",
      "saved A in:  ./resultados/reconstruc/A_Tsnrinf_lrsnr50.0\n",
      "WARN: m less than n, problem likely degenerate\n",
      "--- time of optimization : 5' 0'' --- num. Tsnr: inf Ylr_snr: 50.0\n",
      "--- status: optimal_inaccurate optimal value 2995.91367226\n",
      "\n",
      "saved A in:  ./resultados/reconstruc/A_Tsnrinf_lrsnr50.0\n",
      "WARN: m less than n, problem likely degenerate\n",
      "--- time of optimization : 4' 59'' --- num. Tsnr: inf Ylr_snr: 50.0\n",
      "--- status: optimal_inaccurate optimal value 3035.05972543\n",
      "\n",
      "saved A in:  ./resultados/reconstruc/A_Tsnrinf_lrsnr50.0\n",
      "WARN: m less than n, problem likely degenerate\n",
      "--- time of optimization : 4' 58'' --- num. Tsnr: inf Ylr_snr: 50.0\n",
      "--- status: optimal_inaccurate optimal value 2932.37433175\n",
      "\n",
      "saved A in:  ./resultados/reconstruc/A_Tsnrinf_lrsnr50.0\n",
      "WARN: m less than n, problem likely degenerate\n",
      "--- time of optimization : 4' 58'' --- num. Tsnr: inf Ylr_snr: 50.0\n",
      "--- status: optimal_inaccurate optimal value 2927.0681306\n",
      "\n",
      "saved A in:  ./resultados/reconstruc/A_Tsnrinf_lrsnr50.0\n",
      "WARN: m less than n, problem likely degenerate\n",
      "--- time of optimization : 4' 59'' --- num. Tsnr: inf Ylr_snr: 50.0\n",
      "--- status: optimal_inaccurate optimal value 3022.85004072\n",
      "\n",
      "saved A in:  ./resultados/reconstruc/A_Tsnrinf_lrsnr50.0\n",
      "WARN: m less than n, problem likely degenerate\n",
      "--- time of optimization : 4' 59'' --- num. Tsnr: inf Ylr_snr: 50.0\n",
      "--- status: optimal_inaccurate optimal value 3064.21564497\n",
      "\n",
      "saved A in:  ./resultados/reconstruc/A_Tsnrinf_lrsnr50.0\n",
      "WARN: m less than n, problem likely degenerate\n",
      "--- time of optimization : 5' 4'' --- num. Tsnr: inf Ylr_snr: 50.0\n",
      "--- status: optimal_inaccurate optimal value 3106.22979551\n",
      "\n",
      "saved A in:  ./resultados/reconstruc/A_Tsnrinf_lrsnr50.0\n",
      "WARN: m less than n, problem likely degenerate\n",
      "--- time of optimization : 5' 4'' --- num. Tsnr: inf Ylr_snr: 50.0\n",
      "--- status: optimal_inaccurate optimal value 3033.47378248\n",
      "\n",
      "saved A in:  ./resultados/reconstruc/A_Tsnrinf_lrsnr50.0\n",
      "WARN: m less than n, problem likely degenerate\n",
      "--- time of optimization : 5' 3'' --- num. Tsnr: inf Ylr_snr: 50.0\n",
      "--- status: optimal_inaccurate optimal value 2946.91843498\n",
      "\n",
      "saved A in:  ./resultados/reconstruc/A_Tsnrinf_lrsnr50.0\n",
      "WARN: m less than n, problem likely degenerate\n",
      "--- time of optimization : 5' 5'' --- num. Tsnr: inf Ylr_snr: 50.0\n",
      "--- status: optimal_inaccurate optimal value 3011.13624505\n",
      "\n",
      "saved A in:  ./resultados/reconstruc/A_Tsnrinf_lrsnr50.0\n",
      "WARN: m less than n, problem likely degenerate\n",
      "--- time of optimization : 5' 4'' --- num. Tsnr: inf Ylr_snr: 50.0\n",
      "--- status: optimal_inaccurate optimal value 3020.51815389\n",
      "\n",
      "saved A in:  ./resultados/reconstruc/A_Tsnrinf_lrsnr50.0\n",
      "WARN: m less than n, problem likely degenerate\n",
      "--- time of optimization : 5' 3'' --- num. Tsnr: inf Ylr_snr: 50.0\n",
      "--- status: optimal_inaccurate optimal value 3047.53864163\n",
      "\n",
      "saved A in:  ./resultados/reconstruc/A_Tsnrinf_lrsnr50.0\n",
      "WARN: m less than n, problem likely degenerate\n",
      "--- time of optimization : 5' 3'' --- num. Tsnr: inf Ylr_snr: 50.0\n",
      "--- status: optimal_inaccurate optimal value 3031.8456453\n",
      "\n",
      "saved A in:  ./resultados/reconstruc/A_Tsnrinf_lrsnr50.0\n",
      "WARN: m less than n, problem likely degenerate\n",
      "--- time of optimization : 4' 59'' --- num. Tsnr: inf Ylr_snr: 50.0\n",
      "--- status: optimal_inaccurate optimal value 3035.20788135\n",
      "\n",
      "saved A in:  ./resultados/reconstruc/A_Tsnrinf_lrsnr50.0\n",
      "WARN: m less than n, problem likely degenerate\n",
      "--- time of optimization : 4' 59'' --- num. Tsnr: inf Ylr_snr: 50.0\n",
      "--- status: optimal_inaccurate optimal value 3027.82684076\n",
      "\n",
      "saved A in:  ./resultados/reconstruc/A_Tsnrinf_lrsnr50.0\n",
      "WARN: m less than n, problem likely degenerate\n",
      "--- time of optimization : 4' 59'' --- num. Tsnr: inf Ylr_snr: 50.0\n",
      "--- status: optimal_inaccurate optimal value 3030.4640482\n",
      "\n",
      "saved A in:  ./resultados/reconstruc/A_Tsnrinf_lrsnr50.0\n",
      "WARN: m less than n, problem likely degenerate\n",
      "--- time of optimization : 4' 59'' --- num. Tsnr: inf Ylr_snr: 50.0\n",
      "--- status: optimal_inaccurate optimal value 3022.7608108\n",
      "\n",
      "saved A in:  ./resultados/reconstruc/A_Tsnrinf_lrsnr50.0\n",
      "WARN: m less than n, problem likely degenerate\n",
      "--- time of optimization : 4' 58'' --- num. Tsnr: inf Ylr_snr: 50.0\n",
      "--- status: optimal_inaccurate optimal value 2972.42938848\n",
      "\n",
      "saved A in:  ./resultados/reconstruc/A_Tsnrinf_lrsnr50.0\n",
      "WARN: m less than n, problem likely degenerate\n",
      "--- time of optimization : 4' 58'' --- num. Tsnr: inf Ylr_snr: 50.0\n",
      "--- status: optimal_inaccurate optimal value 3084.61105301\n",
      "\n",
      "saved A in:  ./resultados/reconstruc/A_Tsnrinf_lrsnr50.0\n",
      "WARN: m less than n, problem likely degenerate\n",
      "--- time of optimization : 4' 58'' --- num. Tsnr: inf Ylr_snr: 50.0\n",
      "--- status: optimal_inaccurate optimal value 3033.76982712\n",
      "\n",
      "saved A in:  ./resultados/reconstruc/A_Tsnrinf_lrsnr50.0\n",
      "WARN: m less than n, problem likely degenerate\n",
      "--- time of optimization : 5' 0'' --- num. Tsnr: inf Ylr_snr: 50.0\n",
      "--- status: optimal_inaccurate optimal value 3090.50777317\n",
      "\n",
      "saved A in:  ./resultados/reconstruc/A_Tsnrinf_lrsnr50.0\n",
      "WARN: m less than n, problem likely degenerate\n",
      "--- time of optimization : 5' 4'' --- num. Tsnr: inf Ylr_snr: 50.0\n",
      "--- status: optimal_inaccurate optimal value 3019.32261889\n",
      "\n",
      "saved A in:  ./resultados/reconstruc/A_Tsnrinf_lrsnr50.0\n",
      "WARN: m less than n, problem likely degenerate\n",
      "--- time of optimization : 5' 3'' --- num. Tsnr: inf Ylr_snr: 50.0\n",
      "--- status: optimal_inaccurate optimal value 3065.55566356\n",
      "\n",
      "saved A in:  ./resultados/reconstruc/A_Tsnrinf_lrsnr50.0\n",
      "WARN: m less than n, problem likely degenerate\n",
      "--- time of optimization : 5' 3'' --- num. Tsnr: inf Ylr_snr: 50.0\n",
      "--- status: optimal_inaccurate optimal value 3105.00882119\n",
      "\n",
      "saved A in:  ./resultados/reconstruc/A_Tsnrinf_lrsnr50.0\n",
      "WARN: m less than n, problem likely degenerate\n",
      "--- time of optimization : 5' 3'' --- num. Tsnr: inf Ylr_snr: 50.0\n",
      "--- status: optimal_inaccurate optimal value 3013.62622538\n",
      "\n",
      "saved A in:  ./resultados/reconstruc/A_Tsnrinf_lrsnr50.0\n",
      "WARN: m less than n, problem likely degenerate\n",
      "--- time of optimization : 5' 4'' --- num. Tsnr: inf Ylr_snr: 50.0\n",
      "--- status: optimal_inaccurate optimal value 3058.61022951\n",
      "\n",
      "saved A in:  ./resultados/reconstruc/A_Tsnrinf_lrsnr50.0\n",
      "WARN: m less than n, problem likely degenerate\n",
      "--- time of optimization : 5' 3'' --- num. Tsnr: inf Ylr_snr: 50.0\n",
      "--- status: optimal_inaccurate optimal value 3101.06087969\n",
      "\n",
      "saved A in:  ./resultados/reconstruc/A_Tsnrinf_lrsnr50.0\n",
      "WARN: m less than n, problem likely degenerate\n",
      "--- time of optimization : 5' 4'' --- num. Tsnr: inf Ylr_snr: 50.0\n",
      "--- status: optimal_inaccurate optimal value 3003.22997908\n",
      "\n",
      "saved A in:  ./resultados/reconstruc/A_Tsnrinf_lrsnr50.0\n",
      "WARN: m less than n, problem likely degenerate\n",
      "--- time of optimization : 5' 2'' --- num. Tsnr: inf Ylr_snr: 50.0\n",
      "--- status: optimal_inaccurate optimal value 3021.17175882\n",
      "\n",
      "saved A in:  ./resultados/reconstruc/A_Tsnrinf_lrsnr50.0\n",
      "WARN: m less than n, problem likely degenerate\n",
      "--- time of optimization : 5' 2'' --- num. Tsnr: inf Ylr_snr: 50.0\n",
      "--- status: optimal_inaccurate optimal value 2976.53294821\n",
      "\n",
      "saved A in:  ./resultados/reconstruc/A_Tsnrinf_lrsnr50.0\n",
      "WARN: m less than n, problem likely degenerate\n",
      "--- time of optimization : 5' 3'' --- num. Tsnr: inf Ylr_snr: 50.0\n",
      "--- status: optimal_inaccurate optimal value 3126.84485962\n",
      "\n",
      "saved A in:  ./resultados/reconstruc/A_Tsnrinf_lrsnr50.0\n",
      "WARN: m less than n, problem likely degenerate\n",
      "--- time of optimization : 5' 4'' --- num. Tsnr: inf Ylr_snr: 50.0\n",
      "--- status: optimal_inaccurate optimal value 2942.51144367\n",
      "\n",
      "saved A in:  ./resultados/reconstruc/A_Tsnrinf_lrsnr50.0\n",
      "WARN: m less than n, problem likely degenerate\n",
      "--- time of optimization : 5' 3'' --- num. Tsnr: inf Ylr_snr: 50.0\n",
      "--- status: optimal_inaccurate optimal value 3004.06580844\n",
      "\n",
      "saved A in:  ./resultados/reconstruc/A_Tsnrinf_lrsnr50.0\n",
      "WARN: m less than n, problem likely degenerate\n",
      "--- time of optimization : 5' 0'' --- num. Tsnr: inf Ylr_snr: 50.0\n",
      "--- status: optimal_inaccurate optimal value 3046.540757\n",
      "\n",
      "saved A in:  ./resultados/reconstruc/A_Tsnrinf_lrsnr50.0\n",
      "WARN: m less than n, problem likely degenerate\n",
      "--- time of optimization : 4' 59'' --- num. Tsnr: inf Ylr_snr: 50.0\n",
      "--- status: optimal_inaccurate optimal value 3030.15759059\n",
      "\n",
      "saved A in:  ./resultados/reconstruc/A_Tsnrinf_lrsnr50.0\n",
      "WARN: m less than n, problem likely degenerate\n",
      "--- time of optimization : 4' 59'' --- num. Tsnr: inf Ylr_snr: 50.0\n",
      "--- status: optimal_inaccurate optimal value 3060.93682733\n",
      "\n",
      "saved A in:  ./resultados/reconstruc/A_Tsnrinf_lrsnr50.0\n",
      "WARN: m less than n, problem likely degenerate\n",
      "--- time of optimization : 4' 59'' --- num. Tsnr: inf Ylr_snr: 50.0\n",
      "--- status: optimal_inaccurate optimal value 2993.81237686\n",
      "\n",
      "saved A in:  ./resultados/reconstruc/A_Tsnrinf_lrsnr50.0\n",
      "WARN: m less than n, problem likely degenerate\n",
      "--- time of optimization : 4' 59'' --- num. Tsnr: inf Ylr_snr: 50.0\n",
      "--- status: optimal_inaccurate optimal value 3051.22493699\n",
      "\n",
      "saved A in:  ./resultados/reconstruc/A_Tsnrinf_lrsnr50.0\n",
      "WARN: m less than n, problem likely degenerate\n",
      "--- time of optimization : 4' 59'' --- num. Tsnr: inf Ylr_snr: 50.0\n",
      "--- status: optimal_inaccurate optimal value 2937.62093536\n",
      "\n",
      "saved A in:  ./resultados/reconstruc/A_Tsnrinf_lrsnr50.0\n",
      "WARN: m less than n, problem likely degenerate\n",
      "--- time of optimization : 4' 58'' --- num. Tsnr: inf Ylr_snr: 50.0\n",
      "--- status: optimal_inaccurate optimal value 3008.84215432\n",
      "\n",
      "saved A in:  ./resultados/reconstruc/A_Tsnrinf_lrsnr50.0\n",
      "WARN: m less than n, problem likely degenerate\n",
      "--- time of optimization : 4' 59'' --- num. Tsnr: inf Ylr_snr: 50.0\n",
      "--- status: optimal_inaccurate optimal value 3084.07222974\n",
      "\n",
      "saved A in:  ./resultados/reconstruc/A_Tsnrinf_lrsnr50.0\n",
      "WARN: m less than n, problem likely degenerate\n",
      "--- time of optimization : 5' 1'' --- num. Tsnr: inf Ylr_snr: 50.0\n",
      "--- status: optimal_inaccurate optimal value 3057.60490192\n",
      "\n",
      "saved A in:  ./resultados/reconstruc/A_Tsnrinf_lrsnr50.0\n",
      "WARN: m less than n, problem likely degenerate\n",
      "--- time of optimization : 4' 59'' --- num. Tsnr: inf Ylr_snr: 50.0\n",
      "--- status: optimal_inaccurate optimal value 2973.09107771\n",
      "\n",
      "saved A in:  ./resultados/reconstruc/A_Tsnrinf_lrsnr50.0\n",
      "WARN: m less than n, problem likely degenerate\n",
      "--- time of optimization : 5' 4'' --- num. Tsnr: inf Ylr_snr: 50.0\n",
      "--- status: optimal_inaccurate optimal value 3033.10273275\n",
      "\n",
      "saved A in:  ./resultados/reconstruc/A_Tsnrinf_lrsnr50.0\n",
      "WARN: m less than n, problem likely degenerate\n",
      "--- time of optimization : 5' 3'' --- num. Tsnr: inf Ylr_snr: 50.0\n",
      "--- status: optimal_inaccurate optimal value 3052.76240603\n",
      "\n",
      "saved A in:  ./resultados/reconstruc/A_Tsnrinf_lrsnr50.0\n",
      "WARN: m less than n, problem likely degenerate\n",
      "--- time of optimization : 5' 4'' --- num. Tsnr: inf Ylr_snr: 50.0\n",
      "--- status: optimal_inaccurate optimal value 2880.53310486\n",
      "\n",
      "saved A in:  ./resultados/reconstruc/A_Tsnrinf_lrsnr50.0\n",
      "WARN: m less than n, problem likely degenerate\n",
      "--- time of optimization : 5' 0'' --- num. Tsnr: inf Ylr_snr: 50.0\n",
      "--- status: optimal_inaccurate optimal value 3047.30664879\n",
      "\n",
      "saved A in:  ./resultados/reconstruc/A_Tsnrinf_lrsnr50.0\n",
      "WARN: m less than n, problem likely degenerate\n",
      "--- time of optimization : 5' 1'' --- num. Tsnr: inf Ylr_snr: 50.0\n",
      "--- status: optimal_inaccurate optimal value 3095.85105334\n",
      "\n",
      "saved A in:  ./resultados/reconstruc/A_Tsnrinf_lrsnr50.0\n",
      "WARN: m less than n, problem likely degenerate\n",
      "--- time of optimization : 5' 1'' --- num. Tsnr: inf Ylr_snr: 50.0\n",
      "--- status: optimal_inaccurate optimal value 3015.60554829\n",
      "\n",
      "saved A in:  ./resultados/reconstruc/A_Tsnrinf_lrsnr50.0\n",
      "WARN: m less than n, problem likely degenerate\n",
      "--- time of optimization : 5' 4'' --- num. Tsnr: inf Ylr_snr: 50.0\n",
      "--- status: optimal_inaccurate optimal value 3029.83632683\n",
      "\n",
      "saved A in:  ./resultados/reconstruc/A_Tsnrinf_lrsnr50.0\n",
      "WARN: m less than n, problem likely degenerate\n",
      "--- time of optimization : 5' 3'' --- num. Tsnr: inf Ylr_snr: 50.0\n",
      "--- status: optimal_inaccurate optimal value 3039.27103816\n",
      "\n",
      "saved A in:  ./resultados/reconstruc/A_Tsnrinf_lrsnr50.0\n",
      "WARN: m less than n, problem likely degenerate\n",
      "--- time of optimization : 5' 2'' --- num. Tsnr: inf Ylr_snr: 50.0\n",
      "--- status: optimal_inaccurate optimal value 3028.72947753\n",
      "\n",
      "saved A in:  ./resultados/reconstruc/A_Tsnrinf_lrsnr50.0\n",
      "WARN: m less than n, problem likely degenerate\n",
      "--- time of optimization : 5' 0'' --- num. Tsnr: inf Ylr_snr: 50.0\n",
      "--- status: optimal_inaccurate optimal value 2929.37040786\n",
      "\n",
      "saved A in:  ./resultados/reconstruc/A_Tsnrinf_lrsnr50.0\n",
      "WARN: m less than n, problem likely degenerate\n",
      "--- time of optimization : 5' 2'' --- num. Tsnr: inf Ylr_snr: 50.0\n",
      "--- status: optimal_inaccurate optimal value 3037.49517016\n",
      "\n",
      "saved A in:  ./resultados/reconstruc/A_Tsnrinf_lrsnr50.0\n",
      "WARN: m less than n, problem likely degenerate\n",
      "--- time of optimization : 5' 1'' --- num. Tsnr: inf Ylr_snr: 50.0\n",
      "--- status: optimal_inaccurate optimal value 3035.72794603\n",
      "\n",
      "saved A in:  ./resultados/reconstruc/A_Tsnrinf_lrsnr50.0\n",
      "WARN: m less than n, problem likely degenerate\n",
      "--- time of optimization : 5' 1'' --- num. Tsnr: inf Ylr_snr: 50.0\n",
      "--- status: optimal_inaccurate optimal value 2968.0861285\n",
      "\n",
      "saved A in:  ./resultados/reconstruc/A_Tsnrinf_lrsnr50.0\n",
      "WARN: m less than n, problem likely degenerate\n",
      "--- time of optimization : 5' 1'' --- num. Tsnr: inf Ylr_snr: 50.0\n",
      "--- status: optimal_inaccurate optimal value 3019.18813261\n",
      "\n",
      "saved A in:  ./resultados/reconstruc/A_Tsnrinf_lrsnr50.0\n",
      "WARN: m less than n, problem likely degenerate\n",
      "--- time of optimization : 5' 0'' --- num. Tsnr: inf Ylr_snr: 50.0\n",
      "--- status: optimal_inaccurate optimal value 3061.23780342\n",
      "\n",
      "saved A in:  ./resultados/reconstruc/A_Tsnrinf_lrsnr50.0\n",
      "WARN: m less than n, problem likely degenerate\n",
      "--- time of optimization : 4' 58'' --- num. Tsnr: inf Ylr_snr: 50.0\n",
      "--- status: optimal_inaccurate optimal value 2997.3440049\n",
      "\n",
      "saved A in:  ./resultados/reconstruc/A_Tsnrinf_lrsnr50.0\n",
      "WARN: m less than n, problem likely degenerate\n",
      "--- time of optimization : 4' 58'' --- num. Tsnr: inf Ylr_snr: 50.0\n",
      "--- status: optimal_inaccurate optimal value 3022.45656299\n",
      "\n",
      "saved A in:  ./resultados/reconstruc/A_Tsnrinf_lrsnr50.0\n",
      "WARN: m less than n, problem likely degenerate\n",
      "--- time of optimization : 4' 59'' --- num. Tsnr: inf Ylr_snr: 50.0\n",
      "--- status: optimal_inaccurate optimal value 3055.90295461\n",
      "\n",
      "saved A in:  ./resultados/reconstruc/A_Tsnrinf_lrsnr50.0\n",
      "WARN: m less than n, problem likely degenerate\n",
      "--- time of optimization : 4' 58'' --- num. Tsnr: inf Ylr_snr: 50.0\n",
      "--- status: optimal_inaccurate optimal value 3012.49864339\n",
      "\n",
      "saved A in:  ./resultados/reconstruc/A_Tsnrinf_lrsnr50.0\n",
      "WARN: m less than n, problem likely degenerate\n",
      "--- time of optimization : 4' 59'' --- num. Tsnr: inf Ylr_snr: 50.0\n",
      "--- status: optimal_inaccurate optimal value 3102.91628529\n",
      "\n",
      "saved A in:  ./resultados/reconstruc/A_Tsnrinf_lrsnr50.0\n",
      "WARN: m less than n, problem likely degenerate\n",
      "--- time of optimization : 4' 59'' --- num. Tsnr: inf Ylr_snr: 50.0\n",
      "--- status: optimal_inaccurate optimal value 3022.35212972\n",
      "\n",
      "saved A in:  ./resultados/reconstruc/A_Tsnrinf_lrsnr50.0\n",
      "WARN: m less than n, problem likely degenerate\n",
      "--- time of optimization : 4' 58'' --- num. Tsnr: inf Ylr_snr: 50.0\n",
      "--- status: optimal_inaccurate optimal value 3008.09987231\n",
      "\n",
      "saved A in:  ./resultados/reconstruc/A_Tsnrinf_lrsnr50.0\n",
      "WARN: m less than n, problem likely degenerate\n",
      "--- time of optimization : 5' 3'' --- num. Tsnr: inf Ylr_snr: 50.0\n",
      "--- status: optimal_inaccurate optimal value 3017.4660274\n",
      "\n",
      "saved A in:  ./resultados/reconstruc/A_Tsnrinf_lrsnr50.0\n",
      "WARN: m less than n, problem likely degenerate\n",
      "--- time of optimization : 4' 59'' --- num. Tsnr: inf Ylr_snr: 50.0\n",
      "--- status: optimal_inaccurate optimal value 2968.49732098\n",
      "\n",
      "saved A in:  ./resultados/reconstruc/A_Tsnrinf_lrsnr50.0\n",
      "WARN: m less than n, problem likely degenerate\n",
      "--- time of optimization : 5' 0'' --- num. Tsnr: inf Ylr_snr: 50.0\n",
      "--- status: optimal_inaccurate optimal value 2999.45401309\n",
      "\n",
      "saved A in:  ./resultados/reconstruc/A_Tsnrinf_lrsnr50.0\n",
      "WARN: m less than n, problem likely degenerate\n",
      "--- time of optimization : 5' 2'' --- num. Tsnr: inf Ylr_snr: 50.0\n",
      "--- status: optimal_inaccurate optimal value 3019.76774726\n",
      "\n",
      "saved A in:  ./resultados/reconstruc/A_Tsnrinf_lrsnr50.0\n",
      "WARN: m less than n, problem likely degenerate\n",
      "--- time of optimization : 5' 4'' --- num. Tsnr: inf Ylr_snr: 50.0\n",
      "--- status: optimal_inaccurate optimal value 3039.16953843\n",
      "\n",
      "saved A in:  ./resultados/reconstruc/A_Tsnrinf_lrsnr50.0\n",
      "WARN: m less than n, problem likely degenerate\n",
      "--- time of optimization : 5' 5'' --- num. Tsnr: inf Ylr_snr: 50.0\n",
      "--- status: optimal_inaccurate optimal value 2978.42890313\n",
      "\n",
      "saved A in:  ./resultados/reconstruc/A_Tsnrinf_lrsnr50.0\n",
      "WARN: m less than n, problem likely degenerate\n",
      "--- time of optimization : 5' 0'' --- num. Tsnr: inf Ylr_snr: 50.0\n",
      "--- status: optimal_inaccurate optimal value 2931.07662115\n",
      "\n",
      "saved A in:  ./resultados/reconstruc/A_Tsnrinf_lrsnr50.0\n",
      "WARN: m less than n, problem likely degenerate\n",
      "--- time of optimization : 5' 0'' --- num. Tsnr: inf Ylr_snr: 50.0\n",
      "--- status: optimal_inaccurate optimal value 2971.94432146\n",
      "\n",
      "saved A in:  ./resultados/reconstruc/A_Tsnrinf_lrsnr50.0\n",
      "WARN: m less than n, problem likely degenerate\n",
      "--- time of optimization : 4' 59'' --- num. Tsnr: inf Ylr_snr: 50.0\n",
      "--- status: optimal_inaccurate optimal value 3047.47871834\n",
      "\n",
      "saved A in:  ./resultados/reconstruc/A_Tsnrinf_lrsnr50.0\n",
      "WARN: m less than n, problem likely degenerate\n",
      "--- time of optimization : 4' 59'' --- num. Tsnr: inf Ylr_snr: 50.0\n",
      "--- status: optimal_inaccurate optimal value 2919.29986965\n",
      "\n",
      "saved A in:  ./resultados/reconstruc/A_Tsnrinf_lrsnr50.0\n",
      "WARN: m less than n, problem likely degenerate\n",
      "--- time of optimization : 4' 59'' --- num. Tsnr: inf Ylr_snr: 50.0\n",
      "--- status: optimal_inaccurate optimal value 3045.46474395\n",
      "\n",
      "saved A in:  ./resultados/reconstruc/A_Tsnrinf_lrsnr50.0\n",
      "WARN: m less than n, problem likely degenerate\n",
      "--- time of optimization : 4' 59'' --- num. Tsnr: inf Ylr_snr: 50.0\n",
      "--- status: optimal_inaccurate optimal value 3020.84693809\n",
      "\n",
      "saved A in:  ./resultados/reconstruc/A_Tsnrinf_lrsnr50.0\n",
      "WARN: m less than n, problem likely degenerate\n",
      "--- time of optimization : 5' 0'' --- num. Tsnr: inf Ylr_snr: 50.0\n",
      "--- status: optimal_inaccurate optimal value 3052.31793679\n",
      "\n",
      "saved A in:  ./resultados/reconstruc/A_Tsnrinf_lrsnr50.0\n",
      "WARN: m less than n, problem likely degenerate\n",
      "--- time of optimization : 5' 1'' --- num. Tsnr: inf Ylr_snr: 50.0\n",
      "--- status: optimal_inaccurate optimal value 3051.48585893\n",
      "\n",
      "saved A in:  ./resultados/reconstruc/A_Tsnrinf_lrsnr50.0\n",
      "WARN: m less than n, problem likely degenerate\n",
      "--- time of optimization : 5' 0'' --- num. Tsnr: inf Ylr_snr: 50.0\n",
      "--- status: optimal_inaccurate optimal value 2942.21860155\n",
      "\n",
      "saved A in:  ./resultados/reconstruc/A_Tsnrinf_lrsnr50.0\n",
      "WARN: m less than n, problem likely degenerate\n",
      "--- time of optimization : 5' 0'' --- num. Tsnr: inf Ylr_snr: 50.0\n",
      "--- status: optimal_inaccurate optimal value 3077.0865057\n",
      "\n",
      "saved A in:  ./resultados/reconstruc/A_Tsnrinf_lrsnr50.0\n",
      "WARN: m less than n, problem likely degenerate\n",
      "--- time of optimization : 5' 2'' --- num. Tsnr: inf Ylr_snr: 50.0\n",
      "--- status: optimal_inaccurate optimal value 3031.41246309\n",
      "\n",
      "saved A in:  ./resultados/reconstruc/A_Tsnrinf_lrsnr50.0\n",
      " === Tsnr(inf): 503.0' 0.692441225052\"\n"
     ]
    }
   ],
   "source": [
    "from scipy.sparse import csr_matrix\n",
    "import experimento1_funciones as e1f\n",
    "\n",
    "SNRs = [50, 75, 100, 200, float('inf')]\n",
    "#SNRs = [float('inf')]\n",
    "\n",
    "for t_snr in SNRs :\n",
    "    n_samples = 10\n",
    "    X, Y = buildT(i_hr, t_snr, SNR_TYPE, n_samples)\n",
    "    \n",
    "    # Build downsampling matrix\n",
    "    regr, Y_train , X_train, Y_test, X_test = e1f.train(Y,X)\n",
    "    regr.coef_ = csr_matrix(regr.coef_)\n",
    "    G.value = regr.coef_\n",
    "    \n",
    "    # Minimization solveMin(prob, i_lr, lr_snr, iterations, t_snr, folder=\n",
    "    Yhr_norms, Ylr_norms, dif_norms, times, optimal_vals = solveMin(prob, i_lr, 50, 30,  t_snr, './resultados/reconstruc')\n",
    "    \n",
    "    # Log time spended\n",
    "    total_sec = np.array(times).sum()\n",
    "    print ' === Tsnr('+str(t_snr)+'):',  str(total_sec//60)+\"'\", str(total_sec%60)+ '\"'\n",
    "    \n",
    "    # Persist results\n",
    "    base_folder = './resultados/'\n",
    "    np.save(base_folder+ 'Yhr_norms/Yhr_norms_Tsnr' + str(t_snr), Yhr_norms)\n",
    "    np.save(base_folder+ 'Ylr_norms/Ylr_norms_Tsnr' + str(t_snr), Ylr_norms)\n",
    "    np.save(base_folder+ 'dif_norms/dif_norms_Tsnr' + str(t_snr), dif_norms)\n",
    "    np.save(base_folder+ 'times/times_Tsnr' + str(t_snr), times)\n",
    "    np.save(base_folder+ 'optimal_vals/optimal_vals_Tsnr' + str(t_snr), optimal_vals)\n",
    "    \n"
   ]
  }
 ],
 "metadata": {
  "kernelspec": {
   "display_name": "Python 2",
   "language": "python",
   "name": "python2"
  },
  "language_info": {
   "codemirror_mode": {
    "name": "ipython",
    "version": 2
   },
   "file_extension": ".py",
   "mimetype": "text/x-python",
   "name": "python",
   "nbconvert_exporter": "python",
   "pygments_lexer": "ipython2",
   "version": "2.7.12"
  }
 },
 "nbformat": 4,
 "nbformat_minor": 0
}
