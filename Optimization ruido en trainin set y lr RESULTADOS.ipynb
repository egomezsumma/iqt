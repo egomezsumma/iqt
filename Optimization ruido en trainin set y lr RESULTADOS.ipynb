{
 "cells": [
  {
   "cell_type": "code",
   "execution_count": 1,
   "metadata": {
    "collapsed": false
   },
   "outputs": [
    {
     "name": "stdout",
     "output_type": "stream",
     "text": [
      "Populating the interactive namespace from numpy and matplotlib\n"
     ]
    }
   ],
   "source": [
    "%pylab inline\n",
    "import time\n",
    "import numpy as np\n",
    "import matplotlib.pyplot as plt\n",
    "from utils import img_utils\n",
    "import seaborn as sns\n",
    "import utils.math_utils as mu"
   ]
  },
  {
   "cell_type": "code",
   "execution_count": 2,
   "metadata": {
    "collapsed": true
   },
   "outputs": [],
   "source": [
    "def print_results(t_snr=25):\n",
    "    base_folder = './resultados/'\n",
    "\n",
    "    print '==[Tsnr=%d] =='%t_snr\n",
    "    \n",
    "    Yhr_norms = np.load(base_folder+ 'Yhr_norms/Yhr_norms_Tsnr' + str(t_snr) + '.npy')\n",
    "    print 'Yhr_norm_mean=', np.array(Yhr_norms).mean()\n",
    "    print 'Yhr_norm_std=', np.std(Yhr_norms)\n",
    "    print\n",
    "\n",
    "    Ylr_norms = np.load(base_folder+ 'Ylr_norms/Ylr_norms_Tsnr' + str(t_snr) + '.npy')\n",
    "    print 'Ylr_norm_mean=', np.array(Ylr_norms).mean()\n",
    "    print 'Ylr_norm_std=', np.std(Ylr_norms)\n",
    "\n",
    "    dif_norms = np.load(base_folder+ 'dif_norms/dif_norms_Tsnr' + str(t_snr) + '.npy')\n",
    "    print 'dif_norms_mean=', np.array(dif_norms).mean()\n",
    "    print 'dif_norms_std=', np.std(dif_norms)\n",
    "    print\n",
    "\n",
    "    optimal_vals = np.load(base_folder+ 'optimal_vals/optimal_vals_Tsnr' + str(t_snr) + '.npy')\n",
    "    print 'optimal_vals_mean=', np.array(optimal_vals).mean()\n",
    "    print 'optimal_vals_std=', np.std(optimal_vals)\n",
    "    print\n",
    "\n",
    "    times = np.load(base_folder+ 'times/times_Tsnr' + str(t_snr) + '.npy')\n",
    "    print 'times_mean=', np.array(times).mean()\n",
    "    print 'times_std=', np.std(times)\n",
    "    print\n"
   ]
  },
  {
   "cell_type": "code",
   "execution_count": 3,
   "metadata": {
    "collapsed": false
   },
   "outputs": [
    {
     "name": "stdout",
     "output_type": "stream",
     "text": [
      "==[Tsnr=25] ==\n",
      "Yhr_norm_mean= 17931.7637678\n",
      "Yhr_norm_std= 18.2182528978\n",
      "\n",
      "Ylr_norm_mean= 6436.84554019\n",
      "Ylr_norm_std= 13.398635669\n",
      "dif_norms_mean= 770.038227065\n",
      "dif_norms_std= 3.36946031513\n",
      "\n",
      "optimal_vals_mean= 3051.4604561\n",
      "optimal_vals_std= 500.031892358\n",
      "\n",
      "times_mean= 309.031538963\n",
      "times_std= 3.7795986076\n",
      "\n"
     ]
    }
   ],
   "source": [
    "print_results(t_snr=25)"
   ]
  },
  {
   "cell_type": "code",
   "execution_count": 11,
   "metadata": {
    "collapsed": false
   },
   "outputs": [
    {
     "name": "stdout",
     "output_type": "stream",
     "text": [
      "==[Tsnr=50] ==\n",
      "Yhr_norm_mean= 17892.5221937\n",
      "Yhr_norm_std= 46.7618915345\n",
      "\n",
      "Ylr_norm_mean= 6420.40925906\n",
      "Ylr_norm_std= 8.59257946717\n",
      "dif_norms_mean= 713.489408081\n",
      "dif_norms_std= 14.3176683433\n",
      "\n",
      "optimal_vals_mean= 3083.35550031\n",
      "optimal_vals_std= 559.471776744\n",
      "\n",
      "times_mean= 304.826362562\n",
      "times_std= 6.25090245471\n",
      "\n"
     ]
    }
   ],
   "source": [
    "print_results(t_snr=50)"
   ]
  },
  {
   "cell_type": "code",
   "execution_count": 10,
   "metadata": {
    "collapsed": false
   },
   "outputs": [
    {
     "name": "stdout",
     "output_type": "stream",
     "text": [
      "A_Tsnr25_lrsnr25.npy (12, 12, 12, 6)\n",
      "(12, 12, 12, 6) y= 6\n"
     ]
    },
    {
     "data": {
      "image/png": "[encoded data removed]",
      "text/plain": [
       "<matplotlib.figure.Figure at 0x7f9095805610>"
      ]
     },
     "metadata": {},
     "output_type": "display_data"
    }
   ],
   "source": [
    "base_folder = './resultados/reconstruc/'\n",
    "name = 'A_Tsnr%d_lrsnr%d.npy'% (25, 25)\n",
    "A = np.load(base_folder+ name)\n",
    "print name, A.shape\n",
    "img_utils._is(A, b=2)\n",
    "del A"
   ]
  }
 ],
 "metadata": {
  "kernelspec": {
   "display_name": "Python 2",
   "language": "python",
   "name": "python2"
  },
  "language_info": {
   "codemirror_mode": {
    "name": "ipython",
    "version": 2
   },
   "file_extension": ".py",
   "mimetype": "text/x-python",
   "name": "python",
   "nbconvert_exporter": "python",
   "pygments_lexer": "ipython2",
   "version": "2.7.12"
  }
 },
 "nbformat": 4,
 "nbformat_minor": 0
}
