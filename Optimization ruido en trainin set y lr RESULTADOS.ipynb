{
 "cells": [
  {
   "cell_type": "code",
   "execution_count": 1,
   "metadata": {
    "collapsed": false
   },
   "outputs": [
    {
     "name": "stdout",
     "output_type": "stream",
     "text": [
      "Populating the interactive namespace from numpy and matplotlib\n"
     ]
    }
   ],
   "source": [
    "%pylab inline\n",
    "import time\n",
    "import numpy as np\n",
    "import matplotlib.pyplot as plt\n",
    "from utils import img_utils\n",
    "import seaborn as sns\n",
    "import utils.math_utils as mu"
   ]
  },
  {
   "cell_type": "code",
   "execution_count": 52,
   "metadata": {
    "collapsed": true
   },
   "outputs": [],
   "source": [
    "def print_results(t_snr=25):\n",
    "    base_folder = './resultados/'\n",
    "\n",
    "    print '==[Tsnr=%s] =='%str(t_snr)\n",
    "    \n",
    "    optimal_vals = np.load(base_folder+ 'optimal_vals/optimal_vals_Tsnr' + str(t_snr) + '.npy')\n",
    "    print 'optimal_vals_mean=', np.array(optimal_vals).mean()\n",
    "    print 'optimal_vals_std=', np.std(optimal_vals)\n",
    "    print\n",
    "    \n",
    "    times = np.load(base_folder+ 'times/times_Tsnr' + str(t_snr) + '.npy')\n",
    "    sec = np.array(times).mean()\n",
    "    print 'times_mean=', int(sec/60), \"'\", int(sec%60),'\"'\n",
    "    print 'times_std=', np.std(times)\n",
    "    print\n",
    "    \n",
    "    Yhr_norms = np.load(base_folder+ 'Yhr_norms/Yhr_norms_Tsnr' + str(t_snr) + '.npy')\n",
    "    print 'Yhr_norm_mean=', np.array(Yhr_norms).mean()\n",
    "    print 'Yhr_norm_std=', np.std(Yhr_norms)\n",
    "    print\n",
    "\n",
    "    Ylr_norms = np.load(base_folder+ 'Ylr_norms/Ylr_norms_Tsnr' + str(t_snr) + '.npy')\n",
    "    print 'Ylr_norm_mean=', np.array(Ylr_norms).mean()\n",
    "    print 'Ylr_norm_std=', np.std(Ylr_norms)\n",
    "    print\n",
    "\n",
    "    dif_norms = np.load(base_folder+ 'dif_norms/dif_norms_Tsnr' + str(t_snr) + '.npy')\n",
    "    print 'dif_norms_mean=', np.array(dif_norms).mean()\n",
    "    print 'dif_norms_std=', np.std(dif_norms)\n",
    "    print\n",
    "    \n",
    "    return Yhr_norms, Ylr_norms, dif_norms, optimal_vals, times\n"
   ]
  },
  {
   "cell_type": "code",
   "execution_count": 74,
   "metadata": {
    "collapsed": false,
    "scrolled": true
   },
   "outputs": [
    {
     "name": "stdout",
     "output_type": "stream",
     "text": [
      "==[Tsnr=75] ==\n",
      "optimal_vals_mean= 3062.95373388\n",
      "optimal_vals_std= 540.415079249\n",
      "\n",
      "times_mean= 5 ' 33 \"\n",
      "times_std= 34.6419429125\n",
      "\n",
      "Yhr_norm_mean= 17948.640358\n",
      "Yhr_norm_std= 38.36827582\n",
      "\n",
      "Ylr_norm_mean= 6441.36604292\n",
      "Ylr_norm_std= 21.6735968918\n",
      "\n",
      "dif_norms_mean= 653.144766334\n",
      "dif_norms_std= 6.28913529796\n",
      "\n",
      "optimal_vals [ 4097.23608713  3092.27965803  2786.66426973  2710.34897658  2628.23967792]\n",
      "i_hr 18093.7347444\n",
      "Yhr_norms [ 18024.76248893  17928.51011617  17938.0135442   17929.03136087\n",
      "  17922.88428   ]\n",
      "i_lr 6425.75513072\n",
      "Ylr_norms [ 6484.27244243  6434.36435376  6433.35473982  6429.08354788  6425.75513072]\n",
      "dif_norms [ 640.76778015  656.47696223  654.31025849  656.35203708  657.81679372]\n"
     ]
    }
   ],
   "source": [
    "Yhr_norms, Ylr_norms, dif_norms, optimal_vals, times = print_results(t_snr=75)\n",
    "\n",
    "print 'optimal_vals', optimal_vals\n",
    "print 'i_hr', np.linalg.norm(i_hr)\n",
    "print 'Yhr_norms' , Yhr_norms\n",
    "\n",
    "print 'i_lr', np.linalg.norm(i_lr)\n",
    "print 'Ylr_norms' , Ylr_norms\n",
    "print 'dif_norms', dif_norms"
   ]
  },
  {
   "cell_type": "code",
   "execution_count": 53,
   "metadata": {
    "collapsed": false,
    "scrolled": true
   },
   "outputs": [
    {
     "name": "stdout",
     "output_type": "stream",
     "text": [
      "==[Tsnr=inf] ==\n",
      "optimal_vals_mean= 3034.28053525\n",
      "optimal_vals_std= 494.9482911\n",
      "\n",
      "times_mean= 5 ' 7 \"\n",
      "times_std= 1.49111612789\n",
      "\n",
      "Yhr_norm_mean= 17908.0053546\n",
      "Yhr_norm_std= 16.4625900104\n",
      "\n",
      "Ylr_norm_mean= 6427.99025333\n",
      "Ylr_norm_std= 4.87548911547\n",
      "\n",
      "dif_norms_mean= 859.403717655\n",
      "dif_norms_std= 3.25286506126\n",
      "\n"
     ]
    },
    {
     "data": {
      "text/plain": [
       "array([ 864.65224888,  856.39767267,  861.77165482,  856.88977091,\n",
       "        857.307241  ])"
      ]
     },
     "execution_count": 53,
     "metadata": {},
     "output_type": "execute_result"
    }
   ],
   "source": [
    "Yhr_norms, Ylr_norms, dif_norms, optimal_vals, times = print_results(t_snr=float('inf'))\n",
    "dif_norms"
   ]
  },
  {
   "cell_type": "code",
   "execution_count": 98,
   "metadata": {
    "collapsed": false
   },
   "outputs": [
    {
     "data": {
      "text/plain": [
       "18093.734744380443"
      ]
     },
     "execution_count": 98,
     "metadata": {},
     "output_type": "execute_result"
    }
   ],
   "source": [
    "VMIN, VMAX = 0,408\n",
    "np.linalg.norm(i_hr)"
   ]
  },
  {
   "cell_type": "markdown",
   "metadata": {},
   "source": [
    "# Calculando MSE "
   ]
  },
  {
   "cell_type": "code",
   "execution_count": 75,
   "metadata": {
    "collapsed": true
   },
   "outputs": [],
   "source": [
    "# Tomo los pedazos utilizados (original y sub muestrado de input)\n",
    "i_hr = np.load('./resultados/i_hr.npy')\n",
    "i_lr = np.load('./resultados/i_lr.npy')\n",
    "\n",
    "# Tomo el resultado del realce\n",
    "base_folder = './resultados/reconstruc/'\n",
    "name = 'A_Tsnr%d_lrsnr%d.npy'% (75, 75)\n",
    "A = np.load(base_folder+ name)"
   ]
  },
  {
   "cell_type": "code",
   "execution_count": 79,
   "metadata": {
    "collapsed": false
   },
   "outputs": [
    {
     "data": {
      "text/plain": [
       "(1.3366594149819726, 202.25197009947843)"
      ]
     },
     "execution_count": 79,
     "metadata": {},
     "output_type": "execute_result"
    }
   ],
   "source": [
    "mse_img = mu.mse(i_hr, A,axis=3)\n",
    "mse_img.min(), mse_img.max()"
   ]
  },
  {
   "cell_type": "code",
   "execution_count": 94,
   "metadata": {
    "collapsed": false
   },
   "outputs": [
    {
     "data": {
      "image/png": "[encoded data removed]",
      "text/plain": [
       "<matplotlib.figure.Figure at 0x7f9094035490>"
      ]
     },
     "metadata": {},
     "output_type": "display_data"
    }
   ],
   "source": [
    "from mpl_toolkits.axes_grid1 import make_axes_locatable\n",
    "reload(img_utils)\n",
    "\n",
    "\n",
    "SNR = 75\n",
    "titles = ['Original', 'Estimada (snr='+str(SNR)+')',  'ECM (snr='+str(SNR)+')']\n",
    "plt, _, _, im3 = img_utils._isc3(i_hr, A, mse_img, b=0,titles=titles, vmin=VMIN, vmax=VMAX)\n",
    "#plt.set_cmap('afmhot')\n",
    "#plt.clim(200)\n",
    "#plt.colorbar(im3)\n",
    "divider = make_axes_locatable(im3.axes)\n",
    "cax = divider.append_axes(\"right\", size=\"5%\", pad=0.05)\n",
    "plt.colorbar(im3, cax=cax)\n",
    "plt.savefig('/user/lgomez/home/Documents/tesis/optimizacion/img/mse_snr50_voxels_b1_cmp.pdf')\n"
   ]
  },
  {
   "cell_type": "markdown",
   "metadata": {},
   "source": [
    "# Idem pero para el coef. de det."
   ]
  },
  {
   "cell_type": "code",
   "execution_count": 95,
   "metadata": {
    "collapsed": false
   },
   "outputs": [
    {
     "data": {
      "text/plain": [
       "(-1.4508125767855646, 0.99951470894140404)"
      ]
     },
     "execution_count": 95,
     "metadata": {},
     "output_type": "execute_result"
    }
   ],
   "source": [
    "cdet_img = mu.coef_det_by_voxel_skl(i_hr, A)\n",
    "cdet_img.min(), cdet_img.max()"
   ]
  },
  {
   "cell_type": "code",
   "execution_count": 97,
   "metadata": {
    "collapsed": false
   },
   "outputs": [
    {
     "data": {
      "image/png": "[encoded data removed]",
      "text/plain": [
       "<matplotlib.figure.Figure at 0x7f9094063b90>"
      ]
     },
     "metadata": {},
     "output_type": "display_data"
    }
   ],
   "source": [
    "from mpl_toolkits.axes_grid1 import make_axes_locatable\n",
    "reload(img_utils)\n",
    "SNR = 75\n",
    "titles = ['Original', 'Estimada (snr='+str(SNR)+')',  'COEF. DET.']\n",
    "plt, _, _, im3 = img_utils._isc3(i_hr, A, cdet_img, b=0,titles=titles, vmin=VMIN, vmax=VMAX)\n",
    "#plt.set_cmap('afmhot')\n",
    "#plt.clim(200)\n",
    "#plt.colorbar(im3)\n",
    "divider = make_axes_locatable(im3.axes)\n",
    "cax = divider.append_axes(\"right\", size=\"5%\", pad=0.05)\n",
    "plt.colorbar(im3, cax=cax)\n",
    "#plt.savefig('/user/lgomez/home/Documents/tesis/optimizacion/img/cdet_snr50_voxels_b1_cmp.pdf')\n"
   ]
  },
  {
   "cell_type": "code",
   "execution_count": 71,
   "metadata": {
    "collapsed": false
   },
   "outputs": [
    {
     "name": "stdout",
     "output_type": "stream",
     "text": [
      "A_Tsnr25_lrsnr25.npy 408.1112754 295.0 291.0 407.0 312.0 347.0 397.0\n"
     ]
    },
    {
     "data": {
      "image/png": "[encoded data removed]",
      "text/plain": [
       "<matplotlib.figure.Figure at 0x7f90940f3510>"
      ]
     },
     "metadata": {},
     "output_type": "display_data"
    }
   ],
   "source": [
    "print name, A.max(), i_hr[:,:,:,0].max(), i_hr[:,:,:,1].max(), i_hr[:,:,:,2].max(), i_hr[:,:,:,3].max(), i_hr[:,:,:,4].max(), i_hr[:,:,:,5].max() \n",
    "plt = img_utils._isc(i_hr,A,b=2, titles=['Original', name], vmax=VMAX)"
   ]
  },
  {
   "cell_type": "markdown",
   "metadata": {},
   "source": [
    "## Save all coronal slice from all result (une gradient only)"
   ]
  },
  {
   "cell_type": "code",
   "execution_count": 73,
   "metadata": {
    "collapsed": false
   },
   "outputs": [
    {
     "data": {
      "text/plain": [
       "(2.5302733194397948, 408.11127540010409)"
      ]
     },
     "execution_count": 73,
     "metadata": {},
     "output_type": "execute_result"
    },
    {
     "data": {
      "image/png": "[encoded data removed]",
      "text/plain": [
       "<matplotlib.figure.Figure at 0x7f90954bd950>"
      ]
     },
     "metadata": {},
     "output_type": "display_data"
    }
   ],
   "source": [
    "base_folder = './resultados/reconstruc/'\n",
    "Tsnrs = [25, 50, 75, 100, 200, float('inf')]\n",
    "LRsnrs = [25, 50, 75, 100, float('inf')]\n",
    "\n",
    "gradient=0\n",
    "maxs =[]\n",
    "mins =[]\n",
    "for tsnr in Tsnrs :\n",
    "    for lrsnr in LRsnrs :\n",
    "        name = 'A_Tsnr%s_lrsnr%s'% (str(tsnr), str(lrsnr))\n",
    "        A = np.load(base_folder + name + '.npy')\n",
    "        maxs.append(A.max())\n",
    "        mins.append(A.min())\n",
    "        res=img_utils._is(A, b=gradient, vmin=VMIN, vmax=VMAX)\n",
    "        res.savefig(base_folder +'img/' + name + '_G'+str(gradient))\n",
    "\n",
    "np.array(mins).min() , np.array(maxs).max()        "
   ]
  },
  {
   "cell_type": "code",
   "execution_count": 64,
   "metadata": {
    "collapsed": false
   },
   "outputs": [
    {
     "data": {
      "text/plain": [
       "<module 'matplotlib.pyplot' from '/user/lgomez/home/anaconda2/lib/python2.7/site-packages/matplotlib/pyplot.pyc'>"
      ]
     },
     "execution_count": 64,
     "metadata": {},
     "output_type": "execute_result"
    },
    {
     "data": {
      "image/png": "[encoded data removed]",
      "text/plain": [
       "<matplotlib.figure.Figure at 0x7f9093ccd6d0>"
      ]
     },
     "metadata": {},
     "output_type": "display_data"
    }
   ],
   "source": [
    "img_utils._isc(i_hr, A, b=4, vmax=410)"
   ]
  }
 ],
 "metadata": {
  "kernelspec": {
   "display_name": "Python 2",
   "language": "python",
   "name": "python2"
  },
  "language_info": {
   "codemirror_mode": {
    "name": "ipython",
    "version": 2
   },
   "file_extension": ".py",
   "mimetype": "text/x-python",
   "name": "python",
   "nbconvert_exporter": "python",
   "pygments_lexer": "ipython2",
   "version": "2.7.12"
  }
 },
 "nbformat": 4,
 "nbformat_minor": 0
}
