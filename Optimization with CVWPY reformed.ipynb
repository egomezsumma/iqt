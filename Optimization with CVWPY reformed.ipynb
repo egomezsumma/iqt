{
 "cells": [
  {
   "cell_type": "markdown",
   "metadata": {
    "collapsed": true
   },
   "source": [
    "# Optimization with CVWPY "
   ]
  },
  {
   "cell_type": "code",
   "execution_count": 1,
   "metadata": {
    "collapsed": false
   },
   "outputs": [
    {
     "name": "stdout",
     "output_type": "stream",
     "text": [
      "Populating the interactive namespace from numpy and matplotlib\n"
     ]
    }
   ],
   "source": [
    "%pylab inline\n",
    "import time\n",
    "import numpy as np\n",
    "import cvxpy as cvx\n",
    "import matplotlib.pyplot as plt\n",
    "from utils import img_utils\n",
    "import seaborn as sns\n",
    "import utils.math_utils as mu"
   ]
  },
  {
   "cell_type": "code",
   "execution_count": 2,
   "metadata": {
    "collapsed": false
   },
   "outputs": [
    {
     "data": {
      "text/plain": [
       "<module 'utils.img_utils' from 'utils/img_utils.pyc'>"
      ]
     },
     "execution_count": 2,
     "metadata": {},
     "output_type": "execute_result"
    }
   ],
   "source": [
    "reload(img_utils)"
   ]
  },
  {
   "cell_type": "markdown",
   "metadata": {},
   "source": [
    "## Load DWI"
   ]
  },
  {
   "cell_type": "code",
   "execution_count": 3,
   "metadata": {
    "collapsed": false
   },
   "outputs": [
    {
     "name": "stderr",
     "output_type": "stream",
     "text": [
      "/user/lgomez/home/anaconda2/lib/python2.7/site-packages/skimage/filter/__init__.py:6: skimage_deprecation: The `skimage.filter` module has been renamed to `skimage.filters`.  This placeholder module will be removed in v0.13.\n",
      "  warn(skimage_deprecation('The `skimage.filter` module has been renamed '\n"
     ]
    },
    {
     "name": "stdout",
     "output_type": "stream",
     "text": [
      "Dataset is already in place. If you want to fetch it again please first remove the folder /user/lgomez/home/.dipy/stanford_hardi \n",
      "Dataset is already in place. If you want to fetch it again please first remove the folder /user/lgomez/home/.dipy/stanford_hardi \n"
     ]
    }
   ],
   "source": [
    "from utils.DataGetter import DataGetter\n",
    "from utils.DownsampledImage import DownsampledImage\n",
    "\n",
    "d = DataGetter()\n",
    "datas_names = [\n",
    "    DataGetter.STANDFORD_HARDI_DATA, #(81, 106, 76, 160)\n",
    "    #DataGetter.TAIWAN_NTU_DSI_DATA,  #(96, 96, 60, 203)\n",
    "    #DataGetter.SHERBROOKE_3SHELL_DATA #(128, 128, 60, 193)\n",
    "]\n",
    "\n",
    "scale=2\n",
    "datas = d.get_data(datas_names)\n",
    "name = datas_names[0]\n",
    "lr_hr_img = DownsampledImage(name, datas[name]['img'], datas[name]['gtab'], scale)\n",
    "\n",
    "NORMALIZE = False\n",
    "if NORMALIZE :\n",
    "    img_hr = mu.normalize_by_bval(lr_hr_img.get_hr_img().astype(float))\n",
    "    img_lr = mu.normalize_by_bval(lr_hr_img.get_lr_img().astype(float))\n",
    "else:\n",
    "    img_hr = lr_hr_img.get_hr_img().astype(float)\n",
    "    img_lr = lr_hr_img.get_lr_img().astype(float)\n",
    "    "
   ]
  },
  {
   "cell_type": "markdown",
   "metadata": {},
   "source": [
    "## Select Area of Interest"
   ]
  },
  {
   "cell_type": "code",
   "execution_count": 4,
   "metadata": {
    "collapsed": false
   },
   "outputs": [
    {
     "data": {
      "text/plain": [
       "('b=2000, G directions =',\n",
       " array([[  2.18280000e-02,   8.02420000e-01,  -5.96360000e-01],\n",
       "        [ -1.54250000e-02,   2.20980000e-01,   9.75160000e-01],\n",
       "        [ -7.09180000e-01,  -6.31060000e-04,  -7.05030000e-01],\n",
       "        [ -2.46500000e-01,   1.04300000e-01,  -9.63510000e-01],\n",
       "        [ -4.83470000e-01,   4.39100000e-01,  -7.57260000e-01],\n",
       "        [  1.51030000e-01,   9.65230000e-01,   2.13360000e-01]]))"
      ]
     },
     "execution_count": 4,
     "metadata": {},
     "output_type": "execute_result"
    },
    {
     "data": {
      "image/png": "[encoded data removed]",
      "text/plain": [
       "<matplotlib.figure.Figure at 0x7fcd7cbc4190>"
      ]
     },
     "metadata": {},
     "output_type": "display_data"
    }
   ],
   "source": [
    "img_shape = img_lr.shape\n",
    "x0,xf, y0,yf, z0,zf = volume_range_lr = (10, 16, 15, 21, 13, 19)\n",
    "#x0,xf, y0,yf, z0,zf = volume_range_lr = (16, 16+6, 11, 17, 15, 21)\n",
    "b0, bf = bval_range = (10,16)\n",
    "gdirections = lr_hr_img.gtab.bvecs[b0:bf]\n",
    "\n",
    "# Type and intensiti of noise to apply\n",
    "SNR, SNR_TYPE = 50, 'gaussian'\n",
    "\n",
    "#img_hr[2*x0:2*xf, 2*y0:2*yf, 2*z0:2*zf, b0:bf] = (img_hr[2*x0:2*xf, y0, 2*z0:2*zf, b0:bf].max())*np.ones((12,12,12,6))\n",
    "\n",
    "i_lr = img_lr[x0:xf, y0:yf, z0:zf, b0:bf]\n",
    "i_hr = img_hr[2*x0:2*xf, 2*y0:2*yf, 2*z0:2*zf, b0:bf]\n",
    "\n",
    "img_utils._isc(i_hr,i_lr,titles=['Orig '+ str(i_hr.shape), 'Downsam... '+str(i_lr.shape)] )\n",
    "'b=2000, G directions =', gdirections\n"
   ]
  },
  {
   "cell_type": "code",
   "execution_count": 35,
   "metadata": {
    "collapsed": false
   },
   "outputs": [
    {
     "data": {
      "image/png": "[encoded data removed]",
      "text/plain": [
       "<matplotlib.figure.Figure at 0x7fccfa326390>"
      ]
     },
     "metadata": {},
     "output_type": "display_data"
    },
    {
     "name": "stdout",
     "output_type": "stream",
     "text": [
      "HR max,min 0.0 13321.0\n",
      "(30, 20, 12, 12)\n"
     ]
    }
   ],
   "source": [
    "reload(img_utils)\n",
    "\n",
    "rect_hr = 2*(z0+2), 2*x0, 2*xf-2*x0, 2*zf-2*z0\n",
    "\n",
    "img_utils._iswr(img_hr[:,2*y0:2*yf,:,10:16],  rect_hr, b=1,title='Orig '+ str(i_hr.shape))\n",
    "print 'HR max,min', img_hr.min(), img_hr.max()\n",
    "print rect_hr"
   ]
  },
  {
   "cell_type": "code",
   "execution_count": 34,
   "metadata": {
    "collapsed": false
   },
   "outputs": [
    {
     "data": {
      "image/png": "[encoded data removed]",
      "text/plain": [
       "<matplotlib.figure.Figure at 0x7fccfa326710>"
      ]
     },
     "metadata": {},
     "output_type": "display_data"
    },
    {
     "name": "stdout",
     "output_type": "stream",
     "text": [
      "LR max,min 0.0 12067.0\n",
      "(15, 10, 6, 6)\n"
     ]
    }
   ],
   "source": [
    "reload(img_utils)\n",
    "\n",
    "rect_lr = z0+2, x0, xf-x0, zf-z0\n",
    "\n",
    "img_utils._iswr(img_lr[:,y0:yf,:,10:16], rect_lr,b=1, title='Downsam... '+str(i_lr.shape))\n",
    "print 'LR max,min', img_lr.min(), img_lr.max()\n",
    "print rect_lr"
   ]
  },
  {
   "cell_type": "code",
   "execution_count": 18,
   "metadata": {
    "collapsed": false
   },
   "outputs": [
    {
     "data": {
      "text/plain": [
       "<matplotlib.colorbar.Colorbar at 0x7f6d14fbd6d0>"
      ]
     },
     "execution_count": 18,
     "metadata": {},
     "output_type": "execute_result"
    },
    {
     "data": {
      "image/png": "[encoded data removed]",
      "text/plain": [
       "<matplotlib.figure.Figure at 0x7f6d154d3f50>"
      ]
     },
     "metadata": {},
     "output_type": "display_data"
    }
   ],
   "source": [
    "import scipy.ndimage.filters as fil\n",
    "\n",
    "imgd = np.rot90(mu.normalize(fil.laplace(img_hr[:,img_hr.shape[1]/2,:,0])))\n",
    "\n",
    "imshow(1-imgd, interpolation='none')\n",
    "colorbar()\n"
   ]
  },
  {
   "cell_type": "markdown",
   "metadata": {},
   "source": [
    "# Predicting the G downsampling Matrix"
   ]
  },
  {
   "cell_type": "code",
   "execution_count": 9,
   "metadata": {
    "collapsed": false
   },
   "outputs": [
    {
     "name": "stdout",
     "output_type": "stream",
     "text": [
      "Samples for  standfor_hardi : 10 of inf\n",
      "(1296, 10) (10368, 10)\n"
     ]
    }
   ],
   "source": [
    "import utils.RandomRanges as rr\n",
    "import utils.DmriVolumesRandomIndexers as ixs\n",
    "import utils.DmriSampleCreators as sc\n",
    "import utils.ml.MLDataBuilder as db\n",
    "\n",
    "\n",
    "# Estrategia de volumne y rango de bvals (fija)\n",
    "volume_strategy, bval_strategy = rr.Fixed3DRange(*volume_range_lr), rr.Fixed1DRange(*bval_range)\n",
    "# El que combina ambas\n",
    "dmri_volume_indexer = ixs.DmriVolumeRandomIndexer(volume_strategy, bval_strategy)\n",
    "# Equivalencia entre indices de la hr y lr \n",
    "fconvert = lambda *lr_tuple : tuple(np.array(lr_tuple[:-2])*2)+lr_tuple[-2:]\n",
    "# Iterador de dmri imagen lr y hr\n",
    "lr_hr_vol_it = ixs.DmriLrHrCubicPatchVolumeRandomIndexer(dmri_volume_indexer, fconvert, from_lr2hr=True)\n",
    "\n",
    "# El que toma la imagen original y downsampleada y les pone ruido (gaussian, rician)\n",
    "sample_creator = sc.NoisedLrHrDmriSampleCreator(lr_hr_img, lr_hr_vol_it, snr=SNR, noise_type=SNR_TYPE)\n",
    "\n",
    "\n",
    "n_samples = 10\n",
    "\n",
    "# Builder that organize data like the ML wants \n",
    "sdb = db.SimpleMlDataBuilder(sample_creator, n_samples)\n",
    "\n",
    "X, Y = sdb.build()\n",
    "print X.shape, Y.shape"
   ]
  },
  {
   "cell_type": "code",
   "execution_count": 6,
   "metadata": {
    "collapsed": false
   },
   "outputs": [
    {
     "data": {
      "text/plain": [
       "<module 'utils.dmri_patch_operations.DmriPatch' from 'utils/dmri_patch_operations/DmriPatch.pyc'>"
      ]
     },
     "execution_count": 6,
     "metadata": {},
     "output_type": "execute_result"
    }
   ],
   "source": [
    "reload(rr)\n",
    "reload(sc)\n",
    "reload(db)\n",
    "reload(ixs)\n",
    "import utils.dmri_patch_operations.DmriPatch as patchs\n",
    "reload(patchs)"
   ]
  },
  {
   "cell_type": "code",
   "execution_count": 10,
   "metadata": {
    "collapsed": false
   },
   "outputs": [
    {
     "data": {
      "text/plain": [
       "<module 'matplotlib.pyplot' from '/user/lgomez/home/anaconda2/lib/python2.7/site-packages/matplotlib/pyplot.pyc'>"
      ]
     },
     "execution_count": 10,
     "metadata": {},
     "output_type": "execute_result"
    },
    {
     "data": {
      "image/png": "[encoded data removed]",
      "text/plain": [
       "<matplotlib.figure.Figure at 0x7f1adddee810>"
      ]
     },
     "metadata": {},
     "output_type": "display_data"
    }
   ],
   "source": [
    "img_utils._is(i_hr-Y[:, 1].reshape(i_hr.shape), b=1)"
   ]
  },
  {
   "cell_type": "code",
   "execution_count": 12,
   "metadata": {
    "collapsed": false
   },
   "outputs": [
    {
     "name": "stdout",
     "output_type": "stream",
     "text": [
      "m1 min:max 0.00452488687783 0.545248868778\n",
      "m2 min:max -4.0 488.0\n",
      "dif min:max -487.454751131 4.01696832579\n",
      "difcuad min:max 0.000154839172007 237612.1344\n",
      "mse, sqrt(mse)= 32493.5167233 180.259581502\n",
      "coef_det= m1 min:max 0.00452488687783 0.545248868778\n",
      "m2 min:max -4.0 488.0\n",
      "dif min:max -487.454751131 4.01696832579\n",
      "difcuad min:max 0.000154839172007 237612.1344\n",
      "-4268690.20131\n"
     ]
    },
    {
     "data": {
      "image/png": "[encoded data removed]",
      "text/plain": [
       "<matplotlib.figure.Figure at 0x7f1addb74090>"
      ]
     },
     "metadata": {},
     "output_type": "display_data"
    }
   ],
   "source": [
    "img_utils._isc(i_hr, Y[:, 1].reshape(i_hr.shape), b=1, titles=['HR', 'HR (snr='+str(SNR)+')'])\n",
    "reload(mu)\n",
    "mse_feta = mu.mse(i_hr[:,:,:,1], Y[:, 1].reshape(i_hr.shape)[:,:,:,1])\n",
    "print 'mse, sqrt(mse)=', mse_feta, sqrt(mse_feta)\n",
    "print 'coef_det=', mu.coef_det(i_hr[:,:,:,1], Y[:, 1].reshape(i_hr.shape)[:,:,:,1])\n"
   ]
  },
  {
   "cell_type": "code",
   "execution_count": 9,
   "metadata": {
    "collapsed": false
   },
   "outputs": [
    {
     "data": {
      "text/plain": [
       "<matplotlib.colorbar.Colorbar at 0x7f31756e2610>"
      ]
     },
     "execution_count": 9,
     "metadata": {},
     "output_type": "execute_result"
    },
    {
     "data": {
      "image/png": "[encoded data removed]",
      "text/plain": [
       "<matplotlib.figure.Figure at 0x7f3176807f10>"
      ]
     },
     "metadata": {},
     "output_type": "display_data"
    }
   ],
   "source": [
    "plt =img_utils._isc(i_lr, X[:, 9].reshape(i_lr.shape), b=0, titles=['LR', 'LR (snr='+str(SNR)+')'])\n",
    "#plt.colorbar()"
   ]
  },
  {
   "cell_type": "markdown",
   "metadata": {},
   "source": [
    "### Training"
   ]
  },
  {
   "cell_type": "code",
   "execution_count": 13,
   "metadata": {
    "collapsed": false
   },
   "outputs": [
    {
     "name": "stdout",
     "output_type": "stream",
     "text": [
      "Training set_training.shape= (10368, 9)  ->target.shape= (1296, 9)\n"
     ]
    },
    {
     "data": {
      "text/plain": [
       "(scipy.sparse.csr.csr_matrix, (1296, 10368), 50)"
      ]
     },
     "execution_count": 13,
     "metadata": {},
     "output_type": "execute_result"
    }
   ],
   "source": [
    "from scipy.sparse import csr_matrix, csc_matrix\n",
    "import experimento1_funciones as e1f\n",
    "#reload(e1f)\n",
    "\n",
    "# Calculamos la matriz de downsampling\n",
    "regr, Y_train , X_train, Y_test, X_test = e1f.train(Y,X)\n",
    "\n",
    "regr.coef_ = csr_matrix(regr.coef_)\n",
    "type(regr.coef_), regr.coef_.shape, SNR"
   ]
  },
  {
   "cell_type": "markdown",
   "metadata": {},
   "source": [
    "## Problem definition\n",
    "\n",
    "$ \\min_{Y_{hr}} \\{ ||GY_{lr} - Y_{hr}||^2 \\}$ st $Y_{hr} \\geq 0$"
   ]
  },
  {
   "cell_type": "code",
   "execution_count": 14,
   "metadata": {
    "collapsed": false
   },
   "outputs": [
    {
     "data": {
      "text/plain": [
       "(Problem(Minimize(Expression(CONVEX, POSITIVE, (1, 1))), []), True)"
      ]
     },
     "execution_count": 14,
     "metadata": {},
     "output_type": "execute_result"
    }
   ],
   "source": [
    "Nx, Ny, Nz, bval = i_hr.shape\n",
    "vhrb = Nx*Ny*Nz*bval\n",
    "vlr = Nx*Ny*Nz/8\n",
    "\n",
    "Yhr = cvx.Variable(vhrb, 1)\n",
    "Ylr = i_lr.reshape((vlr*bval, 1))\n",
    "G = cvx.Parameter(*regr.coef_.shape, value=regr.coef_)\n",
    "\n",
    "# Form objective.\n",
    "obj = cvx.Minimize(cvx.sum_squares(G*Yhr - Ylr))\n",
    "\n",
    "# Create two constraints.\n",
    "#constraints = [Yhr >= 0]\n",
    "\n",
    "# Form and solve problem.\n",
    "prob = cvx.Problem(obj)\n",
    "prob, prob.is_dcp()"
   ]
  },
  {
   "cell_type": "markdown",
   "metadata": {},
   "source": [
    "### Motor ECOS (muy lento pero mas preciso)"
   ]
  },
  {
   "cell_type": "markdown",
   "metadata": {},
   "source": [
    "### Motor SCS (mas veloz menos preciso)"
   ]
  },
  {
   "cell_type": "code",
   "execution_count": 15,
   "metadata": {
    "collapsed": false
   },
   "outputs": [
    {
     "name": "stdout",
     "output_type": "stream",
     "text": [
      "WARN: m less than n, problem likely degenerate\n",
      "----------------------------------------------------------------------------\n",
      "\tSCS v1.2.6 - Splitting Conic Solver\n",
      "\t(c) Brendan O'Donoghue, Stanford University, 2012-2016\n",
      "----------------------------------------------------------------------------\n",
      "Lin-sys: sparse-indirect, nnz in A = 13436930, CG tol ~ 1/iter^(2.00)\n",
      "eps = 1.00e-01, alpha = 1.50, max_iters = 2100, normalize = 1, scale = 1.00\n",
      "Variables n = 10369, constraints m = 1298\n",
      "Cones:\tsoc vars: 1298, soc blks: 1\n",
      "Setup time: 6.39e-01s\n",
      "----------------------------------------------------------------------------\n",
      " Iter | pri res | dua res | rel gap | pri obj | dua obj | kap/tau | time (s)\n",
      "----------------------------------------------------------------------------\n",
      "     0| 3.97e+00  5.01e-01  9.77e-01 -4.24e+01  1.96e-02  0.00e+00  1.17e+00 \n",
      "    20| 1.52e-02  2.29e-05  3.55e-02  4.48e-02  8.50e-02  7.71e-13  4.94e+00 \n",
      "----------------------------------------------------------------------------\n",
      "Status: Solved\n",
      "Timing: Solve time: 4.94e+00s\n",
      "\tLin-sys: avg # CG iterations: 3.48, avg solve time: 2.32e-01s\n",
      "\tCones: avg projection time: 2.38e-06s\n",
      "----------------------------------------------------------------------------\n",
      "Error metrics:\n",
      "dist(s, K) = 0.0000e+00, dist(y, K*) = 2.2204e-16, s'y/|s||y| = -3.0555e-17\n",
      "|Ax + s - b|_2 / (1 + |b|_2) = 1.5248e-02\n",
      "|A'y + c|_2 / (1 + |c|_2) = 2.2881e-05\n",
      "|c'x + b'y| / (1 + |c'x| + |b'y|) = 3.5526e-02\n",
      "----------------------------------------------------------------------------\n",
      "c'x = 0.0448, -b'y = 0.0850\n",
      "============================================================================\n",
      "status: optimal\n",
      "optimal value 0.044832192481\n",
      "--- time of optimization : 0' 20'' --- num. snr: 50\n"
     ]
    }
   ],
   "source": [
    "start_time = time.time()\n",
    "\n",
    "res = prob.solve(solver='SCS',verbose=True, max_iters=2100,eps=1.00e-01 )  # Returns the optimal value.\n",
    "print \"status:\", prob.status\n",
    "print \"optimal value\", prob.value\n",
    "#print \"optimal var\", Yhr.value\n",
    "\n",
    "seg = time.time() - start_time\n",
    "minutes = int(seg / 60)\n",
    "print(\"--- time of optimization : %d' %d'' --- num. snr: %d\" % (minutes , seg%60, SNR))"
   ]
  },
  {
   "cell_type": "code",
   "execution_count": 16,
   "metadata": {
    "collapsed": false
   },
   "outputs": [
    {
     "name": "stdout",
     "output_type": "stream",
     "text": [
      "shape= (12, 12, 12, 6) 50\n"
     ]
    }
   ],
   "source": [
    "A = np.asarray(Yhr.value).reshape(i_hr.shape)\n",
    "print 'shape=', A.shape, SNR\n"
   ]
  },
  {
   "cell_type": "code",
   "execution_count": 18,
   "metadata": {
    "collapsed": false
   },
   "outputs": [
    {
     "data": {
      "text/plain": [
       "<module 'utils.math_utils' from 'utils/math_utils.py'>"
      ]
     },
     "execution_count": 18,
     "metadata": {},
     "output_type": "execute_result"
    }
   ],
   "source": [
    "reload(mu)"
   ]
  },
  {
   "cell_type": "markdown",
   "metadata": {},
   "source": [
    "## Coef Det"
   ]
  },
  {
   "cell_type": "code",
   "execution_count": 19,
   "metadata": {
    "collapsed": false
   },
   "outputs": [
    {
     "name": "stdout",
     "output_type": "stream",
     "text": [
      "YO: cdet_img (max,min):  (-24.857112776572592, 0.99420334195560711)\n",
      "YO: cdet_layer [ 0.9131335   0.97513972  0.84900841  0.92880176  0.86623983  0.95617349] (0.84900841396164295, 0.9751397206920055)\n"
     ]
    }
   ],
   "source": [
    "import utils.math_utils as mu\n",
    "import sklearn.metrics as skm\n",
    "\n",
    "#cdet_img = mu.coef_det(i_hr, A,axis=3)\n",
    "cdet_img = mu.coef_det_by_voxel_skl(i_hr, A)\n",
    "cdet_layer = mu.coef_det_by_layer(i_hr, A)\n",
    "#cdet_layer3 = mu.coef_det_by_layer_skl(i_hr, A)\n",
    "print 'YO: cdet_img (max,min): ', (cdet_img.min(),cdet_img.max())\n",
    "#print 'SKL: cdet_img3',  (cdet_img3.min(),cdet_img3.max())\n",
    "print 'YO: cdet_layer', cdet_layer , (cdet_layer.min(),cdet_layer.max())\n",
    "#print 'SKL cdet_layer3', cdet_layer3 , (cdet_layer3.min(),cdet_layer3.max())"
   ]
  },
  {
   "cell_type": "code",
   "execution_count": 20,
   "metadata": {
    "collapsed": false
   },
   "outputs": [
    {
     "data": {
      "text/plain": [
       "<matplotlib.text.Text at 0x7f1ad180af10>"
      ]
     },
     "execution_count": 20,
     "metadata": {},
     "output_type": "execute_result"
    },
    {
     "data": {
      "image/png": "[encoded data removed]",
      "text/plain": [
       "<matplotlib.figure.Figure at 0x7f1add9dcb50>"
      ]
     },
     "metadata": {},
     "output_type": "display_data"
    }
   ],
   "source": [
    "#ppv = lambda x1,x2,x3 : '('+str(x1)+',' +str(x2)+','+str(x3)+','')'\n",
    "\n",
    "lala = plt.bar(range(0,cdet_layer.size), cdet_layer)\n",
    "plt.xticks(arange(cdet_layer.size)+0.5,('G1','G2','G3','G4','G5','G6'))\n",
    "plt.legend(lala,('G'+str(i+1) +\":\"+str(gdirections[i]) for i in range(0,6)) , loc=2, bbox_to_anchor=(1, 0.5))\n",
    "plt.title('COEF. DET. POR GRADIENTE snr='+str(SNR))\n",
    "\n",
    "#lala[0].set_label('G1')"
   ]
  },
  {
   "cell_type": "code",
   "execution_count": 21,
   "metadata": {
    "collapsed": false
   },
   "outputs": [
    {
     "name": "stdout",
     "output_type": "stream",
     "text": [
      "saving cdet_snr50_voxels.png\n"
     ]
    },
    {
     "data": {
      "text/plain": [
       "('min,max = ', -0.56666274338903189, 0.99379974642457558)"
      ]
     },
     "execution_count": 21,
     "metadata": {},
     "output_type": "execute_result"
    },
    {
     "data": {
      "image/png": "[encoded data removed]",
      "text/plain": [
       "<matplotlib.figure.Figure at 0x7f1addc60510>"
      ]
     },
     "metadata": {},
     "output_type": "display_data"
    }
   ],
   "source": [
    "base_folder='/user/lgomez/home/Documents/tesis/optimizacion/img/' \n",
    "folder=base_folder + 'snr'+str(SNR)+'/cdet/'\n",
    "\n",
    "plt.clf()\n",
    "name = 'cdet_snr'+str(SNR)+'_voxels.png'\n",
    "print 'saving', name   \n",
    "plt=img_utils._is(cdet_img,title='COEF. DET. (snr='+str(SNR)+')')\n",
    "#plt.clim(0.3,0.9)\n",
    "#plt.colorbar()\n",
    "plt.savefig(folder + name)\n",
    "'min,max = ',cdet_img[:,cdet_img.shape[1]/2,:].min(), cdet_img[:,cdet_img.shape[1]/2,:].max()"
   ]
  },
  {
   "cell_type": "code",
   "execution_count": 22,
   "metadata": {
    "collapsed": false
   },
   "outputs": [
    {
     "data": {
      "text/plain": [
       "(array([  1.,   1.,   3.,   0.,   2.,   4.,   7.,   9.,  28.,  89.]),\n",
       " array([-0.56666274, -0.41061649, -0.25457025, -0.098524  ,  0.05752225,\n",
       "         0.2135685 ,  0.36961475,  0.525661  ,  0.68170725,  0.8377535 ,\n",
       "         0.99379975]),\n",
       " <a list of 10 Patch objects>)"
      ]
     },
     "execution_count": 22,
     "metadata": {},
     "output_type": "execute_result"
    },
    {
     "data": {
      "image/png": "[encoded data removed]",
      "text/plain": [
       "<matplotlib.figure.Figure at 0x7f1addb6bf50>"
      ]
     },
     "metadata": {},
     "output_type": "display_data"
    }
   ],
   "source": [
    "hist(cdet_img[:,cdet_img.shape[1]/2, :].flatten())\n",
    "#hist(cdet_img.flatten())"
   ]
  },
  {
   "cell_type": "code",
   "execution_count": 24,
   "metadata": {
    "collapsed": false
   },
   "outputs": [
    {
     "data": {
      "image/png": "[encoded data removed]",
      "text/plain": [
       "<matplotlib.figure.Figure at 0x7f1adc161e10>"
      ]
     },
     "metadata": {},
     "output_type": "display_data"
    }
   ],
   "source": [
    "# PARA MOSTRAR UNA\n",
    "plt=img_utils._isc3(i_hr, A, cdet_img, b=2,titles=['Original', 'Estimada (snr='+str(SNR)+')',  'COEF. DET.(snr='+str(SNR)+')'])\n",
    "#plt.clim(-4,1)"
   ]
  },
  {
   "cell_type": "code",
   "execution_count": 59,
   "metadata": {
    "collapsed": false
   },
   "outputs": [
    {
     "name": "stdout",
     "output_type": "stream",
     "text": [
      "saving cdet_snr50_voxels_b0_cmp.png /user/lgomez/home/Documents/tesis/optimizacion/img/snr50/mse/\n",
      "saving cdet_snr50_voxels_b1_cmp.png /user/lgomez/home/Documents/tesis/optimizacion/img/snr50/mse/\n",
      "saving cdet_snr50_voxels_b2_cmp.png /user/lgomez/home/Documents/tesis/optimizacion/img/snr50/mse/\n",
      "saving cdet_snr50_voxels_b3_cmp.png /user/lgomez/home/Documents/tesis/optimizacion/img/snr50/mse/\n",
      "saving cdet_snr50_voxels_b4_cmp.png /user/lgomez/home/Documents/tesis/optimizacion/img/snr50/mse/\n",
      "saving cdet_snr50_voxels_b5_cmp.png /user/lgomez/home/Documents/tesis/optimizacion/img/snr50/mse/\n"
     ]
    },
    {
     "data": {
      "image/png": "[encoded data removed]",
      "text/plain": [
       "<matplotlib.figure.Figure at 0x7f31734d7bd0>"
      ]
     },
     "metadata": {},
     "output_type": "display_data"
    }
   ],
   "source": [
    "reload(img_utils)\n",
    "from mpl_toolkits.axes_grid1 import make_axes_locatable\n",
    "\n",
    "for b in range(0,6):\n",
    "    plt.clf()\n",
    "    name = 'cdet_snr'+str(SNR)+'_voxels_b'+ str(b) +'_cmp.png'\n",
    "    print 'saving', name, folder\n",
    "    titles = ['Original', 'Estimada (snr='+str(SNR)+')',  'COEF. DET.(snr='+str(SNR)+')']\n",
    "    plt, _, _, im3=img_utils._isc3(i_hr, A, cdet_img, b=b, titles=titles)\n",
    "    plt.colorbar(im3,fraction=0.056, pad=0.04)\n",
    "    #im3.clim(0,1)\n",
    "    plt.savefig(folder + name)\n",
    "    \n",
    "    "
   ]
  },
  {
   "cell_type": "markdown",
   "metadata": {},
   "source": [
    "## MSE"
   ]
  },
  {
   "cell_type": "code",
   "execution_count": 25,
   "metadata": {
    "collapsed": false
   },
   "outputs": [
    {
     "name": "stdout",
     "output_type": "stream",
     "text": [
      "(12, 12, 12, 6) (12, 12, 12, 6)\n",
      "dif_norm = 2.23266582212\n",
      "norm_i_hr = 17.6669569251\n",
      "norm_A = 19.5817802116\n",
      "norm_A_sob_norm_i_hr = 1.10838444304\n"
     ]
    }
   ],
   "source": [
    "mse_img = mu.mse(i_hr, A,axis=3)\n",
    "mse_layer = [mu.mse(i_hr[:,:,:,i], A[:,:,:,i]) for i in range(0,6)]\n",
    "print i_hr.shape, A.shape\n",
    "norm_A , norm_i_hr = np.linalg.norm(A),  np.linalg.norm(i_hr)\n",
    "print 'dif_norm =', np.linalg.norm(i_hr-A)  \n",
    "print 'norm_i_hr =', norm_i_hr\n",
    "print 'norm_A =', norm_A\n",
    "print 'norm_A_sob_norm_i_hr =', norm_A/norm_i_hr"
   ]
  },
  {
   "cell_type": "code",
   "execution_count": 29,
   "metadata": {
    "collapsed": false
   },
   "outputs": [
    {
     "data": {
      "text/plain": [
       "<matplotlib.text.Text at 0x7f1adc149e10>"
      ]
     },
     "execution_count": 29,
     "metadata": {},
     "output_type": "execute_result"
    },
    {
     "data": {
      "image/png": "[encoded data removed]",
      "text/plain": [
       "<matplotlib.figure.Figure at 0x7f1adde88590>"
      ]
     },
     "metadata": {},
     "output_type": "display_data"
    }
   ],
   "source": [
    "#ppv = lambda x1,x2,x3 : '('+str(x1)+',' +str(x2)+','+str(x3)+','')'\n",
    "\n",
    "lolo = plt.bar(range(0,len(mse_layer)), mse_layer)\n",
    "plt.xticks(arange(len(mse_layer))+0.5,('G1','G2','G3','G4','G5','G6'))\n",
    "plt.legend(lolo,('G'+str(i+1) +\":\"+str(gdirections[i]) for i in range(0,6)) , loc=2, bbox_to_anchor=(1, 0.5))\n",
    "plt.title('ECM. POR GRADIENTE')\n",
    "#lala[0].set_label('G1')"
   ]
  },
  {
   "cell_type": "code",
   "execution_count": 30,
   "metadata": {
    "collapsed": false
   },
   "outputs": [
    {
     "name": "stdout",
     "output_type": "stream",
     "text": [
      "saving mse_snr50_voxels.png\n",
      "4.93280495278e-06 0.00193278421163\n"
     ]
    },
    {
     "data": {
      "text/plain": [
       "('min:max', 3.3622102209925539e-05, 0.0015404497517115588)"
      ]
     },
     "execution_count": 30,
     "metadata": {},
     "output_type": "execute_result"
    },
    {
     "data": {
      "image/png": "[encoded data removed]",
      "text/plain": [
       "<matplotlib.figure.Figure at 0x7f1adde888d0>"
      ]
     },
     "metadata": {},
     "output_type": "display_data"
    }
   ],
   "source": [
    "base_folder='/user/lgomez/home/Documents/tesis/optimizacion/img/' \n",
    "folder=base_folder + 'snr'+str(SNR)+'/mse/'\n",
    "\n",
    "plt.clf()\n",
    "name = 'mse_snr'+str(SNR)+'_voxels.png'\n",
    "print 'saving', name   \n",
    "plt=img_utils._is(mse_img,title='ECM (snr='+str(SNR)+')')\n",
    "#plt.clim(0, 800)\n",
    "plt.savefig(folder + name)\n",
    "\n",
    "print mse_img.min(), mse_img.max()\n",
    "\n",
    "'min:max', mse_img[:,mse_img.shape[1]/2, :].min(),mse_img[:,mse_img.shape[1]/2, :].max()"
   ]
  },
  {
   "cell_type": "code",
   "execution_count": 31,
   "metadata": {
    "collapsed": false
   },
   "outputs": [
    {
     "data": {
      "image/png": "[encoded data removed]",
      "text/plain": [
       "<matplotlib.figure.Figure at 0x7f53a6c73bd0>"
      ]
     },
     "metadata": {},
     "output_type": "display_data"
    }
   ],
   "source": [
    "plt, _, _, im3=img_utils._isc3(i_hr, A, mse_img, b=2,titles=['Original', 'Estimada (snr='+str(SNR)+')',  'ECM (snr='+str(SNR)+')'])\n",
    "\n",
    "plt.clim(0,250)"
   ]
  },
  {
   "cell_type": "code",
   "execution_count": 56,
   "metadata": {
    "collapsed": false
   },
   "outputs": [
    {
     "name": "stdout",
     "output_type": "stream",
     "text": [
      "saving mse_snr50_voxels_b0_cmp.png\n",
      "saving mse_snr50_voxels_b1_cmp.png\n",
      "saving mse_snr50_voxels_b2_cmp.png\n",
      "saving mse_snr50_voxels_b3_cmp.png\n",
      "saving mse_snr50_voxels_b4_cmp.png\n",
      "saving mse_snr50_voxels_b5_cmp.png\n"
     ]
    },
    {
     "data": {
      "image/png": "[encoded data removed]",
      "text/plain": [
       "<matplotlib.figure.Figure at 0x7f3173432790>"
      ]
     },
     "metadata": {},
     "output_type": "display_data"
    }
   ],
   "source": [
    "folder=base_folder + 'snr'+str(SNR)+'/mse/'\n",
    "for b in range(0,6):\n",
    "    plt.clf()\n",
    "    name = 'mse_snr'+str(SNR)+'_voxels_b'+ str(b) +'_cmp.png'\n",
    "    print 'saving', name\n",
    "    titles = ['Original', 'Estimada (snr='+str(SNR)+')',  'ECM (snr='+str(SNR)+')']\n",
    "    plt, _, _, im3=img_utils._isc3(i_hr, A, mse_img, b=b,titles=titles)\n",
    "    plt.colorbar(im3,fraction=0.056, pad=0.04)\n",
    "    #plt.clim(4,200)\n",
    "    plt.savefig(folder + name)\n",
    "    "
   ]
  },
  {
   "cell_type": "markdown",
   "metadata": {},
   "source": [
    "### Result cmp"
   ]
  },
  {
   "cell_type": "code",
   "execution_count": 31,
   "metadata": {
    "collapsed": false
   },
   "outputs": [
    {
     "name": "stdout",
     "output_type": "stream",
     "text": [
      "saving resul_snr50_b0_cmp.png\n",
      "saving resul_snr50_b1_cmp.png\n",
      "saving resul_snr50_b2_cmp.png\n",
      "saving resul_snr50_b3_cmp.png\n",
      "saving resul_snr50_b4_cmp.png\n",
      "saving resul_snr50_b5_cmp.png\n"
     ]
    },
    {
     "data": {
      "text/plain": [
       "('Imagen con bvalor=2000', array([-0.015425,  0.22098 ,  0.97516 ]))"
      ]
     },
     "execution_count": 31,
     "metadata": {},
     "output_type": "execute_result"
    },
    {
     "data": {
      "image/png": "[encoded data removed]",
      "text/plain": [
       "<matplotlib.figure.Figure at 0x7f1ac3ec5990>"
      ]
     },
     "metadata": {},
     "output_type": "display_data"
    }
   ],
   "source": [
    "folder=base_folder + 'snr'+str(SNR)+'/'\n",
    "for b in range(0,6):\n",
    "    plt.clf()\n",
    "    name = 'resul_snr'+str(SNR)+'_b'+ str(b) +'_cmp.png'\n",
    "    print 'saving', name\n",
    "    titles = ['Original', 'Estimada (snr='+str(SNR)+')']\n",
    "    plt=img_utils._isc(i_hr, A, b=b, titles=titles)\n",
    "    #plt.clim(-4,1)\n",
    "    plt.savefig(folder + name)\n",
    "    \n",
    "('Imagen con bvalor=2000', gdirections[1])"
   ]
  },
  {
   "cell_type": "markdown",
   "metadata": {},
   "source": [
    "# NO BORRAR"
   ]
  },
  {
   "cell_type": "code",
   "execution_count": 53,
   "metadata": {
    "collapsed": false
   },
   "outputs": [
    {
     "name": "stdout",
     "output_type": "stream",
     "text": [
      "mse_layer_snr100 = [27.220444741448883, 95.207864739714694, 67.879196785303634, 53.893334054430582, 37.539338353298909, 44.547255060879401]\n",
      "cdet_layer_snr100 = [ 0.99126412  0.98399461  0.98917208  0.99137239  0.99125107  0.99210082]\n"
     ]
    }
   ],
   "source": [
    "print 'mse_layer_snr100 =', mse_layer\n",
    "print 'cdet_layer_snr100 =', cdet_layer"
   ]
  },
  {
   "cell_type": "code",
   "execution_count": 34,
   "metadata": {
    "collapsed": false
   },
   "outputs": [
    {
     "name": "stdout",
     "output_type": "stream",
     "text": [
      "mse_layer_snr75 = [24.903095000753748, 64.459998276653664, 64.269193160808669, 97.59202966002924, 33.116074690944259, 37.173534933253528]\n",
      "cdet_layer_snr75 = [ 0.99200783  0.98916363  0.98974794  0.9843768   0.99228195  0.99340834]\n"
     ]
    }
   ],
   "source": [
    "print 'mse_layer_snr'+str(SNR)+' =', mse_layer\n",
    "print 'cdet_layer_snr'+str(SNR)+' =', cdet_layer"
   ]
  },
  {
   "cell_type": "code",
   "execution_count": 52,
   "metadata": {
    "collapsed": false
   },
   "outputs": [
    {
     "name": "stdout",
     "output_type": "stream",
     "text": [
      "mse_layer_snr50 = [31.711632688301421, 66.392447765628674, 64.729100362041777, 75.545249462703325, 43.196339126857751, 117.19964987408039]\n",
      "cdet_layer_snr50 = [ 0.98982276  0.98883877  0.98967458  0.9879062   0.98993264  0.97921799]\n"
     ]
    }
   ],
   "source": [
    "print 'mse_layer_snr'+str(SNR)+' =', mse_layer\n",
    "print 'cdet_layer_snr'+str(SNR)+' =', cdet_layer"
   ]
  },
  {
   "cell_type": "code",
   "execution_count": 32,
   "metadata": {
    "collapsed": false
   },
   "outputs": [
    {
     "name": "stdout",
     "output_type": "stream",
     "text": [
      "mse_layer_snr25 = [74.732087077878617, 597.04040861583007, 94.488468371191715, 530.63279378294988, 463.27448441659328, 93.750388263039085]\n",
      "cdet_layer_snr25 = [ 0.97601617  0.89963155  0.98492744  0.91505266  0.89202907  0.98337605]\n"
     ]
    }
   ],
   "source": [
    "print 'mse_layer_snr'+str(SNR)+' =', mse_layer\n",
    "print 'cdet_layer_snr'+str(SNR)+' =', cdet_layer"
   ]
  },
  {
   "cell_type": "code",
   "execution_count": 22,
   "metadata": {
    "collapsed": false
   },
   "outputs": [
    {
     "name": "stdout",
     "output_type": "stream",
     "text": [
      "mse_layer_snr0 = [16840.573495370369, 32607.552662037036, 29843.239583333332, 31034.450810185186, 21723.137152777777, 25464.213541666668]\n",
      "cdet_layer_snr0 = [-4.40466006 -4.48165497 -3.76051719 -3.9682078  -4.06280286 -3.51535118]\n"
     ]
    }
   ],
   "source": [
    "print 'mse_layer_snr'+str(SNR)+' =', mse_layer\n",
    "print 'cdet_layer_snr'+str(SNR)+' =', cdet_layer"
   ]
  },
  {
   "cell_type": "code",
   "execution_count": 26,
   "metadata": {
    "collapsed": false
   },
   "outputs": [
    {
     "name": "stdout",
     "output_type": "stream",
     "text": [
      "mse_layer_snr200 = [22.926268563299839, 152.41911256015663, 48.45190707071918, 49.818254635660452, 32.272639600281224, 40.417170069472405]\n",
      "cdet_layer_snr200 = [ 0.99264225  0.97437683  0.99227108  0.99202475  0.99247853  0.99283317]\n"
     ]
    }
   ],
   "source": [
    "print 'mse_layer_snr'+str(SNR)+' =', mse_layer\n",
    "print 'cdet_layer_snr'+str(SNR)+' =', cdet_layer"
   ]
  },
  {
   "cell_type": "code",
   "execution_count": 29,
   "metadata": {
    "collapsed": false
   },
   "outputs": [
    {
     "name": "stdout",
     "output_type": "stream",
     "text": [
      "mse_layer_snr400 = [24.748734503082265, 97.595881400042416, 56.601868725436169, 50.827455890505377, 27.975157916068842, 49.93778267415064]\n",
      "cdet_layer_snr400 = [ 0.99205737  0.98359316  0.99097101  0.99186319  0.9934801   0.99114496]\n"
     ]
    }
   ],
   "source": [
    "print 'mse_layer_snr'+str(SNR)+' =', mse_layer\n",
    "print 'cdet_layer_snr'+str(SNR)+' =', cdet_layer"
   ]
  }
 ],
 "metadata": {
  "kernelspec": {
   "display_name": "Python 2",
   "language": "python",
   "name": "python2"
  },
  "language_info": {
   "codemirror_mode": {
    "name": "ipython",
    "version": 2
   },
   "file_extension": ".py",
   "mimetype": "text/x-python",
   "name": "python",
   "nbconvert_exporter": "python",
   "pygments_lexer": "ipython2",
   "version": "2.7.12"
  }
 },
 "nbformat": 4,
 "nbformat_minor": 0
}
