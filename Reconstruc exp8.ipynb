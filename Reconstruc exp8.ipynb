{
 "cells": [
  {
   "cell_type": "code",
   "execution_count": 1,
   "metadata": {
    "collapsed": false
   },
   "outputs": [
    {
     "name": "stdout",
     "output_type": "stream",
     "text": [
      "Populating the interactive namespace from numpy and matplotlib\n"
     ]
    }
   ],
   "source": [
    "%pylab inline\n",
    "import numpy as np\n",
    "from conf_exp6 import *\n",
    "import seaborn\n",
    "#import utils.img_utils as iu\n",
    "from utils import img_utils\n",
    "import matplotlib.pyplot as plt\n",
    "\n",
    "def mm(A, cast_int=True):\n",
    "    if cast_int:\n",
    "        return (int(A.min()), int(A.max()))\n",
    "    else:\n",
    "        return (A.min(), A.max())"
   ]
  },
  {
   "cell_type": "code",
   "execution_count": 2,
   "metadata": {
    "collapsed": false
   },
   "outputs": [
    {
     "name": "stdout",
     "output_type": "stream",
     "text": [
      "[3, 4, 5, 6, 7, 8, 9, 10]\n",
      "(8, 10, 5)\n"
     ]
    }
   ],
   "source": [
    "parameter_name = 'gsize'\n",
    "formula = 'f1'\n",
    "base_folder = './results/exp9/%s/%s/'%(formula, parameter_name)\n",
    "rango = [3, 4, 5, 6, 7, 8, 9, 10]\n",
    "#group_sizes = group_sizes[-2:]\n",
    "\n",
    "GROUPS=5\n",
    "FITS=10\n",
    "RANGO=len(rango)\n",
    "print rango \n",
    "\n",
    "\"\"\"\n",
    "REVISAR EL OTRO EL ORDEN DE LO\n",
    "GUARDADO\n",
    "\n",
    "\"\"\"\n",
    "\n",
    "\n",
    "mse = np.zeros((RANGO, FITS, GROUPS), dtype='float32')\n",
    "mse1000 = np.zeros((RANGO, FITS, GROUPS), dtype='float32')\n",
    "mse2000 = np.zeros((RANGO, FITS, GROUPS), dtype='float32')\n",
    "mse3000 = np.zeros((RANGO, FITS, GROUPS), dtype='float32')\n",
    "\n",
    "# example: mse1000_g0_f0.npy  \n",
    "name_tmp1 = base_folder + 'mse_g%d_f%d.npy'\n",
    "name_tmp2 = base_folder + 'mse%d_g%d_f%d.npy'\n",
    "name_tmp3 = base_folder + 'A_g%d_bsize%d.npy'\n",
    "for group in xrange(GROUPS):\n",
    "    for fit in xrange(FITS):\n",
    "        mse[:, fit, group] = np.load(name_tmp1%(group, fit))\n",
    "        mse1000[:, fit, group] = np.load(name_tmp2%(1000, group, fit))\n",
    "        mse2000[:, fit, group] = np.load(name_tmp2%(2000, group, fit))\n",
    "        mse3000[:, fit, group] = np.load(name_tmp2%(3000, group, fit))\n",
    "        \n",
    "        \n",
    "print mse.shape\n"
   ]
  },
  {
   "cell_type": "code",
   "execution_count": 4,
   "metadata": {
    "collapsed": false
   },
   "outputs": [
    {
     "data": {
      "text/plain": [
       "(10, 1, 1)"
      ]
     },
     "execution_count": 4,
     "metadata": {},
     "output_type": "execute_result"
    }
   ],
   "source": [
    "mse.shape"
   ]
  },
  {
   "cell_type": "code",
   "execution_count": 3,
   "metadata": {
    "collapsed": false
   },
   "outputs": [
    {
     "name": "stdout",
     "output_type": "stream",
     "text": [
      "rango [3, 4, 5, 6, 7, 8, 9, 10]\n",
      "mean [  4.36128672e+08   3.80190144e+08   3.80190144e+08   3.24251584e+08\n",
      "   6.62027968e+08   1.05095718e+09   6.87604416e+08   6.87604352e+08]\n",
      "var [  5.42392768e+08   5.42392768e+08   5.42392768e+08   4.94582752e+08\n",
      "   1.25749901e+09   1.73057472e+09   1.44830016e+09   1.41863002e+09]\n"
     ]
    }
   ],
   "source": [
    "\n",
    "mean = mse.mean(axis=2).mean(axis=1)\n",
    "var = np.std(np.std(mse, axis=2), axis=1)\n",
    "\n",
    "print 'rango', rango\n",
    "print 'mean', mean\n",
    "print 'var', var"
   ]
  },
  {
   "cell_type": "code",
   "execution_count": 4,
   "metadata": {
    "collapsed": false
   },
   "outputs": [
    {
     "name": "stdout",
     "output_type": "stream",
     "text": [
      "rango [3, 4, 5, 6, 7, 8, 9, 10]\n",
      "mean [  3.86513760e+08   3.35602752e+08   3.35602720e+08   2.84691648e+08\n",
      "   6.68316480e+08   1.05055520e+09   6.67623424e+08   6.67623424e+08]\n",
      "var [  4.83508800e+08   4.83508864e+08   4.83508800e+08   4.38720608e+08\n",
      "   1.40489267e+09   1.81699571e+09   1.52484787e+09   1.48447501e+09]\n"
     ]
    }
   ],
   "source": [
    "mean1000 = mse1000.mean(axis=2).mean(axis=1)\n",
    "var1000 = np.std(np.std(mse1000, axis=2), axis=1)\n",
    "\n",
    "print 'rango', rango\n",
    "print 'mean', mean1000\n",
    "print 'var', var1000"
   ]
  },
  {
   "cell_type": "code",
   "execution_count": 9,
   "metadata": {
    "collapsed": false
   },
   "outputs": [
    {
     "name": "stdout",
     "output_type": "stream",
     "text": [
      "rango [3, 4, 5, 6, 7, 8, 9, 10]\n",
      "mean [  2.50642592e+08   2.23276752e+08   2.23276720e+08   1.95910880e+08\n",
      "   5.01961792e+08   8.91705152e+08   5.43807936e+08   5.43807936e+08]\n",
      "var [  3.05055424e+08   3.05055424e+08   3.05055424e+08   2.85748128e+08\n",
      "   1.11442906e+09   1.67393331e+09   1.39222336e+09   1.36372851e+09]\n"
     ]
    }
   ],
   "source": [
    "mean2000 = mse2000.mean(axis=2).mean(axis=1)\n",
    "var2000 = np.std(np.std(mse2000, axis=2), axis=1)\n",
    "\n",
    "print 'rango', rango\n",
    "print 'mean', mean2000\n",
    "print 'var', var2000"
   ]
  },
  {
   "cell_type": "code",
   "execution_count": 5,
   "metadata": {
    "collapsed": false
   },
   "outputs": [
    {
     "name": "stdout",
     "output_type": "stream",
     "text": [
      "0.093155\n",
      "rango [3, 4, 5, 6, 7, 8, 9, 10]\n",
      "mean [  4.46129920e+08   3.67594656e+08   3.67594656e+08   2.89059360e+08\n",
      "   6.38212736e+08   1.05024083e+09   6.69650048e+08   6.69650048e+08]\n",
      "var [  6.26324928e+08   6.26324864e+08   6.26324864e+08   5.37302784e+08\n",
      "   1.30770560e+09   1.81813261e+09   1.51084096e+09   1.49220762e+09]\n"
     ]
    }
   ],
   "source": [
    "mean3000 = mse3000.mean(axis=2).mean(axis=1)\n",
    "var3000 = np.std(np.std(mse3000, axis=2), axis=1)\n",
    "\n",
    "print mse3000[1,0,1]\n",
    "print 'rango', rango\n",
    "print 'mean', mean3000\n",
    "print 'var', var3000"
   ]
  },
  {
   "cell_type": "code",
   "execution_count": 10,
   "metadata": {
    "collapsed": false
   },
   "outputs": [
    {
     "name": "stdout",
     "output_type": "stream",
     "text": [
      "[  4.36128672e+08   3.80190144e+08   3.80190144e+08   3.24251584e+08\n",
      "   6.62027968e+08   1.05095718e+09   6.87604416e+08   6.87604352e+08]\n",
      "[3, 4, 5, 6, 7, 8, 9, 10]\n"
     ]
    },
    {
     "data": {
      "image/png": "[encoded data removed]",
      "text/plain": [
       "<matplotlib.figure.Figure at 0x7f4924320650>"
      ]
     },
     "metadata": {},
     "output_type": "display_data"
    }
   ],
   "source": [
    "mean3 = np.zeros((8, 3))\n",
    "mean3[:, 0] = mean1000\n",
    "mean3[:, 1] = mean2000\n",
    "mean3[:, 2] = mean3000\n",
    "\n",
    "#plt.plot(rango, mean,'o', label='b=all')\n",
    "plt.errorbar(rango, mean, yerr=var, fmt='o', label='b=all')\n",
    "print mean\n",
    "\n",
    "\n",
    "#B1000\n",
    "#plt.plot(rango, mean1000,'o', label='b=1000')\n",
    "#plt.errorbar(rango, mean1000, yerr=var1000, fmt='o')\n",
    "#print mean1000\n",
    "\n",
    "#B2000\n",
    "#plt.plot(rango, mean2000,'o', label='b=2000')\n",
    "#plt.errorbar(rango, mean2000, yerr=var2000, fmt='o',label='b=2000')\n",
    "#print mean2000\n",
    "\n",
    "#B3000\n",
    "#plt.plot(rango, mean3000,'o', label='b=3000')\n",
    "#plt.errorbar(rango, mean3000, yerr=var3000, fmt='o',label='b=3000')\n",
    "#print mean3000\n",
    "\n",
    "\n",
    "\n",
    "#plt.plot(rango, mean3.mean(axis=1),'o', label='b=all')\n",
    "#plt.errorbar(rango, mean3.mean(axis=1), yerr=np.std(mean3, axis=1), fmt='o')\n",
    "\n",
    "\n",
    "plt.legend()\n",
    "plt.ylabel('MSE(Yhr,^Yhr)')\n",
    "plt.xlabel(parameter_name)\n",
    "#plt.legend(lala , loc=2, bbox_to_anchor=(1, 0.5))\n",
    "mse[:,2,1]\n",
    "#print plt.ylim((940000000.0, 960000000.0))\n",
    "\n",
    "print rango\n",
    "## Para grabar\n",
    "#plt.savefig('/user/lgomez/home/workspace/iqt/results/exp6/bsize_mean_var_10a55.pdf')"
   ]
  },
  {
   "cell_type": "code",
   "execution_count": 64,
   "metadata": {
    "collapsed": false
   },
   "outputs": [
    {
     "name": "stdout",
     "output_type": "stream",
     "text": [
      "(0.15799651053117095, 0.88344506253057631)\n",
      "(0.16787643354846832, 0.90748239604816827)\n",
      "(0.1740768787880744, 0.88858941795697399)\n",
      "(0.16907113793422907, 0.89741074215665073)\n",
      "(0.16828728837361082, 0.90953404061245058)\n",
      "(0.17740487416984158, 0.90849845330567947)\n",
      "(0.20262923987666726, 0.89752925680953333)\n",
      "(0.2137905731750907, 0.93192365466979366)\n",
      "(0.23653781085643044, 0.8940811472948399)\n",
      "(0.2592720604108224, 0.8822519955282927)\n",
      "(0.10250489997838903, 1.2865411477591622)\n",
      "(0.12273239802383196, 1.2782046338587081)\n",
      "(0.11655727313443943, 1.2515540432499894)\n",
      "(0.11609282804588514, 1.2500867865508511)\n",
      "(0.1206677284125626, 1.2679586293741891)\n",
      "(0.11830693064120686, 1.2554192504075004)\n",
      "(0.14649433991117353, 1.2366026425350545)\n",
      "(0.20665255349413889, 1.2147628232139078)\n",
      "(0.27542493271278773, 1.1502287324500353)\n",
      "(0.27923704322443871, 0.98889073628427426)\n",
      "(0.12703456396940094, 1.1624547203707092)\n",
      "(0.1298219464839015, 1.1650661017731136)\n",
      "(0.13615634114960931, 1.1558617788068071)\n",
      "(0.13819890110641636, 1.1362762935480546)\n",
      "(0.12215495248849435, 1.1313760066716396)\n",
      "(0.14121821512983787, 1.1155739478489777)\n",
      "(0.17026865797555998, 1.0668622613505645)\n",
      "(0.18518800075488562, 1.1015793721658445)\n",
      "(0.19859866102163068, 1.0856368830487573)\n",
      "(0.25690824277466695, 1.1037162754438736)\n",
      "(0.096588207602594608, 1.3503117458975855)\n",
      "(0.10786616706904739, 1.3441154800195876)\n",
      "(0.11686955519492667, 1.3349417248162583)\n",
      "(0.12603066203445881, 1.319586370955905)\n",
      "(0.1252310007686272, 1.3267175664079836)\n",
      "(0.12779558722174578, 1.3206138061012305)\n",
      "(0.12360800745741155, 1.2918773893723134)\n",
      "(0.15081241218087726, 1.2543235553451215)\n",
      "(0.18265737094703402, 1.1869400061458686)\n",
      "(0.20821107281999079, 1.1768873410134912)\n",
      "(0.28868714059722939, 1.1955091649313068)\n",
      "(0.29175068299480844, 1.1957700850188711)\n",
      "(0.30406483209472446, 1.1788558422030584)\n",
      "(0.30206069730370882, 1.183893080948057)\n",
      "(0.29485758927203781, 1.2020238776945489)\n",
      "(0.31423140684572665, 1.1801270179916286)\n",
      "(0.29950882059577483, 1.1600355828921813)\n",
      "(0.3316087666370085, 1.1065202868141866)\n",
      "(0.31898465782051699, 1.0469140191493058)\n",
      "(0.32756758773828432, 0.95457232950142479)\n"
     ]
    },
    {
     "data": {
      "image/png": "[encoded data removed]",
      "text/plain": [
       "<matplotlib.figure.Figure at 0x7f9e7c10ef50>"
      ]
     },
     "metadata": {},
     "output_type": "display_data"
    }
   ],
   "source": [
    "## Para grabar\n",
    "\n",
    "for g in xrange(5):\n",
    "    for b in xrange(10):\n",
    "        A = np.load(name_tmp3%(g, b))\n",
    "        print mm(A, cast_int=False)\n",
    "        plt = img_utils._is(A, vmin=A.min(), vmax=A.max())\n",
    "        name_img = (name_tmp3%(g, b))[:-3]\n",
    "        plt.savefig(name_img +'png')\n",
    "\n",
    "#plt.savefig('/user/lgomez/home/workspace/iqt/results/exp6/gammas/gamma_all.png')\n",
    "    "
   ]
  }
 ],
 "metadata": {
  "kernelspec": {
   "display_name": "Python 2",
   "language": "python",
   "name": "python2"
  },
  "language_info": {
   "codemirror_mode": {
    "name": "ipython",
    "version": 2
   },
   "file_extension": ".py",
   "mimetype": "text/x-python",
   "name": "python",
   "nbconvert_exporter": "python",
   "pygments_lexer": "ipython2",
   "version": "2.7.12"
  }
 },
 "nbformat": 4,
 "nbformat_minor": 0
}
