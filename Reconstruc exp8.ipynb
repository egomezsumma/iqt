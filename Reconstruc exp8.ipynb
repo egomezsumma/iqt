{
 "cells": [
  {
   "cell_type": "code",
   "execution_count": 13,
   "metadata": {
    "collapsed": false
   },
   "outputs": [
    {
     "name": "stdout",
     "output_type": "stream",
     "text": [
      "Populating the interactive namespace from numpy and matplotlib\n"
     ]
    }
   ],
   "source": [
    "import numpy as np\n",
    "from conf_exp6 import *\n",
    "\n",
    "%pylab inline\n",
    "from utils import img_utils\n",
    "\n",
    "import matplotlib.pyplot as plt\n",
    "\n",
    "\n",
    "def mm(A, cast_int=True):\n",
    "    if cast_int:\n",
    "        return (int(A.min()), int(A.max()))\n",
    "    else:\n",
    "        return (A.min(), A.max())"
   ]
  },
  {
   "cell_type": "code",
   "execution_count": 22,
   "metadata": {
    "collapsed": false
   },
   "outputs": [
    {
     "name": "stdout",
     "output_type": "stream",
     "text": [
      "[55, 50, 45, 40, 35, 30, 25, 20, 15, 10]\n",
      "(10, 1, 1)\n"
     ]
    }
   ],
   "source": [
    "parameter_name = 'bsize'\n",
    "formula = 'f1'\n",
    "base_folder = './results/exp8/%s/%s/'%(formula, parameter_name)\n",
    "rango = [55, 50, 45, 40, 35, 30, 25, 20, 15, 10]\n",
    "\n",
    "GROUPS=1\n",
    "FITS=1\n",
    "RANGO=len(rango)\n",
    "print rango \n",
    "\n",
    "\"\"\"\n",
    "REVISAR EL OTRO EL ORDEN DE LO\n",
    "GUARDADO\n",
    "\n",
    "\"\"\"\n",
    "\n",
    "\n",
    "mse = np.zeros((RANGO, FITS, GROUPS), dtype='float32')\n",
    "mse1000 = np.zeros((RANGO, FITS, GROUPS), dtype='float32')\n",
    "mse2000 = np.zeros((RANGO, FITS, GROUPS), dtype='float32')\n",
    "mse3000 = np.zeros((RANGO, FITS, GROUPS), dtype='float32')\n",
    "\n",
    "A = {}\n",
    "\n",
    "# example: mse1000_g0_f0.npy  \n",
    "name_tmp1 = base_folder + 'mse_g%d_f%d.npy'\n",
    "name_tmp2 = base_folder + 'mse%d_g%d_f%d.npy'\n",
    "name_tmp3 = base_folder + 'A_g%d_bsize%d.npy'\n",
    "for group in xrange(GROUPS):\n",
    "    for fit in xrange(FITS):\n",
    "        mse[:, fit, group] = np.load(name_tmp1%(group, fit))\n",
    "        mse1000[:, fit, group] = np.load(name_tmp2%(1000, group, fit))\n",
    "        mse2000[:, fit, group] = np.load(name_tmp2%(2000, group, fit))\n",
    "        mse3000[:, fit, group] = np.load(name_tmp2%(3000, group, fit))\n",
    "        \n",
    "        if group == 0 and group == fit :\n",
    "            for i in xrange(RANGO):\n",
    "                A[i] = np.load(name_tmp3%(group, i)) \n",
    "\n",
    "print mse.shape\n"
   ]
  },
  {
   "cell_type": "code",
   "execution_count": 4,
   "metadata": {
    "collapsed": false
   },
   "outputs": [
    {
     "data": {
      "text/plain": [
       "(10, 1, 1)"
      ]
     },
     "execution_count": 4,
     "metadata": {},
     "output_type": "execute_result"
    }
   ],
   "source": [
    "mse.shape"
   ]
  },
  {
   "cell_type": "code",
   "execution_count": 5,
   "metadata": {
    "collapsed": false
   },
   "outputs": [
    {
     "name": "stdout",
     "output_type": "stream",
     "text": [
      "[55, 50, 45, 40, 35, 30, 25, 20, 15, 10]\n",
      "(10,)\n"
     ]
    }
   ],
   "source": [
    "\n",
    "print rango\n",
    "mean = mse.mean(axis=2).mean(axis=1)\n",
    "print mean.shape"
   ]
  },
  {
   "cell_type": "code",
   "execution_count": 6,
   "metadata": {
    "collapsed": false
   },
   "outputs": [
    {
     "name": "stdout",
     "output_type": "stream",
     "text": [
      "[55, 50, 45, 40, 35, 30, 25, 20, 15, 10]\n"
     ]
    },
    {
     "data": {
      "text/plain": [
       "<matplotlib.text.Text at 0x7f253f1efc10>"
      ]
     },
     "execution_count": 6,
     "metadata": {},
     "output_type": "execute_result"
    },
    {
     "data": {
      "image/png": "[encoded data removed]",
      "text/plain": [
       "<matplotlib.figure.Figure at 0x7f253f1c4f50>"
      ]
     },
     "metadata": {},
     "output_type": "display_data"
    }
   ],
   "source": [
    "#rango = np.arange(1.627e-15, 2.0, 0.2)\n",
    "print rango\n",
    "\n",
    "mean3000 = mse3000.mean(axis=2).mean(axis=1)\n",
    "\n",
    "#plt.plot(rango, mean3000,'o', label='b=3000')\n",
    "#plt.plot(rango, mean1000, 'o', label='b=1000')\n",
    "#plt.plot(rango, mean2000,'o', label='b=2000')\n",
    "plt.plot(rango, mean,'o', label='b=all')\n",
    "plt.legend()\n",
    "plt.ylabel('MSE(Yhr,^Yhr)')\n",
    "plt.xlabel(parameter_name)\n",
    "#plt.legend(lala , loc=2, bbox_to_anchor=(1, 0.5))\n",
    "#plt.xlim(0, 0.5)\n",
    "\n",
    "## Para grabar\n",
    "#plt.savefig('/user/lgomez/home/workspace/iqt/results/exp8/bsize.pdf')"
   ]
  },
  {
   "cell_type": "code",
   "execution_count": 25,
   "metadata": {
    "collapsed": false
   },
   "outputs": [
    {
     "name": "stdout",
     "output_type": "stream",
     "text": [
      "(0, 0) (12, 12, 12, 51)\n"
     ]
    },
    {
     "data": {
      "text/plain": [
       "<module 'matplotlib.pyplot' from '/user/lgomez/home/anaconda2/lib/python2.7/site-packages/matplotlib/pyplot.pyc'>"
      ]
     },
     "execution_count": 25,
     "metadata": {},
     "output_type": "execute_result"
    },
    {
     "data": {
      "image/png": "[encoded data removed]",
      "text/plain": [
       "<matplotlib.figure.Figure at 0x7f253c577090>"
      ]
     },
     "metadata": {},
     "output_type": "display_data"
    }
   ],
   "source": [
    "i = 0\n",
    "\n",
    "print mm(A[i]), A[i].shape\n",
    "img_utils._is(A[i])"
   ]
  }
 ],
 "metadata": {
  "kernelspec": {
   "display_name": "Python 2",
   "language": "python",
   "name": "python2"
  },
  "language_info": {
   "codemirror_mode": {
    "name": "ipython",
    "version": 2
   },
   "file_extension": ".py",
   "mimetype": "text/x-python",
   "name": "python",
   "nbconvert_exporter": "python",
   "pygments_lexer": "ipython2",
   "version": "2.7.12"
  }
 },
 "nbformat": 4,
 "nbformat_minor": 0
}
