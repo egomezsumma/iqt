{
 "cells": [
  {
   "cell_type": "code",
   "execution_count": 1,
   "metadata": {
    "collapsed": false
   },
   "outputs": [
    {
     "name": "stdout",
     "output_type": "stream",
     "text": [
      "Populating the interactive namespace from numpy and matplotlib\n"
     ]
    }
   ],
   "source": [
    "%pylab inline\n",
    "import numpy as np\n",
    "from conf_exp6 import *\n",
    "import seaborn\n",
    "#import utils.img_utils as iu\n",
    "from utils import img_utils\n",
    "import matplotlib.pyplot as plt\n",
    "\n",
    "def mm(A, cast_int=True):\n",
    "    if cast_int:\n",
    "        return (int(A.min()), int(A.max()))\n",
    "    else:\n",
    "        return (A.min(), A.max())"
   ]
  },
  {
   "cell_type": "code",
   "execution_count": 24,
   "metadata": {
    "collapsed": false
   },
   "outputs": [
    {
     "name": "stdout",
     "output_type": "stream",
     "text": [
      "[55, 50, 45, 40, 35, 30, 25, 20, 15, 10]\n",
      "(10, 10, 5)\n"
     ]
    }
   ],
   "source": [
    "parameter_name = 'bsize'\n",
    "formula = 'f1'\n",
    "base_folder = './results/exp8/%s/%s/'%(formula, parameter_name)\n",
    "#rango = [3, 4, 5, 6, 7, 8, 9, 10]\n",
    "#group_sizes = group_sizes[-2:]\n",
    "bsizes = [55, 50, 45, 40, 35, 30, 25, 20, 15, 10]\n",
    "rango = bsizes\n",
    "\n",
    "GROUPS=5\n",
    "FITS=10\n",
    "RANGO=len(rango)\n",
    "print rango \n",
    "\n",
    "\"\"\"\n",
    "REVISAR EL OTRO EL ORDEN DE LO\n",
    "GUARDADO\n",
    "\n",
    "\"\"\"\n",
    "\n",
    "\n",
    "mse = np.zeros((RANGO, FITS, GROUPS), dtype='float32')\n",
    "mse1000 = np.zeros((RANGO, FITS, GROUPS), dtype='float32')\n",
    "mse2000 = np.zeros((RANGO, FITS, GROUPS), dtype='float32')\n",
    "mse3000 = np.zeros((RANGO, FITS, GROUPS), dtype='float32')\n",
    "\n",
    "# example: mse1000_g0_f0.npy  \n",
    "name_tmp1 = base_folder + 'mse_g%d_f%d.npy'\n",
    "name_tmp2 = base_folder + 'mse%d_g%d_f%d.npy'\n",
    "for group in xrange(GROUPS):\n",
    "    for fit in xrange(FITS):\n",
    "        mse[:, fit, group] = np.load(name_tmp1%(group, fit))\n",
    "        mse1000[:, fit, group] = np.load(name_tmp2%(1000, group, fit))\n",
    "        mse2000[:, fit, group] = np.load(name_tmp2%(2000, group, fit))\n",
    "        mse3000[:, fit, group] = np.load(name_tmp2%(3000, group, fit))\n",
    "        \n",
    "        \n",
    "print mse.shape\n"
   ]
  },
  {
   "cell_type": "code",
   "execution_count": 4,
   "metadata": {
    "collapsed": false
   },
   "outputs": [
    {
     "data": {
      "text/plain": [
       "(10, 1, 1)"
      ]
     },
     "execution_count": 4,
     "metadata": {},
     "output_type": "execute_result"
    }
   ],
   "source": [
    "mse.shape"
   ]
  },
  {
   "cell_type": "code",
   "execution_count": 25,
   "metadata": {
    "collapsed": false
   },
   "outputs": [
    {
     "name": "stdout",
     "output_type": "stream",
     "text": [
      "rango [55, 50, 45, 40, 35, 30, 25, 20, 15, 10]\n",
      "mean [  9.50459904e+08   9.30477184e+08   1.46944947e+09   1.48025331e+09\n",
      "   1.49463859e+09   2.39661056e+09   2.40329677e+09   2.47309670e+09\n",
      "   5.15571046e+09   4.99516621e+09]\n",
      "var [  1.73093619e+09   1.72668826e+09   1.65638835e+09   1.61447078e+09\n",
      "   1.66031718e+09   1.99439616e+09   2.03256294e+09   2.08275405e+09\n",
      "   1.43739123e+09   1.38388109e+09]\n"
     ]
    }
   ],
   "source": [
    "\n",
    "mean = mse.mean(axis=2).mean(axis=1)\n",
    "var = np.std(np.std(mse, axis=2), axis=1)\n",
    "\n",
    "print 'rango', rango\n",
    "print 'mean', mean\n",
    "print 'var', var"
   ]
  },
  {
   "cell_type": "code",
   "execution_count": 26,
   "metadata": {
    "collapsed": false
   },
   "outputs": [
    {
     "name": "stdout",
     "output_type": "stream",
     "text": [
      "rango [55, 50, 45, 40, 35, 30, 25, 20, 15, 10]\n",
      "mean [  9.69507968e+08   9.69507968e+08   1.85878899e+09   1.85878899e+09\n",
      "   1.85878899e+09   2.40152422e+09   2.41373389e+09   2.49188403e+09\n",
      "   5.62846771e+09   5.58569370e+09]\n",
      "var [  1.81719949e+09   1.81719936e+09   2.12254029e+09   2.12254029e+09\n",
      "   2.12254029e+09   2.08852480e+09   2.08623514e+09   2.05112179e+09\n",
      "   8.52243648e+08   1.55070438e+09]\n"
     ]
    }
   ],
   "source": [
    "mean1000 = mse1000.mean(axis=2).mean(axis=1)\n",
    "var1000 = np.std(np.std(mse1000, axis=2), axis=1)\n",
    "\n",
    "print 'rango', rango\n",
    "print 'mean', mean1000\n",
    "print 'var', var1000"
   ]
  },
  {
   "cell_type": "code",
   "execution_count": 27,
   "metadata": {
    "collapsed": false
   },
   "outputs": [
    {
     "name": "stdout",
     "output_type": "stream",
     "text": [
      "rango [55, 50, 45, 40, 35, 30, 25, 20, 15, 10]\n",
      "mean [  8.05257792e+08   7.97300736e+08   1.39747661e+09   1.39747661e+09\n",
      "   1.43335590e+09   2.66772813e+09   2.64764390e+09   2.64764390e+09\n",
      "              nan              nan]\n",
      "var [  1.67625958e+09   1.65428147e+09   1.54719923e+09   1.54719910e+09\n",
      "   1.72862694e+09   2.06141120e+09   1.93196416e+09   1.93196442e+09\n",
      "              nan              nan]\n"
     ]
    }
   ],
   "source": [
    "mean2000 = mse2000.mean(axis=2).mean(axis=1)\n",
    "var2000 = np.std(np.std(mse2000, axis=2), axis=1)\n",
    "\n",
    "print 'rango', rango\n",
    "print 'mean', mean2000\n",
    "print 'var', var2000"
   ]
  },
  {
   "cell_type": "code",
   "execution_count": 28,
   "metadata": {
    "collapsed": false
   },
   "outputs": [
    {
     "name": "stdout",
     "output_type": "stream",
     "text": [
      "nan\n",
      "rango [55, 50, 45, 40, 35, 30, 25, 20, 15, 10]\n",
      "mean [  1.07532262e+09              nan              nan              nan\n",
      "              nan              nan              nan              nan\n",
      "              nan              nan]\n",
      "var [  1.83007232e+09              nan              nan              nan\n",
      "              nan              nan              nan              nan\n",
      "              nan              nan]\n"
     ]
    }
   ],
   "source": [
    "mean3000 = mse3000.mean(axis=2).mean(axis=1)\n",
    "var3000 = np.std(np.std(mse3000, axis=2), axis=1)\n",
    "\n",
    "print mse3000[1,0,1]\n",
    "print 'rango', rango\n",
    "print 'mean', mean3000\n",
    "print 'var', var3000"
   ]
  },
  {
   "cell_type": "code",
   "execution_count": 30,
   "metadata": {
    "collapsed": false
   },
   "outputs": [
    {
     "name": "stdout",
     "output_type": "stream",
     "text": [
      "[  9.50459904e+08   9.30477184e+08   1.46944947e+09   1.48025331e+09\n",
      "   1.49463859e+09   2.39661056e+09   2.40329677e+09   2.47309670e+09\n",
      "   5.15571046e+09   4.99516621e+09]\n",
      "[55, 50, 45, 40, 35, 30, 25, 20, 15, 10]\n"
     ]
    },
    {
     "data": {
      "image/png": "[encoded data removed]",
      "text/plain": [
       "<matplotlib.figure.Figure at 0x7f4924320c10>"
      ]
     },
     "metadata": {},
     "output_type": "display_data"
    }
   ],
   "source": [
    "mean3 = np.zeros((10, 3))\n",
    "mean3[:, 0] = mean1000\n",
    "mean3[:, 1] = mean2000\n",
    "mean3[:, 2] = mean3000\n",
    "\n",
    "#plt.plot(rango, mean,'o', label='b=all')\n",
    "plt.errorbar(rango, mean, yerr=var, fmt='o', label='b=all')\n",
    "print mean\n",
    "\n",
    "\n",
    "#B1000\n",
    "#plt.plot(rango, mean1000,'o', label='b=1000')\n",
    "#plt.errorbar(rango, mean1000, yerr=var1000, fmt='o')\n",
    "#print mean1000\n",
    "\n",
    "#B2000\n",
    "#plt.plot(rango, mean2000,'o', label='b=2000')\n",
    "#plt.errorbar(rango, mean2000, yerr=var2000, fmt='o',label='b=2000')\n",
    "#print mean2000\n",
    "\n",
    "#B3000\n",
    "#plt.plot(rango, mean3000,'o', label='b=3000')\n",
    "#plt.errorbar(rango, mean3000, yerr=var3000, fmt='o',label='b=3000')\n",
    "#print mean3000\n",
    "\n",
    "\n",
    "\n",
    "#plt.plot(rango, mean3.mean(axis=1),'o', label='b=all')\n",
    "#plt.errorbar(rango, mean3.mean(axis=1), yerr=np.std(mean3, axis=1), fmt='o')\n",
    "\n",
    "\n",
    "plt.legend()\n",
    "plt.ylabel('MSE(Yhr,^Yhr)')\n",
    "plt.xlabel(parameter_name)\n",
    "#plt.legend(lala , loc=2, bbox_to_anchor=(1, 0.5))\n",
    "mse[:,2,1]\n",
    "#print plt.ylim((940000000.0, 960000000.0))\n",
    "\n",
    "print rango\n",
    "## Para grabar\n",
    "#plt.savefig('/user/lgomez/home/workspace/iqt/results/exp6/bsize_mean_var_10a55.pdf')"
   ]
  },
  {
   "cell_type": "code",
   "execution_count": 22,
   "metadata": {
    "collapsed": false
   },
   "outputs": [
    {
     "name": "stdout",
     "output_type": "stream",
     "text": [
      "(0.16235230723453697, 1.3229445867537912)\n",
      "./results/exp9/f1/gsize/i_hr_g0.npy\n",
      "(0.18952547038684495, 1.3260597327243016)\n",
      "./results/exp9/f1/gsize/i_hr_g0.npy\n",
      "(0.097052280144640304, 1.086109205366401)\n",
      "./results/exp9/f1/gsize/i_hr_g0.npy\n",
      "(0.16621366358880824, 1.4122068117419759)\n",
      "./results/exp9/f1/gsize/i_hr_g0.npy\n",
      "(0.076301637334783359, 0.96959020365689785)\n",
      "./results/exp9/f1/gsize/i_hr_g0.npy\n",
      "(0.013493307398461166, 1.1904883631356042)\n",
      "./results/exp9/f1/gsize/i_hr_g0.npy\n",
      "(-0.00041888405574992107, 1.2351096868874856)\n",
      "./results/exp9/f1/gsize/i_hr_g0.npy\n",
      "(-0.00046001101362771481, 1.1395697713336577)\n",
      "./results/exp9/f1/gsize/i_hr_g0.npy\n",
      "(0.12028458715305158, 1.4773946195094771)\n",
      "./results/exp9/f1/gsize/i_hr_g1.npy\n",
      "(0.083856443773534808, 1.2862099274713108)\n",
      "./results/exp9/f1/gsize/i_hr_g1.npy\n",
      "(0.25194732933141639, 1.2683599028241619)\n",
      "./results/exp9/f1/gsize/i_hr_g1.npy\n",
      "(0.13671323534782798, 1.1387005467628024)\n",
      "./results/exp9/f1/gsize/i_hr_g1.npy\n",
      "(0.094787325719652302, 1.1695528542529052)\n",
      "./results/exp9/f1/gsize/i_hr_g1.npy\n",
      "(0.12891687822886375, 1.113303872230033)\n",
      "./results/exp9/f1/gsize/i_hr_g1.npy\n",
      "(0.039385398266794061, 1.0719521824636256)\n",
      "./results/exp9/f1/gsize/i_hr_g1.npy\n",
      "(-7.5258336779402031e-05, 1.4806606241761224)\n",
      "./results/exp9/f1/gsize/i_hr_g1.npy\n",
      "(0.10491628322410093, 1.0230566956188367)\n",
      "./results/exp9/f1/gsize/i_hr_g2.npy\n",
      "(0.13622570948065543, 1.0162978339719946)\n",
      "./results/exp9/f1/gsize/i_hr_g2.npy\n",
      "(0.071308522866761384, 1.2030759335776549)\n",
      "./results/exp9/f1/gsize/i_hr_g2.npy\n",
      "(0.0056770076968059016, 1.0094205912305756)\n",
      "./results/exp9/f1/gsize/i_hr_g2.npy\n",
      "(0.015818778900454994, 0.96870003124537618)\n",
      "./results/exp9/f1/gsize/i_hr_g2.npy\n",
      "(-7.753343052574154e-05, 1.2848994457517382)\n",
      "./results/exp9/f1/gsize/i_hr_g2.npy\n",
      "(-0.0054910528926506059, 1.3739933562311664)\n",
      "./results/exp9/f1/gsize/i_hr_g2.npy\n",
      "(0.037382918585503772, 1.0418220343632627)\n",
      "./results/exp9/f1/gsize/i_hr_g2.npy\n",
      "(0.065784031516864211, 0.96082579832328019)\n",
      "./results/exp9/f1/gsize/i_hr_g3.npy\n",
      "(-0.00017180885330995543, 1.3554752152709895)\n",
      "./results/exp9/f1/gsize/i_hr_g3.npy\n",
      "(0.17710176994435789, 1.3733328270248313)\n",
      "./results/exp9/f1/gsize/i_hr_g3.npy\n",
      "(0.16073976043898033, 1.404596501002559)\n",
      "./results/exp9/f1/gsize/i_hr_g3.npy\n",
      "(0.073541033070369535, 1.2191675766449723)\n",
      "./results/exp9/f1/gsize/i_hr_g3.npy\n",
      "(0.1364139939442037, 1.1466162638607149)\n",
      "./results/exp9/f1/gsize/i_hr_g3.npy\n",
      "(0.041780571446101325, 1.3624072162273062)\n",
      "./results/exp9/f1/gsize/i_hr_g3.npy\n",
      "(0.029305858653951449, 1.8133243980643219)\n",
      "./results/exp9/f1/gsize/i_hr_g3.npy\n",
      "(-4.6089768894023563e-05, 1.4943668562664245)\n",
      "./results/exp9/f1/gsize/i_hr_g4.npy\n",
      "(-8.412180450441788e-05, 1.179881953292284)\n",
      "./results/exp9/f1/gsize/i_hr_g4.npy\n",
      "(0.18343216407704344, 1.4965685775155273)\n",
      "./results/exp9/f1/gsize/i_hr_g4.npy\n",
      "(0.22817302642817153, 1.2135223089302976)\n",
      "./results/exp9/f1/gsize/i_hr_g4.npy\n",
      "(0.079249073989073854, 1.3151411078188278)\n",
      "./results/exp9/f1/gsize/i_hr_g4.npy\n",
      "(0.083760453791153738, 1.2054147874139536)\n",
      "./results/exp9/f1/gsize/i_hr_g4.npy\n",
      "(-0.0021121818258545266, 1.5945097038896254)\n",
      "./results/exp9/f1/gsize/i_hr_g4.npy\n",
      "(0.13155197436144145, 1.2782327935199032)\n",
      "./results/exp9/f1/gsize/i_hr_g4.npy\n"
     ]
    },
    {
     "data": {
      "image/png": "[encoded data removed]",
      "text/plain": [
       "<matplotlib.figure.Figure at 0x7f4924213850>"
      ]
     },
     "metadata": {},
     "output_type": "display_data"
    }
   ],
   "source": [
    "## Para grabar\n",
    "name_tmp3 = base_folder + 'A_g%d_gsize%d.npy'\n",
    "name_tmp4 = base_folder + 'i_hr_g%d.npy'\n",
    "for g in xrange(5):\n",
    "    for b in rango:\n",
    "    #for b in xrange(8):\n",
    "        A = np.load(name_tmp3%(g, b))\n",
    "        print mm(A, cast_int=False)\n",
    "        print name_tmp4%(g,)\n",
    "        i_hr = np.load(name_tmp4%(g,))\n",
    "        plt = img_utils._isc(A,i_hr, vmin=A.min(), vmax=A.max(), titles=['reconstructed', 'original'])\n",
    "        name_img = (name_tmp3%(g, b))[:-3]\n",
    "        plt.savefig(name_img +'png')\n",
    "\n",
    "#plt.savefig('/user/lgomez/home/workspace/iqt/results/exp6/gammas/gamma_all.png')\n",
    "    "
   ]
  }
 ],
 "metadata": {
  "kernelspec": {
   "display_name": "Python 2",
   "language": "python",
   "name": "python2"
  },
  "language_info": {
   "codemirror_mode": {
    "name": "ipython",
    "version": 2
   },
   "file_extension": ".py",
   "mimetype": "text/x-python",
   "name": "python",
   "nbconvert_exporter": "python",
   "pygments_lexer": "ipython2",
   "version": "2.7.12"
  }
 },
 "nbformat": 4,
 "nbformat_minor": 0
}
