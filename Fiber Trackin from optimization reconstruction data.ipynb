{
 "cells": [
  {
   "cell_type": "code",
   "execution_count": 4,
   "metadata": {
    "collapsed": false
   },
   "outputs": [
    {
     "name": "stdout",
     "output_type": "stream",
     "text": [
      "Populating the interactive namespace from numpy and matplotlib\n"
     ]
    }
   ],
   "source": [
    "%pylab inline\n",
    "import time\n",
    "import numpy as np\n",
    "import cvxpy as cvx\n",
    "import matplotlib.pyplot as plt\n",
    "from utils import img_utils\n",
    "import seaborn as sns\n",
    "import utils.math_utils as mu\n",
    "import utils.img_utils "
   ]
  },
  {
   "cell_type": "markdown",
   "metadata": {},
   "source": [
    "# Load Data"
   ]
  },
  {
   "cell_type": "code",
   "execution_count": 2,
   "metadata": {
    "collapsed": false
   },
   "outputs": [
    {
     "name": "stdout",
     "output_type": "stream",
     "text": [
      "Dataset is already in place. If you want to fetch it again please first remove the folder /user/lgomez/home/.dipy/stanford_hardi \n",
      "Dataset is already in place. If you want to fetch it again please first remove the folder /user/lgomez/home/.dipy/stanford_hardi \n",
      "Dataset is already in place. If you want to fetch it again please first remove the folder /user/lgomez/home/.dipy/stanford_hardi \n"
     ]
    }
   ],
   "source": [
    "from utils.DataGetter import DataGetter\n",
    "from utils.DownsampledImage import DownsampledImage\n",
    "\n",
    "d = DataGetter()\n",
    "datas_names = [\n",
    "    DataGetter.STANDFORD_HARDI_LABELS, #(81, 106, 76, 160)\n",
    "    #DataGetter.TAIWAN_NTU_DSI_DATA,  #(96, 96, 60, 203)\n",
    "    #DataGetter.SHERBROOKE_3SHELL_DATA #(128, 128, 60, 193)\n",
    "]\n",
    "\n",
    "scale=2\n",
    "datas = d.get_data(datas_names)\n",
    "name = datas_names[0]\n",
    "lr_hr_img = DownsampledImage(name, datas[name]['img'], datas[name]['gtab'], scale)\n",
    "labels = datas[name]['labels'].get_data()\n",
    "gtab = datas[name]['gtab']\n",
    "\n",
    "\n",
    "NORMALIZE = False\n",
    "if NORMALIZE :\n",
    "    img_hr = mu.normalize_by_bval(lr_hr_img.get_hr_img().astype(float))\n",
    "    img_lr = mu.normalize_by_bval(lr_hr_img.get_lr_img().astype(float))\n",
    "else:\n",
    "    img_hr = lr_hr_img.get_hr_img().astype(float)\n",
    "    img_lr = lr_hr_img.get_lr_img().astype(float)\n",
    "    "
   ]
  },
  {
   "cell_type": "markdown",
   "metadata": {},
   "source": [
    "# Select AOI\n"
   ]
  },
  {
   "cell_type": "code",
   "execution_count": 5,
   "metadata": {
    "collapsed": false
   },
   "outputs": [
    {
     "data": {
      "text/plain": [
       "('b=2000, G directions =',\n",
       " array([[  2.18280000e-02,   8.02420000e-01,  -5.96360000e-01],\n",
       "        [ -1.54250000e-02,   2.20980000e-01,   9.75160000e-01],\n",
       "        [ -7.09180000e-01,  -6.31060000e-04,  -7.05030000e-01],\n",
       "        [ -2.46500000e-01,   1.04300000e-01,  -9.63510000e-01],\n",
       "        [ -4.83470000e-01,   4.39100000e-01,  -7.57260000e-01],\n",
       "        [  1.51030000e-01,   9.65230000e-01,   2.13360000e-01]]))"
      ]
     },
     "execution_count": 5,
     "metadata": {},
     "output_type": "execute_result"
    },
    {
     "data": {
      "image/png": "[encoded data removed]",
      "text/plain": [
       "<matplotlib.figure.Figure at 0x7f079d1c7210>"
      ]
     },
     "metadata": {},
     "output_type": "display_data"
    }
   ],
   "source": [
    "img_shape = img_lr.shape\n",
    "x0,xf, y0,yf, z0,zf = volume_range_lr = (10, 16, 15, 21, 15, 21)\n",
    "b0, bf = bval_range = (10,16)\n",
    "gdirections = lr_hr_img.gtab.bvecs[b0:bf]\n",
    "\n",
    "# Type and intensiti of noise to apply\n",
    "SNR, SNR_TYPE = 25, 'gaussian'\n",
    "\n",
    "#img_hr[2*x0:2*xf, 2*y0:2*yf, 2*z0:2*zf, b0:bf] = (img_hr[2*x0:2*xf, y0, 2*z0:2*zf, b0:bf].max())*np.ones((12,12,12,6))\n",
    "\n",
    "i_lr = img_lr[x0:xf, y0:yf, z0:zf, b0:bf]\n",
    "i_hr = img_hr[2*x0:2*xf, 2*y0:2*yf, 2*z0:2*zf, b0:bf]\n",
    "\n",
    "img_utils._isc(i_hr,i_lr,titles=['Orig '+ str(i_hr.shape), 'Downsam... '+str(i_lr.shape)] )\n",
    "'b=2000, G directions =', gdirections"
   ]
  },
  {
   "cell_type": "markdown",
   "metadata": {},
   "source": [
    "# Estimate G with machine learning"
   ]
  },
  {
   "cell_type": "code",
   "execution_count": 6,
   "metadata": {
    "collapsed": false
   },
   "outputs": [
    {
     "name": "stdout",
     "output_type": "stream",
     "text": [
      "Samples for  standfor_hardi_labels : 10 of inf\n",
      "(1296, 10) (10368, 10)\n"
     ]
    }
   ],
   "source": [
    "import utils.RandomRanges as rr\n",
    "import utils.DmriVolumesRandomIndexers as ixs\n",
    "import utils.DmriSampleCreators as sc\n",
    "import utils.ml.MLDataBuilder as db\n",
    "\n",
    "\n",
    "# Estrategia de volumne y rango de bvals (fija)\n",
    "volume_strategy, bval_strategy = rr.Fixed3DRange(*volume_range_lr), rr.Fixed1DRange(*bval_range)\n",
    "# El que combina ambas\n",
    "dmri_volume_indexer = ixs.DmriVolumeRandomIndexer(volume_strategy, bval_strategy)\n",
    "# Equivalencia entre indices de la hr y lr \n",
    "fconvert = lambda *lr_tuple : tuple(np.array(lr_tuple[:-2])*2)+lr_tuple[-2:]\n",
    "# Iterador de dmri imagen lr y hr\n",
    "lr_hr_vol_it = ixs.DmriLrHrCubicPatchVolumeRandomIndexer(dmri_volume_indexer, fconvert, from_lr2hr=True)\n",
    "\n",
    "# El que toma la imagen original y downsampleada y les pone ruido (gaussian, rician)\n",
    "sample_creator = sc.NoisedLrHrDmriSampleCreator(lr_hr_img, lr_hr_vol_it, snr=SNR, noise_type=SNR_TYPE)\n",
    "\n",
    "\n",
    "n_samples = 10\n",
    "\n",
    "# Builder that organize data like the ML wants \n",
    "sdb = db.SimpleMlDataBuilder(sample_creator, n_samples)\n",
    "\n",
    "X, Y = sdb.build()\n",
    "print X.shape, Y.shape"
   ]
  },
  {
   "cell_type": "code",
   "execution_count": 7,
   "metadata": {
    "collapsed": false
   },
   "outputs": [
    {
     "name": "stdout",
     "output_type": "stream",
     "text": [
      "Training set_training.shape= (10368, 9)  ->target.shape= (1296, 9)\n"
     ]
    },
    {
     "data": {
      "text/plain": [
       "(scipy.sparse.csr.csr_matrix, (1296, 10368), 25)"
      ]
     },
     "execution_count": 7,
     "metadata": {},
     "output_type": "execute_result"
    }
   ],
   "source": [
    "from scipy.sparse import csr_matrix, csc_matrix\n",
    "import experimento1_funciones as e1f\n",
    "#reload(e1f)\n",
    "\n",
    "# Calculamos la matriz de downsampling\n",
    "regr, Y_train , X_train, Y_test, X_test = e1f.train(Y,X)\n",
    "\n",
    "regr.coef_ = csr_matrix(regr.coef_)\n",
    "type(regr.coef_), regr.coef_.shape, SNR"
   ]
  },
  {
   "cell_type": "markdown",
   "metadata": {},
   "source": [
    "# Problem definition\n",
    "\n",
    "$ \\min_{Y_{hr}} \\{ ||GY_{lr} - Y_{hr}||^2 \\}$ st $Y_{hr} \\geq 0$"
   ]
  },
  {
   "cell_type": "code",
   "execution_count": 8,
   "metadata": {
    "collapsed": false
   },
   "outputs": [
    {
     "data": {
      "text/plain": [
       "(Problem(Minimize(Expression(CONVEX, POSITIVE, (1, 1))), []), True)"
      ]
     },
     "execution_count": 8,
     "metadata": {},
     "output_type": "execute_result"
    }
   ],
   "source": [
    "Nx, Ny, Nz, bval = i_hr.shape\n",
    "vhrb = Nx*Ny*Nz*bval\n",
    "vlr = Nx*Ny*Nz/8\n",
    "\n",
    "Yhr = cvx.Variable(vhrb, 1)\n",
    "Ylr = i_lr.reshape((vlr*bval, 1))\n",
    "G = cvx.Parameter(*regr.coef_.shape, value=regr.coef_)\n",
    "\n",
    "# Form objective.\n",
    "obj = cvx.Minimize(cvx.sum_squares(G*Yhr - Ylr))\n",
    "\n",
    "# Create two constraints.\n",
    "#constraints = [Yhr >= 0]\n",
    "\n",
    "# Form and solve problem.\n",
    "prob = cvx.Problem(obj)\n",
    "prob, prob.is_dcp()"
   ]
  },
  {
   "cell_type": "code",
   "execution_count": 9,
   "metadata": {
    "collapsed": false
   },
   "outputs": [
    {
     "name": "stdout",
     "output_type": "stream",
     "text": [
      "WARN: m less than n, problem likely degenerate\n",
      "----------------------------------------------------------------------------\n",
      "\tSCS v1.2.6 - Splitting Conic Solver\n",
      "\t(c) Brendan O'Donoghue, Stanford University, 2012-2016\n",
      "----------------------------------------------------------------------------\n",
      "Lin-sys: sparse-indirect, nnz in A = 13436930, CG tol ~ 1/iter^(2.00)\n",
      "eps = 1.00e-01, alpha = 1.50, max_iters = 2100, normalize = 1, scale = 1.00\n",
      "Variables n = 10369, constraints m = 1298\n",
      "Cones:\tsoc vars: 1298, soc blks: 1\n",
      "Setup time: 7.43e-01s\n",
      "----------------------------------------------------------------------------\n",
      " Iter | pri res | dua res | rel gap | pri obj | dua obj | kap/tau | time (s)\n",
      "----------------------------------------------------------------------------\n",
      "     0| 3.84e+00  5.01e-01  1.00e+00 -3.21e+04  1.92e+01  0.00e+00  8.30e-01 \n",
      "   100| 2.30e-02  1.98e-05  5.21e-01  1.26e+02  4.03e+02  7.30e-10  2.00e+01 \n",
      "   200| 1.77e-02  1.10e-05  4.37e-01  2.27e+02  5.81e+02  7.34e-10  4.20e+01 \n",
      "   300| 1.52e-02  7.91e-06  4.06e-01  2.96e+02  7.01e+02  7.39e-10  6.50e+01 \n",
      "   400| 1.36e-02  6.26e-06  3.90e-01  3.49e+02  7.95e+02  7.45e-10  8.99e+01 \n",
      "   500| 1.25e-02  5.20e-06  3.79e-01  3.93e+02  8.74e+02  7.51e-10  1.15e+02 \n",
      "   600| 1.17e-02  4.45e-06  3.72e-01  4.32e+02  9.43e+02  7.58e-10  1.40e+02 \n",
      "   700| 1.10e-02  3.89e-06  3.66e-01  4.66e+02  1.00e+03  7.65e-10  1.64e+02 \n",
      "   800| 1.05e-02  3.45e-06  3.62e-01  4.97e+02  1.06e+03  7.73e-10  1.89e+02 \n",
      "   900| 1.00e-02  3.09e-06  3.58e-01  5.26e+02  1.11e+03  7.81e-10  2.14e+02 \n",
      "  1000| 9.64e-03  2.79e-06  3.55e-01  5.53e+02  1.16e+03  7.90e-10  2.41e+02 \n",
      "  1100| 9.29e-03  2.53e-06  3.52e-01  5.79e+02  1.21e+03  7.98e-10  2.68e+02 \n",
      "  1200| 8.98e-03  2.30e-06  3.50e-01  6.03e+02  1.25e+03  8.08e-10  2.96e+02 \n",
      "  1300| 8.70e-03  2.10e-06  3.48e-01  6.26e+02  1.30e+03  8.18e-10  3.25e+02 \n",
      "  1400| 8.45e-03  1.93e-06  3.46e-01  6.49e+02  1.34e+03  8.28e-10  3.53e+02 \n",
      "  1500| 8.22e-03  1.77e-06  3.44e-01  6.70e+02  1.38e+03  8.38e-10  3.81e+02 \n",
      "  1600| 8.00e-03  1.62e-06  3.43e-01  6.91e+02  1.41e+03  8.49e-10  4.10e+02 \n",
      "  1700| 7.81e-03  1.48e-06  3.41e-01  7.12e+02  1.45e+03  8.60e-10  4.39e+02 \n",
      "  1800| 7.62e-03  1.36e-06  3.40e-01  7.32e+02  1.49e+03  8.72e-10  4.67e+02 \n",
      "  1900| 7.45e-03  1.24e-06  3.39e-01  7.52e+02  1.52e+03  8.84e-10  4.95e+02 \n",
      "  2000| 7.29e-03  1.13e-06  3.38e-01  7.71e+02  1.56e+03  8.97e-10  5.24e+02 \n",
      "  2100| 7.14e-03  1.02e-06  3.36e-01  7.90e+02  1.59e+03  9.10e-10  5.52e+02 \n",
      "----------------------------------------------------------------------------\n",
      "Status: Solved/Inaccurate\n",
      "Hit max_iters, solution may be inaccurate\n",
      "Timing: Solve time: 5.52e+02s\n",
      "\tLin-sys: avg # CG iterations: 5.39, avg solve time: 2.61e-01s\n",
      "\tCones: avg projection time: 2.45e-06s\n",
      "----------------------------------------------------------------------------\n",
      "Error metrics:\n",
      "dist(s, K) = 0.0000e+00, dist(y, K*) = 0.0000e+00, s'y/|s||y| = 5.4291e-14\n",
      "|Ax + s - b|_2 / (1 + |b|_2) = 7.1438e-03\n",
      "|A'y + c|_2 / (1 + |c|_2) = 1.0244e-06\n",
      "|c'x + b'y| / (1 + |c'x| + |b'y|) = 3.3649e-01\n",
      "----------------------------------------------------------------------------\n",
      "c'x = 789.6797, -b'y = 1591.1395\n",
      "============================================================================\n",
      "status: optimal_inaccurate\n",
      "optimal value 789.679732171\n",
      "--- time of optimization : 9' 26'' --- num. snr: 25\n"
     ]
    }
   ],
   "source": [
    "start_time = time.time()\n",
    "\n",
    "res = prob.solve(solver='SCS',verbose=True, max_iters=2100,eps=1.00e-01 )  # Returns the optimal value.\n",
    "\n",
    "print \"status:\", prob.status\n",
    "print \"optimal value\", prob.value\n",
    "#print \"optimal var\", Yhr.value\n",
    "\n",
    "seg = time.time() - start_time\n",
    "minutes = int(seg / 60)\n",
    "print(\"--- time of optimization : %d' %d'' --- num. snr: %d\" % (minutes , seg%60, SNR))"
   ]
  },
  {
   "cell_type": "code",
   "execution_count": 11,
   "metadata": {
    "collapsed": false
   },
   "outputs": [
    {
     "name": "stdout",
     "output_type": "stream",
     "text": [
      "shape= (12, 12, 12, 6) 25\n"
     ]
    }
   ],
   "source": [
    "A = np.asarray(Yhr.value).reshape(i_hr.shape)\n",
    "print 'shape=', A.shape, SNR\n"
   ]
  },
  {
   "cell_type": "markdown",
   "metadata": {},
   "source": [
    "# Tractografy on original data"
   ]
  },
  {
   "cell_type": "code",
   "execution_count": 31,
   "metadata": {
    "collapsed": false
   },
   "outputs": [
    {
     "name": "stdout",
     "output_type": "stream",
     "text": [
      "(12, 12, 12)\n",
      "(12, 12, 12) y= 6\n"
     ]
    },
    {
     "data": {
      "image/png": "[encoded data removed]",
      "text/plain": [
       "<matplotlib.figure.Figure at 0x7f075b0d84d0>"
      ]
     },
     "metadata": {},
     "output_type": "display_data"
    }
   ],
   "source": [
    "from dipy.reconst.shm import CsaOdfModel\n",
    "from dipy.data import default_sphere, GradientTable\n",
    "from dipy.direction import peaks_from_model\n",
    "\n",
    "white_matter = (labels == 1) | (labels == 2)\n",
    "i_wm =  white_matter[2*x0:2*xf, 2*y0:2*yf, 2*z0:2*zf]\n",
    "print i_wm.shape\n",
    "\n",
    "img_utils._is(i_wm)\n",
    "\n",
    "gtab_small = GradientTable(gtab.gradients[b0:bf],  big_delta=gtab.big_delta, \n",
    "                           small_delta=gtab.small_delta, b0_threshold=gtab.b0_threshold)\n",
    "\n",
    "csa_model = CsaOdfModel(gtab, sh_order=6)\n",
    "csa_peaks = peaks_from_model(csa_model, img_hr, default_sphere,\n",
    "                             relative_peak_threshold=.8,\n",
    "                             min_separation_angle=45,\n",
    "                             mask=white_matter)\n"
   ]
  },
  {
   "cell_type": "markdown",
   "metadata": {},
   "source": [
    "### Clasifyer"
   ]
  },
  {
   "cell_type": "code",
   "execution_count": 32,
   "metadata": {
    "collapsed": false
   },
   "outputs": [],
   "source": [
    "from dipy.tracking.local import ThresholdTissueClassifier\n",
    "\n",
    "classifier = ThresholdTissueClassifier(csa_peaks.gfa, .25)"
   ]
  },
  {
   "cell_type": "markdown",
   "metadata": {},
   "source": [
    "### Seeds"
   ]
  },
  {
   "cell_type": "code",
   "execution_count": 36,
   "metadata": {
    "collapsed": false
   },
   "outputs": [],
   "source": [
    "from dipy.tracking import utils\n",
    "\n",
    "affine = lr_hr_img.get_lr_affine()\n",
    "seed_mask = labels == 2\n",
    "seeds = utils.seeds_from_mask(seed_mask, density=[2, 2, 2], affine=affine)"
   ]
  },
  {
   "cell_type": "markdown",
   "metadata": {},
   "source": [
    "### Trackin and show"
   ]
  },
  {
   "cell_type": "code",
   "execution_count": 38,
   "metadata": {
    "collapsed": false
   },
   "outputs": [],
   "source": [
    "from dipy.tracking.local import LocalTracking\n",
    "from dipy.viz import fvtk\n",
    "from dipy.viz.colormap import line_colors\n",
    "\n",
    "# Initialization of LocalTracking. The computation happens in the next step.\n",
    "streamlines = LocalTracking(csa_peaks, classifier, seeds, affine, step_size=.5)\n",
    "\n",
    "# Compute streamlines and store as a list.\n",
    "streamlines = list(streamlines)\n",
    "\n",
    "# Prepare the display objects.\n",
    "color = line_colors(streamlines)\n",
    "\n",
    "if fvtk.have_vtk:\n",
    "    streamlines_actor = fvtk.line(streamlines, line_colors(streamlines))\n",
    "\n",
    "    # Create the 3d display.\n",
    "    r = fvtk.ren()\n",
    "    fvtk.add(r, streamlines_actor)\n",
    "\n",
    "    # Save still images for this static example. Or for interactivity use\n",
    "    # fvtk.show , vtk.record\n",
    "    #fvtk.show(r, n_frames=1, out_path='deterministic.png',\n",
    "    #            size=(800, 800))\n",
    "    fvtk.show(r)"
   ]
  },
  {
   "cell_type": "markdown",
   "metadata": {},
   "source": [
    "# Tracking of reconstructed"
   ]
  },
  {
   "cell_type": "code",
   "execution_count": 40,
   "metadata": {
    "collapsed": false
   },
   "outputs": [
    {
     "name": "stdout",
     "output_type": "stream",
     "text": [
      "(12, 12, 12)\n"
     ]
    }
   ],
   "source": [
    "from dipy.reconst.shm import CsaOdfModel\n",
    "from dipy.data import default_sphere, GradientTable\n",
    "from dipy.direction import peaks_from_model\n",
    "\n",
    "white_matter = (labels == 1) | (labels == 2)\n",
    "i_wm =  white_matter[2*x0:2*xf, 2*y0:2*yf, 2*z0:2*zf]\n",
    "print i_wm.shape\n",
    "\n",
    "\n",
    "img_hr[2*x0:2*xf, 2*y0:2*yf, 2*z0:2*zf, b0:bf] = A\n",
    "\n",
    "#img_utils._is(i_wm)\n",
    "\n",
    "gtab_small = GradientTable(gtab.gradients[b0:bf],  big_delta=gtab.big_delta, \n",
    "                           small_delta=gtab.small_delta, b0_threshold=gtab.b0_threshold)\n",
    "\n",
    "csa_model = CsaOdfModel(gtab, sh_order=6)\n",
    "csa_peaks = peaks_from_model(csa_model, img_hr, default_sphere,\n",
    "                             relative_peak_threshold=.8,\n",
    "                             min_separation_angle=45,\n",
    "                             mask=white_matter)\n"
   ]
  },
  {
   "cell_type": "markdown",
   "metadata": {},
   "source": [
    "### Clasifyer"
   ]
  },
  {
   "cell_type": "code",
   "execution_count": 41,
   "metadata": {
    "collapsed": true
   },
   "outputs": [],
   "source": [
    "from dipy.tracking.local import ThresholdTissueClassifier\n",
    "\n",
    "classifier = ThresholdTissueClassifier(csa_peaks.gfa, .25)"
   ]
  },
  {
   "cell_type": "markdown",
   "metadata": {},
   "source": [
    "### Seeds"
   ]
  },
  {
   "cell_type": "code",
   "execution_count": 42,
   "metadata": {
    "collapsed": true
   },
   "outputs": [],
   "source": [
    "from dipy.tracking import utils\n",
    "\n",
    "affine = lr_hr_img.get_lr_affine()\n",
    "seed_mask = labels == 2\n",
    "seeds = utils.seeds_from_mask(seed_mask, density=[2, 2, 2], affine=affine)"
   ]
  },
  {
   "cell_type": "markdown",
   "metadata": {},
   "source": [
    "### Trackin and show"
   ]
  },
  {
   "cell_type": "code",
   "execution_count": null,
   "metadata": {
    "collapsed": false
   },
   "outputs": [],
   "source": [
    "from dipy.tracking.local import LocalTracking\n",
    "from dipy.viz import fvtk\n",
    "from dipy.viz.colormap import line_colors\n",
    "\n",
    "# Initialization of LocalTracking. The computation happens in the next step.\n",
    "streamlines = LocalTracking(csa_peaks, classifier, seeds, affine, step_size=.5)\n",
    "\n",
    "# Compute streamlines and store as a list.\n",
    "streamlines = list(streamlines)\n",
    "\n",
    "# Prepare the display objects.\n",
    "color = line_colors(streamlines)\n",
    "\n",
    "if fvtk.have_vtk:\n",
    "    streamlines_actor = fvtk.line(streamlines, line_colors(streamlines))\n",
    "\n",
    "    # Create the 3d display.\n",
    "    r = fvtk.ren()\n",
    "    fvtk.add(r, streamlines_actor)\n",
    "\n",
    "    # Save still images for this static example. Or for interactivity use\n",
    "    # fvtk.show , vtk.record\n",
    "    #fvtk.show(r, n_frames=1, out_path='deterministic.png',\n",
    "    #            size=(800, 800))\n",
    "    fvtk.show(r)\n",
    "        "
   ]
  }
 ],
 "metadata": {
  "kernelspec": {
   "display_name": "Python 2",
   "language": "python",
   "name": "python2"
  },
  "language_info": {
   "codemirror_mode": {
    "name": "ipython",
    "version": 2
   },
   "file_extension": ".py",
   "mimetype": "text/x-python",
   "name": "python",
   "nbconvert_exporter": "python",
   "pygments_lexer": "ipython2",
   "version": "2.7.12"
  }
 },
 "nbformat": 4,
 "nbformat_minor": 0
}
