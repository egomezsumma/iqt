{
 "cells": [
  {
   "cell_type": "markdown",
   "metadata": {},
   "source": [
    "# Experimento 4\n",
    "\n",
    "Hacemos cross-validation dejando uno afuera, usando el algoritmo de machine learning para crear la matris de submuestreo y el algoritmo de optimizacion para reconstruir la imagen con alta resolucion"
   ]
  },
  {
   "cell_type": "code",
   "execution_count": 1,
   "metadata": {
    "collapsed": false
   },
   "outputs": [
    {
     "name": "stdout",
     "output_type": "stream",
     "text": [
      "Populating the interactive namespace from numpy and matplotlib\n"
     ]
    },
    {
     "data": {
      "text/plain": [
       "<module 'utils.img_utils' from 'utils/img_utils.pyc'>"
      ]
     },
     "execution_count": 1,
     "metadata": {},
     "output_type": "execute_result"
    }
   ],
   "source": [
    "%pylab inline\n",
    "import time\n",
    "import numpy as np\n",
    "import cvxpy as cvx\n",
    "import matplotlib.pyplot as plt\n",
    "from utils import img_utils\n",
    "import seaborn as sns\n",
    "import utils.math_utils as mu\n",
    "import nibabel as nib\n",
    "from dipy.core.gradients import gradient_table\n",
    "reload(img_utils)\n"
   ]
  },
  {
   "cell_type": "markdown",
   "metadata": {},
   "source": [
    "## Load DWI"
   ]
  },
  {
   "cell_type": "code",
   "execution_count": 2,
   "metadata": {
    "collapsed": false
   },
   "outputs": [
    {
     "name": "stderr",
     "output_type": "stream",
     "text": [
      "/user/lgomez/home/anaconda2/lib/python2.7/site-packages/skimage/filter/__init__.py:6: skimage_deprecation: The `skimage.filter` module has been renamed to `skimage.filters`.  This placeholder module will be removed in v0.13.\n",
      "  warn(skimage_deprecation('The `skimage.filter` module has been renamed '\n"
     ]
    },
    {
     "name": "stdout",
     "output_type": "stream",
     "text": [
      "Dataset is already in place. If you want to fetch it again please first remove the folder /user/lgomez/home/.dipy/stanford_hardi \n",
      "Dataset is already in place. If you want to fetch it again please first remove the folder /user/lgomez/home/.dipy/stanford_hardi \n"
     ]
    }
   ],
   "source": [
    "from utils.DataGetter import DataGetter\n",
    "from utils.DownsampledImage import DownsampledImage\n",
    "\n",
    "d = DataGetter()\n",
    "datas_names = [\n",
    "    DataGetter.STANDFORD_HARDI_DATA, #(81, 106, 76, 160)\n",
    "    #DataGetter.TAIWAN_NTU_DSI_DATA,  #(96, 96, 60, 203)\n",
    "    #DataGetter.SHERBROOKE_3SHELL_DATA #(128, 128, 60, 193)\n",
    "]\n",
    "\n",
    "scale=2\n",
    "datas = d.get_data(datas_names)\n",
    "name = datas_names[0]\n",
    "gtab = datas[name]['gtab']\n",
    "\n",
    "lr_hr_img = DownsampledImage(name, datas[name]['img'], gtab, scale)\n",
    "\n",
    "img_hr = lr_hr_img.get_hr_img().astype(float)\n",
    "img_lr = lr_hr_img.get_lr_img().astype(float)"
   ]
  },
  {
   "cell_type": "markdown",
   "metadata": {},
   "source": [
    "## Select VOI\n"
   ]
  },
  {
   "cell_type": "code",
   "execution_count": 17,
   "metadata": {
    "collapsed": true
   },
   "outputs": [],
   "source": [
    "img_shape = img_lr.shape\n",
    "x0,xf, y0,yf, z0,zf = volume_range_lr = (22, 28, 15, 21, 23, 29)\n",
    "b0, bf = bval_range = (10,16)\n",
    "gdirections = lr_hr_img.gtab.bvecs[b0:bf]\n",
    "\n",
    "# Type and intensiti of noise to apply\n",
    "SNR, SNR_TYPE = 25, 'gaussian'\n",
    "\n",
    "#img_hr[2*x0:2*xf, 2*y0:2*yf, 2*z0:2*zf, b0:bf] = (img_hr[2*x0:2*xf, y0, 2*z0:2*zf, b0:bf].max())*np.ones((12,12,12,6))\n",
    "\n",
    "i_lr = img_lr[x0:xf, y0:yf, z0:zf, b0:bf]\n",
    "i_hr = img_hr[2*x0:2*xf, 2*y0:2*yf, 2*z0:2*zf, b0:bf]\n",
    "voi_hr_shape = i_hr.shape\n",
    "voi_lr_shape = i_lr.shape"
   ]
  },
  {
   "cell_type": "markdown",
   "metadata": {},
   "source": [
    "## Save VOI selected"
   ]
  },
  {
   "cell_type": "code",
   "execution_count": null,
   "metadata": {
    "collapsed": true
   },
   "outputs": [],
   "source": [
    "## Save i_hr ##\n",
    "RES_BASE_FOLDER = './resultados/exp4/'\n",
    "np.save(RES_BASE_FOLDER+'i_hr', i_hr)\n",
    "np.save(RES_BASE_FOLDER+'i_lr', i_lr)"
   ]
  },
  {
   "cell_type": "code",
   "execution_count": 4,
   "metadata": {
    "collapsed": false
   },
   "outputs": [
    {
     "data": {
      "text/plain": [
       "('b=2000, G directions =',\n",
       " array([[  2.18280000e-02,   8.02420000e-01,  -5.96360000e-01],\n",
       "        [ -1.54250000e-02,   2.20980000e-01,   9.75160000e-01],\n",
       "        [ -7.09180000e-01,  -6.31060000e-04,  -7.05030000e-01],\n",
       "        [ -2.46500000e-01,   1.04300000e-01,  -9.63510000e-01],\n",
       "        [ -4.83470000e-01,   4.39100000e-01,  -7.57260000e-01],\n",
       "        [  1.51030000e-01,   9.65230000e-01,   2.13360000e-01]]))"
      ]
     },
     "execution_count": 4,
     "metadata": {},
     "output_type": "execute_result"
    },
    {
     "data": {
      "image/png": "[encoded data removed]",
      "text/plain": [
       "<matplotlib.figure.Figure at 0x7fbb06503b10>"
      ]
     },
     "metadata": {},
     "output_type": "display_data"
    }
   ],
   "source": [
    "# Show VOI\n",
    "img_utils._isc(i_hr,i_lr,titles=['Orig '+ str(i_hr.shape), 'Downsam... '+str(i_lr.shape)] )\n",
    "'b=2000, G directions =', gdirections"
   ]
  },
  {
   "cell_type": "code",
   "execution_count": 5,
   "metadata": {
    "collapsed": false
   },
   "outputs": [
    {
     "data": {
      "image/png": "[encoded data removed]",
      "text/plain": [
       "<matplotlib.figure.Figure at 0x7fbb06503c50>"
      ]
     },
     "metadata": {},
     "output_type": "display_data"
    },
    {
     "name": "stdout",
     "output_type": "stream",
     "text": [
      "(81, 12, 76) y= 6\n",
      "HR max,min 989.0 56.3402134135 79.521167049\n"
     ]
    }
   ],
   "source": [
    "## Show VOI in HR context\n",
    "rect_hr = 2*z0, 2*x0, 2*xf-2*x0, 2*zf-2*z0\n",
    "\n",
    "res=img_utils._iswr(img_hr[:,2*y0:2*yf,:,0],  rect_hr, b=1,title='Orig '+ str(i_hr.shape), vmax=2500)\n",
    "## For save in fs\n",
    "# res[1].savefig('/user/lgomez/home/Documents/tesis/optimizacion/img/hardi.pdf')\n",
    "print 'HR max,min', img_hr[:,:,:,10:16].max(), img_hr[:,:,:,10:16].mean(), np.std(img_hr[:,:,:,10:16])"
   ]
  },
  {
   "cell_type": "code",
   "execution_count": null,
   "metadata": {
    "collapsed": true
   },
   "outputs": [],
   "source": []
  },
  {
   "cell_type": "code",
   "execution_count": null,
   "metadata": {
    "collapsed": true
   },
   "outputs": [],
   "source": [
    "## Show VOI in LR context\n",
    "rect_lr = z0, x0, xf-x0, zf-z0\n",
    "\n",
    "res =img_utils._iswr(img_lr[:,y0:yf,:,0], rect_lr,b=1, title='Sub muestro '+str(i_lr.shape), vmax=2500)\n",
    "## For save in fs\n",
    "# res[1].savefig('/user/lgomez/home/Documents/tesis/optimizacion/img/downsampling.pdf')\n",
    "print 'LR max,min', img_lr.min(), img_lr.max()\n",
    "print rect_lr"
   ]
  },
  {
   "cell_type": "markdown",
   "metadata": {},
   "source": [
    "# Predicting the G downsampling Matrix\n",
    "\n",
    "## Training set generator"
   ]
  },
  {
   "cell_type": "code",
   "execution_count": 4,
   "metadata": {
    "collapsed": true
   },
   "outputs": [],
   "source": [
    "def load_subject(index, numbers, bval=None, bvalpos=None ):\n",
    "    subject = str(numbers[index])\n",
    "    folder = './HCP/'+subject+'/'\n",
    "    bvals = np.loadtxt(folder+ 'bvals_'+subject)\n",
    "    bvecs = np.loadtxt(folder+'bvecs_'+subject)\n",
    "    \n",
    "    if bvalpos is not None:\n",
    "        img = nib.load(folder+ 'data_small_12x12x12x6_'+subject+'_b'+str(bval)+'.nii.gz')\n",
    "        gtab = gradient_table(bvals=bvals[bvalpos], bvecs=bvecs[:,bvalpos])\n",
    "    else:\n",
    "        img = nib.load(folder+ 'data_small_12x12x12x6_'+subject+'.nii.gz')\n",
    "        gtab = gradient_table(bvals=bvals, bvecs=bvecs)\n",
    "    return img, gtab\n",
    "\n",
    "def get_sample(index, numbers, bval=None, bvalpos=None,  scale=2):\n",
    "    img, gtab = load_subject(index, numbers, bval, bvalpos)\n",
    "    lr, lr_affine = img_utils.downsampling(img, scale)\n",
    "    return img.get_data(), lr\n",
    "\n",
    "def get_sample_maker(numbers, bval=None, bvalpos=None, scale=2):\n",
    "    return lambda index : get_sample(index, numbers, bval, bvalpos,  scale)\n",
    "\n",
    "def mm(A):\n",
    "    return (A.min(), A.max())\n",
    "    \n",
    "def buildT(sample_getter, n_samples):\n",
    "    noised_hr, noised_lr = sample_getter(0)\n",
    "    X = img_utils.column_this(noised_lr)\n",
    "    Y = img_utils.column_this(noised_hr)\n",
    "    for i in range(1, n_samples):\n",
    "        noised_hr, noised_lr = sample_getter(i)\n",
    "        X = img_utils.append_column(X, noised_lr)\n",
    "        Y = img_utils.append_column(Y, noised_hr)\n",
    "    return X, Y\n",
    "\n",
    "## Example of use\n",
    "#buildT(get_sample_maker(numbers, scale), n_samples)"
   ]
  },
  {
   "cell_type": "markdown",
   "metadata": {},
   "source": [
    "## Problem definition\n",
    "\n",
    "$ \\min_{Y_{hr}} \\{ ||GY_{lr} - Y_{hr}||^2 \\}$ st $Y_{hr} \\geq 0$"
   ]
  },
  {
   "cell_type": "code",
   "execution_count": 46,
   "metadata": {
    "collapsed": false
   },
   "outputs": [],
   "source": [
    "\n",
    "def define_problem(i_lr, i_hr_shape, downsampling_matrix, scale):\n",
    "    Nx, Ny, Nz, bval = i_hr_shape\n",
    "    vhrb = Nx*Ny*Nz*bval\n",
    "    vlr = Nx*Ny*Nz/(scale**3)\n",
    "      \n",
    "    Yhr = cvx.Variable(vhrb, 1)\n",
    "    #Yhr.value = np.ones((vhrb, 1))*i_lr.mean()\n",
    "    \n",
    "    Ylr = cvx.Parameter(vlr*bval, 1, sign=\"positive\")\n",
    "    Ylr.value = i_lr.reshape((vlr*bval, 1), order='F')\n",
    "    \n",
    "    G = cvx.Parameter(vlr*bval, vhrb)\n",
    "    G.value = downsampling_matrix\n",
    "\n",
    "    # Form objective.\n",
    "    obj = cvx.Minimize(cvx.sum_squares(G*Yhr - Ylr))\n",
    "\n",
    "    # Create two constraints.\n",
    "    #constraints = [Yhr >= 0]\n",
    "\n",
    "    # Form and solve problem.\n",
    "    prob = cvx.Problem(obj)\n",
    "    return prob, Yhr, Ylr, G\n",
    "\n",
    "\n",
    "def define_problem_with_tv(i_lr, i_hr_shape, downsampling_matrix, scale):\n",
    "    Nx, Ny, Nz, bval = i_hr_shape\n",
    "    nx, ny, nz = Nx/scale, Ny/scale, Nz/scale\n",
    "    vhr = Nx*Ny*Nz\n",
    "    vhrb = vhr*bval\n",
    "    vlr = nx*ny*nz\n",
    "      \n",
    "    Yhr = cvx.Variable(vhrb, 1)\n",
    "    Yhr.value = np.ones((vhrb, 1))*i_lr.mean()\n",
    "    \n",
    "    Ylr = cvx.Parameter(vlr*bval, 1, sign=\"positive\")\n",
    "    Ylr.value = i_lr.reshape((vlr*bval, 1), order='F')\n",
    "    \n",
    "    G = cvx.Parameter(vlr*bval, vhrb)\n",
    "    G.value = downsampling_matrix\n",
    "    \n",
    "    \n",
    "    # Hacer tiras de imagenes por cada b_val\n",
    "    Yhr_b = cvx.reshape(Yhr, Nx*Ny*Nz, bval)\n",
    "    slices_xy = []\n",
    "    for b in xrange(bval):\n",
    "        slices_xy_b = []\n",
    "        pp = cvx.reshape(Yhr_b[:,b], Nx, Ny*Nz)\n",
    "        for z in xrange(Nz):\n",
    "            ppz = pp[:, z*Nz:(z+1)*Nz]\n",
    "            ppp = cvx.reshape(ppz, Nx, Ny)\n",
    "            slices_xy_b.append(ppp)\n",
    "        slices_xy.append(slices_xy_b)\n",
    "    \n",
    "    big_img = cvx.bmat(slices_xy)\n",
    "    print 'BMAT SIZE= ', big_img.size\n",
    "    tv_norm = cvx.tv(big_img)\n",
    "    # ESTA ANDA BASTANTE FEO\n",
    "    #tv_norm = cvx.tv(cvx.reshape(cvx.reshape(Yhr, 12*12*12, 6), 12,12*12*6))\n",
    "    \n",
    "    \n",
    "    #PROBAR ESTE-->\n",
    "    #tv_norm = cvx.tv(cvx.reshape(Yhr, 12,12*12*6))\n",
    "    \n",
    "   \n",
    "    gamma = cvx.Parameter(sign=\"positive\")\n",
    "    gamma.value = 1\n",
    "    #tv_norm = cvx.tv(cvx.reshape(Yhr, Nx, Nz*Ny*bval))\n",
    "        \n",
    "    #mu = i_lr.mean()\n",
    "    #std = np.std(i_lr)    \n",
    "    \n",
    "    #constraints = [Yhr >= 0, mu == cvx.sum_entries(Yhr)/vhrb, var == cvx.sum_squares(Yhr-mu)]\n",
    "    constraints = [Yhr >= 0 ]\n",
    "    \n",
    "    # Form objective.\n",
    "    obj = cvx.Minimize(cvx.sum_squares(G*Yhr - Ylr) + gamma*tv_norm )\n",
    "    \n",
    "    # Form and solve problem.\n",
    "    prob = cvx.Problem(obj, constraints)\n",
    "    return prob, Yhr, Ylr, G"
   ]
  },
  {
   "cell_type": "code",
   "execution_count": 149,
   "metadata": {
    "collapsed": false
   },
   "outputs": [
    {
     "data": {
      "text/plain": [
       "'1,2,3'"
      ]
     },
     "execution_count": 149,
     "metadata": {},
     "output_type": "execute_result"
    }
   ],
   "source": []
  },
  {
   "cell_type": "markdown",
   "metadata": {},
   "source": [
    "## Solving the problem and cross-validation (leave one out)"
   ]
  },
  {
   "cell_type": "code",
   "execution_count": 47,
   "metadata": {
    "collapsed": false
   },
   "outputs": [],
   "source": [
    "def solveMin(i_lr, i_hr_shape, downsampling_matrix, scale=2, max_iters=1500, verbose=False):\n",
    "    #prob, Yhr, Ylr, G = define_problem(i_lr, i_hr_shape, downsampling_matrix, scale)\n",
    "    prob, Yhr, Ylr, G = define_problem_with_tv(i_lr, i_hr_shape, downsampling_matrix, scale)\n",
    "    \n",
    "    start_time = time.time()\n",
    "    res = prob.solve(solver='SCS', max_iters=max_iters, eps=1.00e-01, verbose=verbose )  # Returns the optimal value.\n",
    "    #res = prob.solve(solver='ECOS', verbose=verbose )  # Returns the optimal value.\n",
    "    \"\"\"\n",
    "        'max_iters'\n",
    "            maximum number of iterations (default: 100).\n",
    "        'abstol'\n",
    "            absolute accuracy (default: 1e-7).\n",
    "        'reltol'\n",
    "            relative accuracy (default: 1e-6).\n",
    "        'feastol'\n",
    "            tolerance for feasibility conditions (default: 1e-7).\n",
    "        'abstol_inacc'\n",
    "            absolute accuracy for inaccurate solution (default: 5e-5).\n",
    "        'reltol_inacc'\n",
    "            relative accuracy for inaccurate solution (default: 5e-5).\n",
    "        'feastol_inacc'\n",
    "            tolerance for feasibility condition for inaccurate solution (default: 1e-4). \n",
    "    \"\"\"\n",
    "    \n",
    "    seg = time.time() - start_time\n",
    "\n",
    "    minutes = int(seg / 60)\n",
    "    print(\"--- time of optimization : %d' %d'' ---\" % (minutes , seg%60))\n",
    "    print \"--- status:\", prob.status, \"optimal value\", prob.value\n",
    "    print \n",
    "\n",
    "    # Change dimension of result representation\n",
    "    if Yhr.value is None :\n",
    "        #Yhr.value = np.ones(i_hr_shape)\n",
    "        print 'FRECONSTRUCTION FAIL :('\n",
    "        A = np.zeros(i_hr_shape,dtype='float32')\n",
    "    else:    \n",
    "        A = np.asarray(Yhr.value, dtype='float32').reshape(i_hr_shape, order='F')\n",
    "        \n",
    "    return A, seg, prob\n"
   ]
  },
  {
   "cell_type": "code",
   "execution_count": 48,
   "metadata": {
    "collapsed": false,
    "scrolled": false
   },
   "outputs": [
    {
     "name": "stdout",
     "output_type": "stream",
     "text": [
      "== Leaving out: # 180937\n",
      "SAMPLES min/max  29.1264362335 2830.05957031 12.4889230728 3112.2512207\n",
      "= Training and fiting ...\n",
      "= Solving optimization problem ...\n",
      "BMAT SIZE=  (72, 144)\n",
      "----------------------------------------------------------------------------\n",
      "\tSCS v1.2.6 - Splitting Conic Solver\n",
      "\t(c) Brendan O'Donoghue, Stanford University, 2012-2016\n",
      "----------------------------------------------------------------------------\n",
      "Lin-sys: sparse-indirect, nnz in A = 13498063, CG tol ~ 1/iter^(2.00)\n",
      "eps = 1.00e-01, alpha = 1.50, max_iters = 1500, normalize = 1, scale = 1.00\n",
      "Variables n = 20522, constraints m = 42125\n",
      "Cones:\tlinear vars: 10368\n",
      "\tsoc vars: 31757, soc blks: 10154\n",
      "Setup time: 7.39e-01s\n",
      "----------------------------------------------------------------------------\n",
      " Iter | pri res | dua res | rel gap | pri obj | dua obj | kap/tau | time (s)\n",
      "----------------------------------------------------------------------------\n",
      "     0|      inf       inf      -nan      -inf       inf       inf  1.00e+00 \n",
      "    60| 3.62e-02  6.19e-02  7.53e-02  1.12e+06  1.31e+06  9.93e-10  2.15e+01 \n",
      "----------------------------------------------------------------------------\n",
      "Status: Solved\n",
      "Timing: Solve time: 2.15e+01s\n",
      "\tLin-sys: avg # CG iterations: 7.56, avg solve time: 3.49e-01s\n",
      "\tCones: avg projection time: 1.32e-04s\n",
      "----------------------------------------------------------------------------\n",
      "Error metrics:\n",
      "dist(s, K) = 1.8474e-13, dist(y, K*) = 2.2204e-16, s'y/|s||y| = 7.5989e-16\n",
      "|Ax + s - b|_2 / (1 + |b|_2) = 3.6231e-02\n",
      "|A'y + c|_2 / (1 + |c|_2) = 6.1924e-02\n",
      "|c'x + b'y| / (1 + |c'x| + |b'y|) = 7.5309e-02\n",
      "----------------------------------------------------------------------------\n",
      "c'x = 1123245.5269, -b'y = 1306204.6731\n",
      "============================================================================\n",
      "--- time of optimization : 0' 37'' ---\n",
      "--- status: optimal optimal value 1123245.52689\n",
      "\n",
      "= Calculating metrics...\n",
      "showing hr 180937 min, max (-5.2113395, 1768.3804)\n",
      "saved A in:  ./resultados/exp4/A/hrRec_lo180937.npy\n",
      "showing lr 180937 min, max (136.08327762918259, 1777.7107171056055)\n",
      "saved A in:  ./resultados/exp4/lrRec_lo180937.npy\n",
      "\n",
      "\n",
      "== Leaving out: # 100307\n",
      "SAMPLES min/max  29.1264362335 2830.05957031 12.4889230728 3112.2512207\n",
      "= Training and fiting ...\n",
      "= Solving optimization problem ...\n",
      "BMAT SIZE=  (72, 144)\n",
      "----------------------------------------------------------------------------\n",
      "\tSCS v1.2.6 - Splitting Conic Solver\n",
      "\t(c) Brendan O'Donoghue, Stanford University, 2012-2016\n",
      "----------------------------------------------------------------------------\n",
      "Lin-sys: sparse-indirect, nnz in A = 13498063, CG tol ~ 1/iter^(2.00)\n",
      "eps = 1.00e-01, alpha = 1.50, max_iters = 1500, normalize = 1, scale = 1.00\n",
      "Variables n = 20522, constraints m = 42125\n",
      "Cones:\tlinear vars: 10368\n",
      "\tsoc vars: 31757, soc blks: 10154\n",
      "Setup time: 6.33e-01s\n",
      "----------------------------------------------------------------------------\n",
      " Iter | pri res | dua res | rel gap | pri obj | dua obj | kap/tau | time (s)\n",
      "----------------------------------------------------------------------------\n",
      "     0|      inf       inf      -nan      -inf       inf       inf  9.78e-01 \n",
      "    60| 6.00e-02  9.07e-02  2.97e-02  2.39e+06  2.53e+06  1.39e-09  2.22e+01 \n",
      "----------------------------------------------------------------------------\n",
      "Status: Solved\n",
      "Timing: Solve time: 2.22e+01s\n",
      "\tLin-sys: avg # CG iterations: 7.77, avg solve time: 3.60e-01s\n",
      "\tCones: avg projection time: 1.19e-04s\n",
      "----------------------------------------------------------------------------\n",
      "Error metrics:\n",
      "dist(s, K) = 1.2790e-13, dist(y, K*) = 2.2204e-16, s'y/|s||y| = 8.0795e-16\n",
      "|Ax + s - b|_2 / (1 + |b|_2) = 5.9992e-02\n",
      "|A'y + c|_2 / (1 + |c|_2) = 9.0726e-02\n",
      "|c'x + b'y| / (1 + |c'x| + |b'y|) = 2.9728e-02\n",
      "----------------------------------------------------------------------------\n",
      "c'x = 2388188.8116, -b'y = 2534532.6304\n",
      "============================================================================\n",
      "--- time of optimization : 0' 37'' ---\n",
      "--- status: optimal optimal value 2388188.81158\n",
      "\n",
      "= Calculating metrics...\n",
      "showing hr 100307 min, max (0.22215115, 1647.3351)\n",
      "saved A in:  ./resultados/exp4/A/hrRec_lo100307.npy\n",
      "showing lr 100307 min, max (184.04265327716803, 1772.8766956070024)\n",
      "saved A in:  ./resultados/exp4/lrRec_lo100307.npy\n",
      "\n",
      "\n",
      "== Leaving out: # 100408\n",
      "SAMPLES min/max  29.1264362335 2830.05957031 12.4889230728 3112.2512207\n",
      "= Training and fiting ...\n",
      "= Solving optimization problem ...\n",
      "BMAT SIZE=  (72, 144)\n",
      "----------------------------------------------------------------------------\n",
      "\tSCS v1.2.6 - Splitting Conic Solver\n",
      "\t(c) Brendan O'Donoghue, Stanford University, 2012-2016\n",
      "----------------------------------------------------------------------------\n",
      "Lin-sys: sparse-indirect, nnz in A = 13498063, CG tol ~ 1/iter^(2.00)\n",
      "eps = 1.00e-01, alpha = 1.50, max_iters = 1500, normalize = 1, scale = 1.00\n",
      "Variables n = 20522, constraints m = 42125\n",
      "Cones:\tlinear vars: 10368\n",
      "\tsoc vars: 31757, soc blks: 10154\n",
      "Setup time: 6.36e-01s\n",
      "----------------------------------------------------------------------------\n",
      " Iter | pri res | dua res | rel gap | pri obj | dua obj | kap/tau | time (s)\n",
      "----------------------------------------------------------------------------\n",
      "     0|      inf       inf      -nan      -inf       inf       inf  1.01e+00 \n",
      "    60| 4.58e-02  6.85e-02  5.83e-02  1.76e+06  1.98e+06  1.74e-09  2.22e+01 \n",
      "----------------------------------------------------------------------------\n",
      "Status: Solved\n",
      "Timing: Solve time: 2.22e+01s\n",
      "\tLin-sys: avg # CG iterations: 7.69, avg solve time: 3.61e-01s\n",
      "\tCones: avg projection time: 1.36e-04s\n",
      "----------------------------------------------------------------------------\n",
      "Error metrics:\n",
      "dist(s, K) = 1.4655e-13, dist(y, K*) = 2.2204e-16, s'y/|s||y| = 1.6289e-15\n",
      "|Ax + s - b|_2 / (1 + |b|_2) = 4.5792e-02\n",
      "|A'y + c|_2 / (1 + |c|_2) = 6.8489e-02\n",
      "|c'x + b'y| / (1 + |c'x| + |b'y|) = 5.8340e-02\n",
      "----------------------------------------------------------------------------\n",
      "c'x = 1757718.7981, -b'y = 1975515.4653\n",
      "============================================================================\n",
      "--- time of optimization : 0' 37'' ---\n",
      "--- status: optimal optimal value 1757718.79809\n",
      "\n",
      "= Calculating metrics...\n",
      "showing hr 100408 min, max (-17.487057, 2228.7275)\n",
      "saved A in:  ./resultados/exp4/A/hrRec_lo100408.npy\n",
      "showing lr 100408 min, max (161.8147595490509, 2240.9995335321964)\n",
      "saved A in:  ./resultados/exp4/lrRec_lo100408.npy\n",
      "\n",
      "\n",
      "== Leaving out: # 180129\n",
      "SAMPLES min/max  29.1264362335 2830.05957031 12.4889230728 3112.2512207\n",
      "= Training and fiting ...\n",
      "= Solving optimization problem ...\n",
      "BMAT SIZE=  (72, 144)\n",
      "----------------------------------------------------------------------------\n",
      "\tSCS v1.2.6 - Splitting Conic Solver\n",
      "\t(c) Brendan O'Donoghue, Stanford University, 2012-2016\n",
      "----------------------------------------------------------------------------\n",
      "Lin-sys: sparse-indirect, nnz in A = 13498063, CG tol ~ 1/iter^(2.00)\n",
      "eps = 1.00e-01, alpha = 1.50, max_iters = 1500, normalize = 1, scale = 1.00\n",
      "Variables n = 20522, constraints m = 42125\n",
      "Cones:\tlinear vars: 10368\n",
      "\tsoc vars: 31757, soc blks: 10154\n",
      "Setup time: 6.50e-01s\n",
      "----------------------------------------------------------------------------\n",
      " Iter | pri res | dua res | rel gap | pri obj | dua obj | kap/tau | time (s)\n",
      "----------------------------------------------------------------------------\n",
      "     0|      inf       inf      -nan      -inf       inf       inf  1.00e+00 \n",
      "    60| 3.60e-02  5.71e-02  8.90e-02  9.08e+05  1.09e+06  7.31e-10  2.16e+01 \n",
      "----------------------------------------------------------------------------\n",
      "Status: Solved\n",
      "Timing: Solve time: 2.16e+01s\n",
      "\tLin-sys: avg # CG iterations: 7.48, avg solve time: 3.51e-01s\n",
      "\tCones: avg projection time: 1.33e-04s\n",
      "----------------------------------------------------------------------------\n",
      "Error metrics:\n",
      "dist(s, K) = 5.2387e-10, dist(y, K*) = 1.3642e-12, s'y/|s||y| = -1.1140e-15\n",
      "|Ax + s - b|_2 / (1 + |b|_2) = 3.6047e-02\n",
      "|A'y + c|_2 / (1 + |c|_2) = 5.7117e-02\n",
      "|c'x + b'y| / (1 + |c'x| + |b'y|) = 8.9011e-02\n",
      "----------------------------------------------------------------------------\n",
      "c'x = 908321.7924, -b'y = 1085822.1740\n",
      "============================================================================\n",
      "--- time of optimization : 0' 37'' ---\n",
      "--- status: optimal optimal value 908321.792417\n",
      "\n",
      "= Calculating metrics...\n",
      "showing hr 180129 min, max (-25.403643, 2169.0493)\n",
      "saved A in:  ./resultados/exp4/A/hrRec_lo180129.npy\n",
      "showing lr 180129 min, max (165.20943635804639, 1914.2348382528487)\n",
      "saved A in:  ./resultados/exp4/lrRec_lo180129.npy\n",
      "\n",
      "\n",
      "== Leaving out: # 180432\n",
      "SAMPLES min/max  29.1264362335 2830.05957031 12.4889230728 3112.2512207\n",
      "= Training and fiting ...\n",
      "= Solving optimization problem ...\n",
      "BMAT SIZE=  (72, 144)\n",
      "----------------------------------------------------------------------------\n",
      "\tSCS v1.2.6 - Splitting Conic Solver\n",
      "\t(c) Brendan O'Donoghue, Stanford University, 2012-2016\n",
      "----------------------------------------------------------------------------\n",
      "Lin-sys: sparse-indirect, nnz in A = 13498063, CG tol ~ 1/iter^(2.00)\n",
      "eps = 1.00e-01, alpha = 1.50, max_iters = 1500, normalize = 1, scale = 1.00\n",
      "Variables n = 20522, constraints m = 42125\n",
      "Cones:\tlinear vars: 10368\n",
      "\tsoc vars: 31757, soc blks: 10154\n",
      "Setup time: 7.32e-01s\n",
      "----------------------------------------------------------------------------\n",
      " Iter | pri res | dua res | rel gap | pri obj | dua obj | kap/tau | time (s)\n",
      "----------------------------------------------------------------------------\n",
      "     0|      inf       inf      -nan      -inf       inf       inf  9.76e-01 \n",
      "    60| 3.86e-02  6.56e-02  3.60e-02  1.56e+06  1.67e+06  8.12e-10  2.19e+01 \n",
      "----------------------------------------------------------------------------\n",
      "Status: Solved\n",
      "Timing: Solve time: 2.19e+01s\n",
      "\tLin-sys: avg # CG iterations: 7.84, avg solve time: 3.56e-01s\n",
      "\tCones: avg projection time: 1.38e-04s\n",
      "----------------------------------------------------------------------------\n",
      "Error metrics:\n",
      "dist(s, K) = 1.7053e-13, dist(y, K*) = 2.2204e-16, s'y/|s||y| = 5.6426e-16\n",
      "|Ax + s - b|_2 / (1 + |b|_2) = 3.8646e-02\n",
      "|A'y + c|_2 / (1 + |c|_2) = 6.5584e-02\n",
      "|c'x + b'y| / (1 + |c'x| + |b'y|) = 3.6048e-02\n",
      "----------------------------------------------------------------------------\n",
      "c'x = 1557581.0431, -b'y = 1674075.3177\n",
      "============================================================================\n",
      "--- time of optimization : 0' 37'' ---\n",
      "--- status: optimal optimal value 1557581.0431\n",
      "\n",
      "= Calculating metrics...\n",
      "showing hr 180432 min, max (-12.514122, 1886.8809)\n",
      "saved A in:  ./resultados/exp4/A/hrRec_lo180432.npy\n",
      "showing lr 180432 min, max (37.113452971985467, 1335.2413315802719)\n",
      "saved A in:  ./resultados/exp4/lrRec_lo180432.npy\n",
      "\n",
      "\n",
      "== Leaving out: # 180836\n",
      "SAMPLES min/max  29.1264362335 2830.05957031 12.4889230728 3112.2512207\n",
      "= Training and fiting ...\n",
      "= Solving optimization problem ...\n",
      "BMAT SIZE=  (72, 144)\n",
      "----------------------------------------------------------------------------\n",
      "\tSCS v1.2.6 - Splitting Conic Solver\n",
      "\t(c) Brendan O'Donoghue, Stanford University, 2012-2016\n",
      "----------------------------------------------------------------------------\n",
      "Lin-sys: sparse-indirect, nnz in A = 13498063, CG tol ~ 1/iter^(2.00)\n",
      "eps = 1.00e-01, alpha = 1.50, max_iters = 1500, normalize = 1, scale = 1.00\n",
      "Variables n = 20522, constraints m = 42125\n",
      "Cones:\tlinear vars: 10368\n",
      "\tsoc vars: 31757, soc blks: 10154\n",
      "Setup time: 6.48e-01s\n",
      "----------------------------------------------------------------------------\n",
      " Iter | pri res | dua res | rel gap | pri obj | dua obj | kap/tau | time (s)\n",
      "----------------------------------------------------------------------------\n",
      "     0|      inf       inf      -nan      -inf       inf       inf  1.01e+00 \n",
      "    60| 4.80e-02  7.22e-02  4.75e-02  2.32e+06  2.55e+06  1.18e-09  2.26e+01 \n",
      "----------------------------------------------------------------------------\n",
      "Status: Solved\n",
      "Timing: Solve time: 2.26e+01s\n",
      "\tLin-sys: avg # CG iterations: 7.75, avg solve time: 3.68e-01s\n",
      "\tCones: avg projection time: 1.36e-04s\n",
      "----------------------------------------------------------------------------\n",
      "Error metrics:\n",
      "dist(s, K) = 1.6298e-09, dist(y, K*) = 9.0949e-13, s'y/|s||y| = 1.2561e-16\n",
      "|Ax + s - b|_2 / (1 + |b|_2) = 4.7989e-02\n",
      "|A'y + c|_2 / (1 + |c|_2) = 7.2189e-02\n",
      "|c'x + b'y| / (1 + |c'x| + |b'y|) = 4.7508e-02\n",
      "----------------------------------------------------------------------------\n",
      "c'x = 2322671.7255, -b'y = 2554372.7157\n",
      "============================================================================\n",
      "--- time of optimization : 0' 38'' ---\n",
      "--- status: optimal optimal value 2322671.72552\n",
      "\n",
      "= Calculating metrics...\n",
      "showing hr 180836 min, max (-11.480303, 2547.083)\n",
      "saved A in:  ./resultados/exp4/A/hrRec_lo180836.npy\n",
      "showing lr 180836 min, max (230.46642406254415, 2291.8839364244395)\n",
      "saved A in:  ./resultados/exp4/lrRec_lo180836.npy\n",
      "\n",
      "\n",
      " === TOTAL TIME : 3' 46\"\n"
     ]
    },
    {
     "data": {
      "image/png": "[encoded data removed]",
      "text/plain": [
       "<matplotlib.figure.Figure at 0x7f056733a110>"
      ]
     },
     "metadata": {},
     "output_type": "display_data"
    }
   ],
   "source": [
    "from scipy.sparse import csr_matrix\n",
    "import experimento1_funciones as e1f\n",
    "reload(img_utils)\n",
    "\n",
    "RES_BASE_FOLDER = './resultados/exp4/'\n",
    "VMIN, VMAX=-50, 2500\n",
    "\n",
    "voi_hr_shape = (12, 12, 12, 6)\n",
    "voi_lr_shape = (6, 6, 6, 6)\n",
    "subjects = [100307, 100408, 180129, 180432, 180836, 180937]\n",
    "bvals2000pos = [18, 27, 69, 75, 101, 107]\n",
    "sample_maker = get_sample_maker(subjects, bval=2000, bvalpos=bvals2000pos, scale=2)\n",
    "\n",
    "n_samples = 6\n",
    "iterations = 6\n",
    "\n",
    "# Metrics to save\n",
    "min_vals_hr_r = []\n",
    "max_vals_hr_r = []\n",
    "min_vals_lr_r = []\n",
    "max_vals_lr_r = []\n",
    "\n",
    "dif_norm_hrs=[]\n",
    "dif_norm_lrs=[]    \n",
    "Yhr_recons_norms=[]\n",
    "Ylr_recons_norms=[]  \n",
    "Yhr_norms=[]\n",
    "Ylr_norms=[]\n",
    "times = []\n",
    "optimal_vals = []\n",
    "\n",
    "base_folder = RES_BASE_FOLDER\n",
    "#base_folder = None\n",
    "\n",
    "for i in range(0, iterations):\n",
    "    subject = str(subjects[len(subjects)-1])\n",
    "    print '== Leaving out: #', subject\n",
    "    \n",
    "    ### Aca shiftear el arreglo de sujetos (train deja el ultimo afuera del entrenamiento)\n",
    "    subjects.append(subjects.pop(0))\n",
    "    lr_samples, hr_samples = buildT(sample_maker, n_samples) #lr, hr\n",
    "\n",
    "    #lr_samples, hr_samples = lr_samples/1589, hr_samples/1589\n",
    "    print 'SAMPLES min/max ', lr_samples.min(),lr_samples.max(),  hr_samples.min(), hr_samples.max()\n",
    "    \n",
    "    # Build downsampling matrix\n",
    "    print '= Training and fiting ...'\n",
    "    regr, hr_train , lr_train, hr_test, lr_test = e1f.train(hr_samples, lr_samples)\n",
    "    regr.coef_ = csr_matrix(regr.coef_)\n",
    "    \n",
    "    # Reshape the one that left out to validate\n",
    "    i_lr = lr_test.reshape(voi_lr_shape, order='F')\n",
    "    i_hr = hr_test.reshape(voi_hr_shape, order='F')\n",
    "    \n",
    "    # Minimization solve\n",
    "    # mock: A, seg = np.ones(i_hr.shape), 20\n",
    "    print '= Solving optimization problem ...'\n",
    "    A, seg, prob = solveMin(i_lr, i_hr.shape, regr.coef_, scale=2, max_iters=1500, verbose=True)\n",
    "    max_vals_hr_r.append(A.max())\n",
    "    min_vals_hr_r.append(A.min())\n",
    "    \n",
    "    B = (regr.coef_*i_hr.reshape(-1, order='F')).reshape(voi_lr_shape, order='F')\n",
    "    max_vals_lr_r.append(B.max())\n",
    "    min_vals_lr_r.append(B.min())\n",
    "    \n",
    "    # Keep parameters\n",
    "    print '= Calculating metrics...'\n",
    "    dif_norm_hr = np.linalg.norm(i_hr-A) # recons-gtrust\n",
    "    Yhr_norm = np.linalg.norm(i_hr)\n",
    "    Yhr_recons_norm = np.linalg.norm(A) #recons\n",
    "    \n",
    "    dif_norm_lr = np.linalg.norm(i_lr-B)\n",
    "    Ylr_norm = np.linalg.norm(B)\n",
    "    Ylr_recons_norm = np.linalg.norm(B)\n",
    "    \n",
    "    dif_norm_hrs.append(dif_norm_hr)\n",
    "    dif_norm_lrs.append(dif_norm_lr)\n",
    "    \n",
    "    Yhr_recons_norms.append(Yhr_recons_norm)\n",
    "    Ylr_recons_norms.append(Ylr_recons_norm)\n",
    "    \n",
    "    Yhr_norms.append(Yhr_norm)\n",
    "    Ylr_norms.append(Ylr_norm)\n",
    "    \n",
    "    times.append(seg)\n",
    "    optimal_vals.append(prob.value)\n",
    "\n",
    "    # Save the A calculated\n",
    "    if base_folder is not None:\n",
    "        name = base_folder+ \"A/\" + 'hrRec_lo' + subject\n",
    "        np.save(name, A)\n",
    "        print 'showing hr '+ subject, 'min, max',(A.min(), A.max()) \n",
    "        titles=['Reconstruida', 'Original']\n",
    "        for b in xrange(6):\n",
    "            plt = img_utils._isc(A, i_hr,b=b ,titles=titles,  vmax=VMAX, vmin=VMIN)\n",
    "            plt.savefig(name +'b'+str(b)+'.pdf')\n",
    "        print 'saved A in: ', name + str('.npy')\n",
    "        \n",
    "    # Save the B calculated\n",
    "    if base_folder is not None:\n",
    "        name = base_folder + 'lrRec_lo' + subject\n",
    "        np.save(name, B)\n",
    "        print 'showing lr '+ subject, 'min, max',(B.min(), B.max()) \n",
    "        titles=['Reconstruida', 'Original']\n",
    "        plt = img_utils._isc(B, i_lr, titles=titles,  vmax=VMAX, vmin=VMIN)\n",
    "        plt.savefig(name + '.pdf')\n",
    "        print 'saved A in: ', name + str('.npy')\n",
    "        \n",
    "    print\n",
    "    print\n",
    "\n",
    "# Log spended\n",
    "total_sec = np.array(times).sum()\n",
    "print ' === TOTAL TIME :',  str(int(total_sec//60))+\"'\", str(int(total_sec%60))+ '\"'\n",
    "\n",
    "# Persist results\n",
    "if base_folder is not None: \n",
    "    np.save(base_folder+ 'dif_norm_hrs', dif_norm_hrs)\n",
    "    np.save(base_folder+ 'dif_norm_lrs', dif_norm_lrs)\n",
    "    np.save(base_folder+ 'Yhr_recons_norms', Yhr_recons_norms)\n",
    "    np.save(base_folder+ 'Ylr_recons_norms', dif_norm_hrs)\n",
    "    np.save(base_folder+ 'Yhr_norms', dif_norm_lrs)\n",
    "    np.save(base_folder+ 'Ylr_norms', Yhr_recons_norms)\n",
    "    \n",
    "    np.save(base_folder+ 'max_vals_hr_r', max_vals_hr_r)\n",
    "    np.save(base_folder+ 'min_vals_hr_r', min_vals_hr_r)\n",
    "    np.save(base_folder+ 'max_vals_lr_r', max_vals_hr_r)\n",
    "    np.save(base_folder+ 'min_vals_lr_r', min_vals_hr_r)\n",
    "    \n",
    "    np.save(base_folder+ 'times' , times)\n",
    "    np.save(base_folder+ 'optimal_vals', optimal_vals)\n"
   ]
  },
  {
   "cell_type": "code",
   "execution_count": 122,
   "metadata": {
    "collapsed": false
   },
   "outputs": [
    {
     "data": {
      "image/png": "[encoded data removed]",
      "text/plain": [
       "<matplotlib.figure.Figure at 0x7fe399ad0b10>"
      ]
     },
     "metadata": {},
     "output_type": "display_data"
    }
   ],
   "source": [
    "B = (regr.coef_*i_hr.reshape(-1, order='F')).reshape(voi_lr_shape, order='F')\n",
    "img_utils._is(B, vmin=230, vmax=2291)\n",
    "B.min(), B.max()"
   ]
  },
  {
   "cell_type": "code",
   "execution_count": 119,
   "metadata": {
    "collapsed": false
   },
   "outputs": [
    {
     "name": "stdout",
     "output_type": "stream",
     "text": [
      "29.1264362335 2830.05957031 12.4889230728 3112.2512207\n",
      "recons (-44.974922, 1134.6599, 577.12354, 2190.9661)\n",
      "orig (25.37767219543457, 1150.8383932880781, 430.85226519074263, 2805.781494140625)\n",
      "primera forma de tvnorm reshape(Yhr, Nx*Ny*Nz, bval)\n",
      "dif_norm_hrs 48974.2251814 12775.3776332\n",
      "dif_norm_lrs [10381.806480237039, 15904.202550468717, 14689.002104720963, 9610.8219554376974, 10753.442791509822, 17646.047504724036]\n",
      "Yhr_recons_norms [93086.82, 95644.469, 114271.49, 94329.453, 73344.055, 129620.98]\n",
      "Ylr_recons_norms [30867.538619137689, 33463.672033452618, 37572.704347895451, 31884.597320442364, 22783.488479764248, 42209.155273016899]\n",
      "Yhr_norms [87069.886863060499, 100953.90684595105, 107565.35798833604, 89007.294479625343, 66721.119861131345, 125125.25678612119]\n",
      "Ylr_norms [30867.538619137689, 33463.672033452618, 37572.704347895451, 31884.597320442364, 22783.488479764248, 42209.155273016899]\n",
      "times [22.305898189544678, 29.32785391807556, 22.55314302444458, 21.77543807029724, 29.634801864624023, 22.235890865325928]\n",
      "optimal_vals [148505.73992213915, 355858.93069314415, 210631.34917178925, 130858.00239144725, 240178.25585662763, 273678.3581239858]\n"
     ]
    },
    {
     "data": {
      "text/plain": [
       "[-35.673389, 0.18885134, -53.420452, -25.665865, -7.5632515, -44.974922]"
      ]
     },
     "execution_count": 119,
     "metadata": {},
     "output_type": "execute_result"
    }
   ],
   "source": [
    "print lr_samples.min(),lr_samples.max(), hr_samples.min(), hr_samples.max()\n",
    "#A = np.asarray(Yhr.value, dtype='float64').reshape(i_hr.shape)\n",
    "#img_utils._isc(A, i_hr,b=5, vmin=0, vmax=1994 )\n",
    "\n",
    "#img_utils._is(i_hr, vmax=1864)\n",
    "print 'recons', (A.min(), A.mean(), np.std(A), A.max())\n",
    "print 'orig',(i_hr.min(), i_hr.mean(),np.std(i_hr), i_hr.max())\n",
    "#G.shape\n",
    "\n",
    "print 'primera forma de tvnorm reshape(Yhr, Nx*Ny*Nz, bval)'\n",
    "print 'dif_norm_hrs', np.array(dif_norm_hrs).mean(), np.std(dif_norm_hrs) \n",
    "print 'dif_norm_lrs', dif_norm_lrs   \n",
    "print 'Yhr_recons_norms', Yhr_recons_norms\n",
    "print 'Ylr_recons_norms', Ylr_recons_norms\n",
    "print 'Yhr_norms', Yhr_norms\n",
    "print 'Ylr_norms', Ylr_norms\n",
    "print 'times',times\n",
    "print 'optimal_vals', optimal_vals\n",
    "min_vals_hr_r"
   ]
  },
  {
   "cell_type": "code",
   "execution_count": 108,
   "metadata": {
    "collapsed": false
   },
   "outputs": [
    {
     "name": "stdout",
     "output_type": "stream",
     "text": [
      "recons (-47.653938, 820.35303, 2884.0952)\n",
      "orig (25.006494522094727, 773.02679759907869, 2397.716064453125)\n",
      "con la primer forma de tvnorm\n",
      "dif_norm_hrs [77578.886804409049]\n",
      "dif_norm_lrs [12435.942451585284]\n",
      "Yhr_recons_norms [113267.64]\n",
      "Ylr_recons_norms [30770.610425770086]\n",
      "Yhr_norms [89007.294479625343]\n",
      "Ylr_norms [30770.610425770086]\n",
      "times [28.458673000335693]\n",
      "optimal_vals [653517.1243061691]\n"
     ]
    },
    {
     "data": {
      "image/png": "[encoded data removed]",
      "text/plain": [
       "<matplotlib.figure.Figure at 0x7fb9d60b3850>"
      ]
     },
     "metadata": {},
     "output_type": "display_data"
    }
   ],
   "source": [
    "img_utils._isc(A, i_hr,b=5, vmax=max(i_hr.max(), A.max()), vmin=min(i_hr.min(),A.min()))\n",
    "\n",
    "#img_utils._is(A, vmin=A.min(), vmax=A.max())\n",
    "print 'recons', (A.min(), A.mean(), A.max())\n",
    "print 'orig',(i_hr.min(), i_hr.mean(), i_hr.max())\n",
    "#G.shape\n",
    "\n",
    "print 'con la primer forma de tvnorm'\n",
    "print 'dif_norm_hrs', dif_norm_hrs\n",
    "print 'dif_norm_lrs', dif_norm_lrs   \n",
    "print 'Yhr_recons_norms', Yhr_recons_norms\n",
    "print 'Ylr_recons_norms', Ylr_recons_norms\n",
    "print 'Yhr_norms', Yhr_norms\n",
    "print 'Ylr_norms', Ylr_norms\n",
    "print 'times',times\n",
    "print 'optimal_vals', optimal_vals"
   ]
  },
  {
   "cell_type": "code",
   "execution_count": 91,
   "metadata": {
    "collapsed": false
   },
   "outputs": [
    {
     "data": {
      "text/plain": [
       "<module 'matplotlib.pyplot' from '/user/lgomez/home/anaconda2/lib/python2.7/site-packages/matplotlib/pyplot.pyc'>"
      ]
     },
     "execution_count": 91,
     "metadata": {},
     "output_type": "execute_result"
    },
    {
     "data": {
      "image/png": "[encoded data removed]",
      "text/plain": [
       "<matplotlib.figure.Figure at 0x7fb9d5c45890>"
      ]
     },
     "metadata": {},
     "output_type": "display_data"
    }
   ],
   "source": [
    "B = (regr.coef_*i_hr.reshape(-1, order='F')).reshape(voi_lr_shape, order='F')\n",
    "img_utils._isc(i_lr, B)"
   ]
  },
  {
   "cell_type": "code",
   "execution_count": 142,
   "metadata": {
    "collapsed": false
   },
   "outputs": [
    {
     "name": "stdout",
     "output_type": "stream",
     "text": [
      "(1296, 10368) (12, 12, 12, 6)\n"
     ]
    },
    {
     "data": {
      "text/plain": [
       "((6, 6, 6), 1174.9864601500353, 47.22263127414044, 2264.5927734375)"
      ]
     },
     "execution_count": 142,
     "metadata": {},
     "output_type": "execute_result"
    },
    {
     "data": {
      "image/png": "[encoded data removed]",
      "text/plain": [
       "<matplotlib.figure.Figure at 0x7f91c3668c50>"
      ]
     },
     "metadata": {},
     "output_type": "display_data"
    }
   ],
   "source": [
    "print regr.coef_.shape, i_hr.shape\n",
    "i_lr_fake = (regr.coef_*i_hr.reshape(-1)).reshape(voi_lr_shape)\n",
    "dif_lr = (regr.coef_*i_hr.reshape(-1)-regr.coef_*A.reshape(-1)).reshape(voi_lr_shape)\n",
    "mse_lr = (dif_lr**2).mean(axis=3) \n",
    "img_utils._isc(i_lr, i_lr_fake, vmax=i_lr.max())\n",
    "mse_lr.shape, mse_lr.max(), dif_lr.max(), i_lr.max()"
   ]
  },
  {
   "cell_type": "code",
   "execution_count": 119,
   "metadata": {
    "collapsed": false
   },
   "outputs": [
    {
     "data": {
      "text/plain": [
       "(array([ 13.,  16.,  10.,  13.,  11.,  41.,  21.,  11.,   4.,   4.]),\n",
       " array([  168.4126624 ,   309.15789776,   449.90313311,   590.64836846,\n",
       "          731.39360381,   872.13883917,  1012.88407452,  1153.62930987,\n",
       "         1294.37454523,  1435.11978058,  1575.86501593]),\n",
       " <a list of 10 Patch objects>)"
      ]
     },
     "execution_count": 119,
     "metadata": {},
     "output_type": "execute_result"
    },
    {
     "data": {
      "image/png": "[encoded data removed]",
      "text/plain": [
       "<matplotlib.figure.Figure at 0x7f91c39beed0>"
      ]
     },
     "metadata": {},
     "output_type": "display_data"
    }
   ],
   "source": [
    "hist(B[:,6,:,0].flatten())"
   ]
  },
  {
   "cell_type": "code",
   "execution_count": 120,
   "metadata": {
    "collapsed": false
   },
   "outputs": [
    {
     "data": {
      "text/plain": [
       "(array([ 21.,  18.,  13.,  16.,  27.,  21.,   7.,  10.,   7.,   4.]),\n",
       " array([   83.05593109,   291.92477646,   500.79362183,   709.66246719,\n",
       "          918.53131256,  1127.40015793,  1336.2690033 ,  1545.13784866,\n",
       "         1754.00669403,  1962.8755394 ,  2171.74438477]),\n",
       " <a list of 10 Patch objects>)"
      ]
     },
     "execution_count": 120,
     "metadata": {},
     "output_type": "execute_result"
    },
    {
     "data": {
      "image/png": "[encoded data removed]",
      "text/plain": [
       "<matplotlib.figure.Figure at 0x7f91c3b412d0>"
      ]
     },
     "metadata": {},
     "output_type": "display_data"
    }
   ],
   "source": [
    "hist(i_hr[:,6,:,0].flatten())"
   ]
  },
  {
   "cell_type": "code",
   "execution_count": 53,
   "metadata": {
    "collapsed": false
   },
   "outputs": [
    {
     "data": {
      "text/plain": [
       "1589.5722161036583"
      ]
     },
     "execution_count": 53,
     "metadata": {},
     "output_type": "execute_result"
    },
    {
     "data": {
      "image/png": "[encoded data removed]",
      "text/plain": [
       "<matplotlib.figure.Figure at 0x7f91c3a4de10>"
      ]
     },
     "metadata": {},
     "output_type": "display_data"
    }
   ],
   "source": [
    "img_utils._is(hr_samples[:,0].reshape(voi_hr_shape), vmax=hr_samples[:,0].max())\n",
    "hr_samples.mean()"
   ]
  },
  {
   "cell_type": "code",
   "execution_count": 95,
   "metadata": {
    "collapsed": false
   },
   "outputs": [
    {
     "name": "stdout",
     "output_type": "stream",
     "text": [
      "[  2  18  27  69  75 101 107 126 146 152 166 216 229 236 248 264 284 286]\n",
      "[  0  16  32  48  64  80  95 112 128 144 160 176 191 208 224 240 256 272]\n",
      "[    5.  1000.  2000.  3005.   995.  2995.  2005.   990.  1990.  2995.\n",
      "  1000.  1990.  2990.  1005.  1995.  2995.     5.   995.  2000.  3010.\n",
      "  3005.   995.  2010.   995.  1990.  2985.  1000.  2000.  3005.   995.\n",
      "  1995.  2985.     5.  3005.   995.  2005.   990.  1985.  2990.   995.\n",
      "  2985.  1995.  3005.   995.  2005.  1000.  1990.  2995.     5.  1005.\n",
      "  2005.  2995.  2995.  1005.  1985.  1005.  2990.  2005.   995.  1990.\n",
      "  3005.   995.  2990.  1995.     5.   990.  2005.  3000.  1000.  2000.\n",
      "  3000.   995.  2005.  3005.  1000.  2000.  3010.   990.  2005.  1995.\n",
      "     5.  1000.  3010.  2985.  1005.  1995.  3000.  1000.  2005.  3000.\n",
      "   990.  2005.  2990.  3000.  1000.     5.  2995.  1000.  1995.  1995.\n",
      "  1005.  2000.  2995.  1000.  2010.  2995.  1005.  2000.  3010.  1000.\n",
      "  2005.  2990.     5.   995.  2985.  2005.  1000.  2005.  2985.   995.\n",
      "  2005.  2985.   995.  2005.  2990.  1005.  2000.  3005.     5.   995.\n",
      "  2995.  1990.  1005.   995.  2010.  2990.  2005.  3000.   995.  2005.\n",
      "  2985.   990.  1990.  2990.     5.   990.  2000.  3010.   995.  1990.\n",
      "  2995.  1005.  2000.  3005.  1000.  1990.  3000.  2005.  1000.  2990.\n",
      "     5.   995.  3000.  1990.  3010.  1000.  2000.  1000.  1990.  2995.\n",
      "  2990.   990.  2010.  1000.  2005.  3000.     5.  1005.  2980.  2005.\n",
      "  1000.  1985.  2005.  1000.  2985.  2995.   990.  1995.  3005.  3000.\n",
      "   995.     5.  1995.  1005.  3000.  1995.   995.  2010.  2995.   995.\n",
      "  2005.  2990.   995.  1995.  2990.  1005.  2990.  1995.     5.  3010.\n",
      "  1005.  1990.  1000.  2005.  2990.   995.  2000.  2995.  1000.  2005.\n",
      "  2990.  3000.  1005.  1990.     5.   995.  3010.  2005.   995.  2000.\n",
      "  3000.  2985.   995.  1990.  2995.   995.  2000.   995.  2005.  3005.\n",
      "     5.  2995.  1000.  1990.   995.  1990.  3005.  1000.  2000.  2985.\n",
      "   990.  1990.  2990.  1000.  3005.  1990.     5.  1005.  1995.  2990.\n",
      "  1000.  1990.  3000.  1000.  2000.  2985.   995.  1990.  2995.  1005.\n",
      "  3005.  2005.     5.   995.  1995.  3005.  1000.   995.  2990.  2985.\n",
      "  2005.  1990.  1000.  2990.  2000.  1005.  2000.  3000.]\n",
      "[ 2000.  2000.  2000.  2000.  2000.  2000.  2000.  2000.  2000.  2000.\n",
      "  2000.  2000.  2000.  2000.  2000.  2000.  2000.  2000.]\n"
     ]
    }
   ],
   "source": [
    "\n",
    "bvals = gtab.bvals\n",
    "a2000=[]\n",
    "a5=[]\n",
    "a2000_acum=set()\n",
    "a5_acum=set()\n",
    "for s in [100307, 100408, 180129, 180432, 180836, 180937]:\n",
    "    img, gtab =load_subject(0,[s])\n",
    "    a5=[]\n",
    "    a2000=[]\n",
    "    for i in range(0, bvals.size):\n",
    "        if bvals[i] == 2000 : a2000.append(i)\n",
    "        if bvals[i] == 5 : a5.append(i)\n",
    "            \n",
    "    #print a2000\n",
    "    if s == 100307:\n",
    "        a2000_acum= set(a2000)\n",
    "        a5_acum = set(a5)\n",
    "    else:\n",
    "        a2000_acum= a2000_acum.intersection(set(a2000))\n",
    "        a5_acum =a5_acum.intersection(set(a5))\n",
    "\n",
    "        \n",
    "print sort(list(a2000_acum))\n",
    "print sort(list(a5_acum))\n",
    "print bvals\n",
    "\n",
    "print bvals[list(a2000_acum)]"
   ]
  },
  {
   "cell_type": "code",
   "execution_count": 108,
   "metadata": {
    "collapsed": false
   },
   "outputs": [
    {
     "name": "stdout",
     "output_type": "stream",
     "text": [
      "[ 2000.  2000.  2000.  2000.  2000.  2000.]\n",
      "[ 5.  5.  5.  5.  5.  5.]\n"
     ]
    }
   ],
   "source": [
    "bvals2000pos = [18,27,69,75,101, 107]\n",
    "bvals5pos = [0,16,32,48,64,80]\n",
    "\n",
    "img2000, gtab2000 = load_subject(0, [100307, 100408, 180129, 180432, 180836, 180937], bval=2000, bvalpos=bvals2000pos)\n",
    "print gtab2000.bvals\n",
    "\n",
    "img5, gtab5 = load_subject(0, [100307, 100408, 180129, 180432, 180836, 180937], bval=2000, bvalpos=bvals5pos)\n",
    "print gtab5.bvals\n"
   ]
  },
  {
   "cell_type": "code",
   "execution_count": 44,
   "metadata": {
    "collapsed": false
   },
   "outputs": [
    {
     "name": "stdout",
     "output_type": "stream",
     "text": [
      " <type 'NoneType'> infeasible"
     ]
    },
    {
     "ename": "ValueError",
     "evalue": "total size of new array must be unchanged",
     "output_type": "error",
     "traceback": [
      "\u001b[1;31m---------------------------------------------------------------------------\u001b[0m",
      "\u001b[1;31mValueError\u001b[0m                                Traceback (most recent call last)",
      "\u001b[1;32m<ipython-input-44-ec3d651854eb>\u001b[0m in \u001b[0;36m<module>\u001b[1;34m()\u001b[0m\n\u001b[0;32m      1\u001b[0m \u001b[1;32mprint\u001b[0m \u001b[0mtype\u001b[0m\u001b[1;33m(\u001b[0m\u001b[0mYhr\u001b[0m\u001b[1;33m.\u001b[0m\u001b[0mvalue\u001b[0m\u001b[1;33m)\u001b[0m\u001b[1;33m,\u001b[0m \u001b[0mprob\u001b[0m\u001b[1;33m.\u001b[0m\u001b[0mstatus\u001b[0m\u001b[1;33m,\u001b[0m\u001b[1;33m\u001b[0m\u001b[0m\n\u001b[0;32m      2\u001b[0m \u001b[1;33m\u001b[0m\u001b[0m\n\u001b[1;32m----> 3\u001b[1;33m \u001b[0mA\u001b[0m \u001b[1;33m=\u001b[0m \u001b[0mnp\u001b[0m\u001b[1;33m.\u001b[0m\u001b[0masarray\u001b[0m\u001b[1;33m(\u001b[0m\u001b[0mYhr\u001b[0m\u001b[1;33m.\u001b[0m\u001b[0mvalue\u001b[0m\u001b[1;33m,\u001b[0m \u001b[0mdtype\u001b[0m\u001b[1;33m=\u001b[0m\u001b[1;34m'float64'\u001b[0m\u001b[1;33m)\u001b[0m\u001b[1;33m.\u001b[0m\u001b[0mreshape\u001b[0m\u001b[1;33m(\u001b[0m\u001b[0mi_hr\u001b[0m\u001b[1;33m.\u001b[0m\u001b[0mshape\u001b[0m\u001b[1;33m)\u001b[0m\u001b[1;33m\u001b[0m\u001b[0m\n\u001b[0m",
      "\u001b[1;31mValueError\u001b[0m: total size of new array must be unchanged"
     ]
    }
   ],
   "source": [
    "print type(Yhr.value), prob.status,\n",
    "\n",
    "A = np.asarray(Yhr.value, dtype='float64').reshape(i_hr.shape)\n"
   ]
  },
  {
   "cell_type": "code",
   "execution_count": 48,
   "metadata": {
    "collapsed": false
   },
   "outputs": [
    {
     "data": {
      "text/plain": [
       "([1777.7107171056055, 1772.8766956070024],\n",
       " [136.08327762918259, 184.04265327716803])"
      ]
     },
     "execution_count": 48,
     "metadata": {},
     "output_type": "execute_result"
    }
   ],
   "source": [
    "max_vals_lr_r, min_vals_lr_r"
   ]
  },
  {
   "cell_type": "code",
   "execution_count": 125,
   "metadata": {
    "collapsed": false
   },
   "outputs": [],
   "source": [
    "i_hr.shape, 12*12*12*6\n",
    "base_folder=None"
   ]
  },
  {
   "cell_type": "markdown",
   "metadata": {},
   "source": [
    "# Mean and standar desviation of the cross validation"
   ]
  },
  {
   "cell_type": "code",
   "execution_count": null,
   "metadata": {
    "collapsed": false
   },
   "outputs": [],
   "source": [
    "print \"Yhr_norms\"\n",
    "print Yhr_norms, np.array(Yhr_norms).mean(), '+/-', np.std(Yhr_norms)\n",
    "\n",
    "print \"Ylr_norms\"\n",
    "print Ylr_norms, np.array(Ylr_norms).mean(), '+/-', np.std(Ylr_norms)\n",
    "\n",
    "print \"dif_norms\"\n",
    "print dif_norms, np.array(dif_norms).mean(), '+/-', np.std(dif_norms)\n",
    "\n",
    "print \"optimal_vals\"\n",
    "print optimal_vals, np.array(optimal_vals).mean(), '+/-', np.std(optimal_vals)\n",
    "\n",
    "print \"times\"\n",
    "print times, np.array(times).mean(), '+/-', np.std(times)\n"
   ]
  },
  {
   "cell_type": "code",
   "execution_count": 141,
   "metadata": {
    "collapsed": false
   },
   "outputs": [
    {
     "data": {
      "text/plain": [
       "<module 'utils.img_utils' from 'utils/img_utils.py'>"
      ]
     },
     "execution_count": 141,
     "metadata": {},
     "output_type": "execute_result"
    }
   ],
   "source": [
    "reload(img_utils)"
   ]
  },
  {
   "cell_type": "code",
   "execution_count": 38,
   "metadata": {
    "collapsed": false
   },
   "outputs": [
    {
     "name": "stdout",
     "output_type": "stream",
     "text": [
      "BMAT SIZE=  (72, 144)\n",
      "(12, 12)\n"
     ]
    },
    {
     "data": {
      "text/plain": [
       "<matplotlib.image.AxesImage at 0x7f0566c29750>"
      ]
     },
     "execution_count": 38,
     "metadata": {},
     "output_type": "execute_result"
    },
    {
     "data": {
      "image/png": "[encoded data removed]",
      "text/plain": [
       "<matplotlib.figure.Figure at 0x7f0567b9cb90>"
      ]
     },
     "metadata": {},
     "output_type": "display_data"
    }
   ],
   "source": [
    "Nx, Ny, Nz, bval = i_hr.shape\n",
    "vhrb = Nx*Ny*Nz*bval\n",
    "\n",
    "Yhr_fake = cvx.Variable(vhrb, 1)\n",
    "Yhr_fake.value = i_hr.reshape((vhrb, 1))\n",
    "    \n",
    "# Hacer tiras de imagenes por cada b_val\n",
    "Yhr_fake_b = cvx.reshape(Yhr_fake, Nx*Ny*Nz, bval)\n",
    "slices_xy = []\n",
    "for b in xrange(bval):\n",
    "    slices_xy_b = []\n",
    "    pp = cvx.reshape(Yhr_fake_b[:,b], Nx, Ny*Nz)\n",
    "    for z in xrange(Nz):\n",
    "        ppz = pp[:, z*Nz:(z+1)*Nz]\n",
    "        ppp = cvx.reshape(ppz, Nx, Ny)\n",
    "        slices_xy_b.append(ppp)\n",
    "    slices_xy.append(slices_xy_b)\n",
    "\n",
    "big_img = cvx.bmat(slices_xy)\n",
    "print 'BMAT SIZE= ', big_img.size\n",
    "A = np.asarray(big_img.value, dtype='float32')#.reshape(i_hr.shape, order='F')\n",
    "        \n",
    "P1= np.asarray(slices_xy[0][0].value,dtype='float32')\n",
    "print P1.shape\n",
    "imshow(P1[:12,:12], interpolation='none')\n",
    "#img_utils._is(A, vmin=VMIN, vmax=VMAX)"
   ]
  },
  {
   "cell_type": "code",
   "execution_count": 41,
   "metadata": {
    "collapsed": false
   },
   "outputs": [
    {
     "data": {
      "text/plain": [
       "<matplotlib.image.AxesImage at 0x7f0566a57610>"
      ]
     },
     "execution_count": 41,
     "metadata": {},
     "output_type": "execute_result"
    },
    {
     "data": {
      "image/png": "[encoded data removed]",
      "text/plain": [
       "<matplotlib.figure.Figure at 0x7f0566b811d0>"
      ]
     },
     "metadata": {},
     "output_type": "display_data"
    }
   ],
   "source": [
    "imshow(i_hr[0:12,0:12,0,0], interpolation='none')"
   ]
  },
  {
   "cell_type": "code",
   "execution_count": 70,
   "metadata": {
    "collapsed": false
   },
   "outputs": [
    {
     "data": {
      "text/plain": [
       "<matplotlib.image.AxesImage at 0x7fb9d664d790>"
      ]
     },
     "execution_count": 70,
     "metadata": {},
     "output_type": "execute_result"
    },
    {
     "data": {
      "image/png": "[encoded data removed]",
      "text/plain": [
       "<matplotlib.figure.Figure at 0x7fb9d5ae1510>"
      ]
     },
     "metadata": {},
     "output_type": "display_data"
    }
   ],
   "source": [
    "i_hr2=np.copy(i_hr)\n",
    "i_hr2[:, :, 0, 0]=np.ones((Nx, Ny))*i_hr2.max()\n",
    "\n",
    "Nx, Ny, Nz, bval = voi_hr_shape\n",
    "vhr = Nx*Ny*Nz\n",
    "\n",
    "Yhr = cvx.Parameter(vhr*bval, 1)\n",
    "Yhr.value = i_hr2.reshape(-1, order='F')#(vhr*bval, 1)\n",
    "\n",
    "rS = cvx.reshape(Yhr, Nx, Nz*Ny*bval)\n",
    "\n",
    "#rSS = [cvx.reshape(rS[:, b], Nx, Ny*Nz) for b in xrange(bval)]\n",
    "\n",
    "LR = np.asarray(rS.value, dtype='float32')#.reshape(voi_hr_shape)\n",
    "imshow(LR[:24,:48],interpolation='none')\n",
    "#print i_hr.shape\n",
    "#imshow(i_hr2.reshape(-1, order='F').T.reshape((Nx*Nz, Ny*bval), order='F')[:24, :], interpolation='none')"
   ]
  },
  {
   "cell_type": "code",
   "execution_count": 96,
   "metadata": {
    "collapsed": false
   },
   "outputs": [
    {
     "data": {
      "text/plain": [
       "<matplotlib.image.AxesImage at 0x7fd489d9f790>"
      ]
     },
     "execution_count": 96,
     "metadata": {},
     "output_type": "execute_result"
    },
    {
     "data": {
      "image/png": "[encoded data removed]",
      "text/plain": [
       "<matplotlib.figure.Figure at 0x7fd4891d58d0>"
      ]
     },
     "metadata": {},
     "output_type": "display_data"
    }
   ],
   "source": [
    "i_hr2[:, 0, :, 0] = np.zeros((Nx, Nz))\n",
    "imshow(i_hr2[:,0, :, 0], interpolation='none')"
   ]
  },
  {
   "cell_type": "code",
   "execution_count": 49,
   "metadata": {
    "collapsed": false
   },
   "outputs": [
    {
     "name": "stdout",
     "output_type": "stream",
     "text": [
      "tot 72\n",
      "[[ -10000.  -10100.  -10200.  -10300.  -10400.  -10500.  -10600.]\n",
      " [ -11000.  -11100.  -11200.  -11300.  -11400.  -11500.  -11600.]\n",
      " [ -12000.  -12100.  -12200.  -12300.  -12400.  -12500.  -12600.]\n",
      " [ -13000.  -13100.  -13200.  -13300.  -13400.  -13500.  -13600.]\n",
      " [ -14000.  -14100.  -14200.  -14300.  -14400.  -14500.  -14600.]\n",
      " [ -15000.  -15100.  -15200.  -15300.  -15400.  -15500.  -15600.]\n",
      " [ -16000.  -16100.  -16200.  -16300.  -16400.  -16500.  -16600.]\n",
      " [ -17000.  -17100.  -17200.  -17300.  -17400.  -17500.  -17600.]\n",
      " [ -18000.  -18100.  -18200.  -18300.  -18400.  -18500.  -18600.]\n",
      " [ -19000.  -19100.  -19200.  -19300.  -19400.  -19500.  -19600.]\n",
      " [-110000. -110100. -110200. -110300. -110400. -110500. -110600.]\n",
      " [-111000. -111100. -111200. -111300. -111400. -111500. -111600.]]\n"
     ]
    }
   ],
   "source": [
    "\n",
    "def indices4(shape):\n",
    "    nx, ny, nz, nb = shape\n",
    "    charar = np.zeros(shape, dtype=int)\n",
    "    for x in xrange(nx):\n",
    "        for y in xrange(ny):\n",
    "            for z in xrange(nz):\n",
    "                for b in xrange(nb):\n",
    "                    charar[x,y,z,b] = int(''.join(['-1',str(x),str(y),str(z),str(b)]))\n",
    "    return charar\n",
    "        \n",
    "\n",
    "prob, Yhr, Ylr, G = define_problem(i_lr, i_hr.shape, regr.coef_, 2)\n",
    "\n",
    "#prob, Yhr, Ylr, G, mm(regr.coef_)\n",
    "I = indices4((12,12,12,6))\n",
    "\n",
    "Icv = cvx.Variable(I.size)\n",
    "Icv.value = I.reshape(I.size, order='F')\n",
    "\n",
    "P = cvx.reshape(Icv, 12*12*12, 6)\n",
    "\n",
    "fetas = []\n",
    "for b in xrange(6):\n",
    "    pb = P[:,b]\n",
    "    pp = cvx.reshape(pb, 12, 12*12)\n",
    "    for z in xrange(12):\n",
    "        ppz = pp[:, z*12:(z+1)*12]\n",
    "        ppp = cvx.reshape(ppz, 12, 12)\n",
    "        fetas.append(ppp)\n",
    "        #print ppp.size, b, z\n",
    "print 'tot', len(fetas)        \n",
    "        \n",
    "\n",
    "#PP = [P[:,b] for b in xrange(6)]\n",
    "#P0 = PP[0]\n",
    "#PPP0 = cvx.reshape(P0, 12, 12*12)\n",
    "#PPPP = cvx.reshape(PPP0[:, 0:12], 12, 12)\n",
    "#print PPPP.size\n",
    "#PPPP.value[0:15, 10:12]\n",
    "print fetas[0][:,0:7].value"
   ]
  },
  {
   "cell_type": "code",
   "execution_count": 101,
   "metadata": {
    "collapsed": false
   },
   "outputs": [
    {
     "name": "stdout",
     "output_type": "stream",
     "text": [
      "[[-10000.]\n",
      " [-10001.]\n",
      " [-10002.]\n",
      " [-10003.]\n",
      " [-10004.]\n",
      " [-10005.]]\n",
      "[-10000 -10001 -10002 -10003 -10004 -10005]\n"
     ]
    },
    {
     "data": {
      "text/plain": [
       "(1728, 1728)"
      ]
     },
     "execution_count": 101,
     "metadata": {},
     "output_type": "execute_result"
    }
   ],
   "source": [
    "vhr = 12*12*12\n",
    "vhrb = vhr*6\n",
    "make_ix = lambda i : [i, i+vhr, i+2*vhr, i+3*vhr, i+4*vhr, i+5*vhr]\n",
    "\n",
    "i=0\n",
    "#print I.reshape(-1, order='F')[make_ix(i)]\n",
    "print Icv[i:vhrb:vhr].value\n",
    "print I.reshape(-1, order='F')[i:vhrb:vhr]\n",
    "#range(i:vhr:vhrb)\n",
    "\n",
    "np.array([1,2,3,4,5,6,7,8,9])[1:9:3]\n",
    "\n",
    "C = cvx.Variable(vhr, 50)\n",
    "\n",
    "len([(C[i,:], Icv[i:vhrb:vhr]) for i in xrange(vhr)]), vhr "
   ]
  }
 ],
 "metadata": {
  "kernelspec": {
   "display_name": "Python 2",
   "language": "python",
   "name": "python2"
  },
  "language_info": {
   "codemirror_mode": {
    "name": "ipython",
    "version": 2
   },
   "file_extension": ".py",
   "mimetype": "text/x-python",
   "name": "python",
   "nbconvert_exporter": "python",
   "pygments_lexer": "ipython2",
   "version": "2.7.12"
  }
 },
 "nbformat": 4,
 "nbformat_minor": 0
}
