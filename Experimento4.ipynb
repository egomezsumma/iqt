{
 "cells": [
  {
   "cell_type": "markdown",
   "metadata": {},
   "source": [
    "# Experimento 4\n",
    "\n",
    "Hacemos cross-validation dejando uno afuera, usando el algoritmo de machine learning para crear la matris de submuestreo y el algoritmo de optimizacion para reconstruir la imagen con alta resolucion"
   ]
  },
  {
   "cell_type": "code",
   "execution_count": 1,
   "metadata": {
    "collapsed": false
   },
   "outputs": [
    {
     "name": "stdout",
     "output_type": "stream",
     "text": [
      "Populating the interactive namespace from numpy and matplotlib\n"
     ]
    }
   ],
   "source": [
    "%pylab inline\n",
    "import time\n",
    "import numpy as np\n",
    "import cvxpy as cvx\n",
    "import matplotlib.pyplot as plt\n",
    "from utils import img_utils\n",
    "import seaborn as sns\n",
    "import utils.math_utils as mu"
   ]
  },
  {
   "cell_type": "markdown",
   "metadata": {},
   "source": [
    "## Load DWI"
   ]
  },
  {
   "cell_type": "code",
   "execution_count": 2,
   "metadata": {
    "collapsed": false
   },
   "outputs": [
    {
     "name": "stderr",
     "output_type": "stream",
     "text": [
      "/user/lgomez/home/anaconda2/lib/python2.7/site-packages/skimage/filter/__init__.py:6: skimage_deprecation: The `skimage.filter` module has been renamed to `skimage.filters`.  This placeholder module will be removed in v0.13.\n",
      "  warn(skimage_deprecation('The `skimage.filter` module has been renamed '\n"
     ]
    },
    {
     "name": "stdout",
     "output_type": "stream",
     "text": [
      "Dataset is already in place. If you want to fetch it again please first remove the folder /user/lgomez/home/.dipy/stanford_hardi \n",
      "Dataset is already in place. If you want to fetch it again please first remove the folder /user/lgomez/home/.dipy/stanford_hardi \n"
     ]
    }
   ],
   "source": [
    "from utils.DataGetter import DataGetter\n",
    "from utils.DownsampledImage import DownsampledImage\n",
    "\n",
    "d = DataGetter()\n",
    "datas_names = [\n",
    "    DataGetter.STANDFORD_HARDI_DATA, #(81, 106, 76, 160)\n",
    "    #DataGetter.TAIWAN_NTU_DSI_DATA,  #(96, 96, 60, 203)\n",
    "    #DataGetter.SHERBROOKE_3SHELL_DATA #(128, 128, 60, 193)\n",
    "]\n",
    "\n",
    "scale=2\n",
    "datas = d.get_data(datas_names)\n",
    "name = datas_names[0]\n",
    "gtab = datas[name]['gtab']\n",
    "\n",
    "lr_hr_img = DownsampledImage(name, datas[name]['img'], gtab, scale)\n",
    "\n",
    "img_hr = lr_hr_img.get_hr_img().astype(float)\n",
    "img_lr = lr_hr_img.get_lr_img().astype(float)"
   ]
  },
  {
   "cell_type": "markdown",
   "metadata": {},
   "source": [
    "## Select VOI\n"
   ]
  },
  {
   "cell_type": "code",
   "execution_count": 17,
   "metadata": {
    "collapsed": true
   },
   "outputs": [],
   "source": [
    "img_shape = img_lr.shape\n",
    "x0,xf, y0,yf, z0,zf = volume_range_lr = (22, 28, 15, 21, 23, 29)\n",
    "b0, bf = bval_range = (10,16)\n",
    "gdirections = lr_hr_img.gtab.bvecs[b0:bf]\n",
    "\n",
    "# Type and intensiti of noise to apply\n",
    "SNR, SNR_TYPE = 25, 'gaussian'\n",
    "\n",
    "#img_hr[2*x0:2*xf, 2*y0:2*yf, 2*z0:2*zf, b0:bf] = (img_hr[2*x0:2*xf, y0, 2*z0:2*zf, b0:bf].max())*np.ones((12,12,12,6))\n",
    "\n",
    "i_lr = img_lr[x0:xf, y0:yf, z0:zf, b0:bf]\n",
    "i_hr = img_hr[2*x0:2*xf, 2*y0:2*yf, 2*z0:2*zf, b0:bf]\n",
    "voi_hr_shape = i_hr.shape\n",
    "voi_lr_shape = i_lr.shape"
   ]
  },
  {
   "cell_type": "markdown",
   "metadata": {},
   "source": [
    "## Save VOI selected"
   ]
  },
  {
   "cell_type": "code",
   "execution_count": null,
   "metadata": {
    "collapsed": true
   },
   "outputs": [],
   "source": [
    "## Save i_hr ##\n",
    "RES_BASE_FOLDER = './resultados/exp4/'\n",
    "np.save(RES_BASE_FOLDER+'i_hr', i_hr)\n",
    "np.save(RES_BASE_FOLDER+'i_lr', i_lr)"
   ]
  },
  {
   "cell_type": "code",
   "execution_count": 4,
   "metadata": {
    "collapsed": false
   },
   "outputs": [
    {
     "data": {
      "text/plain": [
       "('b=2000, G directions =',\n",
       " array([[  2.18280000e-02,   8.02420000e-01,  -5.96360000e-01],\n",
       "        [ -1.54250000e-02,   2.20980000e-01,   9.75160000e-01],\n",
       "        [ -7.09180000e-01,  -6.31060000e-04,  -7.05030000e-01],\n",
       "        [ -2.46500000e-01,   1.04300000e-01,  -9.63510000e-01],\n",
       "        [ -4.83470000e-01,   4.39100000e-01,  -7.57260000e-01],\n",
       "        [  1.51030000e-01,   9.65230000e-01,   2.13360000e-01]]))"
      ]
     },
     "execution_count": 4,
     "metadata": {},
     "output_type": "execute_result"
    },
    {
     "data": {
      "image/png": "[encoded data removed]",
      "text/plain": [
       "<matplotlib.figure.Figure at 0x7fbb06503b10>"
      ]
     },
     "metadata": {},
     "output_type": "display_data"
    }
   ],
   "source": [
    "# Show VOI\n",
    "img_utils._isc(i_hr,i_lr,titles=['Orig '+ str(i_hr.shape), 'Downsam... '+str(i_lr.shape)] )\n",
    "'b=2000, G directions =', gdirections"
   ]
  },
  {
   "cell_type": "code",
   "execution_count": 5,
   "metadata": {
    "collapsed": false
   },
   "outputs": [
    {
     "data": {
      "image/png": "[encoded data removed]",
      "text/plain": [
       "<matplotlib.figure.Figure at 0x7fbb06503c50>"
      ]
     },
     "metadata": {},
     "output_type": "display_data"
    },
    {
     "name": "stdout",
     "output_type": "stream",
     "text": [
      "(81, 12, 76) y= 6\n",
      "HR max,min 989.0 56.3402134135 79.521167049\n"
     ]
    }
   ],
   "source": [
    "## Show VOI in HR context\n",
    "rect_hr = 2*z0, 2*x0, 2*xf-2*x0, 2*zf-2*z0\n",
    "\n",
    "res=img_utils._iswr(img_hr[:,2*y0:2*yf,:,0],  rect_hr, b=1,title='Orig '+ str(i_hr.shape), vmax=2500)\n",
    "## For save in fs\n",
    "# res[1].savefig('/user/lgomez/home/Documents/tesis/optimizacion/img/hardi.pdf')\n",
    "print 'HR max,min', img_hr[:,:,:,10:16].max(), img_hr[:,:,:,10:16].mean(), np.std(img_hr[:,:,:,10:16])"
   ]
  },
  {
   "cell_type": "code",
   "execution_count": null,
   "metadata": {
    "collapsed": true
   },
   "outputs": [],
   "source": [
    "## Show VOI in LR context\n",
    "rect_lr = z0, x0, xf-x0, zf-z0\n",
    "\n",
    "res =img_utils._iswr(img_lr[:,y0:yf,:,0], rect_lr,b=1, title='Sub muestro '+str(i_lr.shape), vmax=2500)\n",
    "## For save in fs\n",
    "# res[1].savefig('/user/lgomez/home/Documents/tesis/optimizacion/img/downsampling.pdf')\n",
    "print 'LR max,min', img_lr.min(), img_lr.max()\n",
    "print rect_lr"
   ]
  },
  {
   "cell_type": "markdown",
   "metadata": {},
   "source": [
    "# Predicting the G downsampling Matrix\n",
    "\n",
    "## Training set generator"
   ]
  },
  {
   "cell_type": "code",
   "execution_count": 24,
   "metadata": {
    "collapsed": true
   },
   "outputs": [],
   "source": [
    "from dipy.sims import phantom\n",
    "\n",
    "def get_sample_with_snr(number, i_hr, scale, snr, snr_type):\n",
    "    noised_hr = phantom.add_noise(i_hr, snr=snr, noise_type=snr_type)\n",
    "    noised_lr = img_utils.downsampling2(noised_hr, scale)\n",
    "    return noised_hr, noised_lr\n",
    "\n",
    "def get_sample_maker(i_hr, scale, snr, snr_type):\n",
    "    return lambda number : get_sample_with_snr(number, i_hr, scale, snr, snr_type)\n",
    "    \n",
    "    \n",
    "def buildT(sample_getter, n_samples):\n",
    "    noised_hr, noised_lr = sample_getter(0)\n",
    "    X = img_utils.column_this(noised_lr)\n",
    "    Y = img_utils.column_this(noised_hr)\n",
    "    for i in range(1, n_samples):\n",
    "        noised_hr, noised_lr = sample_getter(i)\n",
    "        X = img_utils.append_column(X, noised_lr)\n",
    "        Y = img_utils.append_column(Y, noised_hr)\n",
    "    return X, Y\n",
    "\n",
    "## Example of use\n",
    "#buildT(get_sample_maker(i_hr, scale, snr, snr_type), n_samples)"
   ]
  },
  {
   "cell_type": "markdown",
   "metadata": {},
   "source": [
    "## Problem definition\n",
    "\n",
    "$ \\min_{Y_{hr}} \\{ ||GY_{lr} - Y_{hr}||^2 \\}$ st $Y_{hr} \\geq 0$"
   ]
  },
  {
   "cell_type": "code",
   "execution_count": 51,
   "metadata": {
    "collapsed": false
   },
   "outputs": [],
   "source": [
    "def define_problem(i_lr, i_hr, downsampling_matrix, scale):\n",
    "    Nx, Ny, Nz, bval = i_hr.shape\n",
    "    vhrb = Nx*Ny*Nz*bval\n",
    "    vlr = Nx*Ny*Nz/(scale**3)\n",
    "      \n",
    "    Yhr = cvx.Variable(vhrb, 1)\n",
    "    Yhr.value = i_hr.reshape((vhrb, 1))\n",
    "    \n",
    "    Ylr = cvx.Parameter(vlr*bval, 1)\n",
    "    Ylr.value = i_lr.reshape((vlr*bval, 1))\n",
    "    \n",
    "    G = cvx.Parameter(vlr*bval, vhrb)\n",
    "    G.value = downsampling_matrix\n",
    "\n",
    "    # Form objective.\n",
    "    obj = cvx.Minimize(cvx.sum_squares(G*Yhr - Ylr))\n",
    "\n",
    "    # Create two constraints.\n",
    "    #constraints = [Yhr >= 0]\n",
    "\n",
    "    # Form and solve problem.\n",
    "    prob = cvx.Problem(obj)\n",
    "    return prob, Yhr, Ylr, G\n",
    "\n",
    "## Example of use\n",
    "#prob, Yhr, Ylr, G= define_problem(i_hr,scale=2, n_samples=6)\n",
    "#prob.is_dcp()"
   ]
  },
  {
   "cell_type": "markdown",
   "metadata": {},
   "source": [
    "## Solving the problem and cross-validation (leave one out)"
   ]
  },
  {
   "cell_type": "code",
   "execution_count": 65,
   "metadata": {
    "collapsed": false
   },
   "outputs": [
    {
     "name": "stdout",
     "output_type": "stream",
     "text": [
      "\n"
     ]
    }
   ],
   "source": [
    "def solveMin(i_lr, i_hr, downsampling_matrix, scale=2):\n",
    "    prob, Yhr, Ylr, G = define_problem(i_lr, i_hr, downsampling_matrix, scale)\n",
    "    \n",
    "    start_time = time.time()\n",
    "    res = prob.solve(solver='SCS', max_iters=2100, eps=1.00e-01 )  # Returns the optimal value.\n",
    "    seg = time.time() - start_time\n",
    "\n",
    "    minutes = int(seg / 60)\n",
    "    print(\"--- time of optimization : %d' %d'' ---\" % (minutes , seg%60))\n",
    "    print \"--- status:\", prob.status, \"optimal value\", prob.value\n",
    "    print \n",
    "\n",
    "    # Change dimension of result representation\n",
    "    A = np.asarray(Yhr.value).reshape(i_hr.shape)\n",
    "    return A, seg, prob"
   ]
  },
  {
   "cell_type": "code",
   "execution_count": 57,
   "metadata": {
    "collapsed": false
   },
   "outputs": [
    {
     "name": "stdout",
     "output_type": "stream",
     "text": [
      "Leaving out: # 0\n",
      "Training set_training.shape= (10368, 2)  ->target.shape= (1296, 2)\n",
      "WARN: m less than n, problem likely degenerate\n",
      "--- time of optimization : 6' 33'' ---\n",
      "--- status: optimal_inaccurate optimal value 1442.45756111\n",
      "\n",
      "Leaving out: # 1\n",
      "Training set_training.shape= (10368, 2)  ->target.shape= (1296, 2)\n",
      "WARN: m less than n, problem likely degenerate\n",
      "--- time of optimization : 6' 24'' ---\n",
      "--- status: optimal_inaccurate optimal value 1444.20927445\n",
      "\n",
      "Leaving out: # 2\n",
      "Training set_training.shape= (10368, 2)  ->target.shape= (1296, 2)\n",
      "WARN: m less than n, problem likely degenerate\n",
      "--- time of optimization : 6' 56'' ---\n",
      "--- status: optimal_inaccurate optimal value 1385.31878098\n",
      "\n",
      " === TOTAL TIME : 19.0' 53.6201729774\"\n"
     ]
    }
   ],
   "source": [
    "from scipy.sparse import csr_matrix\n",
    "import experimento1_funciones as e1f\n",
    "\n",
    "n_samples = 3\n",
    "\n",
    "\n",
    "# Metrics to save\n",
    "Yhr_norms = []\n",
    "times = []\n",
    "dif_norms = []\n",
    "Ylr_norms = []\n",
    "optimal_vals = []\n",
    "\n",
    "\n",
    "#base_folder = RES_BASE_FOLDER\n",
    "base_folder = None\n",
    "\n",
    "for i in range(0, n_samples):\n",
    "    print 'Leaving out: #', i\n",
    "    \n",
    "    ### Aca mandar shiftear el arreglo de sujetos (train deja el ultimo afuera del entrenamiento)\n",
    "    lr_samples, hr_samples = buildT(get_sample_maker(i_hr, scale=2, snr=50, snr_type=SNR_TYPE), n_samples) #lr, hr\n",
    "\n",
    "    # Build downsampling matrix\n",
    "    regr, hr_train , lr_train, hr_test, lr_test = e1f.train(hr_samples, lr_samples)\n",
    "    regr.coef_ = csr_matrix(regr.coef_)\n",
    "    \n",
    "    # Reshape the one that left out to validate\n",
    "    i_lr = lr_test.reshape(voi_lr_shape)\n",
    "    i_hr = hr_test.reshape(voi_hr_shape)\n",
    "    \n",
    "    # Minimization solve\n",
    "    # mock: A, seg = np.ones(i_hr.shape), 20 \n",
    "    A, seg, prob = solveMin(i_lr, i_hr, regr.coef_, scale=2)\n",
    "    \n",
    "    # Keep parameters\n",
    "    dif_norm = np.linalg.norm(i_hr-A)\n",
    "    Yhr_norm = np.linalg.norm(A)\n",
    "    Ylr_norm = np.linalg.norm(i_lr)\n",
    "    \n",
    "    dif_norms.append(dif_norm)\n",
    "    Yhr_norms.append(Yhr_norm)\n",
    "    Ylr_norms.append(Ylr_norm)\n",
    "    \n",
    "    times.append(seg)\n",
    "    optimal_vals.append(prob.value)\n",
    "\n",
    "    # Save the A calculated\n",
    "    if base_folder is not None:\n",
    "        name = folder + '_lo' + str(i)\n",
    "        np.save(name, A)\n",
    "        print 'saved A in: ', name + str('.npy')\n",
    "        \n",
    "# Log spended\n",
    "total_sec = np.array(times).sum()\n",
    "print ' === TOTAL TIME :',  str(total_sec//60)+\"'\", str(total_sec%60)+ '\"'\n",
    "\n",
    "# Persist results\n",
    "if base_folder is not None:\n",
    "    np.save(base_folder+ 'Yhr_norms', Yhr_norms)\n",
    "    np.save(base_folder+ 'Ylr_norms', Ylr_norms)\n",
    "    np.save(base_folder+ 'dif_norms', dif_norms)\n",
    "    np.save(base_folder+ 'times' , times)\n",
    "    np.save(base_folder+ 'optimal_vals', optimal_vals)\n",
    "\n"
   ]
  },
  {
   "cell_type": "markdown",
   "metadata": {},
   "source": [
    "# Mean and standar desviation of the cross validation"
   ]
  },
  {
   "cell_type": "code",
   "execution_count": null,
   "metadata": {
    "collapsed": false
   },
   "outputs": [],
   "source": [
    "print \"Yhr_norms\"\n",
    "print Yhr_norms, np.array(Yhr_norms).mean(), '+/-', np.std(Yhr_norms)\n",
    "\n",
    "print \"Ylr_norms\"\n",
    "print Ylr_norms, np.array(Ylr_norms).mean(), '+/-', np.std(Ylr_norms)\n",
    "\n",
    "print \"dif_norms\"\n",
    "print dif_norms, np.array(dif_norms).mean(), '+/-', np.std(dif_norms)\n",
    "\n",
    "print \"optimal_vals\"\n",
    "print optimal_vals, np.array(optimal_vals).mean(), '+/-', np.std(optimal_vals)\n",
    "\n",
    "print \"times\"\n",
    "print times, np.array(times).mean(), '+/-', np.std(times)\n"
   ]
  },
  {
   "cell_type": "code",
   "execution_count": 69,
   "metadata": {
    "collapsed": false
   },
   "outputs": [
    {
     "name": "stdout",
     "output_type": "stream",
     "text": [
      "times\n",
      "[393.0912199020386, 384.42198395729065, 416.1069691181183] 397.873390992 +/- 13.3700272105\n"
     ]
    },
    {
     "data": {
      "text/plain": [
       "(6, 37)"
      ]
     },
     "execution_count": 69,
     "metadata": {},
     "output_type": "execute_result"
    }
   ],
   "source": []
  },
  {
   "cell_type": "code",
   "execution_count": 74,
   "metadata": {
    "collapsed": false
   },
   "outputs": [
    {
     "data": {
      "text/plain": [
       "<module 'matplotlib.pyplot' from '/user/lgomez/home/anaconda2/lib/python2.7/site-packages/matplotlib/pyplot.pyc'>"
      ]
     },
     "execution_count": 74,
     "metadata": {},
     "output_type": "execute_result"
    },
    {
     "data": {
      "image/png": "[encoded data removed]",
      "text/plain": [
       "<matplotlib.figure.Figure at 0x7fbab6283dd0>"
      ]
     },
     "metadata": {},
     "output_type": "display_data"
    }
   ],
   "source": [
    "A.min(), A.max(), i_hr.min(), i_hr.max()\n",
    "img_utils._isc(A, i_hr, vmax=500, vmin=-55, titles=['Reconstr', 'Orig'])"
   ]
  }
 ],
 "metadata": {
  "kernelspec": {
   "display_name": "Python 2",
   "language": "python",
   "name": "python2"
  },
  "language_info": {
   "codemirror_mode": {
    "name": "ipython",
    "version": 2
   },
   "file_extension": ".py",
   "mimetype": "text/x-python",
   "name": "python",
   "nbconvert_exporter": "python",
   "pygments_lexer": "ipython2",
   "version": "2.7.12"
  }
 },
 "nbformat": 4,
 "nbformat_minor": 0
}
