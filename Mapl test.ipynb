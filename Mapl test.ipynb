{
 "cells": [
  {
   "cell_type": "code",
   "execution_count": 1,
   "metadata": {
    "collapsed": false
   },
   "outputs": [
    {
     "data": {
      "text/plain": [
       "<module 'mapmri.mapmri' from 'mapmri/mapmri.pyc'>"
      ]
     },
     "execution_count": 1,
     "metadata": {},
     "output_type": "execute_result"
    }
   ],
   "source": [
    "from dipy.viz import fvtk\n",
    "from dipy.core.gradients import gradient_table\n",
    "import matplotlib.pyplot as plt\n",
    "from mpl_toolkits.axes_grid1 import make_axes_locatable\n",
    "#from dipy.reconst import mapmri\n",
    "from mapmri import mapmri\n",
    "import datetime\n",
    "\n",
    "reload(mapmri)"
   ]
  },
  {
   "cell_type": "code",
   "execution_count": 2,
   "metadata": {
    "collapsed": false
   },
   "outputs": [
    {
     "name": "stdout",
     "output_type": "stream",
     "text": [
      "Populating the interactive namespace from numpy and matplotlib\n"
     ]
    }
   ],
   "source": [
    "%pylab inline\n",
    "import time\n",
    "import numpy as np\n",
    "import matplotlib.pyplot as plt\n",
    "from utils import img_utils\n",
    "import seaborn as sns\n",
    "import utils.math_utils as mu\n",
    "import nibabel as nib\n",
    "\n",
    "\n",
    "def load_subject_medium(index, numbers, bval=None, bvalpos=None ):\n",
    "    subject = str(numbers[index])\n",
    "    folder = './HCP/'+subject+'/'\n",
    "    bvals = np.loadtxt(folder+ 'bvals_'+subject)\n",
    "    bvecs = np.loadtxt(folder+'bvecs_'+subject)\n",
    "    \n",
    "    if bvalpos is not None:\n",
    "        img = nib.load(folder+ 'data_medium40g_12x12x12x40_'+subject+'_b'+str(bval)+'.nii.gz')\n",
    "        bsize=min(len(bvalpos), img.shape[3])\n",
    "        gtab = gradient_table(bvals=bvals[bvalpos[:bsize]], bvecs=bvecs[:,bvalpos[:bsize]])\n",
    "    else:\n",
    "        img = nib.load(folder+ 'data_medium40g_12x12x12x40_'+subject+'.nii.gz')\n",
    "        bsize = img.shape[3]\n",
    "        gtab = gradient_table(bvals=bvals[:bsize], bvecs=bvecs[:,:bsize])\n",
    "    return img, gtab\n",
    "\n",
    "\n",
    "def load_subject_small(index, numbers, bval=None, bvalpos=None ):\n",
    "    subject = str(numbers[index])\n",
    "    folder = './HCP/'+subject+'/'\n",
    "    bvals = np.loadtxt(folder+ 'bvals_'+subject)\n",
    "    bvecs = np.loadtxt(folder+'bvecs_'+subject)\n",
    "    \n",
    "    if bvalpos is not None:\n",
    "        img = nib.load(folder+ 'data_small_12x12x12x6_'+subject+'_b'+str(bval)+'.nii.gz')\n",
    "        bsize=min(len(bvalpos), img.shape[3])\n",
    "        gtab = gradient_table(bvals=bvals[bvalpos[:bsize]], bvecs=bvecs[:,bvalpos[:bsize]])\n",
    "    else:\n",
    "        img = nib.load(folder+ 'data_small_12x12x12x6_'+subject+'.nii.gz')\n",
    "        bsize = img.shape[3]\n",
    "        gtab = gradient_table(bvals=bvals[:bsize], bvecs=bvecs[:,:bsize])\n",
    "    return img, gtab\n",
    "\n",
    "\n",
    "\n",
    "def mm(A):\n",
    "    return (A.min(), A.max())\n"
   ]
  },
  {
   "cell_type": "markdown",
   "metadata": {},
   "source": [
    "## Loading subjects (12, 12, 12) 16 b-vals, 40 gradients"
   ]
  },
  {
   "cell_type": "code",
   "execution_count": 3,
   "metadata": {
    "collapsed": false
   },
   "outputs": [
    {
     "name": "stdout",
     "output_type": "stream",
     "text": [
      "(12, 12, 12, 6) (12, 12, 12, 40) bvals= [1985.0, 3010.0, 995.0, 5.0, 1990.0, 1000.0, 2985.0, 1995.0, 1005.0, 2990.0, 2000.0, 2995.0, 2005.0, 3000.0, 3005.0, 990.0]\n"
     ]
    },
    {
     "data": {
      "image/png": "[encoded data removed]",
      "text/plain": [
       "<matplotlib.figure.Figure at 0x7fad9933ce10>"
      ]
     },
     "metadata": {},
     "output_type": "display_data"
    }
   ],
   "source": [
    "subjects = [100307, 100408, 180129, 180432, 180836, 180937]\n",
    "bvals2000pos = [18, 27, 69, 75, 101, 107]\n",
    "bvals5pos = [0,16,32,48,64,80,95,112,128,144,160,176,191,208,224,240,256,272]\n",
    "\n",
    "# Esto es para quedame con la gtab que es igua a todos\n",
    "img, gtab = load_subject_medium(0 , subjects)\n",
    "img_s0, gtab_s0 = load_subject_small(0, subjects, bval=5, bvalpos=bvals5pos[0:6])\n",
    "\n",
    "i_hr=img.get_data()\n",
    "S0 = img_s0.get_data()\n",
    "\n",
    "b=2\n",
    "img_utils._isc(S0, i_hr, b=b, vmin=S0.min(),  vmax=S0.max(), titles=['S0', 'S'+str(int(gtab.bvals[b]))])\n",
    "print S0.shape, i_hr.shape, 'bvals=',list(set(gtab.bvals))"
   ]
  },
  {
   "cell_type": "code",
   "execution_count": 4,
   "metadata": {
    "collapsed": false
   },
   "outputs": [
    {
     "data": {
      "text/plain": [
       "(12, 12, 12, 22)"
      ]
     },
     "execution_count": 4,
     "metadata": {},
     "output_type": "execute_result"
    }
   ],
   "source": [
    "\"\"\"\n",
    "Asi tal cual me sugerio Rutger que invoque a los parametros\n",
    "\"\"\"\n",
    "radial_order = 4\n",
    "reload(mapmri)\n",
    "#Fiteo el model\n",
    "map_model = mapmri.MapmriModel(gtab,\n",
    "                            radial_order=radial_order,\n",
    "                            laplacian_regularization=True,\n",
    "                            laplacian_weighting=0.2,\n",
    "                            anisotropic_scaling=False,\n",
    "                            dti_scale_estimation=False)\n",
    "# Fiteo la data\n",
    "map_model_fit = map_model.fit(i_hr)\n",
    "map_model_fit.mapmri_coeff.shape"
   ]
  },
  {
   "cell_type": "code",
   "execution_count": 5,
   "metadata": {
    "collapsed": false
   },
   "outputs": [
    {
     "name": "stdout",
     "output_type": "stream",
     "text": [
      "Eq_recons desp div S0 max min (-136.3743912352499, 13420.44808718001)\n"
     ]
    }
   ],
   "source": [
    "# Multiplico por S0 para que se vea como i_hr\n",
    "Eq_reconst_orig = map_model_fit.fitted_signal(gtab)\n",
    "\n",
    "for b in xrange(Eq_reconst_orig.shape[3]):\n",
    "    Eq_reconst_orig[:,:,:,b] = Eq_reconst_orig[:,:,:,b]*S0.mean(axis=3)\n",
    "\n",
    "print 'Eq_recons desp div S0 max min', mm(Eq_reconst_orig)"
   ]
  },
  {
   "cell_type": "markdown",
   "metadata": {},
   "source": [
    "# Compare predit and signal"
   ]
  },
  {
   "cell_type": "code",
   "execution_count": 7,
   "metadata": {
    "collapsed": false
   },
   "outputs": [
    {
     "name": "stdout",
     "output_type": "stream",
     "text": [
      " (0.00097492992438219517, 1233.6324082580809)\n",
      "Error relativo max,min u std (3.0176201051045007e-06, 213.36441509546034) 0 0\n"
     ]
    },
    {
     "data": {
      "text/plain": [
       "(-136.3743912352499, 13420.44808718001)"
      ]
     },
     "execution_count": 7,
     "metadata": {},
     "output_type": "execute_result"
    },
    {
     "data": {
      "image/png": "[encoded data removed]",
      "text/plain": [
       "<matplotlib.figure.Figure at 0x7fad90891550>"
      ]
     },
     "metadata": {},
     "output_type": "display_data"
    }
   ],
   "source": [
    "err_mapmrifit = np.abs(Eq_reconst_orig - i_hr)\n",
    "err_rel_mapmrifit = np.divide(err_mapmrifit, i_hr+1)#para q no de infinito\n",
    "\n",
    "print mm(err_mapmrifit) \n",
    "print 'Error relativo max,min u std', mm(err_rel_mapmrifir), int(err_rel_mapmrifir.mean()), \\\n",
    "                                      int(np.std(err_rel_mapmrifir)) \n",
    "\n",
    "img_utils._isc(i_hr, Eq_reconst_orig, vmin=0, vmax=Eq_reconst_orig.max(), titles=['Eq', 'predict(q)'])\n",
    "\n",
    "mm(Eq_reconst_orig)"
   ]
  },
  {
   "cell_type": "markdown",
   "metadata": {},
   "source": [
    "## Calculo C con optimizacion"
   ]
  },
  {
   "cell_type": "code",
   "execution_count": 66,
   "metadata": {
    "collapsed": false
   },
   "outputs": [],
   "source": [
    "import cvxpy as cvx\n",
    "\n",
    "def mapl_parameters(gtab):\n",
    "    radial_order = 4\n",
    "    map_model = mapmri.MapmriModel(gtab,\n",
    "                                   radial_order=radial_order,\n",
    "                                   laplacian_regularization=True,\n",
    "                                   laplacian_weighting=0.2,\n",
    "                                   anisotropic_scaling=False,\n",
    "                                   dti_scale_estimation=False)\n",
    "    \n",
    "\n",
    "    mu = map_model.mu\n",
    "    tau = 1 / (4 * np.pi ** 2) # hasta encontrar el big y small delta en HCP\n",
    "    qvals = np.sqrt(gtab.bvals / tau) / (2 * np.pi)\n",
    "    q = gtab.bvecs * qvals[:, None]\n",
    "    M = mapmri.mapmri_isotropic_phi_matrix(radial_order, mu[0], q)\n",
    "    return M, tau\n",
    "\n",
    "\n",
    "def define_mapl_vars(gtab, vhr, bval, coef, cvxS0=None):\n",
    "    # MAPL params\n",
    "    cvxM = cvx.Parameter(bval, coef)\n",
    "    cvxM.value, tau = mapl_parameters(gtab)\n",
    "    cvxC = cvx.Variable(vhr, coef)\n",
    "\n",
    "    if cvxS0 is None:\n",
    "        cvxS0 = cvx.Parameter(vhr)\n",
    "        cvxS0.value = np.ones((vhr, 1), dtype='float')*100\n",
    "\n",
    "    return cvxM, cvxC\n",
    "\n",
    "def define_opt_problem(i_hr, coef, S0):\n",
    "    Nx, Ny, Nz, bval = i_hr.shape\n",
    "    vhr = Nx*Ny*Nz\n",
    "    vhrb = vhr*bval\n",
    "    \n",
    "    # Image to fit\n",
    "    Yhr = cvx.Parameter(vhrb, 1)\n",
    "    Yhr.value = i_hr.reshape(-1, order='F')\n",
    "\n",
    "\n",
    "    cvxS0 = cvx.Parameter(vhr)\n",
    "    cvxS0.value = S0.reshape(-1, order='F')\n",
    "    #cvxS0.value = np.ones(vhr, dtype='float')\n",
    "\n",
    "    ## MAPL params\n",
    "    \"\"\"\n",
    "    cvxM = cvx.Parameter(bval, coef)\n",
    "    cvxM.value, tau = mapl_parameters(gtab)\n",
    "    cvxC = cvx.Variable(vhr, coef)\n",
    "    \"\"\"\n",
    "    cvxM, cvxC = define_mapl_vars(gtab, vhr, bval, coef, cvxS0)\n",
    "\n",
    "    ## Mapl regularization\n",
    "    prob_with_mapl = sum([cvx.sum_squares( cvxM*cvxC[i,:].T - (Yhr[i:vhrb:vhr]/cvxS0[i])) for i in xrange(vhr)])\n",
    "\n",
    "    alpha = cvx.Parameter(value=1)\n",
    "    ## objective\n",
    "    obj = cvx.Minimize(prob_with_mapl+cvx.norm1(cvxC))\n",
    "\n",
    "    ## some constraints\n",
    "    # pos_cons =[ cvxM*cvxC[i,:].T >= 0  for i in xrange(vhr) ]\n",
    "    # max_cons =[ cvxM*cvxC[i,:].T*cvxS0[i] <= i_hr.max() for i in xrange(vhr) ]\n",
    "\n",
    "    prob = cvx.Problem(obj)#\n",
    "\n",
    "    print 'Problema definido Definido ', datetime.datetime.now()\n",
    "    \n",
    "    return prob, cvxM, cvxC"
   ]
  },
  {
   "cell_type": "code",
   "execution_count": 67,
   "metadata": {
    "collapsed": false
   },
   "outputs": [
    {
     "name": "stdout",
     "output_type": "stream",
     "text": [
      "Problema definido Definido  2016-08-23 15:48:14.906970\n",
      "----------------------------------------------------------------------------\n",
      "\tSCS v1.2.6 - Splitting Conic Solver\n",
      "\t(c) Brendan O'Donoghue, Stanford University, 2012-2016\n",
      "----------------------------------------------------------------------------\n",
      "Lin-sys: sparse-indirect, nnz in A = 1676160, CG tol ~ 1/iter^(2.00)\n",
      "eps = 1.00e-10, alpha = 1.50, max_iters = 2000, normalize = 1, scale = 1.00\n",
      "Variables n = 77760, constraints m = 148608\n",
      "Cones:\tlinear vars: 76032\n",
      "\tsoc vars: 72576, soc blks: 1728\n",
      "Setup time: 1.02e-01s\n",
      "----------------------------------------------------------------------------\n",
      " Iter | pri res | dua res | rel gap | pri obj | dua obj | kap/tau | time (s)\n",
      "----------------------------------------------------------------------------\n",
      "     0|      inf       inf      -nan      -inf       inf       inf  1.49e-01 \n",
      "   100| 4.98e-09  2.63e-08  2.51e-11  2.71e+03  2.71e+03  1.75e-12  2.51e+00 \n",
      "   160| 6.45e-12  1.28e-11  6.13e-13  2.71e+03  2.71e+03  1.75e-12  3.79e+00 \n",
      "----------------------------------------------------------------------------\n",
      "Status: Solved\n",
      "Timing: Solve time: 3.80e+00s\n",
      "\tLin-sys: avg # CG iterations: 1.33, avg solve time: 2.00e-02s\n",
      "\tCones: avg projection time: 2.17e-04s\n",
      "----------------------------------------------------------------------------\n",
      "Error metrics:\n",
      "dist(s, K) = 1.3323e-15, dist(y, K*) = 4.4409e-16, s'y/|s||y| = 1.3045e-18\n",
      "|Ax + s - b|_2 / (1 + |b|_2) = 6.4514e-12\n",
      "|A'y + c|_2 / (1 + |c|_2) = 1.2793e-11\n",
      "|c'x + b'y| / (1 + |c'x| + |b'y|) = 6.1300e-13\n",
      "----------------------------------------------------------------------------\n",
      "c'x = 2707.5938, -b'y = 2707.5938\n",
      "============================================================================\n",
      "--- time of optimization : 0' 12'' ---\n",
      "--- status: optimal optimal value 2707.59379408\n",
      "\n",
      "|C| = 44.645\n",
      "minimzation op_val = 2707.59379408\n"
     ]
    }
   ],
   "source": [
    "coef=22 # 4 --> 22, 6 --> 50\n",
    "Nx, Ny, Nz, bval = i_hr.shape\n",
    "vhr = Nx*Ny*Nz\n",
    "vhrb = vhr*bval\n",
    "\n",
    "prob, cvxM, cvxC = define_opt_problem(i_hr, coef, S0.mean(axis=3))\n",
    "\n",
    "# Solve problem\n",
    "start_time = time.time()\n",
    "res = prob.solve(solver='SCS', max_iters=2000, eps=1.00e-10, verbose=True)  # Returns the optimal value.\n",
    "seg = time.time() - start_time\n",
    "minutes = int(seg / 60)\n",
    "print(\"--- time of optimization : %d' %d'' ---\" % (minutes , seg%60))\n",
    "print \"--- status:\", prob.status, \"optimal value\", prob.value\n",
    "print \n",
    "\n",
    "# Change dimension of result representation\n",
    "if cvxC.value is None :\n",
    "    print 'FRECONSTRUCTION FAIL :('\n",
    "\n",
    "C = np.asarray(cvxC.value, dtype='float32').reshape((Nx, Ny, Nz,coef), order='F')\n",
    "M = np.asarray(cvxM.value, dtype='float32')\n",
    "    \n",
    "print '|C| =', np.linalg.norm(C)\n",
    "print 'minimzation op_val =', prob.value"
   ]
  },
  {
   "cell_type": "markdown",
   "metadata": {},
   "source": [
    "## Compare C "
   ]
  },
  {
   "cell_type": "code",
   "execution_count": 68,
   "metadata": {
    "collapsed": false
   },
   "outputs": [
    {
     "name": "stdout",
     "output_type": "stream",
     "text": [
      "|dif_c| min/max: 13.4867838217 (1.4662565815123261e-07, 1.6655237558415532)\n",
      "|C| |Corig|: 44.645 52.6650851073\n",
      "ecm : 0.00478465219524\n"
     ]
    }
   ],
   "source": [
    "dif_c = np.abs(C - map_model_fit.mapmri_coeff)\n",
    "ecm_c = ((C - map_model_fit.mapmri_coeff)**2).mean()\n",
    "\n",
    "print '|dif_c| min/max:', np.linalg.norm(dif_c), mm(dif_c) \n",
    "print '|C| |Corig|:',  np.linalg.norm(C), np.linalg.norm(map_model_fit.mapmri_coeff)\n",
    "print 'ecm :', ecm_c"
   ]
  },
  {
   "cell_type": "code",
   "execution_count": 57,
   "metadata": {
    "collapsed": false
   },
   "outputs": [
    {
     "data": {
      "text/plain": [
       "(array([  1.10000000e+01,   6.80000000e+01,   1.20000000e+02,\n",
       "          2.82000000e+02,   3.60630000e+04,   5.70000000e+02,\n",
       "          6.93000000e+02,   1.04000000e+02,   7.90000000e+01,\n",
       "          2.60000000e+01]),\n",
       " array([-1.97974479, -1.50162002, -1.02349524, -0.54537047, -0.0672457 ,\n",
       "         0.41087908,  0.88900385,  1.36712862,  1.8452534 ,  2.32337817,\n",
       "         2.80150294]),\n",
       " <a list of 10 Patch objects>)"
      ]
     },
     "execution_count": 57,
     "metadata": {},
     "output_type": "execute_result"
    },
    {
     "data": {
      "image/png": "[encoded data removed]",
      "text/plain": [
       "<matplotlib.figure.Figure at 0x7fad7b918b50>"
      ]
     },
     "metadata": {},
     "output_type": "display_data"
    }
   ],
   "source": [
    "hist(C.flatten())"
   ]
  },
  {
   "cell_type": "code",
   "execution_count": 58,
   "metadata": {
    "collapsed": false
   },
   "outputs": [
    {
     "data": {
      "text/plain": [
       "(array([  2.00000000e+00,   2.00000000e+01,   1.55000000e+02,\n",
       "          2.77000000e+02,   3.57770000e+04,   1.27200000e+03,\n",
       "          3.62000000e+02,   1.32000000e+02,   1.70000000e+01,\n",
       "          2.00000000e+00]),\n",
       " array([-3.04472989, -2.34913615, -1.65354242, -0.95794869, -0.26235496,\n",
       "         0.43323877,  1.1288325 ,  1.82442623,  2.52001996,  3.21561369,\n",
       "         3.91120743]),\n",
       " <a list of 10 Patch objects>)"
      ]
     },
     "execution_count": 58,
     "metadata": {},
     "output_type": "execute_result"
    },
    {
     "data": {
      "image/png": "[encoded data removed]",
      "text/plain": [
       "<matplotlib.figure.Figure at 0x7fad7b7b5fd0>"
      ]
     },
     "metadata": {},
     "output_type": "display_data"
    }
   ],
   "source": [
    "hist( map_model_fit.mapmri_coeff.flatten())"
   ]
  },
  {
   "cell_type": "code",
   "execution_count": 69,
   "metadata": {
    "collapsed": false
   },
   "outputs": [
    {
     "name": "stdout",
     "output_type": "stream",
     "text": [
      "(0.0, 13620.414)\n"
     ]
    },
    {
     "data": {
      "text/plain": [
       "((-136.3743912352499, 13420.44808718001), (-251.54631, 15759.804))"
      ]
     },
     "execution_count": 69,
     "metadata": {},
     "output_type": "execute_result"
    },
    {
     "data": {
      "image/png": "[encoded data removed]",
      "text/plain": [
       "<matplotlib.figure.Figure at 0x7fad818de710>"
      ]
     },
     "metadata": {},
     "output_type": "display_data"
    }
   ],
   "source": [
    "\"\"\"\n",
    "QUEREMOS VER SI EL C QUE OBTUVIMOS ES PARECIDO \n",
    "AL CALCULADO POR MAPMRI\n",
    "\"\"\"\n",
    "\n",
    "def mypredict(gtab, M, C, i_hr_shape):\n",
    "    Nx, Ny, Nz, Nb = i_hr_shape\n",
    "    vhr=Nx*Ny*Nz\n",
    "    tau = 1 / (4 * np.pi ** 2)\n",
    "    qvals = np.sqrt(gtab.bvals / tau) / (2 * np.pi)\n",
    "    q = qvals[:, None] * gtab.bvecs\n",
    "    #M = mapmri_isotropic_phi_matrix(self.radial_order, self.mu[0], q)\n",
    "    E = np.dot(M, C.reshape(vhr, coef).T).reshape(i_hr_shape)\n",
    "    return E\n",
    " \n",
    "\n",
    "Eq_reconst = mypredict(gtab, M, C, i_hr.shape)\n",
    "for b in xrange(Eq_reconst.shape[3]):\n",
    "    Eq_reconst[:,:,:,b] = Eq_reconst[:,:,:,b]*S0.mean(axis=3)\n",
    "\n",
    "err = np.abs(Eq_reconst - Eq_reconst_orig)\n",
    "err_rel = np.divide(err, Eq_reconst_orig+1)\n",
    "\n",
    "\n",
    "#img_utils._isc(i_hr, err_rel, b=2,vmin=0, vmax=i_hr.max(), titles=['Eq', 'predict(q)'])\n",
    "img_utils._isc(Eq_reconst_orig, Eq_reconst, b=2,vmin=0, vmax=Eq_reconst_orig.max(), titles=['orig', 'recos'])\n",
    "print mm(i_hr)\n",
    "\n",
    "mm(Eq_reconst_orig), mm(Eq_reconst)"
   ]
  },
  {
   "cell_type": "code",
   "execution_count": 70,
   "metadata": {
    "collapsed": false
   },
   "outputs": [
    {
     "name": "stdout",
     "output_type": "stream",
     "text": [
      "(0.000143670694635533, 117577015.76867291) (12, 12, 12, 40)\n"
     ]
    },
    {
     "data": {
      "image/png": "[encoded data removed]",
      "text/plain": [
       "<matplotlib.figure.Figure at 0x7fad81941a10>"
      ]
     },
     "metadata": {},
     "output_type": "display_data"
    }
   ],
   "source": [
    "\n",
    "mses = ((Eq_reconst - Eq_reconst_orig)**2)/2\n",
    "print mm(mses), mses.shape\n",
    "res = img_utils._isc3(Eq_reconst,Eq_reconst_orig, mses, vmax=Eq_reconst.max(), titles=['recons', 'orig', 'mse'])\n",
    "res[0].clim(mm(mses))"
   ]
  },
  {
   "cell_type": "code",
   "execution_count": 31,
   "metadata": {
    "collapsed": false
   },
   "outputs": [
    {
     "data": {
      "text/plain": [
       "(array([ 43406.,  21391.,   1359.,   1428.,    405.,    312.,    330.,\n",
       "           225.,    201.,     63.]),\n",
       " array([  -136.37439124,   1219.30785661,   2574.99010445,   3930.67235229,\n",
       "          5286.35460013,   6642.03684797,   7997.71909581,   9353.40134366,\n",
       "         10709.0835915 ,  12064.76583934,  13420.44808718]),\n",
       " <a list of 10 Patch objects>)"
      ]
     },
     "execution_count": 31,
     "metadata": {},
     "output_type": "execute_result"
    },
    {
     "data": {
      "image/png": "[encoded data removed]",
      "text/plain": [
       "<matplotlib.figure.Figure at 0x7fad81a48090>"
      ]
     },
     "metadata": {},
     "output_type": "display_data"
    }
   ],
   "source": [
    "hist(Eq_reconst_orig.flatten())"
   ]
  },
  {
   "cell_type": "code",
   "execution_count": 32,
   "metadata": {
    "collapsed": false
   },
   "outputs": [
    {
     "data": {
      "text/plain": [
       "(array([  4.48620000e+04,   1.41090000e+04,   6.37000000e+03,\n",
       "          1.92900000e+03,   8.01000000e+02,   5.45000000e+02,\n",
       "          3.95000000e+02,   9.50000000e+01,   9.00000000e+00,\n",
       "          5.00000000e+00]),\n",
       " array([  -252.79449463,   1347.48573608,   2947.7659668 ,   4548.04619751,\n",
       "          6148.32642822,   7748.60665894,   9348.88688965,  10949.16712036,\n",
       "         12549.44735107,  14149.72758179,  15750.0078125 ]),\n",
       " <a list of 10 Patch objects>)"
      ]
     },
     "execution_count": 32,
     "metadata": {},
     "output_type": "execute_result"
    },
    {
     "data": {
      "image/png": "[encoded data removed]",
      "text/plain": [
       "<matplotlib.figure.Figure at 0x7fad81776810>"
      ]
     },
     "metadata": {},
     "output_type": "display_data"
    }
   ],
   "source": [
    "hist(Eq_reconst.flatten())"
   ]
  },
  {
   "cell_type": "code",
   "execution_count": null,
   "metadata": {
    "collapsed": false
   },
   "outputs": [
    {
     "name": "stdout",
     "output_type": "stream",
     "text": [
      "BDBs (40, 1)\n",
      "(1, 1)\n"
     ]
    }
   ],
   "source": [
    "#DTI con cvxp\n",
    "\n",
    "cvBvals = cvx.Parameter(bval)\n",
    "cvBvals.value = gtab.bvals\n",
    "\n",
    "cvBvecs = cvx.Parameter(bval,3)\n",
    "cvBvecs.value = gtab.bvecs\n",
    "\n",
    "Ds = [cvx.Semidef(3) for i in xrange(vhr)]\n",
    "\n",
    "cvB = cvx.diag(cvBvals)*cvBvecs # (bval, 3)\n",
    "\n",
    "BDBs = [cvx.diag(cvB*Ds[i]*cvB.T) for i in xrange(vhr)]\n",
    "\n",
    "print 'BDBs', BDBs[0].size\n",
    "\n",
    "\"\"\"\n",
    "# Opcion A (suma voxel by voxel by bval)\n",
    "dti_sum = []\n",
    "for i in xrange(vhr):\n",
    "    for b in xrange(bval):\n",
    "        dti_sum.append(cvx.exp(-1*BDBs[i][b]) - Yhr[i+b*vhr]) \n",
    "\"\"\"\n",
    "\n",
    "#v = cvx.Variable()#,0]\n",
    "#cvx.exp(v)\n",
    "\n",
    "print BDBs[0][1].size\n",
    "\n",
    "# Opcion B suma de cuadrados por cada voxel\n",
    "dti_list = []\n",
    "for i in xrange(vhr):\n",
    "    Yi = Yhr[i:vhrb:vhr]\n",
    "    dti_list = [ cvx.square( cvx.exp(BDBs[i][b]) - Yi[b] )  for b in xrange(bval)]\n",
    "\n",
    "dti = sum(dti_sum)\n",
    "        \n",
    "cvx.Minimize(dti)\n"
   ]
  },
  {
   "cell_type": "markdown",
   "metadata": {},
   "source": [
    "# Tv Norm 3d (intento)"
   ]
  },
  {
   "cell_type": "code",
   "execution_count": null,
   "metadata": {
    "collapsed": false
   },
   "outputs": [],
   "source": [
    "# NO PROBADO\n",
    "\n",
    "Nx, Ny,Nz,Nb = (12, 12, 12, 6)\n",
    "vhr=Nx*Ny*Nz\n",
    "vhrb=vhr*Nb\n",
    "tv_list = []\n",
    "for k in range(vhr+1, vhrb):\n",
    "    x, y, z = k-1, k-Nx, k-Nx*Ny\n",
    "    Yk = Yhr[k:vhrb:vhr]\n",
    "    Yx , Yy, Yz = Yhr[x:vhrb:vhr], Yhr[y:vhrb:vhr] , Yhr[z:vhrb:vhr]\n",
    "    tv_list.append(cvx.pnorm((Yk-Yx)+(Yk-Yy)+(Yk-Yz), 2, axis=0))\n",
    "    \n",
    "tv = sum(tv_list)\n",
    "    \n",
    "\n",
    "\n"
   ]
  }
 ],
 "metadata": {
  "kernelspec": {
   "display_name": "Python 2",
   "language": "python",
   "name": "python2"
  },
  "language_info": {
   "codemirror_mode": {
    "name": "ipython",
    "version": 2
   },
   "file_extension": ".py",
   "mimetype": "text/x-python",
   "name": "python",
   "nbconvert_exporter": "python",
   "pygments_lexer": "ipython2",
   "version": "2.7.12"
  }
 },
 "nbformat": 4,
 "nbformat_minor": 0
}
