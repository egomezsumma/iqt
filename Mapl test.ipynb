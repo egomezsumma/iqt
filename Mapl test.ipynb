{
 "cells": [
  {
   "cell_type": "code",
   "execution_count": 48,
   "metadata": {
    "collapsed": false
   },
   "outputs": [
    {
     "data": {
      "text/plain": [
       "<module 'mapmri.mapmri' from 'mapmri/mapmri.pyc'>"
      ]
     },
     "execution_count": 48,
     "metadata": {},
     "output_type": "execute_result"
    }
   ],
   "source": [
    "from dipy.viz import fvtk\n",
    "from dipy.core.gradients import gradient_table\n",
    "import matplotlib.pyplot as plt\n",
    "from mpl_toolkits.axes_grid1 import make_axes_locatable\n",
    "#from dipy.reconst import mapmri\n",
    "import mapmri.mapmri as mp\n",
    "import datetime\n",
    "\n",
    "reload(mp)"
   ]
  },
  {
   "cell_type": "code",
   "execution_count": 49,
   "metadata": {
    "collapsed": false
   },
   "outputs": [
    {
     "name": "stdout",
     "output_type": "stream",
     "text": [
      "Populating the interactive namespace from numpy and matplotlib\n"
     ]
    }
   ],
   "source": [
    "%pylab inline\n",
    "import time\n",
    "import numpy as np\n",
    "import matplotlib.pyplot as plt\n",
    "from utils import img_utils\n",
    "import seaborn as sns\n",
    "import utils.math_utils as mu\n",
    "import nibabel as nib\n",
    "\n",
    "\n",
    "def load_subject_medium(index, numbers, bval=None, bvalpos=None ):\n",
    "    subject = str(numbers[index])\n",
    "    folder = './HCP/'+subject+'/'\n",
    "    bvals = np.loadtxt(folder+ 'bvals_'+subject)\n",
    "    bvecs = np.loadtxt(folder+'bvecs_'+subject)\n",
    "    \n",
    "    if bvalpos is not None:\n",
    "        img = nib.load(folder+ 'data_medium40g_12x12x12x40_'+subject+'_b'+str(bval)+'.nii.gz')\n",
    "        bsize=min(len(bvalpos), img.shape[3])\n",
    "        gtab = gradient_table(bvals=bvals[bvalpos[:bsize]], bvecs=bvecs[:,bvalpos[:bsize]])\n",
    "    else:\n",
    "        img = nib.load(folder+ 'data_medium40g_12x12x12x40_'+subject+'.nii.gz')\n",
    "        bsize = img.shape[3]\n",
    "        gtab = gradient_table(bvals=bvals[:bsize], bvecs=bvecs[:,:bsize])\n",
    "    return img, gtab\n",
    "\n",
    "\n",
    "def load_subject_small(index, numbers, bval=None, bvalpos=None ):\n",
    "    subject = str(numbers[index])\n",
    "    folder = './HCP/'+subject+'/'\n",
    "    bvals = np.loadtxt(folder+ 'bvals_'+subject)\n",
    "    bvecs = np.loadtxt(folder+'bvecs_'+subject)\n",
    "    \n",
    "    if bvalpos is not None:\n",
    "        img = nib.load(folder+ 'data_small_12x12x12x6_'+subject+'_b'+str(bval)+'.nii.gz')\n",
    "        bsize=min(len(bvalpos), img.shape[3])\n",
    "        gtab = gradient_table(bvals=bvals[bvalpos[:bsize]], bvecs=bvecs[:,bvalpos[:bsize]])\n",
    "    else:\n",
    "        img = nib.load(folder+ 'data_small_12x12x12x6_'+subject+'.nii.gz')\n",
    "        bsize = img.shape[3]\n",
    "        gtab = gradient_table(bvals=bvals[:bsize], bvecs=bvecs[:,:bsize])\n",
    "    return img, gtab\n",
    "\n",
    "\n",
    "\n",
    "def mm(A):\n",
    "    return (int(A.min()), int(A.max()))\n"
   ]
  },
  {
   "cell_type": "markdown",
   "metadata": {},
   "source": [
    "## Loading subjects (12, 12, 12) 16 b-vals, 40 gradients"
   ]
  },
  {
   "cell_type": "code",
   "execution_count": 50,
   "metadata": {
    "collapsed": false
   },
   "outputs": [
    {
     "name": "stdout",
     "output_type": "stream",
     "text": [
      "(12, 12, 12, 6) (12, 12, 12, 40) bvals= [1985.0, 3010.0, 995.0, 5.0, 1990.0, 1000.0, 2985.0, 1995.0, 1005.0, 2990.0, 2000.0, 2995.0, 2005.0, 3000.0, 2010.0, 3005.0, 990.0]\n"
     ]
    },
    {
     "data": {
      "image/png": "[encoded data removed]",
      "text/plain": [
       "<matplotlib.figure.Figure at 0x7fd74b1889d0>"
      ]
     },
     "metadata": {},
     "output_type": "display_data"
    }
   ],
   "source": [
    "subjects = [100307, 100408, 180129, 180432, 180836, 180937]\n",
    "bvals2000pos = [18, 27, 69, 75, 101, 107]\n",
    "bvals5pos = [0,16,32,48,64,80,95,112,128,144,160,176,191,208,224,240,256,272]\n",
    "\n",
    "# Esto es para quedame con la gtab que es igua a todos\n",
    "img, gtab = load_subject_medium(2 , subjects)\n",
    "img_s0, gtab_s0 = load_subject_small(2, subjects, bval=5, bvalpos=bvals5pos[0:6])\n",
    "\n",
    "i_hr=img.get_data()\n",
    "S0 = img_s0.get_data()\n",
    "\n",
    "b=2\n",
    "img_utils._isc(S0, i_hr, b=b, vmin=S0.min(),  vmax=S0.max(), titles=['S0', 'S'+str(int(gtab.bvals[b]))])\n",
    "print S0.shape, i_hr.shape, 'bvals=',list(set(gtab.bvals))"
   ]
  },
  {
   "cell_type": "code",
   "execution_count": 51,
   "metadata": {
    "collapsed": false
   },
   "outputs": [
    {
     "name": "stdout",
     "output_type": "stream",
     "text": [
      "mu.shape (3,)\n",
      "Corig.shape (12, 12, 12, 22) norm1 4067.78870578 |c| 65.2069363251\n",
      "Morig.shape (40, 22)\n",
      "Tau 0.0253302959106\n"
     ]
    }
   ],
   "source": [
    "\n",
    "def getM(radial_order, mu, gtab, tau):\n",
    "    r'''Recovers the reconstructed signal for any qvalue array or\n",
    "        gradient table.\n",
    "        '''\n",
    "    qvals = np.sqrt(gtab.bvals / tau) / (2 * np.pi)\n",
    "    q = qvals[:, None] * gtab.bvecs\n",
    "    M = mp.mapmri_isotropic_phi_matrix(radial_order, mu[0], q)\n",
    "    return  M\n",
    "\n",
    "\n",
    "\"\"\"\n",
    "Asi tal cual me sugerio Rutger que invoque a los parametros\n",
    "\"\"\"\n",
    "reload(mp)\n",
    "radial_order = 4\n",
    "#Fiteo el model\n",
    "map_model = mp.MapmriModel(gtab,\n",
    "                            radial_order=radial_order,\n",
    "                            laplacian_regularization=True,\n",
    "                            laplacian_weighting=0.2,\n",
    "                            anisotropic_scaling=False,\n",
    "                            dti_scale_estimation=False)\n",
    "# Fiteo la data\n",
    "map_model_fit = map_model.fit(i_hr)\n",
    "tau = map_model.tau\n",
    "mu = map_model_fit.mu[0,0,0]\n",
    "print 'mu.shape', mu.shape\n",
    "Morig = getM(radial_order, mu, gtab, tau)\n",
    "Corig = map_model_fit.mapmri_coeff\n",
    "print 'Corig.shape', Corig.shape, 'norm1', cvx.norm1(Corig.flatten()).value, '|c|', np.linalg.norm(Corig)\n",
    "print 'Morig.shape', Morig.shape\n",
    "print 'Tau', tau\n",
    "\n"
   ]
  },
  {
   "cell_type": "code",
   "execution_count": 52,
   "metadata": {
    "collapsed": false
   },
   "outputs": [
    {
     "name": "stdout",
     "output_type": "stream",
     "text": [
      "Eq_recons desp div S0 max min (-173, 16175)\n"
     ]
    }
   ],
   "source": [
    "reload(mp)\n",
    "\n",
    "def mypredictBKP(gtab, C, M, tau):\n",
    "    qvals = np.sqrt(gtab.bvals / tau) / (2 * np.pi)\n",
    "    q = qvals[:, None] * gtab.bvecs\n",
    "    Nb, Nc = M.shape \n",
    "    Nx, Ny, Nz, Nc = C.shape \n",
    "    vhr = Nx*Ny*Nz\n",
    "    vhrb = vhr*Nb\n",
    "    Cvec = C.reshape((Nx*Ny*Nz, Nc), order='F')\n",
    "    E = np.dot(M, Cvec.T).T.reshape((Nx, Ny, Nz,Nb), order='F')\n",
    "    return E\n",
    "\n",
    "def mypredict(gtab, C_or_Cvec, M, tau):\n",
    "    is_cvxpy = isinstance(C_or_Cvec, cvx.Variable)\n",
    "    qvals = np.sqrt(gtab.bvals / tau) / (2 * np.pi)\n",
    "    q = qvals[:, None] * gtab.bvecs\n",
    "    Nb, Nc = M.shape\n",
    "    if is_cvxpy :\n",
    "        vhr, Nc = C_or_Cvec.size\n",
    "    else:\n",
    "        Nx, Ny, Nz, Nc = C_or_Cvec.shape\n",
    "        vhr = Nx*Ny*Nz\n",
    "    vhrb = vhr*Nb\n",
    "    \n",
    "    Cvec = C_or_Cvec\n",
    "    if not is_cvxpy :\n",
    "        Cvec = Cvec.reshape((Nx*Ny*Nz, Nc), order='F')\n",
    "        \n",
    "    #E = np.dot(M, Cvec.T).T\n",
    "    \n",
    "    if is_cvxpy :\n",
    "        E = (M * Cvec.T)\n",
    "    else:\n",
    "        E = np.dot(M, Cvec.T).T\n",
    "        \n",
    "    if not is_cvxpy :\n",
    "        E = E.reshape((Nx, Ny, Nz,Nb), order='F')\n",
    "    #else:\n",
    "    #    E = E.reshape(-1, order='F')\n",
    "        \n",
    "    return E\n",
    "\n",
    "# Predict con el C de rutger\n",
    "Eq_reconst_orig = mypredict(gtab, Corig, Morig, tau)\n",
    "\n",
    "for b in xrange(Eq_reconst_orig.shape[3]):\n",
    "    Eq_reconst_orig[:,:,:,b] = Eq_reconst_orig[:,:,:,b]*S0.mean(axis=3)\n",
    "\n",
    "print 'Eq_recons desp div S0 max min', mm(Eq_reconst_orig)"
   ]
  },
  {
   "cell_type": "markdown",
   "metadata": {},
   "source": [
    "# Compare predit and signal"
   ]
  },
  {
   "cell_type": "code",
   "execution_count": 53,
   "metadata": {
    "collapsed": false
   },
   "outputs": [
    {
     "name": "stdout",
     "output_type": "stream",
     "text": [
      "(0, 1522)\n",
      "Error relativo max,min u std (0, 95) 0 0\n"
     ]
    },
    {
     "data": {
      "text/plain": [
       "<module 'matplotlib.pyplot' from '/user/lgomez/home/anaconda2/lib/python2.7/site-packages/matplotlib/pyplot.pyc'>"
      ]
     },
     "execution_count": 53,
     "metadata": {},
     "output_type": "execute_result"
    },
    {
     "data": {
      "image/png": "[encoded data removed]",
      "text/plain": [
       "<matplotlib.figure.Figure at 0x7fd7300dea50>"
      ]
     },
     "metadata": {},
     "output_type": "display_data"
    }
   ],
   "source": [
    "err_mapmrifit = np.abs(Eq_reconst_orig - i_hr)\n",
    "err_rel_mapmrifit = np.divide(err_mapmrifit, i_hr+1)#para q no de infinito\n",
    "\n",
    "print mm(err_mapmrifit) \n",
    "print 'Error relativo max,min u std', mm(err_rel_mapmrifit), int(err_rel_mapmrifit.mean()), \\\n",
    "                                      int(np.std(err_rel_mapmrifit)) \n",
    "\n",
    "img_utils._isc(i_hr, Eq_reconst_orig, b=2, vmin=0, vmax=i_hr.max(), titles=['Eq', 'predict(q)'])\n"
   ]
  },
  {
   "cell_type": "markdown",
   "metadata": {},
   "source": [
    "## Calculo C con optimizacion"
   ]
  },
  {
   "cell_type": "code",
   "execution_count": 54,
   "metadata": {
    "collapsed": false
   },
   "outputs": [],
   "source": [
    "import cvxpy as cvx\n",
    "\n",
    "def define_opt_problem(i_hr, gtab, M, tau, Nc, S0):\n",
    "    Nx, Ny, Nz, bval = i_hr.shape\n",
    "    vhr = Nx*Ny*Nz\n",
    "    vhrb = vhr*bval\n",
    "    \n",
    "    # Image to fit\n",
    "    Yhr = cvx.Parameter(vhrb, 1)\n",
    "    Yhr.value = i_hr.reshape(-1, order='F')\n",
    "\n",
    "    ## MAPL params\n",
    "    #cvxM = cvx.Parameter(bval, Nc)\n",
    "    #cvxM.value = M\n",
    "    cvxM = cvx.Constant(M)\n",
    "    \n",
    "    #tau = mapl_parameters(gtab)\n",
    "    cvxC = cvx.Variable(vhr, Nc)\n",
    "\n",
    "    #if S0 is None:\n",
    "    #    cvxS0 = cvx.Parameter(vhr)\n",
    "    #    cvxS0.value = np.ones((vhr, 1), dtype='float')*100\n",
    "    #else:\n",
    "    #    cvxS0 = cvx.Parameter(vhr)\n",
    "    #    cvxS0.value = S0.reshape(-1, order='F')\n",
    "    \n",
    "    # cvxE:(Nb,vhr)\n",
    "    cvxE = mypredict(gtab, cvxC, M, tau)\n",
    "    print 'E.size', cvxE.size\n",
    "    \n",
    "    alpha = cvx.Parameter(value=.62, sign='positive')\n",
    "    \n",
    "    # En el codigo original las var si se pueden resizear\n",
    "    YhrMap = cvx.Parameter(vhr,bval)\n",
    "    YhrMap = i_hr.reshape((vhr,bval), order='F').T\n",
    "    \n",
    "    ## objective\n",
    "    norm1 = cvx.norm1(cvxC)\n",
    "    obj = cvx.Minimize(cvx.sum_squares(cvxE-YhrMap) + alpha*norm1)\n",
    "\n",
    "    ## some constraints\n",
    "    # pos_cons =[ cvxM*cvxC[i,:].T >= 0  for i in xrange(vhr) ]\n",
    "    # max_cons =[ cvxM*cvxC[i,:].T*cvxS0[i] <= i_hr.max() for i in xrange(vhr) ]\n",
    "\n",
    "    prob = cvx.Problem(obj)#\n",
    "\n",
    "    print 'Problema definido Definido ', datetime.datetime.now()\n",
    "    \n",
    "    return prob, cvxM, cvxC,  norm1"
   ]
  },
  {
   "cell_type": "code",
   "execution_count": 55,
   "metadata": {
    "collapsed": false
   },
   "outputs": [
    {
     "name": "stdout",
     "output_type": "stream",
     "text": [
      "E.size (40, 1728)\n",
      "Problema definido Definido  2016-08-30 10:21:29.777750\n",
      "----------------------------------------------------------------------------\n",
      "\tSCS v1.2.6 - Splitting Conic Solver\n",
      "\t(c) Brendan O'Donoghue, Stanford University, 2012-2016\n",
      "----------------------------------------------------------------------------\n",
      "Lin-sys: sparse-indirect, nnz in A = 1672706, CG tol ~ 1/iter^(2.00)\n",
      "eps = 1.00e-02, alpha = 1.50, max_iters = 1000, normalize = 1, scale = 1.00\n",
      "Variables n = 76033, constraints m = 145154\n",
      "Cones:\tlinear vars: 76032\n",
      "\tsoc vars: 69122, soc blks: 1\n",
      "Setup time: 9.23e-02s\n",
      "----------------------------------------------------------------------------\n",
      " Iter | pri res | dua res | rel gap | pri obj | dua obj | kap/tau | time (s)\n",
      "----------------------------------------------------------------------------\n",
      "     0| 8.80e+00  1.47e+01  1.00e+00 -2.24e+08  1.04e+08  4.69e-08  1.38e-01 \n",
      "   100| 6.37e-03  6.60e-03  2.01e-02  5.84e+06  6.08e+06  3.20e-09  4.76e+00 \n",
      "   200| 4.76e-03  5.27e-03  1.16e-02  6.55e+06  6.71e+06  2.97e-09  1.03e+01 \n",
      "   280| 4.42e-03  5.15e-03  9.73e-03  7.01e+06  7.15e+06  4.39e-09  1.52e+01 \n",
      "----------------------------------------------------------------------------\n",
      "Status: Solved\n",
      "Timing: Solve time: 1.52e+01s\n",
      "\tLin-sys: avg # CG iterations: 6.64, avg solve time: 5.09e-02s\n",
      "\tCones: avg projection time: 1.85e-04s\n",
      "----------------------------------------------------------------------------\n",
      "Error metrics:\n",
      "dist(s, K) = 1.4300e-13, dist(y, K*) = 0.0000e+00, s'y/|s||y| = 8.8371e-15\n",
      "|Ax + s - b|_2 / (1 + |b|_2) = 4.4249e-03\n",
      "|A'y + c|_2 / (1 + |c|_2) = 5.1480e-03\n",
      "|c'x + b'y| / (1 + |c'x| + |b'y|) = 9.7311e-03\n",
      "----------------------------------------------------------------------------\n",
      "c'x = 7011093.6590, -b'y = 7148886.2375\n",
      "============================================================================\n",
      "--- time of optimization : 0' 16'' ---\n",
      "--- status: optimal optimal value 7011093.65905\n",
      "\n",
      "|C| = 174474.0\n",
      "minimzation op_val = 7011093.65905\n"
     ]
    }
   ],
   "source": [
    "Nb=22 # 4 --> 22, 6 --> 50\n",
    "Nx, Ny, Nz, bval = i_hr.shape\n",
    "vhr = Nx*Ny*Nz\n",
    "vhrb = vhr*bval\n",
    "\n",
    "prob, cvxM, cvxC, norm1 = define_opt_problem(i_hr, gtab, Morig, tau, Nb, S0.mean(axis=3))\n",
    "\n",
    "# Solve problem\n",
    "start_time = time.time()\n",
    "res = prob.solve(solver='SCS', max_iters=1000, eps=1.00e-02, verbose=True)  # Returns the optimal value.\n",
    "seg = time.time() - start_time\n",
    "minutes = int(seg / 60)\n",
    "print(\"--- time of optimization : %d' %d'' ---\" % (minutes , seg%60))\n",
    "print \"--- status:\", prob.status, \"optimal value\", prob.value\n",
    "print \n",
    "\n",
    "# Change dimension of result representation\n",
    "if cvxC.value is None :\n",
    "    print 'FRECONSTRUCTION FAIL :('\n",
    "\n",
    "C = np.asarray(cvxC.value, dtype='float32').reshape((Nx, Ny, Nz,Nb), order='F')\n",
    "    \n",
    "print '|C| =', np.linalg.norm(C)\n",
    "print 'minimzation op_val =', prob.value"
   ]
  },
  {
   "cell_type": "code",
   "execution_count": 56,
   "metadata": {
    "collapsed": false
   },
   "outputs": [
    {
     "name": "stdout",
     "output_type": "stream",
     "text": [
      "(0, 986)\n",
      "Error relativo max,min u std (0, 196) 0 0\n",
      "norm1(cvxC) 7988114.48168\n"
     ]
    },
    {
     "data": {
      "text/plain": [
       "((-173, 16175), (-309, 16211))"
      ]
     },
     "execution_count": 56,
     "metadata": {},
     "output_type": "execute_result"
    },
    {
     "data": {
      "image/png": "[encoded data removed]",
      "text/plain": [
       "<matplotlib.figure.Figure at 0x7fd74b21a5d0>"
      ]
     },
     "metadata": {},
     "output_type": "display_data"
    }
   ],
   "source": [
    "# Predict con el C de rutger\n",
    "Eq_reconst = mypredict(gtab, C, Morig, tau)\n",
    "\n",
    "\"\"\"ACORDATE!!!\n",
    "la que te da cvxpy ya viene multiplicada por S0 ( es decir es la senial no la atenuacion)\n",
    "la de rutger te da la atenuacion \n",
    "\"\"\"\n",
    "#for b in xrange(Eq_reconst.shape[3]):\n",
    "#    Eq_reconst[:,:,:,b] = Eq_reconst[:,:,:,b]*S0.mean(axis=3)\n",
    "\n",
    "\n",
    "err = np.abs(Eq_reconst - i_hr)\n",
    "err_rel = np.divide(err, i_hr+1)#para q no de infinito\n",
    "\n",
    "print mm(err) \n",
    "print 'Error relativo max,min u std', mm(err_rel), int(err_rel.mean()), \\\n",
    "                                      int(np.std(err_rel)) \n",
    "\n",
    "    \n",
    "print 'norm1(cvxC)', norm1.value\n",
    "img_utils._isc(Eq_reconst_orig, Eq_reconst, b=b, vmin=0, vmax=Eq_reconst.max(), titles=['Eq rutger', 'Eq cvxpy'])\n",
    "mm(Eq_reconst_orig), mm(Eq_reconst)"
   ]
  },
  {
   "cell_type": "code",
   "execution_count": 57,
   "metadata": {
    "collapsed": false
   },
   "outputs": [
    {
     "data": {
      "text/plain": [
       "((0, 16743), (-309, 16211))"
      ]
     },
     "execution_count": 57,
     "metadata": {},
     "output_type": "execute_result"
    },
    {
     "data": {
      "image/png": "[encoded data removed]",
      "text/plain": [
       "<matplotlib.figure.Figure at 0x7fd74b21c890>"
      ]
     },
     "metadata": {},
     "output_type": "display_data"
    }
   ],
   "source": [
    "img_utils._isc(i_hr, Eq_reconst,b=b, vmin=0, vmax=i_hr.max(), titles=['i_hr', 'Eq cvxpy'])\n",
    "mm(i_hr), mm(Eq_reconst)"
   ]
  },
  {
   "cell_type": "markdown",
   "metadata": {},
   "source": [
    "## Compare C "
   ]
  },
  {
   "cell_type": "code",
   "execution_count": 59,
   "metadata": {
    "collapsed": false
   },
   "outputs": [
    {
     "name": "stdout",
     "output_type": "stream",
     "text": [
      "|dif_c| min/max: 174436 (0, 6682)\n",
      "|C| |Corig|: 174473 65 7988114.47694\n",
      "ecm : 800400.755289\n"
     ]
    }
   ],
   "source": [
    "dif_c = np.abs(C - map_model_fit.mapmri_coeff)\n",
    "ecm_c = ((C - map_model_fit.mapmri_coeff)**2).mean()\n",
    "\n",
    "print '|dif_c| min/max:', int(np.linalg.norm(dif_c)), mm(dif_c) \n",
    "print '|C| |Corig|:',  int(np.linalg.norm(C)), int(np.linalg.norm(map_model_fit.mapmri_coeff)), cvx.norm1(C.flatten()).value\n",
    "print 'ecm :', ecm_c"
   ]
  },
  {
   "cell_type": "code",
   "execution_count": 132,
   "metadata": {
    "collapsed": false
   },
   "outputs": [
    {
     "data": {
      "text/plain": [
       "(array([   403.,   8563.,  26623.,    576.,    179.,    167.,    136.,\n",
       "           273.,    998.,     98.]),\n",
       " array([-1375.03234863,  -712.08585205,   -49.13935547,   613.80714111,\n",
       "         1276.7536377 ,  1939.70013428,  2602.64663086,  3265.59312744,\n",
       "         3928.53962402,  4591.48612061,  5254.43261719]),\n",
       " <a list of 10 Patch objects>)"
      ]
     },
     "execution_count": 132,
     "metadata": {},
     "output_type": "execute_result"
    },
    {
     "data": {
      "image/png": "[encoded data removed]",
      "text/plain": [
       "<matplotlib.figure.Figure at 0x7f3ac5fb5290>"
      ]
     },
     "metadata": {},
     "output_type": "display_data"
    }
   ],
   "source": [
    "hist(C.flatten())"
   ]
  },
  {
   "cell_type": "code",
   "execution_count": 120,
   "metadata": {
    "collapsed": false
   },
   "outputs": [
    {
     "data": {
      "text/plain": [
       "(array([  2.00000000e+00,   2.00000000e+01,   1.55000000e+02,\n",
       "          2.77000000e+02,   3.57770000e+04,   1.27200000e+03,\n",
       "          3.62000000e+02,   1.32000000e+02,   1.70000000e+01,\n",
       "          2.00000000e+00]),\n",
       " array([-3.04472989, -2.34913615, -1.65354242, -0.95794869, -0.26235496,\n",
       "         0.43323877,  1.1288325 ,  1.82442623,  2.52001996,  3.21561369,\n",
       "         3.91120743]),\n",
       " <a list of 10 Patch objects>)"
      ]
     },
     "execution_count": 120,
     "metadata": {},
     "output_type": "execute_result"
    },
    {
     "data": {
      "image/png": "[encoded data removed]",
      "text/plain": [
       "<matplotlib.figure.Figure at 0x7f3ace5291d0>"
      ]
     },
     "metadata": {},
     "output_type": "display_data"
    }
   ],
   "source": [
    "hist( map_model_fit.mapmri_coeff.flatten())"
   ]
  },
  {
   "cell_type": "markdown",
   "metadata": {},
   "source": [
    "# Compare Ms\n"
   ]
  },
  {
   "cell_type": "code",
   "execution_count": 7,
   "metadata": {
    "collapsed": false
   },
   "outputs": [
    {
     "ename": "NameError",
     "evalue": "name 'M' is not defined",
     "output_type": "error",
     "traceback": [
      "\u001b[1;31m---------------------------------------------------------------------------\u001b[0m",
      "\u001b[1;31mNameError\u001b[0m                                 Traceback (most recent call last)",
      "\u001b[1;32m<ipython-input-7-59da97129388>\u001b[0m in \u001b[0;36m<module>\u001b[1;34m()\u001b[0m\n\u001b[1;32m----> 1\u001b[1;33m \u001b[1;32mprint\u001b[0m \u001b[0mM\u001b[0m\u001b[1;33m.\u001b[0m\u001b[0mshape\u001b[0m\u001b[1;33m,\u001b[0m \u001b[0mMorig\u001b[0m\u001b[1;33m.\u001b[0m\u001b[0mshape\u001b[0m\u001b[1;33m\u001b[0m\u001b[0m\n\u001b[0m\u001b[0;32m      2\u001b[0m \u001b[1;33m\u001b[0m\u001b[0m\n\u001b[0;32m      3\u001b[0m \u001b[0mmses\u001b[0m \u001b[1;33m=\u001b[0m \u001b[1;33m[\u001b[0m\u001b[1;33m]\u001b[0m\u001b[1;33m\u001b[0m\u001b[0m\n\u001b[0;32m      4\u001b[0m \u001b[1;32mfor\u001b[0m \u001b[0mi\u001b[0m \u001b[1;32min\u001b[0m \u001b[0mxrange\u001b[0m\u001b[1;33m(\u001b[0m\u001b[1;36m12\u001b[0m\u001b[1;33m)\u001b[0m\u001b[1;33m:\u001b[0m\u001b[1;33m\u001b[0m\u001b[0m\n\u001b[0;32m      5\u001b[0m     \u001b[1;32mfor\u001b[0m \u001b[0mj\u001b[0m \u001b[1;32min\u001b[0m \u001b[0mxrange\u001b[0m\u001b[1;33m(\u001b[0m\u001b[1;36m12\u001b[0m\u001b[1;33m)\u001b[0m\u001b[1;33m:\u001b[0m\u001b[1;33m\u001b[0m\u001b[0m\n",
      "\u001b[1;31mNameError\u001b[0m: name 'M' is not defined"
     ]
    }
   ],
   "source": [
    "print M.shape, Morig.shape\n",
    "\n",
    "mses = []\n",
    "for i in xrange(12):\n",
    "    for j in xrange(12):\n",
    "        for k in xrange(12):\n",
    "            ((Morig[i,j,k]-M)**2).mean()\n",
    "            \n",
    "print len(mses), sum(mses), sum(mses)/len(mses)\n",
    "hist((Morig[0,1,0]-M).flatten())\n"
   ]
  },
  {
   "cell_type": "code",
   "execution_count": 26,
   "metadata": {
    "collapsed": false
   },
   "outputs": [
    {
     "ename": "NameError",
     "evalue": "name 'Eq_reconst' is not defined",
     "output_type": "error",
     "traceback": [
      "\u001b[1;31m---------------------------------------------------------------------------\u001b[0m",
      "\u001b[1;31mNameError\u001b[0m                                 Traceback (most recent call last)",
      "\u001b[1;32m<ipython-input-26-250dc566e658>\u001b[0m in \u001b[0;36m<module>\u001b[1;34m()\u001b[0m\n\u001b[1;32m----> 1\u001b[1;33m \u001b[0mmses\u001b[0m \u001b[1;33m=\u001b[0m \u001b[1;33m(\u001b[0m\u001b[1;33m(\u001b[0m\u001b[0mEq_reconst\u001b[0m \u001b[1;33m-\u001b[0m \u001b[0mEq_reconst_orig\u001b[0m\u001b[1;33m)\u001b[0m\u001b[1;33m**\u001b[0m\u001b[1;36m2\u001b[0m\u001b[1;33m)\u001b[0m\u001b[1;33m/\u001b[0m\u001b[1;36m2\u001b[0m\u001b[1;33m\u001b[0m\u001b[0m\n\u001b[0m\u001b[0;32m      2\u001b[0m \u001b[1;32mprint\u001b[0m \u001b[0mmm\u001b[0m\u001b[1;33m(\u001b[0m\u001b[0mmses\u001b[0m\u001b[1;33m)\u001b[0m\u001b[1;33m,\u001b[0m \u001b[0mmses\u001b[0m\u001b[1;33m.\u001b[0m\u001b[0mshape\u001b[0m\u001b[1;33m\u001b[0m\u001b[0m\n\u001b[0;32m      3\u001b[0m \u001b[0mres\u001b[0m \u001b[1;33m=\u001b[0m \u001b[0mimg_utils\u001b[0m\u001b[1;33m.\u001b[0m\u001b[0m_isc3\u001b[0m\u001b[1;33m(\u001b[0m\u001b[0mEq_reconst\u001b[0m\u001b[1;33m,\u001b[0m\u001b[0mEq_reconst_orig\u001b[0m\u001b[1;33m,\u001b[0m \u001b[0mmses\u001b[0m\u001b[1;33m,\u001b[0m \u001b[0mvmax\u001b[0m\u001b[1;33m=\u001b[0m\u001b[0mEq_reconst\u001b[0m\u001b[1;33m.\u001b[0m\u001b[0mmax\u001b[0m\u001b[1;33m(\u001b[0m\u001b[1;33m)\u001b[0m\u001b[1;33m,\u001b[0m \u001b[0mtitles\u001b[0m\u001b[1;33m=\u001b[0m\u001b[1;33m[\u001b[0m\u001b[1;34m'recons'\u001b[0m\u001b[1;33m,\u001b[0m \u001b[1;34m'orig'\u001b[0m\u001b[1;33m,\u001b[0m \u001b[1;34m'mse'\u001b[0m\u001b[1;33m]\u001b[0m\u001b[1;33m)\u001b[0m\u001b[1;33m\u001b[0m\u001b[0m\n\u001b[0;32m      4\u001b[0m \u001b[0mres\u001b[0m\u001b[1;33m[\u001b[0m\u001b[1;36m0\u001b[0m\u001b[1;33m]\u001b[0m\u001b[1;33m.\u001b[0m\u001b[0mclim\u001b[0m\u001b[1;33m(\u001b[0m\u001b[0mmm\u001b[0m\u001b[1;33m(\u001b[0m\u001b[0mmses\u001b[0m\u001b[1;33m)\u001b[0m\u001b[1;33m)\u001b[0m\u001b[1;33m\u001b[0m\u001b[0m\n",
      "\u001b[1;31mNameError\u001b[0m: name 'Eq_reconst' is not defined"
     ]
    }
   ],
   "source": [
    "mses = ((Eq_reconst - Eq_reconst_orig)**2)/2\n",
    "print mm(mses), mses.shape\n",
    "res = img_utils._isc3(Eq_reconst,Eq_reconst_orig, mses, vmax=Eq_reconst.max(), titles=['recons', 'orig', 'mse'])\n",
    "res[0].clim(mm(mses))"
   ]
  },
  {
   "cell_type": "code",
   "execution_count": 31,
   "metadata": {
    "collapsed": false
   },
   "outputs": [
    {
     "data": {
      "text/plain": [
       "(array([ 43406.,  21391.,   1359.,   1428.,    405.,    312.,    330.,\n",
       "           225.,    201.,     63.]),\n",
       " array([  -136.37439124,   1219.30785661,   2574.99010445,   3930.67235229,\n",
       "          5286.35460013,   6642.03684797,   7997.71909581,   9353.40134366,\n",
       "         10709.0835915 ,  12064.76583934,  13420.44808718]),\n",
       " <a list of 10 Patch objects>)"
      ]
     },
     "execution_count": 31,
     "metadata": {},
     "output_type": "execute_result"
    },
    {
     "data": {
      "image/png": "[encoded data removed]",
      "text/plain": [
       "<matplotlib.figure.Figure at 0x7fad81a48090>"
      ]
     },
     "metadata": {},
     "output_type": "display_data"
    }
   ],
   "source": [
    "hist(Eq_reconst_orig.flatten())"
   ]
  },
  {
   "cell_type": "code",
   "execution_count": 32,
   "metadata": {
    "collapsed": false
   },
   "outputs": [
    {
     "data": {
      "text/plain": [
       "(array([  4.48620000e+04,   1.41090000e+04,   6.37000000e+03,\n",
       "          1.92900000e+03,   8.01000000e+02,   5.45000000e+02,\n",
       "          3.95000000e+02,   9.50000000e+01,   9.00000000e+00,\n",
       "          5.00000000e+00]),\n",
       " array([  -252.79449463,   1347.48573608,   2947.7659668 ,   4548.04619751,\n",
       "          6148.32642822,   7748.60665894,   9348.88688965,  10949.16712036,\n",
       "         12549.44735107,  14149.72758179,  15750.0078125 ]),\n",
       " <a list of 10 Patch objects>)"
      ]
     },
     "execution_count": 32,
     "metadata": {},
     "output_type": "execute_result"
    },
    {
     "data": {
      "image/png": "[encoded data removed]",
      "text/plain": [
       "<matplotlib.figure.Figure at 0x7fad81776810>"
      ]
     },
     "metadata": {},
     "output_type": "display_data"
    }
   ],
   "source": [
    "hist(Eq_reconst.flatten())"
   ]
  },
  {
   "cell_type": "markdown",
   "metadata": {},
   "source": [
    "# DTI 3d (intento)"
   ]
  },
  {
   "cell_type": "code",
   "execution_count": null,
   "metadata": {
    "collapsed": false
   },
   "outputs": [],
   "source": [
    "\n",
    "Yhr_vxb = cvx.Parameter(vhr,Nb)\n",
    "Yhr_vxb.value = i_hr.reshape(-1, order='F').reshape(vhr,Nb)\n",
    "\n",
    "## Dti params\n",
    "Nb = gtab.bvals.shape[0]\n",
    "cvBvals = cvx.Parameter(Nb)\n",
    "cvBvals.value = gtab.bvals\n",
    "cvBvecs = cvx.Parameter(Nb,3)\n",
    "cvBvecs.value = gtab.bvecs\n",
    "\n",
    "Ds = [ cvx.Semidef(3) for i in xrange(vhr)]\n",
    "cvB = cvx.diag(cvBvals)*cvBvecs # (bval, 3)\n",
    "\n",
    "BDBs = [cvx.diag(cvB*Ds[i]*cvB.T) for i in xrange(vhr)]\n",
    "\n",
    "#constraint = [cvB*Ds[i]*cvB.T >= 0 for i in xrange(vhr)]\n",
    "\n",
    "print 'BDBs', BDBs[0].size\n",
    "\n",
    "#v = cvx.Variable()#,0]\n",
    "#cvx.exp(v)\n",
    "\n",
    "print BDBs[0][1].size\n",
    "\n",
    "# Opcion B suma de cuadrados por cada voxel\n",
    "#dti_list = []\n",
    "#for i in xrange(vhr):\n",
    "    #Yi = Yhr[i:vhrb:vhr]\n",
    "    #dti_list = [ (cvx.inv_pos(cvx.exp(BDBs[i][b])) - Yi[b]) for b in xrange(bval)]\n",
    "    #dti_list = [ BDBs[i][b] + cvx.log(Yi[b]) for b in xrange(bval)]\n",
    "#dti = sum(dti_list, contraint)\n",
    "        \n",
    "prob = cvx.Problem(cvx.Minimize(cvx.sum_squares(BDBs[i][b] + cvx.log(Yhr_vxb))))\n",
    "print 'Problema definido Definido ', datetime.datetime.now()\n",
    "\n",
    "\n",
    "solvers = [\"SCS\"\n",
    "    \"GLPK\",\n",
    "        \"GLPK_MI\",\n",
    "        \"Elemental\",\n",
    "        \"ECOS\" ,\n",
    "        \"ECOS_BB\",\n",
    "        \"GUROBI\",\n",
    "        \"MOSEK\",\n",
    "        \"CVXOPT\",\n",
    "        \"SCS\"]\n",
    "\n",
    "# Solve problem\n",
    "for solver in solvers :\n",
    "    start_time = time.time()\n",
    "    resolvio = True\n",
    "    try:\n",
    "        res = prob.solve(solver=solver, max_iters=1000, eps=1.00e-02, verbose=True)  # Returns the optimal value.\n",
    "    except:\n",
    "        resolvio = False\n",
    "    seg = time.time() - start_time\n",
    "    minutes = int(seg / 60)\n",
    "    if resolvio :\n",
    "        print(\"---[%s] time of optimization : %d' %d'' ---\" % (solver, minutes , seg%60))\n",
    "        print \"--- status:\", prob.status, \"optimal value\", prob.value\n",
    "    else:\n",
    "        print solver, 'fail'\n",
    "    print \n",
    "\n",
    "# Change dimension of result representation\n",
    "if cvxC.value is None :\n",
    "    print 'FRECONSTRUCTION FAIL :('\n",
    "\n",
    "D = np.asarray(Ds.value, dtype='float32').reshape((Nx, Ny, Nz,3, 3), order='F')\n",
    "    \n"
   ]
  },
  {
   "cell_type": "code",
   "execution_count": 174,
   "metadata": {
    "collapsed": false
   },
   "outputs": [
    {
     "data": {
      "text/plain": [
       "<module 'matplotlib.pyplot' from '/user/lgomez/home/anaconda2/lib/python2.7/site-packages/matplotlib/pyplot.pyc'>"
      ]
     },
     "execution_count": 174,
     "metadata": {},
     "output_type": "execute_result"
    },
    {
     "data": {
      "image/png": "[encoded data removed]",
      "text/plain": [
       "<matplotlib.figure.Figure at 0x7f3acdd37cd0>"
      ]
     },
     "metadata": {},
     "output_type": "display_data"
    }
   ],
   "source": [
    "\n",
    "#tenmodel = dti.TensorModel(gtab)\n",
    "#tenfit = tenmodel.fit(i_hr)\n",
    "\n",
    "img_utils._is(i_hr)"
   ]
  }
 ],
 "metadata": {
  "kernelspec": {
   "display_name": "Python 2",
   "language": "python",
   "name": "python2"
  },
  "language_info": {
   "codemirror_mode": {
    "name": "ipython",
    "version": 2
   },
   "file_extension": ".py",
   "mimetype": "text/x-python",
   "name": "python",
   "nbconvert_exporter": "python",
   "pygments_lexer": "ipython2",
   "version": "2.7.12"
  }
 },
 "nbformat": 4,
 "nbformat_minor": 0
}
