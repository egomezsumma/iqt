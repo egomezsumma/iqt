{
 "cells": [
  {
   "cell_type": "code",
   "execution_count": 1,
   "metadata": {
    "collapsed": false
   },
   "outputs": [
    {
     "data": {
      "text/plain": [
       "<module 'mapmri.mapmri' from 'mapmri/mapmri.pyc'>"
      ]
     },
     "execution_count": 1,
     "metadata": {},
     "output_type": "execute_result"
    }
   ],
   "source": [
    "from dipy.viz import fvtk\n",
    "from dipy.core.gradients import gradient_table\n",
    "import matplotlib.pyplot as plt\n",
    "from mpl_toolkits.axes_grid1 import make_axes_locatable\n",
    "#from dipy.reconst import mapmri\n",
    "import mapmri.mapmri as mp\n",
    "import datetime\n",
    "\n",
    "reload(mp)"
   ]
  },
  {
   "cell_type": "code",
   "execution_count": 3,
   "metadata": {
    "collapsed": false
   },
   "outputs": [
    {
     "name": "stdout",
     "output_type": "stream",
     "text": [
      "Populating the interactive namespace from numpy and matplotlib\n"
     ]
    }
   ],
   "source": [
    "%pylab inline\n",
    "import time\n",
    "import numpy as np\n",
    "import matplotlib.pyplot as plt\n",
    "from utils import img_utils\n",
    "import seaborn as sns\n",
    "import utils.math_utils as mu\n",
    "import nibabel as nib\n",
    "\n",
    "\n",
    "def load_subject_medium(index, numbers, bval=None, bvalpos=None ):\n",
    "    subject = str(numbers[index])\n",
    "    folder = './HCP/'+subject+'/'\n",
    "    bvals = np.loadtxt(folder+ 'bvals_'+subject)\n",
    "    bvecs = np.loadtxt(folder+'bvecs_'+subject)\n",
    "    \n",
    "    if bvalpos is not None:\n",
    "        img = nib.load(folder+ 'data_medium40g_12x12x12x40_'+subject+'_b'+str(bval)+'.nii.gz')\n",
    "        bsize=min(len(bvalpos), img.shape[3])\n",
    "        gtab = gradient_table(bvals=bvals[bvalpos[:bsize]], bvecs=bvecs[:,bvalpos[:bsize]])\n",
    "    else:\n",
    "        img = nib.load(folder+ 'data_medium40g_12x12x12x40_'+subject+'.nii.gz')\n",
    "        bsize = img.shape[3]\n",
    "        gtab = gradient_table(bvals=bvals[:bsize], bvecs=bvecs[:,:bsize])\n",
    "    return img, gtab\n",
    "\n",
    "\n",
    "def load_subject_small(index, numbers, bval=None, bvalpos=None ):\n",
    "    subject = str(numbers[index])\n",
    "    folder = './HCP/'+subject+'/'\n",
    "    bvals = np.loadtxt(folder+ 'bvals_'+subject)\n",
    "    bvecs = np.loadtxt(folder+'bvecs_'+subject)\n",
    "    \n",
    "    if bvalpos is not None:\n",
    "        img = nib.load(folder+ 'data_small_12x12x12x6_'+subject+'_b'+str(bval)+'.nii.gz')\n",
    "        bsize=min(len(bvalpos), img.shape[3])\n",
    "        gtab = gradient_table(bvals=bvals[bvalpos[:bsize]], bvecs=bvecs[:,bvalpos[:bsize]])\n",
    "    else:\n",
    "        img = nib.load(folder+ 'data_small_12x12x12x6_'+subject+'.nii.gz')\n",
    "        bsize = img.shape[3]\n",
    "        gtab = gradient_table(bvals=bvals[:bsize], bvecs=bvecs[:,:bsize])\n",
    "    return img, gtab\n",
    "\n",
    "\n",
    "\n",
    "def mm(A):\n",
    "    return (int(A.min()), int(A.max()))\n"
   ]
  },
  {
   "cell_type": "markdown",
   "metadata": {},
   "source": [
    "## Loading subjects (12, 12, 12) 16 b-vals, 40 gradients"
   ]
  },
  {
   "cell_type": "code",
   "execution_count": 4,
   "metadata": {
    "collapsed": false
   },
   "outputs": [
    {
     "name": "stdout",
     "output_type": "stream",
     "text": [
      "(12, 12, 12, 6) (12, 12, 12, 40) bvals= [1985.0, 3010.0, 995.0, 5.0, 1990.0, 1000.0, 2985.0, 1995.0, 1005.0, 2990.0, 2000.0, 2995.0, 2005.0, 3000.0, 3005.0, 990.0]\n"
     ]
    },
    {
     "data": {
      "image/png": "[encoded data removed]",
      "text/plain": [
       "<matplotlib.figure.Figure at 0x7f3ad1a37810>"
      ]
     },
     "metadata": {},
     "output_type": "display_data"
    }
   ],
   "source": [
    "subjects = [100307, 100408, 180129, 180432, 180836, 180937]\n",
    "bvals2000pos = [18, 27, 69, 75, 101, 107]\n",
    "bvals5pos = [0,16,32,48,64,80,95,112,128,144,160,176,191,208,224,240,256,272]\n",
    "\n",
    "# Esto es para quedame con la gtab que es igua a todos\n",
    "img, gtab = load_subject_medium(0 , subjects)\n",
    "img_s0, gtab_s0 = load_subject_small(0, subjects, bval=5, bvalpos=bvals5pos[0:6])\n",
    "\n",
    "i_hr=img.get_data()\n",
    "S0 = img_s0.get_data()\n",
    "\n",
    "b=2\n",
    "img_utils._isc(S0, i_hr, b=b, vmin=S0.min(),  vmax=S0.max(), titles=['S0', 'S'+str(int(gtab.bvals[b]))])\n",
    "print S0.shape, i_hr.shape, 'bvals=',list(set(gtab.bvals))"
   ]
  },
  {
   "cell_type": "code",
   "execution_count": 44,
   "metadata": {
    "collapsed": false
   },
   "outputs": [
    {
     "name": "stdout",
     "output_type": "stream",
     "text": [
      "mu.shape (3,)\n",
      "Corig.shape (12, 12, 12, 22)\n",
      "Morig.shape (40, 22)\n",
      "Tau 0.0253302959106\n"
     ]
    }
   ],
   "source": [
    "\n",
    "def getM(radial_order, mu, gtab, tau):\n",
    "    r'''Recovers the reconstructed signal for any qvalue array or\n",
    "        gradient table.\n",
    "        '''\n",
    "    qvals = np.sqrt(gtab.bvals / tau) / (2 * np.pi)\n",
    "    q = qvals[:, None] * gtab.bvecs\n",
    "    M = mp.mapmri_isotropic_phi_matrix(radial_order, mu[0], q)\n",
    "    return  M\n",
    "\n",
    "\n",
    "\"\"\"\n",
    "Asi tal cual me sugerio Rutger que invoque a los parametros\n",
    "\"\"\"\n",
    "reload(mp)\n",
    "radial_order = 4\n",
    "#Fiteo el model\n",
    "map_model = mp.MapmriModel(gtab,\n",
    "                            radial_order=radial_order,\n",
    "                            laplacian_regularization=True,\n",
    "                            laplacian_weighting=0.2,\n",
    "                            anisotropic_scaling=False,\n",
    "                            dti_scale_estimation=False)\n",
    "# Fiteo la data\n",
    "map_model_fit = map_model.fit(i_hr)\n",
    "tau = map_model.tau\n",
    "mu = map_model_fit.mu[0,0,0]\n",
    "print 'mu.shape', mu.shape\n",
    "Morig = getM(radial_order, mu, gtab, tau)\n",
    "Corig = map_model_fit.mapmri_coeff\n",
    "print 'Corig.shape', Corig.shape\n",
    "print 'Morig.shape', Morig.shape\n",
    "print 'Tau', tau"
   ]
  },
  {
   "cell_type": "code",
   "execution_count": 155,
   "metadata": {
    "collapsed": false
   },
   "outputs": [
    {
     "name": "stdout",
     "output_type": "stream",
     "text": [
      "Eq_recons desp div S0 max min (-338, 13193)\n"
     ]
    }
   ],
   "source": [
    "reload(mp)\n",
    "\n",
    "def mypredictBKP(gtab, C, M, tau):\n",
    "    qvals = np.sqrt(gtab.bvals / tau) / (2 * np.pi)\n",
    "    q = qvals[:, None] * gtab.bvecs\n",
    "    Nb, Nc = M.shape \n",
    "    Nx, Ny, Nz, Nc = C.shape \n",
    "    vhr = Nx*Ny*Nz\n",
    "    vhrb = vhr*Nb\n",
    "    Cvec = C.reshape((Nx*Ny*Nz, Nc), order='F')\n",
    "    E = np.dot(M, Cvec.T).T.reshape((Nx, Ny, Nz,Nb), order='F')\n",
    "    return E\n",
    "\n",
    "def mypredict(gtab, C_or_Cvec, M, tau):\n",
    "    is_cvxpy = isinstance(C_or_Cvec, cvx.Variable)\n",
    "    qvals = np.sqrt(gtab.bvals / tau) / (2 * np.pi)\n",
    "    q = qvals[:, None] * gtab.bvecs\n",
    "    Nb, Nc = M.shape\n",
    "    Nx, Ny, Nz, Nc = C.shape if hasattr(C, 'shape') else C.size\n",
    "    vhr = Nx*Ny*Nz\n",
    "    vhrb = vhr*Nb\n",
    "    \n",
    "    Cvec = C_or_Cvec\n",
    "    if not is_cvxpy :\n",
    "        Cvec = C.reshape((Nx*Ny*Nz, Nc), order='F')\n",
    "        \n",
    "    #E = np.dot(M, Cvec.T).T\n",
    "    \n",
    "    if is_cvxpy :\n",
    "        E = (M * Cvec.T)\n",
    "    else:\n",
    "        E = np.dot(M, Cvec.T).T\n",
    "        \n",
    "    if not is_cvxpy :\n",
    "        E = E.reshape((Nx, Ny, Nz,Nb), order='F')\n",
    "    #else:\n",
    "    #    E = E.reshape(-1, order='F')\n",
    "        \n",
    "    return E\n",
    "\n",
    "# Predict con el C de rutger\n",
    "Eq_reconst_orig = mypredict(gtab, Corig, Morig, tau)\n",
    "\n",
    "#for b in xrange(Eq_reconst_orig.shape[3]):\n",
    "#    Eq_reconst_orig[:,:,:,b] = Eq_reconst_orig[:,:,:,b]*S0.mean(axis=3)\n",
    "\n",
    "print 'Eq_recons desp div S0 max min', mm(Eq_reconst_orig)"
   ]
  },
  {
   "cell_type": "markdown",
   "metadata": {},
   "source": [
    "# Compare predit and signal"
   ]
  },
  {
   "cell_type": "code",
   "execution_count": 156,
   "metadata": {
    "collapsed": false
   },
   "outputs": [
    {
     "name": "stdout",
     "output_type": "stream",
     "text": [
      "(0, 871)\n",
      "Error relativo max,min u std (0, 195) 0 0\n"
     ]
    },
    {
     "data": {
      "text/plain": [
       "<module 'matplotlib.pyplot' from '/user/lgomez/home/anaconda2/lib/python2.7/site-packages/matplotlib/pyplot.pyc'>"
      ]
     },
     "execution_count": 156,
     "metadata": {},
     "output_type": "execute_result"
    },
    {
     "data": {
      "image/png": "[encoded data removed]",
      "text/plain": [
       "<matplotlib.figure.Figure at 0x7f3aa713c250>"
      ]
     },
     "metadata": {},
     "output_type": "display_data"
    }
   ],
   "source": [
    "err_mapmrifit = np.abs(Eq_reconst_orig - i_hr)\n",
    "err_rel_mapmrifit = np.divide(err_mapmrifit, i_hr+1)#para q no de infinito\n",
    "\n",
    "print mm(err_mapmrifit) \n",
    "print 'Error relativo max,min u std', mm(err_rel_mapmrifit), int(err_rel_mapmrifit.mean()), \\\n",
    "                                      int(np.std(err_rel_mapmrifit)) \n",
    "\n",
    "img_utils._isc(i_hr, Eq_reconst_orig,b=b, vmin=0, vmax=i_hr.max(), titles=['Eq', 'predict(q)'])\n"
   ]
  },
  {
   "cell_type": "markdown",
   "metadata": {},
   "source": [
    "## Calculo C con optimizacion"
   ]
  },
  {
   "cell_type": "code",
   "execution_count": 152,
   "metadata": {
    "collapsed": false
   },
   "outputs": [],
   "source": [
    "import cvxpy as cvx\n",
    "\n",
    "def define_opt_problem(i_hr, gtab, M, tau, Nc, S0):\n",
    "    Nx, Ny, Nz, bval = i_hr.shape\n",
    "    vhr = Nx*Ny*Nz\n",
    "    vhrb = vhr*bval\n",
    "    \n",
    "    # Image to fit\n",
    "    Yhr = cvx.Parameter(vhrb, 1)\n",
    "    Yhr.value = i_hr.reshape(-1, order='F')\n",
    "\n",
    "    ## MAPL params\n",
    "    #cvxM = cvx.Parameter(bval, Nc)\n",
    "    #cvxM.value = M\n",
    "    \n",
    "    #tau = mapl_parameters(gtab)\n",
    "    cvxC = cvx.Variable(vhr, Nc)\n",
    "\n",
    "    #if S0 is None:\n",
    "    #    cvxS0 = cvx.Parameter(vhr)\n",
    "    #    cvxS0.value = np.ones((vhr, 1), dtype='float')*100\n",
    "    #else:\n",
    "    #    cvxS0 = cvx.Parameter(vhr)\n",
    "    #    cvxS0.value = S0.reshape(-1, order='F')\n",
    "    \n",
    "    cvxE = mypredict(gtab, cvxC, M, tau)\n",
    "    print 'E.size', cvxE.size\n",
    "    \n",
    "    alpha = cvx.Parameter(value=.62, sign='positive')\n",
    "    \n",
    "    # En el codigo original las var si se pueden resizear\n",
    "    YhrMap = cvx.Parameter(vhr,bval)\n",
    "    YhrMap = i_hr.reshape((vhr,bval), order='F').T\n",
    "    \n",
    "    ## objective\n",
    "    obj = cvx.Minimize(cvx.sum_squares(cvxE-YhrMap) + alpha*cvx.norm1(cvxC))\n",
    "\n",
    "    ## some constraints\n",
    "    # pos_cons =[ cvxM*cvxC[i,:].T >= 0  for i in xrange(vhr) ]\n",
    "    # max_cons =[ cvxM*cvxC[i,:].T*cvxS0[i] <= i_hr.max() for i in xrange(vhr) ]\n",
    "\n",
    "    prob = cvx.Problem(obj)#\n",
    "\n",
    "    print 'Problema definido Definido ', datetime.datetime.now()\n",
    "    \n",
    "    return prob, cvxM, cvxC"
   ]
  },
  {
   "cell_type": "code",
   "execution_count": 138,
   "metadata": {
    "collapsed": false
   },
   "outputs": [
    {
     "name": "stdout",
     "output_type": "stream",
     "text": [
      "E.size (40, 1728)\n",
      "Problema definido Definido  2016-08-25 19:51:12.396531\n",
      "----------------------------------------------------------------------------\n",
      "\tSCS v1.2.6 - Splitting Conic Solver\n",
      "\t(c) Brendan O'Donoghue, Stanford University, 2012-2016\n",
      "----------------------------------------------------------------------------\n",
      "Lin-sys: sparse-indirect, nnz in A = 1672706, CG tol ~ 1/iter^(2.00)\n",
      "eps = 1.00e-02, alpha = 1.50, max_iters = 1000, normalize = 1, scale = 1.00\n",
      "Variables n = 76033, constraints m = 145154\n",
      "Cones:\tlinear vars: 76032\n",
      "\tsoc vars: 69122, soc blks: 1\n",
      "Setup time: 8.31e-02s\n",
      "----------------------------------------------------------------------------\n",
      " Iter | pri res | dua res | rel gap | pri obj | dua obj | kap/tau | time (s)\n",
      "----------------------------------------------------------------------------\n",
      "     0|      inf       inf      -nan      -inf       inf       inf  1.31e-01 \n",
      "   100| 6.44e-02  8.69e-03  8.88e-03  2.23e+05  2.27e+05  2.54e-11  5.19e+00 \n",
      "   200| 6.76e-02  4.73e-03  1.81e-03  4.69e+05  4.71e+05  2.60e-11  1.09e+01 \n",
      "   300| 6.82e-02  3.19e-03  5.81e-04  7.20e+05  7.21e+05  3.04e-11  1.67e+01 \n",
      "   400| 6.85e-02  2.41e-03  2.08e-04  9.71e+05  9.71e+05  2.77e-11  2.27e+01 \n",
      "   500| 6.85e-02  1.96e-03  5.98e-05  1.22e+06  1.22e+06  2.20e-11  2.90e+01 \n",
      "   600| 6.86e-02  1.67e-03  7.98e-06  1.47e+06  1.47e+06  3.20e-11  3.54e+01 \n",
      "   700| 6.86e-02  1.46e-03  4.16e-05  1.73e+06  1.73e+06  2.20e-11  4.17e+01 \n",
      "   800| 6.86e-02  1.31e-03  5.89e-05  1.98e+06  1.98e+06  2.89e-11  4.82e+01 \n",
      "   900| 6.86e-02  1.20e-03  6.78e-05  2.23e+06  2.23e+06  3.67e-11  5.46e+01 \n",
      "  1000| 6.86e-02  1.12e-03  7.20e-05  2.48e+06  2.48e+06  2.27e-11  6.08e+01 \n",
      "----------------------------------------------------------------------------\n",
      "Status: Solved/Inaccurate\n",
      "Hit max_iters, solution may be inaccurate\n",
      "Timing: Solve time: 6.08e+01s\n",
      "\tLin-sys: avg # CG iterations: 8.48, avg solve time: 5.76e-02s\n",
      "\tCones: avg projection time: 3.24e-04s\n",
      "----------------------------------------------------------------------------\n",
      "Error metrics:\n",
      "dist(s, K) = 2.3283e-10, dist(y, K*) = 1.3642e-12, s'y/|s||y| = -5.6894e-15\n",
      "|Ax + s - b|_2 / (1 + |b|_2) = 6.8594e-02\n",
      "|A'y + c|_2 / (1 + |c|_2) = 1.1173e-03\n",
      "|c'x + b'y| / (1 + |c'x| + |b'y|) = 7.1959e-05\n",
      "----------------------------------------------------------------------------\n",
      "c'x = 2479299.6447, -b'y = 2478942.8531\n",
      "============================================================================\n",
      "--- time of optimization : 1' 2'' ---\n",
      "--- status: optimal_inaccurate optimal value 2479299.64466\n",
      "\n",
      "|C| = 167033.0\n",
      "minimzation op_val = 2479299.64466\n"
     ]
    }
   ],
   "source": [
    "Nb=22 # 4 --> 22, 6 --> 50\n",
    "Nx, Ny, Nz, bval = i_hr.shape\n",
    "vhr = Nx*Ny*Nz\n",
    "vhrb = vhr*bval\n",
    "\n",
    "prob, cvxM, cvxC = define_opt_problem(i_hr, gtab, Morig, tau, Nb, S0.mean(axis=3))\n",
    "\n",
    "# Solve problem\n",
    "start_time = time.time()\n",
    "res = prob.solve(solver='SCS', max_iters=1000, eps=1.00e-02, verbose=True)  # Returns the optimal value.\n",
    "seg = time.time() - start_time\n",
    "minutes = int(seg / 60)\n",
    "print(\"--- time of optimization : %d' %d'' ---\" % (minutes , seg%60))\n",
    "print \"--- status:\", prob.status, \"optimal value\", prob.value\n",
    "print \n",
    "\n",
    "# Change dimension of result representation\n",
    "if cvxC.value is None :\n",
    "    print 'FRECONSTRUCTION FAIL :('\n",
    "\n",
    "C = np.asarray(cvxC.value, dtype='float32').reshape((Nx, Ny, Nz,Nb), order='F')\n",
    "    \n",
    "print '|C| =', np.linalg.norm(C)\n",
    "print 'minimzation op_val =', prob.value"
   ]
  },
  {
   "cell_type": "code",
   "execution_count": 157,
   "metadata": {
    "collapsed": false
   },
   "outputs": [
    {
     "name": "stdout",
     "output_type": "stream",
     "text": [
      "(0, 871)\n",
      "Error relativo max,min u std (0, 195) 0 0\n"
     ]
    },
    {
     "data": {
      "text/plain": [
       "((-338, 13193), (-338, 13193))"
      ]
     },
     "execution_count": 157,
     "metadata": {},
     "output_type": "execute_result"
    },
    {
     "data": {
      "image/png": "[encoded data removed]",
      "text/plain": [
       "<matplotlib.figure.Figure at 0x7f3ace21f890>"
      ]
     },
     "metadata": {},
     "output_type": "display_data"
    }
   ],
   "source": [
    "# Predict con el C de rutger\n",
    "Eq_reconst = mypredict(gtab, C, Morig, tau)\n",
    "\n",
    "\"\"\"ACORDATE!!!\n",
    "la que te da cvxpy ya viene multiplicada por S0 ( es decir es la senial no la atenuacion)\n",
    "la de rutger te da la atenuacion \n",
    "\"\"\"\n",
    "#for b in xrange(Eq_reconst.shape[3]):\n",
    "#    Eq_reconst[:,:,:,b] = Eq_reconst[:,:,:,b]*S0.mean(axis=3)\n",
    "\n",
    "\n",
    "err = np.abs(Eq_reconst - i_hr)\n",
    "err_rel = np.divide(err, i_hr+1)#para q no de infinito\n",
    "\n",
    "print mm(err) \n",
    "print 'Error relativo max,min u std', mm(err_rel), int(err_rel.mean()), \\\n",
    "                                      int(np.std(err_rel)) \n",
    "\n",
    "img_utils._isc(Eq_reconst_orig, Eq_reconst, b=b, vmin=0, vmax=Eq_reconst.max(), titles=['Eq rutger', 'Eq cvxpy'])\n",
    "mm(Eq_reconst_orig), mm(Eq_reconst)"
   ]
  },
  {
   "cell_type": "code",
   "execution_count": 151,
   "metadata": {
    "collapsed": false
   },
   "outputs": [
    {
     "data": {
      "text/plain": [
       "((0, 13620), (-338, 13193))"
      ]
     },
     "execution_count": 151,
     "metadata": {},
     "output_type": "execute_result"
    },
    {
     "data": {
      "image/png": "[encoded data removed]",
      "text/plain": [
       "<matplotlib.figure.Figure at 0x7f3aa71f4d90>"
      ]
     },
     "metadata": {},
     "output_type": "display_data"
    }
   ],
   "source": [
    "img_utils._isc(i_hr, Eq_reconst,b=b, vmin=0, vmax=i_hr.max(), titles=['i_hr', 'Eq cvxpy'])\n",
    "mm(i_hr), mm(Eq_reconst)"
   ]
  },
  {
   "cell_type": "markdown",
   "metadata": {},
   "source": [
    "## Compare C "
   ]
  },
  {
   "cell_type": "code",
   "execution_count": 141,
   "metadata": {
    "collapsed": false
   },
   "outputs": [
    {
     "name": "stdout",
     "output_type": "stream",
     "text": [
      "|dif_c| min/max: 166997 (0, 5253)\n",
      "|C| |Corig|: 167033 52\n",
      "ecm : 733590.88186\n"
     ]
    }
   ],
   "source": [
    "dif_c = np.abs(C - map_model_fit.mapmri_coeff)\n",
    "ecm_c = ((C - map_model_fit.mapmri_coeff)**2).mean()\n",
    "\n",
    "print '|dif_c| min/max:', int(np.linalg.norm(dif_c)), mm(dif_c) \n",
    "print '|C| |Corig|:',  int(np.linalg.norm(C)), int(np.linalg.norm(map_model_fit.mapmri_coeff))\n",
    "print 'ecm :', ecm_c"
   ]
  },
  {
   "cell_type": "code",
   "execution_count": 132,
   "metadata": {
    "collapsed": false
   },
   "outputs": [
    {
     "data": {
      "text/plain": [
       "(array([   403.,   8563.,  26623.,    576.,    179.,    167.,    136.,\n",
       "           273.,    998.,     98.]),\n",
       " array([-1375.03234863,  -712.08585205,   -49.13935547,   613.80714111,\n",
       "         1276.7536377 ,  1939.70013428,  2602.64663086,  3265.59312744,\n",
       "         3928.53962402,  4591.48612061,  5254.43261719]),\n",
       " <a list of 10 Patch objects>)"
      ]
     },
     "execution_count": 132,
     "metadata": {},
     "output_type": "execute_result"
    },
    {
     "data": {
      "image/png": "[encoded data removed]",
      "text/plain": [
       "<matplotlib.figure.Figure at 0x7f3ac5fb5290>"
      ]
     },
     "metadata": {},
     "output_type": "display_data"
    }
   ],
   "source": [
    "hist(C.flatten())"
   ]
  },
  {
   "cell_type": "code",
   "execution_count": 120,
   "metadata": {
    "collapsed": false
   },
   "outputs": [
    {
     "data": {
      "text/plain": [
       "(array([  2.00000000e+00,   2.00000000e+01,   1.55000000e+02,\n",
       "          2.77000000e+02,   3.57770000e+04,   1.27200000e+03,\n",
       "          3.62000000e+02,   1.32000000e+02,   1.70000000e+01,\n",
       "          2.00000000e+00]),\n",
       " array([-3.04472989, -2.34913615, -1.65354242, -0.95794869, -0.26235496,\n",
       "         0.43323877,  1.1288325 ,  1.82442623,  2.52001996,  3.21561369,\n",
       "         3.91120743]),\n",
       " <a list of 10 Patch objects>)"
      ]
     },
     "execution_count": 120,
     "metadata": {},
     "output_type": "execute_result"
    },
    {
     "data": {
      "image/png": "[encoded data removed]",
      "text/plain": [
       "<matplotlib.figure.Figure at 0x7f3ace5291d0>"
      ]
     },
     "metadata": {},
     "output_type": "display_data"
    }
   ],
   "source": [
    "hist( map_model_fit.mapmri_coeff.flatten())"
   ]
  },
  {
   "cell_type": "markdown",
   "metadata": {},
   "source": [
    "# Compare Ms\n"
   ]
  },
  {
   "cell_type": "code",
   "execution_count": 7,
   "metadata": {
    "collapsed": false
   },
   "outputs": [
    {
     "ename": "NameError",
     "evalue": "name 'M' is not defined",
     "output_type": "error",
     "traceback": [
      "\u001b[1;31m---------------------------------------------------------------------------\u001b[0m",
      "\u001b[1;31mNameError\u001b[0m                                 Traceback (most recent call last)",
      "\u001b[1;32m<ipython-input-7-59da97129388>\u001b[0m in \u001b[0;36m<module>\u001b[1;34m()\u001b[0m\n\u001b[1;32m----> 1\u001b[1;33m \u001b[1;32mprint\u001b[0m \u001b[0mM\u001b[0m\u001b[1;33m.\u001b[0m\u001b[0mshape\u001b[0m\u001b[1;33m,\u001b[0m \u001b[0mMorig\u001b[0m\u001b[1;33m.\u001b[0m\u001b[0mshape\u001b[0m\u001b[1;33m\u001b[0m\u001b[0m\n\u001b[0m\u001b[0;32m      2\u001b[0m \u001b[1;33m\u001b[0m\u001b[0m\n\u001b[0;32m      3\u001b[0m \u001b[0mmses\u001b[0m \u001b[1;33m=\u001b[0m \u001b[1;33m[\u001b[0m\u001b[1;33m]\u001b[0m\u001b[1;33m\u001b[0m\u001b[0m\n\u001b[0;32m      4\u001b[0m \u001b[1;32mfor\u001b[0m \u001b[0mi\u001b[0m \u001b[1;32min\u001b[0m \u001b[0mxrange\u001b[0m\u001b[1;33m(\u001b[0m\u001b[1;36m12\u001b[0m\u001b[1;33m)\u001b[0m\u001b[1;33m:\u001b[0m\u001b[1;33m\u001b[0m\u001b[0m\n\u001b[0;32m      5\u001b[0m     \u001b[1;32mfor\u001b[0m \u001b[0mj\u001b[0m \u001b[1;32min\u001b[0m \u001b[0mxrange\u001b[0m\u001b[1;33m(\u001b[0m\u001b[1;36m12\u001b[0m\u001b[1;33m)\u001b[0m\u001b[1;33m:\u001b[0m\u001b[1;33m\u001b[0m\u001b[0m\n",
      "\u001b[1;31mNameError\u001b[0m: name 'M' is not defined"
     ]
    }
   ],
   "source": [
    "print M.shape, Morig.shape\n",
    "\n",
    "mses = []\n",
    "for i in xrange(12):\n",
    "    for j in xrange(12):\n",
    "        for k in xrange(12):\n",
    "            ((Morig[i,j,k]-M)**2).mean()\n",
    "            \n",
    "print len(mses), sum(mses), sum(mses)/len(mses)\n",
    "hist((Morig[0,1,0]-M).flatten())\n"
   ]
  },
  {
   "cell_type": "code",
   "execution_count": 26,
   "metadata": {
    "collapsed": false
   },
   "outputs": [
    {
     "ename": "NameError",
     "evalue": "name 'Eq_reconst' is not defined",
     "output_type": "error",
     "traceback": [
      "\u001b[1;31m---------------------------------------------------------------------------\u001b[0m",
      "\u001b[1;31mNameError\u001b[0m                                 Traceback (most recent call last)",
      "\u001b[1;32m<ipython-input-26-250dc566e658>\u001b[0m in \u001b[0;36m<module>\u001b[1;34m()\u001b[0m\n\u001b[1;32m----> 1\u001b[1;33m \u001b[0mmses\u001b[0m \u001b[1;33m=\u001b[0m \u001b[1;33m(\u001b[0m\u001b[1;33m(\u001b[0m\u001b[0mEq_reconst\u001b[0m \u001b[1;33m-\u001b[0m \u001b[0mEq_reconst_orig\u001b[0m\u001b[1;33m)\u001b[0m\u001b[1;33m**\u001b[0m\u001b[1;36m2\u001b[0m\u001b[1;33m)\u001b[0m\u001b[1;33m/\u001b[0m\u001b[1;36m2\u001b[0m\u001b[1;33m\u001b[0m\u001b[0m\n\u001b[0m\u001b[0;32m      2\u001b[0m \u001b[1;32mprint\u001b[0m \u001b[0mmm\u001b[0m\u001b[1;33m(\u001b[0m\u001b[0mmses\u001b[0m\u001b[1;33m)\u001b[0m\u001b[1;33m,\u001b[0m \u001b[0mmses\u001b[0m\u001b[1;33m.\u001b[0m\u001b[0mshape\u001b[0m\u001b[1;33m\u001b[0m\u001b[0m\n\u001b[0;32m      3\u001b[0m \u001b[0mres\u001b[0m \u001b[1;33m=\u001b[0m \u001b[0mimg_utils\u001b[0m\u001b[1;33m.\u001b[0m\u001b[0m_isc3\u001b[0m\u001b[1;33m(\u001b[0m\u001b[0mEq_reconst\u001b[0m\u001b[1;33m,\u001b[0m\u001b[0mEq_reconst_orig\u001b[0m\u001b[1;33m,\u001b[0m \u001b[0mmses\u001b[0m\u001b[1;33m,\u001b[0m \u001b[0mvmax\u001b[0m\u001b[1;33m=\u001b[0m\u001b[0mEq_reconst\u001b[0m\u001b[1;33m.\u001b[0m\u001b[0mmax\u001b[0m\u001b[1;33m(\u001b[0m\u001b[1;33m)\u001b[0m\u001b[1;33m,\u001b[0m \u001b[0mtitles\u001b[0m\u001b[1;33m=\u001b[0m\u001b[1;33m[\u001b[0m\u001b[1;34m'recons'\u001b[0m\u001b[1;33m,\u001b[0m \u001b[1;34m'orig'\u001b[0m\u001b[1;33m,\u001b[0m \u001b[1;34m'mse'\u001b[0m\u001b[1;33m]\u001b[0m\u001b[1;33m)\u001b[0m\u001b[1;33m\u001b[0m\u001b[0m\n\u001b[0;32m      4\u001b[0m \u001b[0mres\u001b[0m\u001b[1;33m[\u001b[0m\u001b[1;36m0\u001b[0m\u001b[1;33m]\u001b[0m\u001b[1;33m.\u001b[0m\u001b[0mclim\u001b[0m\u001b[1;33m(\u001b[0m\u001b[0mmm\u001b[0m\u001b[1;33m(\u001b[0m\u001b[0mmses\u001b[0m\u001b[1;33m)\u001b[0m\u001b[1;33m)\u001b[0m\u001b[1;33m\u001b[0m\u001b[0m\n",
      "\u001b[1;31mNameError\u001b[0m: name 'Eq_reconst' is not defined"
     ]
    }
   ],
   "source": [
    "mses = ((Eq_reconst - Eq_reconst_orig)**2)/2\n",
    "print mm(mses), mses.shape\n",
    "res = img_utils._isc3(Eq_reconst,Eq_reconst_orig, mses, vmax=Eq_reconst.max(), titles=['recons', 'orig', 'mse'])\n",
    "res[0].clim(mm(mses))"
   ]
  },
  {
   "cell_type": "code",
   "execution_count": 31,
   "metadata": {
    "collapsed": false
   },
   "outputs": [
    {
     "data": {
      "text/plain": [
       "(array([ 43406.,  21391.,   1359.,   1428.,    405.,    312.,    330.,\n",
       "           225.,    201.,     63.]),\n",
       " array([  -136.37439124,   1219.30785661,   2574.99010445,   3930.67235229,\n",
       "          5286.35460013,   6642.03684797,   7997.71909581,   9353.40134366,\n",
       "         10709.0835915 ,  12064.76583934,  13420.44808718]),\n",
       " <a list of 10 Patch objects>)"
      ]
     },
     "execution_count": 31,
     "metadata": {},
     "output_type": "execute_result"
    },
    {
     "data": {
      "image/png": "[encoded data removed]",
      "text/plain": [
       "<matplotlib.figure.Figure at 0x7fad81a48090>"
      ]
     },
     "metadata": {},
     "output_type": "display_data"
    }
   ],
   "source": [
    "hist(Eq_reconst_orig.flatten())"
   ]
  },
  {
   "cell_type": "code",
   "execution_count": 32,
   "metadata": {
    "collapsed": false
   },
   "outputs": [
    {
     "data": {
      "text/plain": [
       "(array([  4.48620000e+04,   1.41090000e+04,   6.37000000e+03,\n",
       "          1.92900000e+03,   8.01000000e+02,   5.45000000e+02,\n",
       "          3.95000000e+02,   9.50000000e+01,   9.00000000e+00,\n",
       "          5.00000000e+00]),\n",
       " array([  -252.79449463,   1347.48573608,   2947.7659668 ,   4548.04619751,\n",
       "          6148.32642822,   7748.60665894,   9348.88688965,  10949.16712036,\n",
       "         12549.44735107,  14149.72758179,  15750.0078125 ]),\n",
       " <a list of 10 Patch objects>)"
      ]
     },
     "execution_count": 32,
     "metadata": {},
     "output_type": "execute_result"
    },
    {
     "data": {
      "image/png": "[encoded data removed]",
      "text/plain": [
       "<matplotlib.figure.Figure at 0x7fad81776810>"
      ]
     },
     "metadata": {},
     "output_type": "display_data"
    }
   ],
   "source": [
    "hist(Eq_reconst.flatten())"
   ]
  },
  {
   "cell_type": "markdown",
   "metadata": {},
   "source": [
    "# DTI 3d (intento)"
   ]
  },
  {
   "cell_type": "code",
   "execution_count": null,
   "metadata": {
    "collapsed": false
   },
   "outputs": [],
   "source": [
    "\n",
    "Yhr_vxb = cvx.Parameter(vhr,Nb)\n",
    "Yhr_vxb.value = i_hr.reshape(-1, order='F').reshape(vhr,Nb)\n",
    "\n",
    "## Dti params\n",
    "Nb = gtab.bvals.shape[0]\n",
    "cvBvals = cvx.Parameter(Nb)\n",
    "cvBvals.value = gtab.bvals\n",
    "cvBvecs = cvx.Parameter(Nb,3)\n",
    "cvBvecs.value = gtab.bvecs\n",
    "\n",
    "Ds = [ cvx.Semidef(3) for i in xrange(vhr)]\n",
    "cvB = cvx.diag(cvBvals)*cvBvecs # (bval, 3)\n",
    "\n",
    "BDBs = [cvx.diag(cvB*Ds[i]*cvB.T) for i in xrange(vhr)]\n",
    "\n",
    "#constraint = [cvB*Ds[i]*cvB.T >= 0 for i in xrange(vhr)]\n",
    "\n",
    "print 'BDBs', BDBs[0].size\n",
    "\n",
    "#v = cvx.Variable()#,0]\n",
    "#cvx.exp(v)\n",
    "\n",
    "print BDBs[0][1].size\n",
    "\n",
    "# Opcion B suma de cuadrados por cada voxel\n",
    "#dti_list = []\n",
    "#for i in xrange(vhr):\n",
    "    #Yi = Yhr[i:vhrb:vhr]\n",
    "    #dti_list = [ (cvx.inv_pos(cvx.exp(BDBs[i][b])) - Yi[b]) for b in xrange(bval)]\n",
    "    #dti_list = [ BDBs[i][b] + cvx.log(Yi[b]) for b in xrange(bval)]\n",
    "#dti = sum(dti_list, contraint)\n",
    "        \n",
    "prob = cvx.Problem(cvx.Minimize(cvx.sum_squares(BDBs[i][b] + cvx.log(Yhr_vxb))))\n",
    "print 'Problema definido Definido ', datetime.datetime.now()\n",
    "\n",
    "\n",
    "solvers = [\"SCS\"\n",
    "    \"GLPK\",\n",
    "        \"GLPK_MI\",\n",
    "        \"Elemental\",\n",
    "        \"ECOS\" ,\n",
    "        \"ECOS_BB\",\n",
    "        \"GUROBI\",\n",
    "        \"MOSEK\",\n",
    "        \"CVXOPT\",\n",
    "        \"SCS\"]\n",
    "\n",
    "# Solve problem\n",
    "for solver in solvers :\n",
    "    start_time = time.time()\n",
    "    resolvio = True\n",
    "    try:\n",
    "        res = prob.solve(solver=solver, max_iters=1000, eps=1.00e-02, verbose=True)  # Returns the optimal value.\n",
    "    except:\n",
    "        resolvio = False\n",
    "    seg = time.time() - start_time\n",
    "    minutes = int(seg / 60)\n",
    "    if resolvio :\n",
    "        print(\"---[%s] time of optimization : %d' %d'' ---\" % (solver, minutes , seg%60))\n",
    "        print \"--- status:\", prob.status, \"optimal value\", prob.value\n",
    "    else:\n",
    "        print solver, 'fail'\n",
    "    print \n",
    "\n",
    "# Change dimension of result representation\n",
    "if cvxC.value is None :\n",
    "    print 'FRECONSTRUCTION FAIL :('\n",
    "\n",
    "D = np.asarray(Ds.value, dtype='float32').reshape((Nx, Ny, Nz,3, 3), order='F')\n",
    "    \n"
   ]
  },
  {
   "cell_type": "code",
   "execution_count": 174,
   "metadata": {
    "collapsed": false
   },
   "outputs": [
    {
     "data": {
      "text/plain": [
       "<module 'matplotlib.pyplot' from '/user/lgomez/home/anaconda2/lib/python2.7/site-packages/matplotlib/pyplot.pyc'>"
      ]
     },
     "execution_count": 174,
     "metadata": {},
     "output_type": "execute_result"
    },
    {
     "data": {
      "image/png": "[encoded data removed]",
      "text/plain": [
       "<matplotlib.figure.Figure at 0x7f3acdd37cd0>"
      ]
     },
     "metadata": {},
     "output_type": "display_data"
    }
   ],
   "source": [
    "\n",
    "#tenmodel = dti.TensorModel(gtab)\n",
    "#tenfit = tenmodel.fit(i_hr)\n",
    "\n",
    "img_utils._is(i_hr)"
   ]
  }
 ],
 "metadata": {
  "kernelspec": {
   "display_name": "Python 2",
   "language": "python",
   "name": "python2"
  },
  "language_info": {
   "codemirror_mode": {
    "name": "ipython",
    "version": 2
   },
   "file_extension": ".py",
   "mimetype": "text/x-python",
   "name": "python",
   "nbconvert_exporter": "python",
   "pygments_lexer": "ipython2",
   "version": "2.7.12"
  }
 },
 "nbformat": 4,
 "nbformat_minor": 0
}
