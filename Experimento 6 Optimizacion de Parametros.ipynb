{
 "cells": [
  {
   "cell_type": "markdown",
   "metadata": {},
   "source": [
    "# Optimizacion de parametros"
   ]
  },
  {
   "cell_type": "code",
   "execution_count": 1,
   "metadata": {
    "collapsed": false
   },
   "outputs": [
    {
     "name": "stdout",
     "output_type": "stream",
     "text": [
      "Populating the interactive namespace from numpy and matplotlib\n"
     ]
    }
   ],
   "source": [
    "%pylab inline\n",
    "import time\n",
    "import numpy as np\n",
    "import matplotlib.pyplot as plt\n",
    "from utils import img_utils\n",
    "import seaborn as sns\n",
    "import utils.math_utils as mat_utils\n",
    "#import nibabel as nib\n",
    "#from dipy.core.gradients import gradient_table\n",
    "import cvxpy as cvx\n",
    "reload(img_utils)\n",
    "import load.hcp_img_loader as hcp\n",
    "from utils.persistance.persistence_array import parray\n"
   ]
  },
  {
   "cell_type": "code",
   "execution_count": 2,
   "metadata": {
    "collapsed": false
   },
   "outputs": [],
   "source": [
    "import mapmri.mapmri as mp\n",
    "import mymapl.minmapl as mapl\n",
    "import load.samples as samples\n",
    "\n",
    "def mm(A, cast_int=True):\n",
    "    if cast_int:\n",
    "        return (int(A.min()), int(A.max()))\n",
    "    else:\n",
    "        return (A.min(), A.max())\n"
   ]
  },
  {
   "cell_type": "markdown",
   "metadata": {},
   "source": [
    "## MapMri"
   ]
  },
  {
   "cell_type": "code",
   "execution_count": 3,
   "metadata": {
    "collapsed": false
   },
   "outputs": [],
   "source": [
    "import mymapl.minmapl as mapl\n"
   ]
  },
  {
   "cell_type": "markdown",
   "metadata": {},
   "source": [
    "# 3D Tv-Norm\n",
    "\n",
    "$ \\sum_{ijk \\in positions(I)} \\left|\\left| (I_{i,j,k}, I_{i,j,k}, I_{i,j,k}) - ( I_{i-1,j,k}, I_{i,j-1,k},  I_{i,j,k-1}) \\right|\\right| $"
   ]
  },
  {
   "cell_type": "code",
   "execution_count": 4,
   "metadata": {
    "collapsed": true
   },
   "outputs": [],
   "source": [
    "import optimization.tvnorm3d as tvn"
   ]
  },
  {
   "cell_type": "markdown",
   "metadata": {},
   "source": [
    "## Problem definition\n",
    "\n",
    "$ \\min_{C^{hr}} \\{ ||GC^{hr} - C^{lr}||^2  + ||C||_{1} \\}$\n"
   ]
  },
  {
   "cell_type": "code",
   "execution_count": 5,
   "metadata": {
    "collapsed": false
   },
   "outputs": [],
   "source": [
    "def define_problem_f1(c_lr, vhr, vlr, G, M, U, tau, gtab, scale, intercept=None):\n",
    "    Nx, Ny, Nz = (12, 12, 12)#TODO: pasar\n",
    "    Nb, Nc = M.shape\n",
    "    \n",
    "    ## LR volumes\n",
    "    Clr = c_lr\n",
    "    \n",
    "    ## MAPL params\n",
    "    #cvxChr = cvx.Constant(C_hr.reshape(-1, order='F'))\n",
    "    \n",
    "    cvxChr = cvx.Variable(vhr*Nc, name='cvxChr')\n",
    "    ChrValueInitial = np.ones((vhr*Nc, 1), dtype='float32')\n",
    "    for c in xrange(Nc): \n",
    "        c_offset_hr = c*vhr\n",
    "        ChrValueInitial[c_offset_hr:c_offset_hr+vhr] = ChrValueInitial[c_offset_hr:c_offset_hr+vhr]*Clr[c].mean()\n",
    "    cvxChr.value = ChrValueInitial\n",
    "    \n",
    "    ## Fidelity expression\n",
    "    cvxG = G\n",
    "    fidelity_list = []\n",
    "    lapace_list = []\n",
    "    for c in xrange(Nc):\n",
    "        c_offset_hr = c*vhr\n",
    "        Chr_c = cvxChr[c_offset_hr:c_offset_hr+vhr]\n",
    "        # Aprovecho para setearle un valor unicia\n",
    "        Gc = cvx.Constant(G[c])\n",
    "        Clr_c = cvx.Constant(Clr[c])\n",
    "        #Clr_c = cvx.Variable(Clr[c].shape[0], Clr[c].shape[1], name='Clr_'+str(c))\n",
    "\n",
    "        #       Gc:(216:vlr, 1728:vhr) Chr_c:(1728:vhr, 1) Clr_c:(1, 216:vlr)\n",
    "        if intercept is not None:\n",
    "            cvxInt_c = cvx.Constant(intercept[c])\n",
    "            #cvxInt_c:(vlr, 1)\n",
    "            fid_b = cvx.sum_squares((Gc*Chr_c+cvxInt_c) - Clr_c.T)\n",
    "        else:\n",
    "            fid_b = cvx.sum_squares(Gc*Chr_c - Clr_c.T)\n",
    "        \n",
    "        fidelity_list.append(fid_b)    \n",
    "    #cvxNc = cvx.Constant(Nc)\n",
    "    #cvxFidelityExp = cvx.inv_pos(cvxNc)*sum(fidelity_list)\n",
    "    cvxFidelityExp = sum(fidelity_list)\n",
    "    \n",
    "    ## Laplacian regularization\n",
    "    cvxU = cvx.Constant(U)\n",
    "    regLaplade_list = []\n",
    "    vhrc = vhr*Nc\n",
    "    for voxel in xrange(vhr):\n",
    "        cvxLapaceReg = cvx.quad_form(cvxChr[voxel:vhrc:vhr], cvxU)\n",
    "        regLaplade_list.append(cvxLapaceReg**2)\n",
    "    cvxLaplaceRegExp = sum(regLaplade_list)\n",
    "    \n",
    "    \n",
    "    ## 3D Tv-Norm Regularization\n",
    "    cvxC_byCoef = cvx.reshape(cvxChr, vhr, Nc)\n",
    "    # (Nb,Nc)*(Nc,vhr) = (Nb, vhr).T = (vhr, Nb) \n",
    "    cvxYhr = cvx.reshape((M*cvxC_byCoef.T).T, vhr*Nb, 1)\n",
    "    #vx3DTvNomExp = tvn.tv3d(cvxYhr, Nx, Ny, Nz, Nb)\n",
    "    \n",
    "    \n",
    "    #Sparcity regularization\n",
    "    cvxNorm1 = cvx.norm1(cvxChr)\n",
    "    \n",
    "    \n",
    "    ## Mapl weight\n",
    "    beta = cvx.Parameter(value=3*1.452e-15, name='beta', sign='positive')#3.197e-10\n",
    "    ## Sparcity weight\n",
    "    alpha = cvx.Parameter(value=1.627e-15, name='alpha', sign='positive')#4.865e-10\n",
    "    ## Fidelity weight\n",
    "    #gamma = cvx.Parameter(value=0.05, name='gamma',sign='positive')\n",
    "    lamda = cvx.Parameter(value=1., name='lamda',sign='positive')\n",
    "    ### AS VARIABLES\n",
    "    # beta = cvx.Variable(name='beta')\n",
    "    # beta.value = 0.2\n",
    "    ## Sparcity weight\n",
    "    # alpha = cvx.Variable(name='alpha')\n",
    "    # alpha.value = 4000\n",
    "    ## Fidelity weight\n",
    "    # gamma = cvx.Variable(name='gamma')\n",
    "    # lamda = cvx.Variable(name='lamda')\n",
    "    # lamda.value =0.5\n",
    "    \n",
    "    # Form objective.\n",
    "    #obj = cvx.Minimize(cvxFidelityExp + betha*cvxLapaceRegExp + alpha*cvx.norm(cvxChr) + gamma*cvx3DTvNomExp)\n",
    "    obj = cvx.Minimize(lamda*cvxFidelityExp + beta*cvxLaplaceRegExp + alpha*cvxNorm1)\n",
    "         \n",
    "    # Constraints\n",
    "    #constraints = [lamda > 0 , alpha > 0, beta > 0]\n",
    "    constraints = [cvxYhr >= 0]\n",
    "    #Agregar q M*C es positivo o deberia\n",
    "\n",
    "    # Form and solve problem.\n",
    "    prob = cvx.Problem(obj, constraints)\n",
    "    \n",
    "    return prob, cvxFidelityExp ,  cvxLaplaceRegExp , cvxNorm1\n"
   ]
  },
  {
   "cell_type": "code",
   "execution_count": 6,
   "metadata": {
    "collapsed": false
   },
   "outputs": [
    {
     "name": "stdout",
     "output_type": "stream",
     "text": [
      "\n"
     ]
    }
   ],
   "source": [
    "\"\"\"\n",
    "def solveMin(c_lr, i_hr_shape, G, M, U, tau, gtab, intercept=None, scale=2, max_iters=1500, verbose=False, prob=None):\n",
    "    Nx, Ny, Nz, Nb = i_hr_shape\n",
    "    Nb, Nc = M.shape\n",
    "    nx, ny, nz = Nx/scale, Ny/scale, Nz/scale \n",
    "    vhr, vlr = Nx*Ny*Nz, nx*ny*nz \n",
    "    \n",
    "    cvxFidelityExp ,  cvxLaplaceRegExp , cvxNorm1 = None, None, None\n",
    "    if prob is None :\n",
    "        prob, cvxFidelityExp ,  cvxLaplaceRegExp , cvxNorm1 = define_problem_with_mapl(\n",
    "                                    c_lr, \n",
    "                                    vhr, \n",
    "                                    vlr,\n",
    "                                    G, \n",
    "                                    M, U,tau,\n",
    "                                    gtab,\n",
    "                                    scale,\n",
    "                                    intercept=intercept)\n",
    "    \n",
    "    \n",
    "    \n",
    "    start_time = time.time()\n",
    "    res = prob.solve(solver='SCS', max_iters=max_iters, eps=1.0e-05, verbose=verbose )  # Returns the optimal value.\n",
    "    #res = prob.solve(solver='ECOS')  # Returns the optimal value.\n",
    "    \n",
    "    seg = time.time() - start_time\n",
    "\n",
    "    minutes = int(seg / 60)\n",
    "    print(\"--- time of optimization : %d' %d'' ---\" % (minutes , seg%60))\n",
    "    print \"--- status:\", prob.status, \"optimal value\", prob.value\n",
    "    print \n",
    "\n",
    "    variables = dict( (v.name(), v) for v in prob.variables())\n",
    "    #parameters = dict( (v.name(), v) for v in prob.parameters())\n",
    "    #print 'alpha=', variables['alpha'].value ,'beta=',  variables['beta'].value\n",
    "    print variables\n",
    "    #A, C = i_hr, C_hr\n",
    "    \n",
    "    cvxChr = variables['cvxChr']\n",
    "    # cvxChr: (vhrc, 1) M:(Nb,Nc)\n",
    "    \n",
    "    C = np.asarray(cvxChr.value, dtype='float32').reshape((Nx, Ny, Nz, Nc), order='F')\n",
    "\n",
    "    A = M.dot(C.reshape((Nx*Ny*Nz, Nc), order='F').T).T\n",
    "    A = A.reshape((Nx, Ny, Nz, Nb), order='F')\n",
    "    \n",
    "    print 'cvxFidelityExp', cvxFidelityExp.value   \n",
    "    print 'cvxLaplaceRegExp', cvxLaplaceRegExp.value\n",
    "    print 'cvxNorm1', cvxNorm1.value \n",
    "    \n",
    "    return A, C, seg, prob, cvxFidelityExp, cvxLaplaceRegExp , cvxNorm1\n",
    "\"\"\"\n",
    "print "
   ]
  },
  {
   "cell_type": "code",
   "execution_count": 7,
   "metadata": {
    "collapsed": false
   },
   "outputs": [],
   "source": [
    "def solveMin_fitCosnt(name_parameter, the_range, c_lr, i_hr, G, M, U, tau, gtab, intercept=None, scale=2, max_iters=1500, verbose=False, prob=None):\n",
    "    Nx, Ny, Nz, Nb = i_hr.shape\n",
    "    Nb, Nc = M.shape\n",
    "    nx, ny, nz = Nx/scale, Ny/scale, Nz/scale \n",
    "    vhr, vlr = Nx*Ny*Nz, nx*ny*nz \n",
    "    \n",
    "    cvxFidelityExp,  cvxLaplaceRegExp, cvxNorm1 = None, None, None\n",
    "        \n",
    "    b1000_index = indexs(gtab.bvals, 1000)\n",
    "    b2000_index = indexs(gtab.bvals, 2000)\n",
    "    b3000_index = indexs(gtab.bvals, 3000)\n",
    "    \n",
    "    base_folder = RES_BASE_FOLDER + name_parameter + '/'\n",
    "    measures = ['mse', 'mse1000', 'mse2000', 'mse3000']\n",
    "    info = dict((key, parray( base_folder + key + '_'+subject+'.txt')) for key in measures)\n",
    "    \n",
    "    #info = {'mse':parray(RES_BASE_FOLDER+'mse_'+the), 'mse1000':[],'mse2000':[],'mse3000':[]}\n",
    "    for val in the_range :\n",
    "        prob, cvxFidelityExp ,  cvxLaplaceRegExp , cvxNorm1 = define_problem_f1(\n",
    "                                    c_lr, \n",
    "                                    vhr, \n",
    "                                    vlr,\n",
    "                                    G, \n",
    "                                    M, U,tau,\n",
    "                                    gtab,\n",
    "                                    scale,\n",
    "                                    intercept=intercept)\n",
    "\n",
    "        parameters = dict( (v.name(), v) for v in prob.parameters())\n",
    "        parameters[name_parameter].value = val\n",
    "    \n",
    "        start_time = time.time()\n",
    "        res = prob.solve(solver='SCS', max_iters=max_iters, eps=1.0e-05, verbose=verbose )  # Returns the optimal value.\n",
    "        #res = prob.solve(solver='ECOS')  # Returns the optimal value.\n",
    "\n",
    "        seg = time.time() - start_time\n",
    "\n",
    "        minutes = int(seg / 60)\n",
    "        print(\"--- time of optimization : %d' %d'' ---\" % (minutes , seg%60))\n",
    "        print \"--- status:\", prob.status, \"optimal value\", prob.value\n",
    "        print \n",
    "\n",
    "        variables = dict( (v.name(), v) for v in prob.variables())\n",
    "        #parameters = dict( (v.name(), v) for v in prob.parameters())\n",
    "        #print 'alpha=', variables['alpha'].value ,'beta=',  variables['beta'].value\n",
    "        print variables\n",
    "        #A, C = i_hr, C_hr\n",
    "\n",
    "        cvxChr = variables['cvxChr']\n",
    "        # cvxChr: (vhrc, 1) M:(Nb,Nc)\n",
    "\n",
    "        C = np.asarray(cvxChr.value, dtype='float32').reshape((Nx, Ny, Nz, Nc), order='F')\n",
    "\n",
    "        A = M.dot(C.reshape((Nx*Ny*Nz, Nc), order='F').T).T\n",
    "        A = A.reshape((Nx, Ny, Nz, Nb), order='F')\n",
    "\n",
    "        mse = ((A-i_hr)**2).mean()\n",
    "        info['mse'].append(mse)\n",
    "        \n",
    "        mse = ((A[:, :, :, b1000_index]-i_hr[:, :, :, b1000_index])**2).mean()\n",
    "        info['mse1000'].append(mse)\n",
    "        \n",
    "        mse = ((A[:, :, :, b2000_index]-i_hr[:, :, :, b2000_index])**2).mean()\n",
    "        info['mse2000'].append(mse)\n",
    "        \n",
    "        mse = ((A[:, :, :, b3000_index]-i_hr[:, :, :, b3000_index])**2).mean()\n",
    "        info['mse3000'].append(mse)\n",
    "        \n",
    "        if cvxFidelityExp is not None:\n",
    "            print 'cvxFidelityExp', cvxFidelityExp.value\n",
    "        if cvxLaplaceRegExp is not None:\n",
    "            print 'cvxLaplaceRegExp', cvxLaplaceRegExp.value\n",
    "        if cvxNorm1 is not None:\n",
    "            print 'cvxNorm1', cvxNorm1.value \n",
    "\n",
    "    return A, C, seg, prob, cvxFidelityExp, cvxLaplaceRegExp , cvxNorm1, info\n",
    "\n",
    "def indexs(a, val):\n",
    "    return [ i for i in xrange(a.size) if a[i] == val]"
   ]
  },
  {
   "cell_type": "code",
   "execution_count": 8,
   "metadata": {
    "collapsed": false
   },
   "outputs": [],
   "source": [
    "\n",
    "def params_for(the_one_out, sample_maker, n_samples, loader_func, scale=2):\n",
    "    ## The one that left out to validate\n",
    "    \n",
    "    i_hr, i_lr, gtab = samples.get_sample_of_dwi(the_one_out, subjects, loader_func, scale=scale)\n",
    "    #C_hr, _, _ = samples.get_sample_of_mapl(the_one_out, subjects, loader_func, scale=scale)\n",
    "    \n",
    "    ### Aca shiftear el arreglo de sujetos (train deja el ultimo afuera del entrenamiento)\n",
    "    lr_samples, hr_samples = samples.buildT_grouping_by(sample_maker, n_samples) #lr, hr\n",
    "\n",
    "    # Build downsampling matrix\n",
    "    print '= Training and fiting ...'\n",
    "    regr, chr_train , clr_train, chr_test, clr_test, intercept = \\\n",
    "                e1f.train_grouping_by(hr_samples, lr_samples, intercept=True)\n",
    "    del(chr_train)\n",
    "    del(clr_train)\n",
    "    del(chr_test)\n",
    "    print 'clr_test[0].shape', clr_test[0].shape\n",
    "    \n",
    "    G = dict((c,csr_matrix(regr[c].coef_)) for c in regr.keys())\n",
    "    \n",
    "    # Mapl params\n",
    "    M, tau, mu, U = mapl.get_mapl_params2(gtab, radial_order = 4)\n",
    "    print 'U.shape', U.shape\n",
    "    \n",
    "    return i_hr, i_lr, gtab, G,intercept, M, tau, mu, U , clr_test\n",
    "    "
   ]
  },
  {
   "cell_type": "markdown",
   "metadata": {},
   "source": [
    "## Solving the problem and cross-validation (leave one out)"
   ]
  },
  {
   "cell_type": "code",
   "execution_count": 13,
   "metadata": {
    "collapsed": false
   },
   "outputs": [
    {
     "name": "stdout",
     "output_type": "stream",
     "text": [
      "== Leaving out: # 100307\n",
      "= Training and fiting ...\n",
      "clr_test[0].shape (1, 216)\n",
      "mu.shape (3,) [ 0.00595503  0.00595503  0.00595503]\n",
      "U.shape (22, 22)\n",
      "= Solving optimization problem ...\n",
      "--- time of optimization : 0' 25'' ---\n",
      "--- status: optimal_inaccurate optimal value 4.96958239128e-12\n",
      "\n",
      "{'cvxChr': Variable(38016, 1)}\n",
      "cvxFidelityExp 51.9591077639\n",
      "cvxLaplaceRegExp 389.139328745\n",
      "cvxNorm1 1200.92182839\n",
      "--- time of optimization : 0' 24'' ---\n",
      "--- status: optimal_inaccurate optimal value 3.50335622446\n",
      "\n",
      "{'cvxChr': Variable(38016, 1)}\n",
      "cvxFidelityExp 46.5063946921\n",
      "cvxLaplaceRegExp 931.645746937\n",
      "cvxNorm1 1748.3511273\n",
      "--- time of optimization : 0' 25'' ---\n",
      "--- status: optimal_inaccurate optimal value 7.00671244891\n",
      "\n",
      "{'cvxChr': Variable(38016, 1)}\n",
      "cvxFidelityExp 46.5063946921\n",
      "cvxLaplaceRegExp 931.645746941\n",
      "cvxNorm1 1748.35112731\n",
      "--- time of optimization : 0' 25'' ---\n",
      "--- status: optimal_inaccurate optimal value 10.5100686734\n",
      "\n",
      "{'cvxChr': Variable(38016, 1)}\n",
      "cvxFidelityExp 46.5063946921\n",
      "cvxLaplaceRegExp 931.645746942\n",
      "cvxNorm1 1748.35112731\n",
      "== Leaving out: # 100408\n",
      "= Training and fiting ...\n",
      "clr_test[0].shape (1, 216)\n",
      "mu.shape (3,) [ 0.00595503  0.00595503  0.00595503]\n",
      "U.shape (22, 22)\n",
      "= Solving optimization problem ...\n",
      "--- time of optimization : 0' 26'' ---\n",
      "--- status: optimal_inaccurate optimal value 1.83781356777e-12\n",
      "\n",
      "{'cvxChr': Variable(38016, 1)}\n",
      "cvxFidelityExp 52.0219906156\n",
      "cvxLaplaceRegExp 104.091314974\n",
      "cvxNorm1 624.585173461\n",
      "--- time of optimization : 0' 24'' ---\n",
      "--- status: optimal_inaccurate optimal value 3.60510845716\n",
      "\n",
      "{'cvxChr': Variable(38016, 1)}\n",
      "cvxFidelityExp 49.0394571488\n",
      "cvxLaplaceRegExp 410.155559473\n",
      "cvxNorm1 1008.31935222\n",
      "--- time of optimization : 0' 24'' ---\n",
      "--- status: optimal_inaccurate optimal value 7.21021691432\n",
      "\n",
      "{'cvxChr': Variable(38016, 1)}\n",
      "cvxFidelityExp 49.0394571488\n",
      "cvxLaplaceRegExp 410.155559475\n",
      "cvxNorm1 1008.31935223\n",
      "--- time of optimization : 0' 24'' ---\n",
      "--- status: optimal_inaccurate optimal value 10.8153253715\n",
      "\n",
      "{'cvxChr': Variable(38016, 1)}\n",
      "cvxFidelityExp 49.0394571488\n",
      "cvxLaplaceRegExp 410.155559476\n",
      "cvxNorm1 1008.31935223\n",
      "== Leaving out: # 180129\n",
      "= Training and fiting ...\n",
      "clr_test[0].shape (1, 216)\n",
      "mu.shape (3,) [ 0.00595503  0.00595503  0.00595503]\n",
      "U.shape (22, 22)\n",
      "= Solving optimization problem ...\n",
      "--- time of optimization : 0' 26'' ---\n",
      "--- status: optimal_inaccurate optimal value 2.08332615942e-12\n",
      "\n",
      "{'cvxChr': Variable(38016, 1)}\n",
      "cvxFidelityExp 95.9744233494\n",
      "cvxLaplaceRegExp 85.4864711456\n",
      "cvxNorm1 738.248608364\n",
      "--- time of optimization : 0' 23'' ---\n",
      "--- status: optimal_inaccurate optimal value 6.11686412591\n",
      "\n",
      "{'cvxChr': Variable(38016, 1)}\n",
      "cvxFidelityExp 95.9238354569\n",
      "cvxLaplaceRegExp 137.4005334\n",
      "cvxNorm1 982.902913392\n",
      "--- time of optimization : 0' 25'' ---\n",
      "--- status: optimal_inaccurate optimal value 12.2337282518\n",
      "\n",
      "{'cvxChr': Variable(38016, 1)}\n",
      "cvxFidelityExp 95.9238354569\n",
      "cvxLaplaceRegExp 137.400533401\n",
      "cvxNorm1 982.902913396\n",
      "--- time of optimization : 0' 23'' ---\n",
      "--- status: optimal_inaccurate optimal value 18.3505923777\n",
      "\n",
      "{'cvxChr': Variable(38016, 1)}\n",
      "cvxFidelityExp 95.9238354569\n",
      "cvxLaplaceRegExp 137.400533401\n",
      "cvxNorm1 982.902913397\n",
      " === TOTAL TIME : 1' 13\"\n",
      "mean= 0.133333333333 [ 0.2  0.1  0.1]\n"
     ]
    },
    {
     "data": {
      "text/plain": [
       "<Container object of 3 artists>"
      ]
     },
     "execution_count": 13,
     "metadata": {},
     "output_type": "execute_result"
    },
    {
     "data": {
      "image/png": "[encoded data removed]",
      "text/plain": [
       "<matplotlib.figure.Figure at 0x7fa8c3636550>"
      ]
     },
     "metadata": {},
     "output_type": "display_data"
    }
   ],
   "source": [
    "from scipy.sparse import csr_matrix\n",
    "import experimento1_funciones as e1f\n",
    "reload(e1f)\n",
    "\n",
    "RES_BASE_FOLDER = './resultados/exp6/'\n",
    "VMIN, VMAX=0, 1\n",
    "\n",
    "voi_hr_shape = (12, 12, 12, 6)\n",
    "voi_lr_shape = (6, 6, 6, 6)\n",
    "subjects = [100307, 100408, 180129, 180432, 180836, 180937]\n",
    "#subjects = [100307, 100408, 180129, 180432]\n",
    "\n",
    "bvals2000pos = [18, 27, 69, 75, 101, 107]\n",
    "\n",
    "# Esto es por si quiero alguna S0\n",
    "#img_s0, gtab_s0 = load_subject_small(0, subjects, bval=5, bvalpos=bvals5pos[0:6])\n",
    "#i_hr=img.get_data()\n",
    "#S0 = img_s0.get_data()\n",
    "\n",
    "reload(hcp)\n",
    "\n",
    "#print '#Qvals: ', gtab.bvals.shape\n",
    "#print 'Bvals: ', set(gtab.bvals)\n",
    "## Con imagenes pequenas multi-shel\n",
    "loader_func = hcp.load_subject_medium_noS0\n",
    "sample_maker = samples.get_sample_maker_of_map(subjects, loader_func, scale=2)\n",
    "\n",
    "n_samples = 3\n",
    "iterations = 3\n",
    "\n",
    "# Metrics to save\n",
    "mins_lamda = parray(RES_BASE_FOLDER+'/lamda/mins_mses.txt')\n",
    "\n",
    "## For save results\n",
    "# base_folder = RES_BASE_FOLDER\n",
    "## For NOT save results\n",
    "base_folder = RES_BASE_FOLDER\n",
    "\n",
    "times = parray(RES_BASE_FOLDER+'/times.txt')\n",
    "optimal_vals = parray(RES_BASE_FOLDER+'/optimal_vals.txt')\n",
    "\n",
    "for i in range(0, iterations):\n",
    "    subjects.append(subjects.pop(0))\n",
    "    subject = str(subjects[len(subjects)-1])\n",
    "    print '== Leaving out: #', subject\n",
    "    the_one_out = len(subjects)-1\n",
    "    \n",
    "    i_hr, i_lr, gtab, G, intercept, M, tau, mu, U , clr_test = \\\n",
    "        params_for(the_one_out, sample_maker, n_samples, loader_func, scale=2)\n",
    "\n",
    "    print '= Solving optimization problem ...'    \n",
    "    name_parameter = 'lamda'\n",
    "    rango = np.arange(0, 0.4, 0.1)\n",
    "    #rango = [1]\n",
    "    A, C, seg, prob, cvxFidelityExp, cvxLaplaceRegExp, cvxNorm1, res = \\\n",
    "        solveMin_fitCosnt(name_parameter,\n",
    "                          rango,  \n",
    "                          clr_test, \n",
    "                          i_hr, \n",
    "                          G, \n",
    "                          M, U, tau, \n",
    "                          gtab, \n",
    "                          intercept=intercept, \n",
    "                          scale=2, \n",
    "                          max_iters=10, \n",
    "                          verbose=False)\n",
    "\n",
    "    index = np.argmin(np.array(res['mse']))\n",
    "    min_lamda = rango[index]\n",
    "    mins_lamda.append(min_lamda)\n",
    "\n",
    "    times.append(seg)\n",
    "    optimal_vals.append(prob.value)\n",
    "\n",
    "mins_lamda = mins_lamda.asnumpy()\n",
    "\n",
    "# Log spended\n",
    "total_sec = np.array(times).sum()\n",
    "print ' === TOTAL TIME :',  str(int(total_sec//60))+\"'\", str(int(total_sec%60))+ '\"'\n",
    "\n",
    "# Persist results\n",
    "#if base_folder is not None: \n",
    "#    np.save(base_folder+ 'mins_alphas', mins_lamda)\n",
    "\n",
    "print 'mean=', mins_lamda.mean(), mins_lamda\n",
    "\n",
    "plt.bar(xrange(mins_lamda.size), mins_lamda)\n"
   ]
  },
  {
   "cell_type": "code",
   "execution_count": 11,
   "metadata": {
    "collapsed": false
   },
   "outputs": [
    {
     "data": {
      "text/plain": [
       "(array([ 0. ,  0.2,  0.4,  0.6,  0.8]), array([ 0.2,  0.6,  0.6]))"
      ]
     },
     "execution_count": 11,
     "metadata": {},
     "output_type": "execute_result"
    }
   ],
   "source": [
    "rango, mins_lamda"
   ]
  },
  {
   "cell_type": "code",
   "execution_count": null,
   "metadata": {
    "collapsed": false
   },
   "outputs": [],
   "source": [
    "# Para darle otra ronda\n",
    "A, C, seg, prob, cvxFidelityExp ,  cvxLaplaceRegExp , cvxNorm1 = \\\n",
    "        solveMin(clr_test, i_hr.shape, G, M, U,  tau, gtab, prob=prob, max_iters=1500, verbose=True)\n",
    "#parameters = dict((c.name(), c) for c in prob.parameters())\n",
    "#betha, alpha = parameters['betha'],  parameters['alpha']\n",
    "\n",
    "#H, _, S0hr, _,  gtab = get_sample_dwi(2, subjects, loader_func, scale=2)\n",
    "#img_utils._ish(H, b=7, vmin=H.min(), vmax=H.max())"
   ]
  },
  {
   "cell_type": "code",
   "execution_count": null,
   "metadata": {
    "collapsed": false
   },
   "outputs": [],
   "source": [
    "dict((v.name(), v.value) for v in prob.variables())"
   ]
  },
  {
   "cell_type": "code",
   "execution_count": null,
   "metadata": {
    "collapsed": false
   },
   "outputs": [],
   "source": [
    "\n",
    "b=0\n",
    "print A[:,6,:, b].mean(), np.std(A), i_hr[:,6,:, b].mean(), np.std(i_hr)\n",
    "\n",
    "img_utils._ish(A, b=b, vmin=A.min(), vmax=A.max())\n",
    "gtab.bvals[b]"
   ]
  },
  {
   "cell_type": "code",
   "execution_count": 264,
   "metadata": {
    "collapsed": false
   },
   "outputs": [
    {
     "data": {
      "text/plain": [
       "(array([ 40.,  14.,  31.,  35.,  12.,   3.,   5.,   3.,   0.,   1.]),\n",
       " array([ 0.04373868,  0.19284255,  0.34194643,  0.4910503 ,  0.64015417,\n",
       "         0.78925804,  0.93836191,  1.08746579,  1.23656966,  1.38567353,\n",
       "         1.5347774 ]),\n",
       " <a list of 10 Patch objects>)"
      ]
     },
     "execution_count": 264,
     "metadata": {},
     "output_type": "execute_result"
    },
    {
     "data": {
      "image/png": "[encoded data removed]",
      "text/plain": [
       "<matplotlib.figure.Figure at 0x7f7d11630690>"
      ]
     },
     "metadata": {},
     "output_type": "display_data"
    }
   ],
   "source": [
    "#hist(A[:,6,:, b].flatten(), range=(-0.03,0.15))\n",
    "hist(i_hr[:,6,:, b].flatten())\n"
   ]
  },
  {
   "cell_type": "code",
   "execution_count": 265,
   "metadata": {
    "collapsed": false
   },
   "outputs": [
    {
     "name": "stdout",
     "output_type": "stream",
     "text": [
      "recons (-1.1550033550036809e-05, 0.18312468080716857, 1.6459401190968876) (12, 12, 12, 37)\n",
      "orig (0.0020386195, 0.29971552, 3.2994506) (12, 12, 12, 37)\n",
      "con la primer forma de tvnorm\n",
      "dif_norm_hrs [71.392983858290606]\n",
      "Yhr_recons_norms [77.573542056357724]\n",
      "Yhr_norms [99.343712]\n",
      "times [46.43727993965149]\n",
      "optimal_vals [21.795486502295198]\n"
     ]
    },
    {
     "data": {
      "image/png": "[encoded data removed]",
      "text/plain": [
       "<matplotlib.figure.Figure at 0x7f7d14bd0e10>"
      ]
     },
     "metadata": {},
     "output_type": "display_data"
    }
   ],
   "source": [
    "img_utils._isc(A, i_hr, b=4, vmin=0, vmax=1, titles=['^Yhr', 'Yhr'])\n",
    "\n",
    "\n",
    "\n",
    "#img_utils._is(A, vmin=A.min(), vmax=A.max())\n",
    "print 'recons', (A.min(), A.mean(), A.max()), A.shape\n",
    "print 'orig',(i_hr.min(), i_hr.mean(), i_hr.max()), i_hr.shape\n",
    "#G.shape\n",
    "\n",
    "print 'con la primer forma de tvnorm'\n",
    "print 'dif_norm_hrs', dif_norm_hrs\n",
    "print 'Yhr_recons_norms', Yhr_recons_norms\n",
    "print 'Yhr_norms', Yhr_norms\n",
    "print 'times',times\n",
    "print 'optimal_vals', optimal_vals"
   ]
  },
  {
   "cell_type": "markdown",
   "metadata": {},
   "source": [
    "# HR Testing reconstruction \n"
   ]
  },
  {
   "cell_type": "code",
   "execution_count": 266,
   "metadata": {
    "collapsed": false
   },
   "outputs": [
    {
     "name": "stdout",
     "output_type": "stream",
     "text": [
      "mse= 0.0797196906937\n"
     ]
    },
    {
     "data": {
      "text/plain": [
       "((0, 0), (0, 1), 'mse=', (0, 1))"
      ]
     },
     "execution_count": 266,
     "metadata": {},
     "output_type": "execute_result"
    },
    {
     "data": {
      "image/png": "[encoded data removed]",
      "text/plain": [
       "<matplotlib.figure.Figure at 0x7f7d34b74210>"
      ]
     },
     "metadata": {},
     "output_type": "display_data"
    }
   ],
   "source": [
    "mse = ((A-i_hr)**2).mean(axis=3)\n",
    "print 'mse=', ((A-i_hr)**2).mean()\n",
    "\n",
    "bval = 5\n",
    "titles = ['^Yhr '+str(int(gtab.bvals[bval])), 'Yhr', 'mse']\n",
    "plt, _, _, im3 = img_utils._isc3(A, i_hr, mse,  b=bval,  vmin=[0, 0], vmax=[1, 1], titles=titles)\n",
    "plt.colorbar(im3,fraction=0.056, pad=0.04)\n",
    "mm(A[:,6,:, bval]), mm(i_hr[:,6,:, bval]), 'mse=', mm(mse)"
   ]
  },
  {
   "cell_type": "code",
   "execution_count": 268,
   "metadata": {
    "collapsed": false
   },
   "outputs": [
    {
     "data": {
      "text/plain": [
       "<matplotlib.text.Text at 0x7f7d2ea69950>"
      ]
     },
     "execution_count": 268,
     "metadata": {},
     "output_type": "execute_result"
    },
    {
     "data": {
      "image/png": "[encoded data removed]",
      "text/plain": [
       "<matplotlib.figure.Figure at 0x7f7d2f0c2210>"
      ]
     },
     "metadata": {},
     "output_type": "display_data"
    }
   ],
   "source": [
    "errel = errrel_layers(A, i_hr)\n",
    "errs =[errel[:,:,:,b].mean() for b in xrange(A.shape[3])]\n",
    "\n",
    "plt.bar(gtab.bvals, errs),errs[16], errs[32], gtab.bvals[b], #set(gtab.bvals\n",
    "#plt.xlim(985, 1010)\n",
    "plt.xlabel('MSE')\n",
    "plt.ylabel('bval')\n"
   ]
  },
  {
   "cell_type": "code",
   "execution_count": 203,
   "metadata": {
    "collapsed": false
   },
   "outputs": [
    {
     "data": {
      "text/plain": [
       "(<Container object of 37 artists>,\n",
       " 2.0843988601706585,\n",
       " 2.0108313472280379,\n",
       " 995.0)"
      ]
     },
     "execution_count": 203,
     "metadata": {},
     "output_type": "execute_result"
    },
    {
     "data": {
      "image/png": "[encoded data removed]",
      "text/plain": [
       "<matplotlib.figure.Figure at 0x7f7d70267310>"
      ]
     },
     "metadata": {},
     "output_type": "display_data"
    }
   ],
   "source": [
    "errel = errrel_layers(A, i_hr)\n",
    "errs =[errel[:,:,:,b].mean() for b in xrange(A.shape[3])]\n",
    "\n",
    "\n",
    "\n",
    "plt.bar(gtab.bvals, errs),errs[16], errs[32], gtab.bvals[b], #set(gtab.bvals)"
   ]
  },
  {
   "cell_type": "code",
   "execution_count": 186,
   "metadata": {
    "collapsed": false
   },
   "outputs": [],
   "source": [
    "def errrel_layers(A, B):\n",
    "    err_rel = np.zeros(A.shape)\n",
    "    for b in xrange(A.shape[3]):\n",
    "        err_rel[:,:,:,b] = np.divide(np.abs(A[:,:,:,b]-B[:,:,:,b]), B[:,:,:,b]+0.01)\n",
    "    return err_rel\n",
    "    "
   ]
  },
  {
   "cell_type": "code",
   "execution_count": 283,
   "metadata": {
    "collapsed": false
   },
   "outputs": [
    {
     "data": {
      "text/plain": [
       "990.0"
      ]
     },
     "execution_count": 283,
     "metadata": {},
     "output_type": "execute_result"
    },
    {
     "data": {
      "image/png": "[encoded data removed]",
      "text/plain": [
       "<matplotlib.figure.Figure at 0x7f7d2ef29990>"
      ]
     },
     "metadata": {},
     "output_type": "display_data"
    }
   ],
   "source": [
    "I_lr = np.ones(i_hr.shape)\n",
    "\n",
    "\n",
    "for b in xrange(I_lr.shape[3]):\n",
    "    I_lr[3:9,3:9,3:9,b] = i_lr[:, :, :, b]\n",
    "b=6\n",
    "plt, _, _, im3 = img_utils._isc3(A, i_hr, I_lr, b=b, vmax=1, titles=['recons', 'original', 'LR'])\n",
    "plt.set_cmap('gray')\n",
    "gtab.bvals[b]"
   ]
  },
  {
   "cell_type": "markdown",
   "metadata": {},
   "source": [
    "# Testing Mapl reconstruction to clr"
   ]
  },
  {
   "cell_type": "code",
   "execution_count": 286,
   "metadata": {
    "collapsed": false
   },
   "outputs": [
    {
     "name": "stdout",
     "output_type": "stream",
     "text": [
      " (0, 0)\n",
      "Error relativo max,min u std (0, 0) 0 0\n"
     ]
    },
    {
     "data": {
      "text/plain": [
       "<module 'matplotlib.pyplot' from '/user/lgomez/home/anaconda2/lib/python2.7/site-packages/matplotlib/pyplot.pyc'>"
      ]
     },
     "execution_count": 286,
     "metadata": {},
     "output_type": "execute_result"
    },
    {
     "data": {
      "image/png": "[encoded data removed]",
      "text/plain": [
       "<matplotlib.figure.Figure at 0x7f7d8ea6fb90>"
      ]
     },
     "metadata": {},
     "output_type": "display_data"
    }
   ],
   "source": [
    "nx, ny, nz, Nb = i_lr.shape\n",
    "Nb, Nc =  M.shape\n",
    "\n",
    "_, C_lr, _ = get_sample(the_one_out, subjects, loader_func, scale=2)\n",
    "B = M.dot(C_lr.reshape((nx*ny*nz, Nc), order='F').T).T\n",
    "B = B.reshape((nx, ny, nz, Nb), order='F')\n",
    "    \n",
    "\n",
    "err = np.abs(B - i_lr)\n",
    "err_rel = np.divide(err, i_lr+1)#para q no de infinito\n",
    "\n",
    "print mm(err) \n",
    "print 'Error relativo max,min u std', mm(err_rel), int(err_rel.mean()), \\\n",
    "                                      int(np.std(err_rel)) \n",
    "\n",
    "#img_utils._isc(i_hr, Eq_reconst,b=b, vmin=0, vmax=i_hr.max(), titles=['i_hr', 'cvxpy'])\n",
    "img_utils._isc(i_lr, B,b=b, vmin=0, vmax=1, titles=['i_lr', 'mapl'])\n"
   ]
  },
  {
   "cell_type": "code",
   "execution_count": 289,
   "metadata": {
    "collapsed": false
   },
   "outputs": [
    {
     "name": "stdout",
     "output_type": "stream",
     "text": [
      "(0, 2)\n",
      "Error relativo max,min u std (0, 1) 0 0\n"
     ]
    },
    {
     "data": {
      "text/plain": [
       "<module 'matplotlib.pyplot' from '/user/lgomez/home/anaconda2/lib/python2.7/site-packages/matplotlib/pyplot.pyc'>"
      ]
     },
     "execution_count": 289,
     "metadata": {},
     "output_type": "execute_result"
    },
    {
     "data": {
      "image/png": "[encoded data removed]",
      "text/plain": [
       "<matplotlib.figure.Figure at 0x7f7d66a6d9d0>"
      ]
     },
     "metadata": {},
     "output_type": "display_data"
    }
   ],
   "source": [
    "Nx, Ny, Nz, Nb = i_hr.shape\n",
    "Nb, Nc =  M.shape\n",
    "\n",
    "C_hr, _, _ = get_sample(the_one_out, subjects, loader_func, scale=2)\n",
    "A_mapl = M.dot(C_hr.reshape((Nx*Ny*Nz, Nc), order='F').T).T\n",
    "A_mapl = A.reshape((Nx, Ny, Nz, Nb), order='F')\n",
    "    \n",
    "\n",
    "err = np.abs(A_mapl - i_hr)\n",
    "err_rel = np.divide(err, i_hr+1)#para q no de infinito\n",
    "\n",
    "print mm(err) \n",
    "print 'Error relativo max,min u std', mm(err_rel), int(err_rel.mean()), \\\n",
    "                                      int(np.std(err_rel)) \n",
    "\n",
    "#img_utils._isc(i_hr, Eq_reconst,b=b, vmin=0, vmax=i_hr.max(), titles=['i_hr', 'cvxpy'])\n",
    "img_utils._isc(i_hr, A_mapl,b=b, vmin=0, vmax=1, titles=['i_hr', 'mapl'])\n"
   ]
  }
 ],
 "metadata": {
  "kernelspec": {
   "display_name": "Python 2",
   "language": "python",
   "name": "python2"
  },
  "language_info": {
   "codemirror_mode": {
    "name": "ipython",
    "version": 2
   },
   "file_extension": ".py",
   "mimetype": "text/x-python",
   "name": "python",
   "nbconvert_exporter": "python",
   "pygments_lexer": "ipython2",
   "version": "2.7.12"
  }
 },
 "nbformat": 4,
 "nbformat_minor": 0
}
