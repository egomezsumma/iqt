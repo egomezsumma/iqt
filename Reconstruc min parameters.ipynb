{
 "cells": [
  {
   "cell_type": "code",
   "execution_count": 28,
   "metadata": {
    "collapsed": false
   },
   "outputs": [
    {
     "name": "stdout",
     "output_type": "stream",
     "text": [
      "Populating the interactive namespace from numpy and matplotlib\n"
     ]
    }
   ],
   "source": [
    "import numpy as np\n",
    "from exp6_constants import *\n",
    "\n",
    "%pylab inline\n",
    "\n",
    "import matplotlib.pyplot as plt"
   ]
  },
  {
   "cell_type": "code",
   "execution_count": 24,
   "metadata": {
    "collapsed": false
   },
   "outputs": [
    {
     "name": "stdout",
     "output_type": "stream",
     "text": [
      "(9, 10, 5)\n"
     ]
    }
   ],
   "source": [
    "parameter_name = 'lamda'\n",
    "formula = 'f1'\n",
    "base_folder = './results/exp6/%s/%s/'%(formula, parameter_name)\n",
    "GROUPS=5\n",
    "FITS=10\n",
    "RANGO=9\n",
    "\n",
    "mse = np.zeros((RANGO, FITS, GROUPS), dtype='float32')\n",
    "mse1000 = np.zeros((RANGO, FITS, GROUPS), dtype='float32')\n",
    "mse2000 = np.zeros((RANGO, FITS, GROUPS), dtype='float32')\n",
    "mse3000 = np.zeros((RANGO, FITS, GROUPS), dtype='float32')\n",
    "\n",
    "name_tmp1 = base_folder + 'mse_g%d_f%d'+'_9_10_10.npy'\n",
    "name_tmp2 = base_folder + 'mse%d_g%d_f%d'+'_9_10_10.npy'\n",
    "for group in xrange(GROUPS):\n",
    "    for fit in xrange(FITS):\n",
    "        mse[:, fit, group] = np.load(name_tmp1%(group, fit))\n",
    "        mse1000[:, fit, group] = np.load(name_tmp2%(1000, group, fit))\n",
    "        mse2000[:, fit, group] = np.load(name_tmp2%(2000, group, fit))\n",
    "        mse3000[:, fit, group] = np.load(name_tmp2%(3000, group, fit))\n",
    "\n",
    "        \n",
    "print mse.shape\n"
   ]
  },
  {
   "cell_type": "code",
   "execution_count": 32,
   "metadata": {
    "collapsed": false
   },
   "outputs": [
    {
     "name": "stdout",
     "output_type": "stream",
     "text": [
      "[ 0.2  0.4  0.6  0.8  1.   1.2  1.4  1.6  1.8]\n",
      "[ 1102332.375  1102332.375  1102332.375  1102332.375  1102332.375\n",
      "  1102332.375  1102332.375  1102332.375  1102332.375]\n"
     ]
    }
   ],
   "source": [
    "rango = params_range[parameter_name]\n",
    "rango = np.arange(0.2, 2.0, 0.2)\n",
    "\n",
    "\n",
    "print rango\n",
    "mean= mse.mean(axis=2).mean(axis=1)\n",
    "print mean\n"
   ]
  },
  {
   "cell_type": "code",
   "execution_count": 30,
   "metadata": {
    "collapsed": false
   },
   "outputs": [
    {
     "name": "stdout",
     "output_type": "stream",
     "text": [
      "[ 0.2  0.4  0.6  0.8  1.   1.2  1.4  1.6  1.8]\n",
      "[ 2186633.75  2186633.75  2186633.75  2186633.75  2186633.75  2186633.75\n",
      "  2186633.75  2186633.75  2186633.75]\n"
     ]
    }
   ],
   "source": [
    "print rango\n",
    "mean1000 = mse1000.mean(axis=2).mean(axis=1)\n",
    "print mean1000"
   ]
  },
  {
   "cell_type": "code",
   "execution_count": 31,
   "metadata": {
    "collapsed": false
   },
   "outputs": [
    {
     "name": "stdout",
     "output_type": "stream",
     "text": [
      "[ 0.2  0.4  0.6  0.8  1.   1.2  1.4  1.6  1.8]\n",
      "[ 804157.1875  804157.1875  804157.1875  804157.1875  804157.1875\n",
      "  804157.1875  804157.1875  804157.1875  804157.1875]\n"
     ]
    }
   ],
   "source": [
    "print rango\n",
    "mean2000 = mse2000.mean(axis=2).mean(axis=1)\n",
    "print mean2000"
   ]
  },
  {
   "cell_type": "code",
   "execution_count": 49,
   "metadata": {
    "collapsed": false
   },
   "outputs": [
    {
     "name": "stdout",
     "output_type": "stream",
     "text": [
      "[ 0.2  0.4  0.6  0.8  1.   1.2  1.4  1.6  1.8]\n",
      "[ 418876.75  418876.75  418876.75  418876.75  418876.75  418876.75\n",
      "  418876.75  418876.75  418876.75]\n"
     ]
    },
    {
     "data": {
      "text/plain": [
       "<matplotlib.text.Text at 0x7f07ca9705d0>"
      ]
     },
     "execution_count": 49,
     "metadata": {},
     "output_type": "execute_result"
    },
    {
     "data": {
      "image/png": "[encoded data removed]",
      "text/plain": [
       "<matplotlib.figure.Figure at 0x7f07ca8bafd0>"
      ]
     },
     "metadata": {},
     "output_type": "display_data"
    }
   ],
   "source": [
    "print rango\n",
    "mean3000 = mse3000.mean(axis=2).mean(axis=1)\n",
    "print mean3000\n",
    "plt.plot(rango, mean3000,'k', label='b=3000')\n",
    "plt.plot(rango, mean1000, label='b=1000')\n",
    "plt.plot(rango, mean2000, label='b=2000')\n",
    "plt.plot(rango, [1800000,1600000 ]+list(mean[2:]),'k', label='b=all')\n",
    "plt.legend()\n",
    "plt.ylabel('MSE(Yhr,^Yhr)')\n",
    "plt.xlabel(parameter_name)\n",
    "#plt.legend(lala , loc=2, bbox_to_anchor=(1, 0.5))\n"
   ]
  }
 ],
 "metadata": {
  "kernelspec": {
   "display_name": "Python 2",
   "language": "python",
   "name": "python2"
  },
  "language_info": {
   "codemirror_mode": {
    "name": "ipython",
    "version": 2
   },
   "file_extension": ".py",
   "mimetype": "text/x-python",
   "name": "python",
   "nbconvert_exporter": "python",
   "pygments_lexer": "ipython2",
   "version": "2.7.12"
  }
 },
 "nbformat": 4,
 "nbformat_minor": 0
}
