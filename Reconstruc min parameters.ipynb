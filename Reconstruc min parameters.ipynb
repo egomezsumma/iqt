{
 "cells": [
  {
   "cell_type": "code",
   "execution_count": 1,
   "metadata": {
    "collapsed": false
   },
   "outputs": [
    {
     "name": "stdout",
     "output_type": "stream",
     "text": [
      "Populating the interactive namespace from numpy and matplotlib\n"
     ]
    }
   ],
   "source": [
    "import numpy as np\n",
    "#from conf_exp6 import *\n",
    "%pylab inline\n",
    "#import seaborn\n",
    "import matplotlib.pyplot as plt\n",
    "import utils.img_utils as iu\n",
    "import json\n",
    "\n",
    "\n",
    "def mm(A, cast_int=True):\n",
    "    if cast_int:\n",
    "        return (int(A.min()), int(A.max()))\n",
    "    else:\n",
    "        return (A.min(), A.max())\n"
   ]
  },
  {
   "cell_type": "code",
   "execution_count": 15,
   "metadata": {
    "collapsed": false
   },
   "outputs": [
    {
     "name": "stdout",
     "output_type": "stream",
     "text": [
      "agrandando_n_samples\n",
      "[1000, 2000, 3000, 4000, 5000, 6000, 7000, 8000, 9000, 10000]\n",
      "loading ./results/exp6pixel/f1/lamda.201610201227/mse_g0_f0.npy\n",
      "loading ./results/exp6pixel/f1/lamda.201610201227/mse_g0_f1.npy\n",
      "loading ./results/exp6pixel/f1/lamda.201610201227/mse_g0_f2.npy\n",
      "loading ./results/exp6pixel/f1/lamda.201610201227/mse_g0_f3.npy\n",
      "loading ./results/exp6pixel/f1/lamda.201610201227/mse_g0_f4.npy\n",
      "loading ./results/exp6pixel/f1/lamda.201610201227/mse_g0_f5.npy\n",
      "loading ./results/exp6pixel/f1/lamda.201610201227/mse_g0_f6.npy\n"
     ]
    },
    {
     "ename": "IOError",
     "evalue": "[Errno 2] No such file or directory: './results/exp6pixel/f1/lamda.201610201227/mse_g0_f6.npy'",
     "output_type": "error",
     "traceback": [
      "\u001b[0;31m---------------------------------------------------------------------------\u001b[0m",
      "\u001b[0;31mIOError\u001b[0m                                   Traceback (most recent call last)",
      "\u001b[0;32m<ipython-input-15-bcf4ef63f9bb>\u001b[0m in \u001b[0;36m<module>\u001b[0;34m()\u001b[0m\n\u001b[1;32m     66\u001b[0m         \u001b[0;31m#if fit == 6 : continue\u001b[0m\u001b[0;34m\u001b[0m\u001b[0;34m\u001b[0m\u001b[0m\n\u001b[1;32m     67\u001b[0m         \u001b[0;32mprint\u001b[0m \u001b[0;34m'loading'\u001b[0m\u001b[0;34m,\u001b[0m \u001b[0mname_tmp1\u001b[0m\u001b[0;34m%\u001b[0m\u001b[0;34m(\u001b[0m\u001b[0mgroup\u001b[0m\u001b[0;34m,\u001b[0m \u001b[0mfit\u001b[0m\u001b[0;34m)\u001b[0m\u001b[0;34m\u001b[0m\u001b[0m\n\u001b[0;32m---> 68\u001b[0;31m         \u001b[0mtmp\u001b[0m \u001b[0;34m=\u001b[0m \u001b[0mnp\u001b[0m\u001b[0;34m.\u001b[0m\u001b[0mload\u001b[0m\u001b[0;34m(\u001b[0m\u001b[0mname_tmp1\u001b[0m\u001b[0;34m%\u001b[0m\u001b[0;34m(\u001b[0m\u001b[0mgroup\u001b[0m\u001b[0;34m,\u001b[0m \u001b[0mfit\u001b[0m\u001b[0;34m)\u001b[0m\u001b[0;34m)\u001b[0m\u001b[0;34m\u001b[0m\u001b[0m\n\u001b[0m\u001b[1;32m     69\u001b[0m         \u001b[0ma\u001b[0m \u001b[0;34m=\u001b[0m \u001b[0ma\u001b[0m \u001b[0;34m+\u001b[0m \u001b[0mtmp\u001b[0m\u001b[0;34m\u001b[0m\u001b[0m\n\u001b[1;32m     70\u001b[0m         \u001b[0mmse\u001b[0m\u001b[0;34m[\u001b[0m\u001b[0;34m:\u001b[0m\u001b[0;34m,\u001b[0m \u001b[0mfit\u001b[0m\u001b[0;34m,\u001b[0m \u001b[0mgroup\u001b[0m\u001b[0;34m]\u001b[0m \u001b[0;34m=\u001b[0m \u001b[0mtmp\u001b[0m\u001b[0;34m\u001b[0m\u001b[0m\n",
      "\u001b[0;32m/home/leexgo1987/apps/anaconda2/lib/python2.7/site-packages/numpy/lib/npyio.pyc\u001b[0m in \u001b[0;36mload\u001b[0;34m(file, mmap_mode, allow_pickle, fix_imports, encoding)\u001b[0m\n\u001b[1;32m    360\u001b[0m     \u001b[0mown_fid\u001b[0m \u001b[0;34m=\u001b[0m \u001b[0mFalse\u001b[0m\u001b[0;34m\u001b[0m\u001b[0m\n\u001b[1;32m    361\u001b[0m     \u001b[0;32mif\u001b[0m \u001b[0misinstance\u001b[0m\u001b[0;34m(\u001b[0m\u001b[0mfile\u001b[0m\u001b[0;34m,\u001b[0m \u001b[0mbasestring\u001b[0m\u001b[0;34m)\u001b[0m\u001b[0;34m:\u001b[0m\u001b[0;34m\u001b[0m\u001b[0m\n\u001b[0;32m--> 362\u001b[0;31m         \u001b[0mfid\u001b[0m \u001b[0;34m=\u001b[0m \u001b[0mopen\u001b[0m\u001b[0;34m(\u001b[0m\u001b[0mfile\u001b[0m\u001b[0;34m,\u001b[0m \u001b[0;34m\"rb\"\u001b[0m\u001b[0;34m)\u001b[0m\u001b[0;34m\u001b[0m\u001b[0m\n\u001b[0m\u001b[1;32m    363\u001b[0m         \u001b[0mown_fid\u001b[0m \u001b[0;34m=\u001b[0m \u001b[0mTrue\u001b[0m\u001b[0;34m\u001b[0m\u001b[0m\n\u001b[1;32m    364\u001b[0m     \u001b[0;32melse\u001b[0m\u001b[0;34m:\u001b[0m\u001b[0;34m\u001b[0m\u001b[0m\n",
      "\u001b[0;31mIOError\u001b[0m: [Errno 2] No such file or directory: './results/exp6pixel/f1/lamda.201610201227/mse_g0_f6.npy'"
     ]
    }
   ],
   "source": [
    "#parameter_name = 'lamda'\n",
    "#idjob='201610141834'\n",
    "#idjob='201610160213'\n",
    "#idjob='201610172354'\n",
    "\n",
    "#parameter_name = 'gamma'\n",
    "#idjob='201610200008'\n",
    "\n",
    "#parameter_name = 'beta'\n",
    "#idjob='201610202108'\n",
    " \n",
    "parameter_name = 'lamda'\n",
    "idjob='201610201227'\n",
    "exp_name = 'exp6pixel'\n",
    "\n",
    "#parameter_name = 'lamda'\n",
    "#idjob='201610232116'\n",
    "#exp_name = 'exp6'\n",
    "\n",
    "#parameter_name = 'lamda'\n",
    "#idjob='201610260937'\n",
    "#exp_name = 'exp6'\n",
    "\n",
    "#parameter_name = 'lamda'\n",
    "#idjob='201610270948'\n",
    "#exp_name = 'exp6'\n",
    "\n",
    "#parameter_name = 'beta'\n",
    "#idjob='201610291334'\n",
    "#exp_name = 'exp6'\n",
    "\n",
    "\n",
    "#parameter_name = 'lamda'\n",
    "#idjob='201611041104'\n",
    "#exp_name = 'exp6pixel'\n",
    "\n",
    "\n",
    "formula = 'f1'\n",
    "base_folder = './results/%s/%s/%s.%s/'%(exp_name, formula, parameter_name, idjob)\n",
    "\n",
    "\n",
    "with open(base_folder + 'data.json') as data_file:    \n",
    "    data = json.load(data_file)\n",
    "\n",
    "params_range = data['params_range']\n",
    "rango = params_range[parameter_name]\n",
    "#rango = np.arange(100, 1001, 100)\n",
    "print data['description']\n",
    "\n",
    "GROUPS=5\n",
    "FITS=10\n",
    "RANGO=len(rango)\n",
    "print rango \n",
    "\n",
    "mse = np.zeros((RANGO, FITS, GROUPS), dtype='float32')\n",
    "mse1000 = np.zeros((RANGO, FITS, GROUPS), dtype='float32')\n",
    "mse2000 = np.zeros((RANGO, FITS, GROUPS), dtype='float32')\n",
    "mse3000 = np.zeros((RANGO, FITS, GROUPS), dtype='float32')\n",
    "a = np.zeros((RANGO), dtype='float')\n",
    "\n",
    "name_tmp1 = base_folder + 'mse_g%d_f%d'+'.npy'\n",
    "name_tmp2 = base_folder + 'mse%d_g%d_f%d'+'.npy'\n",
    "for group in xrange(GROUPS):\n",
    "    #if group==0 : continue\n",
    "    for fit in xrange(FITS):\n",
    "        #if fit == 6 : continue\n",
    "        print 'loading', name_tmp1%(group, fit)\n",
    "        tmp = np.load(name_tmp1%(group, fit))\n",
    "        a = a + tmp\n",
    "        mse[:, fit, group] = tmp\n",
    "        \n",
    "        mse1000[:, fit, group] = np.load(name_tmp2%(1000, group, fit))\n",
    "        mse2000[:, fit, group] = np.load(name_tmp2%(2000, group, fit))\n",
    "        mse3000[:, fit, group] = np.load(name_tmp2%(3000, group, fit))\n",
    "\n",
    "a = a / (FITS*GROUPS)\n",
    "\n",
    "print mse.shape, mse1000.shape, mse2000.shape, mse3000.shape\n"
   ]
  },
  {
   "cell_type": "code",
   "execution_count": 3,
   "metadata": {
    "collapsed": false
   },
   "outputs": [
    {
     "name": "stdout",
     "output_type": "stream",
     "text": [
      "[10000, 110000, 210000, 310000, 410000, 510000, 610000, 710000, 810000, 910000]\n",
      "[ 0.03400533  0.03400502  0.03400505  0.03400485  0.03400508  0.03400528\n",
      "  0.03400501  0.03400535  0.03400496  0.0340052 ]\n",
      "[ 0.06463526  0.06463619  0.06463661  0.06463676  0.06463671  0.06463655\n",
      "  0.06463657  0.06463645  0.06463693  0.06463595]\n",
      "[ 0.03713002  0.03712987  0.03712997  0.03712997  0.03712997  0.03712998\n",
      "  0.03712964  0.03712989  0.0371299   0.03712996]\n",
      "[ 0.0864513   0.08645133  0.08645223  0.0864518   0.08645104  0.08645187\n",
      "  0.08645136  0.08645209  0.08645158  0.08645206]\n",
      "[ 0.10179205  0.10179106  0.10178928  0.10179409  0.10179356  0.10179411\n",
      "  0.1017917   0.10179048  0.101792    0.10179223]\n",
      "[ 0.0545685   0.05456927  0.05457115  0.05456776  0.05456781  0.05457096\n",
      "  0.05457148  0.05456776  0.05457065  0.05457201]\n",
      "+++ [ 0.090082    0.0900823   0.09008247  0.09008257  0.09008154  0.09008294\n",
      "  0.09008186  0.0900826   0.0900825   0.09008234]\n",
      "[ 0.04283677  0.04283617  0.04283763  0.0428373   0.04283625  0.04283629\n",
      "  0.04283639  0.04283679  0.04283766  0.04283661]\n",
      "[ 0.04408034  0.0440803   0.04408097  0.0440804   0.04408088  0.04408131\n",
      "  0.04408067  0.04408017  0.04408083  0.04408034]\n",
      "[ 0.0644503   0.06444933  0.06444985  0.06444927  0.0644479   0.06444824\n",
      "  0.06445234  0.06444877  0.06445325  0.06444791]\n",
      "0 &$0.024615$ & $0.0246148$ & $0.0246146$ & $0.0246148$ & $0.0246147$ & $0.0246147$ & $0.0246148$ & $0.024615$ & $0.0246146$ & $0.0246148$ & \\\\\n",
      "1 &$0.0578132$ & $0.0578141$ & $0.0578142$ & $0.0578146$ & $0.0578146$ & $0.0578144$ & $0.0578143$ & $0.0578142$ & $0.0578151$ & $0.0578138$ & \\\\\n",
      "2 &$0.0200893$ & $0.0200893$ & $0.0200893$ & $0.0200893$ & $0.0200891$ & $0.0200893$ & $0.0200891$ & $0.0200892$ & $0.0200892$ & $0.0200894$ & \\\\\n",
      "3 &$0.0748904$ & $0.0748908$ & $0.0748911$ & $0.074891$ & $0.0748908$ & $0.074891$ & $0.0748909$ & $0.0748913$ & $0.0748908$ & $0.0748911$ & \\\\\n",
      "4 &$0.0930538$ & $0.0930528$ & $0.0930509$ & $0.0930551$ & $0.0930535$ & $0.0930549$ & $0.0930535$ & $0.0930524$ & $0.0930536$ & $0.0930532$ & \\\\\n",
      "5 &$0.0274998$ & $0.0274999$ & $0.0275005$ & $0.0274986$ & $0.0274994$ & $0.0275005$ & $0.027501$ & $0.0274991$ & $0.0274999$ & $0.0275011$ & \\\\\n",
      "6 &$0.0744059$ & $0.0744061$ & $0.0744057$ & $0.0744061$ & $0.0744058$ & $0.074406$ & $0.0744061$ & $0.0744059$ & $0.074406$ & $0.0744064$ & \\\\\n",
      "7 &$0.0240899$ & $0.0240894$ & $0.0240902$ & $0.0240901$ & $0.0240896$ & $0.0240897$ & $0.0240896$ & $0.0240899$ & $0.0240903$ & $0.0240898$ & \\\\\n",
      "8 &$0.030311$ & $0.0303108$ & $0.0303112$ & $0.030311$ & $0.030311$ & $0.0303113$ & $0.0303111$ & $0.0303109$ & $0.0303111$ & $0.030311$ & \\\\\n",
      "9 &$0.0549571$ & $0.0549566$ & $0.0549569$ & $0.0549566$ & $0.0549555$ & $0.0549558$ & $0.0549588$ & $0.0549561$ & $0.0549596$ & $0.0549556$ & \\\\\n",
      "\n"
     ]
    }
   ],
   "source": [
    "mse1000.shape\n",
    "gggg=2\n",
    "\n",
    "print rango\n",
    "print mse1000[:, 0,gggg]\n",
    "print mse1000[:, 1,gggg]\n",
    "print mse1000[:, 2,gggg]\n",
    "print mse1000[:, 3,gggg]\n",
    "print mse1000[:, 4,gggg]\n",
    "print mse1000[:, 5,gggg]\n",
    "print '+++', mse1000[:, 6,gggg]\n",
    "print mse1000[:, 7,gggg]\n",
    "print mse1000[:, 8,gggg]\n",
    "print mse1000[:, 9,gggg]\n",
    "\n",
    "str8 = ''\n",
    "for lala in xrange(10):\n",
    "    str8 = str8 + ''+ str(lala)+ ' &'\n",
    "    for lolo in xrange(10):\n",
    "        str8 = str8 +  '$' +str(mse[lolo, lala, gggg]) + '$ & '\n",
    "    str8 = str8 + '\\\\\\\\\\n'\n",
    "\n",
    "print str8\n",
    "        \n",
    "\n",
    "\n"
   ]
  },
  {
   "cell_type": "code",
   "execution_count": 4,
   "metadata": {
    "collapsed": false
   },
   "outputs": [
    {
     "name": "stdout",
     "output_type": "stream",
     "text": [
      "[ 2.42763152  2.42763212  2.42762853  2.42763365  2.42763226  2.42761586\n",
      "  2.42762101  2.42763354  2.42762159  2.42762787]\n",
      "[ 0.04855263  0.04855264  0.04855257  0.04855267  0.04855264  0.04855231\n",
      "  0.04855242  0.04855267  0.04855243  0.04855256]\n",
      "[ 0.04855263  0.04855264  0.04855257  0.04855267  0.04855265  0.04855232\n",
      "  0.04855242  0.04855267  0.04855243  0.04855256]\n"
     ]
    }
   ],
   "source": [
    "mean= mse.mean(axis=2).mean(axis=1)\n",
    "var = np.std(np.std(mse, axis=2), axis=1)\n",
    "\n",
    "acum = np.zeros(mse.shape[0])\n",
    "n=0\n",
    "for f in xrange(10):\n",
    "    for g in xrange(5):\n",
    "        acum = acum + mse[:, f, g]\n",
    "        n=n+1\n",
    "\n",
    "mean2 = acum/n\n",
    "\n",
    "print acum\n",
    "print mean\n",
    "print mean2\n"
   ]
  },
  {
   "cell_type": "code",
   "execution_count": 5,
   "metadata": {
    "collapsed": false
   },
   "outputs": [
    {
     "name": "stdout",
     "output_type": "stream",
     "text": [
      "[10000, 110000, 210000, 310000, 410000, 510000, 610000, 710000, 810000, 910000]\n",
      "[ 0.06332631  0.06332635  0.06332661  0.06332657  0.06332639  0.06332614\n",
      "  0.06332605  0.06332646  0.06332591  0.06332634] (10,) (10, 10, 5)\n",
      "[  5.42052589e-07   3.37415997e-07   4.73350696e-07   2.09557101e-07\n",
      "   1.17380955e-06   6.29655688e-07   4.77738922e-07   4.58630240e-07\n",
      "   9.26276755e-07   9.03190028e-07]\n"
     ]
    }
   ],
   "source": [
    "print rango\n",
    "mean1000 = mse1000.mean(axis=2).mean(axis=1)\n",
    "var1000 = np.std(np.std(mse1000, axis=2), axis=0)\n",
    "print mean1000, mean1000.shape, mse1000.shape\n",
    "print var1000\n"
   ]
  },
  {
   "cell_type": "code",
   "execution_count": 8,
   "metadata": {
    "collapsed": false
   },
   "outputs": [
    {
     "name": "stdout",
     "output_type": "stream",
     "text": [
      "[10000, 110000, 210000, 310000, 410000, 510000, 610000, 710000, 810000, 910000]\n",
      "[ 0.04399841  0.0439985   0.04399833  0.04399843  0.04399871  0.04399833\n",
      "  0.04399839  0.04399863  0.04399823  0.04399832] (10,) (10, 10, 5)\n",
      "[ 0.00876725  0.00876717  0.00876716  0.00876703  0.00876724  0.00876696\n",
      "  0.00876686  0.00876698  0.00876714  0.008767  ]\n"
     ]
    }
   ],
   "source": [
    "print rango\n",
    "mean2000 = mse2000.mean(axis=2).mean(axis=1)\n",
    "var2000 = np.std(np.std(mse2000, axis=2), axis=1)\n",
    "\n",
    "print mean2000, mean2000.shape, mse2000.shape\n",
    "print var2000\n"
   ]
  },
  {
   "cell_type": "code",
   "execution_count": 6,
   "metadata": {
    "collapsed": false
   },
   "outputs": [
    {
     "name": "stdout",
     "output_type": "stream",
     "text": [
      "(10,) [10000, 110000, 210000, 310000, 410000, 510000, 610000, 710000, 810000, 910000]\n",
      "[ 0.04014387  0.0401438   0.04014354  0.04014369  0.04014388  0.04014366\n",
      "  0.0401437   0.04014375  0.04014373  0.04014373]\n",
      "[ 0.00850091  0.00850082  0.00850079  0.00850068  0.00850078  0.00850073\n",
      "  0.00850051  0.0085007   0.00850077  0.00850066]\n"
     ]
    }
   ],
   "source": [
    "#rango = np.arange(100, 1001, 100)\n",
    "print mean.shape, rango\n",
    "mean3000 = mse3000.mean(axis=2).mean(axis=1)\n",
    "var3000 = np.std(np.std(mse3000, axis=2), axis=1)\n",
    "print mean3000\n",
    "print var3000\n"
   ]
  },
  {
   "cell_type": "code",
   "execution_count": 9,
   "metadata": {
    "collapsed": false
   },
   "outputs": [
    {
     "name": "stdout",
     "output_type": "stream",
     "text": [
      "(10,) (10, 3)\n"
     ]
    },
    {
     "name": "stderr",
     "output_type": "stream",
     "text": [
      "/home/leexgo1987/apps/anaconda2/lib/python2.7/site-packages/matplotlib/axes/_axes.py:531: UserWarning: No labelled objects found. Use label='...' kwarg on individual plots.\n",
      "  warnings.warn(\"No labelled objects found. \"\n"
     ]
    },
    {
     "name": "stdout",
     "output_type": "stream",
     "text": [
      "medias= 0.0485526 0.0633263 0.0439984 0.0401437\n",
      "std= 0.0279619 0.0255058 0.0288541 0.0321039\n",
      "mean1000 [ 0.06332631  0.06332635  0.06332661  0.06332657  0.06332639  0.06332614\n",
      "  0.06332605  0.06332646  0.06332591  0.06332634]\n",
      "mean2000 [ 0.04399841  0.0439985   0.04399833  0.04399843  0.04399871  0.04399833\n",
      "  0.04399839  0.04399863  0.04399823  0.04399832]\n",
      "mean [ 0.04855263  0.04855264  0.04855257  0.04855267  0.04855264  0.04855231\n",
      "  0.04855242  0.04855267  0.04855243  0.04855256] 0.0485523\n",
      "[10000, 110000, 210000, 310000, 410000, 510000, 610000, 710000, 810000, 910000]\n",
      "dir ./results/exp6pixel/f1/lamda.201611041104/res/ created!\n"
     ]
    },
    {
     "data": {
      "image/png": "[encoded data removed]",
      "text/plain": [
       "<matplotlib.figure.Figure at 0x7f63b30baa90>"
      ]
     },
     "metadata": {},
     "output_type": "display_data"
    }
   ],
   "source": [
    "#rango = np.arange(100, 1001, 100)\n",
    "\n",
    "mean3 = np.zeros((mean1000.shape[0], 3))\n",
    "print mean2000.shape, mean3.shape\n",
    "mean3[:, 0] = mean1000\n",
    "mean3[:, 1] = mean2000\n",
    "mean3[:, 2] = mean3000\n",
    "\n",
    "#plt.plot(rango, mean3000,'o', label='b=3000')\n",
    "#plt.plot(rango, mean1000, 'o', label='b=1000')\n",
    "#plt.plot(rango, mean2000,'o', label='b=2000')\n",
    "#plt.plot(rango, mean3.mean(axis=1),'o', label='b=all')\n",
    "#plt.plot(rango, mean,'o', label='b=all')\n",
    "\n",
    "#plt.plot(rango, mean+var,'o', label='b=all')\n",
    "#plt.plot(rango, mean-var,'o', label='b=all')\n",
    "\n",
    "#plt.errorbar(rango, mean, yerr=var, fmt='o', label='b=all')\n",
    "plt.errorbar(rango, mean3.mean(axis=1), yerr=np.std(mean3, axis=1), fmt='o')\n",
    "\n",
    "\n",
    "plt.legend()\n",
    "plt.ylabel('MSE(Yhr,^Yhr)')\n",
    "plt.xlabel(parameter_name)\n",
    "#plt.legend(lala , loc=2, bbox_to_anchor=(1, 0.5))\n",
    "#plt.ylim((1102000.0, 1102300.0))\n",
    "mse[:,2,1]\n",
    "#print plt.ylim((940000000.0, 960000000.0))\n",
    "\n",
    "print 'medias=',mse.mean(),mse1000.mean(), mse2000.mean(), mse3000.mean() \n",
    "print 'std=',np.std(mse),np.std(mse1000), np.std(mse2000), np.std(mse3000) \n",
    "print 'mean1000', mean1000\n",
    "print 'mean2000', mean2000\n",
    "print 'mean', mean, mean.min()\n",
    "print rango\n",
    "\n",
    "import os\n",
    "if not os.path.exists(base_folder+ 'res/'):\n",
    "    try:\n",
    "        os.makedirs(base_folder+ 'res/')\n",
    "        print 'dir', base_folder+ 'res/', 'created!' \n",
    "    except OSError, e :\n",
    "        print str(e)\n",
    "\n",
    "\n",
    "## Para grabar\n",
    "plt.savefig(base_folder+ 'res/'+parameter_name+'_mean_var_idjob'+idjob+'.pdf')\n"
   ]
  },
  {
   "cell_type": "markdown",
   "metadata": {},
   "source": [
    "# Dibujando la reconstruida\n"
   ]
  },
  {
   "cell_type": "code",
   "execution_count": 10,
   "metadata": {
    "collapsed": false
   },
   "outputs": [
    {
     "name": "stdout",
     "output_type": "stream",
     "text": [
      "(-0.53329432, 1.2652071)\n",
      "A_g0_val0.\n",
      "(-0.53329432, 1.2652071)\n",
      "A_g0_val1.\n",
      "(-0.53329432, 1.2652071)\n",
      "A_g0_val2.\n",
      "(-0.53329432, 1.2652071)\n",
      "A_g0_val3.\n",
      "(-0.53329432, 1.2652071)\n",
      "A_g0_val4.\n",
      "(-0.53329432, 1.2652071)\n",
      "A_g0_val5.\n",
      "(-0.53329432, 1.2652071)\n",
      "A_g0_val6.\n",
      "(-0.53329432, 1.2652071)\n",
      "A_g0_val7.\n",
      "(-0.53329432, 1.2652071)\n",
      "A_g0_val8.\n",
      "(-0.53329432, 1.2652071)\n",
      "A_g0_val9.\n",
      "(-0.38402563, 0.90539145)\n",
      "A_g1_val0.\n",
      "(-0.38405564, 0.90539145)\n",
      "A_g1_val1.\n",
      "(-0.38396174, 0.90539145)\n",
      "A_g1_val2.\n",
      "(-0.38397008, 0.90539145)\n",
      "A_g1_val3.\n",
      "(-0.38423559, 0.90539145)\n",
      "A_g1_val4.\n",
      "(-0.38402992, 0.90539145)\n",
      "A_g1_val5.\n",
      "(-0.3840217, 0.90539145)\n",
      "A_g1_val6.\n",
      "(-0.3840656, 0.90539145)\n",
      "A_g1_val7.\n",
      "(-0.38396537, 0.90539145)\n",
      "A_g1_val8.\n",
      "(-0.38405034, 0.90539145)\n",
      "A_g1_val9.\n",
      "(-0.4403826, 1.5744212)\n",
      "A_g2_val0.\n",
      "(-0.4403826, 1.5744212)\n",
      "A_g2_val1.\n",
      "(-0.4403826, 1.5744212)\n",
      "A_g2_val2.\n",
      "(-0.4403826, 1.5744212)\n",
      "A_g2_val3.\n",
      "(-0.4403826, 1.5744212)\n",
      "A_g2_val4.\n",
      "(-0.4403826, 1.5744212)\n",
      "A_g2_val5.\n",
      "(-0.4403826, 1.5744212)\n",
      "A_g2_val6.\n",
      "(-0.4403826, 1.5744212)\n",
      "A_g2_val7.\n",
      "(-0.4403826, 1.5744212)\n",
      "A_g2_val8.\n",
      "(-0.4403826, 1.5744212)\n",
      "A_g2_val9.\n",
      "(-0.90103978, 1.3581153)\n",
      "A_g3_val0.\n",
      "(-0.90103978, 1.3581153)\n",
      "A_g3_val1.\n",
      "(-0.90103972, 1.3581153)\n",
      "A_g3_val2.\n",
      "(-0.90103978, 1.3581153)\n",
      "A_g3_val3.\n",
      "(-0.90103978, 1.3581153)\n",
      "A_g3_val4.\n",
      "(-0.90103978, 1.3581153)\n",
      "A_g3_val5.\n",
      "(-0.90103972, 1.3581153)\n",
      "A_g3_val6.\n",
      "(-0.90103978, 1.3581153)\n",
      "A_g3_val7.\n",
      "(-0.90103972, 1.3581153)\n",
      "A_g3_val8.\n",
      "(-0.90103978, 1.3581153)\n",
      "A_g3_val9.\n",
      "(-1.0412395, 1.3750113)\n",
      "A_g4_val0.\n",
      "(-1.0412396, 1.3750113)\n",
      "A_g4_val1.\n",
      "(-1.0412393, 1.3750113)\n",
      "A_g4_val2.\n",
      "(-1.041239, 1.3750113)\n",
      "A_g4_val3.\n",
      "(-1.0412394, 1.3750113)\n",
      "A_g4_val4.\n",
      "(-1.0412396, 1.3750113)\n",
      "A_g4_val5.\n",
      "(-1.0412395, 1.3750113)\n",
      "A_g4_val6.\n",
      "(-1.0412395, 1.3750113)\n",
      "A_g4_val7.\n",
      "(-1.0412396, 1.3750113)\n",
      "A_g4_val8.\n",
      "(-1.0412396, 1.3750113)\n",
      "A_g4_val9.\n"
     ]
    },
    {
     "data": {
      "image/png": "[encoded data removed]",
      "text/plain": [
       "<matplotlib.figure.Figure at 0x7f63b0c7e350>"
      ]
     },
     "metadata": {},
     "output_type": "display_data"
    }
   ],
   "source": [
    "name_tmp3 = base_folder + 'A_g%d_val%d.npy'\n",
    "\n",
    "for g in xrange(GROUPS):\n",
    "    #if g == 0 : continue\n",
    "    for i_val in xrange(len(rango)):\n",
    "        val = rango[i_val]\n",
    "        A = np.load(name_tmp3%(g,i_val))\n",
    "        print mm(A, cast_int=False)\n",
    "        plt = iu._is(A, vmin=0, vmax=1.5)\n",
    "        name_img = ('A_g%d_val%d.npy'%(g, i_val))[:-3]\n",
    "        print name_img\n",
    "        plt.savefig(base_folder+ '/res/'+name_img +'png')"
   ]
  },
  {
   "cell_type": "code",
   "execution_count": 11,
   "metadata": {
    "collapsed": false
   },
   "outputs": [
    {
     "name": "stdout",
     "output_type": "stream",
     "text": [
      "(-0.53329432, 1.2652071)\n",
      "B_g0_val0.\n",
      "(-0.53329432, 1.2652071)\n",
      "B_g0_val1.\n",
      "(-0.53329432, 1.2652071)\n",
      "B_g0_val2.\n",
      "(-0.53329432, 1.2652071)\n",
      "B_g0_val3.\n",
      "(-0.53329432, 1.2652071)\n",
      "B_g0_val4.\n",
      "(-0.53329432, 1.2652071)\n",
      "B_g0_val5.\n",
      "(-0.53329432, 1.2652071)\n",
      "B_g0_val6.\n",
      "(-0.53329432, 1.2652071)\n",
      "B_g0_val7.\n",
      "(-0.53329432, 1.2652071)\n",
      "B_g0_val8.\n",
      "(-0.53329432, 1.2652071)\n",
      "B_g0_val9.\n",
      "(-0.38402566, 0.9053914)\n",
      "B_g1_val0.\n",
      "(-0.38405564, 0.9053914)\n",
      "B_g1_val1.\n",
      "(-0.38396174, 0.9053914)\n",
      "B_g1_val2.\n",
      "(-0.38397008, 0.9053914)\n",
      "B_g1_val3.\n",
      "(-0.38423559, 0.9053914)\n",
      "B_g1_val4.\n",
      "(-0.3840299, 0.9053914)\n",
      "B_g1_val5.\n",
      "(-0.3840217, 0.9053914)\n",
      "B_g1_val6.\n",
      "(-0.3840656, 0.9053914)\n",
      "B_g1_val7.\n",
      "(-0.38396537, 0.9053914)\n",
      "B_g1_val8.\n",
      "(-0.38405034, 0.9053914)\n",
      "B_g1_val9.\n",
      "(-0.4403826, 1.574421)\n",
      "B_g2_val0.\n",
      "(-0.4403826, 1.574421)\n",
      "B_g2_val1.\n",
      "(-0.4403826, 1.574421)\n",
      "B_g2_val2.\n",
      "(-0.4403826, 1.574421)\n",
      "B_g2_val3.\n",
      "(-0.4403826, 1.574421)\n",
      "B_g2_val4.\n",
      "(-0.4403826, 1.574421)\n",
      "B_g2_val5.\n",
      "(-0.4403826, 1.574421)\n",
      "B_g2_val6.\n",
      "(-0.4403826, 1.574421)\n",
      "B_g2_val7.\n",
      "(-0.4403826, 1.574421)\n",
      "B_g2_val8.\n",
      "(-0.4403826, 1.574421)\n",
      "B_g2_val9.\n",
      "(-0.90103972, 1.3581153)\n",
      "B_g3_val0.\n",
      "(-0.90103972, 1.3581153)\n",
      "B_g3_val1.\n",
      "(-0.90103972, 1.3581153)\n",
      "B_g3_val2.\n",
      "(-0.90103972, 1.3581153)\n",
      "B_g3_val3.\n",
      "(-0.90103972, 1.3581153)\n",
      "B_g3_val4.\n",
      "(-0.90103972, 1.3581153)\n",
      "B_g3_val5.\n",
      "(-0.90103972, 1.3581153)\n",
      "B_g3_val6.\n",
      "(-0.90103972, 1.3581153)\n",
      "B_g3_val7.\n",
      "(-0.90103972, 1.3581153)\n",
      "B_g3_val8.\n",
      "(-0.90103972, 1.3581153)\n",
      "B_g3_val9.\n",
      "(-1.0412395, 1.3750113)\n",
      "B_g4_val0.\n",
      "(-1.0412396, 1.3750113)\n",
      "B_g4_val1.\n",
      "(-1.0412393, 1.3750113)\n",
      "B_g4_val2.\n",
      "(-1.041239, 1.3750113)\n",
      "B_g4_val3.\n",
      "(-1.0412394, 1.3750113)\n",
      "B_g4_val4.\n",
      "(-1.0412396, 1.3750113)\n",
      "B_g4_val5.\n",
      "(-1.0412395, 1.3750113)\n",
      "B_g4_val6.\n",
      "(-1.0412395, 1.3750113)\n",
      "B_g4_val7.\n",
      "(-1.0412396, 1.3750113)\n",
      "B_g4_val8.\n",
      "(-1.0412396, 1.3750113)\n",
      "B_g4_val9.\n"
     ]
    },
    {
     "data": {
      "image/png": "[encoded data removed]",
      "text/plain": [
       "<matplotlib.figure.Figure at 0x7f63b059d350>"
      ]
     },
     "metadata": {},
     "output_type": "display_data"
    }
   ],
   "source": [
    "name_tmp3 = base_folder + 'B_g%d_val%d.npy'\n",
    "\n",
    "for g in xrange(GROUPS):\n",
    "    #if g == 0 : continue\n",
    "    for i_val in xrange(len(rango)):\n",
    "        val = rango[i_val]\n",
    "        A = np.load(name_tmp3%(g,i_val))\n",
    "        print mm(A, cast_int=False)\n",
    "        plt = iu._is(A, vmin=0, vmax=1.5)\n",
    "        name_img = ('B_g%d_val%d.npy'%(g, i_val))[:-3]\n",
    "        print name_img\n",
    "        plt.savefig(base_folder+ '/res/'+name_img +'png')"
   ]
  },
  {
   "cell_type": "markdown",
   "metadata": {},
   "source": [
    "# Dibujando la original\n"
   ]
  },
  {
   "cell_type": "code",
   "execution_count": 16,
   "metadata": {
    "collapsed": false
   },
   "outputs": [
    {
     "name": "stdout",
     "output_type": "stream",
     "text": [
      "./results/exp6pixel/f1/lamda.201610201227/i_hr_g0_105115.npy\n",
      "(0.0, 4247856.0)\n",
      "i_hr_g0_105115.\n",
      "./results/exp6pixel/f1/lamda.201610201227/i_hr_g1_101006.npy\n",
      "(0.0, 51.797764)\n",
      "i_hr_g1_101006.\n",
      "./results/exp6pixel/f1/lamda.201610201227/i_hr_g2_101107.npy\n",
      "(0.0, 32.989147)\n",
      "i_hr_g2_101107.\n",
      "./results/exp6pixel/f1/lamda.201610201227/i_hr_g3_101915.npy\n",
      "(0.0, 4.1959381)\n",
      "i_hr_g3_101915.\n",
      "./results/exp6pixel/f1/lamda.201610201227/i_hr_g4_102816.npy\n",
      "(0.0, 4.2103333)\n",
      "i_hr_g4_102816.\n"
     ]
    },
    {
     "data": {
      "image/png": "[encoded data removed]",
      "text/plain": [
       "<matplotlib.figure.Figure at 0x7f63b31b0450>"
      ]
     },
     "metadata": {},
     "output_type": "display_data"
    }
   ],
   "source": [
    "#subjetc_fited = [103111, 101006, 101107, 101915,102816]\n",
    "#del(subject_fited)\n",
    "subjetc_fited = [105115, 101006, 101107, 101915, 102816]\n",
    "\n",
    "#name_tmp4 = base_folder + 'i_hr_g%d.npy'\n",
    "name_tmp4 = base_folder + 'i_hr_g%d_%d.npy'\n",
    "\n",
    "for g in xrange(5):\n",
    "    #if g == 0 : continue\n",
    "    \n",
    "    #print name_tmp4%(g,)\n",
    "    print name_tmp4%(g,subjetc_fited[g])\n",
    "    \n",
    "    #A = np.load(name_tmp4%(g,))\n",
    "    A = np.load(name_tmp4%(g,subjetc_fited[g]))\n",
    "    print mm(A, cast_int=False)\n",
    "    plt = iu._is(A, vmin=0, vmax=1.5)\n",
    "    #name_img = ('i_hr_g%d.png'%(g,))[:-3]\n",
    "    name_img = ('i_hr_g%d_%d.png'%(g, subjetc_fited[g]))[:-3]\n",
    "    print name_img\n",
    "    plt.savefig(base_folder + '/res/' +name_img)"
   ]
  },
  {
   "cell_type": "markdown",
   "metadata": {},
   "source": [
    "# Dibujando la upsampleada antes de minimizar\n"
   ]
  },
  {
   "cell_type": "code",
   "execution_count": 49,
   "metadata": {
    "collapsed": false
   },
   "outputs": [
    {
     "name": "stdout",
     "output_type": "stream",
     "text": [
      "(0.00053765206, 4247856.0)\n",
      "i_hr_fake_g0.\n",
      "(0.00018188616, 2.9902432)\n",
      "i_hr_fake_g1.\n",
      "(0.0, 2.2149892)\n",
      "i_hr_fake_g2.\n",
      "(0.00099337357, 2.8161852)\n",
      "i_hr_fake_g3.\n",
      "(0.0024674172, 3.1205568)\n",
      "i_hr_fake_g4.\n"
     ]
    },
    {
     "data": {
      "image/png": "[encoded data removed]",
      "text/plain": [
       "<matplotlib.figure.Figure at 0x7fed37c385d0>"
      ]
     },
     "metadata": {},
     "output_type": "display_data"
    }
   ],
   "source": [
    "name_tmp4 = base_folder + 'i_hr_fake_g%d.npy'\n",
    "for g in xrange(5):\n",
    "    #if g == 0 : continue\n",
    "    A = np.load(name_tmp4%(g,))\n",
    "    print mm(A, cast_int=False)\n",
    "    plt = iu._is(A, vmin=0, vmax=1.5)\n",
    "    name_img = ('i_hr_fake_g%d.png'%(g,))[:-3]\n",
    "    print name_img\n",
    "    plt.savefig(base_folder + '/res/' +name_img)"
   ]
  },
  {
   "cell_type": "code",
   "execution_count": null,
   "metadata": {
    "collapsed": true
   },
   "outputs": [],
   "source": []
  },
  {
   "cell_type": "code",
   "execution_count": null,
   "metadata": {
    "collapsed": true
   },
   "outputs": [],
   "source": []
  },
  {
   "cell_type": "code",
   "execution_count": 58,
   "metadata": {
    "collapsed": false
   },
   "outputs": [
    {
     "data": {
      "image/png": "[encoded data removed]",
      "text/plain": [
       "<matplotlib.figure.Figure at 0x7ffa97f7bb10>"
      ]
     },
     "metadata": {},
     "output_type": "display_data"
    }
   ],
   "source": [
    "## Para grabar\n",
    "g=4\n",
    "for g in xrange(1):\n",
    "    for i in xrange(1):\n",
    "        a = plt.plot(rango, mse[:, i, g],'o')\n",
    "    #plt.savefig('/user/lgomez/home/workspace/iqt/results/exp6/gammas/gamma_g'+str(g)+'_f'+str(i)+'.png')\n",
    "    \n",
    "    \n",
    "#plt.savefig('/user/lgomez/home/workspace/iqt/results/exp6/gammas/gamma_all.png')\n",
    "    "
   ]
  },
  {
   "cell_type": "code",
   "execution_count": 56,
   "metadata": {
    "collapsed": false
   },
   "outputs": [
    {
     "data": {
      "image/png": "[encoded data removed]",
      "text/plain": [
       "<matplotlib.figure.Figure at 0x7efdbb3ad3d0>"
      ]
     },
     "metadata": {},
     "output_type": "display_data"
    }
   ],
   "source": [
    "cluster = '1'\n",
    "if cluster == '0':\n",
    "    plt.plot(rango, mse[:, 0, 0],'o')\n",
    "    plt.plot(rango, mse[:, 6, 0],'o')\n",
    "    plt.plot(rango, mse[:, 7, 0],'o')\n",
    "\n",
    "if cluster == '1':\n",
    "    plt.plot(rango, mse[:, 1, 1],'o')\n",
    "    plt.plot(rango, mse[:, 2, 1],'o')\n",
    "    #plt.plot(rango, mse[:, 3, 0],'o')\n",
    "    plt.plot(rango, mse[:, 4, 1],'o')\n",
    "    plt.plot(rango, mse[:, 5, 1],'o')\n",
    "    plt.plot(rango, mse[:, 8, 1],'o')\n",
    "\n"
   ]
  },
  {
   "cell_type": "code",
   "execution_count": 61,
   "metadata": {
    "collapsed": false
   },
   "outputs": [
    {
     "ename": "TypeError",
     "evalue": "not enough arguments for format string",
     "output_type": "error",
     "traceback": [
      "\u001b[0;31m---------------------------------------------------------------------------\u001b[0m",
      "\u001b[0;31mTypeError\u001b[0m                                 Traceback (most recent call last)",
      "\u001b[0;32m<ipython-input-61-203f5e33c352>\u001b[0m in \u001b[0;36m<module>\u001b[0;34m()\u001b[0m\n\u001b[1;32m      1\u001b[0m \u001b[0mname_tmp4\u001b[0m \u001b[0;34m=\u001b[0m \u001b[0mbase_folder\u001b[0m \u001b[0;34m+\u001b[0m \u001b[0;34m'i_hr_g%d.npy'\u001b[0m\u001b[0;34m\u001b[0m\u001b[0m\n\u001b[1;32m      2\u001b[0m \u001b[0;32mfor\u001b[0m \u001b[0mg\u001b[0m \u001b[0;32min\u001b[0m \u001b[0mxrange\u001b[0m\u001b[0;34m(\u001b[0m\u001b[0;36m5\u001b[0m\u001b[0;34m)\u001b[0m\u001b[0;34m:\u001b[0m\u001b[0;34m\u001b[0m\u001b[0m\n\u001b[0;32m----> 3\u001b[0;31m     \u001b[0mA\u001b[0m \u001b[0;34m=\u001b[0m \u001b[0mnp\u001b[0m\u001b[0;34m.\u001b[0m\u001b[0mload\u001b[0m\u001b[0;34m(\u001b[0m\u001b[0mname_tmp3\u001b[0m\u001b[0;34m%\u001b[0m\u001b[0;34m(\u001b[0m\u001b[0mg\u001b[0m\u001b[0;34m,\u001b[0m\u001b[0;34m)\u001b[0m\u001b[0;34m)\u001b[0m\u001b[0;34m\u001b[0m\u001b[0m\n\u001b[0m\u001b[1;32m      4\u001b[0m     \u001b[0mi_hr\u001b[0m \u001b[0;34m=\u001b[0m \u001b[0mnp\u001b[0m\u001b[0;34m.\u001b[0m\u001b[0mload\u001b[0m\u001b[0;34m(\u001b[0m\u001b[0mname_tmp4\u001b[0m\u001b[0;34m%\u001b[0m\u001b[0;34m(\u001b[0m\u001b[0mg\u001b[0m\u001b[0;34m,\u001b[0m\u001b[0;34m)\u001b[0m\u001b[0;34m)\u001b[0m\u001b[0;34m\u001b[0m\u001b[0m\n\u001b[1;32m      5\u001b[0m     \u001b[0;31m#print mm(A, cast_int=False)\u001b[0m\u001b[0;34m\u001b[0m\u001b[0;34m\u001b[0m\u001b[0m\n",
      "\u001b[0;31mTypeError\u001b[0m: not enough arguments for format string"
     ]
    }
   ],
   "source": [
    "name_tmp4 = base_folder + 'i_hr_g%d.npy'\n",
    "for g in xrange(5):\n",
    "    A = np.load(name_tmp3%(g,))\n",
    "    i_hr = np.load(name_tmp4%(g,))\n",
    "    #print mm(A, cast_int=False)\n",
    "    plt = iu._isc(A,i_hr, vmin=0, vmax=1, titles=['reconstructed', 'original'])\n",
    "    name_img = base_folder + ('cmp_g%d'%(g))\n",
    "    print name_img\n",
    "    plt.savefig(name_img +'.png')"
   ]
  },
  {
   "cell_type": "code",
   "execution_count": 9,
   "metadata": {
    "collapsed": false
   },
   "outputs": [
    {
     "ename": "IOError",
     "evalue": "[Errno 2] No such file or directory: './results/exp6/f1/gamma/A_g0_lamda910000.npy'",
     "output_type": "error",
     "traceback": [
      "\u001b[1;31m---------------------------------------------------------------------------\u001b[0m",
      "\u001b[1;31mIOError\u001b[0m                                   Traceback (most recent call last)",
      "\u001b[1;32m<ipython-input-9-bbce10d412d8>\u001b[0m in \u001b[0;36m<module>\u001b[1;34m()\u001b[0m\n\u001b[0;32m      1\u001b[0m \u001b[0mi_hr\u001b[0m \u001b[1;33m=\u001b[0m \u001b[0mnp\u001b[0m\u001b[1;33m.\u001b[0m\u001b[0mload\u001b[0m\u001b[1;33m(\u001b[0m\u001b[0mbase_folder\u001b[0m\u001b[1;33m+\u001b[0m\u001b[1;34m'i_hr_g0.npy'\u001b[0m\u001b[1;33m)\u001b[0m\u001b[1;33m\u001b[0m\u001b[0m\n\u001b[1;32m----> 2\u001b[1;33m \u001b[0mA910000\u001b[0m \u001b[1;33m=\u001b[0m \u001b[0mnp\u001b[0m\u001b[1;33m.\u001b[0m\u001b[0mload\u001b[0m\u001b[1;33m(\u001b[0m\u001b[0mbase_folder\u001b[0m\u001b[1;33m+\u001b[0m\u001b[1;34m'A_g0_lamda910000.npy'\u001b[0m\u001b[1;33m)\u001b[0m\u001b[1;33m\u001b[0m\u001b[0m\n\u001b[0m\u001b[0;32m      3\u001b[0m \u001b[0miu\u001b[0m\u001b[1;33m.\u001b[0m\u001b[0m_isc\u001b[0m\u001b[1;33m(\u001b[0m\u001b[0mA910000\u001b[0m\u001b[1;33m,\u001b[0m\u001b[0mi_hr\u001b[0m\u001b[1;33m,\u001b[0m \u001b[0mvmax\u001b[0m\u001b[1;33m=\u001b[0m\u001b[1;36m1.4\u001b[0m\u001b[1;33m)\u001b[0m\u001b[1;33m\u001b[0m\u001b[0m\n\u001b[0;32m      4\u001b[0m \u001b[0mA910000\u001b[0m\u001b[1;33m.\u001b[0m\u001b[0mmin\u001b[0m\u001b[1;33m(\u001b[0m\u001b[1;33m)\u001b[0m\u001b[1;33m,\u001b[0m \u001b[0mA910000\u001b[0m\u001b[1;33m.\u001b[0m\u001b[0mmax\u001b[0m\u001b[1;33m(\u001b[0m\u001b[1;33m)\u001b[0m\u001b[1;33m,\u001b[0m \u001b[0mA910000\u001b[0m\u001b[1;33m.\u001b[0m\u001b[0mshape\u001b[0m\u001b[1;33m\u001b[0m\u001b[0m\n\u001b[0;32m      5\u001b[0m \u001b[1;32mdel\u001b[0m\u001b[1;33m(\u001b[0m\u001b[0mA100\u001b[0m\u001b[1;33m)\u001b[0m\u001b[1;33m\u001b[0m\u001b[0m\n",
      "\u001b[1;32m/user/lgomez/home/anaconda2/lib/python2.7/site-packages/numpy/lib/npyio.pyc\u001b[0m in \u001b[0;36mload\u001b[1;34m(file, mmap_mode, allow_pickle, fix_imports, encoding)\u001b[0m\n\u001b[0;32m    360\u001b[0m     \u001b[0mown_fid\u001b[0m \u001b[1;33m=\u001b[0m \u001b[0mFalse\u001b[0m\u001b[1;33m\u001b[0m\u001b[0m\n\u001b[0;32m    361\u001b[0m     \u001b[1;32mif\u001b[0m \u001b[0misinstance\u001b[0m\u001b[1;33m(\u001b[0m\u001b[0mfile\u001b[0m\u001b[1;33m,\u001b[0m \u001b[0mbasestring\u001b[0m\u001b[1;33m)\u001b[0m\u001b[1;33m:\u001b[0m\u001b[1;33m\u001b[0m\u001b[0m\n\u001b[1;32m--> 362\u001b[1;33m         \u001b[0mfid\u001b[0m \u001b[1;33m=\u001b[0m \u001b[0mopen\u001b[0m\u001b[1;33m(\u001b[0m\u001b[0mfile\u001b[0m\u001b[1;33m,\u001b[0m \u001b[1;34m\"rb\"\u001b[0m\u001b[1;33m)\u001b[0m\u001b[1;33m\u001b[0m\u001b[0m\n\u001b[0m\u001b[0;32m    363\u001b[0m         \u001b[0mown_fid\u001b[0m \u001b[1;33m=\u001b[0m \u001b[0mTrue\u001b[0m\u001b[1;33m\u001b[0m\u001b[0m\n\u001b[0;32m    364\u001b[0m     \u001b[1;32melse\u001b[0m\u001b[1;33m:\u001b[0m\u001b[1;33m\u001b[0m\u001b[0m\n",
      "\u001b[1;31mIOError\u001b[0m: [Errno 2] No such file or directory: './results/exp6/f1/gamma/A_g0_lamda910000.npy'"
     ]
    }
   ],
   "source": [
    "i_hr = np.load(base_folder+'i_hr_g0.npy')\n",
    "A910000 = np.load(base_folder+'A_g0_lamda910000.npy')\n",
    "iu._isc(A910000,i_hr, vmax=1.4)\n",
    "A910000.min(), A910000.max(), A910000.shape\n",
    "del(A100)"
   ]
  },
  {
   "cell_type": "code",
   "execution_count": 16,
   "metadata": {
    "collapsed": false
   },
   "outputs": [
    {
     "data": {
      "text/plain": [
       "(0.0, 2729.8464)"
      ]
     },
     "execution_count": 16,
     "metadata": {},
     "output_type": "execute_result"
    },
    {
     "data": {
      "image/png": "[encoded data removed]",
      "text/plain": [
       "<matplotlib.figure.Figure at 0x7fe8ed7d0bd0>"
      ]
     },
     "metadata": {},
     "output_type": "display_data"
    }
   ],
   "source": [
    "iu._is(i_hr, vmax=2729)\n",
    "i_hr.min(),i_hr.max()"
   ]
  },
  {
   "cell_type": "code",
   "execution_count": 51,
   "metadata": {
    "collapsed": false
   },
   "outputs": [
    {
     "data": {
      "text/plain": [
       "(-1.5125681573504312e-05, 1.4016132523250628, (12, 12, 12, 270))"
      ]
     },
     "execution_count": 51,
     "metadata": {},
     "output_type": "execute_result"
    },
    {
     "data": {
      "image/png": "[encoded data removed]",
      "text/plain": [
       "<matplotlib.figure.Figure at 0x7f70534ef510>"
      ]
     },
     "metadata": {},
     "output_type": "display_data"
    }
   ],
   "source": [
    "A1000 = np.load(base_folder+'A_g0_lamda1000.npy')\n",
    "iu._is(A1000, vmax=A1000.max())\n",
    "A1000.min(), A1000.max(), A1000.shape"
   ]
  },
  {
   "cell_type": "code",
   "execution_count": 51,
   "metadata": {
    "collapsed": false
   },
   "outputs": [
    {
     "data": {
      "text/plain": [
       "(-1.5125681573504312e-05, 1.4016132523250628, (12, 12, 12, 270))"
      ]
     },
     "execution_count": 51,
     "metadata": {},
     "output_type": "execute_result"
    },
    {
     "data": {
      "image/png": "[encoded data removed]",
      "text/plain": [
       "<matplotlib.figure.Figure at 0x7fa9b5b34e10>"
      ]
     },
     "metadata": {},
     "output_type": "display_data"
    }
   ],
   "source": [
    "A1000 = np.load(base_folder+'A_g0_lamda3000.npy')\n",
    "iu._is(A1000, vmax=A1000.max())\n",
    "A1000.min(), A1000.max(), A1000.shape"
   ]
  },
  {
   "cell_type": "code",
   "execution_count": 30,
   "metadata": {
    "collapsed": false
   },
   "outputs": [
    {
     "name": "stdout",
     "output_type": "stream",
     "text": [
      "[1000, 2000, 3000, 4000, 5000, 6000, 7000, 8000, 9000, 10000]\n"
     ]
    }
   ],
   "source": [
    "alala = []\n",
    "for val in rango :\n",
    "    alala.append(val)\n",
    "    \n",
    "print alala"
   ]
  }
 ],
 "metadata": {
  "anaconda-cloud": {},
  "kernelspec": {
   "display_name": "Python [default]",
   "language": "python",
   "name": "python2"
  },
  "language_info": {
   "codemirror_mode": {
    "name": "ipython",
    "version": 2
   },
   "file_extension": ".py",
   "mimetype": "text/x-python",
   "name": "python",
   "nbconvert_exporter": "python",
   "pygments_lexer": "ipython2",
   "version": "2.7.12"
  }
 },
 "nbformat": 4,
 "nbformat_minor": 0
}
