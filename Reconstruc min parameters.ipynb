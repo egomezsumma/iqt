{
 "cells": [
  {
   "cell_type": "code",
   "execution_count": 24,
   "metadata": {
    "collapsed": false
   },
   "outputs": [
    {
     "name": "stdout",
     "output_type": "stream",
     "text": [
      "Populating the interactive namespace from numpy and matplotlib\n"
     ]
    },
    {
     "name": "stderr",
     "output_type": "stream",
     "text": [
      "/home/leexgo1987/apps/anaconda2/lib/python2.7/site-packages/IPython/core/magics/pylab.py:161: UserWarning: pylab import has clobbered these variables: ['f', 'mean', 'var']\n",
      "`%matplotlib` prevents importing * from pylab and numpy\n",
      "  \"\\n`%matplotlib` prevents importing * from pylab and numpy\"\n"
     ]
    }
   ],
   "source": [
    "import numpy as np\n",
    "#from conf_exp6 import *\n",
    "%pylab inline\n",
    "#import seaborn\n",
    "import matplotlib.pyplot as plt\n",
    "import utils.img_utils as iu\n",
    "import json\n",
    "\n",
    "\n",
    "def mm(A, cast_int=True):\n",
    "    if cast_int:\n",
    "        return (int(A.min()), int(A.max()))\n",
    "    else:\n",
    "        return (A.min(), A.max())"
   ]
  },
  {
   "cell_type": "code",
   "execution_count": 66,
   "metadata": {
    "collapsed": false
   },
   "outputs": [
    {
     "name": "stdout",
     "output_type": "stream",
     "text": [
      "[1e-15, 0.1000000000000009, 0.2000000000000008, 0.3000000000000007, 0.4000000000000006, 0.5000000000000004, 0.6000000000000004, 0.7000000000000003, 0.8000000000000002, 0.9]\n",
      "loading ./results/exp6pixel/f1/gamma.201610200008/mse_g0_f0.npy\n",
      "loading ./results/exp6pixel/f1/gamma.201610200008/mse_g0_f1.npy\n",
      "loading ./results/exp6pixel/f1/gamma.201610200008/mse_g0_f2.npy\n",
      "loading ./results/exp6pixel/f1/gamma.201610200008/mse_g0_f3.npy\n",
      "loading ./results/exp6pixel/f1/gamma.201610200008/mse_g0_f4.npy\n",
      "loading ./results/exp6pixel/f1/gamma.201610200008/mse_g0_f5.npy\n",
      "loading ./results/exp6pixel/f1/gamma.201610200008/mse_g0_f6.npy\n",
      "loading ./results/exp6pixel/f1/gamma.201610200008/mse_g0_f7.npy\n",
      "loading ./results/exp6pixel/f1/gamma.201610200008/mse_g0_f8.npy\n",
      "loading ./results/exp6pixel/f1/gamma.201610200008/mse_g0_f9.npy\n",
      "loading ./results/exp6pixel/f1/gamma.201610200008/mse_g1_f0.npy\n",
      "loading ./results/exp6pixel/f1/gamma.201610200008/mse_g1_f1.npy\n",
      "loading ./results/exp6pixel/f1/gamma.201610200008/mse_g1_f2.npy\n",
      "loading ./results/exp6pixel/f1/gamma.201610200008/mse_g1_f3.npy\n",
      "loading ./results/exp6pixel/f1/gamma.201610200008/mse_g1_f4.npy\n",
      "loading ./results/exp6pixel/f1/gamma.201610200008/mse_g1_f5.npy\n",
      "loading ./results/exp6pixel/f1/gamma.201610200008/mse_g1_f6.npy\n",
      "loading ./results/exp6pixel/f1/gamma.201610200008/mse_g1_f7.npy\n",
      "loading ./results/exp6pixel/f1/gamma.201610200008/mse_g1_f8.npy\n",
      "loading ./results/exp6pixel/f1/gamma.201610200008/mse_g1_f9.npy\n",
      "loading ./results/exp6pixel/f1/gamma.201610200008/mse_g2_f0.npy\n",
      "loading ./results/exp6pixel/f1/gamma.201610200008/mse_g2_f1.npy\n",
      "loading ./results/exp6pixel/f1/gamma.201610200008/mse_g2_f2.npy\n",
      "loading ./results/exp6pixel/f1/gamma.201610200008/mse_g2_f3.npy\n",
      "loading ./results/exp6pixel/f1/gamma.201610200008/mse_g2_f4.npy\n",
      "loading ./results/exp6pixel/f1/gamma.201610200008/mse_g2_f5.npy\n",
      "loading ./results/exp6pixel/f1/gamma.201610200008/mse_g2_f6.npy\n",
      "loading ./results/exp6pixel/f1/gamma.201610200008/mse_g2_f7.npy\n",
      "loading ./results/exp6pixel/f1/gamma.201610200008/mse_g2_f8.npy\n",
      "loading ./results/exp6pixel/f1/gamma.201610200008/mse_g2_f9.npy\n",
      "loading ./results/exp6pixel/f1/gamma.201610200008/mse_g3_f0.npy\n",
      "loading ./results/exp6pixel/f1/gamma.201610200008/mse_g3_f1.npy\n",
      "loading ./results/exp6pixel/f1/gamma.201610200008/mse_g3_f2.npy\n",
      "loading ./results/exp6pixel/f1/gamma.201610200008/mse_g3_f3.npy\n",
      "loading ./results/exp6pixel/f1/gamma.201610200008/mse_g3_f4.npy\n",
      "loading ./results/exp6pixel/f1/gamma.201610200008/mse_g3_f5.npy\n",
      "loading ./results/exp6pixel/f1/gamma.201610200008/mse_g3_f6.npy\n",
      "loading ./results/exp6pixel/f1/gamma.201610200008/mse_g3_f7.npy\n",
      "loading ./results/exp6pixel/f1/gamma.201610200008/mse_g3_f8.npy\n",
      "loading ./results/exp6pixel/f1/gamma.201610200008/mse_g3_f9.npy\n",
      "loading ./results/exp6pixel/f1/gamma.201610200008/mse_g4_f0.npy\n",
      "loading ./results/exp6pixel/f1/gamma.201610200008/mse_g4_f1.npy\n",
      "loading ./results/exp6pixel/f1/gamma.201610200008/mse_g4_f2.npy\n",
      "loading ./results/exp6pixel/f1/gamma.201610200008/mse_g4_f3.npy\n",
      "loading ./results/exp6pixel/f1/gamma.201610200008/mse_g4_f4.npy\n",
      "loading ./results/exp6pixel/f1/gamma.201610200008/mse_g4_f5.npy\n",
      "loading ./results/exp6pixel/f1/gamma.201610200008/mse_g4_f6.npy\n",
      "loading ./results/exp6pixel/f1/gamma.201610200008/mse_g4_f7.npy\n",
      "loading ./results/exp6pixel/f1/gamma.201610200008/mse_g4_f8.npy\n",
      "loading ./results/exp6pixel/f1/gamma.201610200008/mse_g4_f9.npy\n",
      "(10, 10, 5) (10, 10, 5) (10, 10, 5) (10, 10, 5)\n"
     ]
    }
   ],
   "source": [
    "#parameter_name = 'lamda'\n",
    "#idjob='201610141834'\n",
    "#idjob='201610160213'\n",
    "#idjob='201610172354'\n",
    "parameter_name = 'gamma'\n",
    "idjob='201610200008'\n",
    "\n",
    "formula = 'f1'\n",
    "base_folder = './results/exp6pixel/%s/%s.%s/'%(formula, parameter_name, idjob)\n",
    "\n",
    "\n",
    "with open(base_folder + 'data.json') as data_file:    \n",
    "    data = json.load(data_file)\n",
    "\n",
    "params_range = data['params_range']\n",
    "rango = params_range[parameter_name]\n",
    "#rango = np.arange(100, 1001, 100)\n",
    "\n",
    "GROUPS=5\n",
    "FITS=10\n",
    "RANGO=len(rango)\n",
    "print rango \n",
    "\n",
    "mse = np.zeros((RANGO, FITS, GROUPS), dtype='float32')\n",
    "mse1000 = np.zeros((RANGO, FITS, GROUPS), dtype='float32')\n",
    "mse2000 = np.zeros((RANGO, FITS, GROUPS), dtype='float32')\n",
    "mse3000 = np.zeros((RANGO, FITS, GROUPS), dtype='float32')\n",
    "a = np.zeros((RANGO), dtype='float')\n",
    "\n",
    "name_tmp1 = base_folder + 'mse_g%d_f%d'+'.npy'\n",
    "name_tmp2 = base_folder + 'mse%d_g%d_f%d'+'.npy'\n",
    "for group in xrange(GROUPS):\n",
    "    #if group==0 : continue\n",
    "    for fit in xrange(FITS):\n",
    "        #if fit == 0 : continue\n",
    "        print 'loading', name_tmp1%(group, fit)\n",
    "        tmp = np.load(name_tmp1%(group, fit))\n",
    "        a = a + tmp\n",
    "        mse[:, fit, group] = tmp\n",
    "        mse1000[:, fit, group] = np.load(name_tmp2%(1000, group, fit))\n",
    "        mse2000[:, fit, group] = np.load(name_tmp2%(2000, group, fit))\n",
    "        mse3000[:, fit, group] = np.load(name_tmp2%(3000, group, fit))\n",
    "\n",
    "a = a / (FITS*GROUPS)\n",
    "        \n",
    "print mse.shape, mse1000.shape, mse2000.shape, mse3000.shape\n"
   ]
  },
  {
   "cell_type": "code",
   "execution_count": 83,
   "metadata": {
    "collapsed": false
   },
   "outputs": [
    {
     "name": "stdout",
     "output_type": "stream",
     "text": [
      "[1e-15, 0.1000000000000009, 0.2000000000000008, 0.3000000000000007, 0.4000000000000006, 0.5000000000000004, 0.6000000000000004, 0.7000000000000003, 0.8000000000000002, 0.9]\n",
      "[ 0.1499517   0.13069278  0.12624134  0.12438689  0.12356768  0.1228864\n",
      "  0.12319814  0.12314238  0.12326417  0.12335134]\n",
      "[ 0.31346226  0.29541948  0.29188275  0.29049385  0.28911051  0.2885811\n",
      "  0.28846097  0.2883814   0.28814825  0.28801194]\n",
      "[ 0.24371992  0.23897491  0.23601989  0.23457445  0.23393315  0.23353544\n",
      "  0.23322035  0.23311076  0.23314361  0.2331185 ]\n",
      "[ 0.86105925  0.86149478  0.85746354  0.85568339  0.85454857  0.85366243\n",
      "  0.85323662  0.85295135  0.85286534  0.85294497]\n"
     ]
    }
   ],
   "source": [
    "mse1000.shape\n",
    "print rango\n",
    "print mse1000[:, 0,0]\n",
    "print mse1000[:, 1,0]\n",
    "print mse1000[:, 0,1]\n",
    "print mse1000[:, 1,1]\n"
   ]
  },
  {
   "cell_type": "code",
   "execution_count": 92,
   "metadata": {
    "collapsed": false
   },
   "outputs": [
    {
     "name": "stdout",
     "output_type": "stream",
     "text": [
      "[  5.59385883e+09   5.59385883e+09   5.59385883e+09   5.59385883e+09\n",
      "   5.59385883e+09   5.59385883e+09   5.59385883e+09   5.59385883e+09\n",
      "   5.59385883e+09   5.59385883e+09]\n",
      "[  1.11877184e+08   1.11877184e+08   1.11877184e+08   1.11877184e+08\n",
      "   1.11877184e+08   1.11877184e+08   1.11877184e+08   1.11877184e+08\n",
      "   1.11877184e+08   1.11877184e+08]\n",
      "[  1.59824538e+08   1.59824538e+08   1.59824538e+08   1.59824538e+08\n",
      "   1.59824538e+08   1.59824538e+08   1.59824538e+08   1.59824538e+08\n",
      "   1.59824538e+08   1.59824538e+08]\n"
     ]
    }
   ],
   "source": [
    "mean= mse.mean(axis=2).mean(axis=1)\n",
    "var = np.std(np.std(mse, axis=2), axis=1)\n",
    "\n",
    "acum = np.zeros(mse.shape[0])\n",
    "n =0\n",
    "for f in xrange(7):\n",
    "    for g in xrange(5):\n",
    "        acum = acum + mse[:, f, g]\n",
    "        n=n+1\n",
    "\n",
    "\n",
    "mean2 = acum/n\n",
    "\n",
    "print acum\n",
    "print mean\n",
    "print mean2\n"
   ]
  },
  {
   "cell_type": "code",
   "execution_count": 68,
   "metadata": {
    "collapsed": false
   },
   "outputs": [
    {
     "name": "stdout",
     "output_type": "stream",
     "text": [
      "[1e-15, 0.1000000000000009, 0.2000000000000008, 0.3000000000000007, 0.4000000000000006, 0.5000000000000004, 0.6000000000000004, 0.7000000000000003, 0.8000000000000002, 0.9]\n",
      "[  1.01822168e+08   1.01822160e+08   1.01822160e+08   1.01822160e+08\n",
      "   1.01822160e+08   1.01822160e+08   1.01822160e+08   1.01822160e+08\n",
      "   1.01822160e+08   1.01822160e+08] (10,) (10, 10, 5)\n",
      "[  1.91929401e-03   1.16273726e-03   8.82064283e-04   8.56912811e-04\n",
      "   1.62485475e-03   1.21431458e+02   2.60565337e-03   1.22979877e-03\n",
      "   2.98366207e-03   3.28436436e-04]\n"
     ]
    }
   ],
   "source": [
    "print rango\n",
    "mean1000 = mse1000.mean(axis=2).mean(axis=1)\n",
    "var1000 = np.std(np.std(mse1000, axis=2), axis=0)\n",
    "print mean1000, mean1000.shape, mse1000.shape\n",
    "print var1000"
   ]
  },
  {
   "cell_type": "code",
   "execution_count": 69,
   "metadata": {
    "collapsed": false
   },
   "outputs": [
    {
     "name": "stdout",
     "output_type": "stream",
     "text": [
      "[1e-15, 0.1000000000000009, 0.2000000000000008, 0.3000000000000007, 0.4000000000000006, 0.5000000000000004, 0.6000000000000004, 0.7000000000000003, 0.8000000000000002, 0.9]\n",
      "[ 54731756.  54731756.  54731756.  54731756.  54731756.  54731756.\n",
      "  54731756.  54731756.  54731756.  54731756.] (10,) (10, 10, 5)\n",
      "[  2.01097312e+08   2.01097312e+08   2.01097312e+08   2.01097312e+08\n",
      "   2.01097312e+08   2.01097312e+08   2.01097312e+08   2.01097312e+08\n",
      "   2.01097312e+08   2.01097312e+08]\n"
     ]
    }
   ],
   "source": [
    "print rango\n",
    "mean2000 = mse2000.mean(axis=2).mean(axis=1)\n",
    "var2000 = np.std(np.std(mse2000, axis=2), axis=1)\n",
    "\n",
    "print mean2000, mean2000.shape, mse2000.shape\n",
    "\n",
    "print var2000"
   ]
  },
  {
   "cell_type": "code",
   "execution_count": 70,
   "metadata": {
    "collapsed": false
   },
   "outputs": [
    {
     "name": "stdout",
     "output_type": "stream",
     "text": [
      "(10,) [1e-15, 0.1000000000000009, 0.2000000000000008, 0.3000000000000007, 0.4000000000000006, 0.5000000000000004, 0.6000000000000004, 0.7000000000000003, 0.8000000000000002, 0.9]\n",
      "[  1.57070608e+08   1.57070608e+08   1.57070608e+08   1.57070608e+08\n",
      "   1.57070608e+08   1.57070608e+08   1.57070608e+08   1.57070608e+08\n",
      "   1.57070608e+08   1.57070608e+08]\n",
      "[  5.77114240e+08   5.77114240e+08   5.77114240e+08   5.77114240e+08\n",
      "   5.77114240e+08   5.77114240e+08   5.77114240e+08   5.77114240e+08\n",
      "   5.77114240e+08   5.77114240e+08]\n"
     ]
    }
   ],
   "source": [
    "#rango = np.arange(100, 1001, 100)\n",
    "print mean.shape, rango\n",
    "mean3000 = mse3000.mean(axis=2).mean(axis=1)\n",
    "var3000 = np.std(np.std(mse3000, axis=2), axis=1)\n",
    "print mean3000\n",
    "print var3000"
   ]
  },
  {
   "cell_type": "code",
   "execution_count": 71,
   "metadata": {
    "collapsed": false
   },
   "outputs": [
    {
     "name": "stdout",
     "output_type": "stream",
     "text": [
      "(10,) (10, 3)\n",
      "medias= 1.11877e+08 1.01822e+08 5.47318e+07 1.57071e+08\n",
      "std= 5.48084e+08 4.98825e+08 2.6813e+08 7.69486e+08\n",
      "mean1000 [  1.01822168e+08   1.01822160e+08   1.01822160e+08   1.01822160e+08\n",
      "   1.01822160e+08   1.01822160e+08   1.01822160e+08   1.01822160e+08\n",
      "   1.01822160e+08   1.01822160e+08]\n",
      "mean2000 [ 54731756.  54731756.  54731756.  54731756.  54731756.  54731756.\n",
      "  54731756.  54731756.  54731756.  54731756.]\n",
      "mean [  1.11877184e+08   1.11877184e+08   1.11877184e+08   1.11877184e+08\n",
      "   1.11877184e+08   1.11877184e+08   1.11877184e+08   1.11877184e+08\n",
      "   1.11877184e+08   1.11877184e+08] 1.11877e+08\n",
      "[1e-15, 0.1000000000000009, 0.2000000000000008, 0.3000000000000007, 0.4000000000000006, 0.5000000000000004, 0.6000000000000004, 0.7000000000000003, 0.8000000000000002, 0.9]\n",
      "dir ./results/exp6pixel/f1/gamma.201610200008/res/ created!\n"
     ]
    },
    {
     "data": {
      "image/png": "[encoded data removed]",
      "text/plain": [
       "<matplotlib.figure.Figure at 0x7ffa97d90050>"
      ]
     },
     "metadata": {},
     "output_type": "display_data"
    }
   ],
   "source": [
    "#rango = np.arange(100, 1001, 100)\n",
    "\n",
    "mean3 = np.zeros((mean1000.shape[0], 3))\n",
    "print mean2000.shape, mean3.shape\n",
    "mean3[:, 0] = mean1000\n",
    "mean3[:, 1] = mean2000\n",
    "mean3[:, 2] = mean3000\n",
    "\n",
    "#plt.plot(rango, mean3000,'o', label='b=3000')\n",
    "#plt.plot(rango, mean1000, 'o', label='b=1000')\n",
    "#plt.plot(rango, mean2000,'o', label='b=2000')\n",
    "#plt.plot(rango, mean3.mean(axis=1),'o', label='b=all')\n",
    "#plt.plot(rango, mean,'o', label='b=all')\n",
    "\n",
    "#plt.plot(rango, mean+var,'o', label='b=all')\n",
    "#plt.plot(rango, mean-var,'o', label='b=all')\n",
    "\n",
    "#plt.errorbar(rango, mean, yerr=var, fmt='o', label='b=all')\n",
    "plt.errorbar(rango, mean3.mean(axis=1), yerr=np.std(mean3, axis=1), fmt='o')\n",
    "\n",
    "\n",
    "plt.legend()\n",
    "plt.ylabel('MSE(Yhr,^Yhr)')\n",
    "plt.xlabel(parameter_name)\n",
    "#plt.legend(lala , loc=2, bbox_to_anchor=(1, 0.5))\n",
    "#plt.ylim((1102000.0, 1102300.0))\n",
    "mse[:,2,1]\n",
    "#print plt.ylim((940000000.0, 960000000.0))\n",
    "\n",
    "print 'medias=',mse.mean(),mse1000.mean(), mse2000.mean(), mse3000.mean() \n",
    "print 'std=',np.std(mse),np.std(mse1000), np.std(mse2000), np.std(mse3000) \n",
    "print 'mean1000', mean1000\n",
    "print 'mean2000', mean2000\n",
    "print 'mean', mean, mean.min()\n",
    "print rango\n",
    "\n",
    "import os\n",
    "if not os.path.exists(base_folder+ 'res/'):\n",
    "    try:\n",
    "        os.makedirs(base_folder+ 'res/')\n",
    "        print 'dir', base_folder+ 'res/', 'created!' \n",
    "    except OSError, e :\n",
    "        print str(e)\n",
    "\n",
    "\n",
    "## Para grabar\n",
    "plt.savefig(base_folder+ 'res/'+parameter_name+'_mean_var_idjob'+idjob+'.pdf')"
   ]
  },
  {
   "cell_type": "markdown",
   "metadata": {},
   "source": [
    "# Dibujando la reconstruida\n"
   ]
  },
  {
   "cell_type": "code",
   "execution_count": 72,
   "metadata": {
    "collapsed": false
   },
   "outputs": [
    {
     "name": "stdout",
     "output_type": "stream",
     "text": [
      "(-0.33758634, 1.9059533)\n",
      "A_g0_val0.\n",
      "(-0.31253478, 1.5283439)\n",
      "A_g0_val1.\n",
      "(-0.17134583, 1.4044008)\n",
      "A_g0_val2.\n",
      "(-0.099939808, 1.3380975)\n",
      "A_g0_val3.\n",
      "(-0.15183258, 1.2982551)\n",
      "A_g0_val4.\n",
      "(-0.1408954, 1.2770354)\n",
      "A_g0_val5.\n",
      "(-0.14164546, 1.2618328)\n",
      "A_g0_val6.\n",
      "(-0.14620127, 1.2546411)\n",
      "A_g0_val7.\n",
      "(-0.15391858, 1.2525017)\n",
      "A_g0_val8.\n",
      "(-0.16464306, 1.2597612)\n",
      "A_g0_val9.\n",
      "(-1.0730458, 1.8602544)\n",
      "A_g1_val0.\n",
      "(-0.63117284, 1.3608842)\n",
      "A_g1_val1.\n",
      "(-0.42458931, 1.3122443)\n",
      "A_g1_val2.\n",
      "(-0.3771221, 1.2742896)\n",
      "A_g1_val3.\n",
      "(-0.35367447, 1.275861)\n",
      "A_g1_val4.\n",
      "(-0.30840623, 1.2203343)\n",
      "A_g1_val5.\n",
      "(-0.30861303, 1.2163529)\n",
      "A_g1_val6.\n",
      "(-0.32332236, 1.230968)\n",
      "A_g1_val7.\n",
      "(-0.34157804, 1.2349259)\n",
      "A_g1_val8.\n",
      "(-0.36220083, 1.240033)\n",
      "A_g1_val9.\n",
      "(-0.11094452, 1.5740366)\n",
      "A_g2_val0.\n",
      "(-0.041414686, 1.4047204)\n",
      "A_g2_val1.\n",
      "(0.0, 1.4037334)\n",
      "A_g2_val2.\n",
      "(0.0, 1.3886868)\n",
      "A_g2_val3.\n",
      "(0.0, 1.3802845)\n",
      "A_g2_val4.\n",
      "(0.0, 1.374333)\n",
      "A_g2_val5.\n",
      "(0.0, 1.3747618)\n",
      "A_g2_val6.\n",
      "(0.0, 1.3747635)\n",
      "A_g2_val7.\n",
      "(0.0, 1.3750671)\n",
      "A_g2_val8.\n",
      "(0.0, 1.3743333)\n",
      "A_g2_val9.\n",
      "(-0.071512803, 1.5887909)\n",
      "A_g3_val0.\n",
      "(0.0, 1.485456)\n",
      "A_g3_val1.\n",
      "(0.0, 1.2803305)\n",
      "A_g3_val2.\n",
      "(0.0, 1.243274)\n",
      "A_g3_val3.\n",
      "(0.0, 1.2267127)\n",
      "A_g3_val4.\n",
      "(0.0, 1.2167695)\n",
      "A_g3_val5.\n",
      "(0.0, 1.2116284)\n",
      "A_g3_val6.\n",
      "(0.0, 1.2079988)\n",
      "A_g3_val7.\n",
      "(0.0, 1.2037597)\n",
      "A_g3_val8.\n",
      "(0.0, 1.2004771)\n",
      "A_g3_val9.\n",
      "(-0.57220513, 1.6059957)\n",
      "A_g4_val0.\n",
      "(-0.22866987, 1.3926941)\n",
      "A_g4_val1.\n",
      "(-0.07445851, 1.3040045)\n",
      "A_g4_val2.\n",
      "(-0.020734407, 1.2704223)\n",
      "A_g4_val3.\n",
      "(0.0, 1.2564431)\n",
      "A_g4_val4.\n",
      "(0.0, 1.244897)\n",
      "A_g4_val5.\n",
      "(0.0, 1.2407751)\n",
      "A_g4_val6.\n",
      "(0.0, 1.2387985)\n",
      "A_g4_val7.\n",
      "(0.0, 1.2365116)\n",
      "A_g4_val8.\n",
      "(0.0, 1.2345827)\n",
      "A_g4_val9.\n"
     ]
    },
    {
     "data": {
      "image/png": "[encoded data removed]",
      "text/plain": [
       "<matplotlib.figure.Figure at 0x7ffa97d1e890>"
      ]
     },
     "metadata": {},
     "output_type": "display_data"
    }
   ],
   "source": [
    "name_tmp3 = base_folder + 'A_g%d_val%d.npy'\n",
    "\n",
    "for g in xrange(GROUPS):\n",
    "    #if g == 0 : continue\n",
    "    for i_val in xrange(len(rango)):\n",
    "        val = rango[i_val]\n",
    "        A = np.load(name_tmp3%(g,i_val))\n",
    "        print mm(A, cast_int=False)\n",
    "        plt = iu._is(A, vmin=0, vmax=1.5)\n",
    "        name_img = ('A_g%d_val%d.npy'%(g, i_val))[:-3]\n",
    "        print name_img\n",
    "        plt.savefig(base_folder+ '/res/'+name_img +'png')"
   ]
  },
  {
   "cell_type": "markdown",
   "metadata": {},
   "source": [
    "# Dibujando la original\n"
   ]
  },
  {
   "cell_type": "code",
   "execution_count": 75,
   "metadata": {
    "collapsed": false
   },
   "outputs": [
    {
     "name": "stdout",
     "output_type": "stream",
     "text": [
      "(0.00096415909, 4.4262066)\n",
      "i_hr_g0_103111.\n",
      "(0.0, 51.797764)\n",
      "i_hr_g1_101006.\n",
      "(0.0, 32.989147)\n",
      "i_hr_g2_101107.\n",
      "(0.0, 4.1959381)\n",
      "i_hr_g3_101915.\n",
      "(0.0, 4.2103333)\n",
      "i_hr_g4_102816.\n"
     ]
    },
    {
     "data": {
      "image/png": "[encoded data removed]",
      "text/plain": [
       "<matplotlib.figure.Figure at 0x7ffa97fb99d0>"
      ]
     },
     "metadata": {},
     "output_type": "display_data"
    }
   ],
   "source": [
    "subjetc_fited = [103111, 101006, 101107, 101915,102816]\n",
    "name_tmp4 = base_folder + 'i_hr_g%d_%d.npy'\n",
    "for g in xrange(5):\n",
    "    #if g == 0 : continue\n",
    "    A = np.load(name_tmp4%(g,subjetc_fited[g]))\n",
    "    print mm(A, cast_int=False)\n",
    "    plt = iu._is(A, vmin=0, vmax=1.5)\n",
    "    name_img = ('i_hr_g%d_%d.png'%(g, subjetc_fited[g]))[:-3]\n",
    "    print name_img\n",
    "    plt.savefig(base_folder + '/res/' +name_img)"
   ]
  },
  {
   "cell_type": "markdown",
   "metadata": {},
   "source": [
    "# Dibujando la upsampleada antes de minimizar\n"
   ]
  },
  {
   "cell_type": "code",
   "execution_count": 76,
   "metadata": {
    "collapsed": false
   },
   "outputs": [
    {
     "name": "stdout",
     "output_type": "stream",
     "text": [
      "(0.00064298313, 2.3340669)\n",
      "i_hr_fake_g0.\n",
      "(0.00018188616, 2.9902432)\n",
      "i_hr_fake_g1.\n",
      "(0.0, 2.2149892)\n",
      "i_hr_fake_g2.\n",
      "(0.00099337357, 2.8161852)\n",
      "i_hr_fake_g3.\n",
      "(0.0024674172, 3.1205568)\n",
      "i_hr_fake_g4.\n"
     ]
    },
    {
     "data": {
      "image/png": "[encoded data removed]",
      "text/plain": [
       "<matplotlib.figure.Figure at 0x7ffa97d1e910>"
      ]
     },
     "metadata": {},
     "output_type": "display_data"
    }
   ],
   "source": [
    "name_tmp4 = base_folder + 'i_hr_fake_g%d.npy'\n",
    "for g in xrange(5):\n",
    "    #if g == 0 : continue\n",
    "    A = np.load(name_tmp4%(g,))\n",
    "    print mm(A, cast_int=False)\n",
    "    plt = iu._is(A, vmin=0, vmax=1.5)\n",
    "    name_img = ('i_hr_fake_g%d.png'%(g,))[:-3]\n",
    "    print name_img\n",
    "    plt.savefig(base_folder + '/res/' +name_img)"
   ]
  },
  {
   "cell_type": "code",
   "execution_count": null,
   "metadata": {
    "collapsed": true
   },
   "outputs": [],
   "source": []
  },
  {
   "cell_type": "code",
   "execution_count": null,
   "metadata": {
    "collapsed": true
   },
   "outputs": [],
   "source": []
  },
  {
   "cell_type": "code",
   "execution_count": 58,
   "metadata": {
    "collapsed": false
   },
   "outputs": [
    {
     "data": {
      "image/png": "[encoded data removed]",
      "text/plain": [
       "<matplotlib.figure.Figure at 0x7ffa97f7bb10>"
      ]
     },
     "metadata": {},
     "output_type": "display_data"
    }
   ],
   "source": [
    "## Para grabar\n",
    "g=4\n",
    "for g in xrange(1):\n",
    "    for i in xrange(1):\n",
    "        a = plt.plot(rango, mse[:, i, g],'o')\n",
    "    #plt.savefig('/user/lgomez/home/workspace/iqt/results/exp6/gammas/gamma_g'+str(g)+'_f'+str(i)+'.png')\n",
    "    \n",
    "    \n",
    "#plt.savefig('/user/lgomez/home/workspace/iqt/results/exp6/gammas/gamma_all.png')\n",
    "    "
   ]
  },
  {
   "cell_type": "code",
   "execution_count": 56,
   "metadata": {
    "collapsed": false
   },
   "outputs": [
    {
     "data": {
      "image/png": "[encoded data removed]",
      "text/plain": [
       "<matplotlib.figure.Figure at 0x7efdbb3ad3d0>"
      ]
     },
     "metadata": {},
     "output_type": "display_data"
    }
   ],
   "source": [
    "cluster = '1'\n",
    "if cluster == '0':\n",
    "    plt.plot(rango, mse[:, 0, 0],'o')\n",
    "    plt.plot(rango, mse[:, 6, 0],'o')\n",
    "    plt.plot(rango, mse[:, 7, 0],'o')\n",
    "\n",
    "if cluster == '1':\n",
    "    plt.plot(rango, mse[:, 1, 1],'o')\n",
    "    plt.plot(rango, mse[:, 2, 1],'o')\n",
    "    #plt.plot(rango, mse[:, 3, 0],'o')\n",
    "    plt.plot(rango, mse[:, 4, 1],'o')\n",
    "    plt.plot(rango, mse[:, 5, 1],'o')\n",
    "    plt.plot(rango, mse[:, 8, 1],'o')\n",
    "\n"
   ]
  },
  {
   "cell_type": "code",
   "execution_count": 61,
   "metadata": {
    "collapsed": false
   },
   "outputs": [
    {
     "ename": "TypeError",
     "evalue": "not enough arguments for format string",
     "output_type": "error",
     "traceback": [
      "\u001b[0;31m---------------------------------------------------------------------------\u001b[0m",
      "\u001b[0;31mTypeError\u001b[0m                                 Traceback (most recent call last)",
      "\u001b[0;32m<ipython-input-61-203f5e33c352>\u001b[0m in \u001b[0;36m<module>\u001b[0;34m()\u001b[0m\n\u001b[1;32m      1\u001b[0m \u001b[0mname_tmp4\u001b[0m \u001b[0;34m=\u001b[0m \u001b[0mbase_folder\u001b[0m \u001b[0;34m+\u001b[0m \u001b[0;34m'i_hr_g%d.npy'\u001b[0m\u001b[0;34m\u001b[0m\u001b[0m\n\u001b[1;32m      2\u001b[0m \u001b[0;32mfor\u001b[0m \u001b[0mg\u001b[0m \u001b[0;32min\u001b[0m \u001b[0mxrange\u001b[0m\u001b[0;34m(\u001b[0m\u001b[0;36m5\u001b[0m\u001b[0;34m)\u001b[0m\u001b[0;34m:\u001b[0m\u001b[0;34m\u001b[0m\u001b[0m\n\u001b[0;32m----> 3\u001b[0;31m     \u001b[0mA\u001b[0m \u001b[0;34m=\u001b[0m \u001b[0mnp\u001b[0m\u001b[0;34m.\u001b[0m\u001b[0mload\u001b[0m\u001b[0;34m(\u001b[0m\u001b[0mname_tmp3\u001b[0m\u001b[0;34m%\u001b[0m\u001b[0;34m(\u001b[0m\u001b[0mg\u001b[0m\u001b[0;34m,\u001b[0m\u001b[0;34m)\u001b[0m\u001b[0;34m)\u001b[0m\u001b[0;34m\u001b[0m\u001b[0m\n\u001b[0m\u001b[1;32m      4\u001b[0m     \u001b[0mi_hr\u001b[0m \u001b[0;34m=\u001b[0m \u001b[0mnp\u001b[0m\u001b[0;34m.\u001b[0m\u001b[0mload\u001b[0m\u001b[0;34m(\u001b[0m\u001b[0mname_tmp4\u001b[0m\u001b[0;34m%\u001b[0m\u001b[0;34m(\u001b[0m\u001b[0mg\u001b[0m\u001b[0;34m,\u001b[0m\u001b[0;34m)\u001b[0m\u001b[0;34m)\u001b[0m\u001b[0;34m\u001b[0m\u001b[0m\n\u001b[1;32m      5\u001b[0m     \u001b[0;31m#print mm(A, cast_int=False)\u001b[0m\u001b[0;34m\u001b[0m\u001b[0;34m\u001b[0m\u001b[0m\n",
      "\u001b[0;31mTypeError\u001b[0m: not enough arguments for format string"
     ]
    }
   ],
   "source": [
    "name_tmp4 = base_folder + 'i_hr_g%d.npy'\n",
    "for g in xrange(5):\n",
    "    A = np.load(name_tmp3%(g,))\n",
    "    i_hr = np.load(name_tmp4%(g,))\n",
    "    #print mm(A, cast_int=False)\n",
    "    plt = iu._isc(A,i_hr, vmin=0, vmax=1, titles=['reconstructed', 'original'])\n",
    "    name_img = base_folder + ('cmp_g%d'%(g))\n",
    "    print name_img\n",
    "    plt.savefig(name_img +'.png')"
   ]
  },
  {
   "cell_type": "code",
   "execution_count": 9,
   "metadata": {
    "collapsed": false
   },
   "outputs": [
    {
     "ename": "IOError",
     "evalue": "[Errno 2] No such file or directory: './results/exp6/f1/gamma/A_g0_lamda910000.npy'",
     "output_type": "error",
     "traceback": [
      "\u001b[1;31m---------------------------------------------------------------------------\u001b[0m",
      "\u001b[1;31mIOError\u001b[0m                                   Traceback (most recent call last)",
      "\u001b[1;32m<ipython-input-9-bbce10d412d8>\u001b[0m in \u001b[0;36m<module>\u001b[1;34m()\u001b[0m\n\u001b[0;32m      1\u001b[0m \u001b[0mi_hr\u001b[0m \u001b[1;33m=\u001b[0m \u001b[0mnp\u001b[0m\u001b[1;33m.\u001b[0m\u001b[0mload\u001b[0m\u001b[1;33m(\u001b[0m\u001b[0mbase_folder\u001b[0m\u001b[1;33m+\u001b[0m\u001b[1;34m'i_hr_g0.npy'\u001b[0m\u001b[1;33m)\u001b[0m\u001b[1;33m\u001b[0m\u001b[0m\n\u001b[1;32m----> 2\u001b[1;33m \u001b[0mA910000\u001b[0m \u001b[1;33m=\u001b[0m \u001b[0mnp\u001b[0m\u001b[1;33m.\u001b[0m\u001b[0mload\u001b[0m\u001b[1;33m(\u001b[0m\u001b[0mbase_folder\u001b[0m\u001b[1;33m+\u001b[0m\u001b[1;34m'A_g0_lamda910000.npy'\u001b[0m\u001b[1;33m)\u001b[0m\u001b[1;33m\u001b[0m\u001b[0m\n\u001b[0m\u001b[0;32m      3\u001b[0m \u001b[0miu\u001b[0m\u001b[1;33m.\u001b[0m\u001b[0m_isc\u001b[0m\u001b[1;33m(\u001b[0m\u001b[0mA910000\u001b[0m\u001b[1;33m,\u001b[0m\u001b[0mi_hr\u001b[0m\u001b[1;33m,\u001b[0m \u001b[0mvmax\u001b[0m\u001b[1;33m=\u001b[0m\u001b[1;36m1.4\u001b[0m\u001b[1;33m)\u001b[0m\u001b[1;33m\u001b[0m\u001b[0m\n\u001b[0;32m      4\u001b[0m \u001b[0mA910000\u001b[0m\u001b[1;33m.\u001b[0m\u001b[0mmin\u001b[0m\u001b[1;33m(\u001b[0m\u001b[1;33m)\u001b[0m\u001b[1;33m,\u001b[0m \u001b[0mA910000\u001b[0m\u001b[1;33m.\u001b[0m\u001b[0mmax\u001b[0m\u001b[1;33m(\u001b[0m\u001b[1;33m)\u001b[0m\u001b[1;33m,\u001b[0m \u001b[0mA910000\u001b[0m\u001b[1;33m.\u001b[0m\u001b[0mshape\u001b[0m\u001b[1;33m\u001b[0m\u001b[0m\n\u001b[0;32m      5\u001b[0m \u001b[1;32mdel\u001b[0m\u001b[1;33m(\u001b[0m\u001b[0mA100\u001b[0m\u001b[1;33m)\u001b[0m\u001b[1;33m\u001b[0m\u001b[0m\n",
      "\u001b[1;32m/user/lgomez/home/anaconda2/lib/python2.7/site-packages/numpy/lib/npyio.pyc\u001b[0m in \u001b[0;36mload\u001b[1;34m(file, mmap_mode, allow_pickle, fix_imports, encoding)\u001b[0m\n\u001b[0;32m    360\u001b[0m     \u001b[0mown_fid\u001b[0m \u001b[1;33m=\u001b[0m \u001b[0mFalse\u001b[0m\u001b[1;33m\u001b[0m\u001b[0m\n\u001b[0;32m    361\u001b[0m     \u001b[1;32mif\u001b[0m \u001b[0misinstance\u001b[0m\u001b[1;33m(\u001b[0m\u001b[0mfile\u001b[0m\u001b[1;33m,\u001b[0m \u001b[0mbasestring\u001b[0m\u001b[1;33m)\u001b[0m\u001b[1;33m:\u001b[0m\u001b[1;33m\u001b[0m\u001b[0m\n\u001b[1;32m--> 362\u001b[1;33m         \u001b[0mfid\u001b[0m \u001b[1;33m=\u001b[0m \u001b[0mopen\u001b[0m\u001b[1;33m(\u001b[0m\u001b[0mfile\u001b[0m\u001b[1;33m,\u001b[0m \u001b[1;34m\"rb\"\u001b[0m\u001b[1;33m)\u001b[0m\u001b[1;33m\u001b[0m\u001b[0m\n\u001b[0m\u001b[0;32m    363\u001b[0m         \u001b[0mown_fid\u001b[0m \u001b[1;33m=\u001b[0m \u001b[0mTrue\u001b[0m\u001b[1;33m\u001b[0m\u001b[0m\n\u001b[0;32m    364\u001b[0m     \u001b[1;32melse\u001b[0m\u001b[1;33m:\u001b[0m\u001b[1;33m\u001b[0m\u001b[0m\n",
      "\u001b[1;31mIOError\u001b[0m: [Errno 2] No such file or directory: './results/exp6/f1/gamma/A_g0_lamda910000.npy'"
     ]
    }
   ],
   "source": [
    "i_hr = np.load(base_folder+'i_hr_g0.npy')\n",
    "A910000 = np.load(base_folder+'A_g0_lamda910000.npy')\n",
    "iu._isc(A910000,i_hr, vmax=1.4)\n",
    "A910000.min(), A910000.max(), A910000.shape\n",
    "del(A100)"
   ]
  },
  {
   "cell_type": "code",
   "execution_count": 16,
   "metadata": {
    "collapsed": false
   },
   "outputs": [
    {
     "data": {
      "text/plain": [
       "(0.0, 2729.8464)"
      ]
     },
     "execution_count": 16,
     "metadata": {},
     "output_type": "execute_result"
    },
    {
     "data": {
      "image/png": "[encoded data removed]",
      "text/plain": [
       "<matplotlib.figure.Figure at 0x7fe8ed7d0bd0>"
      ]
     },
     "metadata": {},
     "output_type": "display_data"
    }
   ],
   "source": [
    "iu._is(i_hr, vmax=2729)\n",
    "i_hr.min(),i_hr.max()"
   ]
  },
  {
   "cell_type": "code",
   "execution_count": 51,
   "metadata": {
    "collapsed": false
   },
   "outputs": [
    {
     "data": {
      "text/plain": [
       "(-1.5125681573504312e-05, 1.4016132523250628, (12, 12, 12, 270))"
      ]
     },
     "execution_count": 51,
     "metadata": {},
     "output_type": "execute_result"
    },
    {
     "data": {
      "image/png": "[encoded data removed]",
      "text/plain": [
       "<matplotlib.figure.Figure at 0x7f70534ef510>"
      ]
     },
     "metadata": {},
     "output_type": "display_data"
    }
   ],
   "source": [
    "A1000 = np.load(base_folder+'A_g0_lamda1000.npy')\n",
    "iu._is(A1000, vmax=A1000.max())\n",
    "A1000.min(), A1000.max(), A1000.shape"
   ]
  },
  {
   "cell_type": "code",
   "execution_count": 51,
   "metadata": {
    "collapsed": false
   },
   "outputs": [
    {
     "data": {
      "text/plain": [
       "(-1.5125681573504312e-05, 1.4016132523250628, (12, 12, 12, 270))"
      ]
     },
     "execution_count": 51,
     "metadata": {},
     "output_type": "execute_result"
    },
    {
     "data": {
      "image/png": "[encoded data removed]",
      "text/plain": [
       "<matplotlib.figure.Figure at 0x7fa9b5b34e10>"
      ]
     },
     "metadata": {},
     "output_type": "display_data"
    }
   ],
   "source": [
    "A1000 = np.load(base_folder+'A_g0_lamda3000.npy')\n",
    "iu._is(A1000, vmax=A1000.max())\n",
    "A1000.min(), A1000.max(), A1000.shape"
   ]
  },
  {
   "cell_type": "code",
   "execution_count": 30,
   "metadata": {
    "collapsed": false
   },
   "outputs": [
    {
     "name": "stdout",
     "output_type": "stream",
     "text": [
      "[1000, 2000, 3000, 4000, 5000, 6000, 7000, 8000, 9000, 10000]\n"
     ]
    }
   ],
   "source": [
    "alala = []\n",
    "for val in rango :\n",
    "    alala.append(val)\n",
    "    \n",
    "print alala"
   ]
  }
 ],
 "metadata": {
  "anaconda-cloud": {},
  "kernelspec": {
   "display_name": "Python [default]",
   "language": "python",
   "name": "python2"
  },
  "language_info": {
   "codemirror_mode": {
    "name": "ipython",
    "version": 2
   },
   "file_extension": ".py",
   "mimetype": "text/x-python",
   "name": "python",
   "nbconvert_exporter": "python",
   "pygments_lexer": "ipython2",
   "version": "2.7.12"
  }
 },
 "nbformat": 4,
 "nbformat_minor": 0
}
