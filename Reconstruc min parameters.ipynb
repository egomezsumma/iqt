{
 "cells": [
  {
   "cell_type": "code",
   "execution_count": 8,
   "metadata": {
    "collapsed": false
   },
   "outputs": [
    {
     "name": "stdout",
     "output_type": "stream",
     "text": [
      "Populating the interactive namespace from numpy and matplotlib\n"
     ]
    },
    {
     "name": "stderr",
     "output_type": "stream",
     "text": [
      "WARNING: pylab import has clobbered these variables: ['f', 'mean', 'var']\n",
      "`%matplotlib` prevents importing * from pylab and numpy\n"
     ]
    }
   ],
   "source": [
    "import numpy as np\n",
    "from conf_exp6 import *\n",
    "%pylab inline\n",
    "import seaborn\n",
    "import matplotlib.pyplot as plt\n",
    "import utils.img_utils as iu\n",
    "\n",
    "\n",
    "def mm(A, cast_int=True):\n",
    "    if cast_int:\n",
    "        return (int(A.min()), int(A.max()))\n",
    "    else:\n",
    "        return (A.min(), A.max())"
   ]
  },
  {
   "cell_type": "code",
   "execution_count": 10,
   "metadata": {
    "collapsed": false
   },
   "outputs": [
    {
     "name": "stdout",
     "output_type": "stream",
     "text": [
      "[  1.45200000e-15   2.00000000e+00   4.00000000e+00   6.00000000e+00\n",
      "   8.00000000e+00   1.00000000e+01   1.20000000e+01   1.40000000e+01\n",
      "   1.60000000e+01   1.80000000e+01]\n",
      "loading ./results/exp6/f1/lamda100a1000/mse_g0_f0_10_10_10.npy\n",
      "loading ./results/exp6/f1/lamda100a1000/mse_g0_f1_10_10_10.npy\n",
      "loading ./results/exp6/f1/lamda100a1000/mse_g0_f2_10_10_10.npy\n",
      "loading ./results/exp6/f1/lamda100a1000/mse_g0_f3_10_10_10.npy\n",
      "loading ./results/exp6/f1/lamda100a1000/mse_g0_f4_10_10_10.npy\n",
      "loading ./results/exp6/f1/lamda100a1000/mse_g0_f5_10_10_10.npy\n",
      "loading ./results/exp6/f1/lamda100a1000/mse_g0_f6_10_10_10.npy\n",
      "loading ./results/exp6/f1/lamda100a1000/mse_g0_f7_10_10_10.npy\n",
      "loading ./results/exp6/f1/lamda100a1000/mse_g0_f8_10_10_10.npy\n",
      "loading ./results/exp6/f1/lamda100a1000/mse_g0_f9_10_10_10.npy\n",
      "loading ./results/exp6/f1/lamda100a1000/mse_g1_f0_10_10_10.npy\n",
      "loading ./results/exp6/f1/lamda100a1000/mse_g1_f1_10_10_10.npy\n",
      "loading ./results/exp6/f1/lamda100a1000/mse_g1_f2_10_10_10.npy\n",
      "loading ./results/exp6/f1/lamda100a1000/mse_g1_f3_10_10_10.npy\n",
      "loading ./results/exp6/f1/lamda100a1000/mse_g1_f4_10_10_10.npy\n",
      "loading ./results/exp6/f1/lamda100a1000/mse_g1_f5_10_10_10.npy\n",
      "loading ./results/exp6/f1/lamda100a1000/mse_g1_f6_10_10_10.npy\n",
      "loading ./results/exp6/f1/lamda100a1000/mse_g1_f7_10_10_10.npy\n",
      "loading ./results/exp6/f1/lamda100a1000/mse_g1_f8_10_10_10.npy\n",
      "loading ./results/exp6/f1/lamda100a1000/mse_g1_f9_10_10_10.npy\n",
      "loading ./results/exp6/f1/lamda100a1000/mse_g2_f0_10_10_10.npy\n",
      "loading ./results/exp6/f1/lamda100a1000/mse_g2_f1_10_10_10.npy\n",
      "loading ./results/exp6/f1/lamda100a1000/mse_g2_f2_10_10_10.npy\n",
      "loading ./results/exp6/f1/lamda100a1000/mse_g2_f3_10_10_10.npy\n",
      "loading ./results/exp6/f1/lamda100a1000/mse_g2_f4_10_10_10.npy\n",
      "loading ./results/exp6/f1/lamda100a1000/mse_g2_f5_10_10_10.npy\n",
      "loading ./results/exp6/f1/lamda100a1000/mse_g2_f6_10_10_10.npy\n",
      "loading ./results/exp6/f1/lamda100a1000/mse_g2_f7_10_10_10.npy\n",
      "loading ./results/exp6/f1/lamda100a1000/mse_g2_f8_10_10_10.npy\n",
      "loading ./results/exp6/f1/lamda100a1000/mse_g2_f9_10_10_10.npy\n",
      "loading ./results/exp6/f1/lamda100a1000/mse_g3_f0_10_10_10.npy\n",
      "loading ./results/exp6/f1/lamda100a1000/mse_g3_f1_10_10_10.npy\n",
      "loading ./results/exp6/f1/lamda100a1000/mse_g3_f2_10_10_10.npy\n",
      "loading ./results/exp6/f1/lamda100a1000/mse_g3_f3_10_10_10.npy\n",
      "loading ./results/exp6/f1/lamda100a1000/mse_g3_f4_10_10_10.npy\n",
      "loading ./results/exp6/f1/lamda100a1000/mse_g3_f5_10_10_10.npy\n",
      "loading ./results/exp6/f1/lamda100a1000/mse_g3_f6_10_10_10.npy\n",
      "loading ./results/exp6/f1/lamda100a1000/mse_g3_f7_10_10_10.npy\n",
      "loading ./results/exp6/f1/lamda100a1000/mse_g3_f8_10_10_10.npy\n",
      "loading ./results/exp6/f1/lamda100a1000/mse_g3_f9_10_10_10.npy\n",
      "loading ./results/exp6/f1/lamda100a1000/mse_g4_f0_10_10_10.npy\n",
      "loading ./results/exp6/f1/lamda100a1000/mse_g4_f1_10_10_10.npy\n",
      "loading ./results/exp6/f1/lamda100a1000/mse_g4_f2_10_10_10.npy\n",
      "loading ./results/exp6/f1/lamda100a1000/mse_g4_f3_10_10_10.npy\n",
      "loading ./results/exp6/f1/lamda100a1000/mse_g4_f4_10_10_10.npy\n",
      "loading ./results/exp6/f1/lamda100a1000/mse_g4_f5_10_10_10.npy\n",
      "loading ./results/exp6/f1/lamda100a1000/mse_g4_f6_10_10_10.npy\n",
      "loading ./results/exp6/f1/lamda100a1000/mse_g4_f7_10_10_10.npy\n",
      "loading ./results/exp6/f1/lamda100a1000/mse_g4_f8_10_10_10.npy\n",
      "loading ./results/exp6/f1/lamda100a1000/mse_g4_f9_10_10_10.npy\n",
      "(10, 10, 5)\n"
     ]
    }
   ],
   "source": [
    "parameter_name = 'beta'\n",
    "formula = 'f1'\n",
    "base_folder = './results/exp6/%s/%s/'%(formula, parameter_name)\n",
    "rango = params_range[parameter_name]\n",
    "#rango = np.arange(100, 1001, 100)\n",
    "\n",
    "GROUPS=5\n",
    "FITS=10\n",
    "RANGO=len(rango)\n",
    "print rango \n",
    "\n",
    "mse = np.zeros((RANGO, FITS, GROUPS), dtype='float32')\n",
    "mse1000 = np.zeros((RANGO, FITS, GROUPS), dtype='float32')\n",
    "mse2000 = np.zeros((RANGO, FITS, GROUPS), dtype='float32')\n",
    "mse3000 = np.zeros((RANGO, FITS, GROUPS), dtype='float32')\n",
    "a = np.zeros((RANGO), dtype='float')\n",
    "\n",
    "name_tmp1 = base_folder + 'mse_g%d_f%d_10_10_10'+'.npy'\n",
    "name_tmp2 = base_folder + 'mse%d_g%d_f%d_10_10_10'+'.npy'\n",
    "for group in xrange(GROUPS):\n",
    "    #if group==0 : continue\n",
    "    for fit in xrange(FITS):\n",
    "        print 'loading', name_tmp1%(group, fit)\n",
    "        tmp = np.load(name_tmp1%(group, fit))\n",
    "        a = a + tmp\n",
    "        mse[:, fit, group] = tmp\n",
    "        mse1000[:, fit, group] = np.load(name_tmp2%(1000, group, fit))\n",
    "        mse2000[:, fit, group] = np.load(name_tmp2%(2000, group, fit))\n",
    "        mse3000[:, fit, group] = np.load(name_tmp2%(3000, group, fit))\n",
    "\n",
    "a = a / (FITS*GROUPS)\n",
    "        \n",
    "print mse.shape\n"
   ]
  },
  {
   "cell_type": "code",
   "execution_count": 11,
   "metadata": {
    "collapsed": false
   },
   "outputs": [
    {
     "name": "stdout",
     "output_type": "stream",
     "text": [
      "beta\n",
      "[  1.45200000e-15   2.00000000e+00   4.00000000e+00   6.00000000e+00\n",
      "   8.00000000e+00   1.00000000e+01   1.20000000e+01   1.40000000e+01\n",
      "   1.60000000e+01   1.80000000e+01]\n",
      "mean [ 1102034.375  1102034.375  1102034.375  1102034.375  1102034.375\n",
      "  1102034.375  1102034.375  1102034.375  1102034.375  1102034.375]\n",
      "var [ 318410.09375  318410.09375  318410.09375  318410.09375  318410.09375\n",
      "  318410.09375  318410.09375  318410.09375  318410.09375  318410.09375]\n",
      "mean= [ 1102034.375  1102034.375  1102034.375  1102034.375  1102034.375\n",
      "  1102034.375  1102034.375  1102034.375  1102034.375  1102034.375]\n",
      "[ 1102034.375  1102034.375  1102034.375  1102034.375  1102034.375\n",
      "  1102034.375  1102034.375  1102034.375  1102034.375  1102034.375]\n",
      "[ 1102034.41390625  1102034.41390625  1102034.41390625  1102034.41390625\n",
      "  1102034.41390625  1102034.41390625  1102034.41390625  1102034.41390625\n",
      "  1102034.41390625  1102034.41390625]\n"
     ]
    }
   ],
   "source": [
    "print parameter_name\n",
    "print rango\n",
    "mean= mse.mean(axis=2).mean(axis=1)\n",
    "var = np.std(np.std(mse, axis=2), axis=1)\n",
    "print 'mean', mean\n",
    "print 'var', var\n",
    "print 'mean=',mean#, var.shape\n",
    "\n",
    "#print mse[:, 0 , 0]\n",
    "#print mse[:, 0 , 1]\n",
    "#print mse[:, 0 , 2]\n",
    "\n",
    "acum = np.zeros(10)\n",
    "n =0\n",
    "for f in xrange(10):\n",
    "    for g in xrange(5):\n",
    "        acum = acum + mse[:, f, g]\n",
    "        n=n+1\n",
    "\n",
    "\n",
    "mean2 = acum/n\n",
    "\n",
    "\n",
    "print mean\n",
    "print mean2\n"
   ]
  },
  {
   "cell_type": "code",
   "execution_count": 12,
   "metadata": {
    "collapsed": false
   },
   "outputs": [
    {
     "name": "stdout",
     "output_type": "stream",
     "text": [
      "[  1.45200000e-15   2.00000000e+00   4.00000000e+00   6.00000000e+00\n",
      "   8.00000000e+00   1.00000000e+01   1.20000000e+01   1.40000000e+01\n",
      "   1.60000000e+01   1.80000000e+01]\n",
      "[ 4868847.5     1597344.875    521443.0625  2396512.5      989721.125\n",
      "  1843182.      3214957.75    2572814.25    2089682.625   1766452.75  ]\n",
      "[ 0.125       0.          0.          0.00024414  0.03125     0.00390625\n",
      "  0.          0.0625      0.          0.        ]\n"
     ]
    }
   ],
   "source": [
    "print rango\n",
    "mean1000 = mse1000.mean(axis=2).mean(axis=0)\n",
    "var1000 = np.std(np.std(mse1000, axis=2), axis=0)\n",
    "print mean1000\n",
    "print var1000"
   ]
  },
  {
   "cell_type": "code",
   "execution_count": 13,
   "metadata": {
    "collapsed": false
   },
   "outputs": [
    {
     "name": "stdout",
     "output_type": "stream",
     "text": [
      "[  1.45200000e-15   2.00000000e+00   4.00000000e+00   6.00000000e+00\n",
      "   8.00000000e+00   1.00000000e+01   1.20000000e+01   1.40000000e+01\n",
      "   1.60000000e+01   1.80000000e+01]\n",
      "[ 803899.125  803899.125  803899.125  803899.125  803899.125  803899.125\n",
      "  803899.125  803899.125  803899.125  803899.125]\n",
      "[ 253556.234375  253556.234375  253556.234375  253556.234375  253556.234375\n",
      "  253556.234375  253556.234375  253556.234375  253556.234375  253556.234375]\n"
     ]
    }
   ],
   "source": [
    "print rango\n",
    "mean2000 = mse2000.mean(axis=2).mean(axis=1)\n",
    "var2000 = np.std(np.std(mse2000, axis=2), axis=1)\n",
    "\n",
    "print mean2000\n",
    "print var2000"
   ]
  },
  {
   "cell_type": "code",
   "execution_count": 6,
   "metadata": {
    "collapsed": false
   },
   "outputs": [
    {
     "name": "stdout",
     "output_type": "stream",
     "text": [
      "(10,) [  1.45200000e-15   2.00000000e+00   4.00000000e+00   6.00000000e+00\n",
      "   8.00000000e+00   1.00000000e+01   1.20000000e+01   1.40000000e+01\n",
      "   1.60000000e+01   1.80000000e+01]\n",
      "[ 418761.65625  418840.46875  418860.9375   418868.34375  418871.8125\n",
      "  418873.6875   418874.9375   418875.78125  418876.4375   418876.875  ]\n",
      "[ 124534.7734375  124534.5546875  124535.8203125  124537.0703125\n",
      "  124537.6171875  124537.96875    124538.1875     124538.34375\n",
      "  124538.453125   124538.5390625]\n"
     ]
    }
   ],
   "source": [
    "#rango = np.arange(100, 1001, 100)\n",
    "print mean.shape, rango\n",
    "mean3000 = mse3000.mean(axis=2).mean(axis=1)\n",
    "var3000 = np.std(np.std(mse3000, axis=2), axis=1)\n",
    "print mean3000\n",
    "print var3000"
   ]
  },
  {
   "cell_type": "code",
   "execution_count": 15,
   "metadata": {
    "collapsed": false
   },
   "outputs": [
    {
     "name": "stdout",
     "output_type": "stream",
     "text": [
      "medias= 1.10203e+06 2.1861e+06 803899.0 418763.0\n",
      "std= 728102.0 1.51109e+06 551917.0 276140.0\n",
      "mean1000 [ 4868847.5     1597344.875    521443.0625  2396512.5      989721.125\n",
      "  1843182.      3214957.75    2572814.25    2089682.625   1766452.75  ]\n",
      "mean2000 [ 803899.125  803899.125  803899.125  803899.125  803899.125  803899.125\n",
      "  803899.125  803899.125  803899.125  803899.125]\n",
      "mean [ 1102034.375  1102034.375  1102034.375  1102034.375  1102034.375\n",
      "  1102034.375  1102034.375  1102034.375  1102034.375  1102034.375] 1.10203e+06\n",
      "[ 100  200  300  400  500  600  700  800  900 1000]\n"
     ]
    },
    {
     "data": {
      "image/png": "[encoded data removed]",
      "text/plain": [
       "<matplotlib.figure.Figure at 0x7f00e3538f50>"
      ]
     },
     "metadata": {},
     "output_type": "display_data"
    }
   ],
   "source": [
    "#rango = np.arange(100, 1001, 100)\n",
    "mean3 = np.zeros((10, 3))\n",
    "mean3[:, 0] = mean1000\n",
    "mean3[:, 1] = mean2000\n",
    "mean3[:, 2] = mean3000\n",
    "\n",
    "#plt.plot(rango, mean3000,'o', label='b=3000')\n",
    "#plt.plot(rango, mean1000, 'o', label='b=1000')\n",
    "#plt.plot(rango, mean2000,'o', label='b=2000')\n",
    "#plt.plot(rango, mean3.mean(axis=1),'o', label='b=all')\n",
    "#plt.plot(rango, mean,'o', label='b=all')\n",
    "\n",
    "#plt.plot(rango, mean+var,'o', label='b=all')\n",
    "#plt.plot(rango, mean-var,'o', label='b=all')\n",
    "\n",
    "#plt.errorbar(rango, mean, yerr=var, fmt='o', label='b=all')\n",
    "plt.errorbar(rango, mean3.mean(axis=1), yerr=np.std(mean3, axis=1), fmt='o', label='b=all')\n",
    "\n",
    "\n",
    "plt.legend()\n",
    "plt.ylabel('MSE(Yhr,^Yhr)')\n",
    "plt.xlabel(parameter_name)\n",
    "#plt.legend(lala , loc=2, bbox_to_anchor=(1, 0.5))\n",
    "#plt.ylim((1102000.0, 1102300.0))\n",
    "mse[:,2,1]\n",
    "#print plt.ylim((940000000.0, 960000000.0))\n",
    "\n",
    "print 'medias=',mse.mean(),mse1000.mean(), mse2000.mean(), mse3000.mean() \n",
    "print 'std=',np.std(mse),np.std(mse1000), np.std(mse2000), np.std(mse3000) \n",
    "print 'mean1000', mean1000\n",
    "print 'mean2000', mean2000\n",
    "print 'mean', mean, mean.min()\n",
    "print rango\n",
    "## Para grabar\n",
    "#plt.savefig('/user/lgomez/home/workspace/iqt/results/exp6/lamda_mean_var_100a1000.pdf')"
   ]
  },
  {
   "cell_type": "code",
   "execution_count": 97,
   "metadata": {
    "collapsed": false
   },
   "outputs": [
    {
     "data": {
      "text/plain": [
       "<matplotlib.figure.Figure at 0x7efdbaade090>"
      ]
     },
     "metadata": {},
     "output_type": "display_data"
    }
   ],
   "source": [
    "## Para grabar\n",
    "plt.savefig('/user/lgomez/home/workspace/iqt/results/exp6/lamda_mean_var_10000a1000000.pdf')"
   ]
  },
  {
   "cell_type": "code",
   "execution_count": 39,
   "metadata": {
    "collapsed": false
   },
   "outputs": [
    {
     "data": {
      "image/png": "[encoded data removed]",
      "text/plain": [
       "<matplotlib.figure.Figure at 0x7efdbb139cd0>"
      ]
     },
     "metadata": {},
     "output_type": "display_data"
    }
   ],
   "source": [
    "## Para grabar\n",
    "g=4\n",
    "for g in xrange(1):\n",
    "    for i in xrange(1):\n",
    "        a = plt.plot(rango, mse[:, i, g],'o')\n",
    "    #plt.savefig('/user/lgomez/home/workspace/iqt/results/exp6/gammas/gamma_g'+str(g)+'_f'+str(i)+'.png')\n",
    "    \n",
    "    \n",
    "plt.savefig('/user/lgomez/home/workspace/iqt/results/exp6/gammas/gamma_all.png')\n",
    "    "
   ]
  },
  {
   "cell_type": "code",
   "execution_count": 56,
   "metadata": {
    "collapsed": false
   },
   "outputs": [
    {
     "data": {
      "image/png": "[encoded data removed]",
      "text/plain": [
       "<matplotlib.figure.Figure at 0x7efdbb3ad3d0>"
      ]
     },
     "metadata": {},
     "output_type": "display_data"
    }
   ],
   "source": [
    "cluster = '1'\n",
    "if cluster == '0':\n",
    "    plt.plot(rango, mse[:, 0, 0],'o')\n",
    "    plt.plot(rango, mse[:, 6, 0],'o')\n",
    "    plt.plot(rango, mse[:, 7, 0],'o')\n",
    "\n",
    "if cluster == '1':\n",
    "    plt.plot(rango, mse[:, 1, 1],'o')\n",
    "    plt.plot(rango, mse[:, 2, 1],'o')\n",
    "    #plt.plot(rango, mse[:, 3, 0],'o')\n",
    "    plt.plot(rango, mse[:, 4, 1],'o')\n",
    "    plt.plot(rango, mse[:, 5, 1],'o')\n",
    "    plt.plot(rango, mse[:, 8, 1],'o')\n",
    "\n"
   ]
  },
  {
   "cell_type": "code",
   "execution_count": 36,
   "metadata": {
    "collapsed": false
   },
   "outputs": [
    {
     "name": "stdout",
     "output_type": "stream",
     "text": [
      "(-0.096077049649437585, 1.4587720278402361)\n",
      "./results/exp6/f1/gamma/A_g0.\n",
      "(-1.4520203101102522, 2.5538933991474062)\n",
      "./results/exp6/f1/gamma/A_g1.\n",
      "(-0.7368698295440993, 1.96566690073538)\n",
      "./results/exp6/f1/gamma/A_g2.\n",
      "(-1.2834682267766888, 2.3764837627582827)\n",
      "./results/exp6/f1/gamma/A_g3.\n",
      "(-0.25591047569266068, 2.0657759065865946)\n",
      "./results/exp6/f1/gamma/A_g4.\n"
     ]
    },
    {
     "data": {
      "image/png": "[encoded data removed]",
      "text/plain": [
       "<matplotlib.figure.Figure at 0x7f99b19ad5d0>"
      ]
     },
     "metadata": {},
     "output_type": "display_data"
    }
   ],
   "source": [
    "name_tmp3 = base_folder + 'A_g%d.npy'\n",
    "for g in xrange(5):\n",
    "    A = np.load(name_tmp3%(g,))\n",
    "    print mm(A, cast_int=False)\n",
    "    plt = iu._is(A, vmin=A.min(), vmax=A.max())\n",
    "    name_img = (name_tmp3%(g))[:-3]\n",
    "    print name_img\n",
    "    #plt.savefig(name_img +'png')"
   ]
  },
  {
   "cell_type": "code",
   "execution_count": 35,
   "metadata": {
    "collapsed": false
   },
   "outputs": [
    {
     "name": "stdout",
     "output_type": "stream",
     "text": [
      "(0.0, 4247856.0)\n",
      "./results/exp6/f1/gamma/i_hr_g0.\n",
      "(0.0014216572, 11.320087)\n",
      "./results/exp6/f1/gamma/i_hr_g1.\n",
      "(0.010446665, 13.940907)\n",
      "./results/exp6/f1/gamma/i_hr_g2.\n",
      "(0.0, 5.4029918)\n",
      "./results/exp6/f1/gamma/i_hr_g3.\n",
      "(0.047580611, 2.7080669)\n",
      "./results/exp6/f1/gamma/i_hr_g4.\n"
     ]
    },
    {
     "data": {
      "image/png": "[encoded data removed]",
      "text/plain": [
       "<matplotlib.figure.Figure at 0x7f99b11caf90>"
      ]
     },
     "metadata": {},
     "output_type": "display_data"
    }
   ],
   "source": [
    "name_tmp4 = base_folder + 'i_hr_g%d.npy'\n",
    "for g in xrange(5):\n",
    "    A = np.load(name_tmp4%(g,))\n",
    "    print mm(A, cast_int=False)\n",
    "    plt = iu._is(A, vmin=A.min(), vmax=A.max())\n",
    "    name_img = (name_tmp4%(g))[:-3]\n",
    "    print name_img\n",
    "    plt.savefig(name_img +'png')"
   ]
  },
  {
   "cell_type": "code",
   "execution_count": 39,
   "metadata": {
    "collapsed": false
   },
   "outputs": [
    {
     "name": "stdout",
     "output_type": "stream",
     "text": [
      "./results/exp6/f1/gamma/cmp_g0\n",
      "./results/exp6/f1/gamma/cmp_g1\n",
      "./results/exp6/f1/gamma/cmp_g2\n",
      "./results/exp6/f1/gamma/cmp_g3\n",
      "./results/exp6/f1/gamma/cmp_g4\n"
     ]
    },
    {
     "data": {
      "image/png": "[encoded data removed]",
      "text/plain": [
       "<matplotlib.figure.Figure at 0x7f99b11cad50>"
      ]
     },
     "metadata": {},
     "output_type": "display_data"
    }
   ],
   "source": [
    "name_tmp4 = base_folder + 'i_hr_g%d.npy'\n",
    "for g in xrange(5):\n",
    "    A = np.load(name_tmp3%(g,))\n",
    "    i_hr = np.load(name_tmp4%(g,))\n",
    "    #print mm(A, cast_int=False)\n",
    "    plt = iu._isc(A,i_hr, vmin=0, vmax=1, titles=['reconstructed', 'original'])\n",
    "    name_img = base_folder + ('cmp_g%d'%(g))\n",
    "    print name_img\n",
    "    plt.savefig(name_img +'.png')"
   ]
  },
  {
   "cell_type": "code",
   "execution_count": 9,
   "metadata": {
    "collapsed": false
   },
   "outputs": [
    {
     "ename": "IOError",
     "evalue": "[Errno 2] No such file or directory: './results/exp6/f1/gamma/A_g0_lamda910000.npy'",
     "output_type": "error",
     "traceback": [
      "\u001b[1;31m---------------------------------------------------------------------------\u001b[0m",
      "\u001b[1;31mIOError\u001b[0m                                   Traceback (most recent call last)",
      "\u001b[1;32m<ipython-input-9-bbce10d412d8>\u001b[0m in \u001b[0;36m<module>\u001b[1;34m()\u001b[0m\n\u001b[0;32m      1\u001b[0m \u001b[0mi_hr\u001b[0m \u001b[1;33m=\u001b[0m \u001b[0mnp\u001b[0m\u001b[1;33m.\u001b[0m\u001b[0mload\u001b[0m\u001b[1;33m(\u001b[0m\u001b[0mbase_folder\u001b[0m\u001b[1;33m+\u001b[0m\u001b[1;34m'i_hr_g0.npy'\u001b[0m\u001b[1;33m)\u001b[0m\u001b[1;33m\u001b[0m\u001b[0m\n\u001b[1;32m----> 2\u001b[1;33m \u001b[0mA910000\u001b[0m \u001b[1;33m=\u001b[0m \u001b[0mnp\u001b[0m\u001b[1;33m.\u001b[0m\u001b[0mload\u001b[0m\u001b[1;33m(\u001b[0m\u001b[0mbase_folder\u001b[0m\u001b[1;33m+\u001b[0m\u001b[1;34m'A_g0_lamda910000.npy'\u001b[0m\u001b[1;33m)\u001b[0m\u001b[1;33m\u001b[0m\u001b[0m\n\u001b[0m\u001b[0;32m      3\u001b[0m \u001b[0miu\u001b[0m\u001b[1;33m.\u001b[0m\u001b[0m_isc\u001b[0m\u001b[1;33m(\u001b[0m\u001b[0mA910000\u001b[0m\u001b[1;33m,\u001b[0m\u001b[0mi_hr\u001b[0m\u001b[1;33m,\u001b[0m \u001b[0mvmax\u001b[0m\u001b[1;33m=\u001b[0m\u001b[1;36m1.4\u001b[0m\u001b[1;33m)\u001b[0m\u001b[1;33m\u001b[0m\u001b[0m\n\u001b[0;32m      4\u001b[0m \u001b[0mA910000\u001b[0m\u001b[1;33m.\u001b[0m\u001b[0mmin\u001b[0m\u001b[1;33m(\u001b[0m\u001b[1;33m)\u001b[0m\u001b[1;33m,\u001b[0m \u001b[0mA910000\u001b[0m\u001b[1;33m.\u001b[0m\u001b[0mmax\u001b[0m\u001b[1;33m(\u001b[0m\u001b[1;33m)\u001b[0m\u001b[1;33m,\u001b[0m \u001b[0mA910000\u001b[0m\u001b[1;33m.\u001b[0m\u001b[0mshape\u001b[0m\u001b[1;33m\u001b[0m\u001b[0m\n\u001b[0;32m      5\u001b[0m \u001b[1;32mdel\u001b[0m\u001b[1;33m(\u001b[0m\u001b[0mA100\u001b[0m\u001b[1;33m)\u001b[0m\u001b[1;33m\u001b[0m\u001b[0m\n",
      "\u001b[1;32m/user/lgomez/home/anaconda2/lib/python2.7/site-packages/numpy/lib/npyio.pyc\u001b[0m in \u001b[0;36mload\u001b[1;34m(file, mmap_mode, allow_pickle, fix_imports, encoding)\u001b[0m\n\u001b[0;32m    360\u001b[0m     \u001b[0mown_fid\u001b[0m \u001b[1;33m=\u001b[0m \u001b[0mFalse\u001b[0m\u001b[1;33m\u001b[0m\u001b[0m\n\u001b[0;32m    361\u001b[0m     \u001b[1;32mif\u001b[0m \u001b[0misinstance\u001b[0m\u001b[1;33m(\u001b[0m\u001b[0mfile\u001b[0m\u001b[1;33m,\u001b[0m \u001b[0mbasestring\u001b[0m\u001b[1;33m)\u001b[0m\u001b[1;33m:\u001b[0m\u001b[1;33m\u001b[0m\u001b[0m\n\u001b[1;32m--> 362\u001b[1;33m         \u001b[0mfid\u001b[0m \u001b[1;33m=\u001b[0m \u001b[0mopen\u001b[0m\u001b[1;33m(\u001b[0m\u001b[0mfile\u001b[0m\u001b[1;33m,\u001b[0m \u001b[1;34m\"rb\"\u001b[0m\u001b[1;33m)\u001b[0m\u001b[1;33m\u001b[0m\u001b[0m\n\u001b[0m\u001b[0;32m    363\u001b[0m         \u001b[0mown_fid\u001b[0m \u001b[1;33m=\u001b[0m \u001b[0mTrue\u001b[0m\u001b[1;33m\u001b[0m\u001b[0m\n\u001b[0;32m    364\u001b[0m     \u001b[1;32melse\u001b[0m\u001b[1;33m:\u001b[0m\u001b[1;33m\u001b[0m\u001b[0m\n",
      "\u001b[1;31mIOError\u001b[0m: [Errno 2] No such file or directory: './results/exp6/f1/gamma/A_g0_lamda910000.npy'"
     ]
    }
   ],
   "source": [
    "i_hr = np.load(base_folder+'i_hr_g0.npy')\n",
    "A910000 = np.load(base_folder+'A_g0_lamda910000.npy')\n",
    "iu._isc(A910000,i_hr, vmax=1.4)\n",
    "A910000.min(), A910000.max(), A910000.shape\n",
    "del(A100)"
   ]
  },
  {
   "cell_type": "code",
   "execution_count": 16,
   "metadata": {
    "collapsed": false
   },
   "outputs": [
    {
     "data": {
      "text/plain": [
       "(0.0, 2729.8464)"
      ]
     },
     "execution_count": 16,
     "metadata": {},
     "output_type": "execute_result"
    },
    {
     "data": {
      "image/png": "[encoded data removed]",
      "text/plain": [
       "<matplotlib.figure.Figure at 0x7fe8ed7d0bd0>"
      ]
     },
     "metadata": {},
     "output_type": "display_data"
    }
   ],
   "source": [
    "iu._is(i_hr, vmax=2729)\n",
    "i_hr.min(),i_hr.max()"
   ]
  },
  {
   "cell_type": "code",
   "execution_count": 51,
   "metadata": {
    "collapsed": false
   },
   "outputs": [
    {
     "data": {
      "text/plain": [
       "(-1.5125681573504312e-05, 1.4016132523250628, (12, 12, 12, 270))"
      ]
     },
     "execution_count": 51,
     "metadata": {},
     "output_type": "execute_result"
    },
    {
     "data": {
      "image/png": "[encoded data removed]",
      "text/plain": [
       "<matplotlib.figure.Figure at 0x7f70534ef510>"
      ]
     },
     "metadata": {},
     "output_type": "display_data"
    }
   ],
   "source": [
    "A1000 = np.load(base_folder+'A_g0_lamda1000.npy')\n",
    "iu._is(A1000, vmax=A1000.max())\n",
    "A1000.min(), A1000.max(), A1000.shape"
   ]
  },
  {
   "cell_type": "code",
   "execution_count": 51,
   "metadata": {
    "collapsed": false
   },
   "outputs": [
    {
     "data": {
      "text/plain": [
       "(-1.5125681573504312e-05, 1.4016132523250628, (12, 12, 12, 270))"
      ]
     },
     "execution_count": 51,
     "metadata": {},
     "output_type": "execute_result"
    },
    {
     "data": {
      "image/png": "[encoded data removed]",
      "text/plain": [
       "<matplotlib.figure.Figure at 0x7fa9b5b34e10>"
      ]
     },
     "metadata": {},
     "output_type": "display_data"
    }
   ],
   "source": [
    "A1000 = np.load(base_folder+'A_g0_lamda3000.npy')\n",
    "iu._is(A1000, vmax=A1000.max())\n",
    "A1000.min(), A1000.max(), A1000.shape"
   ]
  },
  {
   "cell_type": "code",
   "execution_count": 30,
   "metadata": {
    "collapsed": false
   },
   "outputs": [
    {
     "name": "stdout",
     "output_type": "stream",
     "text": [
      "[1000, 2000, 3000, 4000, 5000, 6000, 7000, 8000, 9000, 10000]\n"
     ]
    }
   ],
   "source": [
    "alala = []\n",
    "for val in rango :\n",
    "    alala.append(val)\n",
    "    \n",
    "print alala"
   ]
  }
 ],
 "metadata": {
  "kernelspec": {
   "display_name": "Python 2",
   "language": "python",
   "name": "python2"
  },
  "language_info": {
   "codemirror_mode": {
    "name": "ipython",
    "version": 2
   },
   "file_extension": ".py",
   "mimetype": "text/x-python",
   "name": "python",
   "nbconvert_exporter": "python",
   "pygments_lexer": "ipython2",
   "version": "2.7.12"
  }
 },
 "nbformat": 4,
 "nbformat_minor": 0
}
