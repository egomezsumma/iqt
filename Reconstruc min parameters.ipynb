{
 "cells": [
  {
   "cell_type": "code",
   "execution_count": 1,
   "metadata": {
    "collapsed": false
   },
   "outputs": [
    {
     "name": "stdout",
     "output_type": "stream",
     "text": [
      "Populating the interactive namespace from numpy and matplotlib\n"
     ]
    }
   ],
   "source": [
    "import numpy as np\n",
    "#from conf_exp6 import *\n",
    "%pylab inline\n",
    "#import seaborn\n",
    "import matplotlib.pyplot as plt\n",
    "import utils.img_utils as iu\n",
    "import json\n",
    "\n",
    "\n",
    "def mm(A, cast_int=True):\n",
    "    if cast_int:\n",
    "        return (int(A.min()), int(A.max()))\n",
    "    else:\n",
    "        return (A.min(), A.max())\n"
   ]
  },
  {
   "cell_type": "code",
   "execution_count": 2,
   "metadata": {
    "collapsed": false
   },
   "outputs": [
    {
     "name": "stdout",
     "output_type": "stream",
     "text": [
      "guardando_A_y_ihr_mas_nuleando_variables\n",
      "[1000, 2000, 3000, 4000, 5000, 6000, 7000, 8000, 9000, 10000]\n",
      "loading ./results/exp6/f1/lamda.201610270948/mse_g0_f0.npy\n",
      "loading ./results/exp6/f1/lamda.201610270948/mse_g0_f1.npy\n",
      "loading ./results/exp6/f1/lamda.201610270948/mse_g0_f2.npy\n",
      "loading ./results/exp6/f1/lamda.201610270948/mse_g0_f3.npy\n",
      "loading ./results/exp6/f1/lamda.201610270948/mse_g0_f4.npy\n",
      "loading ./results/exp6/f1/lamda.201610270948/mse_g0_f5.npy\n",
      "loading ./results/exp6/f1/lamda.201610270948/mse_g0_f6.npy\n",
      "loading ./results/exp6/f1/lamda.201610270948/mse_g0_f7.npy\n",
      "loading ./results/exp6/f1/lamda.201610270948/mse_g0_f8.npy\n",
      "loading ./results/exp6/f1/lamda.201610270948/mse_g0_f9.npy\n",
      "loading ./results/exp6/f1/lamda.201610270948/mse_g1_f0.npy\n",
      "loading ./results/exp6/f1/lamda.201610270948/mse_g1_f1.npy\n",
      "loading ./results/exp6/f1/lamda.201610270948/mse_g1_f2.npy\n",
      "loading ./results/exp6/f1/lamda.201610270948/mse_g1_f3.npy\n",
      "loading ./results/exp6/f1/lamda.201610270948/mse_g1_f4.npy\n",
      "loading ./results/exp6/f1/lamda.201610270948/mse_g1_f5.npy\n",
      "loading ./results/exp6/f1/lamda.201610270948/mse_g1_f6.npy\n",
      "loading ./results/exp6/f1/lamda.201610270948/mse_g1_f7.npy\n",
      "loading ./results/exp6/f1/lamda.201610270948/mse_g1_f8.npy\n",
      "loading ./results/exp6/f1/lamda.201610270948/mse_g1_f9.npy\n",
      "loading ./results/exp6/f1/lamda.201610270948/mse_g2_f0.npy\n",
      "loading ./results/exp6/f1/lamda.201610270948/mse_g2_f1.npy\n",
      "loading ./results/exp6/f1/lamda.201610270948/mse_g2_f2.npy\n",
      "loading ./results/exp6/f1/lamda.201610270948/mse_g2_f3.npy\n",
      "loading ./results/exp6/f1/lamda.201610270948/mse_g2_f4.npy\n",
      "loading ./results/exp6/f1/lamda.201610270948/mse_g2_f5.npy\n",
      "loading ./results/exp6/f1/lamda.201610270948/mse_g2_f6.npy\n",
      "loading ./results/exp6/f1/lamda.201610270948/mse_g2_f7.npy\n",
      "loading ./results/exp6/f1/lamda.201610270948/mse_g2_f8.npy\n",
      "loading ./results/exp6/f1/lamda.201610270948/mse_g2_f9.npy\n",
      "loading ./results/exp6/f1/lamda.201610270948/mse_g3_f0.npy\n",
      "loading ./results/exp6/f1/lamda.201610270948/mse_g3_f1.npy\n",
      "loading ./results/exp6/f1/lamda.201610270948/mse_g3_f2.npy\n",
      "loading ./results/exp6/f1/lamda.201610270948/mse_g3_f3.npy\n",
      "loading ./results/exp6/f1/lamda.201610270948/mse_g3_f4.npy\n",
      "loading ./results/exp6/f1/lamda.201610270948/mse_g3_f5.npy\n",
      "loading ./results/exp6/f1/lamda.201610270948/mse_g3_f6.npy\n",
      "loading ./results/exp6/f1/lamda.201610270948/mse_g3_f7.npy\n",
      "loading ./results/exp6/f1/lamda.201610270948/mse_g3_f8.npy\n",
      "loading ./results/exp6/f1/lamda.201610270948/mse_g3_f9.npy\n",
      "loading ./results/exp6/f1/lamda.201610270948/mse_g4_f0.npy\n",
      "loading ./results/exp6/f1/lamda.201610270948/mse_g4_f1.npy\n",
      "loading ./results/exp6/f1/lamda.201610270948/mse_g4_f2.npy\n",
      "loading ./results/exp6/f1/lamda.201610270948/mse_g4_f3.npy\n",
      "loading ./results/exp6/f1/lamda.201610270948/mse_g4_f4.npy\n",
      "loading ./results/exp6/f1/lamda.201610270948/mse_g4_f5.npy\n",
      "loading ./results/exp6/f1/lamda.201610270948/mse_g4_f6.npy\n",
      "loading ./results/exp6/f1/lamda.201610270948/mse_g4_f7.npy\n",
      "loading ./results/exp6/f1/lamda.201610270948/mse_g4_f8.npy\n",
      "loading ./results/exp6/f1/lamda.201610270948/mse_g4_f9.npy\n",
      "(10, 10, 5) (10, 10, 5) (10, 10, 5) (10, 10, 5)\n"
     ]
    }
   ],
   "source": [
    "#parameter_name = 'lamda'\n",
    "#idjob='201610141834'\n",
    "#idjob='201610160213'\n",
    "#idjob='201610172354'\n",
    "\n",
    "#parameter_name = 'gamma'\n",
    "#idjob='201610200008'\n",
    "\n",
    "#parameter_name = 'beta'\n",
    "#idjob='201610202108'\n",
    " \n",
    "#parameter_name = 'lamda'\n",
    "#idjob='201610201227'\n",
    "#exp_name = 'exp6pixel'\n",
    "\n",
    "#parameter_name = 'lamda'\n",
    "#idjob='201610232116'\n",
    "#exp_name = 'exp6'\n",
    "\n",
    "#parameter_name = 'lamda'\n",
    "#idjob='201610260937'\n",
    "#exp_name = 'exp6'\n",
    "\n",
    "#Enviado en mail a demian del 9 de nov\n",
    "parameter_name = 'lamda'\n",
    "idjob='201610270948'\n",
    "exp_name = 'exp6'\n",
    "\n",
    "#parameter_name = 'beta'\n",
    "#idjob='201610291334'\n",
    "#exp_name = 'exp6'\n",
    "\n",
    "\n",
    "#parameter_name = 'lamda'\n",
    "#idjob='201611041104'\n",
    "#exp_name = 'exp6pixel'\n",
    "\n",
    "#Enviado en mail a demian del 9 de nov\n",
    "#parameter_name = 'lamda'\n",
    "#idjob='201611072025'\n",
    "#exp_name = 'exp6pixel'\n",
    "\n",
    "\n",
    "formula = 'f1'\n",
    "base_folder = './results/%s/%s/%s.%s/'%(exp_name, formula, parameter_name, idjob)\n",
    "\n",
    "\n",
    "with open(base_folder + 'data.json') as data_file:    \n",
    "    data = json.load(data_file)\n",
    "\n",
    "params_range = data['params_range']\n",
    "rango = params_range[parameter_name]\n",
    "#rango = np.arange(100, 1001, 100)\n",
    "if 'description' in data:\n",
    "    print data['description']\n",
    "\n",
    "GROUPS=5\n",
    "FITS=10\n",
    "RANGO=len(rango)\n",
    "print rango \n",
    "\n",
    "mse = np.zeros((RANGO, FITS, GROUPS), dtype='float32')\n",
    "mse1000 = np.zeros((RANGO, FITS, GROUPS), dtype='float32')\n",
    "mse2000 = np.zeros((RANGO, FITS, GROUPS), dtype='float32')\n",
    "mse3000 = np.zeros((RANGO, FITS, GROUPS), dtype='float32')\n",
    "a = np.zeros((RANGO), dtype='float')\n",
    "\n",
    "name_tmp1 = base_folder + 'mse_g%d_f%d'+'.npy'\n",
    "name_tmp2 = base_folder + 'mse%d_g%d_f%d'+'.npy'\n",
    "for group in xrange(GROUPS):\n",
    "    #if group==0 : continue\n",
    "    for fit in xrange(FITS):\n",
    "        #if fit == 6 : continue\n",
    "        print 'loading', name_tmp1%(group, fit)\n",
    "        tmp = np.load(name_tmp1%(group, fit))\n",
    "        a = a + tmp\n",
    "        mse[:, fit, group] = tmp\n",
    "        \n",
    "        mse1000[:, fit, group] = np.load(name_tmp2%(1000, group, fit))\n",
    "        mse2000[:, fit, group] = np.load(name_tmp2%(2000, group, fit))\n",
    "        mse3000[:, fit, group] = np.load(name_tmp2%(3000, group, fit))\n",
    "\n",
    "a = a / (FITS*GROUPS)\n",
    "\n",
    "print mse.shape, mse1000.shape, mse2000.shape, mse3000.shape\n"
   ]
  },
  {
   "cell_type": "code",
   "execution_count": 7,
   "metadata": {
    "collapsed": false
   },
   "outputs": [
    {
     "name": "stdout",
     "output_type": "stream",
     "text": [
      " [1000, 2000, 3000, 4000, 5000, 6000, 7000, 8000, 9000, 10000]\n",
      "f0 0.120374\n",
      "f1 3.35391e+09\n",
      "f2 0.30156\n",
      "f3 0.328912\n",
      "f4 0.245847\n",
      "f5 0.0660355\n",
      "f6 0.2802\n",
      "f7 0.140098\n",
      "f8 0.13114\n",
      "f9 0.134547\n",
      "0 &$0.120374$ & $0.120374$ & $0.120374$ & $0.120374$ & $0.120374$ & $0.120374$ & $0.120374$ & $0.120374$ & $0.120374$ & $0.120374$ & \\\\\n",
      "1 &$3.35391e+09$ & $3.35391e+09$ & $3.35391e+09$ & $3.35391e+09$ & $3.35391e+09$ & $3.35391e+09$ & $3.35391e+09$ & $3.35391e+09$ & $3.35391e+09$ & $3.35391e+09$ & \\\\\n",
      "2 &$0.30156$ & $0.30156$ & $0.30156$ & $0.30156$ & $0.30156$ & $0.30156$ & $0.30156$ & $0.30156$ & $0.30156$ & $0.30156$ & \\\\\n",
      "3 &$0.328912$ & $0.328912$ & $0.328912$ & $0.328912$ & $0.328912$ & $0.328912$ & $0.328912$ & $0.328912$ & $0.328912$ & $0.328912$ & \\\\\n",
      "4 &$0.245847$ & $0.245847$ & $0.245847$ & $0.245847$ & $0.245847$ & $0.245847$ & $0.245847$ & $0.245847$ & $0.245847$ & $0.245847$ & \\\\\n",
      "5 &$0.0660355$ & $0.0660355$ & $0.0660355$ & $0.0660355$ & $0.0660355$ & $0.0660355$ & $0.0660355$ & $0.0660355$ & $0.0660355$ & $0.0660355$ & \\\\\n",
      "6 &$0.2802$ & $0.2802$ & $0.2802$ & $0.2802$ & $0.2802$ & $0.2802$ & $0.2802$ & $0.2802$ & $0.2802$ & $0.2802$ & \\\\\n",
      "7 &$0.140098$ & $0.140098$ & $0.140098$ & $0.140098$ & $0.140098$ & $0.140098$ & $0.140098$ & $0.140098$ & $0.140098$ & $0.140098$ & \\\\\n",
      "8 &$0.13114$ & $0.13114$ & $0.13114$ & $0.13114$ & $0.13114$ & $0.13114$ & $0.13114$ & $0.13114$ & $0.13114$ & $0.13114$ & \\\\\n",
      "9 &$0.134547$ & $0.134547$ & $0.134547$ & $0.134547$ & $0.134547$ & $0.134547$ & $0.134547$ & $0.134547$ & $0.134547$ & $0.134547$ & \\\\\n",
      "\n"
     ]
    }
   ],
   "source": [
    "mse1000.shape\n",
    "gggg=4\n",
    "\n",
    "print rango\n",
    "print 'f0', mse[:, 0,gggg].mean()\n",
    "print 'f1', mse[:, 1,gggg].mean()\n",
    "print 'f2', mse[:, 2,gggg].mean()\n",
    "print 'f3', mse[:, 3,gggg].mean()\n",
    "print 'f4', mse[:, 4,gggg].mean()\n",
    "print 'f5', mse[:, 5,gggg].mean()\n",
    "print 'f6', mse[:, 6,gggg].mean()\n",
    "print 'f7', mse[:, 7,gggg].mean()\n",
    "print 'f8', mse[:, 8,gggg].mean()\n",
    "print 'f9', mse[:, 9,gggg].mean()\n",
    "\n",
    "str8 = ''\n",
    "for lala in xrange(10):\n",
    "    str8 = str8 + ''+ str(lala)+ ' &'\n",
    "    for lolo in xrange(10):\n",
    "        str8 = str8 +  '$' +str(mse[lolo, lala, gggg]) + '$ & '\n",
    "    str8 = str8 + '\\\\\\\\\\n'\n",
    "\n",
    "print str8\n",
    "        \n",
    "\n",
    "\n"
   ]
  },
  {
   "cell_type": "code",
   "execution_count": 22,
   "metadata": {
    "collapsed": false
   },
   "outputs": [
    {
     "name": "stdout",
     "output_type": "stream",
     "text": [
      "[ 9.57903518  9.57903008  9.57903656  9.57904406  9.57903124  9.57904176\n",
      "  9.57902194  9.57904231  9.57899348  9.57902149]\n",
      "[ 0.1915807   0.19158061  0.19158073  0.19158088  0.19158062  0.19158082\n",
      "  0.19158044  0.19158085  0.19157986  0.19158043]\n",
      "[ 0.1915807   0.1915806   0.19158073  0.19158088  0.19158062  0.19158084\n",
      "  0.19158044  0.19158085  0.19157987  0.19158043]\n"
     ]
    }
   ],
   "source": [
    "mean= mse.mean(axis=2).mean(axis=1)\n",
    "var = np.std(np.std(mse, axis=2), axis=1)\n",
    "\n",
    "acum = np.zeros(mse.shape[0])\n",
    "n=0\n",
    "for f in xrange(10):\n",
    "    for g in xrange(5):\n",
    "        acum = acum + mse[:, f, g]\n",
    "        n=n+1\n",
    "\n",
    "mean2 = acum/n\n",
    "\n",
    "print acum\n",
    "print mean\n",
    "print mean2\n"
   ]
  },
  {
   "cell_type": "code",
   "execution_count": 23,
   "metadata": {
    "collapsed": false
   },
   "outputs": [
    {
     "name": "stdout",
     "output_type": "stream",
     "text": [
      "[10000, 110000, 210000, 310000, 410000, 510000, 610000, 710000, 810000, 910000]\n",
      "[ 0.25489789  0.25489777  0.25489834  0.25489804  0.25489777  0.25489774\n",
      "  0.25489765  0.2548981   0.25489664  0.25489756] (10,) (10, 10, 5)\n",
      "[  5.81761071e-07   9.93573394e-07   3.77524685e-07   4.40227808e-07\n",
      "   1.10277654e-06   8.95670098e-07   6.42739451e-07   7.14653993e-07\n",
      "   7.71708983e-07   2.15419982e-06]\n"
     ]
    }
   ],
   "source": [
    "print rango\n",
    "mean1000 = mse1000.mean(axis=2).mean(axis=1)\n",
    "var1000 = np.std(np.std(mse1000, axis=2), axis=0)\n",
    "print mean1000, mean1000.shape, mse1000.shape\n",
    "print var1000\n"
   ]
  },
  {
   "cell_type": "code",
   "execution_count": 24,
   "metadata": {
    "collapsed": false
   },
   "outputs": [
    {
     "name": "stdout",
     "output_type": "stream",
     "text": [
      "[10000, 110000, 210000, 310000, 410000, 510000, 610000, 710000, 810000, 910000]\n",
      "[ 0.17186657  0.17186657  0.17186669  0.17186692  0.17186676  0.17186694\n",
      "  0.17186649  0.17186669  0.17186603  0.17186643] (10,) (10, 10, 5)\n",
      "[ 0.05696289  0.05696357  0.05696297  0.05696296  0.05696313  0.05696326\n",
      "  0.05696348  0.05696301  0.05696319  0.05696315]\n"
     ]
    }
   ],
   "source": [
    "print rango\n",
    "mean2000 = mse2000.mean(axis=2).mean(axis=1)\n",
    "var2000 = np.std(np.std(mse2000, axis=2), axis=1)\n",
    "\n",
    "print mean2000, mean2000.shape, mse2000.shape\n",
    "print var2000\n"
   ]
  },
  {
   "cell_type": "code",
   "execution_count": 25,
   "metadata": {
    "collapsed": false
   },
   "outputs": [
    {
     "name": "stdout",
     "output_type": "stream",
     "text": [
      "(10,) [10000, 110000, 210000, 310000, 410000, 510000, 610000, 710000, 810000, 910000]\n",
      "[ 0.1550996   0.15509962  0.15509939  0.15509991  0.15509984  0.15509996\n",
      "  0.15509966  0.15509979  0.15509914  0.15509962]\n",
      "[ 0.06273775  0.06273866  0.06273802  0.06273805  0.06273805  0.06273807\n",
      "  0.06273858  0.06273821  0.06273815  0.06273817]\n"
     ]
    }
   ],
   "source": [
    "#rango = np.arange(100, 1001, 100)\n",
    "print mean.shape, rango\n",
    "mean3000 = mse3000.mean(axis=2).mean(axis=1)\n",
    "var3000 = np.std(np.std(mse3000, axis=2), axis=1)\n",
    "print mean3000\n",
    "print var3000\n"
   ]
  },
  {
   "cell_type": "code",
   "execution_count": 26,
   "metadata": {
    "collapsed": false
   },
   "outputs": [
    {
     "name": "stdout",
     "output_type": "stream",
     "text": [
      "(10,) (10, 3)\n",
      "medias= 0.191581 0.254898 0.171867 0.1551\n",
      "std= 0.157939 0.172998 0.153911 0.16365\n",
      "mean1000 [ 0.25489789  0.25489777  0.25489834  0.25489804  0.25489777  0.25489774\n",
      "  0.25489765  0.2548981   0.25489664  0.25489756]\n",
      "mean2000 [ 0.17186657  0.17186657  0.17186669  0.17186692  0.17186676  0.17186694\n",
      "  0.17186649  0.17186669  0.17186603  0.17186643]\n",
      "mean [ 0.1915807   0.19158061  0.19158073  0.19158088  0.19158062  0.19158082\n",
      "  0.19158044  0.19158085  0.19157986  0.19158043] 0.19158\n",
      "[10000, 110000, 210000, 310000, 410000, 510000, 610000, 710000, 810000, 910000]\n",
      "dir ./results/exp6pixel/f1/lamda.201611072025/res/ created!\n"
     ]
    },
    {
     "data": {
      "image/png": "[encoded data removed]",
      "text/plain": [
       "<matplotlib.figure.Figure at 0x7f63b0829bd0>"
      ]
     },
     "metadata": {},
     "output_type": "display_data"
    }
   ],
   "source": [
    "#rango = np.arange(100, 1001, 100)\n",
    "\n",
    "mean3 = np.zeros((mean1000.shape[0], 3))\n",
    "print mean2000.shape, mean3.shape\n",
    "mean3[:, 0] = mean1000\n",
    "mean3[:, 1] = mean2000\n",
    "mean3[:, 2] = mean3000\n",
    "\n",
    "#plt.plot(rango, mean3000,'o', label='b=3000')\n",
    "#plt.plot(rango, mean1000, 'o', label='b=1000')\n",
    "#plt.plot(rango, mean2000,'o', label='b=2000')\n",
    "#plt.plot(rango, mean3.mean(axis=1),'o', label='b=all')\n",
    "#plt.plot(rango, mean,'o', label='b=all')\n",
    "\n",
    "#plt.plot(rango, mean+var,'o', label='b=all')\n",
    "#plt.plot(rango, mean-var,'o', label='b=all')\n",
    "\n",
    "#plt.errorbar(rango, mean, yerr=var, fmt='o', label='b=all')\n",
    "plt.errorbar(rango, mean3.mean(axis=1), yerr=np.std(mean3, axis=1), fmt='o')\n",
    "\n",
    "\n",
    "plt.legend()\n",
    "plt.ylabel('MSE(Yhr,^Yhr)')\n",
    "plt.xlabel(parameter_name)\n",
    "#plt.legend(lala , loc=2, bbox_to_anchor=(1, 0.5))\n",
    "#plt.ylim((1102000.0, 1102300.0))\n",
    "mse[:,2,1]\n",
    "#print plt.ylim((940000000.0, 960000000.0))\n",
    "\n",
    "print 'medias=',mse.mean(),mse1000.mean(), mse2000.mean(), mse3000.mean() \n",
    "print 'std=',np.std(mse),np.std(mse1000), np.std(mse2000), np.std(mse3000) \n",
    "print 'mean1000', mean1000\n",
    "print 'mean2000', mean2000\n",
    "print 'mean', mean, mean.min()\n",
    "print rango\n",
    "\n",
    "import os\n",
    "if not os.path.exists(base_folder+ 'res/'):\n",
    "    try:\n",
    "        os.makedirs(base_folder+ 'res/')\n",
    "        print 'dir', base_folder+ 'res/', 'created!' \n",
    "    except OSError, e :\n",
    "        print str(e)\n",
    "\n",
    "\n",
    "## Para grabar\n",
    "plt.savefig(base_folder+ 'res/'+parameter_name+'_mean_var_idjob'+idjob+'.pdf')\n"
   ]
  },
  {
   "cell_type": "markdown",
   "metadata": {},
   "source": [
    "# Dibujando la reconstruida\n"
   ]
  },
  {
   "cell_type": "code",
   "execution_count": 27,
   "metadata": {
    "collapsed": false
   },
   "outputs": [
    {
     "name": "stdout",
     "output_type": "stream",
     "text": [
      "(-0.61863655, 1.324613)\n",
      "A_g0_val0.\n",
      "(-0.61863655, 1.3246127)\n",
      "A_g0_val1.\n",
      "(-0.61863655, 1.3245956)\n",
      "A_g0_val2.\n",
      "(-0.61863655, 1.3245955)\n",
      "A_g0_val3.\n",
      "(-0.61863655, 1.3245955)\n",
      "A_g0_val4.\n",
      "(-0.61863655, 1.3246127)\n",
      "A_g0_val5.\n",
      "(-0.61863655, 1.3246127)\n",
      "A_g0_val6.\n",
      "(-0.61863655, 1.3245956)\n",
      "A_g0_val7.\n",
      "(-0.61863655, 1.3245955)\n",
      "A_g0_val8.\n",
      "(-0.61863655, 1.3245955)\n",
      "A_g0_val9.\n",
      "(-0.60340327, 0.90801203)\n",
      "A_g1_val0.\n",
      "(-0.60340327, 0.90801108)\n",
      "A_g1_val1.\n",
      "(-0.60340327, 0.90803117)\n",
      "A_g1_val2.\n",
      "(-0.60340327, 0.90800303)\n",
      "A_g1_val3.\n",
      "(-0.60340327, 0.90802991)\n",
      "A_g1_val4.\n",
      "(-0.60340327, 0.90803111)\n",
      "A_g1_val5.\n",
      "(-0.60340327, 0.90801615)\n",
      "A_g1_val6.\n",
      "(-0.60340327, 0.9080317)\n",
      "A_g1_val7.\n",
      "(-0.60340327, 0.90804988)\n",
      "A_g1_val8.\n",
      "(-0.60340327, 0.90802097)\n",
      "A_g1_val9.\n",
      "(-1.0488356, 1.5744212)\n",
      "A_g2_val0.\n",
      "(-1.0487549, 1.5744212)\n",
      "A_g2_val1.\n",
      "(-1.0487162, 1.5744212)\n",
      "A_g2_val2.\n",
      "(-1.0487554, 1.5744212)\n",
      "A_g2_val3.\n",
      "(-1.048682, 1.5744212)\n",
      "A_g2_val4.\n",
      "(-1.0487354, 1.5744212)\n",
      "A_g2_val5.\n",
      "(-1.0487812, 1.5744212)\n",
      "A_g2_val6.\n",
      "(-1.0488354, 1.5744212)\n",
      "A_g2_val7.\n",
      "(-1.0486484, 1.5744212)\n",
      "A_g2_val8.\n",
      "(-1.0486736, 1.5744212)\n",
      "A_g2_val9.\n",
      "(-1.1973753, 1.6710469)\n",
      "A_g3_val0.\n",
      "(-1.1973753, 1.6711668)\n",
      "A_g3_val1.\n",
      "(-1.1973753, 1.6710297)\n",
      "A_g3_val2.\n",
      "(-1.1973753, 1.671131)\n",
      "A_g3_val3.\n",
      "(-1.1973753, 1.6711876)\n",
      "A_g3_val4.\n",
      "(-1.1973753, 1.6709847)\n",
      "A_g3_val5.\n",
      "(-1.1973753, 1.671276)\n",
      "A_g3_val6.\n",
      "(-1.1973753, 1.6710441)\n",
      "A_g3_val7.\n",
      "(-1.1973753, 1.6711055)\n",
      "A_g3_val8.\n",
      "(-1.1973753, 1.6711371)\n",
      "A_g3_val9.\n",
      "(-1.0412395, 1.79805)\n",
      "A_g4_val0.\n",
      "(-1.0412396, 1.79805)\n",
      "A_g4_val1.\n",
      "(-1.0412393, 1.79805)\n",
      "A_g4_val2.\n",
      "(-1.041239, 1.79805)\n",
      "A_g4_val3.\n",
      "(-1.0412394, 1.79805)\n",
      "A_g4_val4.\n",
      "(-1.0412396, 1.79805)\n",
      "A_g4_val5.\n",
      "(-1.0412395, 1.79805)\n",
      "A_g4_val6.\n",
      "(-1.0412395, 1.79805)\n",
      "A_g4_val7.\n",
      "(-1.0412396, 1.79805)\n",
      "A_g4_val8.\n",
      "(-1.0412396, 1.79805)\n",
      "A_g4_val9.\n"
     ]
    },
    {
     "data": {
      "image/png": "[encoded data removed]",
      "text/plain": [
       "<matplotlib.figure.Figure at 0x7f63b050bd10>"
      ]
     },
     "metadata": {},
     "output_type": "display_data"
    }
   ],
   "source": [
    "name_tmp3 = base_folder + 'A_g%d_val%d.npy'\n",
    "\n",
    "for g in xrange(GROUPS):\n",
    "    #if g == 0 : continue\n",
    "    for i_val in xrange(len(rango)):\n",
    "        val = rango[i_val]\n",
    "        A = np.load(name_tmp3%(g,i_val))\n",
    "        print mm(A, cast_int=False)\n",
    "        plt = iu._is(A, vmin=0, vmax=1.5)\n",
    "        name_img = ('A_g%d_val%d.npy'%(g, i_val))[:-3]\n",
    "        print name_img\n",
    "        plt.savefig(base_folder+ '/res/'+name_img +'png')"
   ]
  },
  {
   "cell_type": "code",
   "execution_count": 28,
   "metadata": {
    "collapsed": false
   },
   "outputs": [
    {
     "name": "stdout",
     "output_type": "stream",
     "text": [
      "(-0.61863655, 1.3246131)\n",
      "B_g0_val0.\n",
      "(-0.61863655, 1.3246129)\n",
      "B_g0_val1.\n",
      "(-0.61863655, 1.3245956)\n",
      "B_g0_val2.\n",
      "(-0.61863655, 1.3245956)\n",
      "B_g0_val3.\n",
      "(-0.61863655, 1.3245955)\n",
      "B_g0_val4.\n",
      "(-0.61863655, 1.3246129)\n",
      "B_g0_val5.\n",
      "(-0.61863655, 1.3246127)\n",
      "B_g0_val6.\n",
      "(-0.61863655, 1.3245957)\n",
      "B_g0_val7.\n",
      "(-0.61863655, 1.3245955)\n",
      "B_g0_val8.\n",
      "(-0.61863655, 1.3245955)\n",
      "B_g0_val9.\n",
      "(-0.60340327, 0.90801197)\n",
      "B_g1_val0.\n",
      "(-0.60340327, 0.90801102)\n",
      "B_g1_val1.\n",
      "(-0.60340327, 0.90803117)\n",
      "B_g1_val2.\n",
      "(-0.60340327, 0.90800303)\n",
      "B_g1_val3.\n",
      "(-0.60340327, 0.90802991)\n",
      "B_g1_val4.\n",
      "(-0.60340327, 0.90803111)\n",
      "B_g1_val5.\n",
      "(-0.60340327, 0.9080162)\n",
      "B_g1_val6.\n",
      "(-0.60340327, 0.9080317)\n",
      "B_g1_val7.\n",
      "(-0.60340327, 0.90804988)\n",
      "B_g1_val8.\n",
      "(-0.60340327, 0.90802097)\n",
      "B_g1_val9.\n",
      "(-1.0488356, 1.574421)\n",
      "B_g2_val0.\n",
      "(-1.048755, 1.574421)\n",
      "B_g2_val1.\n",
      "(-1.0487162, 1.574421)\n",
      "B_g2_val2.\n",
      "(-1.0487554, 1.574421)\n",
      "B_g2_val3.\n",
      "(-1.048682, 1.574421)\n",
      "B_g2_val4.\n",
      "(-1.0487354, 1.574421)\n",
      "B_g2_val5.\n",
      "(-1.0487812, 1.574421)\n",
      "B_g2_val6.\n",
      "(-1.0488353, 1.574421)\n",
      "B_g2_val7.\n",
      "(-1.0486484, 1.574421)\n",
      "B_g2_val8.\n",
      "(-1.0486736, 1.574421)\n",
      "B_g2_val9.\n",
      "(-1.1973753, 1.671047)\n",
      "B_g3_val0.\n",
      "(-1.1973753, 1.6711667)\n",
      "B_g3_val1.\n",
      "(-1.1973753, 1.6710297)\n",
      "B_g3_val2.\n",
      "(-1.1973753, 1.6711311)\n",
      "B_g3_val3.\n",
      "(-1.1973753, 1.6711878)\n",
      "B_g3_val4.\n",
      "(-1.1973753, 1.6709846)\n",
      "B_g3_val5.\n",
      "(-1.1973753, 1.671276)\n",
      "B_g3_val6.\n",
      "(-1.1973753, 1.6710441)\n",
      "B_g3_val7.\n",
      "(-1.1973753, 1.6711056)\n",
      "B_g3_val8.\n",
      "(-1.1973753, 1.6711371)\n",
      "B_g3_val9.\n",
      "(-1.0412395, 1.79805)\n",
      "B_g4_val0.\n",
      "(-1.0412396, 1.79805)\n",
      "B_g4_val1.\n",
      "(-1.0412393, 1.79805)\n",
      "B_g4_val2.\n",
      "(-1.041239, 1.79805)\n",
      "B_g4_val3.\n",
      "(-1.0412394, 1.79805)\n",
      "B_g4_val4.\n",
      "(-1.0412396, 1.79805)\n",
      "B_g4_val5.\n",
      "(-1.0412395, 1.79805)\n",
      "B_g4_val6.\n",
      "(-1.0412395, 1.79805)\n",
      "B_g4_val7.\n",
      "(-1.0412396, 1.79805)\n",
      "B_g4_val8.\n",
      "(-1.0412396, 1.79805)\n",
      "B_g4_val9.\n"
     ]
    },
    {
     "data": {
      "image/png": "[encoded data removed]",
      "text/plain": [
       "<matplotlib.figure.Figure at 0x7f63b03a10d0>"
      ]
     },
     "metadata": {},
     "output_type": "display_data"
    }
   ],
   "source": [
    "name_tmp3 = base_folder + 'B_g%d_val%d.npy'\n",
    "\n",
    "for g in xrange(GROUPS):\n",
    "    #if g == 0 : continue\n",
    "    for i_val in xrange(len(rango)):\n",
    "        val = rango[i_val]\n",
    "        A = np.load(name_tmp3%(g,i_val))\n",
    "        print mm(A, cast_int=False)\n",
    "        plt = iu._is(A, vmin=0, vmax=1.5)\n",
    "        name_img = ('B_g%d_val%d.npy'%(g, i_val))[:-3]\n",
    "        print name_img\n",
    "        plt.savefig(base_folder+ '/res/'+name_img +'png')"
   ]
  },
  {
   "cell_type": "markdown",
   "metadata": {},
   "source": [
    "# Dibujando la original\n"
   ]
  },
  {
   "cell_type": "code",
   "execution_count": 29,
   "metadata": {
    "collapsed": false
   },
   "outputs": [
    {
     "name": "stdout",
     "output_type": "stream",
     "text": [
      "./results/exp6pixel/f1/lamda.201611072025/i_hr_g0_105115.npy\n",
      "(0.0088479323, 1.1301233)\n",
      "i_hr_g0_105115.\n",
      "./results/exp6pixel/f1/lamda.201611072025/i_hr_g1_101006.npy\n",
      "(0.0021109236, 2.9902432)\n",
      "i_hr_g1_101006.\n",
      "./results/exp6pixel/f1/lamda.201611072025/i_hr_g2_101107.npy\n",
      "(0.0, 1.7463834)\n",
      "i_hr_g2_101107.\n",
      "./results/exp6pixel/f1/lamda.201611072025/i_hr_g3_101915.npy\n",
      "(0.0079469886, 4.1959381)\n",
      "i_hr_g3_101915.\n",
      "./results/exp6pixel/f1/lamda.201611072025/i_hr_g4_102816.npy\n",
      "(0.016350085, 4.2103333)\n",
      "i_hr_g4_102816.\n"
     ]
    },
    {
     "data": {
      "image/png": "[encoded data removed]",
      "text/plain": [
       "<matplotlib.figure.Figure at 0x7f63d451cf10>"
      ]
     },
     "metadata": {},
     "output_type": "display_data"
    }
   ],
   "source": [
    "#subjetc_fited = [103111, 101006, 101107, 101915,102816]\n",
    "#del(subject_fited)\n",
    "subjetc_fited = [105115, 101006, 101107, 101915, 102816]\n",
    "\n",
    "#name_tmp4 = base_folder + 'i_hr_g%d.npy'\n",
    "name_tmp4 = base_folder + 'i_hr_g%d_%d.npy'\n",
    "\n",
    "for g in xrange(5):\n",
    "    #if g == 0 : continue\n",
    "    \n",
    "    #print name_tmp4%(g,)\n",
    "    print name_tmp4%(g,subjetc_fited[g])\n",
    "    \n",
    "    #A = np.load(name_tmp4%(g,))\n",
    "    A = np.load(name_tmp4%(g,subjetc_fited[g]))\n",
    "    print mm(A, cast_int=False)\n",
    "    plt = iu._is(A, vmin=0, vmax=1.5)\n",
    "    #name_img = ('i_hr_g%d.png'%(g,))[:-3]\n",
    "    name_img = ('i_hr_g%d_%d.png'%(g, subjetc_fited[g]))[:-3]\n",
    "    print name_img\n",
    "    plt.savefig(base_folder + '/res/' +name_img)"
   ]
  },
  {
   "cell_type": "markdown",
   "metadata": {},
   "source": [
    "# Dibujando la upsampleada antes de minimizar\n"
   ]
  },
  {
   "cell_type": "code",
   "execution_count": 49,
   "metadata": {
    "collapsed": false
   },
   "outputs": [
    {
     "name": "stdout",
     "output_type": "stream",
     "text": [
      "(0.00053765206, 4247856.0)\n",
      "i_hr_fake_g0.\n",
      "(0.00018188616, 2.9902432)\n",
      "i_hr_fake_g1.\n",
      "(0.0, 2.2149892)\n",
      "i_hr_fake_g2.\n",
      "(0.00099337357, 2.8161852)\n",
      "i_hr_fake_g3.\n",
      "(0.0024674172, 3.1205568)\n",
      "i_hr_fake_g4.\n"
     ]
    },
    {
     "data": {
      "image/png": "[encoded data removed]",
      "text/plain": [
       "<matplotlib.figure.Figure at 0x7fed37c385d0>"
      ]
     },
     "metadata": {},
     "output_type": "display_data"
    }
   ],
   "source": [
    "name_tmp4 = base_folder + 'i_hr_fake_g%d.npy'\n",
    "for g in xrange(5):\n",
    "    #if g == 0 : continue\n",
    "    A = np.load(name_tmp4%(g,))\n",
    "    print mm(A, cast_int=False)\n",
    "    plt = iu._is(A, vmin=0, vmax=1.5)\n",
    "    name_img = ('i_hr_fake_g%d.png'%(g,))[:-3]\n",
    "    print name_img\n",
    "    plt.savefig(base_folder + '/res/' +name_img)"
   ]
  },
  {
   "cell_type": "code",
   "execution_count": null,
   "metadata": {
    "collapsed": true
   },
   "outputs": [],
   "source": []
  },
  {
   "cell_type": "code",
   "execution_count": null,
   "metadata": {
    "collapsed": true
   },
   "outputs": [],
   "source": []
  },
  {
   "cell_type": "code",
   "execution_count": 58,
   "metadata": {
    "collapsed": false
   },
   "outputs": [
    {
     "data": {
      "image/png": "[encoded data removed]",
      "text/plain": [
       "<matplotlib.figure.Figure at 0x7ffa97f7bb10>"
      ]
     },
     "metadata": {},
     "output_type": "display_data"
    }
   ],
   "source": [
    "## Para grabar\n",
    "g=4\n",
    "for g in xrange(1):\n",
    "    for i in xrange(1):\n",
    "        a = plt.plot(rango, mse[:, i, g],'o')\n",
    "    #plt.savefig('/user/lgomez/home/workspace/iqt/results/exp6/gammas/gamma_g'+str(g)+'_f'+str(i)+'.png')\n",
    "    \n",
    "    \n",
    "#plt.savefig('/user/lgomez/home/workspace/iqt/results/exp6/gammas/gamma_all.png')\n",
    "    "
   ]
  },
  {
   "cell_type": "code",
   "execution_count": 56,
   "metadata": {
    "collapsed": false
   },
   "outputs": [
    {
     "data": {
      "image/png": "[encoded data removed]",
      "text/plain": [
       "<matplotlib.figure.Figure at 0x7efdbb3ad3d0>"
      ]
     },
     "metadata": {},
     "output_type": "display_data"
    }
   ],
   "source": [
    "cluster = '1'\n",
    "if cluster == '0':\n",
    "    plt.plot(rango, mse[:, 0, 0],'o')\n",
    "    plt.plot(rango, mse[:, 6, 0],'o')\n",
    "    plt.plot(rango, mse[:, 7, 0],'o')\n",
    "\n",
    "if cluster == '1':\n",
    "    plt.plot(rango, mse[:, 1, 1],'o')\n",
    "    plt.plot(rango, mse[:, 2, 1],'o')\n",
    "    #plt.plot(rango, mse[:, 3, 0],'o')\n",
    "    plt.plot(rango, mse[:, 4, 1],'o')\n",
    "    plt.plot(rango, mse[:, 5, 1],'o')\n",
    "    plt.plot(rango, mse[:, 8, 1],'o')\n",
    "\n"
   ]
  },
  {
   "cell_type": "code",
   "execution_count": 61,
   "metadata": {
    "collapsed": false
   },
   "outputs": [
    {
     "ename": "TypeError",
     "evalue": "not enough arguments for format string",
     "output_type": "error",
     "traceback": [
      "\u001b[0;31m---------------------------------------------------------------------------\u001b[0m",
      "\u001b[0;31mTypeError\u001b[0m                                 Traceback (most recent call last)",
      "\u001b[0;32m<ipython-input-61-203f5e33c352>\u001b[0m in \u001b[0;36m<module>\u001b[0;34m()\u001b[0m\n\u001b[1;32m      1\u001b[0m \u001b[0mname_tmp4\u001b[0m \u001b[0;34m=\u001b[0m \u001b[0mbase_folder\u001b[0m \u001b[0;34m+\u001b[0m \u001b[0;34m'i_hr_g%d.npy'\u001b[0m\u001b[0;34m\u001b[0m\u001b[0m\n\u001b[1;32m      2\u001b[0m \u001b[0;32mfor\u001b[0m \u001b[0mg\u001b[0m \u001b[0;32min\u001b[0m \u001b[0mxrange\u001b[0m\u001b[0;34m(\u001b[0m\u001b[0;36m5\u001b[0m\u001b[0;34m)\u001b[0m\u001b[0;34m:\u001b[0m\u001b[0;34m\u001b[0m\u001b[0m\n\u001b[0;32m----> 3\u001b[0;31m     \u001b[0mA\u001b[0m \u001b[0;34m=\u001b[0m \u001b[0mnp\u001b[0m\u001b[0;34m.\u001b[0m\u001b[0mload\u001b[0m\u001b[0;34m(\u001b[0m\u001b[0mname_tmp3\u001b[0m\u001b[0;34m%\u001b[0m\u001b[0;34m(\u001b[0m\u001b[0mg\u001b[0m\u001b[0;34m,\u001b[0m\u001b[0;34m)\u001b[0m\u001b[0;34m)\u001b[0m\u001b[0;34m\u001b[0m\u001b[0m\n\u001b[0m\u001b[1;32m      4\u001b[0m     \u001b[0mi_hr\u001b[0m \u001b[0;34m=\u001b[0m \u001b[0mnp\u001b[0m\u001b[0;34m.\u001b[0m\u001b[0mload\u001b[0m\u001b[0;34m(\u001b[0m\u001b[0mname_tmp4\u001b[0m\u001b[0;34m%\u001b[0m\u001b[0;34m(\u001b[0m\u001b[0mg\u001b[0m\u001b[0;34m,\u001b[0m\u001b[0;34m)\u001b[0m\u001b[0;34m)\u001b[0m\u001b[0;34m\u001b[0m\u001b[0m\n\u001b[1;32m      5\u001b[0m     \u001b[0;31m#print mm(A, cast_int=False)\u001b[0m\u001b[0;34m\u001b[0m\u001b[0;34m\u001b[0m\u001b[0m\n",
      "\u001b[0;31mTypeError\u001b[0m: not enough arguments for format string"
     ]
    }
   ],
   "source": [
    "name_tmp4 = base_folder + 'i_hr_g%d.npy'\n",
    "for g in xrange(5):\n",
    "    A = np.load(name_tmp3%(g,))\n",
    "    i_hr = np.load(name_tmp4%(g,))\n",
    "    #print mm(A, cast_int=False)\n",
    "    plt = iu._isc(A,i_hr, vmin=0, vmax=1, titles=['reconstructed', 'original'])\n",
    "    name_img = base_folder + ('cmp_g%d'%(g))\n",
    "    print name_img\n",
    "    plt.savefig(name_img +'.png')"
   ]
  },
  {
   "cell_type": "code",
   "execution_count": 9,
   "metadata": {
    "collapsed": false
   },
   "outputs": [
    {
     "ename": "IOError",
     "evalue": "[Errno 2] No such file or directory: './results/exp6/f1/gamma/A_g0_lamda910000.npy'",
     "output_type": "error",
     "traceback": [
      "\u001b[1;31m---------------------------------------------------------------------------\u001b[0m",
      "\u001b[1;31mIOError\u001b[0m                                   Traceback (most recent call last)",
      "\u001b[1;32m<ipython-input-9-bbce10d412d8>\u001b[0m in \u001b[0;36m<module>\u001b[1;34m()\u001b[0m\n\u001b[0;32m      1\u001b[0m \u001b[0mi_hr\u001b[0m \u001b[1;33m=\u001b[0m \u001b[0mnp\u001b[0m\u001b[1;33m.\u001b[0m\u001b[0mload\u001b[0m\u001b[1;33m(\u001b[0m\u001b[0mbase_folder\u001b[0m\u001b[1;33m+\u001b[0m\u001b[1;34m'i_hr_g0.npy'\u001b[0m\u001b[1;33m)\u001b[0m\u001b[1;33m\u001b[0m\u001b[0m\n\u001b[1;32m----> 2\u001b[1;33m \u001b[0mA910000\u001b[0m \u001b[1;33m=\u001b[0m \u001b[0mnp\u001b[0m\u001b[1;33m.\u001b[0m\u001b[0mload\u001b[0m\u001b[1;33m(\u001b[0m\u001b[0mbase_folder\u001b[0m\u001b[1;33m+\u001b[0m\u001b[1;34m'A_g0_lamda910000.npy'\u001b[0m\u001b[1;33m)\u001b[0m\u001b[1;33m\u001b[0m\u001b[0m\n\u001b[0m\u001b[0;32m      3\u001b[0m \u001b[0miu\u001b[0m\u001b[1;33m.\u001b[0m\u001b[0m_isc\u001b[0m\u001b[1;33m(\u001b[0m\u001b[0mA910000\u001b[0m\u001b[1;33m,\u001b[0m\u001b[0mi_hr\u001b[0m\u001b[1;33m,\u001b[0m \u001b[0mvmax\u001b[0m\u001b[1;33m=\u001b[0m\u001b[1;36m1.4\u001b[0m\u001b[1;33m)\u001b[0m\u001b[1;33m\u001b[0m\u001b[0m\n\u001b[0;32m      4\u001b[0m \u001b[0mA910000\u001b[0m\u001b[1;33m.\u001b[0m\u001b[0mmin\u001b[0m\u001b[1;33m(\u001b[0m\u001b[1;33m)\u001b[0m\u001b[1;33m,\u001b[0m \u001b[0mA910000\u001b[0m\u001b[1;33m.\u001b[0m\u001b[0mmax\u001b[0m\u001b[1;33m(\u001b[0m\u001b[1;33m)\u001b[0m\u001b[1;33m,\u001b[0m \u001b[0mA910000\u001b[0m\u001b[1;33m.\u001b[0m\u001b[0mshape\u001b[0m\u001b[1;33m\u001b[0m\u001b[0m\n\u001b[0;32m      5\u001b[0m \u001b[1;32mdel\u001b[0m\u001b[1;33m(\u001b[0m\u001b[0mA100\u001b[0m\u001b[1;33m)\u001b[0m\u001b[1;33m\u001b[0m\u001b[0m\n",
      "\u001b[1;32m/user/lgomez/home/anaconda2/lib/python2.7/site-packages/numpy/lib/npyio.pyc\u001b[0m in \u001b[0;36mload\u001b[1;34m(file, mmap_mode, allow_pickle, fix_imports, encoding)\u001b[0m\n\u001b[0;32m    360\u001b[0m     \u001b[0mown_fid\u001b[0m \u001b[1;33m=\u001b[0m \u001b[0mFalse\u001b[0m\u001b[1;33m\u001b[0m\u001b[0m\n\u001b[0;32m    361\u001b[0m     \u001b[1;32mif\u001b[0m \u001b[0misinstance\u001b[0m\u001b[1;33m(\u001b[0m\u001b[0mfile\u001b[0m\u001b[1;33m,\u001b[0m \u001b[0mbasestring\u001b[0m\u001b[1;33m)\u001b[0m\u001b[1;33m:\u001b[0m\u001b[1;33m\u001b[0m\u001b[0m\n\u001b[1;32m--> 362\u001b[1;33m         \u001b[0mfid\u001b[0m \u001b[1;33m=\u001b[0m \u001b[0mopen\u001b[0m\u001b[1;33m(\u001b[0m\u001b[0mfile\u001b[0m\u001b[1;33m,\u001b[0m \u001b[1;34m\"rb\"\u001b[0m\u001b[1;33m)\u001b[0m\u001b[1;33m\u001b[0m\u001b[0m\n\u001b[0m\u001b[0;32m    363\u001b[0m         \u001b[0mown_fid\u001b[0m \u001b[1;33m=\u001b[0m \u001b[0mTrue\u001b[0m\u001b[1;33m\u001b[0m\u001b[0m\n\u001b[0;32m    364\u001b[0m     \u001b[1;32melse\u001b[0m\u001b[1;33m:\u001b[0m\u001b[1;33m\u001b[0m\u001b[0m\n",
      "\u001b[1;31mIOError\u001b[0m: [Errno 2] No such file or directory: './results/exp6/f1/gamma/A_g0_lamda910000.npy'"
     ]
    }
   ],
   "source": [
    "i_hr = np.load(base_folder+'i_hr_g0.npy')\n",
    "A910000 = np.load(base_folder+'A_g0_lamda910000.npy')\n",
    "iu._isc(A910000,i_hr, vmax=1.4)\n",
    "A910000.min(), A910000.max(), A910000.shape\n",
    "del(A100)"
   ]
  },
  {
   "cell_type": "code",
   "execution_count": 16,
   "metadata": {
    "collapsed": false
   },
   "outputs": [
    {
     "data": {
      "text/plain": [
       "(0.0, 2729.8464)"
      ]
     },
     "execution_count": 16,
     "metadata": {},
     "output_type": "execute_result"
    },
    {
     "data": {
      "image/png": "[encoded data removed]",
      "text/plain": [
       "<matplotlib.figure.Figure at 0x7fe8ed7d0bd0>"
      ]
     },
     "metadata": {},
     "output_type": "display_data"
    }
   ],
   "source": [
    "iu._is(i_hr, vmax=2729)\n",
    "i_hr.min(),i_hr.max()"
   ]
  },
  {
   "cell_type": "code",
   "execution_count": 51,
   "metadata": {
    "collapsed": false
   },
   "outputs": [
    {
     "data": {
      "text/plain": [
       "(-1.5125681573504312e-05, 1.4016132523250628, (12, 12, 12, 270))"
      ]
     },
     "execution_count": 51,
     "metadata": {},
     "output_type": "execute_result"
    },
    {
     "data": {
      "image/png": "[encoded data removed]",
      "text/plain": [
       "<matplotlib.figure.Figure at 0x7f70534ef510>"
      ]
     },
     "metadata": {},
     "output_type": "display_data"
    }
   ],
   "source": [
    "A1000 = np.load(base_folder+'A_g0_lamda1000.npy')\n",
    "iu._is(A1000, vmax=A1000.max())\n",
    "A1000.min(), A1000.max(), A1000.shape"
   ]
  },
  {
   "cell_type": "code",
   "execution_count": 51,
   "metadata": {
    "collapsed": false
   },
   "outputs": [
    {
     "data": {
      "text/plain": [
       "(-1.5125681573504312e-05, 1.4016132523250628, (12, 12, 12, 270))"
      ]
     },
     "execution_count": 51,
     "metadata": {},
     "output_type": "execute_result"
    },
    {
     "data": {
      "image/png": "[encoded data removed]",
      "text/plain": [
       "<matplotlib.figure.Figure at 0x7fa9b5b34e10>"
      ]
     },
     "metadata": {},
     "output_type": "display_data"
    }
   ],
   "source": [
    "A1000 = np.load(base_folder+'A_g0_lamda3000.npy')\n",
    "iu._is(A1000, vmax=A1000.max())\n",
    "A1000.min(), A1000.max(), A1000.shape"
   ]
  },
  {
   "cell_type": "code",
   "execution_count": 30,
   "metadata": {
    "collapsed": false
   },
   "outputs": [
    {
     "name": "stdout",
     "output_type": "stream",
     "text": [
      "[1000, 2000, 3000, 4000, 5000, 6000, 7000, 8000, 9000, 10000]\n"
     ]
    }
   ],
   "source": [
    "alala = []\n",
    "for val in rango :\n",
    "    alala.append(val)\n",
    "    \n",
    "print alala"
   ]
  }
 ],
 "metadata": {
  "anaconda-cloud": {},
  "kernelspec": {
   "display_name": "Python [default]",
   "language": "python",
   "name": "python2"
  },
  "language_info": {
   "codemirror_mode": {
    "name": "ipython",
    "version": 2
   },
   "file_extension": ".py",
   "mimetype": "text/x-python",
   "name": "python",
   "nbconvert_exporter": "python",
   "pygments_lexer": "ipython2",
   "version": "2.7.12"
  }
 },
 "nbformat": 4,
 "nbformat_minor": 0
}
