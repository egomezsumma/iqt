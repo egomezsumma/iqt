{
 "cells": [
  {
   "cell_type": "code",
   "execution_count": 4,
   "metadata": {
    "collapsed": false
   },
   "outputs": [
    {
     "name": "stdout",
     "output_type": "stream",
     "text": [
      "Populating the interactive namespace from numpy and matplotlib\n"
     ]
    }
   ],
   "source": [
    "import numpy as np\n",
    "#from conf_exp6 import *\n",
    "%pylab inline\n",
    "#import seaborn\n",
    "import matplotlib.pyplot as plt\n",
    "import utils.img_utils as iu\n",
    "import json\n",
    "\n",
    "\n",
    "def mm(A, cast_int=True):\n",
    "    if cast_int:\n",
    "        return (int(A.min()), int(A.max()))\n",
    "    else:\n",
    "        return (A.min(), A.max())"
   ]
  },
  {
   "cell_type": "code",
   "execution_count": 8,
   "metadata": {
    "collapsed": false
   },
   "outputs": [
    {
     "name": "stdout",
     "output_type": "stream",
     "text": [
      "[10000, 110000, 210000, 310000, 410000, 510000, 610000, 710000, 810000, 910000]\n",
      "loading ./results/exp6pixel/f1/lamda.201610141834/mse_g0_f0.npy\n",
      "loading ./results/exp6pixel/f1/lamda.201610141834/mse_g0_f1.npy\n",
      "loading ./results/exp6pixel/f1/lamda.201610141834/mse_g0_f2.npy\n",
      "loading ./results/exp6pixel/f1/lamda.201610141834/mse_g0_f3.npy\n",
      "loading ./results/exp6pixel/f1/lamda.201610141834/mse_g0_f4.npy\n",
      "loading ./results/exp6pixel/f1/lamda.201610141834/mse_g0_f5.npy\n",
      "loading ./results/exp6pixel/f1/lamda.201610141834/mse_g0_f6.npy\n",
      "loading ./results/exp6pixel/f1/lamda.201610141834/mse_g0_f7.npy\n",
      "loading ./results/exp6pixel/f1/lamda.201610141834/mse_g0_f8.npy\n",
      "loading ./results/exp6pixel/f1/lamda.201610141834/mse_g0_f9.npy\n",
      "loading ./results/exp6pixel/f1/lamda.201610141834/mse_g1_f0.npy\n",
      "loading ./results/exp6pixel/f1/lamda.201610141834/mse_g1_f1.npy\n",
      "loading ./results/exp6pixel/f1/lamda.201610141834/mse_g1_f2.npy\n",
      "loading ./results/exp6pixel/f1/lamda.201610141834/mse_g1_f3.npy\n",
      "loading ./results/exp6pixel/f1/lamda.201610141834/mse_g1_f4.npy\n",
      "loading ./results/exp6pixel/f1/lamda.201610141834/mse_g1_f5.npy\n",
      "loading ./results/exp6pixel/f1/lamda.201610141834/mse_g1_f6.npy\n",
      "loading ./results/exp6pixel/f1/lamda.201610141834/mse_g1_f7.npy\n",
      "loading ./results/exp6pixel/f1/lamda.201610141834/mse_g1_f8.npy\n",
      "loading ./results/exp6pixel/f1/lamda.201610141834/mse_g1_f9.npy\n",
      "loading ./results/exp6pixel/f1/lamda.201610141834/mse_g2_f0.npy\n",
      "loading ./results/exp6pixel/f1/lamda.201610141834/mse_g2_f1.npy\n",
      "loading ./results/exp6pixel/f1/lamda.201610141834/mse_g2_f2.npy\n",
      "loading ./results/exp6pixel/f1/lamda.201610141834/mse_g2_f3.npy\n",
      "loading ./results/exp6pixel/f1/lamda.201610141834/mse_g2_f4.npy\n",
      "loading ./results/exp6pixel/f1/lamda.201610141834/mse_g2_f5.npy\n",
      "loading ./results/exp6pixel/f1/lamda.201610141834/mse_g2_f6.npy\n",
      "loading ./results/exp6pixel/f1/lamda.201610141834/mse_g2_f7.npy\n",
      "loading ./results/exp6pixel/f1/lamda.201610141834/mse_g2_f8.npy\n",
      "loading ./results/exp6pixel/f1/lamda.201610141834/mse_g2_f9.npy\n",
      "loading ./results/exp6pixel/f1/lamda.201610141834/mse_g3_f0.npy\n",
      "loading ./results/exp6pixel/f1/lamda.201610141834/mse_g3_f1.npy\n",
      "loading ./results/exp6pixel/f1/lamda.201610141834/mse_g3_f2.npy\n",
      "loading ./results/exp6pixel/f1/lamda.201610141834/mse_g3_f3.npy\n",
      "loading ./results/exp6pixel/f1/lamda.201610141834/mse_g3_f4.npy\n",
      "loading ./results/exp6pixel/f1/lamda.201610141834/mse_g3_f5.npy\n",
      "loading ./results/exp6pixel/f1/lamda.201610141834/mse_g3_f6.npy\n",
      "loading ./results/exp6pixel/f1/lamda.201610141834/mse_g3_f7.npy\n",
      "loading ./results/exp6pixel/f1/lamda.201610141834/mse_g3_f8.npy\n",
      "loading ./results/exp6pixel/f1/lamda.201610141834/mse_g3_f9.npy\n",
      "loading ./results/exp6pixel/f1/lamda.201610141834/mse_g4_f0.npy\n",
      "loading ./results/exp6pixel/f1/lamda.201610141834/mse_g4_f1.npy\n",
      "loading ./results/exp6pixel/f1/lamda.201610141834/mse_g4_f2.npy\n",
      "loading ./results/exp6pixel/f1/lamda.201610141834/mse_g4_f3.npy\n",
      "loading ./results/exp6pixel/f1/lamda.201610141834/mse_g4_f4.npy\n",
      "loading ./results/exp6pixel/f1/lamda.201610141834/mse_g4_f5.npy\n",
      "loading ./results/exp6pixel/f1/lamda.201610141834/mse_g4_f6.npy\n",
      "loading ./results/exp6pixel/f1/lamda.201610141834/mse_g4_f7.npy\n",
      "loading ./results/exp6pixel/f1/lamda.201610141834/mse_g4_f8.npy\n",
      "loading ./results/exp6pixel/f1/lamda.201610141834/mse_g4_f9.npy\n",
      "(10, 10, 5)\n"
     ]
    }
   ],
   "source": [
    "parameter_name = 'lamda'\n",
    "idjob='201610141834'\n",
    "formula = 'f1'\n",
    "base_folder = './results/exp6pixel/%s/%s.%s/'%(formula, parameter_name, idjob)\n",
    "\n",
    "\n",
    "with open(base_folder + 'data.json') as data_file:    \n",
    "    data = json.load(data_file)\n",
    "\n",
    "params_range = data['params_range']\n",
    "rango = params_range[parameter_name]\n",
    "#rango = np.arange(100, 1001, 100)\n",
    "\n",
    "GROUPS=5\n",
    "FITS=10\n",
    "RANGO=len(rango)\n",
    "print rango \n",
    "\n",
    "mse = np.zeros((RANGO, FITS, GROUPS), dtype='float32')\n",
    "mse1000 = np.zeros((RANGO, FITS, GROUPS), dtype='float32')\n",
    "mse2000 = np.zeros((RANGO, FITS, GROUPS), dtype='float32')\n",
    "mse3000 = np.zeros((RANGO, FITS, GROUPS), dtype='float32')\n",
    "a = np.zeros((RANGO), dtype='float')\n",
    "\n",
    "name_tmp1 = base_folder + 'mse_g%d_f%d'+'.npy'\n",
    "name_tmp2 = base_folder + 'mse%d_g%d_f%d'+'.npy'\n",
    "for group in xrange(GROUPS):\n",
    "    #if group==0 : continue\n",
    "    for fit in xrange(FITS):\n",
    "        print 'loading', name_tmp1%(group, fit)\n",
    "        tmp = np.load(name_tmp1%(group, fit))\n",
    "        a = a + tmp\n",
    "        mse[:, fit, group] = tmp\n",
    "        mse1000[:, fit, group] = np.load(name_tmp2%(1000, group, fit))\n",
    "        mse2000[:, fit, group] = np.load(name_tmp2%(2000, group, fit))\n",
    "        mse3000[:, fit, group] = np.load(name_tmp2%(3000, group, fit))\n",
    "\n",
    "a = a / (FITS*GROUPS)\n",
    "        \n",
    "print mse.shape\n"
   ]
  },
  {
   "cell_type": "code",
   "execution_count": 9,
   "metadata": {
    "collapsed": false
   },
   "outputs": [
    {
     "name": "stdout",
     "output_type": "stream",
     "text": [
      "mean [  1.11877184e+08   1.11877184e+08   1.11877184e+08   1.11877184e+08\n",
      "   1.11877184e+08   1.11877184e+08   1.11877184e+08   1.11877184e+08\n",
      "   1.11877184e+08   1.11877184e+08]\n",
      "var [  4.11062944e+08   4.11062944e+08   4.11062944e+08   4.11062944e+08\n",
      "   4.11062944e+08   4.11062944e+08   4.11062944e+08   4.11062944e+08\n",
      "   4.11062944e+08   4.11062944e+08]\n",
      "mean= [  1.11877184e+08   1.11877184e+08   1.11877184e+08   1.11877184e+08\n",
      "   1.11877184e+08   1.11877184e+08   1.11877184e+08   1.11877184e+08\n",
      "   1.11877184e+08   1.11877184e+08]\n",
      "[  1.11877184e+08   1.11877184e+08   1.11877184e+08   1.11877184e+08\n",
      "   1.11877184e+08   1.11877184e+08   1.11877184e+08   1.11877184e+08\n",
      "   1.11877184e+08   1.11877184e+08]\n",
      "[  1.11877177e+08   1.11877177e+08   1.11877177e+08   1.11877177e+08\n",
      "   1.11877177e+08   1.11877177e+08   1.11877177e+08   1.11877177e+08\n",
      "   1.11877177e+08   1.11877177e+08]\n"
     ]
    }
   ],
   "source": [
    "mean= mse.mean(axis=2).mean(axis=1)\n",
    "var = np.std(np.std(mse, axis=2), axis=1)\n",
    "print 'mean', mean\n",
    "print 'var', var\n",
    "print 'mean=',mean#, var.shape\n",
    "\n",
    "#print mse[:, 0 , 0]\n",
    "#print mse[:, 0 , 1]\n",
    "#print mse[:, 0 , 2]\n",
    "\n",
    "acum = np.zeros(10)\n",
    "n =0\n",
    "for f in xrange(10):\n",
    "    for g in xrange(5):\n",
    "        acum = acum + mse[:, f, g]\n",
    "        n=n+1\n",
    "\n",
    "\n",
    "mean2 = acum/n\n",
    "\n",
    "\n",
    "print mean\n",
    "print mean2\n"
   ]
  },
  {
   "cell_type": "code",
   "execution_count": 10,
   "metadata": {
    "collapsed": false
   },
   "outputs": [
    {
     "name": "stdout",
     "output_type": "stream",
     "text": [
      "[10000, 110000, 210000, 310000, 410000, 510000, 610000, 710000, 810000, 910000]\n",
      "[  2.15468258e-01   7.55326331e-01   3.58398348e-01   2.60957450e-01\n",
      "   3.29586774e-01   1.01822170e+09   2.54443347e-01   3.05149019e-01\n",
      "   1.11639869e+00   2.71805793e-01]\n",
      "[  2.35608044e-09   1.33280036e-08   3.72529030e-09   5.13495824e-09\n",
      "   1.07000817e-08   1.28000000e+02   9.42432177e-09   1.17804022e-09\n",
      "   0.00000000e+00   1.24672059e-08]\n"
     ]
    }
   ],
   "source": [
    "print rango\n",
    "mean1000 = mse1000.mean(axis=2).mean(axis=0)\n",
    "var1000 = np.std(np.std(mse1000, axis=2), axis=0)\n",
    "print mean1000\n",
    "print var1000"
   ]
  },
  {
   "cell_type": "code",
   "execution_count": 11,
   "metadata": {
    "collapsed": false
   },
   "outputs": [
    {
     "name": "stdout",
     "output_type": "stream",
     "text": [
      "[10000, 110000, 210000, 310000, 410000, 510000, 610000, 710000, 810000, 910000]\n",
      "[ 54731756.  54731756.  54731756.  54731756.  54731756.  54731756.\n",
      "  54731756.  54731756.  54731756.  54731756.]\n",
      "[  2.01097312e+08   2.01097312e+08   2.01097312e+08   2.01097312e+08\n",
      "   2.01097312e+08   2.01097312e+08   2.01097312e+08   2.01097312e+08\n",
      "   2.01097312e+08   2.01097312e+08]\n"
     ]
    }
   ],
   "source": [
    "print rango\n",
    "mean2000 = mse2000.mean(axis=2).mean(axis=1)\n",
    "var2000 = np.std(np.std(mse2000, axis=2), axis=1)\n",
    "\n",
    "print mean2000\n",
    "print var2000"
   ]
  },
  {
   "cell_type": "code",
   "execution_count": 12,
   "metadata": {
    "collapsed": false
   },
   "outputs": [
    {
     "name": "stdout",
     "output_type": "stream",
     "text": [
      "(10,) [10000, 110000, 210000, 310000, 410000, 510000, 610000, 710000, 810000, 910000]\n",
      "[  1.57070608e+08   1.57070608e+08   1.57070608e+08   1.57070608e+08\n",
      "   1.57070608e+08   1.57070608e+08   1.57070608e+08   1.57070608e+08\n",
      "   1.57070608e+08   1.57070608e+08]\n",
      "[  5.77114240e+08   5.77114240e+08   5.77114240e+08   5.77114240e+08\n",
      "   5.77114240e+08   5.77114240e+08   5.77114240e+08   5.77114240e+08\n",
      "   5.77114240e+08   5.77114240e+08]\n"
     ]
    }
   ],
   "source": [
    "#rango = np.arange(100, 1001, 100)\n",
    "print mean.shape, rango\n",
    "mean3000 = mse3000.mean(axis=2).mean(axis=1)\n",
    "var3000 = np.std(np.std(mse3000, axis=2), axis=1)\n",
    "print mean3000\n",
    "print var3000"
   ]
  },
  {
   "cell_type": "code",
   "execution_count": 17,
   "metadata": {
    "collapsed": false
   },
   "outputs": [
    {
     "name": "stderr",
     "output_type": "stream",
     "text": [
      "/home/leexgo1987/apps/anaconda2/lib/python2.7/site-packages/matplotlib/axes/_axes.py:531: UserWarning: No labelled objects found. Use label='...' kwarg on individual plots.\n",
      "  warnings.warn(\"No labelled objects found. \"\n"
     ]
    },
    {
     "name": "stdout",
     "output_type": "stream",
     "text": [
      "medias= 1.11877e+08 1.01822e+08 5.47318e+07 1.57071e+08\n",
      "std= 5.48084e+08 4.98825e+08 2.6813e+08 7.69486e+08\n",
      "mean1000 [  2.15468258e-01   7.55326331e-01   3.58398348e-01   2.60957450e-01\n",
      "   3.29586774e-01   1.01822170e+09   2.54443347e-01   3.05149019e-01\n",
      "   1.11639869e+00   2.71805793e-01]\n",
      "mean2000 [ 54731756.  54731756.  54731756.  54731756.  54731756.  54731756.\n",
      "  54731756.  54731756.  54731756.  54731756.]\n",
      "mean [  1.11877184e+08   1.11877184e+08   1.11877184e+08   1.11877184e+08\n",
      "   1.11877184e+08   1.11877184e+08   1.11877184e+08   1.11877184e+08\n",
      "   1.11877184e+08   1.11877184e+08] 1.11877e+08\n",
      "[10000, 110000, 210000, 310000, 410000, 510000, 610000, 710000, 810000, 910000]\n"
     ]
    },
    {
     "data": {
      "image/png": "[encoded data removed]",
      "text/plain": [
       "<matplotlib.figure.Figure at 0x7ffa9accf250>"
      ]
     },
     "metadata": {},
     "output_type": "display_data"
    }
   ],
   "source": [
    "#rango = np.arange(100, 1001, 100)\n",
    "mean3 = np.zeros((10, 3))\n",
    "mean3[:, 0] = mean1000\n",
    "mean3[:, 1] = mean2000\n",
    "mean3[:, 2] = mean3000\n",
    "\n",
    "#plt.plot(rango, mean3000,'o', label='b=3000')\n",
    "#plt.plot(rango, mean1000, 'o', label='b=1000')\n",
    "#plt.plot(rango, mean2000,'o', label='b=2000')\n",
    "#plt.plot(rango, mean3.mean(axis=1),'o', label='b=all')\n",
    "#plt.plot(rango, mean,'o', label='b=all')\n",
    "\n",
    "#plt.plot(rango, mean+var,'o', label='b=all')\n",
    "#plt.plot(rango, mean-var,'o', label='b=all')\n",
    "\n",
    "#plt.errorbar(rango, mean, yerr=var, fmt='o', label='b=all')\n",
    "plt.errorbar(rango, mean3.mean(axis=1), yerr=np.std(mean3, axis=1), fmt='o')\n",
    "\n",
    "\n",
    "plt.legend()\n",
    "plt.ylabel('MSE(Yhr,^Yhr)')\n",
    "plt.xlabel(parameter_name)\n",
    "#plt.legend(lala , loc=2, bbox_to_anchor=(1, 0.5))\n",
    "#plt.ylim((1102000.0, 1102300.0))\n",
    "mse[:,2,1]\n",
    "#print plt.ylim((940000000.0, 960000000.0))\n",
    "\n",
    "print 'medias=',mse.mean(),mse1000.mean(), mse2000.mean(), mse3000.mean() \n",
    "print 'std=',np.std(mse),np.std(mse1000), np.std(mse2000), np.std(mse3000) \n",
    "print 'mean1000', mean1000\n",
    "print 'mean2000', mean2000\n",
    "print 'mean', mean, mean.min()\n",
    "print rango\n",
    "\n",
    "\n",
    "## Para grabar\n",
    "plt.savefig(base_folder+ '/res/lamda_mean_var_idjob'+idjob+'.pdf')"
   ]
  },
  {
   "cell_type": "code",
   "execution_count": 15,
   "metadata": {
    "collapsed": false
   },
   "outputs": [
    {
     "data": {
      "text/plain": [
       "<matplotlib.figure.Figure at 0x7ffa98846e10>"
      ]
     },
     "metadata": {},
     "output_type": "display_data"
    }
   ],
   "source": []
  },
  {
   "cell_type": "code",
   "execution_count": 39,
   "metadata": {
    "collapsed": false
   },
   "outputs": [
    {
     "data": {
      "image/png": "[encoded data removed]",
      "text/plain": [
       "<matplotlib.figure.Figure at 0x7efdbb139cd0>"
      ]
     },
     "metadata": {},
     "output_type": "display_data"
    }
   ],
   "source": [
    "## Para grabar\n",
    "g=4\n",
    "for g in xrange(1):\n",
    "    for i in xrange(1):\n",
    "        a = plt.plot(rango, mse[:, i, g],'o')\n",
    "    #plt.savefig('/user/lgomez/home/workspace/iqt/results/exp6/gammas/gamma_g'+str(g)+'_f'+str(i)+'.png')\n",
    "    \n",
    "    \n",
    "#plt.savefig('/user/lgomez/home/workspace/iqt/results/exp6/gammas/gamma_all.png')\n",
    "    "
   ]
  },
  {
   "cell_type": "code",
   "execution_count": 56,
   "metadata": {
    "collapsed": false
   },
   "outputs": [
    {
     "data": {
      "image/png": "[encoded data removed]",
      "text/plain": [
       "<matplotlib.figure.Figure at 0x7efdbb3ad3d0>"
      ]
     },
     "metadata": {},
     "output_type": "display_data"
    }
   ],
   "source": [
    "cluster = '1'\n",
    "if cluster == '0':\n",
    "    plt.plot(rango, mse[:, 0, 0],'o')\n",
    "    plt.plot(rango, mse[:, 6, 0],'o')\n",
    "    plt.plot(rango, mse[:, 7, 0],'o')\n",
    "\n",
    "if cluster == '1':\n",
    "    plt.plot(rango, mse[:, 1, 1],'o')\n",
    "    plt.plot(rango, mse[:, 2, 1],'o')\n",
    "    #plt.plot(rango, mse[:, 3, 0],'o')\n",
    "    plt.plot(rango, mse[:, 4, 1],'o')\n",
    "    plt.plot(rango, mse[:, 5, 1],'o')\n",
    "    plt.plot(rango, mse[:, 8, 1],'o')\n",
    "\n"
   ]
  },
  {
   "cell_type": "code",
   "execution_count": 20,
   "metadata": {
    "collapsed": false
   },
   "outputs": [
    {
     "name": "stdout",
     "output_type": "stream",
     "text": [
      "(-0.33758634, 1.9059533)\n",
      "A_g0_val10000.\n",
      "(-0.33758634, 1.9059533)\n",
      "A_g0_val110000.\n",
      "(-0.33758634, 1.9059533)\n",
      "A_g0_val210000.\n",
      "(-0.33758634, 1.9059533)\n",
      "A_g0_val310000.\n",
      "(-0.33758634, 1.9059533)\n",
      "A_g0_val410000.\n",
      "(-0.33758634, 1.9059533)\n",
      "A_g0_val510000.\n",
      "(-0.33758634, 1.9059533)\n",
      "A_g0_val610000.\n",
      "(-0.33758634, 1.9059533)\n",
      "A_g0_val710000.\n",
      "(-0.33758634, 1.9059533)\n",
      "A_g0_val810000.\n",
      "(-0.33758634, 1.9059533)\n",
      "A_g0_val910000.\n",
      "(-1.0730458, 1.8602544)\n",
      "A_g1_val10000.\n",
      "(-1.0730458, 1.8602544)\n",
      "A_g1_val110000.\n",
      "(-1.0730458, 1.8602544)\n",
      "A_g1_val210000.\n",
      "(-1.0730458, 1.8602544)\n",
      "A_g1_val310000.\n",
      "(-1.0730458, 1.8602544)\n",
      "A_g1_val410000.\n",
      "(-1.0730458, 1.8602544)\n",
      "A_g1_val510000.\n",
      "(-1.0730458, 1.8602544)\n",
      "A_g1_val610000.\n",
      "(-1.0730458, 1.8602544)\n",
      "A_g1_val710000.\n",
      "(-1.0730458, 1.8602544)\n",
      "A_g1_val810000.\n",
      "(-1.0730458, 1.8602544)\n",
      "A_g1_val910000.\n",
      "(-0.11094452, 1.5740366)\n",
      "A_g2_val10000.\n",
      "(-0.11094452, 1.5740366)\n",
      "A_g2_val110000.\n",
      "(-0.11094452, 1.5740366)\n",
      "A_g2_val210000.\n",
      "(-0.11094452, 1.5740366)\n",
      "A_g2_val310000.\n",
      "(-0.11094452, 1.5740366)\n",
      "A_g2_val410000.\n",
      "(-0.11094452, 1.5740366)\n",
      "A_g2_val510000.\n",
      "(-0.11094452, 1.5740366)\n",
      "A_g2_val610000.\n",
      "(-0.11094452, 1.5740366)\n",
      "A_g2_val710000.\n",
      "(-0.11094452, 1.5740366)\n",
      "A_g2_val810000.\n",
      "(-0.11094452, 1.5740366)\n",
      "A_g2_val910000.\n",
      "(-0.040403847, 1.55523)\n",
      "A_g3_val10000.\n",
      "(-0.040403847, 1.55523)\n",
      "A_g3_val110000.\n",
      "(-0.040403847, 1.55523)\n",
      "A_g3_val210000.\n",
      "(-0.040403847, 1.55523)\n",
      "A_g3_val310000.\n",
      "(-0.040403847, 1.55523)\n",
      "A_g3_val410000.\n",
      "(-0.040403847, 1.55523)\n",
      "A_g3_val510000.\n",
      "(-0.040403847, 1.55523)\n",
      "A_g3_val610000.\n",
      "(-0.040403847, 1.55523)\n",
      "A_g3_val710000.\n",
      "(-0.040403847, 1.55523)\n",
      "A_g3_val810000.\n",
      "(-0.040403847, 1.55523)\n",
      "A_g3_val910000.\n",
      "(-0.57210141, 1.605816)\n",
      "A_g4_val10000.\n",
      "(-0.57210141, 1.605816)\n",
      "A_g4_val110000.\n",
      "(-0.57210141, 1.605816)\n",
      "A_g4_val210000.\n",
      "(-0.57210141, 1.605816)\n",
      "A_g4_val310000.\n",
      "(-0.57210141, 1.605816)\n",
      "A_g4_val410000.\n",
      "(-0.57210141, 1.605816)\n",
      "A_g4_val510000.\n",
      "(-0.57210141, 1.605816)\n",
      "A_g4_val610000.\n",
      "(-0.57210141, 1.605816)\n",
      "A_g4_val710000.\n",
      "(-0.57210141, 1.605816)\n",
      "A_g4_val810000.\n",
      "(-0.57210141, 1.605816)\n",
      "A_g4_val910000.\n"
     ]
    },
    {
     "data": {
      "image/png": "[encoded data removed]",
      "text/plain": [
       "<matplotlib.figure.Figure at 0x7ffa98208190>"
      ]
     },
     "metadata": {},
     "output_type": "display_data"
    }
   ],
   "source": [
    "name_tmp3 = base_folder + 'A_g%d_val%d.npy'\n",
    "for g in xrange(GROUPS):\n",
    "    for val in rango:\n",
    "        A = np.load(name_tmp3%(g,val))\n",
    "        print mm(A, cast_int=False)\n",
    "        plt = iu._is(A, vmin=0, vmax=1.5)\n",
    "        name_img = ('A_g%d_val%d.npy'%(g, val))[:-3]\n",
    "        print name_img\n",
    "        plt.savefig(base_folder+ '/res/'+name_img +'png')"
   ]
  },
  {
   "cell_type": "code",
   "execution_count": 23,
   "metadata": {
    "collapsed": false
   },
   "outputs": [
    {
     "name": "stdout",
     "output_type": "stream",
     "text": [
      "(0.00096415909, 4.4262066)\n",
      "i_hr_g0.\n",
      "(0.0, 51.797764)\n",
      "i_hr_g1.\n",
      "(0.0, 32.989147)\n",
      "i_hr_g2.\n",
      "(0.0, 4.1959381)\n",
      "i_hr_g3.\n",
      "(0.0, 4.2103333)\n",
      "i_hr_g4.\n"
     ]
    },
    {
     "data": {
      "image/png": "[encoded data removed]",
      "text/plain": [
       "<matplotlib.figure.Figure at 0x7ffa9adbf350>"
      ]
     },
     "metadata": {},
     "output_type": "display_data"
    }
   ],
   "source": [
    "name_tmp4 = base_folder + 'i_hr_g%d.npy'\n",
    "for g in xrange(5):\n",
    "    A = np.load(name_tmp4%(g,))\n",
    "    print mm(A, cast_int=False)\n",
    "    plt = iu._is(A, vmin=0, vmax=1.5)\n",
    "    name_img = ('i_hr_g%d.png'%(g))[:-3]\n",
    "    print name_img\n",
    "    plt.savefig(base_folder + '/res/' +name_img)"
   ]
  },
  {
   "cell_type": "code",
   "execution_count": 39,
   "metadata": {
    "collapsed": false
   },
   "outputs": [
    {
     "name": "stdout",
     "output_type": "stream",
     "text": [
      "./results/exp6/f1/gamma/cmp_g0\n",
      "./results/exp6/f1/gamma/cmp_g1\n",
      "./results/exp6/f1/gamma/cmp_g2\n",
      "./results/exp6/f1/gamma/cmp_g3\n",
      "./results/exp6/f1/gamma/cmp_g4\n"
     ]
    },
    {
     "data": {
      "image/png": "[encoded data removed]",
      "text/plain": [
       "<matplotlib.figure.Figure at 0x7f99b11cad50>"
      ]
     },
     "metadata": {},
     "output_type": "display_data"
    }
   ],
   "source": [
    "name_tmp4 = base_folder + 'i_hr_g%d.npy'\n",
    "for g in xrange(5):\n",
    "    A = np.load(name_tmp3%(g,))\n",
    "    i_hr = np.load(name_tmp4%(g,))\n",
    "    #print mm(A, cast_int=False)\n",
    "    plt = iu._isc(A,i_hr, vmin=0, vmax=1, titles=['reconstructed', 'original'])\n",
    "    name_img = base_folder + ('cmp_g%d'%(g))\n",
    "    print name_img\n",
    "    plt.savefig(name_img +'.png')"
   ]
  },
  {
   "cell_type": "code",
   "execution_count": 9,
   "metadata": {
    "collapsed": false
   },
   "outputs": [
    {
     "ename": "IOError",
     "evalue": "[Errno 2] No such file or directory: './results/exp6/f1/gamma/A_g0_lamda910000.npy'",
     "output_type": "error",
     "traceback": [
      "\u001b[1;31m---------------------------------------------------------------------------\u001b[0m",
      "\u001b[1;31mIOError\u001b[0m                                   Traceback (most recent call last)",
      "\u001b[1;32m<ipython-input-9-bbce10d412d8>\u001b[0m in \u001b[0;36m<module>\u001b[1;34m()\u001b[0m\n\u001b[0;32m      1\u001b[0m \u001b[0mi_hr\u001b[0m \u001b[1;33m=\u001b[0m \u001b[0mnp\u001b[0m\u001b[1;33m.\u001b[0m\u001b[0mload\u001b[0m\u001b[1;33m(\u001b[0m\u001b[0mbase_folder\u001b[0m\u001b[1;33m+\u001b[0m\u001b[1;34m'i_hr_g0.npy'\u001b[0m\u001b[1;33m)\u001b[0m\u001b[1;33m\u001b[0m\u001b[0m\n\u001b[1;32m----> 2\u001b[1;33m \u001b[0mA910000\u001b[0m \u001b[1;33m=\u001b[0m \u001b[0mnp\u001b[0m\u001b[1;33m.\u001b[0m\u001b[0mload\u001b[0m\u001b[1;33m(\u001b[0m\u001b[0mbase_folder\u001b[0m\u001b[1;33m+\u001b[0m\u001b[1;34m'A_g0_lamda910000.npy'\u001b[0m\u001b[1;33m)\u001b[0m\u001b[1;33m\u001b[0m\u001b[0m\n\u001b[0m\u001b[0;32m      3\u001b[0m \u001b[0miu\u001b[0m\u001b[1;33m.\u001b[0m\u001b[0m_isc\u001b[0m\u001b[1;33m(\u001b[0m\u001b[0mA910000\u001b[0m\u001b[1;33m,\u001b[0m\u001b[0mi_hr\u001b[0m\u001b[1;33m,\u001b[0m \u001b[0mvmax\u001b[0m\u001b[1;33m=\u001b[0m\u001b[1;36m1.4\u001b[0m\u001b[1;33m)\u001b[0m\u001b[1;33m\u001b[0m\u001b[0m\n\u001b[0;32m      4\u001b[0m \u001b[0mA910000\u001b[0m\u001b[1;33m.\u001b[0m\u001b[0mmin\u001b[0m\u001b[1;33m(\u001b[0m\u001b[1;33m)\u001b[0m\u001b[1;33m,\u001b[0m \u001b[0mA910000\u001b[0m\u001b[1;33m.\u001b[0m\u001b[0mmax\u001b[0m\u001b[1;33m(\u001b[0m\u001b[1;33m)\u001b[0m\u001b[1;33m,\u001b[0m \u001b[0mA910000\u001b[0m\u001b[1;33m.\u001b[0m\u001b[0mshape\u001b[0m\u001b[1;33m\u001b[0m\u001b[0m\n\u001b[0;32m      5\u001b[0m \u001b[1;32mdel\u001b[0m\u001b[1;33m(\u001b[0m\u001b[0mA100\u001b[0m\u001b[1;33m)\u001b[0m\u001b[1;33m\u001b[0m\u001b[0m\n",
      "\u001b[1;32m/user/lgomez/home/anaconda2/lib/python2.7/site-packages/numpy/lib/npyio.pyc\u001b[0m in \u001b[0;36mload\u001b[1;34m(file, mmap_mode, allow_pickle, fix_imports, encoding)\u001b[0m\n\u001b[0;32m    360\u001b[0m     \u001b[0mown_fid\u001b[0m \u001b[1;33m=\u001b[0m \u001b[0mFalse\u001b[0m\u001b[1;33m\u001b[0m\u001b[0m\n\u001b[0;32m    361\u001b[0m     \u001b[1;32mif\u001b[0m \u001b[0misinstance\u001b[0m\u001b[1;33m(\u001b[0m\u001b[0mfile\u001b[0m\u001b[1;33m,\u001b[0m \u001b[0mbasestring\u001b[0m\u001b[1;33m)\u001b[0m\u001b[1;33m:\u001b[0m\u001b[1;33m\u001b[0m\u001b[0m\n\u001b[1;32m--> 362\u001b[1;33m         \u001b[0mfid\u001b[0m \u001b[1;33m=\u001b[0m \u001b[0mopen\u001b[0m\u001b[1;33m(\u001b[0m\u001b[0mfile\u001b[0m\u001b[1;33m,\u001b[0m \u001b[1;34m\"rb\"\u001b[0m\u001b[1;33m)\u001b[0m\u001b[1;33m\u001b[0m\u001b[0m\n\u001b[0m\u001b[0;32m    363\u001b[0m         \u001b[0mown_fid\u001b[0m \u001b[1;33m=\u001b[0m \u001b[0mTrue\u001b[0m\u001b[1;33m\u001b[0m\u001b[0m\n\u001b[0;32m    364\u001b[0m     \u001b[1;32melse\u001b[0m\u001b[1;33m:\u001b[0m\u001b[1;33m\u001b[0m\u001b[0m\n",
      "\u001b[1;31mIOError\u001b[0m: [Errno 2] No such file or directory: './results/exp6/f1/gamma/A_g0_lamda910000.npy'"
     ]
    }
   ],
   "source": [
    "i_hr = np.load(base_folder+'i_hr_g0.npy')\n",
    "A910000 = np.load(base_folder+'A_g0_lamda910000.npy')\n",
    "iu._isc(A910000,i_hr, vmax=1.4)\n",
    "A910000.min(), A910000.max(), A910000.shape\n",
    "del(A100)"
   ]
  },
  {
   "cell_type": "code",
   "execution_count": 16,
   "metadata": {
    "collapsed": false
   },
   "outputs": [
    {
     "data": {
      "text/plain": [
       "(0.0, 2729.8464)"
      ]
     },
     "execution_count": 16,
     "metadata": {},
     "output_type": "execute_result"
    },
    {
     "data": {
      "image/png": "[encoded data removed]",
      "text/plain": [
       "<matplotlib.figure.Figure at 0x7fe8ed7d0bd0>"
      ]
     },
     "metadata": {},
     "output_type": "display_data"
    }
   ],
   "source": [
    "iu._is(i_hr, vmax=2729)\n",
    "i_hr.min(),i_hr.max()"
   ]
  },
  {
   "cell_type": "code",
   "execution_count": 51,
   "metadata": {
    "collapsed": false
   },
   "outputs": [
    {
     "data": {
      "text/plain": [
       "(-1.5125681573504312e-05, 1.4016132523250628, (12, 12, 12, 270))"
      ]
     },
     "execution_count": 51,
     "metadata": {},
     "output_type": "execute_result"
    },
    {
     "data": {
      "image/png": "[encoded data removed]",
      "text/plain": [
       "<matplotlib.figure.Figure at 0x7f70534ef510>"
      ]
     },
     "metadata": {},
     "output_type": "display_data"
    }
   ],
   "source": [
    "A1000 = np.load(base_folder+'A_g0_lamda1000.npy')\n",
    "iu._is(A1000, vmax=A1000.max())\n",
    "A1000.min(), A1000.max(), A1000.shape"
   ]
  },
  {
   "cell_type": "code",
   "execution_count": 51,
   "metadata": {
    "collapsed": false
   },
   "outputs": [
    {
     "data": {
      "text/plain": [
       "(-1.5125681573504312e-05, 1.4016132523250628, (12, 12, 12, 270))"
      ]
     },
     "execution_count": 51,
     "metadata": {},
     "output_type": "execute_result"
    },
    {
     "data": {
      "image/png": "[encoded data removed]",
      "text/plain": [
       "<matplotlib.figure.Figure at 0x7fa9b5b34e10>"
      ]
     },
     "metadata": {},
     "output_type": "display_data"
    }
   ],
   "source": [
    "A1000 = np.load(base_folder+'A_g0_lamda3000.npy')\n",
    "iu._is(A1000, vmax=A1000.max())\n",
    "A1000.min(), A1000.max(), A1000.shape"
   ]
  },
  {
   "cell_type": "code",
   "execution_count": 30,
   "metadata": {
    "collapsed": false
   },
   "outputs": [
    {
     "name": "stdout",
     "output_type": "stream",
     "text": [
      "[1000, 2000, 3000, 4000, 5000, 6000, 7000, 8000, 9000, 10000]\n"
     ]
    }
   ],
   "source": [
    "alala = []\n",
    "for val in rango :\n",
    "    alala.append(val)\n",
    "    \n",
    "print alala"
   ]
  }
 ],
 "metadata": {
  "anaconda-cloud": {},
  "kernelspec": {
   "display_name": "Python [default]",
   "language": "python",
   "name": "python2"
  },
  "language_info": {
   "codemirror_mode": {
    "name": "ipython",
    "version": 2
   },
   "file_extension": ".py",
   "mimetype": "text/x-python",
   "name": "python",
   "nbconvert_exporter": "python",
   "pygments_lexer": "ipython2",
   "version": "2.7.12"
  }
 },
 "nbformat": 4,
 "nbformat_minor": 0
}
