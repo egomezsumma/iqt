{
 "cells": [
  {
   "cell_type": "code",
   "execution_count": 1,
   "metadata": {
    "collapsed": false
   },
   "outputs": [
    {
     "name": "stdout",
     "output_type": "stream",
     "text": [
      "Populating the interactive namespace from numpy and matplotlib\n"
     ]
    }
   ],
   "source": [
    "import numpy as np\n",
    "#from conf_exp6 import *\n",
    "%pylab inline\n",
    "#import seaborn\n",
    "import matplotlib.pyplot as plt\n",
    "import utils.img_utils as iu\n",
    "import json\n",
    "\n",
    "\n",
    "def mm(A, cast_int=True):\n",
    "    if cast_int:\n",
    "        return (int(A.min()), int(A.max()))\n",
    "    else:\n",
    "        return (A.min(), A.max())"
   ]
  },
  {
   "cell_type": "code",
   "execution_count": 2,
   "metadata": {
    "collapsed": false
   },
   "outputs": [
    {
     "name": "stdout",
     "output_type": "stream",
     "text": [
      "[1.452e-15, 2.0000000000000013, 4.000000000000001, 6.000000000000001, 8.0, 10.0, 12.0, 14.0, 16.0, 17.999999999999996]\n",
      "loading ./results/exp6pixel/f1/beta.201610202108/mse_g0_f0.npy\n",
      "loading ./results/exp6pixel/f1/beta.201610202108/mse_g0_f1.npy\n",
      "loading ./results/exp6pixel/f1/beta.201610202108/mse_g0_f2.npy\n",
      "loading ./results/exp6pixel/f1/beta.201610202108/mse_g0_f3.npy\n",
      "loading ./results/exp6pixel/f1/beta.201610202108/mse_g0_f4.npy\n",
      "loading ./results/exp6pixel/f1/beta.201610202108/mse_g0_f5.npy\n",
      "loading ./results/exp6pixel/f1/beta.201610202108/mse_g0_f6.npy\n",
      "loading ./results/exp6pixel/f1/beta.201610202108/mse_g0_f7.npy\n",
      "loading ./results/exp6pixel/f1/beta.201610202108/mse_g0_f8.npy\n",
      "loading ./results/exp6pixel/f1/beta.201610202108/mse_g0_f9.npy\n",
      "loading ./results/exp6pixel/f1/beta.201610202108/mse_g1_f0.npy\n",
      "loading ./results/exp6pixel/f1/beta.201610202108/mse_g1_f1.npy\n",
      "loading ./results/exp6pixel/f1/beta.201610202108/mse_g1_f2.npy\n",
      "loading ./results/exp6pixel/f1/beta.201610202108/mse_g1_f3.npy\n",
      "loading ./results/exp6pixel/f1/beta.201610202108/mse_g1_f4.npy\n",
      "loading ./results/exp6pixel/f1/beta.201610202108/mse_g1_f5.npy\n",
      "loading ./results/exp6pixel/f1/beta.201610202108/mse_g1_f6.npy\n",
      "loading ./results/exp6pixel/f1/beta.201610202108/mse_g1_f7.npy\n",
      "loading ./results/exp6pixel/f1/beta.201610202108/mse_g1_f8.npy\n",
      "loading ./results/exp6pixel/f1/beta.201610202108/mse_g1_f9.npy\n",
      "loading ./results/exp6pixel/f1/beta.201610202108/mse_g2_f0.npy\n",
      "loading ./results/exp6pixel/f1/beta.201610202108/mse_g2_f1.npy\n",
      "loading ./results/exp6pixel/f1/beta.201610202108/mse_g2_f2.npy\n",
      "loading ./results/exp6pixel/f1/beta.201610202108/mse_g2_f3.npy\n",
      "loading ./results/exp6pixel/f1/beta.201610202108/mse_g2_f4.npy\n",
      "loading ./results/exp6pixel/f1/beta.201610202108/mse_g2_f5.npy\n",
      "loading ./results/exp6pixel/f1/beta.201610202108/mse_g2_f6.npy\n",
      "loading ./results/exp6pixel/f1/beta.201610202108/mse_g2_f7.npy\n",
      "loading ./results/exp6pixel/f1/beta.201610202108/mse_g2_f8.npy\n",
      "loading ./results/exp6pixel/f1/beta.201610202108/mse_g2_f9.npy\n",
      "loading ./results/exp6pixel/f1/beta.201610202108/mse_g3_f0.npy\n",
      "loading ./results/exp6pixel/f1/beta.201610202108/mse_g3_f1.npy\n",
      "loading ./results/exp6pixel/f1/beta.201610202108/mse_g3_f2.npy\n",
      "loading ./results/exp6pixel/f1/beta.201610202108/mse_g3_f3.npy\n",
      "loading ./results/exp6pixel/f1/beta.201610202108/mse_g3_f4.npy\n",
      "loading ./results/exp6pixel/f1/beta.201610202108/mse_g3_f5.npy\n",
      "loading ./results/exp6pixel/f1/beta.201610202108/mse_g3_f6.npy\n",
      "loading ./results/exp6pixel/f1/beta.201610202108/mse_g3_f7.npy\n",
      "loading ./results/exp6pixel/f1/beta.201610202108/mse_g3_f8.npy\n",
      "loading ./results/exp6pixel/f1/beta.201610202108/mse_g3_f9.npy\n",
      "loading ./results/exp6pixel/f1/beta.201610202108/mse_g4_f0.npy\n",
      "loading ./results/exp6pixel/f1/beta.201610202108/mse_g4_f1.npy\n",
      "loading ./results/exp6pixel/f1/beta.201610202108/mse_g4_f2.npy\n",
      "loading ./results/exp6pixel/f1/beta.201610202108/mse_g4_f3.npy\n",
      "loading ./results/exp6pixel/f1/beta.201610202108/mse_g4_f4.npy\n",
      "loading ./results/exp6pixel/f1/beta.201610202108/mse_g4_f5.npy\n",
      "loading ./results/exp6pixel/f1/beta.201610202108/mse_g4_f6.npy\n",
      "loading ./results/exp6pixel/f1/beta.201610202108/mse_g4_f7.npy\n",
      "loading ./results/exp6pixel/f1/beta.201610202108/mse_g4_f8.npy\n",
      "loading ./results/exp6pixel/f1/beta.201610202108/mse_g4_f9.npy\n",
      "(10, 10, 5) (10, 10, 5) (10, 10, 5) (10, 10, 5)\n"
     ]
    }
   ],
   "source": [
    "#parameter_name = 'lamda'\n",
    "#idjob='201610141834'\n",
    "#idjob='201610160213'\n",
    "#idjob='201610172354'\n",
    "\n",
    "#parameter_name = 'gamma'\n",
    "#idjob='201610200008'\n",
    "\n",
    "parameter_name = 'beta'\n",
    "idjob='201610202108'\n",
    " \n",
    "\n",
    "formula = 'f1'\n",
    "base_folder = './results/exp6pixel/%s/%s.%s/'%(formula, parameter_name, idjob)\n",
    "\n",
    "\n",
    "with open(base_folder + 'data.json') as data_file:    \n",
    "    data = json.load(data_file)\n",
    "\n",
    "params_range = data['params_range']\n",
    "rango = params_range[parameter_name]\n",
    "#rango = np.arange(100, 1001, 100)\n",
    "\n",
    "GROUPS=5\n",
    "FITS=10\n",
    "RANGO=len(rango)\n",
    "print rango \n",
    "\n",
    "mse = np.zeros((RANGO, FITS, GROUPS), dtype='float32')\n",
    "mse1000 = np.zeros((RANGO, FITS, GROUPS), dtype='float32')\n",
    "mse2000 = np.zeros((RANGO, FITS, GROUPS), dtype='float32')\n",
    "mse3000 = np.zeros((RANGO, FITS, GROUPS), dtype='float32')\n",
    "a = np.zeros((RANGO), dtype='float')\n",
    "\n",
    "name_tmp1 = base_folder + 'mse_g%d_f%d'+'.npy'\n",
    "name_tmp2 = base_folder + 'mse%d_g%d_f%d'+'.npy'\n",
    "for group in xrange(GROUPS):\n",
    "    #if group==0 : continue\n",
    "    for fit in xrange(FITS):\n",
    "        #if fit == 0 : continue\n",
    "        print 'loading', name_tmp1%(group, fit)\n",
    "        tmp = np.load(name_tmp1%(group, fit))\n",
    "        a = a + tmp\n",
    "        mse[:, fit, group] = tmp\n",
    "        mse1000[:, fit, group] = np.load(name_tmp2%(1000, group, fit))\n",
    "        mse2000[:, fit, group] = np.load(name_tmp2%(2000, group, fit))\n",
    "        mse3000[:, fit, group] = np.load(name_tmp2%(3000, group, fit))\n",
    "\n",
    "a = a / (FITS*GROUPS)\n",
    "        \n",
    "print mse.shape, mse1000.shape, mse2000.shape, mse3000.shape\n"
   ]
  },
  {
   "cell_type": "code",
   "execution_count": 18,
   "metadata": {
    "collapsed": false
   },
   "outputs": [
    {
     "name": "stdout",
     "output_type": "stream",
     "text": [
      "[1.452e-15, 2.0000000000000013, 4.000000000000001, 6.000000000000001, 8.0, 10.0, 12.0, 14.0, 16.0, 17.999999999999996]\n",
      "[ 0.26322368  0.26631904  0.26651439  0.26655012  0.26657727  0.26659465\n",
      "  0.26660115  0.2666117   0.26662016  0.26661766]\n",
      "[ 0.62823981  0.61012691  0.61066216  0.61086804  0.61097884  0.61104757\n",
      "  0.61109549  0.61111212  0.61114049  0.61115235]\n",
      "[ 0.42629001  0.42252764  0.4231005   0.42332816  0.42342585  0.42350551\n",
      "  0.42355883  0.42359915  0.42361873  0.42364573]\n",
      "[ 0.42621338  0.40806633  0.40871909  0.40895209  0.40906391  0.40914464\n",
      "  0.40919387  0.40922475  0.40925682  0.40927264]\n",
      "[ 0.67908251  0.65706408  0.65767628  0.65788221  0.65800905  0.65807652\n",
      "  0.65812403  0.65816981  0.65818858  0.65820575]\n",
      "[  2.54555546e+09   2.54555546e+09   2.54555546e+09   2.54555546e+09\n",
      "   2.54555546e+09   2.54555546e+09   2.54555546e+09   2.54555546e+09\n",
      "   2.54555546e+09   2.54555546e+09]\n",
      "[ 0.2827526   0.28755742  0.28769413  0.28771332  0.28773463  0.28774449\n",
      "  0.28775239  0.28775924  0.28776553  0.28776535]\n",
      "[ 0.56273496  0.54376227  0.54440469  0.5446077   0.54473549  0.54481053\n",
      "  0.5448817   0.54491597  0.54493988  0.54495943]\n",
      "[ 2.7120266   2.70658374  2.7072618   2.70748472  2.70760751  2.70768666\n",
      "  2.70773077  2.7077775   2.70780897  2.70782995]\n",
      "[ 0.52370715  0.50686026  0.50747466  0.50771582  0.50781375  0.50787467\n",
      "  0.50793236  0.50797224  0.50799072  0.50800747]\n",
      "254555546.65\n"
     ]
    }
   ],
   "source": [
    "mse1000.shape\n",
    "print rango\n",
    "print mse1000[:, 0,0]\n",
    "print mse1000[:, 1,0]\n",
    "print mse1000[:, 2,0]\n",
    "print mse1000[:, 3,0]\n",
    "print mse1000[:, 4,0]\n",
    "print mse1000[:, 5,0]\n",
    "print mse1000[:, 6,0]\n",
    "print mse1000[:, 7,0]\n",
    "print mse1000[:, 8,0]\n",
    "print mse1000[:, 9,0]\n",
    "\n",
    "lala = [0.26322368, 0.62823981, 0.42629001, 0.42621338, 0.67908251, 2.54555546e+09, 0.2827526, 0.56273496, 2.7120266,0.52370715]\n",
    "print sum(lala)/len(lala)"
   ]
  },
  {
   "cell_type": "code",
   "execution_count": 20,
   "metadata": {
    "collapsed": false
   },
   "outputs": [
    {
     "name": "stdout",
     "output_type": "stream",
     "text": [
      "[  2.79693057e+09   2.79693057e+09   2.79693057e+09   2.79693057e+09\n",
      "   2.79693057e+09   2.79693057e+09   2.79693057e+09   2.79693057e+09\n",
      "   2.79693057e+09   2.79693057e+09]\n",
      "[  1.11877224e+08   1.11877224e+08   1.11877224e+08   1.11877224e+08\n",
      "   1.11877224e+08   1.11877224e+08   1.11877224e+08   1.11877224e+08\n",
      "   1.11877224e+08   1.11877224e+08]\n",
      "[  2.79693057e+08   2.79693057e+08   2.79693057e+08   2.79693057e+08\n",
      "   2.79693057e+08   2.79693057e+08   2.79693057e+08   2.79693057e+08\n",
      "   2.79693057e+08   2.79693057e+08]\n"
     ]
    }
   ],
   "source": [
    "mean= mse.mean(axis=2).mean(axis=1)\n",
    "var = np.std(np.std(mse, axis=2), axis=1)\n",
    "\n",
    "acum = np.zeros(mse.shape[0])\n",
    "n =0\n",
    "for f in xrange(10):\n",
    "    for g in xrange(1):\n",
    "        acum = acum + mse[:, f, g]\n",
    "        n=n+1\n",
    "\n",
    "\n",
    "mean2 = acum/n\n",
    "\n",
    "print acum\n",
    "print mean\n",
    "print mean2\n"
   ]
  },
  {
   "cell_type": "code",
   "execution_count": 25,
   "metadata": {
    "collapsed": false
   },
   "outputs": [
    {
     "name": "stdout",
     "output_type": "stream",
     "text": [
      "[1.452e-15, 2.0000000000000013, 4.000000000000001, 6.000000000000001, 8.0, 10.0, 12.0, 14.0, 16.0, 17.999999999999996]\n",
      "[  1.01822224e+08   1.01822224e+08   1.01822224e+08   1.01822224e+08\n",
      "   1.01822224e+08   1.01822224e+08   1.01822224e+08   1.01822224e+08\n",
      "   1.01822224e+08   1.01822224e+08] (10,) (10, 10, 5)\n",
      "[  1.51150324e-03   9.67241765e-04   1.07961043e-03   1.28970994e-03\n",
      "   1.52070611e-03   1.28000000e+02   1.43380277e-03   1.08096865e-03\n",
      "   8.86842143e-04   7.53345608e-04]\n"
     ]
    }
   ],
   "source": [
    "print rango\n",
    "mean1000 = mse1000.mean(axis=2).mean(axis=1)\n",
    "var1000 = np.std(np.std(mse1000, axis=2), axis=0)\n",
    "print mean1000, mean1000.shape, mse1000.shape\n",
    "print var1000"
   ]
  },
  {
   "cell_type": "code",
   "execution_count": 24,
   "metadata": {
    "collapsed": false
   },
   "outputs": [
    {
     "name": "stdout",
     "output_type": "stream",
     "text": [
      "[1.452e-15, 2.0000000000000013, 4.000000000000001, 6.000000000000001, 8.0, 10.0, 12.0, 14.0, 16.0, 17.999999999999996]\n",
      "[ 54731788.  54731788.  54731788.  54731788.  54731788.  54731788.\n",
      "  54731788.  54731788.  54731788.  54731788.] (10,) (10, 10, 5)\n",
      "[  2.01097440e+08   2.01097440e+08   2.01097440e+08   2.01097440e+08\n",
      "   2.01097440e+08   2.01097440e+08   2.01097440e+08   2.01097440e+08\n",
      "   2.01097440e+08   2.01097440e+08]\n"
     ]
    }
   ],
   "source": [
    "print rango\n",
    "mean2000 = mse2000.mean(axis=2).mean(axis=1)\n",
    "var2000 = np.std(np.std(mse2000, axis=2), axis=1)\n",
    "\n",
    "print mean2000, mean2000.shape, mse2000.shape\n",
    "\n",
    "print var2000"
   ]
  },
  {
   "cell_type": "code",
   "execution_count": 26,
   "metadata": {
    "collapsed": false
   },
   "outputs": [
    {
     "name": "stdout",
     "output_type": "stream",
     "text": [
      "(10,) [1.452e-15, 2.0000000000000013, 4.000000000000001, 6.000000000000001, 8.0, 10.0, 12.0, 14.0, 16.0, 17.999999999999996]\n",
      "[  1.57070624e+08   1.57070624e+08   1.57070624e+08   1.57070624e+08\n",
      "   1.57070624e+08   1.57070624e+08   1.57070624e+08   1.57070624e+08\n",
      "   1.57070624e+08   1.57070624e+08]\n",
      "[  5.77114368e+08   5.77114368e+08   5.77114368e+08   5.77114368e+08\n",
      "   5.77114368e+08   5.77114368e+08   5.77114368e+08   5.77114368e+08\n",
      "   5.77114368e+08   5.77114368e+08]\n"
     ]
    }
   ],
   "source": [
    "#rango = np.arange(100, 1001, 100)\n",
    "print mean.shape, rango\n",
    "mean3000 = mse3000.mean(axis=2).mean(axis=1)\n",
    "var3000 = np.std(np.std(mse3000, axis=2), axis=1)\n",
    "print mean3000\n",
    "print var3000"
   ]
  },
  {
   "cell_type": "code",
   "execution_count": 27,
   "metadata": {
    "collapsed": false
   },
   "outputs": [
    {
     "name": "stdout",
     "output_type": "stream",
     "text": [
      "(10,) (10, 3)\n"
     ]
    },
    {
     "name": "stderr",
     "output_type": "stream",
     "text": [
      "/home/leexgo1987/apps/anaconda2/lib/python2.7/site-packages/matplotlib/axes/_axes.py:531: UserWarning: No labelled objects found. Use label='...' kwarg on individual plots.\n",
      "  warnings.warn(\"No labelled objects found. \"\n"
     ]
    },
    {
     "name": "stdout",
     "output_type": "stream",
     "text": [
      "medias= 1.11877e+08 1.01822e+08 5.47318e+07 1.57071e+08\n",
      "std= 5.48084e+08 4.98825e+08 2.6813e+08 7.69486e+08\n",
      "mean1000 [  1.01822224e+08   1.01822224e+08   1.01822224e+08   1.01822224e+08\n",
      "   1.01822224e+08   1.01822224e+08   1.01822224e+08   1.01822224e+08\n",
      "   1.01822224e+08   1.01822224e+08]\n",
      "mean2000 [ 54731788.  54731788.  54731788.  54731788.  54731788.  54731788.\n",
      "  54731788.  54731788.  54731788.  54731788.]\n",
      "mean [  1.11877224e+08   1.11877224e+08   1.11877224e+08   1.11877224e+08\n",
      "   1.11877224e+08   1.11877224e+08   1.11877224e+08   1.11877224e+08\n",
      "   1.11877224e+08   1.11877224e+08] 1.11877e+08\n",
      "[1.452e-15, 2.0000000000000013, 4.000000000000001, 6.000000000000001, 8.0, 10.0, 12.0, 14.0, 16.0, 17.999999999999996]\n",
      "dir ./results/exp6pixel/f1/beta.201610202108/res/ created!\n"
     ]
    },
    {
     "data": {
      "image/png": "[encoded data removed]",
      "text/plain": [
       "<matplotlib.figure.Figure at 0x7fed3a0c6fd0>"
      ]
     },
     "metadata": {},
     "output_type": "display_data"
    }
   ],
   "source": [
    "#rango = np.arange(100, 1001, 100)\n",
    "\n",
    "mean3 = np.zeros((mean1000.shape[0], 3))\n",
    "print mean2000.shape, mean3.shape\n",
    "mean3[:, 0] = mean1000\n",
    "mean3[:, 1] = mean2000\n",
    "mean3[:, 2] = mean3000\n",
    "\n",
    "#plt.plot(rango, mean3000,'o', label='b=3000')\n",
    "#plt.plot(rango, mean1000, 'o', label='b=1000')\n",
    "#plt.plot(rango, mean2000,'o', label='b=2000')\n",
    "#plt.plot(rango, mean3.mean(axis=1),'o', label='b=all')\n",
    "#plt.plot(rango, mean,'o', label='b=all')\n",
    "\n",
    "#plt.plot(rango, mean+var,'o', label='b=all')\n",
    "#plt.plot(rango, mean-var,'o', label='b=all')\n",
    "\n",
    "#plt.errorbar(rango, mean, yerr=var, fmt='o', label='b=all')\n",
    "plt.errorbar(rango, mean3.mean(axis=1), yerr=np.std(mean3, axis=1), fmt='o')\n",
    "\n",
    "\n",
    "plt.legend()\n",
    "plt.ylabel('MSE(Yhr,^Yhr)')\n",
    "plt.xlabel(parameter_name)\n",
    "#plt.legend(lala , loc=2, bbox_to_anchor=(1, 0.5))\n",
    "#plt.ylim((1102000.0, 1102300.0))\n",
    "mse[:,2,1]\n",
    "#print plt.ylim((940000000.0, 960000000.0))\n",
    "\n",
    "print 'medias=',mse.mean(),mse1000.mean(), mse2000.mean(), mse3000.mean() \n",
    "print 'std=',np.std(mse),np.std(mse1000), np.std(mse2000), np.std(mse3000) \n",
    "print 'mean1000', mean1000\n",
    "print 'mean2000', mean2000\n",
    "print 'mean', mean, mean.min()\n",
    "print rango\n",
    "\n",
    "import os\n",
    "if not os.path.exists(base_folder+ 'res/'):\n",
    "    try:\n",
    "        os.makedirs(base_folder+ 'res/')\n",
    "        print 'dir', base_folder+ 'res/', 'created!' \n",
    "    except OSError, e :\n",
    "        print str(e)\n",
    "\n",
    "\n",
    "## Para grabar\n",
    "plt.savefig(base_folder+ 'res/'+parameter_name+'_mean_var_idjob'+idjob+'.pdf')"
   ]
  },
  {
   "cell_type": "markdown",
   "metadata": {},
   "source": [
    "# Dibujando la reconstruida\n"
   ]
  },
  {
   "cell_type": "code",
   "execution_count": 28,
   "metadata": {
    "collapsed": false
   },
   "outputs": [
    {
     "name": "stdout",
     "output_type": "stream",
     "text": [
      "(-0.6996299, 1.6709743)\n",
      "A_g0_val0.\n",
      "(-0.38038039, 1.777449)\n",
      "A_g0_val1.\n",
      "(-0.38054311, 1.7785807)\n",
      "A_g0_val2.\n",
      "(-0.38087872, 1.7776219)\n",
      "A_g0_val3.\n",
      "(-0.38091278, 1.7776611)\n",
      "A_g0_val4.\n",
      "(-0.38093346, 1.777683)\n",
      "A_g0_val5.\n",
      "(-0.38094735, 1.7776904)\n",
      "A_g0_val6.\n",
      "(-0.38093957, 1.7776957)\n",
      "A_g0_val7.\n",
      "(-0.38094687, 1.7776996)\n",
      "A_g0_val8.\n",
      "(-0.38095263, 1.7777029)\n",
      "A_g0_val9.\n",
      "(-0.60894752, 0.85167456)\n",
      "A_g1_val0.\n",
      "(-0.48025295, 0.80575949)\n",
      "A_g1_val1.\n",
      "(-0.48059657, 0.80576175)\n",
      "A_g1_val2.\n",
      "(-0.48062789, 0.80611545)\n",
      "A_g1_val3.\n",
      "(-0.48064333, 0.80589366)\n",
      "A_g1_val4.\n",
      "(-0.48065269, 0.80589151)\n",
      "A_g1_val5.\n",
      "(-0.48065966, 0.80589008)\n",
      "A_g1_val6.\n",
      "(-0.48066384, 0.80590504)\n",
      "A_g1_val7.\n",
      "(-0.48066714, 0.80590487)\n",
      "A_g1_val8.\n",
      "(-0.48066974, 0.80574656)\n",
      "A_g1_val9.\n",
      "(-0.49318552, 1.650533)\n",
      "A_g2_val0.\n",
      "(-0.40666202, 1.5684848)\n",
      "A_g2_val1.\n",
      "(-0.40833917, 1.5679877)\n",
      "A_g2_val2.\n",
      "(-0.40909508, 1.5678502)\n",
      "A_g2_val3.\n",
      "(-0.40963846, 1.5676942)\n",
      "A_g2_val4.\n",
      "(-0.40996745, 1.5676876)\n",
      "A_g2_val5.\n",
      "(-0.41010222, 1.567567)\n",
      "A_g2_val6.\n",
      "(-0.41003615, 1.5677146)\n",
      "A_g2_val7.\n",
      "(-0.41050971, 1.5675347)\n",
      "A_g2_val8.\n",
      "(-0.41056827, 1.56752)\n",
      "A_g2_val9.\n",
      "(-0.49851608, 1.3103309)\n",
      "A_g3_val0.\n",
      "(-0.5604825, 1.4682577)\n",
      "A_g3_val1.\n",
      "(-0.56165618, 1.4670937)\n",
      "A_g3_val2.\n",
      "(-0.56064266, 1.4673665)\n",
      "A_g3_val3.\n",
      "(-0.5607605, 1.4677852)\n",
      "A_g3_val4.\n",
      "(-0.56029361, 1.4676236)\n",
      "A_g3_val5.\n",
      "(-0.56035787, 1.4675105)\n",
      "A_g3_val6.\n",
      "(-0.56031847, 1.4674288)\n",
      "A_g3_val7.\n",
      "(-0.56038904, 1.4673696)\n",
      "A_g3_val8.\n",
      "(-0.56046289, 1.4673237)\n",
      "A_g3_val9.\n",
      "(-0.84365964, 1.5926391)\n",
      "A_g4_val0.\n",
      "(-0.93736655, 1.6824569)\n",
      "A_g4_val1.\n",
      "(-0.93768018, 1.684494)\n",
      "A_g4_val2.\n",
      "(-0.93799233, 1.6838787)\n",
      "A_g4_val3.\n",
      "(-0.93761522, 1.6839664)\n",
      "A_g4_val4.\n",
      "(-0.93763763, 1.6843138)\n",
      "A_g4_val5.\n",
      "(-0.93769062, 1.6845094)\n",
      "A_g4_val6.\n",
      "(-0.93779498, 1.684642)\n",
      "A_g4_val7.\n",
      "(-0.93744373, 1.6846354)\n",
      "A_g4_val8.\n",
      "(-0.93731976, 1.6847149)\n",
      "A_g4_val9.\n"
     ]
    },
    {
     "data": {
      "image/png": "[encoded data removed]",
      "text/plain": [
       "<matplotlib.figure.Figure at 0x7fed3a1a9d10>"
      ]
     },
     "metadata": {},
     "output_type": "display_data"
    }
   ],
   "source": [
    "name_tmp3 = base_folder + 'A_g%d_val%d.npy'\n",
    "\n",
    "for g in xrange(GROUPS):\n",
    "    #if g == 0 : continue\n",
    "    for i_val in xrange(len(rango)):\n",
    "        val = rango[i_val]\n",
    "        A = np.load(name_tmp3%(g,i_val))\n",
    "        print mm(A, cast_int=False)\n",
    "        plt = iu._is(A, vmin=0, vmax=1.5)\n",
    "        name_img = ('A_g%d_val%d.npy'%(g, i_val))[:-3]\n",
    "        print name_img\n",
    "        plt.savefig(base_folder+ '/res/'+name_img +'png')"
   ]
  },
  {
   "cell_type": "code",
   "execution_count": 31,
   "metadata": {
    "collapsed": false
   },
   "outputs": [
    {
     "name": "stdout",
     "output_type": "stream",
     "text": [
      "(-0.6996299, 1.6709744)\n",
      "B_g0_val0.\n",
      "(-0.38038036, 1.777449)\n",
      "B_g0_val1.\n",
      "(-0.38054308, 1.7785805)\n",
      "B_g0_val2.\n",
      "(-0.38087872, 1.7776219)\n",
      "B_g0_val3.\n",
      "(-0.38091278, 1.7776611)\n",
      "B_g0_val4.\n",
      "(-0.38093349, 1.777683)\n",
      "B_g0_val5.\n",
      "(-0.38094738, 1.7776903)\n",
      "B_g0_val6.\n",
      "(-0.38093954, 1.7776957)\n",
      "B_g0_val7.\n",
      "(-0.38094687, 1.7776997)\n",
      "B_g0_val8.\n",
      "(-0.3809526, 1.7777029)\n",
      "B_g0_val9.\n",
      "(-0.60894752, 0.85167456)\n",
      "B_g1_val0.\n",
      "(-0.48025292, 0.80575949)\n",
      "B_g1_val1.\n",
      "(-0.4805966, 0.80576175)\n",
      "B_g1_val2.\n",
      "(-0.48062792, 0.80611545)\n",
      "B_g1_val3.\n",
      "(-0.48064333, 0.8058936)\n",
      "B_g1_val4.\n",
      "(-0.48065266, 0.80589145)\n",
      "B_g1_val5.\n",
      "(-0.48065963, 0.80589008)\n",
      "B_g1_val6.\n",
      "(-0.48066384, 0.80590504)\n",
      "B_g1_val7.\n",
      "(-0.48066714, 0.80590481)\n",
      "B_g1_val8.\n",
      "(-0.48066974, 0.80574656)\n",
      "B_g1_val9.\n",
      "(-0.49318549, 1.650533)\n",
      "B_g2_val0.\n",
      "(-0.40666202, 1.5684848)\n",
      "B_g2_val1.\n",
      "(-0.40833917, 1.5679877)\n",
      "B_g2_val2.\n",
      "(-0.40909508, 1.5678502)\n",
      "B_g2_val3.\n",
      "(-0.40963849, 1.5676941)\n",
      "B_g2_val4.\n",
      "(-0.40996742, 1.5676877)\n",
      "B_g2_val5.\n",
      "(-0.41010222, 1.567567)\n",
      "B_g2_val6.\n",
      "(-0.41003615, 1.5677146)\n",
      "B_g2_val7.\n",
      "(-0.41050971, 1.5675346)\n",
      "B_g2_val8.\n",
      "(-0.41056827, 1.56752)\n",
      "B_g2_val9.\n",
      "(-0.49851608, 1.3103309)\n",
      "B_g3_val0.\n",
      "(-0.56048244, 1.4682577)\n",
      "B_g3_val1.\n",
      "(-0.56165618, 1.4670937)\n",
      "B_g3_val2.\n",
      "(-0.56064266, 1.4673665)\n",
      "B_g3_val3.\n",
      "(-0.5607605, 1.4677852)\n",
      "B_g3_val4.\n",
      "(-0.56029361, 1.4676236)\n",
      "B_g3_val5.\n",
      "(-0.56035787, 1.4675105)\n",
      "B_g3_val6.\n",
      "(-0.56031847, 1.4674288)\n",
      "B_g3_val7.\n",
      "(-0.56038904, 1.4673696)\n",
      "B_g3_val8.\n",
      "(-0.56046283, 1.4673238)\n",
      "B_g3_val9.\n",
      "(-0.84365964, 1.5926391)\n",
      "B_g4_val0.\n",
      "(-0.93736655, 1.682457)\n",
      "B_g4_val1.\n",
      "(-0.93768018, 1.6844941)\n",
      "B_g4_val2.\n",
      "(-0.93799233, 1.6838785)\n",
      "B_g4_val3.\n",
      "(-0.93761516, 1.6839663)\n",
      "B_g4_val4.\n",
      "(-0.93763763, 1.6843139)\n",
      "B_g4_val5.\n",
      "(-0.93769062, 1.6845093)\n",
      "B_g4_val6.\n",
      "(-0.93779498, 1.684642)\n",
      "B_g4_val7.\n",
      "(-0.93744373, 1.6846353)\n",
      "B_g4_val8.\n",
      "(-0.93731976, 1.6847149)\n",
      "B_g4_val9.\n"
     ]
    },
    {
     "data": {
      "image/png": "[encoded data removed]",
      "text/plain": [
       "<matplotlib.figure.Figure at 0x7fed374e3110>"
      ]
     },
     "metadata": {},
     "output_type": "display_data"
    }
   ],
   "source": [
    "name_tmp3 = base_folder + 'B_g%d_val%d.npy'\n",
    "\n",
    "for g in xrange(GROUPS):\n",
    "    #if g == 0 : continue\n",
    "    for i_val in xrange(len(rango)):\n",
    "        val = rango[i_val]\n",
    "        A = np.load(name_tmp3%(g,i_val))\n",
    "        print mm(A, cast_int=False)\n",
    "        plt = iu._is(A, vmin=0, vmax=1.5)\n",
    "        name_img = ('B_g%d_val%d.npy'%(g, i_val))[:-3]\n",
    "        print name_img\n",
    "        plt.savefig(base_folder+ '/res/'+name_img +'png')"
   ]
  },
  {
   "cell_type": "markdown",
   "metadata": {},
   "source": [
    "# Dibujando la original\n"
   ]
  },
  {
   "cell_type": "code",
   "execution_count": 29,
   "metadata": {
    "collapsed": false
   },
   "outputs": [
    {
     "name": "stdout",
     "output_type": "stream",
     "text": [
      "(0.00096415909, 4.4262066)\n",
      "i_hr_g0_103111.\n",
      "(0.0, 51.797764)\n",
      "i_hr_g1_101006.\n",
      "(0.0, 32.989147)\n",
      "i_hr_g2_101107.\n",
      "(0.0, 4.1959381)\n",
      "i_hr_g3_101915.\n",
      "(0.0, 4.2103333)\n",
      "i_hr_g4_102816.\n"
     ]
    },
    {
     "data": {
      "image/png": "[encoded data removed]",
      "text/plain": [
       "<matplotlib.figure.Figure at 0x7fed379efa10>"
      ]
     },
     "metadata": {},
     "output_type": "display_data"
    }
   ],
   "source": [
    "subjetc_fited = [103111, 101006, 101107, 101915,102816]\n",
    "name_tmp4 = base_folder + 'i_hr_g%d_%d.npy'\n",
    "for g in xrange(5):\n",
    "    #if g == 0 : continue\n",
    "    A = np.load(name_tmp4%(g,subjetc_fited[g]))\n",
    "    print mm(A, cast_int=False)\n",
    "    plt = iu._is(A, vmin=0, vmax=1.5)\n",
    "    name_img = ('i_hr_g%d_%d.png'%(g, subjetc_fited[g]))[:-3]\n",
    "    print name_img\n",
    "    plt.savefig(base_folder + '/res/' +name_img)"
   ]
  },
  {
   "cell_type": "markdown",
   "metadata": {},
   "source": [
    "# Dibujando la upsampleada antes de minimizar\n"
   ]
  },
  {
   "cell_type": "code",
   "execution_count": 30,
   "metadata": {
    "collapsed": false
   },
   "outputs": [
    {
     "name": "stdout",
     "output_type": "stream",
     "text": [
      "(0.00064298313, 2.3340669)\n",
      "i_hr_fake_g0.\n",
      "(0.00018188616, 2.9902432)\n",
      "i_hr_fake_g1.\n",
      "(0.0, 2.2149892)\n",
      "i_hr_fake_g2.\n",
      "(0.00099337357, 2.8161852)\n",
      "i_hr_fake_g3.\n",
      "(0.0024674172, 3.1205568)\n",
      "i_hr_fake_g4.\n"
     ]
    },
    {
     "data": {
      "image/png": "[encoded data removed]",
      "text/plain": [
       "<matplotlib.figure.Figure at 0x7fed37454d10>"
      ]
     },
     "metadata": {},
     "output_type": "display_data"
    }
   ],
   "source": [
    "name_tmp4 = base_folder + 'i_hr_fake_g%d.npy'\n",
    "for g in xrange(5):\n",
    "    #if g == 0 : continue\n",
    "    A = np.load(name_tmp4%(g,))\n",
    "    print mm(A, cast_int=False)\n",
    "    plt = iu._is(A, vmin=0, vmax=1.5)\n",
    "    name_img = ('i_hr_fake_g%d.png'%(g,))[:-3]\n",
    "    print name_img\n",
    "    plt.savefig(base_folder + '/res/' +name_img)"
   ]
  },
  {
   "cell_type": "code",
   "execution_count": null,
   "metadata": {
    "collapsed": true
   },
   "outputs": [],
   "source": []
  },
  {
   "cell_type": "code",
   "execution_count": null,
   "metadata": {
    "collapsed": true
   },
   "outputs": [],
   "source": []
  },
  {
   "cell_type": "code",
   "execution_count": 58,
   "metadata": {
    "collapsed": false
   },
   "outputs": [
    {
     "data": {
      "image/png": "[encoded data removed]",
      "text/plain": [
       "<matplotlib.figure.Figure at 0x7ffa97f7bb10>"
      ]
     },
     "metadata": {},
     "output_type": "display_data"
    }
   ],
   "source": [
    "## Para grabar\n",
    "g=4\n",
    "for g in xrange(1):\n",
    "    for i in xrange(1):\n",
    "        a = plt.plot(rango, mse[:, i, g],'o')\n",
    "    #plt.savefig('/user/lgomez/home/workspace/iqt/results/exp6/gammas/gamma_g'+str(g)+'_f'+str(i)+'.png')\n",
    "    \n",
    "    \n",
    "#plt.savefig('/user/lgomez/home/workspace/iqt/results/exp6/gammas/gamma_all.png')\n",
    "    "
   ]
  },
  {
   "cell_type": "code",
   "execution_count": 56,
   "metadata": {
    "collapsed": false
   },
   "outputs": [
    {
     "data": {
      "image/png": "[encoded data removed]",
      "text/plain": [
       "<matplotlib.figure.Figure at 0x7efdbb3ad3d0>"
      ]
     },
     "metadata": {},
     "output_type": "display_data"
    }
   ],
   "source": [
    "cluster = '1'\n",
    "if cluster == '0':\n",
    "    plt.plot(rango, mse[:, 0, 0],'o')\n",
    "    plt.plot(rango, mse[:, 6, 0],'o')\n",
    "    plt.plot(rango, mse[:, 7, 0],'o')\n",
    "\n",
    "if cluster == '1':\n",
    "    plt.plot(rango, mse[:, 1, 1],'o')\n",
    "    plt.plot(rango, mse[:, 2, 1],'o')\n",
    "    #plt.plot(rango, mse[:, 3, 0],'o')\n",
    "    plt.plot(rango, mse[:, 4, 1],'o')\n",
    "    plt.plot(rango, mse[:, 5, 1],'o')\n",
    "    plt.plot(rango, mse[:, 8, 1],'o')\n",
    "\n"
   ]
  },
  {
   "cell_type": "code",
   "execution_count": 61,
   "metadata": {
    "collapsed": false
   },
   "outputs": [
    {
     "ename": "TypeError",
     "evalue": "not enough arguments for format string",
     "output_type": "error",
     "traceback": [
      "\u001b[0;31m---------------------------------------------------------------------------\u001b[0m",
      "\u001b[0;31mTypeError\u001b[0m                                 Traceback (most recent call last)",
      "\u001b[0;32m<ipython-input-61-203f5e33c352>\u001b[0m in \u001b[0;36m<module>\u001b[0;34m()\u001b[0m\n\u001b[1;32m      1\u001b[0m \u001b[0mname_tmp4\u001b[0m \u001b[0;34m=\u001b[0m \u001b[0mbase_folder\u001b[0m \u001b[0;34m+\u001b[0m \u001b[0;34m'i_hr_g%d.npy'\u001b[0m\u001b[0;34m\u001b[0m\u001b[0m\n\u001b[1;32m      2\u001b[0m \u001b[0;32mfor\u001b[0m \u001b[0mg\u001b[0m \u001b[0;32min\u001b[0m \u001b[0mxrange\u001b[0m\u001b[0;34m(\u001b[0m\u001b[0;36m5\u001b[0m\u001b[0;34m)\u001b[0m\u001b[0;34m:\u001b[0m\u001b[0;34m\u001b[0m\u001b[0m\n\u001b[0;32m----> 3\u001b[0;31m     \u001b[0mA\u001b[0m \u001b[0;34m=\u001b[0m \u001b[0mnp\u001b[0m\u001b[0;34m.\u001b[0m\u001b[0mload\u001b[0m\u001b[0;34m(\u001b[0m\u001b[0mname_tmp3\u001b[0m\u001b[0;34m%\u001b[0m\u001b[0;34m(\u001b[0m\u001b[0mg\u001b[0m\u001b[0;34m,\u001b[0m\u001b[0;34m)\u001b[0m\u001b[0;34m)\u001b[0m\u001b[0;34m\u001b[0m\u001b[0m\n\u001b[0m\u001b[1;32m      4\u001b[0m     \u001b[0mi_hr\u001b[0m \u001b[0;34m=\u001b[0m \u001b[0mnp\u001b[0m\u001b[0;34m.\u001b[0m\u001b[0mload\u001b[0m\u001b[0;34m(\u001b[0m\u001b[0mname_tmp4\u001b[0m\u001b[0;34m%\u001b[0m\u001b[0;34m(\u001b[0m\u001b[0mg\u001b[0m\u001b[0;34m,\u001b[0m\u001b[0;34m)\u001b[0m\u001b[0;34m)\u001b[0m\u001b[0;34m\u001b[0m\u001b[0m\n\u001b[1;32m      5\u001b[0m     \u001b[0;31m#print mm(A, cast_int=False)\u001b[0m\u001b[0;34m\u001b[0m\u001b[0;34m\u001b[0m\u001b[0m\n",
      "\u001b[0;31mTypeError\u001b[0m: not enough arguments for format string"
     ]
    }
   ],
   "source": [
    "name_tmp4 = base_folder + 'i_hr_g%d.npy'\n",
    "for g in xrange(5):\n",
    "    A = np.load(name_tmp3%(g,))\n",
    "    i_hr = np.load(name_tmp4%(g,))\n",
    "    #print mm(A, cast_int=False)\n",
    "    plt = iu._isc(A,i_hr, vmin=0, vmax=1, titles=['reconstructed', 'original'])\n",
    "    name_img = base_folder + ('cmp_g%d'%(g))\n",
    "    print name_img\n",
    "    plt.savefig(name_img +'.png')"
   ]
  },
  {
   "cell_type": "code",
   "execution_count": 9,
   "metadata": {
    "collapsed": false
   },
   "outputs": [
    {
     "ename": "IOError",
     "evalue": "[Errno 2] No such file or directory: './results/exp6/f1/gamma/A_g0_lamda910000.npy'",
     "output_type": "error",
     "traceback": [
      "\u001b[1;31m---------------------------------------------------------------------------\u001b[0m",
      "\u001b[1;31mIOError\u001b[0m                                   Traceback (most recent call last)",
      "\u001b[1;32m<ipython-input-9-bbce10d412d8>\u001b[0m in \u001b[0;36m<module>\u001b[1;34m()\u001b[0m\n\u001b[0;32m      1\u001b[0m \u001b[0mi_hr\u001b[0m \u001b[1;33m=\u001b[0m \u001b[0mnp\u001b[0m\u001b[1;33m.\u001b[0m\u001b[0mload\u001b[0m\u001b[1;33m(\u001b[0m\u001b[0mbase_folder\u001b[0m\u001b[1;33m+\u001b[0m\u001b[1;34m'i_hr_g0.npy'\u001b[0m\u001b[1;33m)\u001b[0m\u001b[1;33m\u001b[0m\u001b[0m\n\u001b[1;32m----> 2\u001b[1;33m \u001b[0mA910000\u001b[0m \u001b[1;33m=\u001b[0m \u001b[0mnp\u001b[0m\u001b[1;33m.\u001b[0m\u001b[0mload\u001b[0m\u001b[1;33m(\u001b[0m\u001b[0mbase_folder\u001b[0m\u001b[1;33m+\u001b[0m\u001b[1;34m'A_g0_lamda910000.npy'\u001b[0m\u001b[1;33m)\u001b[0m\u001b[1;33m\u001b[0m\u001b[0m\n\u001b[0m\u001b[0;32m      3\u001b[0m \u001b[0miu\u001b[0m\u001b[1;33m.\u001b[0m\u001b[0m_isc\u001b[0m\u001b[1;33m(\u001b[0m\u001b[0mA910000\u001b[0m\u001b[1;33m,\u001b[0m\u001b[0mi_hr\u001b[0m\u001b[1;33m,\u001b[0m \u001b[0mvmax\u001b[0m\u001b[1;33m=\u001b[0m\u001b[1;36m1.4\u001b[0m\u001b[1;33m)\u001b[0m\u001b[1;33m\u001b[0m\u001b[0m\n\u001b[0;32m      4\u001b[0m \u001b[0mA910000\u001b[0m\u001b[1;33m.\u001b[0m\u001b[0mmin\u001b[0m\u001b[1;33m(\u001b[0m\u001b[1;33m)\u001b[0m\u001b[1;33m,\u001b[0m \u001b[0mA910000\u001b[0m\u001b[1;33m.\u001b[0m\u001b[0mmax\u001b[0m\u001b[1;33m(\u001b[0m\u001b[1;33m)\u001b[0m\u001b[1;33m,\u001b[0m \u001b[0mA910000\u001b[0m\u001b[1;33m.\u001b[0m\u001b[0mshape\u001b[0m\u001b[1;33m\u001b[0m\u001b[0m\n\u001b[0;32m      5\u001b[0m \u001b[1;32mdel\u001b[0m\u001b[1;33m(\u001b[0m\u001b[0mA100\u001b[0m\u001b[1;33m)\u001b[0m\u001b[1;33m\u001b[0m\u001b[0m\n",
      "\u001b[1;32m/user/lgomez/home/anaconda2/lib/python2.7/site-packages/numpy/lib/npyio.pyc\u001b[0m in \u001b[0;36mload\u001b[1;34m(file, mmap_mode, allow_pickle, fix_imports, encoding)\u001b[0m\n\u001b[0;32m    360\u001b[0m     \u001b[0mown_fid\u001b[0m \u001b[1;33m=\u001b[0m \u001b[0mFalse\u001b[0m\u001b[1;33m\u001b[0m\u001b[0m\n\u001b[0;32m    361\u001b[0m     \u001b[1;32mif\u001b[0m \u001b[0misinstance\u001b[0m\u001b[1;33m(\u001b[0m\u001b[0mfile\u001b[0m\u001b[1;33m,\u001b[0m \u001b[0mbasestring\u001b[0m\u001b[1;33m)\u001b[0m\u001b[1;33m:\u001b[0m\u001b[1;33m\u001b[0m\u001b[0m\n\u001b[1;32m--> 362\u001b[1;33m         \u001b[0mfid\u001b[0m \u001b[1;33m=\u001b[0m \u001b[0mopen\u001b[0m\u001b[1;33m(\u001b[0m\u001b[0mfile\u001b[0m\u001b[1;33m,\u001b[0m \u001b[1;34m\"rb\"\u001b[0m\u001b[1;33m)\u001b[0m\u001b[1;33m\u001b[0m\u001b[0m\n\u001b[0m\u001b[0;32m    363\u001b[0m         \u001b[0mown_fid\u001b[0m \u001b[1;33m=\u001b[0m \u001b[0mTrue\u001b[0m\u001b[1;33m\u001b[0m\u001b[0m\n\u001b[0;32m    364\u001b[0m     \u001b[1;32melse\u001b[0m\u001b[1;33m:\u001b[0m\u001b[1;33m\u001b[0m\u001b[0m\n",
      "\u001b[1;31mIOError\u001b[0m: [Errno 2] No such file or directory: './results/exp6/f1/gamma/A_g0_lamda910000.npy'"
     ]
    }
   ],
   "source": [
    "i_hr = np.load(base_folder+'i_hr_g0.npy')\n",
    "A910000 = np.load(base_folder+'A_g0_lamda910000.npy')\n",
    "iu._isc(A910000,i_hr, vmax=1.4)\n",
    "A910000.min(), A910000.max(), A910000.shape\n",
    "del(A100)"
   ]
  },
  {
   "cell_type": "code",
   "execution_count": 16,
   "metadata": {
    "collapsed": false
   },
   "outputs": [
    {
     "data": {
      "text/plain": [
       "(0.0, 2729.8464)"
      ]
     },
     "execution_count": 16,
     "metadata": {},
     "output_type": "execute_result"
    },
    {
     "data": {
      "image/png": "[encoded data removed]",
      "text/plain": [
       "<matplotlib.figure.Figure at 0x7fe8ed7d0bd0>"
      ]
     },
     "metadata": {},
     "output_type": "display_data"
    }
   ],
   "source": [
    "iu._is(i_hr, vmax=2729)\n",
    "i_hr.min(),i_hr.max()"
   ]
  },
  {
   "cell_type": "code",
   "execution_count": 51,
   "metadata": {
    "collapsed": false
   },
   "outputs": [
    {
     "data": {
      "text/plain": [
       "(-1.5125681573504312e-05, 1.4016132523250628, (12, 12, 12, 270))"
      ]
     },
     "execution_count": 51,
     "metadata": {},
     "output_type": "execute_result"
    },
    {
     "data": {
      "image/png": "[encoded data removed]",
      "text/plain": [
       "<matplotlib.figure.Figure at 0x7f70534ef510>"
      ]
     },
     "metadata": {},
     "output_type": "display_data"
    }
   ],
   "source": [
    "A1000 = np.load(base_folder+'A_g0_lamda1000.npy')\n",
    "iu._is(A1000, vmax=A1000.max())\n",
    "A1000.min(), A1000.max(), A1000.shape"
   ]
  },
  {
   "cell_type": "code",
   "execution_count": 51,
   "metadata": {
    "collapsed": false
   },
   "outputs": [
    {
     "data": {
      "text/plain": [
       "(-1.5125681573504312e-05, 1.4016132523250628, (12, 12, 12, 270))"
      ]
     },
     "execution_count": 51,
     "metadata": {},
     "output_type": "execute_result"
    },
    {
     "data": {
      "image/png": "[encoded data removed]",
      "text/plain": [
       "<matplotlib.figure.Figure at 0x7fa9b5b34e10>"
      ]
     },
     "metadata": {},
     "output_type": "display_data"
    }
   ],
   "source": [
    "A1000 = np.load(base_folder+'A_g0_lamda3000.npy')\n",
    "iu._is(A1000, vmax=A1000.max())\n",
    "A1000.min(), A1000.max(), A1000.shape"
   ]
  },
  {
   "cell_type": "code",
   "execution_count": 30,
   "metadata": {
    "collapsed": false
   },
   "outputs": [
    {
     "name": "stdout",
     "output_type": "stream",
     "text": [
      "[1000, 2000, 3000, 4000, 5000, 6000, 7000, 8000, 9000, 10000]\n"
     ]
    }
   ],
   "source": [
    "alala = []\n",
    "for val in rango :\n",
    "    alala.append(val)\n",
    "    \n",
    "print alala"
   ]
  }
 ],
 "metadata": {
  "anaconda-cloud": {},
  "kernelspec": {
   "display_name": "Python [default]",
   "language": "python",
   "name": "python2"
  },
  "language_info": {
   "codemirror_mode": {
    "name": "ipython",
    "version": 2
   },
   "file_extension": ".py",
   "mimetype": "text/x-python",
   "name": "python",
   "nbconvert_exporter": "python",
   "pygments_lexer": "ipython2",
   "version": "2.7.12"
  }
 },
 "nbformat": 4,
 "nbformat_minor": 0
}
