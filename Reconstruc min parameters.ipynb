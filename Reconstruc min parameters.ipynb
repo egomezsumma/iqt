{
 "cells": [
  {
   "cell_type": "code",
   "execution_count": 1,
   "metadata": {
    "collapsed": false
   },
   "outputs": [
    {
     "name": "stdout",
     "output_type": "stream",
     "text": [
      "Populating the interactive namespace from numpy and matplotlib\n"
     ]
    }
   ],
   "source": [
    "import numpy as np\n",
    "#from conf_exp6 import *\n",
    "%pylab inline\n",
    "#import seaborn\n",
    "import matplotlib.pyplot as plt\n",
    "import utils.img_utils as iu\n",
    "import json\n",
    "\n",
    "\n",
    "def mm(A, cast_int=True):\n",
    "    if cast_int:\n",
    "        return (int(A.min()), int(A.max()))\n",
    "    else:\n",
    "        return (A.min(), A.max())"
   ]
  },
  {
   "cell_type": "code",
   "execution_count": 3,
   "metadata": {
    "collapsed": false
   },
   "outputs": [
    {
     "name": "stdout",
     "output_type": "stream",
     "text": [
      "volviendo_a_probar_exp6\n",
      "[10000, 110000, 210000, 310000, 410000, 510000, 610000, 710000, 810000, 910000]\n",
      "loading ./results/exp6/f1/lamda.201610232116/mse_g0_f0.npy\n",
      "loading ./results/exp6/f1/lamda.201610232116/mse_g0_f1.npy\n",
      "loading ./results/exp6/f1/lamda.201610232116/mse_g0_f2.npy\n",
      "loading ./results/exp6/f1/lamda.201610232116/mse_g0_f3.npy\n",
      "loading ./results/exp6/f1/lamda.201610232116/mse_g0_f4.npy\n",
      "loading ./results/exp6/f1/lamda.201610232116/mse_g0_f5.npy\n",
      "loading ./results/exp6/f1/lamda.201610232116/mse_g0_f7.npy\n",
      "loading ./results/exp6/f1/lamda.201610232116/mse_g0_f8.npy\n",
      "loading ./results/exp6/f1/lamda.201610232116/mse_g0_f9.npy\n",
      "loading ./results/exp6/f1/lamda.201610232116/mse_g1_f0.npy\n",
      "loading ./results/exp6/f1/lamda.201610232116/mse_g1_f1.npy\n",
      "loading ./results/exp6/f1/lamda.201610232116/mse_g1_f2.npy\n",
      "loading ./results/exp6/f1/lamda.201610232116/mse_g1_f3.npy\n",
      "loading ./results/exp6/f1/lamda.201610232116/mse_g1_f4.npy\n",
      "loading ./results/exp6/f1/lamda.201610232116/mse_g1_f5.npy\n",
      "loading ./results/exp6/f1/lamda.201610232116/mse_g1_f7.npy\n",
      "loading ./results/exp6/f1/lamda.201610232116/mse_g1_f8.npy\n",
      "loading ./results/exp6/f1/lamda.201610232116/mse_g1_f9.npy\n",
      "loading ./results/exp6/f1/lamda.201610232116/mse_g2_f0.npy\n",
      "loading ./results/exp6/f1/lamda.201610232116/mse_g2_f1.npy\n",
      "loading ./results/exp6/f1/lamda.201610232116/mse_g2_f2.npy\n",
      "loading ./results/exp6/f1/lamda.201610232116/mse_g2_f3.npy\n",
      "loading ./results/exp6/f1/lamda.201610232116/mse_g2_f4.npy\n",
      "loading ./results/exp6/f1/lamda.201610232116/mse_g2_f5.npy\n",
      "loading ./results/exp6/f1/lamda.201610232116/mse_g2_f7.npy\n",
      "loading ./results/exp6/f1/lamda.201610232116/mse_g2_f8.npy\n",
      "loading ./results/exp6/f1/lamda.201610232116/mse_g2_f9.npy\n",
      "loading ./results/exp6/f1/lamda.201610232116/mse_g3_f0.npy\n",
      "loading ./results/exp6/f1/lamda.201610232116/mse_g3_f1.npy\n",
      "loading ./results/exp6/f1/lamda.201610232116/mse_g3_f2.npy\n",
      "loading ./results/exp6/f1/lamda.201610232116/mse_g3_f3.npy\n",
      "loading ./results/exp6/f1/lamda.201610232116/mse_g3_f4.npy\n",
      "loading ./results/exp6/f1/lamda.201610232116/mse_g3_f5.npy\n",
      "loading ./results/exp6/f1/lamda.201610232116/mse_g3_f7.npy\n",
      "loading ./results/exp6/f1/lamda.201610232116/mse_g3_f8.npy\n",
      "loading ./results/exp6/f1/lamda.201610232116/mse_g3_f9.npy\n",
      "loading ./results/exp6/f1/lamda.201610232116/mse_g4_f0.npy\n",
      "loading ./results/exp6/f1/lamda.201610232116/mse_g4_f1.npy\n",
      "loading ./results/exp6/f1/lamda.201610232116/mse_g4_f2.npy\n",
      "loading ./results/exp6/f1/lamda.201610232116/mse_g4_f3.npy\n",
      "loading ./results/exp6/f1/lamda.201610232116/mse_g4_f4.npy\n",
      "loading ./results/exp6/f1/lamda.201610232116/mse_g4_f5.npy\n",
      "loading ./results/exp6/f1/lamda.201610232116/mse_g4_f7.npy\n",
      "loading ./results/exp6/f1/lamda.201610232116/mse_g4_f8.npy\n",
      "loading ./results/exp6/f1/lamda.201610232116/mse_g4_f9.npy\n",
      "(10, 10, 5) (10, 10, 5) (10, 10, 5) (10, 10, 5)\n"
     ]
    }
   ],
   "source": [
    "#parameter_name = 'lamda'\n",
    "#idjob='201610141834'\n",
    "#idjob='201610160213'\n",
    "#idjob='201610172354'\n",
    "\n",
    "#parameter_name = 'gamma'\n",
    "#idjob='201610200008'\n",
    "\n",
    "#parameter_name = 'beta'\n",
    "#idjob='201610202108'\n",
    " \n",
    "#parameter_name = 'lamda'\n",
    "#idjob='201610201227'\n",
    "\n",
    "parameter_name = 'lamda'\n",
    "idjob='201610232116'\n",
    "exp_name = 'exp6'\n",
    "\n",
    "\n",
    "formula = 'f1'\n",
    "base_folder = './results/%s/%s/%s.%s/'%(exp_safename, formula, parameter_name, idjob)\n",
    "\n",
    "\n",
    "with open(base_folder + 'data.json') as data_file:    \n",
    "    data = json.load(data_file)\n",
    "\n",
    "params_range = data['params_range']\n",
    "rango = params_range[parameter_name]\n",
    "#rango = np.arange(100, 1001, 100)\n",
    "print data['description']\n",
    "\n",
    "GROUPS=5\n",
    "FITS=10\n",
    "RANGO=len(rango)\n",
    "print rango \n",
    "\n",
    "mse = np.zeros((RANGO, FITS, GROUPS), dtype='float32')\n",
    "mse1000 = np.zeros((RANGO, FITS, GROUPS), dtype='float32')\n",
    "mse2000 = np.zeros((RANGO, FITS, GROUPS), dtype='float32')\n",
    "mse3000 = np.zeros((RANGO, FITS, GROUPS), dtype='float32')\n",
    "a = np.zeros((RANGO), dtype='float')\n",
    "\n",
    "name_tmp1 = base_folder + 'mse_g%d_f%d'+'.npy'\n",
    "name_tmp2 = base_folder + 'mse%d_g%d_f%d'+'.npy'\n",
    "for group in xrange(GROUPS):\n",
    "    #if group==0 : continue\n",
    "    for fit in xrange(FITS):\n",
    "        if fit == 6 : continue\n",
    "        print 'loading', name_tmp1%(group, fit)\n",
    "        tmp = np.load(name_tmp1%(group, fit))\n",
    "        a = a + tmp\n",
    "        mse[:, fit, group] = tmp\n",
    "        mse1000[:, fit, group] = np.load(name_tmp2%(1000, group, fit))\n",
    "        mse2000[:, fit, group] = np.load(name_tmp2%(2000, group, fit))\n",
    "        mse3000[:, fit, group] = np.load(name_tmp2%(3000, group, fit))\n",
    "\n",
    "a = a / (FITS*GROUPS)\n",
    "        \n",
    "print mse.shape, mse1000.shape, mse2000.shape, mse3000.shape\n"
   ]
  },
  {
   "cell_type": "code",
   "execution_count": 18,
   "metadata": {
    "collapsed": false
   },
   "outputs": [
    {
     "name": "stdout",
     "output_type": "stream",
     "text": [
      "[1.452e-15, 2.0000000000000013, 4.000000000000001, 6.000000000000001, 8.0, 10.0, 12.0, 14.0, 16.0, 17.999999999999996]\n",
      "[ 0.26322368  0.26631904  0.26651439  0.26655012  0.26657727  0.26659465\n",
      "  0.26660115  0.2666117   0.26662016  0.26661766]\n",
      "[ 0.62823981  0.61012691  0.61066216  0.61086804  0.61097884  0.61104757\n",
      "  0.61109549  0.61111212  0.61114049  0.61115235]\n",
      "[ 0.42629001  0.42252764  0.4231005   0.42332816  0.42342585  0.42350551\n",
      "  0.42355883  0.42359915  0.42361873  0.42364573]\n",
      "[ 0.42621338  0.40806633  0.40871909  0.40895209  0.40906391  0.40914464\n",
      "  0.40919387  0.40922475  0.40925682  0.40927264]\n",
      "[ 0.67908251  0.65706408  0.65767628  0.65788221  0.65800905  0.65807652\n",
      "  0.65812403  0.65816981  0.65818858  0.65820575]\n",
      "[  2.54555546e+09   2.54555546e+09   2.54555546e+09   2.54555546e+09\n",
      "   2.54555546e+09   2.54555546e+09   2.54555546e+09   2.54555546e+09\n",
      "   2.54555546e+09   2.54555546e+09]\n",
      "[ 0.2827526   0.28755742  0.28769413  0.28771332  0.28773463  0.28774449\n",
      "  0.28775239  0.28775924  0.28776553  0.28776535]\n",
      "[ 0.56273496  0.54376227  0.54440469  0.5446077   0.54473549  0.54481053\n",
      "  0.5448817   0.54491597  0.54493988  0.54495943]\n",
      "[ 2.7120266   2.70658374  2.7072618   2.70748472  2.70760751  2.70768666\n",
      "  2.70773077  2.7077775   2.70780897  2.70782995]\n",
      "[ 0.52370715  0.50686026  0.50747466  0.50771582  0.50781375  0.50787467\n",
      "  0.50793236  0.50797224  0.50799072  0.50800747]\n",
      "254555546.65\n"
     ]
    }
   ],
   "source": [
    "mse1000.shape\n",
    "print rango\n",
    "print mse1000[:, 0,0]\n",
    "print mse1000[:, 1,0]\n",
    "print mse1000[:, 2,0]\n",
    "print mse1000[:, 3,0]\n",
    "print mse1000[:, 4,0]\n",
    "print mse1000[:, 5,0]\n",
    "print mse1000[:, 6,0]\n",
    "print mse1000[:, 7,0]\n",
    "print mse1000[:, 8,0]\n",
    "print mse1000[:, 9,0]\n",
    "\n",
    "lala = [0.26322368, 0.62823981, 0.42629001, 0.42621338, 0.67908251, 2.54555546e+09, 0.2827526, 0.56273496, 2.7120266,0.52370715]\n",
    "print sum(lala)/len(lala)"
   ]
  },
  {
   "cell_type": "code",
   "execution_count": 4,
   "metadata": {
    "collapsed": false
   },
   "outputs": [
    {
     "name": "stdout",
     "output_type": "stream",
     "text": [
      "[  1.90095079e+10   1.90095079e+10   1.90095079e+10   1.90095079e+10\n",
      "   1.90095079e+10   1.90095079e+10   1.90095079e+10   1.90095079e+10\n",
      "   1.90095079e+10   1.90095079e+10]\n",
      "[  3.80190144e+08   3.80190144e+08   3.80190144e+08   3.80190144e+08\n",
      "   3.80190144e+08   3.80190144e+08   3.80190144e+08   3.80190144e+08\n",
      "   3.80190144e+08   3.80190144e+08]\n",
      "[  3.80190157e+08   3.80190157e+08   3.80190157e+08   3.80190157e+08\n",
      "   3.80190157e+08   3.80190157e+08   3.80190157e+08   3.80190157e+08\n",
      "   3.80190157e+08   3.80190157e+08]\n"
     ]
    }
   ],
   "source": [
    "mean= mse.mean(axis=2).mean(axis=1)\n",
    "var = np.std(np.std(mse, axis=2), axis=1)\n",
    "\n",
    "acum = np.zeros(mse.shape[0])\n",
    "n =0\n",
    "for f in xrange(10):\n",
    "    for g in xrange(5):\n",
    "        acum = acum + mse[:, f, g]\n",
    "        n=n+1\n",
    "\n",
    "\n",
    "mean2 = acum/n\n",
    "\n",
    "print acum\n",
    "print mean\n",
    "print mean2\n"
   ]
  },
  {
   "cell_type": "code",
   "execution_count": 5,
   "metadata": {
    "collapsed": false
   },
   "outputs": [
    {
     "name": "stdout",
     "output_type": "stream",
     "text": [
      "[10000, 110000, 210000, 310000, 410000, 510000, 610000, 710000, 810000, 910000]\n",
      "[  3.35602752e+08   3.35602752e+08   3.35602752e+08   3.35602752e+08\n",
      "   3.35602752e+08   3.35602752e+08   3.35602752e+08   3.35602752e+08\n",
      "   3.35602752e+08   3.35602752e+08] (10,) (10, 10, 5)\n",
      "[  0.00000000e+00   1.28000000e+02   0.00000000e+00   7.45058060e-09\n",
      "   0.00000000e+00   1.28000000e+02   0.00000000e+00   0.00000000e+00\n",
      "   1.19209290e-07   0.00000000e+00]\n"
     ]
    }
   ],
   "source": [
    "print rango\n",
    "mean1000 = mse1000.mean(axis=2).mean(axis=1)\n",
    "var1000 = np.std(np.std(mse1000, axis=2), axis=0)\n",
    "print mean1000, mean1000.shape, mse1000.shape\n",
    "print var1000"
   ]
  },
  {
   "cell_type": "code",
   "execution_count": 6,
   "metadata": {
    "collapsed": false
   },
   "outputs": [
    {
     "name": "stdout",
     "output_type": "stream",
     "text": [
      "[10000, 110000, 210000, 310000, 410000, 510000, 610000, 710000, 810000, 910000]\n",
      "[  2.23276752e+08   2.23276752e+08   2.23276752e+08   2.23276752e+08\n",
      "   2.23276752e+08   2.23276752e+08   2.23276752e+08   2.23276752e+08\n",
      "   2.23276752e+08   2.23276752e+08] (10,) (10, 10, 5)\n",
      "[  3.05055456e+08   3.05055456e+08   3.05055456e+08   3.05055456e+08\n",
      "   3.05055456e+08   3.05055456e+08   3.05055456e+08   3.05055456e+08\n",
      "   3.05055456e+08   3.05055456e+08]\n"
     ]
    }
   ],
   "source": [
    "print rango\n",
    "mean2000 = mse2000.mean(axis=2).mean(axis=1)\n",
    "var2000 = np.std(np.std(mse2000, axis=2), axis=1)\n",
    "\n",
    "print mean2000, mean2000.shape, mse2000.shape\n",
    "\n",
    "print var2000"
   ]
  },
  {
   "cell_type": "code",
   "execution_count": 7,
   "metadata": {
    "collapsed": false
   },
   "outputs": [
    {
     "name": "stdout",
     "output_type": "stream",
     "text": [
      "(10,) [10000, 110000, 210000, 310000, 410000, 510000, 610000, 710000, 810000, 910000]\n",
      "[  3.67594656e+08   3.67594656e+08   3.67594656e+08   3.67594656e+08\n",
      "   3.67594656e+08   3.67594656e+08   3.67594656e+08   3.67594656e+08\n",
      "   3.67594656e+08   3.67594656e+08]\n",
      "[  6.26324864e+08   6.26324864e+08   6.26324864e+08   6.26324864e+08\n",
      "   6.26324864e+08   6.26324864e+08   6.26324864e+08   6.26324864e+08\n",
      "   6.26324864e+08   6.26324864e+08]\n"
     ]
    }
   ],
   "source": [
    "#rango = np.arange(100, 1001, 100)\n",
    "print mean.shape, rango\n",
    "mean3000 = mse3000.mean(axis=2).mean(axis=1)\n",
    "var3000 = np.std(np.std(mse3000, axis=2), axis=1)\n",
    "print mean3000\n",
    "print var3000"
   ]
  },
  {
   "cell_type": "code",
   "execution_count": 8,
   "metadata": {
    "collapsed": false
   },
   "outputs": [
    {
     "name": "stdout",
     "output_type": "stream",
     "text": [
      "(10,) (10, 3)\n",
      "medias= 3.8019e+08 3.35603e+08 2.23277e+08 3.67595e+08\n",
      "std= 1.03357e+09 9.10896e+08 6.16546e+08 1.01767e+09\n",
      "mean1000 [  3.35602752e+08   3.35602752e+08   3.35602752e+08   3.35602752e+08\n",
      "   3.35602752e+08   3.35602752e+08   3.35602752e+08   3.35602752e+08\n",
      "   3.35602752e+08   3.35602752e+08]\n",
      "mean2000 [  2.23276752e+08   2.23276752e+08   2.23276752e+08   2.23276752e+08\n",
      "   2.23276752e+08   2.23276752e+08   2.23276752e+08   2.23276752e+08\n",
      "   2.23276752e+08   2.23276752e+08]\n",
      "mean [  3.80190144e+08   3.80190144e+08   3.80190144e+08   3.80190144e+08\n",
      "   3.80190144e+08   3.80190144e+08   3.80190144e+08   3.80190144e+08\n",
      "   3.80190144e+08   3.80190144e+08] 3.8019e+08\n",
      "[10000, 110000, 210000, 310000, 410000, 510000, 610000, 710000, 810000, 910000]\n",
      "dir ./results/exp6/f1/lamda.201610232116/res/ created!\n"
     ]
    },
    {
     "name": "stderr",
     "output_type": "stream",
     "text": [
      "/home/leexgo1987/apps/anaconda2/lib/python2.7/site-packages/matplotlib/axes/_axes.py:531: UserWarning: No labelled objects found. Use label='...' kwarg on individual plots.\n",
      "  warnings.warn(\"No labelled objects found. \"\n"
     ]
    },
    {
     "data": {
      "image/png": "[encoded data removed]",
      "text/plain": [
       "<matplotlib.figure.Figure at 0x7f4fb5110d10>"
      ]
     },
     "metadata": {},
     "output_type": "display_data"
    }
   ],
   "source": [
    "#rango = np.arange(100, 1001, 100)\n",
    "\n",
    "mean3 = np.zeros((mean1000.shape[0], 3))\n",
    "print mean2000.shape, mean3.shape\n",
    "mean3[:, 0] = mean1000\n",
    "mean3[:, 1] = mean2000\n",
    "mean3[:, 2] = mean3000\n",
    "\n",
    "#plt.plot(rango, mean3000,'o', label='b=3000')\n",
    "#plt.plot(rango, mean1000, 'o', label='b=1000')\n",
    "#plt.plot(rango, mean2000,'o', label='b=2000')\n",
    "#plt.plot(rango, mean3.mean(axis=1),'o', label='b=all')\n",
    "#plt.plot(rango, mean,'o', label='b=all')\n",
    "\n",
    "#plt.plot(rango, mean+var,'o', label='b=all')\n",
    "#plt.plot(rango, mean-var,'o', label='b=all')\n",
    "\n",
    "#plt.errorbar(rango, mean, yerr=var, fmt='o', label='b=all')\n",
    "plt.errorbar(rango, mean3.mean(axis=1), yerr=np.std(mean3, axis=1), fmt='o')\n",
    "\n",
    "\n",
    "plt.legend()\n",
    "plt.ylabel('MSE(Yhr,^Yhr)')\n",
    "plt.xlabel(parameter_name)\n",
    "#plt.legend(lala , loc=2, bbox_to_anchor=(1, 0.5))\n",
    "#plt.ylim((1102000.0, 1102300.0))\n",
    "mse[:,2,1]\n",
    "#print plt.ylim((940000000.0, 960000000.0))\n",
    "\n",
    "print 'medias=',mse.mean(),mse1000.mean(), mse2000.mean(), mse3000.mean() \n",
    "print 'std=',np.std(mse),np.std(mse1000), np.std(mse2000), np.std(mse3000) \n",
    "print 'mean1000', mean1000\n",
    "print 'mean2000', mean2000\n",
    "print 'mean', mean, mean.min()\n",
    "print rango\n",
    "\n",
    "import os\n",
    "if not os.path.exists(base_folder+ 'res/'):\n",
    "    try:\n",
    "        os.makedirs(base_folder+ 'res/')\n",
    "        print 'dir', base_folder+ 'res/', 'created!' \n",
    "    except OSError, e :\n",
    "        print str(e)\n",
    "\n",
    "\n",
    "## Para grabar\n",
    "plt.savefig(base_folder+ 'res/'+parameter_name+'_mean_var_idjob'+idjob+'.pdf')"
   ]
  },
  {
   "cell_type": "markdown",
   "metadata": {},
   "source": [
    "# Dibujando la reconstruida\n"
   ]
  },
  {
   "cell_type": "code",
   "execution_count": 9,
   "metadata": {
    "collapsed": false
   },
   "outputs": [
    {
     "ename": "IOError",
     "evalue": "[Errno 2] No such file or directory: './results/exp6/f1/lamda.201610232116/A_g0_val0.npy'",
     "output_type": "error",
     "traceback": [
      "\u001b[0;31m---------------------------------------------------------------------------\u001b[0m",
      "\u001b[0;31mIOError\u001b[0m                                   Traceback (most recent call last)",
      "\u001b[0;32m<ipython-input-9-e51ab7be4f0a>\u001b[0m in \u001b[0;36m<module>\u001b[0;34m()\u001b[0m\n\u001b[1;32m      5\u001b[0m     \u001b[0;32mfor\u001b[0m \u001b[0mi_val\u001b[0m \u001b[0;32min\u001b[0m \u001b[0mxrange\u001b[0m\u001b[0;34m(\u001b[0m\u001b[0mlen\u001b[0m\u001b[0;34m(\u001b[0m\u001b[0mrango\u001b[0m\u001b[0;34m)\u001b[0m\u001b[0;34m)\u001b[0m\u001b[0;34m:\u001b[0m\u001b[0;34m\u001b[0m\u001b[0m\n\u001b[1;32m      6\u001b[0m         \u001b[0mval\u001b[0m \u001b[0;34m=\u001b[0m \u001b[0mrango\u001b[0m\u001b[0;34m[\u001b[0m\u001b[0mi_val\u001b[0m\u001b[0;34m]\u001b[0m\u001b[0;34m\u001b[0m\u001b[0m\n\u001b[0;32m----> 7\u001b[0;31m         \u001b[0mA\u001b[0m \u001b[0;34m=\u001b[0m \u001b[0mnp\u001b[0m\u001b[0;34m.\u001b[0m\u001b[0mload\u001b[0m\u001b[0;34m(\u001b[0m\u001b[0mname_tmp3\u001b[0m\u001b[0;34m%\u001b[0m\u001b[0;34m(\u001b[0m\u001b[0mg\u001b[0m\u001b[0;34m,\u001b[0m\u001b[0mi_val\u001b[0m\u001b[0;34m)\u001b[0m\u001b[0;34m)\u001b[0m\u001b[0;34m\u001b[0m\u001b[0m\n\u001b[0m\u001b[1;32m      8\u001b[0m         \u001b[0;32mprint\u001b[0m \u001b[0mmm\u001b[0m\u001b[0;34m(\u001b[0m\u001b[0mA\u001b[0m\u001b[0;34m,\u001b[0m \u001b[0mcast_int\u001b[0m\u001b[0;34m=\u001b[0m\u001b[0mFalse\u001b[0m\u001b[0;34m)\u001b[0m\u001b[0;34m\u001b[0m\u001b[0m\n\u001b[1;32m      9\u001b[0m         \u001b[0mplt\u001b[0m \u001b[0;34m=\u001b[0m \u001b[0miu\u001b[0m\u001b[0;34m.\u001b[0m\u001b[0m_is\u001b[0m\u001b[0;34m(\u001b[0m\u001b[0mA\u001b[0m\u001b[0;34m,\u001b[0m \u001b[0mvmin\u001b[0m\u001b[0;34m=\u001b[0m\u001b[0;36m0\u001b[0m\u001b[0;34m,\u001b[0m \u001b[0mvmax\u001b[0m\u001b[0;34m=\u001b[0m\u001b[0;36m1.5\u001b[0m\u001b[0;34m)\u001b[0m\u001b[0;34m\u001b[0m\u001b[0m\n",
      "\u001b[0;32m/home/leexgo1987/apps/anaconda2/lib/python2.7/site-packages/numpy/lib/npyio.pyc\u001b[0m in \u001b[0;36mload\u001b[0;34m(file, mmap_mode, allow_pickle, fix_imports, encoding)\u001b[0m\n\u001b[1;32m    360\u001b[0m     \u001b[0mown_fid\u001b[0m \u001b[0;34m=\u001b[0m \u001b[0mFalse\u001b[0m\u001b[0;34m\u001b[0m\u001b[0m\n\u001b[1;32m    361\u001b[0m     \u001b[0;32mif\u001b[0m \u001b[0misinstance\u001b[0m\u001b[0;34m(\u001b[0m\u001b[0mfile\u001b[0m\u001b[0;34m,\u001b[0m \u001b[0mbasestring\u001b[0m\u001b[0;34m)\u001b[0m\u001b[0;34m:\u001b[0m\u001b[0;34m\u001b[0m\u001b[0m\n\u001b[0;32m--> 362\u001b[0;31m         \u001b[0mfid\u001b[0m \u001b[0;34m=\u001b[0m \u001b[0mopen\u001b[0m\u001b[0;34m(\u001b[0m\u001b[0mfile\u001b[0m\u001b[0;34m,\u001b[0m \u001b[0;34m\"rb\"\u001b[0m\u001b[0;34m)\u001b[0m\u001b[0;34m\u001b[0m\u001b[0m\n\u001b[0m\u001b[1;32m    363\u001b[0m         \u001b[0mown_fid\u001b[0m \u001b[0;34m=\u001b[0m \u001b[0mTrue\u001b[0m\u001b[0;34m\u001b[0m\u001b[0m\n\u001b[1;32m    364\u001b[0m     \u001b[0;32melse\u001b[0m\u001b[0;34m:\u001b[0m\u001b[0;34m\u001b[0m\u001b[0m\n",
      "\u001b[0;31mIOError\u001b[0m: [Errno 2] No such file or directory: './results/exp6/f1/lamda.201610232116/A_g0_val0.npy'"
     ]
    }
   ],
   "source": [
    "name_tmp3 = base_folder + 'A_g%d_val%d.npy'\n",
    "\n",
    "for g in xrange(GROUPS):\n",
    "    #if g == 0 : continue\n",
    "    for i_val in xrange(len(rango)):\n",
    "        val = rango[i_val]\n",
    "        A = np.load(name_tmp3%(g,i_val))\n",
    "        print mm(A, cast_int=False)\n",
    "        plt = iu._is(A, vmin=0, vmax=1.5)\n",
    "        name_img = ('A_g%d_val%d.npy'%(g, i_val))[:-3]\n",
    "        print name_img\n",
    "        plt.savefig(base_folder+ '/res/'+name_img +'png')"
   ]
  },
  {
   "cell_type": "code",
   "execution_count": 41,
   "metadata": {
    "collapsed": false
   },
   "outputs": [
    {
     "name": "stdout",
     "output_type": "stream",
     "text": [
      "(-0.92224073, 1.343827)\n",
      "B_g0_val0.\n",
      "(-0.92224073, 1.343827)\n",
      "B_g0_val1.\n",
      "(-0.92224073, 1.343827)\n",
      "B_g0_val2.\n",
      "(-0.92224073, 1.343827)\n",
      "B_g0_val3.\n",
      "(-0.92224073, 1.343827)\n",
      "B_g0_val4.\n",
      "(-0.92224073, 1.343827)\n",
      "B_g0_val5.\n",
      "(-0.92224073, 1.343827)\n",
      "B_g0_val6.\n",
      "(-0.92224073, 1.343827)\n",
      "B_g0_val7.\n",
      "(-0.92224073, 1.343827)\n",
      "B_g0_val8.\n",
      "(-0.92224073, 1.343827)\n",
      "B_g0_val9.\n",
      "(-0.85085988, 1.2274051)\n",
      "B_g1_val0.\n",
      "(-0.85085988, 1.2272801)\n",
      "B_g1_val1.\n",
      "(-0.85085988, 1.2274028)\n",
      "B_g1_val2.\n",
      "(-0.85085988, 1.227369)\n",
      "B_g1_val3.\n",
      "(-0.85085988, 1.227397)\n",
      "B_g1_val4.\n",
      "(-0.85085988, 1.2273383)\n",
      "B_g1_val5.\n",
      "(-0.85085988, 1.2273749)\n",
      "B_g1_val6.\n",
      "(-0.85085988, 1.2272825)\n",
      "B_g1_val7.\n",
      "(-0.85085988, 1.2274517)\n",
      "B_g1_val8.\n",
      "(-0.85085988, 1.227321)\n",
      "B_g1_val9.\n",
      "(-1.1959814, 1.4961655)\n",
      "B_g2_val0.\n",
      "(-1.1959814, 1.4961655)\n",
      "B_g2_val1.\n",
      "(-1.1959814, 1.4961655)\n",
      "B_g2_val2.\n",
      "(-1.1959814, 1.4961655)\n",
      "B_g2_val3.\n",
      "(-1.1959814, 1.4961655)\n",
      "B_g2_val4.\n",
      "(-1.1959814, 1.4961655)\n",
      "B_g2_val5.\n",
      "(-1.1959814, 1.4961655)\n",
      "B_g2_val6.\n",
      "(-1.1959814, 1.4961655)\n",
      "B_g2_val7.\n",
      "(-1.1959814, 1.4961655)\n",
      "B_g2_val8.\n",
      "(-1.1959814, 1.4961655)\n",
      "B_g2_val9.\n",
      "(-1.2509645, 2.1219046)\n",
      "B_g3_val0.\n",
      "(-1.2509645, 2.1218252)\n",
      "B_g3_val1.\n",
      "(-1.2509645, 2.1219049)\n",
      "B_g3_val2.\n",
      "(-1.2509645, 2.1219044)\n",
      "B_g3_val3.\n",
      "(-1.2509645, 2.121912)\n",
      "B_g3_val4.\n",
      "(-1.2509645, 2.1219046)\n",
      "B_g3_val5.\n",
      "(-1.2509645, 2.1219041)\n",
      "B_g3_val6.\n",
      "(-1.2509645, 2.1219122)\n",
      "B_g3_val7.\n",
      "(-1.2509645, 2.1219132)\n",
      "B_g3_val8.\n",
      "(-1.2509645, 2.1218576)\n",
      "B_g3_val9.\n",
      "(-1.2013435, 1.4959764)\n",
      "B_g4_val0.\n",
      "(-1.2013435, 1.4960431)\n",
      "B_g4_val1.\n",
      "(-1.2013435, 1.4959763)\n",
      "B_g4_val2.\n",
      "(-1.2013435, 1.4960443)\n",
      "B_g4_val3.\n",
      "(-1.2013435, 1.4959821)\n",
      "B_g4_val4.\n",
      "(-1.2013435, 1.4960418)\n",
      "B_g4_val5.\n",
      "(-1.2013435, 1.496044)\n",
      "B_g4_val6.\n",
      "(-1.2013435, 1.4960215)\n",
      "B_g4_val7.\n",
      "(-1.2013435, 1.4962734)\n",
      "B_g4_val8.\n",
      "(-1.2013435, 1.4960471)\n",
      "B_g4_val9.\n"
     ]
    },
    {
     "data": {
      "image/png": "[encoded data removed]",
      "text/plain": [
       "<matplotlib.figure.Figure at 0x7fed3778dd50>"
      ]
     },
     "metadata": {},
     "output_type": "display_data"
    }
   ],
   "source": [
    "name_tmp3 = base_folder + 'B_g%d_val%d.npy'\n",
    "\n",
    "for g in xrange(GROUPS):\n",
    "    #if g == 0 : continue\n",
    "    for i_val in xrange(len(rango)):\n",
    "        val = rango[i_val]\n",
    "        A = np.load(name_tmp3%(g,i_val))\n",
    "        print mm(A, cast_int=False)\n",
    "        plt = iu._is(A, vmin=0, vmax=1.5)\n",
    "        name_img = ('B_g%d_val%d.npy'%(g, i_val))[:-3]\n",
    "        print name_img\n",
    "        plt.savefig(base_folder+ '/res/'+name_img +'png')"
   ]
  },
  {
   "cell_type": "markdown",
   "metadata": {},
   "source": [
    "# Dibujando la original\n"
   ]
  },
  {
   "cell_type": "code",
   "execution_count": 48,
   "metadata": {
    "collapsed": false
   },
   "outputs": [
    {
     "name": "stdout",
     "output_type": "stream",
     "text": [
      "./results/exp6pixel/f1/lamda.201610201227/i_hr_g0_103111.npy\n"
     ]
    },
    {
     "ename": "IOError",
     "evalue": "[Errno 2] No such file or directory: './results/exp6pixel/f1/lamda.201610201227/i_hr_g0_103111.npy'",
     "output_type": "error",
     "traceback": [
      "\u001b[0;31m------------------\u001b[0m",
      "\u001b[0;31mIOError\u001b[0mTraceback (most recent call last)",
      "\u001b[0;32m<ipython-input-48-889099f443ce>\u001b[0m in \u001b[0;36m<module>\u001b[0;34m()\u001b[0m\n\u001b[1;32m      6\u001b[0m     \u001b[0;31m#if g == 0 : continue\u001b[0m\u001b[0;34m\u001b[0m\u001b[0;34m\u001b[0m\u001b[0m\n\u001b[1;32m      7\u001b[0m     \u001b[0;32mprint\u001b[0m \u001b[0mname_tmp4\u001b[0m\u001b[0;34m%\u001b[0m\u001b[0;34m(\u001b[0m\u001b[0mg\u001b[0m\u001b[0;34m,\u001b[0m\u001b[0msubjetc_fited\u001b[0m\u001b[0;34m[\u001b[0m\u001b[0mg\u001b[0m\u001b[0;34m]\u001b[0m\u001b[0;34m)\u001b[0m\u001b[0;34m\u001b[0m\u001b[0m\n\u001b[0;32m----> 8\u001b[0;31m     \u001b[0mA\u001b[0m \u001b[0;34m=\u001b[0m \u001b[0mnp\u001b[0m\u001b[0;34m.\u001b[0m\u001b[0mload\u001b[0m\u001b[0;34m(\u001b[0m\u001b[0mname_tmp4\u001b[0m\u001b[0;34m%\u001b[0m\u001b[0;34m(\u001b[0m\u001b[0mg\u001b[0m\u001b[0;34m,\u001b[0m\u001b[0msubjetc_fited\u001b[0m\u001b[0;34m[\u001b[0m\u001b[0mg\u001b[0m\u001b[0;34m]\u001b[0m\u001b[0;34m)\u001b[0m\u001b[0;34m)\u001b[0m\u001b[0;34m\u001b[0m\u001b[0m\n\u001b[0m\u001b[1;32m      9\u001b[0m     \u001b[0;32mprint\u001b[0m \u001b[0mmm\u001b[0m\u001b[0;34m(\u001b[0m\u001b[0mA\u001b[0m\u001b[0;34m,\u001b[0m \u001b[0mcast_int\u001b[0m\u001b[0;34m=\u001b[0m\u001b[0mFalse\u001b[0m\u001b[0;34m)\u001b[0m\u001b[0;34m\u001b[0m\u001b[0m\n\u001b[1;32m     10\u001b[0m     \u001b[0mplt\u001b[0m \u001b[0;34m=\u001b[0m \u001b[0miu\u001b[0m\u001b[0;34m.\u001b[0m\u001b[0m_is\u001b[0m\u001b[0;34m(\u001b[0m\u001b[0mA\u001b[0m\u001b[0;34m,\u001b[0m \u001b[0mvmin\u001b[0m\u001b[0;34m=\u001b[0m\u001b[0;36m0\u001b[0m\u001b[0;34m,\u001b[0m \u001b[0mvmax\u001b[0m\u001b[0;34m=\u001b[0m\u001b[0;36m1.5\u001b[0m\u001b[0;34m)\u001b[0m\u001b[0;34m\u001b[0m\u001b[0m\n",
      "\u001b[0;32m/home/leexgo1987/apps/anaconda2/lib/python2.7/site-packages/numpy/lib/npyio.pyc\u001b[0m in \u001b[0;36mload\u001b[0;34m(file, mmap_mode, allow_pickle, fix_imports, encoding)\u001b[0m\n\u001b[1;32m    360\u001b[0m     \u001b[0mown_fid\u001b[0m \u001b[0;34m=\u001b[0m \u001b[0mFalse\u001b[0m\u001b[0;34m\u001b[0m\u001b[0m\n\u001b[1;32m    361\u001b[0m     \u001b[0;32mif\u001b[0m \u001b[0misinstance\u001b[0m\u001b[0;34m(\u001b[0m\u001b[0mfile\u001b[0m\u001b[0;34m,\u001b[0m \u001b[0mbasestring\u001b[0m\u001b[0;34m)\u001b[0m\u001b[0;34m:\u001b[0m\u001b[0;34m\u001b[0m\u001b[0m\n\u001b[0;32m--> 362\u001b[0;31m         \u001b[0mfid\u001b[0m \u001b[0;34m=\u001b[0m \u001b[0mopen\u001b[0m\u001b[0;34m(\u001b[0m\u001b[0mfile\u001b[0m\u001b[0;34m,\u001b[0m \u001b[0;34m\"rb\"\u001b[0m\u001b[0;34m)\u001b[0m\u001b[0;34m\u001b[0m\u001b[0m\n\u001b[0m\u001b[1;32m    363\u001b[0m         \u001b[0mown_fid\u001b[0m \u001b[0;34m=\u001b[0m \u001b[0mTrue\u001b[0m\u001b[0;34m\u001b[0m\u001b[0m\n\u001b[1;32m    364\u001b[0m     \u001b[0;32melse\u001b[0m\u001b[0;34m:\u001b[0m\u001b[0;34m\u001b[0m\u001b[0m\n",
      "\u001b[0;31mIOError\u001b[0m: [Errno 2] No such file or directory: './results/exp6pixel/f1/lamda.201610201227/i_hr_g0_103111.npy'"
     ]
    }
   ],
   "source": [
    "#subjetc_fited = [103111, 101006, 101107, 101915,102816]\n",
    "del(subject_fited)\n",
    "subject_fited = [105115, 101006, 101107, 101915, 102816]\n",
    "name_tmp4 = base_folder + 'i_hr_g%d_%d.npy'\n",
    "for g in xrange(5):\n",
    "    #if g == 0 : continue\n",
    "    print name_tmp4%(g,subjetc_fited[g])\n",
    "    A = np.load(name_tmp4%(g,subjetc_fited[g]))\n",
    "    print mm(A, cast_int=False)\n",
    "    plt = iu._is(A, vmin=0, vmax=1.5)\n",
    "    name_img = ('i_hr_g%d_%d.png'%(g, subjetc_fited[g]))[:-3]\n",
    "    print name_img\n",
    "    plt.savefig(base_folder + '/res/' +name_img)"
   ]
  },
  {
   "cell_type": "markdown",
   "metadata": {},
   "source": [
    "# Dibujando la upsampleada antes de minimizar\n"
   ]
  },
  {
   "cell_type": "code",
   "execution_count": 49,
   "metadata": {
    "collapsed": false
   },
   "outputs": [
    {
     "name": "stdout",
     "output_type": "stream",
     "text": [
      "(0.00053765206, 4247856.0)\n",
      "i_hr_fake_g0.\n",
      "(0.00018188616, 2.9902432)\n",
      "i_hr_fake_g1.\n",
      "(0.0, 2.2149892)\n",
      "i_hr_fake_g2.\n",
      "(0.00099337357, 2.8161852)\n",
      "i_hr_fake_g3.\n",
      "(0.0024674172, 3.1205568)\n",
      "i_hr_fake_g4.\n"
     ]
    },
    {
     "data": {
      "image/png": "[encoded data removed]",
      "text/plain": [
       "<matplotlib.figure.Figure at 0x7fed37c385d0>"
      ]
     },
     "metadata": {},
     "output_type": "display_data"
    }
   ],
   "source": [
    "name_tmp4 = base_folder + 'i_hr_fake_g%d.npy'\n",
    "for g in xrange(5):\n",
    "    #if g == 0 : continue\n",
    "    A = np.load(name_tmp4%(g,))\n",
    "    print mm(A, cast_int=False)\n",
    "    plt = iu._is(A, vmin=0, vmax=1.5)\n",
    "    name_img = ('i_hr_fake_g%d.png'%(g,))[:-3]\n",
    "    print name_img\n",
    "    plt.savefig(base_folder + '/res/' +name_img)"
   ]
  },
  {
   "cell_type": "code",
   "execution_count": null,
   "metadata": {
    "collapsed": true
   },
   "outputs": [],
   "source": []
  },
  {
   "cell_type": "code",
   "execution_count": null,
   "metadata": {
    "collapsed": true
   },
   "outputs": [],
   "source": []
  },
  {
   "cell_type": "code",
   "execution_count": 58,
   "metadata": {
    "collapsed": false
   },
   "outputs": [
    {
     "data": {
      "image/png": "[encoded data removed]",
      "text/plain": [
       "<matplotlib.figure.Figure at 0x7ffa97f7bb10>"
      ]
     },
     "metadata": {},
     "output_type": "display_data"
    }
   ],
   "source": [
    "## Para grabar\n",
    "g=4\n",
    "for g in xrange(1):\n",
    "    for i in xrange(1):\n",
    "        a = plt.plot(rango, mse[:, i, g],'o')\n",
    "    #plt.savefig('/user/lgomez/home/workspace/iqt/results/exp6/gammas/gamma_g'+str(g)+'_f'+str(i)+'.png')\n",
    "    \n",
    "    \n",
    "#plt.savefig('/user/lgomez/home/workspace/iqt/results/exp6/gammas/gamma_all.png')\n",
    "    "
   ]
  },
  {
   "cell_type": "code",
   "execution_count": 56,
   "metadata": {
    "collapsed": false
   },
   "outputs": [
    {
     "data": {
      "image/png": "[encoded data removed]",
      "text/plain": [
       "<matplotlib.figure.Figure at 0x7efdbb3ad3d0>"
      ]
     },
     "metadata": {},
     "output_type": "display_data"
    }
   ],
   "source": [
    "cluster = '1'\n",
    "if cluster == '0':\n",
    "    plt.plot(rango, mse[:, 0, 0],'o')\n",
    "    plt.plot(rango, mse[:, 6, 0],'o')\n",
    "    plt.plot(rango, mse[:, 7, 0],'o')\n",
    "\n",
    "if cluster == '1':\n",
    "    plt.plot(rango, mse[:, 1, 1],'o')\n",
    "    plt.plot(rango, mse[:, 2, 1],'o')\n",
    "    #plt.plot(rango, mse[:, 3, 0],'o')\n",
    "    plt.plot(rango, mse[:, 4, 1],'o')\n",
    "    plt.plot(rango, mse[:, 5, 1],'o')\n",
    "    plt.plot(rango, mse[:, 8, 1],'o')\n",
    "\n"
   ]
  },
  {
   "cell_type": "code",
   "execution_count": 61,
   "metadata": {
    "collapsed": false
   },
   "outputs": [
    {
     "ename": "TypeError",
     "evalue": "not enough arguments for format string",
     "output_type": "error",
     "traceback": [
      "\u001b[0;31m---------------------------------------------------------------------------\u001b[0m",
      "\u001b[0;31mTypeError\u001b[0m                                 Traceback (most recent call last)",
      "\u001b[0;32m<ipython-input-61-203f5e33c352>\u001b[0m in \u001b[0;36m<module>\u001b[0;34m()\u001b[0m\n\u001b[1;32m      1\u001b[0m \u001b[0mname_tmp4\u001b[0m \u001b[0;34m=\u001b[0m \u001b[0mbase_folder\u001b[0m \u001b[0;34m+\u001b[0m \u001b[0;34m'i_hr_g%d.npy'\u001b[0m\u001b[0;34m\u001b[0m\u001b[0m\n\u001b[1;32m      2\u001b[0m \u001b[0;32mfor\u001b[0m \u001b[0mg\u001b[0m \u001b[0;32min\u001b[0m \u001b[0mxrange\u001b[0m\u001b[0;34m(\u001b[0m\u001b[0;36m5\u001b[0m\u001b[0;34m)\u001b[0m\u001b[0;34m:\u001b[0m\u001b[0;34m\u001b[0m\u001b[0m\n\u001b[0;32m----> 3\u001b[0;31m     \u001b[0mA\u001b[0m \u001b[0;34m=\u001b[0m \u001b[0mnp\u001b[0m\u001b[0;34m.\u001b[0m\u001b[0mload\u001b[0m\u001b[0;34m(\u001b[0m\u001b[0mname_tmp3\u001b[0m\u001b[0;34m%\u001b[0m\u001b[0;34m(\u001b[0m\u001b[0mg\u001b[0m\u001b[0;34m,\u001b[0m\u001b[0;34m)\u001b[0m\u001b[0;34m)\u001b[0m\u001b[0;34m\u001b[0m\u001b[0m\n\u001b[0m\u001b[1;32m      4\u001b[0m     \u001b[0mi_hr\u001b[0m \u001b[0;34m=\u001b[0m \u001b[0mnp\u001b[0m\u001b[0;34m.\u001b[0m\u001b[0mload\u001b[0m\u001b[0;34m(\u001b[0m\u001b[0mname_tmp4\u001b[0m\u001b[0;34m%\u001b[0m\u001b[0;34m(\u001b[0m\u001b[0mg\u001b[0m\u001b[0;34m,\u001b[0m\u001b[0;34m)\u001b[0m\u001b[0;34m)\u001b[0m\u001b[0;34m\u001b[0m\u001b[0m\n\u001b[1;32m      5\u001b[0m     \u001b[0;31m#print mm(A, cast_int=False)\u001b[0m\u001b[0;34m\u001b[0m\u001b[0;34m\u001b[0m\u001b[0m\n",
      "\u001b[0;31mTypeError\u001b[0m: not enough arguments for format string"
     ]
    }
   ],
   "source": [
    "name_tmp4 = base_folder + 'i_hr_g%d.npy'\n",
    "for g in xrange(5):\n",
    "    A = np.load(name_tmp3%(g,))\n",
    "    i_hr = np.load(name_tmp4%(g,))\n",
    "    #print mm(A, cast_int=False)\n",
    "    plt = iu._isc(A,i_hr, vmin=0, vmax=1, titles=['reconstructed', 'original'])\n",
    "    name_img = base_folder + ('cmp_g%d'%(g))\n",
    "    print name_img\n",
    "    plt.savefig(name_img +'.png')"
   ]
  },
  {
   "cell_type": "code",
   "execution_count": 9,
   "metadata": {
    "collapsed": false
   },
   "outputs": [
    {
     "ename": "IOError",
     "evalue": "[Errno 2] No such file or directory: './results/exp6/f1/gamma/A_g0_lamda910000.npy'",
     "output_type": "error",
     "traceback": [
      "\u001b[1;31m---------------------------------------------------------------------------\u001b[0m",
      "\u001b[1;31mIOError\u001b[0m                                   Traceback (most recent call last)",
      "\u001b[1;32m<ipython-input-9-bbce10d412d8>\u001b[0m in \u001b[0;36m<module>\u001b[1;34m()\u001b[0m\n\u001b[0;32m      1\u001b[0m \u001b[0mi_hr\u001b[0m \u001b[1;33m=\u001b[0m \u001b[0mnp\u001b[0m\u001b[1;33m.\u001b[0m\u001b[0mload\u001b[0m\u001b[1;33m(\u001b[0m\u001b[0mbase_folder\u001b[0m\u001b[1;33m+\u001b[0m\u001b[1;34m'i_hr_g0.npy'\u001b[0m\u001b[1;33m)\u001b[0m\u001b[1;33m\u001b[0m\u001b[0m\n\u001b[1;32m----> 2\u001b[1;33m \u001b[0mA910000\u001b[0m \u001b[1;33m=\u001b[0m \u001b[0mnp\u001b[0m\u001b[1;33m.\u001b[0m\u001b[0mload\u001b[0m\u001b[1;33m(\u001b[0m\u001b[0mbase_folder\u001b[0m\u001b[1;33m+\u001b[0m\u001b[1;34m'A_g0_lamda910000.npy'\u001b[0m\u001b[1;33m)\u001b[0m\u001b[1;33m\u001b[0m\u001b[0m\n\u001b[0m\u001b[0;32m      3\u001b[0m \u001b[0miu\u001b[0m\u001b[1;33m.\u001b[0m\u001b[0m_isc\u001b[0m\u001b[1;33m(\u001b[0m\u001b[0mA910000\u001b[0m\u001b[1;33m,\u001b[0m\u001b[0mi_hr\u001b[0m\u001b[1;33m,\u001b[0m \u001b[0mvmax\u001b[0m\u001b[1;33m=\u001b[0m\u001b[1;36m1.4\u001b[0m\u001b[1;33m)\u001b[0m\u001b[1;33m\u001b[0m\u001b[0m\n\u001b[0;32m      4\u001b[0m \u001b[0mA910000\u001b[0m\u001b[1;33m.\u001b[0m\u001b[0mmin\u001b[0m\u001b[1;33m(\u001b[0m\u001b[1;33m)\u001b[0m\u001b[1;33m,\u001b[0m \u001b[0mA910000\u001b[0m\u001b[1;33m.\u001b[0m\u001b[0mmax\u001b[0m\u001b[1;33m(\u001b[0m\u001b[1;33m)\u001b[0m\u001b[1;33m,\u001b[0m \u001b[0mA910000\u001b[0m\u001b[1;33m.\u001b[0m\u001b[0mshape\u001b[0m\u001b[1;33m\u001b[0m\u001b[0m\n\u001b[0;32m      5\u001b[0m \u001b[1;32mdel\u001b[0m\u001b[1;33m(\u001b[0m\u001b[0mA100\u001b[0m\u001b[1;33m)\u001b[0m\u001b[1;33m\u001b[0m\u001b[0m\n",
      "\u001b[1;32m/user/lgomez/home/anaconda2/lib/python2.7/site-packages/numpy/lib/npyio.pyc\u001b[0m in \u001b[0;36mload\u001b[1;34m(file, mmap_mode, allow_pickle, fix_imports, encoding)\u001b[0m\n\u001b[0;32m    360\u001b[0m     \u001b[0mown_fid\u001b[0m \u001b[1;33m=\u001b[0m \u001b[0mFalse\u001b[0m\u001b[1;33m\u001b[0m\u001b[0m\n\u001b[0;32m    361\u001b[0m     \u001b[1;32mif\u001b[0m \u001b[0misinstance\u001b[0m\u001b[1;33m(\u001b[0m\u001b[0mfile\u001b[0m\u001b[1;33m,\u001b[0m \u001b[0mbasestring\u001b[0m\u001b[1;33m)\u001b[0m\u001b[1;33m:\u001b[0m\u001b[1;33m\u001b[0m\u001b[0m\n\u001b[1;32m--> 362\u001b[1;33m         \u001b[0mfid\u001b[0m \u001b[1;33m=\u001b[0m \u001b[0mopen\u001b[0m\u001b[1;33m(\u001b[0m\u001b[0mfile\u001b[0m\u001b[1;33m,\u001b[0m \u001b[1;34m\"rb\"\u001b[0m\u001b[1;33m)\u001b[0m\u001b[1;33m\u001b[0m\u001b[0m\n\u001b[0m\u001b[0;32m    363\u001b[0m         \u001b[0mown_fid\u001b[0m \u001b[1;33m=\u001b[0m \u001b[0mTrue\u001b[0m\u001b[1;33m\u001b[0m\u001b[0m\n\u001b[0;32m    364\u001b[0m     \u001b[1;32melse\u001b[0m\u001b[1;33m:\u001b[0m\u001b[1;33m\u001b[0m\u001b[0m\n",
      "\u001b[1;31mIOError\u001b[0m: [Errno 2] No such file or directory: './results/exp6/f1/gamma/A_g0_lamda910000.npy'"
     ]
    }
   ],
   "source": [
    "i_hr = np.load(base_folder+'i_hr_g0.npy')\n",
    "A910000 = np.load(base_folder+'A_g0_lamda910000.npy')\n",
    "iu._isc(A910000,i_hr, vmax=1.4)\n",
    "A910000.min(), A910000.max(), A910000.shape\n",
    "del(A100)"
   ]
  },
  {
   "cell_type": "code",
   "execution_count": 16,
   "metadata": {
    "collapsed": false
   },
   "outputs": [
    {
     "data": {
      "text/plain": [
       "(0.0, 2729.8464)"
      ]
     },
     "execution_count": 16,
     "metadata": {},
     "output_type": "execute_result"
    },
    {
     "data": {
      "image/png": "[encoded data removed]",
      "text/plain": [
       "<matplotlib.figure.Figure at 0x7fe8ed7d0bd0>"
      ]
     },
     "metadata": {},
     "output_type": "display_data"
    }
   ],
   "source": [
    "iu._is(i_hr, vmax=2729)\n",
    "i_hr.min(),i_hr.max()"
   ]
  },
  {
   "cell_type": "code",
   "execution_count": 51,
   "metadata": {
    "collapsed": false
   },
   "outputs": [
    {
     "data": {
      "text/plain": [
       "(-1.5125681573504312e-05, 1.4016132523250628, (12, 12, 12, 270))"
      ]
     },
     "execution_count": 51,
     "metadata": {},
     "output_type": "execute_result"
    },
    {
     "data": {
      "image/png": "[encoded data removed]",
      "text/plain": [
       "<matplotlib.figure.Figure at 0x7f70534ef510>"
      ]
     },
     "metadata": {},
     "output_type": "display_data"
    }
   ],
   "source": [
    "A1000 = np.load(base_folder+'A_g0_lamda1000.npy')\n",
    "iu._is(A1000, vmax=A1000.max())\n",
    "A1000.min(), A1000.max(), A1000.shape"
   ]
  },
  {
   "cell_type": "code",
   "execution_count": 51,
   "metadata": {
    "collapsed": false
   },
   "outputs": [
    {
     "data": {
      "text/plain": [
       "(-1.5125681573504312e-05, 1.4016132523250628, (12, 12, 12, 270))"
      ]
     },
     "execution_count": 51,
     "metadata": {},
     "output_type": "execute_result"
    },
    {
     "data": {
      "image/png": "[encoded data removed]",
      "text/plain": [
       "<matplotlib.figure.Figure at 0x7fa9b5b34e10>"
      ]
     },
     "metadata": {},
     "output_type": "display_data"
    }
   ],
   "source": [
    "A1000 = np.load(base_folder+'A_g0_lamda3000.npy')\n",
    "iu._is(A1000, vmax=A1000.max())\n",
    "A1000.min(), A1000.max(), A1000.shape"
   ]
  },
  {
   "cell_type": "code",
   "execution_count": 30,
   "metadata": {
    "collapsed": false
   },
   "outputs": [
    {
     "name": "stdout",
     "output_type": "stream",
     "text": [
      "[1000, 2000, 3000, 4000, 5000, 6000, 7000, 8000, 9000, 10000]\n"
     ]
    }
   ],
   "source": [
    "alala = []\n",
    "for val in rango :\n",
    "    alala.append(val)\n",
    "    \n",
    "print alala"
   ]
  }
 ],
 "metadata": {
  "anaconda-cloud": {},
  "kernelspec": {
   "display_name": "Python [default]",
   "language": "python",
   "name": "python2"
  },
  "language_info": {
   "codemirror_mode": {
    "name": "ipython",
    "version": 2
   },
   "file_extension": ".py",
   "mimetype": "text/x-python",
   "name": "python",
   "nbconvert_exporter": "python",
   "pygments_lexer": "ipython2",
   "version": "2.7.12"
  }
 },
 "nbformat": 4,
 "nbformat_minor": 0
}
