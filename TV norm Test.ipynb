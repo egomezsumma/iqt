{
 "cells": [
  {
   "cell_type": "markdown",
   "metadata": {},
   "source": [
    "# TV norm test\n"
   ]
  },
  {
   "cell_type": "code",
   "execution_count": 8,
   "metadata": {
    "collapsed": false
   },
   "outputs": [
    {
     "name": "stdout",
     "output_type": "stream",
     "text": [
      "Populating the interactive namespace from numpy and matplotlib\n"
     ]
    }
   ],
   "source": [
    "%pylab inline\n",
    "from dipy.viz import fvtk\n",
    "from dipy.core.gradients import gradient_table\n",
    "import matplotlib.pyplot as plt\n",
    "from mpl_toolkits.axes_grid1 import make_axes_locatable\n",
    "import datetime\n",
    "import time\n",
    "import numpy as np\n",
    "import matplotlib.pyplot as plt\n",
    "from utils import img_utils\n",
    "import seaborn as sns"
   ]
  },
  {
   "cell_type": "code",
   "execution_count": 6,
   "metadata": {
    "collapsed": false
   },
   "outputs": [
    {
     "name": "stdout",
     "output_type": "stream",
     "text": [
      "Populating the interactive namespace from numpy and matplotlib\n"
     ]
    }
   ],
   "source": [
    "\n",
    "import utils.math_utils as mu\n",
    "import nibabel as nib\n",
    "\n",
    "\n",
    "def load_subject_medium(index, numbers, bval=None, bvalpos=None ):\n",
    "    subject = str(numbers[index])\n",
    "    folder = './HCP/'+subject+'/'\n",
    "    bvals = np.loadtxt(folder+ 'bvals_'+subject)\n",
    "    bvecs = np.loadtxt(folder+'bvecs_'+subject)\n",
    "    \n",
    "    if bvalpos is not None:\n",
    "        img = nib.load(folder+ 'data_medium40g_12x12x12x40_'+subject+'_b'+str(bval)+'.nii.gz')\n",
    "        bsize=min(len(bvalpos), img.shape[3])\n",
    "        gtab = gradient_table(bvals=bvals[bvalpos[:bsize]], bvecs=bvecs[:,bvalpos[:bsize]])\n",
    "    else:\n",
    "        img = nib.load(folder+ 'data_medium40g_12x12x12x40_'+subject+'.nii.gz')\n",
    "        bsize = img.shape[3]\n",
    "        gtab = gradient_table(bvals=bvals[:bsize], bvecs=bvecs[:,:bsize])\n",
    "    return img, gtab\n",
    "\n",
    "\n",
    "def load_subject_small(index, numbers, bval=None, bvalpos=None ):\n",
    "    subject = str(numbers[index])\n",
    "    folder = './HCP/'+subject+'/'\n",
    "    bvals = np.loadtxt(folder+ 'bvals_'+subject)\n",
    "    bvecs = np.loadtxt(folder+'bvecs_'+subject)\n",
    "    \n",
    "    if bvalpos is not None:\n",
    "        img = nib.load(folder+ 'data_small_12x12x12x6_'+subject+'_b'+str(bval)+'.nii.gz')\n",
    "        bsize=min(len(bvalpos), img.shape[3])\n",
    "        gtab = gradient_table(bvals=bvals[bvalpos[:bsize]], bvecs=bvecs[:,bvalpos[:bsize]])\n",
    "    else:\n",
    "        img = nib.load(folder+ 'data_small_12x12x12x6_'+subject+'.nii.gz')\n",
    "        bsize = img.shape[3]\n",
    "        gtab = gradient_table(bvals=bvals[:bsize], bvecs=bvecs[:,:bsize])\n",
    "    return img, gtab\n",
    "\n",
    "\n",
    "\n",
    "def mm(A):\n",
    "    return (A.min(), A.max())\n"
   ]
  },
  {
   "cell_type": "code",
   "execution_count": 4,
   "metadata": {
    "collapsed": false
   },
   "outputs": [
    {
     "name": "stdout",
     "output_type": "stream",
     "text": [
      "(12, 12, 12, 6) (12, 12, 12, 40) bvals= [1985.0, 3010.0, 995.0, 5.0, 1990.0, 1000.0, 2985.0, 1995.0, 1005.0, 2990.0, 2000.0, 2995.0, 2005.0, 3000.0, 3005.0, 990.0]\n"
     ]
    },
    {
     "data": {
      "image/png": "[encoded data removed]",
      "text/plain": [
       "<matplotlib.figure.Figure at 0x7f5ab28e19d0>"
      ]
     },
     "metadata": {},
     "output_type": "display_data"
    }
   ],
   "source": [
    "subjects = [100307, 100408, 180129, 180432, 180836, 180937]\n",
    "bvals2000pos = [18, 27, 69, 75, 101, 107]\n",
    "bvals5pos = [0,16,32,48,64,80,95,112,128,144,160,176,191,208,224,240,256,272]\n",
    "\n",
    "# Esto es para quedame con la gtab que es igua a todos\n",
    "img, gtab = load_subject_medium(0 , subjects)\n",
    "img_s0, gtab_s0 = load_subject_small(0, subjects, bval=5, bvalpos=bvals5pos[0:6])\n",
    "\n",
    "i_hr=img.get_data()\n",
    "S0 = img_s0.get_data()\n",
    "\n",
    "b=2\n",
    "img_utils._isc(S0, i_hr, b=b, vmin=S0.min(),  vmax=S0.max(), titles=['S0', 'S'+str(int(gtab.bvals[b]))])\n",
    "print S0.shape, i_hr.shape, 'bvals=',list(set(gtab.bvals))"
   ]
  },
  {
   "cell_type": "markdown",
   "metadata": {},
   "source": [
    "# Cargando a Lena"
   ]
  },
  {
   "cell_type": "code",
   "execution_count": 130,
   "metadata": {
    "collapsed": false
   },
   "outputs": [
    {
     "name": "stdout",
     "output_type": "stream",
     "text": [
      "(20, 20)\n"
     ]
    },
    {
     "data": {
      "text/plain": [
       "(20, 20, 20, 6)"
      ]
     },
     "execution_count": 130,
     "metadata": {},
     "output_type": "execute_result"
    },
    {
     "data": {
      "image/png": "[encoded data removed]",
      "text/plain": [
       "<matplotlib.figure.Figure at 0x7fc30840ea50>"
      ]
     },
     "metadata": {},
     "output_type": "display_data"
    }
   ],
   "source": [
    "from PIL import Image\n",
    "import matplotlib.pyplot as plt\n",
    "import numpy as np\n",
    "import scipy.ndimage\n",
    "\n",
    "# Load the images.\n",
    "corrupted_lena = Image.open(\"img/lena512_corrupted.png\", mode='r')\n",
    "lena = Image.open(\"img/lena512.png\", mode='r')\n",
    "\n",
    " \n",
    "Ucorr = np.array(corrupted_lena)\n",
    "Ucorr = scipy.ndimage.zoom(Ucorr, 0.3, order=3)\n",
    "Ucorr = Ucorr[70:-64, 70:-64]\n",
    "print Ucorr.shape\n",
    "\n",
    "Uorig = np.array(lena)\n",
    "Uorig = scipy.ndimage.zoom(Uorig, 0.3, order=3)\n",
    "Uorig = Uorig[70:-64, 70:-64]\n",
    "\n",
    "\n",
    "#imshow(Ucorr, interpolation='none')\n",
    "\n",
    "bval = 6\n",
    "Nz = Ucorr.shape[0]\n",
    "i_hr = np.zeros((Ucorr.shape[0],Ucorr.shape[1], Nz, bval))\n",
    "i_uorig = np.zeros((Ucorr.shape[0],Ucorr.shape[1], Nz, bval))\n",
    "for b in xrange(bval):\n",
    "    for z in xrange(Nz):\n",
    "        i_hr[:,:, z, b] = np.copy(Ucorr)\n",
    "        i_uorig[:,:, z, b] = np.copy(Uorig)\n",
    "        \n",
    "        \n",
    "# Known is 1 if the pixel is known,\n",
    "# 0 if the pixel was corrupted.\n",
    "Known = np.zeros((Ucorr.shape[0],Ucorr.shape[1], Nz, bval))\n",
    "for x in xrange(Ucorr.shape[0]):\n",
    "    for y in xrange(Ucorr.shape[1]):\n",
    "        for z in xrange(Nz):\n",
    "            for b in xrange(bval):\n",
    "                 if i_hr[x, y , z , b] == Uorig[x, y]:\n",
    "                    Known[x, y , z , b] = 1        \n",
    "\n",
    "        \n",
    "#img_utils._is(i_hr)\n",
    "#print i_hr.shape, 12*12*12*40, 74*74*18\n",
    "#imshow(Ucorr, interpolation='none', cmap='gray')\n",
    "imshow(i_hr[:,:,0,0], interpolation='none', cmap='gray')\n",
    "i_hr.shape"
   ]
  },
  {
   "cell_type": "markdown",
   "metadata": {},
   "source": [
    "## Def minimization problem"
   ]
  },
  {
   "cell_type": "code",
   "execution_count": 54,
   "metadata": {
    "collapsed": true
   },
   "outputs": [],
   "source": [
    "import cvxpy as cvx\n",
    "\n",
    "def define_tvnorm_vars(Yhr, Nx, Ny, Nz, bval):\n",
    "    # Hacer tiras de imagenes por cada b_val\n",
    "    Yhr_b = cvx.reshape(Yhr, Nx*Ny*Nz, bval)\n",
    "    slices_xy = []\n",
    "    for b in xrange(bval):\n",
    "        slices_xy_b = []\n",
    "        #print Nx, Ny, Nz, bval\n",
    "        pp = cvx.reshape(Yhr_b[:,b], Nx, Ny*Nz)\n",
    "        for z in xrange(Nz):\n",
    "            ppz = pp[:, z*Nz:(z+1)*Nz]\n",
    "            #print ppz.size\n",
    "            ppp = cvx.reshape(ppz, Nx, Ny)\n",
    "            slices_xy_b.append(ppp)\n",
    "        slices_xy.append(slices_xy_b)\n",
    "    \n",
    "    big_img = cvx.bmat(slices_xy)\n",
    "    \n",
    "    #muetsro la plancheta de imagenes\n",
    "    bimg = np.asarray(big_img.value, dtype='float32').reshape((120, 400), order='F')\n",
    "    imshow(bimg, interpolation='none', cmap='gray')\n",
    "\n",
    "    \n",
    "    print 'BMAT SIZE= ', big_img.size\n",
    "    tv_norm = cvx.tv(big_img)\n",
    "\n",
    "    return tv_norm, big_img\n",
    "\n",
    "def define_opt_problem(i_hr):\n",
    "    Nx, Ny, Nz, bval = i_hr.shape\n",
    "    vhr = Nx*Ny*Nz\n",
    "    vhrb = vhr*bval\n",
    "      \n",
    "    Yhr = cvx.Variable(vhrb, 1)    \n",
    "    Yhr.value = np.copy(i_hr.reshape(-1, order='F'))\n",
    "\n",
    "    tv_norm, big_img = define_tvnorm_vars(Yhr, Nx, Ny, Nz, bval)\n",
    "    \n",
    "    \n",
    "    gamma = cvx.Parameter(sign=\"positive\")\n",
    "    gamma.value = 1\n",
    "    \n",
    "    #constraints = [Yhr >= 0, mu == cvx.sum_entries(Yhr)/vhrb, var == cvx.sum_squares(Yhr-mu)]\n",
    "    constraints = [Yhr >= 0 ]\n",
    "    \n",
    "    \n",
    "    Know_vect = Known.reshape(-1, order='F')\n",
    "    i_uorig_vect = i_uorig.reshape(-1, order='F')\n",
    "    constraints.append(cvx.mul_elemwise(Know_vect, Yhr) == cvx.mul_elemwise(Know_vect, i_uorig_vect))\n",
    "    \n",
    "    \n",
    "    # Form objective.\n",
    "    obj = cvx.Minimize(gamma*tv_norm)\n",
    "    \n",
    "    # Form and solve problem.\n",
    "    prob = cvx.Problem(obj, constraints)\n",
    "    return prob, Yhr, tv_norm, big_img"
   ]
  },
  {
   "cell_type": "markdown",
   "metadata": {},
   "source": [
    "# Run problem"
   ]
  },
  {
   "cell_type": "code",
   "execution_count": 55,
   "metadata": {
    "collapsed": false
   },
   "outputs": [
    {
     "name": "stdout",
     "output_type": "stream",
     "text": [
      "BMAT SIZE=  (120, 400)\n",
      "----------------------------------------------------------------------------\n",
      "\tSCS v1.2.6 - Splitting Conic Solver\n",
      "\t(c) Brendan O'Donoghue, Stanford University, 2012-2016\n",
      "----------------------------------------------------------------------------\n",
      "Lin-sys: sparse-indirect, nnz in A = 310725, CG tol ~ 1/iter^(2.00)\n",
      "eps = 1.00e-10, alpha = 1.50, max_iters = 2000, normalize = 1, scale = 1.00\n",
      "Variables n = 95481, constraints m = 238443\n",
      "Cones:\tprimal zero / dual free vars: 48000\n",
      "\tlinear vars: 48000\n",
      "\tsoc vars: 142443, soc blks: 47481\n",
      "Setup time: 2.12e-02s\n",
      "----------------------------------------------------------------------------\n",
      " Iter | pri res | dua res | rel gap | pri obj | dua obj | kap/tau | time (s)\n",
      "----------------------------------------------------------------------------\n",
      "     0| 1.00e+01  2.33e+01  1.00e+00 -4.09e+07  1.06e+08  2.34e-08  8.03e-02 \n",
      "   100| 5.56e-04  1.41e-03  8.26e-06  9.76e+05  9.76e+05  1.06e-09  2.16e+00 \n",
      "   200| 9.34e-05  1.16e-04  5.01e-06  9.76e+05  9.76e+05  1.06e-09  3.86e+00 \n",
      "   300| 4.88e-05  1.07e-05  1.86e-06  9.76e+05  9.76e+05  1.06e-09  5.44e+00 \n",
      "   400| 2.32e-05  1.47e-06  2.77e-07  9.76e+05  9.76e+05  1.06e-09  6.72e+00 \n",
      "   500| 1.56e-05  8.46e-07  1.24e-07  9.76e+05  9.76e+05  1.06e-09  7.90e+00 \n",
      "   600| 1.20e-05  6.83e-07  7.17e-08  9.76e+05  9.76e+05  1.06e-09  8.99e+00 \n",
      "   700| 9.49e-06  5.12e-07  4.70e-08  9.76e+05  9.76e+05  1.06e-09  1.01e+01 \n",
      "   800| 7.67e-06  3.88e-07  3.21e-08  9.76e+05  9.76e+05  1.06e-09  1.12e+01 \n",
      "   900| 6.28e-06  2.97e-07  2.24e-08  9.76e+05  9.76e+05  1.06e-09  1.23e+01 \n",
      "  1000| 4.61e-06  4.74e-06  2.25e-07  9.76e+05  9.76e+05  1.06e-09  1.35e+01 \n",
      "  1100| 2.04e-06  1.36e-07  5.52e-09  9.76e+05  9.76e+05  1.06e-09  1.50e+01 \n",
      "  1200| 1.81e-06  9.44e-08  1.37e-09  9.76e+05  9.76e+05  1.06e-09  1.62e+01 \n",
      "  1300| 1.62e-06  6.75e-08  2.36e-09  9.76e+05  9.76e+05  1.06e-09  1.73e+01 \n",
      "  1400| 1.46e-06  5.70e-08  2.05e-09  9.76e+05  9.76e+05  1.06e-09  1.83e+01 \n",
      "  1500| 1.33e-06  4.85e-08  1.72e-09  9.76e+05  9.76e+05  1.06e-09  1.94e+01 \n",
      "  1600| 1.21e-06  4.16e-08  1.45e-09  9.76e+05  9.76e+05  1.06e-09  2.05e+01 \n",
      "  1700| 1.11e-06  3.60e-08  1.24e-09  9.76e+05  9.76e+05  1.06e-09  2.16e+01 \n",
      "  1800| 1.02e-06  3.13e-08  1.09e-09  9.76e+05  9.76e+05  1.06e-09  2.26e+01 \n",
      "  1900| 9.36e-07  2.74e-08  9.52e-10  9.76e+05  9.76e+05  1.06e-09  2.37e+01 \n",
      "  2000| 8.64e-07  2.41e-08  8.36e-10  9.76e+05  9.76e+05  1.06e-09  2.48e+01 \n",
      "----------------------------------------------------------------------------\n",
      "Status: Solved/Inaccurate\n",
      "Hit max_iters, solution may be inaccurate\n",
      "Timing: Solve time: 2.48e+01s\n",
      "\tLin-sys: avg # CG iterations: 1.58, avg solve time: 7.16e-03s\n",
      "\tCones: avg projection time: 8.09e-04s\n",
      "----------------------------------------------------------------------------\n",
      "Error metrics:\n",
      "dist(s, K) = 4.2633e-14, dist(y, K*) = 2.2204e-16, s'y/|s||y| = 1.1284e-18\n",
      "|Ax + s - b|_2 / (1 + |b|_2) = 8.6435e-07\n",
      "|A'y + c|_2 / (1 + |c|_2) = 2.4108e-08\n",
      "|c'x + b'y| / (1 + |c'x| + |b'y|) = 8.3564e-10\n",
      "----------------------------------------------------------------------------\n",
      "c'x = 975889.7869, -b'y = 975889.7885\n",
      "============================================================================\n",
      "--- time of optimization : 0' 27'' ---\n",
      "--- status: optimal_inaccurate optimal value 975889.78688\n",
      "\n",
      "minimzation op_val = 975889.78688\n"
     ]
    },
    {
     "data": {
      "image/png": "[encoded data removed]",
      "text/plain": [
       "<matplotlib.figure.Figure at 0x7fc3083da190>"
      ]
     },
     "metadata": {},
     "output_type": "display_data"
    }
   ],
   "source": [
    "coef=22 # 4 --> 22, 6 --> 50\n",
    "Nx, Ny, Nz, bval = i_hr.shape\n",
    "vhr = Nx*Ny*Nz\n",
    "vhrb = vhr*bval\n",
    "\n",
    "prob, Yhr, tv_norm, big_img = define_opt_problem(i_hr )\n",
    "\n",
    "# Solve problem\n",
    "start_time = time.time()\n",
    "res = prob.solve(solver='SCS', max_iters=2000, eps=1.00e-10, verbose=True)  # Returns the optimal value.\n",
    "seg = time.time() - start_time\n",
    "minutes = int(seg / 60)\n",
    "print(\"--- time of optimization : %d' %d'' ---\" % (minutes , seg%60))\n",
    "print \"--- status:\", prob.status, \"optimal value\", prob.value\n",
    "print \n",
    "\n",
    "\n",
    "i_hr_recons = np.asarray(Yhr.value, dtype='float32').reshape((Nx, Ny, Nz, bval), order='F')\n",
    "bimg = np.asarray(big_img.value, dtype='float32').reshape((120, 400), order='F')\n",
    "\n",
    "print 'minimzation op_val =', prob.value"
   ]
  },
  {
   "cell_type": "code",
   "execution_count": 56,
   "metadata": {
    "collapsed": false
   },
   "outputs": [
    {
     "data": {
      "text/plain": [
       "<matplotlib.image.AxesImage at 0x7fc30adb9610>"
      ]
     },
     "execution_count": 56,
     "metadata": {},
     "output_type": "execute_result"
    },
    {
     "data": {
      "image/png": "[encoded data removed]",
      "text/plain": [
       "<matplotlib.figure.Figure at 0x7fc3083f0650>"
      ]
     },
     "metadata": {},
     "output_type": "display_data"
    }
   ],
   "source": [
    "\n",
    "#imshow(i_hr_recons[:,:,0,0], interpolation='none', cmap='gray')\n",
    "imshow(bimg, interpolation='none', cmap='gray')\n"
   ]
  },
  {
   "cell_type": "code",
   "execution_count": 57,
   "metadata": {
    "collapsed": false
   },
   "outputs": [
    {
     "data": {
      "text/plain": [
       "<matplotlib.image.AxesImage at 0x7fc308246d50>"
      ]
     },
     "execution_count": 57,
     "metadata": {},
     "output_type": "execute_result"
    },
    {
     "data": {
      "image/png": "[encoded data removed]",
      "text/plain": [
       "<matplotlib.figure.Figure at 0x7fc309aab510>"
      ]
     },
     "metadata": {},
     "output_type": "display_data"
    }
   ],
   "source": [
    "imshow(i_hr_recons[:,:,0,0], interpolation='none', cmap='gray')"
   ]
  },
  {
   "cell_type": "markdown",
   "metadata": {
    "collapsed": true
   },
   "source": [
    "# TV norm 3d"
   ]
  },
  {
   "cell_type": "code",
   "execution_count": 131,
   "metadata": {
    "collapsed": false
   },
   "outputs": [],
   "source": [
    "\n",
    "def define_opt_problem_tv3d(i_hr):\n",
    "    Nx, Ny, Nz, bval = i_hr.shape\n",
    "    vhr = Nx*Ny*Nz\n",
    "    vhrb = vhr*bval\n",
    "      \n",
    "    Yhr = cvx.Variable(vhrb, 1)    \n",
    "    Yhr.value = np.copy(i_hr.reshape(-1, order='F'))\n",
    "\n",
    "    tv_list = []\n",
    "    hasta = vhrb-bval*vhr\n",
    "    print 'hasta', hasta,vhrb \n",
    "    for k in range(0, vhr):\n",
    "        if k % Nx == 0 :\n",
    "            continue\n",
    "        x, y, z = k-1, k-Nx, k-Nx*Ny\n",
    "        Yk = Yhr[k:vhrb:vhr]\n",
    "        Yx , Yy, Yz = Yhr[x:vhrb:vhr], Yhr[y:vhrb:vhr] , Yhr[z:vhrb:vhr]\n",
    "        \n",
    "        #tv_list.append(cvx.sqrt(cvx.abs(Yk-Yx)**2+cvx.abs(Yk-Yy)**2+cvx.abs(Yk-Yz)**2))\n",
    "        #tv_list.append(cvx.sqrt(cvx.abs(Yk-Yx)+cvx.abs(Yk-Yy)+cvx.abs(Yk-Yz)))\n",
    "        tv_list.append(cvx.abs(Yk-Yx)+cvx.abs(Yk-Yy)+cvx.abs(Yk-Yz))\n",
    "\n",
    "        \n",
    "    print 'tvList.len', len(tv_list)\n",
    "    tv = cvx.sum_squares(cvx.vstack(sum(tv_list)))\n",
    "    \n",
    "    gamma = cvx.Parameter(sign=\"positive\")\n",
    "    gamma.value = 1\n",
    "    \n",
    "    #constraints = [Yhr >= 0, mu == cvx.sum_entries(Yhr)/vhrb, var == cvx.sum_squares(Yhr-mu)]\n",
    "    constraints = [Yhr >= 0 ]\n",
    "    \n",
    "    \n",
    "    Know_vect = Known.reshape(-1, order='F')\n",
    "    i_uorig_vect = i_uorig.reshape(-1, order='F')\n",
    "    constraints.append(cvx.mul_elemwise(Know_vect, Yhr) == cvx.mul_elemwise(Know_vect, i_uorig_vect))\n",
    "    \n",
    "    \n",
    "    # Form objective.\n",
    "    obj = cvx.Minimize(tv)\n",
    "    \n",
    "    constraints = [Yhr >= 0 ]\n",
    "    Know_vect = Known.reshape(-1, order='F')\n",
    "    i_uorig_vect = i_uorig.reshape(-1, order='F')\n",
    "    constraints.append(cvx.mul_elemwise(Know_vect, Yhr) == cvx.mul_elemwise(Know_vect, i_uorig_vect))\n",
    "    \n",
    "    \n",
    "    # Form and solve problem.\n",
    "    prob = cvx.Problem(obj, constraints)\n",
    "    return prob, Yhr, tv, big_img\n"
   ]
  },
  {
   "cell_type": "code",
   "execution_count": 132,
   "metadata": {
    "collapsed": false
   },
   "outputs": [
    {
     "name": "stdout",
     "output_type": "stream",
     "text": [
      "hasta 0 48000\n",
      "tvList.len 7600\n",
      "----------------------------------------------------------------------------\n",
      "\tSCS v1.2.6 - Splitting Conic Solver\n",
      "\t(c) Brendan O'Donoghue, Stanford University, 2012-2016\n",
      "----------------------------------------------------------------------------\n",
      "Lin-sys: sparse-indirect, nnz in A = 1030922, CG tol ~ 1/iter^(2.00)\n",
      "eps = 1.00e-10, alpha = 1.50, max_iters = 2000, normalize = 1, scale = 1.00\n",
      "Variables n = 184801, constraints m = 369608\n",
      "Cones:\tprimal zero / dual free vars: 48000\n",
      "\tlinear vars: 321600\n",
      "\tsoc vars: 8, soc blks: 1\n",
      "Setup time: 5.13e-02s\n",
      "----------------------------------------------------------------------------\n",
      " Iter | pri res | dua res | rel gap | pri obj | dua obj | kap/tau | time (s)\n",
      "----------------------------------------------------------------------------\n",
      "     0|      inf       inf      -nan      -inf       inf       inf  2.33e-01 \n",
      "   100|      inf       inf      -nan      -inf       inf       inf  8.01e+00 \n",
      "   200| 7.81e+00  1.76e-04  1.07e-03  4.79e+04  4.80e+04  2.95e-12  1.49e+01 \n",
      "   300| 8.75e+00  2.29e-04  6.64e-04  7.89e+04  7.90e+04  3.02e-12  2.24e+01 \n",
      "   400| 1.01e+01  3.18e-04  4.80e-04  1.12e+05  1.12e+05  3.13e-12  3.08e+01 \n",
      "   500| 1.18e+01  4.18e-04  3.73e-04  1.47e+05  1.48e+05  3.29e-12  3.98e+01 \n",
      "   600| 1.38e+01  5.32e-04  3.01e-04  1.87e+05  1.87e+05  3.51e-12  4.97e+01 \n",
      "   700| 1.63e+01  6.56e-04  2.48e-04  2.33e+05  2.33e+05  1.90e-12  5.98e+01 \n",
      "   800| 1.93e+01  7.98e-04  2.06e-04  2.87e+05  2.87e+05  2.09e-12  7.02e+01 \n",
      "   900| 2.30e+01  9.60e-04  1.70e-04  3.52e+05  3.52e+05  2.36e-12  8.13e+01 \n",
      "  1000| 2.75e+01  1.14e-03  1.37e-04  4.34e+05  4.34e+05  2.72e-12  9.26e+01 \n",
      "  1100| 3.26e+01  1.33e-03  1.05e-04  5.39e+05  5.39e+05  3.21e-12  1.05e+02 \n",
      "  1200| 3.77e+01  1.47e-03  7.14e-05  6.72e+05  6.72e+05  1.94e-12  1.17e+02 \n",
      "  1300| 4.11e+01  2.36e-03  3.97e-05  8.32e+05  8.32e+05  2.36e-12  1.29e+02 \n",
      "  1400| 4.18e+01  1.62e-03  1.52e-05  1.00e+06  1.00e+06  2.85e-12  1.42e+02 \n",
      "  1500| 4.04e+01  1.42e-03  2.61e-08  1.18e+06  1.18e+06  3.35e-12  1.54e+02 \n",
      "  1600| 3.82e+01  1.62e-03  8.38e-06  1.34e+06  1.34e+06  1.92e-12  1.67e+02 \n",
      "  1700| 3.60e+01  1.18e-03  1.29e-05  1.48e+06  1.48e+06  2.16e-12  1.80e+02 \n",
      "  1800| 3.40e+01  1.36e-03  1.53e-05  1.62e+06  1.62e+06  2.39e-12  1.93e+02 \n",
      "  1900| 3.23e+01  1.25e-03  1.67e-05  1.74e+06  1.74e+06  2.61e-12  2.06e+02 \n",
      "  2000| 3.08e+01  3.13e-03  1.72e-05  1.86e+06  1.86e+06  2.82e-12  2.19e+02 \n",
      "----------------------------------------------------------------------------\n",
      "Status: Solved/Inaccurate\n",
      "Hit max_iters, solution may be inaccurate\n",
      "Timing: Solve time: 2.19e+02s\n",
      "\tLin-sys: avg # CG iterations: 13.78, avg solve time: 1.01e-01s\n",
      "\tCones: avg projection time: 3.71e-04s\n",
      "----------------------------------------------------------------------------\n",
      "Error metrics:\n",
      "dist(s, K) = 2.1351e-07, dist(y, K*) = 2.2204e-16, s'y/|s||y| = -4.9990e-16\n",
      "|Ax + s - b|_2 / (1 + |b|_2) = 3.0774e+01\n",
      "|A'y + c|_2 / (1 + |c|_2) = 3.1340e-03\n",
      "|c'x + b'y| / (1 + |c'x| + |b'y|) = 1.7191e-05\n",
      "----------------------------------------------------------------------------\n",
      "c'x = 1857524.4092, -b'y = 1857460.5431\n",
      "============================================================================\n",
      "--- time of optimization : 7' 36'' ---\n",
      "--- status: optimal_inaccurate optimal value 1857524.40923\n",
      "\n",
      "minimzation op_val = 1857524.40923\n"
     ]
    }
   ],
   "source": [
    "coef=22 # 4 --> 22, 6 --> 50\n",
    "Nx, Ny, Nz, bval = i_hr.shape\n",
    "vhr = Nx*Ny*Nz\n",
    "vhrb = vhr*bval\n",
    "\n",
    "prob, Yhr, tv_norm, big_img = define_opt_problem_tv3d(i_hr )\n",
    "\n",
    "# Solve problem\n",
    "start_time = time.time()\n",
    "res = prob.solve(solver='SCS', max_iters=2000, eps=1.00e-10, verbose=True)  # Returns the optimal value.\n",
    "seg = time.time() - start_time\n",
    "minutes = int(seg / 60)\n",
    "print(\"--- time of optimization : %d' %d'' ---\" % (minutes , seg%60))\n",
    "print \"--- status:\", prob.status, \"optimal value\", prob.value\n",
    "print \n",
    "\n",
    "\n",
    "i_hr_recons3d = np.asarray(Yhr.value, dtype='float32').reshape((Nx, Ny, Nz, bval), order='F')\n",
    "bimg3d = np.asarray(big_img.value, dtype='float32').reshape((120, 400), order='F')\n",
    "\n",
    "print 'minimzation op_val =', prob.value"
   ]
  },
  {
   "cell_type": "code",
   "execution_count": 140,
   "metadata": {
    "collapsed": false
   },
   "outputs": [
    {
     "data": {
      "text/plain": [
       "<module 'matplotlib.pyplot' from '/user/lgomez/home/anaconda2/lib/python2.7/site-packages/matplotlib/pyplot.pyc'>"
      ]
     },
     "execution_count": 140,
     "metadata": {},
     "output_type": "execute_result"
    },
    {
     "data": {
      "image/png": "[encoded data removed]",
      "text/plain": [
       "<matplotlib.figure.Figure at 0x7fc3012db910>"
      ]
     },
     "metadata": {},
     "output_type": "display_data"
    }
   ],
   "source": [
    "imshow(i_hr_recons3d[:,:,0,0], interpolation='none', cmap='gray')\n",
    "img_utils._is(i_hr_recons3d)"
   ]
  },
  {
   "cell_type": "code",
   "execution_count": 137,
   "metadata": {
    "collapsed": false
   },
   "outputs": [
    {
     "data": {
      "text/plain": [
       "<matplotlib.image.AxesImage at 0x7fc30127ccd0>"
      ]
     },
     "execution_count": 137,
     "metadata": {},
     "output_type": "execute_result"
    },
    {
     "data": {
      "image/png": "[encoded data removed]",
      "text/plain": [
       "<matplotlib.figure.Figure at 0x7fc300fc7290>"
      ]
     },
     "metadata": {},
     "output_type": "display_data"
    }
   ],
   "source": [
    "imshow(bimg3d[:40,:60], interpolation='none', cmap='gray')"
   ]
  },
  {
   "cell_type": "code",
   "execution_count": 138,
   "metadata": {
    "collapsed": false
   },
   "outputs": [
    {
     "data": {
      "text/plain": [
       "<matplotlib.image.AxesImage at 0x7fc3014524d0>"
      ]
     },
     "execution_count": 138,
     "metadata": {},
     "output_type": "execute_result"
    },
    {
     "data": {
      "image/png": "[encoded data removed]",
      "text/plain": [
       "<matplotlib.figure.Figure at 0x7fc301300790>"
      ]
     },
     "metadata": {},
     "output_type": "display_data"
    }
   ],
   "source": [
    "imshow(i_hr[:,:,0,0], interpolation='none', cmap='gray')"
   ]
  }
 ],
 "metadata": {
  "kernelspec": {
   "display_name": "Python 2",
   "language": "python",
   "name": "python2"
  },
  "language_info": {
   "codemirror_mode": {
    "name": "ipython",
    "version": 2
   },
   "file_extension": ".py",
   "mimetype": "text/x-python",
   "name": "python",
   "nbconvert_exporter": "python",
   "pygments_lexer": "ipython2",
   "version": "2.7.12"
  }
 },
 "nbformat": 4,
 "nbformat_minor": 0
}
