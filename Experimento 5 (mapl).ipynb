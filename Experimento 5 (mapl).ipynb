{
 "cells": [
  {
   "cell_type": "markdown",
   "metadata": {},
   "source": [
    "# Optimizacion con MAPL\n",
    "\n",
    "$ G \\leftarrow train(\\{(HR_i, LR_i)\\}_i) \\  \\forall i=1,2 ... n\\_samples \\hspace{2cm} con \\ LR_i = downsampling(HR_i)$\n",
    "\n",
    "$ M \\leftarrow mapl(Y^{lr}.gtab) $\n",
    "\n",
    "\n",
    "$ \\min_{Y^{hr}, C} \\{ ||GY^{hr} - Y^{lr}||^2 + ||Y^{hr}- MC||^2 + ||C||_{1} \\}$\n",
    "\n"
   ]
  },
  {
   "cell_type": "code",
   "execution_count": 1,
   "metadata": {
    "collapsed": false
   },
   "outputs": [
    {
     "name": "stdout",
     "output_type": "stream",
     "text": [
      "Populating the interactive namespace from numpy and matplotlib\n"
     ]
    },
    {
     "name": "stderr",
     "output_type": "stream",
     "text": [
      "/user/lgomez/home/anaconda2/lib/python2.7/site-packages/skimage/filter/__init__.py:6: skimage_deprecation: The `skimage.filter` module has been renamed to `skimage.filters`.  This placeholder module will be removed in v0.13.\n",
      "  warn(skimage_deprecation('The `skimage.filter` module has been renamed '\n"
     ]
    }
   ],
   "source": [
    "%pylab inline\n",
    "import time\n",
    "import numpy as np\n",
    "import matplotlib.pyplot as plt\n",
    "from utils import img_utils\n",
    "#import seaborn as sns\n",
    "import utils.math_utils as mu\n",
    "#import nibabel as nib\n",
    "import mapmri.mapmri as mp\n",
    "#from dipy.core.gradients import gradient_table\n",
    "import cvxpy as cvx\n",
    "reload(img_utils)\n",
    "import load.hcp_img_loader as hcp\n",
    "from scipy.sparse import csr_matrix\n",
    "import experimento1_funciones as e1f"
   ]
  },
  {
   "cell_type": "code",
   "execution_count": 2,
   "metadata": {
    "collapsed": false
   },
   "outputs": [],
   "source": [
    "def get_sample(index, numbers, loader_func, bval=None, bvalpos=None,  scale=2):\n",
    "    img, gtab, idxs = loader_func(index, numbers, bval, bvalpos)\n",
    "    lr, lr_affine = img_utils.downsampling(img, scale)\n",
    "    data = img.get_data()\n",
    "    return data[:,:,:, idxs], lr[:,:,:, idxs], gtab\n",
    "\n",
    "def get_sample_maker(numbers, loader_func, bval=None, bvalpos=None, scale=2):\n",
    "    return lambda index : get_sample(index, numbers, loader_func, bval, bvalpos,  scale)\n",
    "\n",
    "def mm(A, cast_int=True):\n",
    "    if cast_int :\n",
    "        return (int(A.min()), int(A.max()))\n",
    "    else:\n",
    "        return (A.min(), A.max())\n",
    "    \n",
    "def buildT(sample_getter, n_samples):\n",
    "    noised_hr, noised_lr, _ = sample_getter(0)\n",
    "    X = img_utils.column_this(noised_lr)\n",
    "    Y = img_utils.column_this(noised_hr)\n",
    "    for i in range(1, n_samples):\n",
    "        noised_hr, noised_lr, _ = sample_getter(i)\n",
    "        X = img_utils.append_column(X, noised_lr)\n",
    "        Y = img_utils.append_column(Y, noised_hr)\n",
    "    return X, Y\n",
    "\n",
    "## Example of use\n",
    "#buildT(get_sample_maker(numbers, scale), n_samples)"
   ]
  },
  {
   "cell_type": "markdown",
   "metadata": {},
   "source": [
    "## Problem definition\n",
    "\n",
    "$ \\min_{Y^{hr}, C} \\{ ||GY^{hr} - Y^{lr}||^2 + ||Y^{hr}- MC||^2 + ||C||_{1} \\}$\n",
    "\n"
   ]
  },
  {
   "cell_type": "markdown",
   "metadata": {},
   "source": [
    "## MapMri"
   ]
  },
  {
   "cell_type": "code",
   "execution_count": 3,
   "metadata": {
    "collapsed": false
   },
   "outputs": [
    {
     "data": {
      "text/plain": [
       "\"\\ndef mapl_predict(gtab, C_or_Cvec, M, tau, Nx=None, Ny=None, Nz=None):\\n   \\n    is_cvxpy = isinstance(C_or_Cvec, cvx.Variable)\\n    print 'M.shape', M.shape, 'C.size', C_or_Cvec.size\\n    Nb, Nc = M.shape\\n    vhr, Nc = C_or_Cvec.shape if hasattr(C_or_Cvec, 'shape') else C_or_Cvec.size\\n    #vhr = Nx*Ny*Nz\\n    \\n    Cvec = C_or_Cvec\\n    if not is_cvxpy :\\n        Cvec = C.reshape((vhr, Nc), order='F')\\n         \\n    if is_cvxpy :\\n        E = (M * Cvec.T)\\n    else:\\n        E = np.dot(M, Cvec.T).T\\n        \\n    if not is_cvxpy :\\n        E = E.reshape((Nx, Ny, Nz, Nb), order='F')\\n    #else:\\n    #    E = E.reshape(-1, order='F')\\n        \\n    return E\\n\\n\\ndef cvxpy_mapl(gtab, M, tau, vhr, Nc):\\n    # Image to fit\\n    cvxC = cvx.Variable(vhr, Nc)\\n\\n    cvxMaplE = mapl_predict(gtab, cvxC, M, tau)\\n\\n    return cvxMaplE, cvxC,\\n\""
      ]
     },
     "execution_count": 3,
     "metadata": {},
     "output_type": "execute_result"
    }
   ],
   "source": [
    "def getM(radial_order, mu, gtab, tau):\n",
    "    r'''Recovers the reconstructed signal for any qvalue array or\n",
    "        gradient table.\n",
    "        '''\n",
    "    qvals = np.sqrt(gtab.bvals / tau) / (2 * np.pi)\n",
    "    q = qvals[:, None] * gtab.bvecs\n",
    "    M = mp.mapmri_isotropic_phi_matrix(radial_order, mu[0], q)\n",
    "    return  M\n",
    "\n",
    "def get_mapl_params(gtab, radial_order = 4):\n",
    "    #Fiteo el model\n",
    "    map_model = mp.MapmriModel(gtab,\n",
    "                                radial_order=radial_order,\n",
    "                                laplacian_regularization=True,\n",
    "                                laplacian_weighting=0.2,\n",
    "                                anisotropic_scaling=False,\n",
    "                                dti_scale_estimation=False)\n",
    "    # Fiteo la data\n",
    "    #map_model_fit = map_model.fit(i_hr)\n",
    "    tau = map_model.tau\n",
    "    mu = map_model.mu\n",
    "    print 'mu.shape', mu.shape\n",
    "    M = getM(radial_order, mu, gtab, tau)\n",
    "    return M, tau, mu\n",
    "\"\"\"\n",
    "def mapl_predict(gtab, C_or_Cvec, M, tau, Nx=None, Ny=None, Nz=None):\n",
    "   \n",
    "    is_cvxpy = isinstance(C_or_Cvec, cvx.Variable)\n",
    "    print 'M.shape', M.shape, 'C.size', C_or_Cvec.size\n",
    "    Nb, Nc = M.shape\n",
    "    vhr, Nc = C_or_Cvec.shape if hasattr(C_or_Cvec, 'shape') else C_or_Cvec.size\n",
    "    #vhr = Nx*Ny*Nz\n",
    "    \n",
    "    Cvec = C_or_Cvec\n",
    "    if not is_cvxpy :\n",
    "        Cvec = C.reshape((vhr, Nc), order='F')\n",
    "         \n",
    "    if is_cvxpy :\n",
    "        E = (M * Cvec.T)\n",
    "    else:\n",
    "        E = np.dot(M, Cvec.T).T\n",
    "        \n",
    "    if not is_cvxpy :\n",
    "        E = E.reshape((Nx, Ny, Nz, Nb), order='F')\n",
    "    #else:\n",
    "    #    E = E.reshape(-1, order='F')\n",
    "        \n",
    "    return E\n",
    "\n",
    "\n",
    "def cvxpy_mapl(gtab, M, tau, vhr, Nc):\n",
    "    # Image to fit\n",
    "    cvxC = cvx.Variable(vhr, Nc)\n",
    "\n",
    "    cvxMaplE = mapl_predict(gtab, cvxC, M, tau)\n",
    "\n",
    "    return cvxMaplE, cvxC,\n",
    "\"\"\"    \n",
    "  \n",
    "    \n",
    "    "
   ]
  },
  {
   "cell_type": "code",
   "execution_count": 414,
   "metadata": {
    "collapsed": false
   },
   "outputs": [],
   "source": [
    "def define_problem_with_mapl(i_lr, i_hr_shape, downsampling_matrix, M, scale):\n",
    "    Nx, Ny, Nz, bval = i_hr_shape\n",
    "    _, Nc = M.shape\n",
    "    vhrb = Nx*Ny*Nz*bval\n",
    "    vlr = Nx*Ny*Nz/(scale**3)\n",
    "    vhr = Nx*Ny*Nz\n",
    "      \n",
    "    ### Hr volumes\n",
    "    Yhr = cvx.Variable(vhrb, 1)\n",
    "    #Yhr.value = np.ones((vhrb, 1))*i_lr.mean()\n",
    "    Yhr.value = i_hr.reshape(-1, order='F')\n",
    "    \n",
    "    ### LR volumes\n",
    "    Ylr = cvx.Constant(i_lr.reshape((vlr*bval, 1), order='F'))\n",
    "    #Ylr.value = i_lr.reshape((vlr*bval, 1), order='F')\n",
    "    \n",
    "    ### Downsampling matrix\n",
    "    cvxG = cvx.Constant(downsampling_matrix)\n",
    "    \n",
    "    # Fidelity expression\n",
    "    cvxFidelityExp = cvx.sum_squares(cvxG*Yhr - Ylr)\n",
    "    \n",
    "    \n",
    "    ### MAPL params\n",
    "    cvxM = cvx.Constant(M)\n",
    "    cvxC = cvx.Variable(vhr, Nc)\n",
    "    #        M:(Nb,Nc) cvxC:(vhr, Nc) cvxMaplE:(vhr, bval)\n",
    "    cvxMaplE = (cvxM * cvxC.T).T\n",
    "    # Hr image in row by b-val\n",
    "    YhrMapl = cvx.reshape(Yhr, vhr, bval)\n",
    "    # Mapl dual expression\n",
    "    print cvxMaplE.size, YhrMapl.size\n",
    "    cvxMaplDualExp = cvx.sum_squares(cvxMaplE-YhrMapl)\n",
    "    \n",
    "    \n",
    "    ### Weights\n",
    "    betha = cvx.Parameter(value=300000, sign='positive') #200, 300000\n",
    "    ## Sparcity weight (antes 1500, 150, 75, 105)\n",
    "    alpha = cvx.Parameter(value=200000, sign='positive')#150, 87\n",
    "    ## Fidelity weight\n",
    "    gamma = cvx.Parameter(value=1, sign='positive')#62\n",
    "    \n",
    "    norm1 = cvx.norm1(cvxC)\n",
    "    # Form objective.\n",
    "    #obj = cvx.Minimize(gamma*cvxFidelityExp + betha*cvxMaplDualExp + alpha*norm1)\n",
    "    obj = cvx.Minimize(gamma*cvxFidelityExp)\n",
    "    \n",
    "    # Constraints\n",
    "    constraints = []\n",
    "    constraints.append(Yhr >= 0)\n",
    "    constraints.append(cvxMaplE >= 0)\n",
    "    \n",
    "    # Form and solve problem.\n",
    "    prob = cvx.Problem(obj, constraints)\n",
    "    \n",
    "    return prob, Yhr, Ylr, cvxC, cvxG, cvxFidelityExp, cvxMaplDualExp, norm1 \n"
   ]
  },
  {
   "cell_type": "code",
   "execution_count": 392,
   "metadata": {
    "collapsed": true
   },
   "outputs": [],
   "source": [
    "def solveMin(i_lr, i_hr_shape, downsampling_matrix, M, scale=2, max_iters=1500, verbose=False):\n",
    "    Nx, Ny, Nz, Nb = i_hr_shape\n",
    "    Nb, Nc = M.shape\n",
    "    prob, Yhr, Ylr, cvxC, G, cvxFidelityExp, cvxMaplDualExp, norm1 = define_problem_with_mapl(\n",
    "                                i_lr, \n",
    "                                i_hr_shape, \n",
    "                                downsampling_matrix, \n",
    "                                M, \n",
    "                                scale)\n",
    "     \n",
    "    start_time = time.time()\n",
    "    res = prob.solve(solver='SCS', max_iters=max_iters, eps=5.0e-03, verbose=verbose )  # Returns the optimal value.\n",
    "    seg = time.time() - start_time\n",
    "\n",
    "    minutes = int(seg / 60)\n",
    "    print(\"--- time of optimization : %d' %d'' ---\" % (minutes , seg%60))\n",
    "    print \"--- status:\", prob.status, \"optimal value\", prob.value\n",
    "    print \n",
    "\n",
    "    # Change dimension of result representation\n",
    "    C, A = None, None\n",
    "    if Yhr.value is None :\n",
    "        #Yhr.value = np.ones(i_hr_shape)\n",
    "        print 'FRECONSTRUCTION FAIL :('\n",
    "        A = np.zeros(i_hr_shape,dtype='float32')\n",
    "    else:    \n",
    "        A = np.asarray(Yhr.value, dtype='float32').reshape(i_hr_shape, order='F')\n",
    "        C = np.asarray(cvxC.value, dtype='float32').reshape((Nx, Ny, Nz, Nc), order='F')\n",
    " \n",
    "    return A, C, Yhr, cvxFidelityExp, cvxMaplDualExp, norm1, seg, prob"
   ]
  },
  {
   "cell_type": "markdown",
   "metadata": {},
   "source": [
    "## Solving the problem and cross-validation (leave one out)"
   ]
  },
  {
   "cell_type": "code",
   "execution_count": 415,
   "metadata": {
    "collapsed": false
   },
   "outputs": [
    {
     "name": "stdout",
     "output_type": "stream",
     "text": [
      "== Leaving out: # 100307   6\n",
      "gtab.bvals [ 1000.  1995.  3005.   995.  2995.]\n",
      "= Training and fiting ...\n",
      "mu.shape (3,)\n",
      "= Solving optimization problem ...\n",
      "(12, 12, 12, 5)\n",
      "(1728, 5) (1728, 5)\n",
      "WARN: m less than n, problem likely degenerate\n",
      "----------------------------------------------------------------------------\n",
      "\tSCS v1.2.6 - Splitting Conic Solver\n",
      "\t(c) Brendan O'Donoghue, Stanford University, 2012-2016\n",
      "----------------------------------------------------------------------------\n",
      "Lin-sys: sparse-indirect, nnz in A = 9529922, CG tol ~ 1/iter^(2.00)\n",
      "eps = 5.00e-03, alpha = 1.50, max_iters = 1500, normalize = 1, scale = 1.00\n",
      "Variables n = 46657, constraints m = 18362\n",
      "Cones:\tlinear vars: 17280\n",
      "\tsoc vars: 1082, soc blks: 1\n",
      "Setup time: 4.47e-01s\n",
      "----------------------------------------------------------------------------\n",
      " Iter | pri res | dua res | rel gap | pri obj | dua obj | kap/tau | time (s)\n",
      "----------------------------------------------------------------------------\n",
      "     0|      inf       inf      -nan      -inf       inf       inf  2.56e-01 \n",
      "   100| 3.13e-01  2.50e-02  1.18e-03  5.71e+05  5.69e+05  2.39e-12  1.29e+01 \n",
      "   200| 3.12e-01  2.51e-02  7.22e-04  1.17e+06  1.17e+06  2.50e-12  2.58e+01 \n",
      "   300| 3.11e-01  2.50e-02  5.08e-04  1.76e+06  1.76e+06  2.86e-12  3.84e+01 \n",
      "   400| 3.11e-01  2.50e-02  3.90e-04  2.36e+06  2.36e+06  2.56e-12  5.11e+01 \n",
      "   500| 3.10e-01  2.50e-02  3.17e-04  2.95e+06  2.95e+06  4.02e-12  6.38e+01 \n",
      "   600| 3.09e-01  2.49e-02  2.66e-04  3.54e+06  3.54e+06  2.90e-12  7.64e+01 \n",
      "   700| 3.09e-01  2.49e-02  2.30e-04  4.13e+06  4.13e+06  3.96e-12  8.89e+01 \n",
      "   800| 3.08e-01  2.48e-02  2.02e-04  4.72e+06  4.72e+06  2.58e-12  1.01e+02 \n",
      "   900| 3.08e-01  2.48e-02  1.80e-04  5.30e+06  5.30e+06  3.27e-12  1.14e+02 \n",
      "  1000| 3.07e-01  2.48e-02  1.63e-04  5.89e+06  5.88e+06  4.04e-12  1.26e+02 \n",
      "  1100| 3.07e-01  2.47e-02  1.48e-04  6.47e+06  6.47e+06  2.44e-12  1.39e+02 \n",
      "  1200| 3.06e-01  2.47e-02  1.36e-04  7.05e+06  7.05e+06  2.90e-12  1.52e+02 \n",
      "  1300| 3.06e-01  2.46e-02  1.26e-04  7.62e+06  7.62e+06  3.40e-12  1.64e+02 \n",
      "  1400| 3.05e-01  2.46e-02  1.17e-04  8.20e+06  8.20e+06  3.94e-12  1.77e+02 \n",
      "  1500| 3.04e-01  2.45e-02  1.09e-04  8.77e+06  8.77e+06  2.26e-12  1.89e+02 \n",
      "----------------------------------------------------------------------------\n",
      "Status: Solved/Inaccurate\n",
      "Hit max_iters, solution may be inaccurate\n",
      "Timing: Solve time: 1.89e+02s\n",
      "\tLin-sys: avg # CG iterations: 2.99, avg solve time: 1.24e-01s\n",
      "\tCones: avg projection time: 1.63e-05s\n",
      "----------------------------------------------------------------------------\n",
      "Error metrics:\n",
      "dist(s, K) = 1.4203e-16, dist(y, K*) = 0.0000e+00, s'y/|s||y| = 7.0894e-14\n",
      "|Ax + s - b|_2 / (1 + |b|_2) = 3.0445e-01\n",
      "|A'y + c|_2 / (1 + |c|_2) = 2.4544e-02\n",
      "|c'x + b'y| / (1 + |c'x| + |b'y|) = 1.0938e-04\n",
      "----------------------------------------------------------------------------\n",
      "c'x = 8767527.7281, -b'y = 8765610.0079\n",
      "============================================================================\n",
      "--- time of optimization : 3' 25'' ---\n",
      "--- status: optimal_inaccurate optimal value 8767527.72814\n",
      "\n",
      "= Calculating metrics...\n",
      "\n",
      "\n",
      " === TOTAL TIME : 3' 25\"\n",
      "norm1.value 0.0\n",
      "cvxFidelityExp 178308829.803\n",
      "cvxMaplDualExp 11617307460.2\n",
      "fidelidad_sum_squares= 178687461.639\n",
      "dif(fidelidad_sum_squares) 378631.835361\n",
      "err_rel(fidelidad_sum_squares) 0.00212346094009\n"
     ]
    }
   ],
   "source": [
    "RES_BASE_FOLDER = './resultados/exp5/'\n",
    "VMIN, VMAX=-50, 2500\n",
    "\n",
    "subjects = [100307, 100408, 180129, 180432, 180836, 180937]\n",
    "bvals2000pos = [18, 27, 69, 75, 101, 107]\n",
    "\n",
    "# Esto es por si quiero alguna S0\n",
    "# img_s0, gtab_s0 = load_subject_small(0, subjects, bval=5, bvalpos=bvals5pos[0:6])\n",
    "# S0 = img_s0.get_data()\n",
    "\n",
    "\n",
    "## Con imagenes pequenas multi-shel de (12, 12, 12, 6)\n",
    "loader_func = hcp.load_subject_small_noS0\n",
    "sample_maker = get_sample_maker(subjects, loader_func, scale=2)\n",
    "## Con imagenes pequenas single-shel de (12, 12, 12, 6)\n",
    "#loader_func = hcp.load_subject_small\n",
    "#sample_maker = get_sample_maker(subjects, loader_func, bval=2000, bvalpos=bvals2000pos, scale=2)\n",
    "## Con imagenes pequenas multi-shel de (12, 12, 12, 6)\n",
    "#loader_func = hcp.load_subject_medium_noS0\n",
    "#sample_maker = get_sample_maker(subjects, loader_func, scale=2)\n",
    "\n",
    "\n",
    "n_samples = 3\n",
    "iterations = 1\n",
    "\n",
    "# Metrics to save\n",
    "min_vals_hr_r = []\n",
    "max_vals_hr_r = []\n",
    "min_vals_lr_r = []\n",
    "max_vals_lr_r = []\n",
    "\n",
    "dif_norm_hrs=[]\n",
    "dif_norm_lrs=[]    \n",
    "Yhr_recons_norms=[]\n",
    "Ylr_recons_norms=[]  \n",
    "Yhr_norms=[]\n",
    "Ylr_norms=[]\n",
    "times = []\n",
    "optimal_vals = []\n",
    "\n",
    "## For save results\n",
    "# base_folder = RES_BASE_FOLDER\n",
    "## For NOT save results\n",
    "base_folder = None\n",
    "\n",
    "for i in range(0, iterations):\n",
    "    \n",
    "    subjects.append(subjects.pop(0))\n",
    "    subject = str(subjects[len(subjects)-1])\n",
    "    print '== Leaving out: #', subject, ' ',len(subjects) \n",
    "    \n",
    "    ## Get the one that left out to validate\n",
    "    the_one_out = len(subjects)-1\n",
    "    i_hr, i_lr, gtab = get_sample(the_one_out, subjects, loader_func, scale=2)\n",
    "    print 'gtab.bvals', gtab.bvals\n",
    "    voi_hr_shape = i_hr.shape\n",
    "    voi_lr_shape = i_lr.shape\n",
    "    \n",
    "    ### Buid Trainin set T\n",
    "    lr_samples, hr_samples = buildT(sample_maker, n_samples) #lr, hr\n",
    "\n",
    "    ### Build downsampling matrix\n",
    "    print '= Training and fiting ...'\n",
    "    regr, hr_train , lr_train, hr_test, lr_test = e1f.train(hr_samples, lr_samples)\n",
    "    regr.coef_ = csr_matrix(regr.coef_)\n",
    "    # making space\n",
    "    del(hr_train, lr_train, lr_test) \n",
    "    \n",
    "    ### Mapl params of the one left\n",
    "    M, tau, mu = get_mapl_params(gtab, radial_order = 4)\n",
    "    \n",
    "    ### Minimization solve\n",
    "    print '= Solving optimization problem ...'\n",
    "    print i_hr.shape\n",
    "    A, C, Yhr,cvxFidelityExp, cvxMaplDualExp, norm1, seg, prob = solveMin(i_lr, i_hr.shape, regr.coef_, M, scale=2, max_iters=1500, verbose=True)\n",
    "    \n",
    "    ## Recons ^LR\n",
    "    #B = (regr.coef_*i_hr.reshape(-1, order='F')).reshape(voi_lr_shape, order='F')\n",
    "    B = (regr.coef_*hr_test.T).reshape(voi_lr_shape, order='F')\n",
    "    del(hr_test)# --> ya lo tengo en i_hr igual\n",
    "    \n",
    "    ### Saiving results\n",
    "    max_vals_hr_r.append(A.max())\n",
    "    min_vals_hr_r.append(A.min())\n",
    "    \n",
    "    max_vals_lr_r.append(B.max())\n",
    "    min_vals_lr_r.append(B.min())\n",
    "    \n",
    "    # Keep parameters\n",
    "    print '= Calculating metrics...'\n",
    "    dif_norm_hr = np.linalg.norm(i_hr-A) # recons-gtrust\n",
    "    Yhr_norm = np.linalg.norm(i_hr)\n",
    "    Yhr_recons_norm = np.linalg.norm(A) #recons\n",
    "    \n",
    "    dif_norm_lr = np.linalg.norm(i_lr-B)\n",
    "    Ylr_norm = np.linalg.norm(B)\n",
    "    Ylr_recons_norm = np.linalg.norm(B)\n",
    "    \n",
    "    dif_norm_hrs.append(dif_norm_hr)\n",
    "    dif_norm_lrs.append(dif_norm_lr)\n",
    "    \n",
    "    Yhr_recons_norms.append(Yhr_recons_norm)\n",
    "    Ylr_recons_norms.append(Ylr_recons_norm)\n",
    "    \n",
    "    Yhr_norms.append(Yhr_norm)\n",
    "    Ylr_norms.append(Ylr_norm)\n",
    "    \n",
    "    times.append(seg)\n",
    "    optimal_vals.append(prob.value)\n",
    "\n",
    "    # Save the A calculated\n",
    "    if base_folder is not None:\n",
    "        name = base_folder+ \"A/\" + 'hrRec_lo' + subject\n",
    "        np.save(name, A)\n",
    "        print 'showing hr '+ subject, 'min, max',(A.min(), A.max()) \n",
    "        titles=['Reconstruida', 'Original']\n",
    "        for b in xrange(6):\n",
    "            plt = img_utils._isc(A, i_hr,b=b ,titles=titles,  vmax=VMAX, vmin=VMIN)\n",
    "            plt.savefig(name +'b'+str(b)+'.pdf')\n",
    "        print 'saved A in: ', name + str('.npy')\n",
    "        \n",
    "    # Save the B calculated\n",
    "    if base_folder is not None:\n",
    "        name = base_folder + 'lrRec_lo' + subject\n",
    "        np.save(name, B)\n",
    "        print 'showing lr '+ subject, 'min, max',(B.min(), B.max()) \n",
    "        titles=['Reconstruida', 'Original']\n",
    "        plt = img_utils._isc(B, i_lr, titles=titles,  vmax=VMAX, vmin=VMIN)\n",
    "        plt.savefig(name + '.pdf')\n",
    "        print 'saved A in: ', name + str('.npy')\n",
    "        \n",
    "    print\n",
    "    print\n",
    "\n",
    "# Log spended\n",
    "total_sec = np.array(times).sum()\n",
    "print ' === TOTAL TIME :',  str(int(total_sec//60))+\"'\", str(int(total_sec%60))+ '\"'\n",
    "\n",
    "# Persist results\n",
    "if base_folder is not None: \n",
    "    np.save(base_folder+ 'dif_norm_hrs', dif_norm_hrs)\n",
    "    np.save(base_folder+ 'dif_norm_lrs', dif_norm_lrs)\n",
    "    np.save(base_folder+ 'Yhr_recons_norms', Yhr_recons_norms)\n",
    "    np.save(base_folder+ 'Ylr_recons_norms', dif_norm_hrs)\n",
    "    np.save(base_folder+ 'Yhr_norms', dif_norm_lrs)\n",
    "    np.save(base_folder+ 'Ylr_norms', Yhr_recons_norms)\n",
    "    \n",
    "    np.save(base_folder+ 'max_vals_hr_r', max_vals_hr_r)\n",
    "    np.save(base_folder+ 'min_vals_hr_r', min_vals_hr_r)\n",
    "    np.save(base_folder+ 'max_vals_lr_r', max_vals_hr_r)\n",
    "    np.save(base_folder+ 'min_vals_lr_r', min_vals_hr_r)\n",
    "    \n",
    "    np.save(base_folder+ 'times' , times)\n",
    "    np.save(base_folder+ 'optimal_vals', optimal_vals)\n",
    "\n",
    "print 'norm1.value',norm1.value\n",
    "print 'cvxFidelityExp',cvxFidelityExp.value\n",
    "print 'cvxMaplDualExp', cvxMaplDualExp.value\n",
    "fidelidad = regr.coef_*i_hr.reshape(-1,order='F')-i_lr.reshape(-1,order='F')\n",
    "fidelidad_sum_squares = np.sum(fidelidad**2)\n",
    "print 'fidelidad_sum_squares=', fidelidad_sum_squares\n",
    "dif_fid=np.abs(fidelidad_sum_squares-cvxFidelityExp.value) \n",
    "print 'dif(fidelidad_sum_squares)', dif_fid\n",
    "print 'err_rel(fidelidad_sum_squares)', dif_fid/cvxFidelityExp.value \n"
   ]
  },
  {
   "cell_type": "code",
   "execution_count": 416,
   "metadata": {
    "collapsed": false
   },
   "outputs": [
    {
     "name": "stdout",
     "output_type": "stream",
     "text": [
      "1000.0\n"
     ]
    },
    {
     "data": {
      "text/plain": [
       "False"
      ]
     },
     "execution_count": 416,
     "metadata": {},
     "output_type": "execute_result"
    },
    {
     "data": {
      "image/png": "[encoded data removed]",
      "text/plain": [
       "<matplotlib.figure.Figure at 0x7f3612a672d0>"
      ]
     },
     "metadata": {},
     "output_type": "display_data"
    }
   ],
   "source": [
    "import utils.math_utils as mat_utils\n",
    "reload(img_utils)\n",
    "print gtab.bvals[0]\n",
    "normalize = mat_utils.normalize\n",
    "img_utils._ish(A, b=4, vmin=0, vmax=1200)\n",
    "np.any(A<=0)\n"
   ]
  },
  {
   "cell_type": "code",
   "execution_count": 384,
   "metadata": {
    "collapsed": false
   },
   "outputs": [
    {
     "data": {
      "text/plain": [
       "(array([ 40.,   9.,  12.,  15.,  24.,  24.,  11.,   4.,   2.,   3.]),\n",
       " array([ 0.  ,  0.07,  0.14,  0.21,  0.28,  0.35,  0.42,  0.49,  0.56,\n",
       "         0.63,  0.7 ]),\n",
       " <a list of 10 Patch objects>)"
      ]
     },
     "execution_count": 384,
     "metadata": {},
     "output_type": "execute_result"
    },
    {
     "data": {
      "image/png": "[encoded data removed]",
      "text/plain": [
       "<matplotlib.figure.Figure at 0x7f36ed04e950>"
      ]
     },
     "metadata": {},
     "output_type": "display_data"
    }
   ],
   "source": [
    "hist(A[:,6,:, 4].flatten(), range=(0,0.7))"
   ]
  },
  {
   "cell_type": "code",
   "execution_count": null,
   "metadata": {
    "collapsed": false
   },
   "outputs": [],
   "source": [
    "b=4\n",
    "img_utils._isc(A, i_hr, b=b, vmin=0, vmax=1500, titles=['recons', 'orig'])\n",
    "\n",
    "#img_utils._is(A, vmin=A.min(), vmax=A.max())\n",
    "print 'recons', (A[:,6,:,b].min(), A[:,6,:,b].mean(), A[:,6,:,b].max())\n",
    "print 'orig',(i_hr[:,6,:,b].min(), i_hr[:,6,:,b].mean(), i_hr[:,6,:,b].max())\n",
    "#G.shape\n",
    "\n",
    "print 'con la primer forma de tvnorm'\n",
    "print 'dif_norm_hrs', dif_norm_hrs\n",
    "print 'dif_norm_lrs', dif_norm_lrs   \n",
    "print 'Yhr_recons_norms', Yhr_recons_norms\n",
    "print 'Ylr_recons_norms', Ylr_recons_norms\n",
    "print 'Yhr_norms', Yhr_norms\n",
    "print 'Ylr_norms', Ylr_norms\n",
    "print 'times',times\n",
    "print 'optimal_vals', optimal_vals"
   ]
  },
  {
   "cell_type": "code",
   "execution_count": 376,
   "metadata": {
    "collapsed": false
   },
   "outputs": [
    {
     "data": {
      "text/plain": [
       "(14328, 35423375360)"
      ]
     },
     "execution_count": 376,
     "metadata": {},
     "output_type": "execute_result"
    },
    {
     "data": {
      "image/png": "[encoded data removed]",
      "text/plain": [
       "<matplotlib.figure.Figure at 0x7f369b7059d0>"
      ]
     },
     "metadata": {},
     "output_type": "display_data"
    }
   ],
   "source": [
    "# Lo mismo normalizado\n",
    "#img_utils._isc(normalize(A), normalize(i_hr), b=b, vmin=0, vmax=1, titles=['N(recons)', 'N(orig)'])\n",
    "hist(mse.flatten())\n",
    "mm(mse)"
   ]
  },
  {
   "cell_type": "code",
   "execution_count": 377,
   "metadata": {
    "collapsed": false
   },
   "outputs": [
    {
     "data": {
      "text/plain": [
       "(8047, 11805038)"
      ]
     },
     "execution_count": 377,
     "metadata": {},
     "output_type": "execute_result"
    },
    {
     "data": {
      "image/png": "[encoded data removed]",
      "text/plain": [
       "<matplotlib.figure.Figure at 0x7f369b67d7d0>"
      ]
     },
     "metadata": {},
     "output_type": "display_data"
    }
   ],
   "source": [
    "#mse = ((A-i_hr)**2).mean(axis=3)\n",
    "mse = ((A-i_hr)**2).mean(axis=3)\n",
    "\n",
    "err = np.abs(A - i_hr)\n",
    "err_rel = np.divide(err, i_hr+1)#para q no de infinito\n",
    "\n",
    "titles=['recons', 'orig', 'err rel']\n",
    "plt, _, _, im3 = img_utils._isc3(A, i_hr, err_rel,  b=4, vmin=[0, 0], vmax=[1200,1] ,titles=titles)\n",
    "plt.colorbar(im3,fraction=0.056, pad=0.04)\n",
    "mm(mse)\n",
    "#hist(err_rel.flatten(), range=(0,6))"
   ]
  },
  {
   "cell_type": "code",
   "execution_count": 410,
   "metadata": {
    "collapsed": false
   },
   "outputs": [
    {
     "name": "stdout",
     "output_type": "stream",
     "text": [
      "(0, 1024)\n",
      "Error relativo max,min u std (0, 14) 0 0\n",
      "max/min i_hr: (16, 3105) 878.869 Eq: (16, 2629) 788.535361093\n",
      "norm2(C)= 122135.0 norm1= 5021572.70743\n"
     ]
    },
    {
     "data": {
      "image/png": "[encoded data removed]",
      "text/plain": [
       "<matplotlib.figure.Figure at 0x7f36a77092d0>"
      ]
     },
     "metadata": {},
     "output_type": "display_data"
    }
   ],
   "source": [
    "Nx, Ny, Nz, Nb = i_hr.shape\n",
    "Nb, Nc =  M.shape\n",
    "Eq_reconst = M.dot(C.reshape((Nx*Ny*Nz, Nc), order='F').T).T#mapl_predict(gtab, C.reshape((Nx*Ny*Nz, Nc), order='F'), M, tau, Nx, Ny, Nz)\n",
    "Eq_reconst = Eq_reconst.reshape((Nx, Ny, Nz, Nb), order='F')\n",
    "\n",
    "err = np.abs(Eq_reconst - i_hr)\n",
    "err_rel = np.divide(err, i_hr+1)#para q no de infinito\n",
    "\n",
    "print mm(err) \n",
    "print 'Error relativo max,min u std', mm(err_rel), int(err_rel.mean()), \\\n",
    "                                      int(np.std(err_rel)) \n",
    "\n",
    "#img_utils._isc(i_hr, Eq_reconst, b=b, vmin=0, vmax=1200, titles=['i_hr', 'cvxpy'])\n",
    "img_utils._isc(A, Eq_reconst,b=4, vmin=0, vmax=900, titles=['^Yhr', 'C*M'])\n",
    "\n",
    "#img_utils._is( Eq_reconst,b=4, vmin=0, vmax=3000)\n",
    "print 'max/min i_hr:',mm(i_hr),i_hr.mean(),'Eq:', mm(Eq_reconst), Eq_reconst.mean()\n",
    "np.any(Eq_reconst<=0)\n",
    "print 'norm2(C)=', np.linalg.norm(C), 'norm1=', cvx.norm1(C.flatten()).value"
   ]
  },
  {
   "cell_type": "code",
   "execution_count": 409,
   "metadata": {
    "collapsed": false
   },
   "outputs": [
    {
     "name": "stdout",
     "output_type": "stream",
     "text": [
      "84.6906565657 %rales\n"
     ]
    },
    {
     "data": {
      "image/png": "[encoded data removed]",
      "text/plain": [
       "<matplotlib.figure.Figure at 0x7f36a76f1510>"
      ]
     },
     "metadata": {},
     "output_type": "display_data"
    }
   ],
   "source": [
    "hist(Eq_reconst[:,6,:, 4].flatten())\n",
    "print np.sum(np.abs(C[:,6,:,:]) <= 0.9)/ float(C[:,6,:,:].size)*100, '%rales'"
   ]
  },
  {
   "cell_type": "code",
   "execution_count": 303,
   "metadata": {
    "collapsed": false
   },
   "outputs": [
    {
     "name": "stdout",
     "output_type": "stream",
     "text": [
      "fidelidad_sum_squares= 178687461.639\n",
      "dif(fidelidad_sum_squares) 72660379.6677\n",
      "err_rel(fidelidad_sum_squares) 0.289082966816\n"
     ]
    }
   ],
   "source": []
  },
  {
   "cell_type": "code",
   "execution_count": 304,
   "metadata": {
    "collapsed": false
   },
   "outputs": [
    {
     "name": "stdout",
     "output_type": "stream",
     "text": [
      "True\n"
     ]
    },
    {
     "data": {
      "image/png": "[encoded data removed]",
      "text/plain": [
       "<matplotlib.figure.Figure at 0x7f365b80ba50>"
      ]
     },
     "metadata": {},
     "output_type": "display_data"
    }
   ],
   "source": [
    "#cvxMaplE.size, 12*12*12\n",
    "MC = np.asarray(cvxMaplE.value, dtype='float32')#.reshape(i_hr_shape, order='F')\n",
    "\n",
    "MC = MC.reshape((Nx, Ny, Nz, Nb), order='F')\n",
    "\n",
    "img_utils._is( MC,b=4, vmin=-10, vmax=0)\n",
    "print np.any(MC<=-2)"
   ]
  }
 ],
 "metadata": {
  "kernelspec": {
   "display_name": "Python 2",
   "language": "python",
   "name": "python2"
  },
  "language_info": {
   "codemirror_mode": {
    "name": "ipython",
    "version": 2
   },
   "file_extension": ".py",
   "mimetype": "text/x-python",
   "name": "python",
   "nbconvert_exporter": "python",
   "pygments_lexer": "ipython2",
   "version": "2.7.12"
  }
 },
 "nbformat": 4,
 "nbformat_minor": 0
}
