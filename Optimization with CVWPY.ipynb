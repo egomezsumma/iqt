{
 "cells": [
  {
   "cell_type": "markdown",
   "metadata": {},
   "source": [
    "# Optimization with CVXPy\n"
   ]
  },
  {
   "cell_type": "code",
   "execution_count": 1,
   "metadata": {
    "collapsed": false
   },
   "outputs": [
    {
     "name": "stdout",
     "output_type": "stream",
     "text": [
      "Populating the interactive namespace from numpy and matplotlib\n"
     ]
    }
   ],
   "source": [
    "%pylab inline\n",
    "import numpy as np\n",
    "import cvxpy as cvx\n",
    "import matplotlib.pyplot as plt\n",
    "from utils import img_utils"
   ]
  },
  {
   "cell_type": "code",
   "execution_count": 12,
   "metadata": {
    "collapsed": false
   },
   "outputs": [
    {
     "data": {
      "text/plain": [
       "<module 'utils.img_utils' from 'utils/img_utils.py'>"
      ]
     },
     "execution_count": 12,
     "metadata": {},
     "output_type": "execute_result"
    }
   ],
   "source": [
    "reload(img_utils)"
   ]
  },
  {
   "cell_type": "markdown",
   "metadata": {},
   "source": [
    "## Load DMRI image"
   ]
  },
  {
   "cell_type": "code",
   "execution_count": 2,
   "metadata": {
    "collapsed": false
   },
   "outputs": [
    {
     "name": "stderr",
     "output_type": "stream",
     "text": [
      "/user/lgomez/home/anaconda2/lib/python2.7/site-packages/skimage/filter/__init__.py:6: skimage_deprecation: The `skimage.filter` module has been renamed to `skimage.filters`.  This placeholder module will be removed in v0.13.\n",
      "  warn(skimage_deprecation('The `skimage.filter` module has been renamed '\n"
     ]
    },
    {
     "name": "stdout",
     "output_type": "stream",
     "text": [
      "Dataset is already in place. If you want to fetch it again please first remove the folder /user/lgomez/home/.dipy/stanford_hardi \n",
      "Dataset is already in place. If you want to fetch it again please first remove the folder /user/lgomez/home/.dipy/stanford_hardi \n"
     ]
    },
    {
     "data": {
      "text/plain": [
       "<module 'matplotlib.pyplot' from '/user/lgomez/home/anaconda2/lib/python2.7/site-packages/matplotlib/pyplot.pyc'>"
      ]
     },
     "execution_count": 2,
     "metadata": {},
     "output_type": "execute_result"
    },
    {
     "data": {
      "image/png": "[encoded data removed]",
      "text/plain": [
       "<matplotlib.figure.Figure at 0x7f2907dcebd0>"
      ]
     },
     "metadata": {},
     "output_type": "display_data"
    }
   ],
   "source": [
    "from utils.DataGetter import DataGetter\n",
    "from utils.DownsampledImage import DownsampledImage\n",
    "\n",
    "d = DataGetter()\n",
    "datas_names = [\n",
    "    DataGetter.STANDFORD_HARDI_DATA, #(81, 106, 76, 160)\n",
    "    #DataGetter.TAIWAN_NTU_DSI_DATA,  #(96, 96, 60, 203)\n",
    "    #DataGetter.SHERBROOKE_3SHELL_DATA #(128, 128, 60, 193)\n",
    "]\n",
    "\n",
    "scale=2\n",
    "datas = d.get_data(datas_names)\n",
    "name = datas_names[0]\n",
    "lr_hr_img = DownsampledImage(name, datas[name]['img'], datas[name]['gtab'], scale)\n",
    "\n",
    "img_hr = lr_hr_img.get_hr_img()\n",
    "img_lr = lr_hr_img.get_lr_img()\n",
    "img_utils._isc(img_hr,img_lr, titles=['HR '+str(img_hr.shape), 'LR '+str(img_lr.shape)] )"
   ]
  },
  {
   "cell_type": "markdown",
   "metadata": {},
   "source": [
    "### Select Area of Interest"
   ]
  },
  {
   "cell_type": "code",
   "execution_count": 3,
   "metadata": {
    "collapsed": false
   },
   "outputs": [
    {
     "data": {
      "text/plain": [
       "<module 'matplotlib.pyplot' from '/user/lgomez/home/anaconda2/lib/python2.7/site-packages/matplotlib/pyplot.pyc'>"
      ]
     },
     "execution_count": 3,
     "metadata": {},
     "output_type": "execute_result"
    },
    {
     "data": {
      "image/png": "[encoded data removed]",
      "text/plain": [
       "<matplotlib.figure.Figure at 0x7f29407b3190>"
      ]
     },
     "metadata": {},
     "output_type": "display_data"
    }
   ],
   "source": [
    "img_shape = img_lr.shape\n",
    "volume_range_lr = (10, 16, 15, 21, 15, 21)\n",
    "bval_range = (0,20)\n",
    "\n",
    "i_lr = img_lr[10:16, 15:21, 15:21,0:20]\n",
    "i_hr = img_hr[20:32, 30:42, 30:42,0:20]\n",
    "img_utils._isc(i_hr,i_lr, titles=['Orig '+str(i_hr.shape), 'Downsam... '+str(i_lr.shape)] )"
   ]
  },
  {
   "cell_type": "markdown",
   "metadata": {},
   "source": [
    "## Problem definition"
   ]
  },
  {
   "cell_type": "markdown",
   "metadata": {},
   "source": [
    "$ \\min_{Y_{hr}} \\{ ||GY_{lr} - Y_{hr}||^2 \\}$ st $Y_{hr} \\geq 0$"
   ]
  },
  {
   "cell_type": "code",
   "execution_count": 15,
   "metadata": {
    "collapsed": false
   },
   "outputs": [
    {
     "data": {
      "text/plain": [
       "Problem(Minimize(Expression(CONVEX, POSITIVE, (1, 1))), [LeqConstraint(Constant(CONSTANT, ZERO, (1, 1)), Variable(1728, 6))])"
      ]
     },
     "execution_count": 15,
     "metadata": {},
     "output_type": "execute_result"
    }
   ],
   "source": [
    "Nx, Ny, Nz, bval = i_hr.shape\n",
    "vhr = Nx*Ny*Nz\n",
    "vlr = vhr/8\n",
    "\n",
    "Yhr = cvx.Variable(vhr, bval)\n",
    "Ylr = i_lr.reshape((vlr, bval))\n",
    "G_rala = img_utils.buildDownsamplig((Nx, Ny, Nz), 2)\n",
    "G = cvx.Parameter(*G_rala.shape, value=G_rala)\n",
    "\n",
    "# Form objective.\n",
    "obj = cvx.Minimize(cvx.sum_squares(G*Yhr- Ylr))\n",
    "\n",
    "# Create two constraints.\n",
    "constraints = [Yhr >= 0]\n",
    "\n",
    "# Form and solve problem.\n",
    "prob = cvx.Problem(obj, constraints)\n",
    "prob"
   ]
  },
  {
   "cell_type": "code",
   "execution_count": 16,
   "metadata": {
    "collapsed": false
   },
   "outputs": [
    {
     "name": "stdout",
     "output_type": "stream",
     "text": [
      "status: optimal_inaccurate\n",
      "optimal value 1.01741316027e-08\n"
     ]
    }
   ],
   "source": [
    "prob.solve()  # Returns the optimal value.\n",
    "print \"status:\", prob.status\n",
    "print \"optimal value\", prob.value\n",
    "#print \"optimal var\", Yhr.value"
   ]
  },
  {
   "cell_type": "code",
   "execution_count": 17,
   "metadata": {
    "collapsed": false
   },
   "outputs": [
    {
     "name": "stdout",
     "output_type": "stream",
     "text": [
      "shape= (12, 12, 12, 6)\n"
     ]
    },
    {
     "data": {
      "text/plain": [
       "<module 'matplotlib.pyplot' from '/user/lgomez/home/anaconda2/lib/python2.7/site-packages/matplotlib/pyplot.pyc'>"
      ]
     },
     "execution_count": 17,
     "metadata": {},
     "output_type": "execute_result"
    },
    {
     "data": {
      "image/png": "[encoded data removed]",
      "text/plain": [
       "<matplotlib.figure.Figure at 0x7f5a31c62a50>"
      ]
     },
     "metadata": {},
     "output_type": "display_data"
    }
   ],
   "source": [
    "A = np.asarray(Yhr.value).reshape(i_hr.shape)\n",
    "print 'shape=',A.shape\n",
    "img_utils._isc(i_hr,A,titles=['Orig', 'Yhr'] )"
   ]
  },
  {
   "cell_type": "markdown",
   "metadata": {},
   "source": [
    "# Predicting the G downsampling Matrix"
   ]
  },
  {
   "cell_type": "code",
   "execution_count": 12,
   "metadata": {
    "collapsed": false
   },
   "outputs": [
    {
     "data": {
      "text/plain": [
       "<module 'utils.dmri_patch_operations.DmriPatch' from 'utils/dmri_patch_operations/DmriPatch.pyc'>"
      ]
     },
     "execution_count": 12,
     "metadata": {},
     "output_type": "execute_result"
    }
   ],
   "source": [
    "reload(rr)\n",
    "reload(sc)\n",
    "reload(db)\n",
    "reload(ixs)\n",
    "import utils.dmri_patch_operations.DmriPatch as patchs\n",
    "reload(patchs)"
   ]
  },
  {
   "cell_type": "code",
   "execution_count": 4,
   "metadata": {
    "collapsed": false
   },
   "outputs": [
    {
     "name": "stdout",
     "output_type": "stream",
     "text": [
      "Samples for  standfor_hardi : 10 of inf\n",
      "(4320, 10) (34560, 10)\n"
     ]
    }
   ],
   "source": [
    "import utils.RandomRanges as rr\n",
    "import utils.DmriVolumesRandomIndexers as ixs\n",
    "import utils.DmriSampleCreators as sc\n",
    "import utils.ml.MLDataBuilder as db\n",
    "\n",
    "\n",
    "# Estrategia de volumne y rango de bvals (fija)\n",
    "volume_strategy, bval_strategy = rr.Fixed3DRange(*volume_range_lr), rr.Fixed1DRange(*bval_range)\n",
    "# El que combina ambas\n",
    "dmri_volume_indexer = ixs.DmriVolumeRandomIndexer(volume_strategy, bval_strategy)\n",
    "# Equivalencia entre indices de la hr y lr \n",
    "fconvert = lambda *lr_tuple : tuple(np.array(lr_tuple[:-2])*2)+lr_tuple[-2:]\n",
    "# Iterador de dmri imagen lr y hr\n",
    "lr_hr_vol_it = ixs.DmriLrHrCubicPatchVolumeRandomIndexer(dmri_volume_indexer, fconvert, from_lr2hr=True)\n",
    "\n",
    "# El que toma la imagen original y downsampleada y les pone ruido (gaussian, rician)\n",
    "sample_creator = sc.NoisedLrHrDmriSampleCreator(lr_hr_img, lr_hr_vol_it, snr=100, noise_type='gaussian')\n",
    "\n",
    "\n",
    "n_samples = 10\n",
    "\n",
    "# Builder that organize data like the ML wants \n",
    "sdb = db.SimpleMlDataBuilder(sample_creator, n_samples)\n",
    "\n",
    "X, Y = sdb.build()\n",
    "print X.shape, Y.shape"
   ]
  },
  {
   "cell_type": "code",
   "execution_count": 36,
   "metadata": {
    "collapsed": true
   },
   "outputs": [],
   "source": [
    "from sklearn import linear_model\n",
    "linear_model.LinearRegression?"
   ]
  },
  {
   "cell_type": "code",
   "execution_count": 38,
   "metadata": {
    "collapsed": false
   },
   "outputs": [
    {
     "name": "stdout",
     "output_type": "stream",
     "text": [
      "(34560, 10)\n",
      "Training set_training.shape= (34560, 4)  ->target.shape= (4320, 4)\n"
     ]
    }
   ],
   "source": [
    "from scipy.sparse import csr_matrix, csc_matrix\n",
    "import experimento1_funciones as e1f\n",
    "reload(e1f)\n",
    "\n",
    "print Y.shape\n",
    "regr, X_train , y_train, X_test, y_test = e1f.train(Y[:,:5],X[:,:5])"
   ]
  },
  {
   "cell_type": "code",
   "execution_count": 55,
   "metadata": {
    "collapsed": false
   },
   "outputs": [
    {
     "name": "stderr",
     "output_type": "stream",
     "text": [
      "/user/lgomez/home/anaconda2/lib/python2.7/site-packages/sklearn/utils/validation.py:386: DeprecationWarning: Passing 1d arrays as data is deprecated in 0.17 and willraise ValueError in 0.19. Reshape your data either using X.reshape(-1, 1) if your data has a single feature or X.reshape(1, -1) if it contains a single sample.\n",
      "  DeprecationWarning)\n"
     ]
    }
   ],
   "source": [
    "y_pred = regr.predict(i_hr.reshape(-1))"
   ]
  },
  {
   "cell_type": "code",
   "execution_count": 56,
   "metadata": {
    "collapsed": false
   },
   "outputs": [
    {
     "data": {
      "text/plain": [
       "(2896.3794012487474, 3197.0)"
      ]
     },
     "execution_count": 56,
     "metadata": {},
     "output_type": "execute_result"
    }
   ],
   "source": [
    "y_pred.ptp(), y_test.ptp()"
   ]
  },
  {
   "cell_type": "code",
   "execution_count": 57,
   "metadata": {
    "collapsed": false
   },
   "outputs": [
    {
     "data": {
      "text/plain": [
       "<module 'matplotlib.pyplot' from '/user/lgomez/home/anaconda2/lib/python2.7/site-packages/matplotlib/pyplot.pyc'>"
      ]
     },
     "execution_count": 57,
     "metadata": {},
     "output_type": "execute_result"
    },
    {
     "data": {
      "image/png": "[encoded data removed]",
      "text/plain": [
       "<matplotlib.figure.Figure at 0x7f28b104c750>"
      ]
     },
     "metadata": {},
     "output_type": "display_data"
    }
   ],
   "source": [
    "y_pred_mat = y_pred.reshape(i_lr.shape)\n",
    "img_utils._isc(y_test.reshape(i_lr.shape), y_pred_mat)"
   ]
  },
  {
   "cell_type": "code",
   "execution_count": null,
   "metadata": {
    "collapsed": false
   },
   "outputs": [],
   "source": [
    "regr.coef_ = csr_matrix(regr.coef_)\n",
    "type(regr.coef_)"
   ]
  },
  {
   "cell_type": "code",
   "execution_count": 58,
   "metadata": {
    "collapsed": false
   },
   "outputs": [
    {
     "data": {
      "text/plain": [
       "(6, 6, 6, 20)"
      ]
     },
     "execution_count": 58,
     "metadata": {},
     "output_type": "execute_result"
    },
    {
     "data": {
      "image/png": "[encoded data removed]",
      "text/plain": [
       "<matplotlib.figure.Figure at 0x7f28b14065d0>"
      ]
     },
     "metadata": {},
     "output_type": "display_data"
    }
   ],
   "source": [
    "i_lr_recons = regr.coef_.dot(i_hr.reshape(-1)).reshape(i_lr.shape)\n",
    "img_utils._isc(i_lr_recons, i_lr, titles=['reconsLR=G*Hr','Lr'], b=1)\n",
    "i_lr_recons.shape"
   ]
  },
  {
   "cell_type": "code",
   "execution_count": 59,
   "metadata": {
    "collapsed": false
   },
   "outputs": [
    {
     "data": {
      "text/plain": [
       "<module 'matplotlib.pyplot' from '/user/lgomez/home/anaconda2/lib/python2.7/site-packages/matplotlib/pyplot.pyc'>"
      ]
     },
     "execution_count": 59,
     "metadata": {},
     "output_type": "execute_result"
    },
    {
     "data": {
      "image/png": "[encoded data removed]",
      "text/plain": [
       "<matplotlib.figure.Figure at 0x7f28fb306a10>"
      ]
     },
     "metadata": {},
     "output_type": "display_data"
    }
   ],
   "source": [
    "img_utils._isc3(i_hr, Y[:,3].reshape(i_hr.shape),X[:,3].reshape(i_lr.shape), titles=['Orig','sampleHR','sampleLR'] )"
   ]
  },
  {
   "cell_type": "code",
   "execution_count": 18,
   "metadata": {
    "collapsed": false
   },
   "outputs": [
    {
     "data": {
      "text/plain": [
       "(array([   3.,   11.,   74.,  306.,  633.,  701.,  319.,   92.,   19.,    2.]),\n",
       " array([-67.19298487, -53.88210478, -40.57122469, -27.26034459,\n",
       "        -13.9494645 ,  -0.63858441,  12.67229568,  25.98317577,\n",
       "         39.29405587,  52.60493596,  65.91581605]),\n",
       " <a list of 10 Patch objects>)"
      ]
     },
     "execution_count": 18,
     "metadata": {},
     "output_type": "execute_result"
    },
    {
     "data": {
      "image/png": "[encoded data removed]",
      "text/plain": [
       "<matplotlib.figure.Figure at 0x7fe7181439d0>"
      ]
     },
     "metadata": {},
     "output_type": "display_data"
    }
   ],
   "source": [
    "hist(i_lr_recons.flatten())"
   ]
  },
  {
   "cell_type": "code",
   "execution_count": 10,
   "metadata": {
    "collapsed": false
   },
   "outputs": [
    {
     "data": {
      "text/plain": [
       "(array([ 691.,  372.,   49.,   27.,   51.,   54.,   25.,    9.,    6.,   12.]),\n",
       " array([  322. ,   586.6,   851.2,  1115.8,  1380.4,  1645. ,  1909.6,\n",
       "         2174.2,  2438.8,  2703.4,  2968. ]),\n",
       " <a list of 10 Patch objects>)"
      ]
     },
     "execution_count": 10,
     "metadata": {},
     "output_type": "execute_result"
    },
    {
     "data": {
      "image/png": "[encoded data removed]",
      "text/plain": [
       "<matplotlib.figure.Figure at 0x7fe7181c5490>"
      ]
     },
     "metadata": {},
     "output_type": "display_data"
    }
   ],
   "source": [
    "hist(i_lr.flatten())"
   ]
  }
 ],
 "metadata": {
  "kernelspec": {
   "display_name": "Python 2",
   "language": "python",
   "name": "python2"
  },
  "language_info": {
   "codemirror_mode": {
    "name": "ipython",
    "version": 2
   },
   "file_extension": ".py",
   "mimetype": "text/x-python",
   "name": "python",
   "nbconvert_exporter": "python",
   "pygments_lexer": "ipython2",
   "version": "2.7.12"
  }
 },
 "nbformat": 4,
 "nbformat_minor": 0
}
