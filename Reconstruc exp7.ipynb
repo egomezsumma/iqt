{
 "cells": [
  {
   "cell_type": "code",
   "execution_count": 1,
   "metadata": {
    "collapsed": false
   },
   "outputs": [
    {
     "name": "stdout",
     "output_type": "stream",
     "text": [
      "Populating the interactive namespace from numpy and matplotlib\n"
     ]
    }
   ],
   "source": [
    "import numpy as np\n",
    "from conf_exp6 import *\n",
    "\n",
    "%pylab inline\n",
    "from utils import img_utils\n",
    "import seaborn\n",
    "import matplotlib.pyplot as plt\n",
    "\n",
    "\n",
    "def mm(A, cast_int=True):\n",
    "    if cast_int:\n",
    "        return (int(A.min()), int(A.max()))\n",
    "    else:\n",
    "        return (A.min(), A.max())"
   ]
  },
  {
   "cell_type": "code",
   "execution_count": 2,
   "metadata": {
    "collapsed": false
   },
   "outputs": [
    {
     "name": "stdout",
     "output_type": "stream",
     "text": [
      "[4, 3, 2, 1.5, 1.2]\n",
      "(5, 10, 5)\n"
     ]
    }
   ],
   "source": [
    "parameter_name = 'scale'\n",
    "formula = 'f1'\n",
    "base_folder = './results/exp7/%s/%s/'%(formula, parameter_name)\n",
    "scales = [4, 3, 2, 1.5, 1.2]\n",
    "rango = scales\n",
    "\n",
    "GROUPS=5\n",
    "FITS=10\n",
    "RANGO=len(rango)\n",
    "print rango \n",
    "\n",
    "\"\"\"\n",
    "REVISAR EL OTRO EL ORDEN DE LO\n",
    "GUARDADO\n",
    "\n",
    "\"\"\"\n",
    "\n",
    "\n",
    "mse = np.zeros((RANGO, FITS, GROUPS), dtype='float32')\n",
    "mse1000 = np.zeros((RANGO, FITS, GROUPS), dtype='float32')\n",
    "mse2000 = np.zeros((RANGO, FITS, GROUPS), dtype='float32')\n",
    "mse3000 = np.zeros((RANGO, FITS, GROUPS), dtype='float32')\n",
    "\n",
    "A = {}\n",
    "\n",
    "# example: mse1000_g0_f0.npy  \n",
    "name_tmp1 = base_folder + 'mse_g%d_f%d.npy'\n",
    "name_tmp2 = base_folder + 'mse%d_g%d_f%d.npy'\n",
    "name_tmp3 = base_folder + 'A_g%d_scale%d.npy'\n",
    "for group in xrange(GROUPS):\n",
    "    for fit in xrange(FITS):\n",
    "        mse[:, fit, group] = np.load(name_tmp1%(group, fit))\n",
    "        mse1000[:, fit, group] = np.load(name_tmp2%(1000, group, fit))\n",
    "        mse2000[:, fit, group] = np.load(name_tmp2%(2000, group, fit))\n",
    "        mse3000[:, fit, group] = np.load(name_tmp2%(3000, group, fit))\n",
    "        #A_g4_scale4.npy\n",
    "        if group == 0 :\n",
    "            for i in xrange(RANGO):\n",
    "                A[i] = np.load(name_tmp3%(group, i)) \n",
    "\n",
    "print mse.shape\n"
   ]
  },
  {
   "cell_type": "code",
   "execution_count": 3,
   "metadata": {
    "collapsed": false
   },
   "outputs": [
    {
     "name": "stdout",
     "output_type": "stream",
     "text": [
      "[4, 3, 2, 1.5, 1.2]\n",
      "<function mean at 0x7fe6300c6500>\n",
      "[ 325235.34375  325239.25     325211.40625  325194.9375   325192.59375]\n"
     ]
    }
   ],
   "source": [
    "\n",
    "print rango\n",
    "_mean = mse.mean(axis=2).mean(axis=1)\n",
    "var = np.std(np.std(mse, axis=2), axis=1)\n",
    "print mean\n",
    "print var"
   ]
  },
  {
   "cell_type": "code",
   "execution_count": 4,
   "metadata": {
    "collapsed": false
   },
   "outputs": [
    {
     "name": "stdout",
     "output_type": "stream",
     "text": [
      "[4, 3, 2, 1.5, 1.2]\n"
     ]
    },
    {
     "name": "stderr",
     "output_type": "stream",
     "text": [
      "/user/lgomez/home/anaconda2/lib/python2.7/site-packages/matplotlib/axes/_axes.py:519: UserWarning: No labelled objects found. Use label='...' kwarg on individual plots.\n",
      "  warnings.warn(\"No labelled objects found. \"\n"
     ]
    },
    {
     "data": {
      "text/plain": [
       "<matplotlib.text.Text at 0x7fe618e02c50>"
      ]
     },
     "execution_count": 4,
     "metadata": {},
     "output_type": "execute_result"
    },
    {
     "data": {
      "image/png": "[encoded data removed]",
      "text/plain": [
       "<matplotlib.figure.Figure at 0x7fe648fa8ad0>"
      ]
     },
     "metadata": {},
     "output_type": "display_data"
    }
   ],
   "source": [
    "#rango = np.arange(1.627e-15, 2.0, 0.2)\n",
    "print rango\n",
    "\n",
    "mean3000 = mse3000.mean(axis=2).mean(axis=1)\n",
    "\n",
    "#plt.plot(rango, mean3000,'o', label='b=3000')\n",
    "#plt.plot(rango, mean1000, 'o', label='b=1000')\n",
    "#plt.plot(rango, mean2000,'o', label='b=2000')\n",
    "#plt.errorbar(rango, _mean, yerr=var, fmt='o')\n",
    "plt.plot(rango, _mean,'o')\n",
    "plt.legend()\n",
    "plt.ylabel('MSE(Yhr,^Yhr)')\n",
    "plt.xlabel(parameter_name)\n",
    "#plt.legend(lala , loc=2, bbox_to_anchor=(1, 0.5))\n",
    "#plt.xlim(0, 0.5)\n",
    "#print plt.ylim((1136400.0, 1136800.0))\n"
   ]
  },
  {
   "cell_type": "code",
   "execution_count": 6,
   "metadata": {
    "collapsed": false
   },
   "outputs": [
    {
     "data": {
      "text/plain": [
       "<matplotlib.figure.Figure at 0x7ff7f9e4dad0>"
      ]
     },
     "metadata": {},
     "output_type": "display_data"
    }
   ],
   "source": [
    "## Para grabar\n",
    "plt.savefig('/user/lgomez/home/workspace/iqt/results/exp7/scales.pdf')"
   ]
  },
  {
   "cell_type": "code",
   "execution_count": 19,
   "metadata": {
    "collapsed": false
   },
   "outputs": [
    {
     "name": "stdout",
     "output_type": "stream",
     "text": [
      "[4, 3, 2, 1.5, 1.2]\n"
     ]
    },
    {
     "data": {
      "text/plain": [
       "(0.05932899299558602, 0.8717897560329243)"
      ]
     },
     "execution_count": 19,
     "metadata": {},
     "output_type": "execute_result"
    },
    {
     "data": {
      "image/png": "[encoded data removed]",
      "text/plain": [
       "<matplotlib.figure.Figure at 0x7ff7e6f64210>"
      ]
     },
     "metadata": {},
     "output_type": "display_data"
    }
   ],
   "source": [
    "print rango\n",
    "i_hr = np.load(base_folder + 'i_hr_g0.npy')\n",
    "A0 = np.load(base_folder + 'A_g0_scale0.npy')\n",
    "A1 = np.load(base_folder + 'A_g0_scale1.npy')\n",
    "A2 = np.load(base_folder + 'A_g0_scale2.npy')\n",
    "A3 = np.load(base_folder + 'A_g0_scale3.npy')\n",
    "A4 = np.load(base_folder + 'A_g0_scale4.npy')\n",
    "\n",
    "img_utils._isc(A4,i_hr, vmax=1)\n",
    "mm(A0, cast_int=False)"
   ]
  },
  {
   "cell_type": "code",
   "execution_count": 23,
   "metadata": {
    "collapsed": false
   },
   "outputs": [
    {
     "data": {
      "text/plain": [
       "(0.0, 2729.8464)"
      ]
     },
     "execution_count": 23,
     "metadata": {},
     "output_type": "execute_result"
    },
    {
     "data": {
      "image/png": "[encoded data removed]",
      "text/plain": [
       "<matplotlib.figure.Figure at 0x7ff7e6a68150>"
      ]
     },
     "metadata": {},
     "output_type": "display_data"
    }
   ],
   "source": [
    "img_utils._is(i_hr, vmax=2729)\n",
    "mm(i_hr, cast_int=False)"
   ]
  },
  {
   "cell_type": "code",
   "execution_count": 26,
   "metadata": {
    "collapsed": false
   },
   "outputs": [
    {
     "data": {
      "text/plain": [
       "(10,)"
      ]
     },
     "execution_count": 26,
     "metadata": {},
     "output_type": "execute_result"
    }
   ],
   "source": [
    "np.arange(10000, 1000001, 100000).shape\n"
   ]
  }
 ],
 "metadata": {
  "kernelspec": {
   "display_name": "Python 2",
   "language": "python",
   "name": "python2"
  },
  "language_info": {
   "codemirror_mode": {
    "name": "ipython",
    "version": 2
   },
   "file_extension": ".py",
   "mimetype": "text/x-python",
   "name": "python",
   "nbconvert_exporter": "python",
   "pygments_lexer": "ipython2",
   "version": "2.7.12"
  }
 },
 "nbformat": 4,
 "nbformat_minor": 0
}
