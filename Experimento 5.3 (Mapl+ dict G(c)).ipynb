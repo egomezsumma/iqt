{
 "cells": [
  {
   "cell_type": "markdown",
   "metadata": {},
   "source": [
    "# Optimizacion con MAPL\n",
    "\n",
    "$ G_{i} \\leftarrow train(\\{(C_{i}^{n}, c_{i}^{n})\\}_i) \\hspace{1cm}  (\\forall n=1,2 ... n\\_samples) (\\forall i=1,2 ... N_c ) $\n",
    " \n",
    "$ \\hspace{5.5cm} LR_n = downsampling(HR_n) $\n",
    "\n",
    "\n",
    "$ \\hspace{5.5cm} C, c \\leftarrow mapl(HR_n).C, mapl(LR_n).C$\n",
    "\n",
    "\n",
    "\n",
    "$ M \\leftarrow mapl(Y^{lr}.gtab) $\n",
    "\n",
    "$ \\min_{C^{hr}} \\{ \\left( \\sum_{i}^{Nc} ||GC^{hr} - C^{lr}||^2 \\right) + ||C||_{1} \\}$\n"
   ]
  },
  {
   "cell_type": "code",
   "execution_count": 1,
   "metadata": {
    "collapsed": false
   },
   "outputs": [
    {
     "name": "stdout",
     "output_type": "stream",
     "text": [
      "Populating the interactive namespace from numpy and matplotlib\n"
     ]
    }
   ],
   "source": [
    "%pylab inline\n",
    "import time\n",
    "import numpy as np\n",
    "import matplotlib.pyplot as plt\n",
    "from utils import img_utils\n",
    "import seaborn as sns\n",
    "import utils.math_utils as mat_utils\n",
    "#import nibabel as nib\n",
    "import mapmri.mapmri as mp\n",
    "#from dipy.core.gradients import gradient_table\n",
    "import cvxpy as cvx\n",
    "reload(img_utils)\n",
    "import load.hcp_img_loader as hcp"
   ]
  },
  {
   "cell_type": "code",
   "execution_count": 47,
   "metadata": {
    "collapsed": false
   },
   "outputs": [],
   "source": [
    "def get_sample_dwi(index, numbers, loader_func, bval=None, bvalpos=None,  scale=2):\n",
    "    # Load Hcp subject\n",
    "    img, gtab, idxs = loader_func(index, numbers, bval, bvalpos)\n",
    "    # Downsample data\n",
    "    lr, _ = img_utils.downsampling(img, scale)\n",
    "    data = img.get_data()\n",
    "    data_noS0 =data[:,:,:, idxs]\n",
    "    s0_idxs = [ i for i in xrange(max(idxs)+1)  if i not in idxs] \n",
    "    return data_noS0, lr[:,:,:, idxs], data[:,:,:,s0_idxs], lr[:, :, :, s0_idxs], gtab\n",
    "\n",
    "def get_sample(index, numbers, loader_func, bval=None, bvalpos=None,  scale=2):\n",
    "    hr, lr, S0hr, S0lr, gtab = get_sample_dwi(index, numbers, loader_func, bval=None, bvalpos=None,  scale=2)\n",
    "    # Calculate MAPL  C_hr:(Nx,Ny,Nz,Nc) c_lr:(nx,ny,nz,nc)\n",
    "    C_hr = getC(hr, gtab, radial_order = 4)\n",
    "    c_lr = getC(lr, gtab, radial_order = 4)\n",
    "    \n",
    "    # Multiply by S0 to get the signal (and not the atenuation)\n",
    "    S0hr, S0lr = S0hr.mean(axis=3), S0lr.mean(axis=3)\n",
    "    for c in xrange(C_hr.shape[3]):\n",
    "        C_hr[:,:,:,c] = np.multiply(C_hr[:,:,:,c], S0hr)\n",
    "        c_lr[:,:,:,c] = np.multiply(c_lr[:,:,:,c], S0lr)\n",
    "    \n",
    "    del(hr)\n",
    "    del(lr)\n",
    "    del(S0hr)\n",
    "    del(S0lr)\n",
    "    return C_hr, c_lr, gtab\n",
    "\n",
    "def get_sample_maker(numbers, loader_func, bval=None, bvalpos=None, scale=2):\n",
    "    return lambda index : get_sample(index, numbers, loader_func, bval, bvalpos,  scale)\n",
    "\n",
    "def mm(A, cast_int=True):\n",
    "    if cast_int :\n",
    "        return (int(A.min()), int(A.max()))\n",
    "    else:\n",
    "        return (A.min(), A.max())\n",
    "    \n",
    "def buildT(sample_getter, n_samples):\n",
    "    C, c, _ = sample_getter(0)\n",
    "    X = img_utils.column_this(c)\n",
    "    Y = img_utils.column_this(C)\n",
    "    for i in range(1, n_samples):\n",
    "        noised_hr, noised_lr, _ = sample_getter(i)\n",
    "        X = img_utils.append_column(X, c)\n",
    "        Y = img_utils.append_column(Y, C)\n",
    "    return X, Y\n",
    "\n",
    "def buildT_grouping_by_c(sample_getter, n_samples):\n",
    "    \"\"\"\n",
    "    Genera tantos conjuntos de entrenamiento coef de MAPL\n",
    "    \"\"\"\n",
    "    C, c, _ = sample_getter(0)\n",
    "    dicX = split_by_coef(c)\n",
    "    dicY = split_by_coef(C)\n",
    "    for i in range(1, n_samples):\n",
    "        C, c, _ = sample_getter(i)\n",
    "        dicX = split_by_coef(c, dicX)\n",
    "        dicY = split_by_coef(C, dicY)\n",
    "    return dicX, dicY\n",
    "\n",
    "def split_by_coef(img, res=None):\n",
    "    \"\"\"\n",
    "    Dada una imagen separa la cuarta dimension segun su coef de MAPL\n",
    "    \"\"\"\n",
    "    Nc = img.shape[3]\n",
    "    if res is None:\n",
    "        res = dict((coef, None) for coef in xrange(Nc))\n",
    "        \n",
    "    for c in xrange(Nc):\n",
    "        XorY = res[c]\n",
    "        if XorY is None:\n",
    "            res[c] = img_utils.column_this(img[:,:,:,c])\n",
    "        else:\n",
    "            res[c] = img_utils.append_column(XorY, img[:,:,:,c])\n",
    "    return res\n",
    "\n",
    "    \n",
    "\n",
    "## Example of use\n",
    "#buildT(get_sample_maker(numbers, scale), n_samples)"
   ]
  },
  {
   "cell_type": "markdown",
   "metadata": {},
   "source": [
    "## MapMri"
   ]
  },
  {
   "cell_type": "code",
   "execution_count": 3,
   "metadata": {
    "collapsed": true
   },
   "outputs": [],
   "source": [
    "def getC(data, gtab, radial_order = 4):\n",
    "    Nx, Ny, Nz, Nb = data.shape\n",
    "    vhr =Nx*Ny*Nz\n",
    "    map_model = mp.MapmriModel(gtab,\n",
    "                                radial_order=radial_order,\n",
    "                                laplacian_regularization=True,\n",
    "                                laplacian_weighting=0.2,\n",
    "                                anisotropic_scaling=False,\n",
    "                                dti_scale_estimation=False)\n",
    "    map_model_fit = map_model.fit(data)\n",
    "    # (Nx, Ny, Nz, Nc)\n",
    "    C = map_model_fit.mapmri_coeff\n",
    "    return C\n",
    "\n",
    "def getMAndU(radial_order, mu, gtab, tau):\n",
    "    r'''Recovers the reconstructed signal for any qvalue array or\n",
    "        gradient table.\n",
    "        '''\n",
    "    qvals = np.sqrt(gtab.bvals / tau) / (2 * np.pi)\n",
    "    q = qvals[:, None] * gtab.bvecs\n",
    "    M = mp.mapmri_isotropic_phi_matrix(radial_order, mu[0], q)\n",
    "    \n",
    "    # Lapalcian matrix\n",
    "    laplacian_matrix = mp.mapmri_isotropic_laplacian_reg_matrix(radial_order, 1.)\n",
    "    laplacian_matrix = laplacian_matrix * mu[0]\n",
    "    \n",
    "    return M, laplacian_matrix\n",
    "    \n",
    "def getM(radial_order, mu, gtab, tau):\n",
    "    r'''Recovers the reconstructed signal for any qvalue array or\n",
    "        gradient table.\n",
    "        '''\n",
    "    qvals = np.sqrt(gtab.bvals / tau) / (2 * np.pi)\n",
    "    q = qvals[:, None] * gtab.bvecs\n",
    "    M = mp.mapmri_isotropic_phi_matrix(radial_order, mu[0], q)\n",
    "    return  M\n",
    "\n",
    "def get_mapl_params(gtab, radial_order = 4):\n",
    "    #Fiteo el model\n",
    "    map_model = mp.MapmriModel(gtab,\n",
    "                                radial_order=radial_order,\n",
    "                                laplacian_regularization=True,\n",
    "                                laplacian_weighting=0.2,\n",
    "                                anisotropic_scaling=False,\n",
    "                                dti_scale_estimation=False)\n",
    "    # Fiteo la data\n",
    "    #map_model_fit = map_model.fit(i_hr)\n",
    "    tau = map_model.tau\n",
    "    mu = map_model.mu\n",
    "    print 'mu.shape', mu.shape\n",
    "    M = getM(radial_order, mu, gtab, tau)\n",
    "    return M, tau, mu    \n",
    "    \n",
    "def get_mapl_params2(gtab, radial_order = 4):\n",
    "    #Fiteo el model\n",
    "    map_model = mp.MapmriModel(gtab,\n",
    "                                radial_order=radial_order,\n",
    "                                laplacian_regularization=True,\n",
    "                                laplacian_weighting=0.2,\n",
    "                                anisotropic_scaling=False,\n",
    "                                dti_scale_estimation=False)\n",
    "    # Fiteo la data\n",
    "    #map_model_fit = map_model.fit(i_hr)\n",
    "    tau = map_model.tau\n",
    "    mu = map_model.mu\n",
    "    print 'mu.shape', mu.shape, mu\n",
    "    M, U = getMAndU(radial_order, mu, gtab, tau)\n",
    "    return M, tau, mu, U    \n",
    "    "
   ]
  },
  {
   "cell_type": "markdown",
   "metadata": {},
   "source": [
    "# 3D Tv-Norm\n",
    "\n",
    "$ \\sum_{ijk \\in positions(I)} \\left|\\left| (I_{i,j,k}, I_{i,j,k}, I_{i,j,k}) - ( I_{i-1,j,k}, I_{i,j-1,k},  I_{i,j,k-1}) \\right|\\right| $"
   ]
  },
  {
   "cell_type": "code",
   "execution_count": 4,
   "metadata": {
    "collapsed": true
   },
   "outputs": [],
   "source": [
    "from cvxpy.expressions.expression import Expression\n",
    "from cvxpy.atoms.elementwise.norm2_elemwise import norm2_elemwise\n",
    "\n",
    "def tv3d_CubosYSlices(value, *args):\n",
    "    value = Expression.cast_to_const(value)\n",
    "    rows, cols = value.size\n",
    "    if value.is_scalar():\n",
    "        raise ValueError(\"tv cannot take a scalar argument.\")\n",
    "    # L1 norm for vectors.\n",
    "    elif value.is_vector():\n",
    "        return ValueError(\"You may call tv.\")\n",
    "    # L2 norm for matrices.\n",
    "    else:\n",
    "        args = map(Expression.cast_to_const, args)\n",
    "        slices = [value] + list(args)\n",
    "        \n",
    "        Nz = len(slices)\n",
    "        Nx, Ny = slices[0].size\n",
    "        if Nz < 2 or Nx < 2 or Ny < 2:\n",
    "            return ValueError(\"You may call tv.\")\n",
    "        \n",
    "        norm2_slices = []\n",
    "        cub_k, cub_x, cub_y, cub_z = [], [], [], []\n",
    "        \n",
    "        for z in range(0, Nz-1):\n",
    "            mat= slices[z]  \n",
    "            cub_k.append(cvx.vec(mat[0:Nx-1, 0:Ny-1]))\n",
    "            cub_x.append(cvx.vec(mat[1:Nx, 0:Ny-1]))\n",
    "            cub_y.append(cvx.vec(mat[0:Nx-1, 1:Ny]))\n",
    "        \n",
    "        for z in range(1, Nz):\n",
    "            mat= slices[z]  \n",
    "            cub_z.append(cvx.vec(mat[0:Nx-1, 0:Ny-1]))\n",
    "        \n",
    "        K = cvx.vstack(*cub_k)\n",
    "        X = cvx.vstack(*cub_x)\n",
    "        Y = cvx.vstack(*cub_y)\n",
    "        Z = cvx.vstack(*cub_z)\n",
    "        \n",
    "        diffs = []\n",
    "        diffs += [\n",
    "            X - K,\n",
    "            Y - K,\n",
    "            Z - K,\n",
    "        ]\n",
    "        norm2 = norm2_elemwise(*diffs)\n",
    "        \n",
    "        return cvx.sum_entries(norm2)\n",
    "\n",
    "def call_tv3d_CubosYSlices(Yhr, Nx, Ny, Nz, bval):\n",
    "    vhr = Nx*Ny*Nz\n",
    "    vhrb = vhr*bval\n",
    "    Nxy = Nx*Ny\n",
    "    b_offset = vhr\n",
    "    tvs_by_b = []\n",
    "    for b in xrange(bval):\n",
    "        b_offset = b*vhr\n",
    "        slices = []\n",
    "        for z in range(0, Nz):\n",
    "            XY = Yhr[b_offset + z*Nxy: b_offset + (z+1)*Nxy] # el slice XY para este z y b\n",
    "            mat = cvx.reshape(XY, Nx, Ny)\n",
    "            slices.append(mat)\n",
    "        \n",
    "        tvs_by_b.append(tv3d_CubosYSlices(*slices))\n",
    "        #tvs_by_b.append(cvx.tv3d(*slices))\n",
    "        \n",
    "    print '#slices', len(slices)\n",
    "    return sum(tvs_by_b)\n",
    "\n",
    "def tv3d(Yhr, Nx, Ny, Nz, Nb):\n",
    "    return call_tv3d_CubosYSlices(Yhr, Nx, Ny, Nz, Nb)"
   ]
  },
  {
   "cell_type": "markdown",
   "metadata": {},
   "source": [
    "## Problem definition\n",
    "\n",
    "$ \\min_{C^{hr}} \\{ ||GC^{hr} - C^{lr}||^2  + ||C||_{1} \\}$\n"
   ]
  },
  {
   "cell_type": "code",
   "execution_count": 78,
   "metadata": {
    "collapsed": false
   },
   "outputs": [],
   "source": [
    " def define_problem_with_mapl(c_lr, vhr, vlr, G, M, U, tau, gtab, scale):\n",
    "    Nx, Ny, Nz = (12, 12, 12)#TODO: pasar\n",
    "    Nb, Nc = M.shape\n",
    "    \n",
    "    ## LR volumes\n",
    "    Clr = c_lr\n",
    "    \n",
    "    ## MAPL params\n",
    "    cvxChr = cvx.Variable(vhr*Nc, name='cvxChr')\n",
    "    ChrValueInitial = np.ones((vhr*Nc, 1), dtype='float32')\n",
    "    for c in xrange(Nc): \n",
    "        c_offset_hr = c*vhr\n",
    "        ChrValueInitial[c_offset_hr:c_offset_hr+vhr] = ChrValueInitial[c_offset_hr:c_offset_hr+vhr]*Clr[c].mean()\n",
    "    cvxChr.value = ChrValueInitial\n",
    "    \n",
    "    ## Fidelity expression\n",
    "    cvxG = G\n",
    "    fidelity_list = []\n",
    "    lapace_list = []\n",
    "    for c in xrange(Nc):\n",
    "        c_offset_hr = c*vhr\n",
    "        Chr_c = cvxChr[c_offset_hr:c_offset_hr+vhr]\n",
    "        # Aprovecho para setearle un valor unicia\n",
    "        Gc = cvx.Constant(G[c])\n",
    "        Clr_c = cvx.Constant(Clr[c])\n",
    "        #print 'Gc, Chr_b, Clr', Gc.size,  Chr_c.size , Clr_c.size\n",
    "        #       Gc:(216:vlr, 1728:vhr) Chr_c:(1728:vhr, 1) Clr_c:(1, 216:vlr)\n",
    "        fid_b = cvx.sum_squares(Gc*Chr_c - Clr_c.T)\n",
    "        fidelity_list.append(fid_b)    \n",
    "    #cvxNc = cvx.Constant(Nc)\n",
    "    #cvxFidelityExp = cvx.inv_pos(cvxNc)*sum(fidelity_list)\n",
    "    cvxFidelityExp = sum(fidelity_list)\n",
    "    \n",
    "    ## Laplacian regularization\n",
    "    cvxU = cvx.Constant(U)\n",
    "    regLaplade_list = []\n",
    "    vhrc = vhr*Nc\n",
    "    for voxel in xrange(vhr):\n",
    "        cvxLapaceReg = cvx.quad_form(cvxChr[voxel:vhrc:vhr], cvxU)\n",
    "        regLaplade_list.append(cvxLapaceReg**2)\n",
    "    cvxLaplaceRegExp = sum(regLaplade_list)\n",
    "    \n",
    "    ## LA FORMA MATRICIAL NO ME DEJA DICE QUE NO SE PUEDE MULTIPLICAR DOS MATRICES\n",
    "    #  cvxChr:(vhrc, 1) U:(Nc,Nc)\n",
    "    #cvxC_byCoef = cvx.reshape(cvxChr, vhr, Nc)\n",
    "    #cvxCUC = cvx.diag(cvxC_byCoef*cvxU*cvxC_byCoef.T)\n",
    "    #cvxLapaceRegExp = cvx.sum_squares(cvxCUC)\n",
    "    \n",
    "    \n",
    "    ## 3D Tv-Norm Regularization\n",
    "    cvxC_byCoef = cvx.reshape(cvxChr, vhr, Nc)\n",
    "    # (Nb,Nc)*(Nc,vhr) = (Nb, vhr).T = (vhr, Nb) \n",
    "    cvxYhr = cvx.reshape((M*cvxC_byCoef.T).T, vhr*Nb, 1)\n",
    "    #vx3DTvNomExp = tv3d(cvxYhr, Nx, Ny, Nz, Nb)\n",
    "    \n",
    "    \n",
    "    #Sparcity regularization\n",
    "    cvxNorm1 = cvx.norm1(cvxChr)\n",
    "    \n",
    "    ## Mapl weight\n",
    "    betha = cvx.Parameter(value=0.2, name='betha', sign='positive')\n",
    "    ## Sparcity weight\n",
    "    alpha = cvx.Parameter(value=4000, name='alpha', sign='positive')\n",
    "    ## Fidelity weight\n",
    "    gamma = cvx.Parameter(value=0.05, name='gamma',sign='positive')\n",
    "    lamda = cvx.Parameter(value=1000, name='gamma',sign='positive')\n",
    "    \n",
    "    \n",
    "    # Form objective.\n",
    "    #obj = cvx.Minimize(cvxFidelityExp + betha*cvxLapaceRegExp + alpha*cvx.norm(cvxChr) + gamma*cvx3DTvNomExp)\n",
    "    obj = cvx.Minimize(lamda*cvxFidelityExp + betha*cvxLaplaceRegExp + alpha*cvxNorm1)\n",
    "         \n",
    "    # Constraints\n",
    "    constraints = [cvxYhr >= 0]\n",
    "    #Agregar q M*C es positivo o deberia\n",
    "\n",
    "    \n",
    "    # Form and solve problem.\n",
    "    prob = cvx.Problem(obj, constraints)\n",
    "    \n",
    "    return prob, cvxFidelityExp ,  cvxLaplaceRegExp , cvxNorm1\n",
    "\n"
   ]
  },
  {
   "cell_type": "code",
   "execution_count": 79,
   "metadata": {
    "collapsed": true
   },
   "outputs": [],
   "source": [
    "def solveMin(c_lr, i_hr_shape, G, M, U, tau, gtab, scale=2, max_iters=1500, verbose=False, prob=None):\n",
    "    Nx, Ny, Nz, Nb = i_hr_shape\n",
    "    Nb, Nc = M.shape\n",
    "    nx, ny, nz = Nx/scale, Ny/scale, Nz/scale \n",
    "    vhr, vlr = Nx*Ny*Nz, nx*ny*nz \n",
    "    \n",
    "    cvxFidelityExp ,  cvxLaplaceRegExp , cvxNorm1 = None, None, None\n",
    "    if prob is None :\n",
    "        prob, cvxFidelityExp ,  cvxLaplaceRegExp , cvxNorm1 = define_problem_with_mapl(\n",
    "                                    c_lr, \n",
    "                                    vhr, \n",
    "                                    vlr,\n",
    "                                    G, \n",
    "                                    M, U,tau,\n",
    "                                    gtab,\n",
    "                                    scale)\n",
    "     \n",
    "    \n",
    "    start_time = time.time()\n",
    "    res = prob.solve(solver='SCS', max_iters=max_iters, eps=0.50e-02, verbose=verbose )  # Returns the optimal value.\n",
    "    #res = prob.solve(solver='ECOS')  # Returns the optimal value.\n",
    "    \n",
    "    seg = time.time() - start_time\n",
    "\n",
    "    minutes = int(seg / 60)\n",
    "    print(\"--- time of optimization : %d' %d'' ---\" % (minutes , seg%60))\n",
    "    print \"--- status:\", prob.status, \"optimal value\", prob.value\n",
    "    print \n",
    "\n",
    "    variables = dict( (v.name(), v) for v in prob.variables())\n",
    "    \n",
    "    cvxChr = variables['cvxChr']\n",
    "    # cvxChr: (vhrc, 1) M:(Nb,Nc)\n",
    "    C = np.asarray(cvxChr.value, dtype='float32').reshape((Nx, Ny, Nz, Nc), order='F')\n",
    "\n",
    "    A = M.dot(C.reshape((Nx*Ny*Nz, Nc), order='F').T).T\n",
    "    A = A.reshape((Nx, Ny, Nz, Nb), order='F')\n",
    "    \n",
    "    return A, C, seg, prob, cvxFidelityExp ,  cvxLaplaceRegExp , cvxNorm1"
   ]
  },
  {
   "cell_type": "markdown",
   "metadata": {},
   "source": [
    "## Solving the problem and cross-validation (leave one out)"
   ]
  },
  {
   "cell_type": "code",
   "execution_count": 80,
   "metadata": {
    "collapsed": false
   },
   "outputs": [
    {
     "name": "stdout",
     "output_type": "stream",
     "text": [
      "== Leaving out: # 100307\n",
      "= Training and fiting ...\n",
      "clr_test[0].shape (1, 216)\n",
      "mu.shape (3,) [ 0.00595503  0.00595503  0.00595503]\n",
      "U.shape (22, 22)\n",
      "= Solving optimization problem ...\n",
      "----------------------------------------------------------------------------\n",
      "\tSCS v1.2.6 - Splitting Conic Solver\n",
      "\t(c) Brendan O'Donoghue, Stanford University, 2012-2016\n",
      "----------------------------------------------------------------------------\n",
      "Lin-sys: sparse-indirect, nnz in A = 10369772, CG tol ~ 1/iter^(2.00)\n",
      "eps = 5.00e-03, alpha = 1.50, max_iters = 1000, normalize = 1, scale = 1.00\n",
      "Variables n = 81238, constraints m = 194876\n",
      "Cones:\tlinear vars: 139968\n",
      "\tsoc vars: 54908, soc blks: 5206\n",
      "Setup time: 4.38e-01s\n",
      "----------------------------------------------------------------------------\n",
      " Iter | pri res | dua res | rel gap | pri obj | dua obj | kap/tau | time (s)\n",
      "----------------------------------------------------------------------------\n",
      "     0|      inf       inf      -nan      -inf       inf       inf  6.81e-01 \n",
      "   100| 1.12e+00  1.13e-01  2.34e-03  2.60e+11  2.61e+11  2.52e-05  2.40e+01 \n",
      "   200| 4.61e-01  6.96e-02  1.21e-03  2.58e+11  2.59e+11  1.70e-05  4.22e+01 \n",
      "   300| 2.76e-01  5.58e-02  8.50e-04  2.57e+11  2.57e+11  2.06e-05  6.11e+01 \n",
      "   400| 1.91e-01  4.70e-02  6.22e-04  2.55e+11  2.56e+11  2.37e-05  7.97e+01 \n",
      "   500| 1.43e-01  4.06e-02  4.74e-04  2.54e+11  2.54e+11  2.62e-05  9.90e+01 \n",
      "   600| 1.11e-01  3.40e-02  3.40e-04  2.53e+11  2.53e+11  2.82e-05  1.18e+02 \n",
      "   700| 8.89e-02  2.86e-02  2.37e-04  2.53e+11  2.53e+11  2.98e-05  1.37e+02 \n",
      "   800| 7.29e-02  2.61e-02  1.98e-04  2.52e+11  2.52e+11  1.55e-05  1.56e+02 \n",
      "   900| 6.11e-02  2.33e-02  1.57e-04  2.51e+11  2.52e+11  1.60e-05  1.75e+02 \n",
      "  1000| 5.20e-02  2.15e-02  1.34e-04  2.51e+11  2.51e+11  1.64e-05  1.93e+02 \n",
      "----------------------------------------------------------------------------\n",
      "Status: Solved/Inaccurate\n",
      "Hit max_iters, solution may be inaccurate\n",
      "Timing: Solve time: 1.93e+02s\n",
      "\tLin-sys: avg # CG iterations: 4.19, avg solve time: 1.88e-01s\n",
      "\tCones: avg projection time: 4.00e-04s\n",
      "----------------------------------------------------------------------------\n",
      "Error metrics:\n",
      "dist(s, K) = 1.4901e-08, dist(y, K*) = 1.4901e-08, s'y/|s||y| = 3.5796e-17\n",
      "|Ax + s - b|_2 / (1 + |b|_2) = 5.2017e-02\n",
      "|A'y + c|_2 / (1 + |c|_2) = 2.1486e-02\n",
      "|c'x + b'y| / (1 + |c'x| + |b'y|) = 1.3432e-04\n",
      "----------------------------------------------------------------------------\n",
      "c'x = 251089249328.3468, -b'y = 251156711064.0510\n",
      "============================================================================\n",
      "--- time of optimization : 3' 37'' ---\n",
      "--- status: optimal_inaccurate optimal value 2.51089249328e+11\n",
      "\n",
      "= Calculating metrics...\n",
      "\n",
      "\n",
      " === TOTAL TIME : 3' 37\"\n"
     ]
    }
   ],
   "source": [
    "from scipy.sparse import csr_matrix\n",
    "import experimento1_funciones as e1f\n",
    "reload(e1f)\n",
    "\n",
    "RES_BASE_FOLDER = './resultados/exp5/'\n",
    "VMIN, VMAX=-50, 2500\n",
    "\n",
    "voi_hr_shape = (12, 12, 12, 6)\n",
    "voi_lr_shape = (6, 6, 6, 6)\n",
    "#subjects = [100307, 100408, 180129, 180432, 180836, 180937]\n",
    "subjects = [100307, 100408, 180129, 180432]\n",
    "\n",
    "bvals2000pos = [18, 27, 69, 75, 101, 107]\n",
    "\n",
    "# Esto es por si quiero alguna S0\n",
    "#img_s0, gtab_s0 = load_subject_small(0, subjects, bval=5, bvalpos=bvals5pos[0:6])\n",
    "#i_hr=img.get_data()\n",
    "#S0 = img_s0.get_data()\n",
    "\n",
    "reload(hcp)\n",
    "\n",
    "#print '#Qvals: ', gtab.bvals.shape\n",
    "#print 'Bvals: ', set(gtab.bvals)\n",
    "## Con imagenes pequenas multi-shel\n",
    "loader_func = hcp.load_subject_medium_noS0\n",
    "sample_maker = get_sample_maker(subjects, loader_func, scale=2)\n",
    "\n",
    "n_samples = 4\n",
    "iterations = 1\n",
    "\n",
    "# Metrics to save\n",
    "min_vals_hr_r = []\n",
    "max_vals_hr_r = []\n",
    "min_vals_lr_r = []\n",
    "max_vals_lr_r = []\n",
    "\n",
    "dif_norm_hrs=[]\n",
    "dif_norm_lrs=[]    \n",
    "Yhr_recons_norms=[]\n",
    "Ylr_recons_norms=[]  \n",
    "Yhr_norms=[]\n",
    "Ylr_norms=[]\n",
    "times = []\n",
    "optimal_vals = []\n",
    "\n",
    "## For save results\n",
    "# base_folder = RES_BASE_FOLDER\n",
    "## For NOT save results\n",
    "base_folder = None\n",
    "\n",
    "for i in range(0, iterations):\n",
    "    subjects.append(subjects.pop(0))\n",
    "    subject = str(subjects[len(subjects)-1])\n",
    "    print '== Leaving out: #', subject\n",
    "    \n",
    "    ## The one that left out to validate\n",
    "    the_one_out = len(subjects)-1\n",
    "    i_hr, i_lr, _, _,  gtab = get_sample_dwi(the_one_out, subjects, loader_func, scale=2)\n",
    "    #C, c, _ = get_sample(the_one_out, subjects, loader_func, scale=2)\n",
    "    \n",
    "    ### Aca shiftear el arreglo de sujetos (train deja el ultimo afuera del entrenamiento)\n",
    "    lr_samples, hr_samples = buildT_grouping_by_c(sample_maker, n_samples) #lr, hr\n",
    "\n",
    "    # Build downsampling matrix\n",
    "    print '= Training and fiting ...'\n",
    "    regr, chr_train , clr_train, chr_test, clr_test = e1f.train_grouping_by(hr_samples, lr_samples)\n",
    "    del(chr_train)\n",
    "    del(clr_train)\n",
    "    del(chr_test)\n",
    "    print 'clr_test[0].shape', clr_test[0].shape\n",
    "    \n",
    "    G = dict((c,csr_matrix(regr[c].coef_)) for c in regr.keys())\n",
    "    \n",
    "    # Mapl params\n",
    "    M, tau, mu, U = get_mapl_params2(gtab, radial_order = 4)\n",
    "    print 'U.shape', U.shape\n",
    "    \n",
    "    # Minimization solve\n",
    "    # mock: A, seg = np.ones(i_hr.shape), 20\n",
    "    print '= Solving optimization problem ...'\n",
    "    A, C, seg, prob, cvxFidelityExp ,  cvxLaplaceRegExp , cvxNorm1 = \\\n",
    "        solveMin(clr_test, i_hr.shape, G, M, U,  tau, gtab, scale=2, max_iters=1000, verbose=True)\n",
    "    max_vals_hr_r.append(A.max())\n",
    "    min_vals_hr_r.append(A.min())\n",
    "    \n",
    "    ## Recons ^LR\n",
    "\n",
    "    #max_vals_lr_r.append(B.max())\n",
    "    #min_vals_lr_r.append(B.min())\n",
    "    \n",
    "    # Keep parameters\n",
    "    print '= Calculating metrics...'\n",
    "    dif_norm_hr = np.linalg.norm(i_hr-A) # recons-gtrust\n",
    "    Yhr_norm = np.linalg.norm(i_hr)\n",
    "    Yhr_recons_norm = np.linalg.norm(A) #recons\n",
    "    \n",
    "    #dif_norm_lr = np.linalg.norm(i_lr-B)\n",
    "    #Ylr_norm = np.linalg.norm(B)\n",
    "    #Ylr_recons_norm = np.linalg.norm(B)\n",
    "    \n",
    "    dif_norm_hrs.append(dif_norm_hr)\n",
    "    #dif_norm_lrs.append(dif_norm_lr)\n",
    "    \n",
    "    Yhr_recons_norms.append(Yhr_recons_norm)\n",
    "    #Ylr_recons_norms.append(Ylr_recons_norm)\n",
    "    \n",
    "    Yhr_norms.append(Yhr_norm)\n",
    "    #Ylr_norms.append(Ylr_norm)\n",
    "    \n",
    "    times.append(seg)\n",
    "    optimal_vals.append(prob.value)\n",
    "\n",
    "    # Save the A calculated\n",
    "    if base_folder is not None:\n",
    "        name = base_folder+ \"A/\" + 'hrRec_lo' + subject\n",
    "        np.save(name, A)\n",
    "        print 'showing hr '+ subject, 'min, max',(A.min(), A.max()) \n",
    "        titles=['Reconstruida', 'Original']\n",
    "        for b in xrange(6):\n",
    "            plt = img_utils._isc(A, i_hr,b=b ,titles=titles,  vmax=VMAX, vmin=VMIN)\n",
    "            plt.savefig(name +'b'+str(b)+'.pdf')\n",
    "        print 'saved A in: ', name + str('.npy')\n",
    "        \n",
    "    # Save the B calculated\n",
    "    if base_folder is not None:\n",
    "        name = base_folder + 'lrRec_lo' + subject\n",
    "        np.save(name, B)\n",
    "        print 'showing lr '+ subject, 'min, max',(B.min(), B.max()) \n",
    "        titles=['Reconstruida', 'Original']\n",
    "        plt = img_utils._isc(B, i_lr, titles=titles,  vmax=VMAX, vmin=VMIN)\n",
    "        plt.savefig(name + '.pdf')\n",
    "        print 'saved A in: ', name + str('.npy')\n",
    "        \n",
    "    print\n",
    "    print\n",
    "\n",
    "# Log spended\n",
    "total_sec = np.array(times).sum()\n",
    "print ' === TOTAL TIME :',  str(int(total_sec//60))+\"'\", str(int(total_sec%60))+ '\"'\n",
    "\n",
    "# Persist results\n",
    "if base_folder is not None: \n",
    "    np.save(base_folder+ 'dif_norm_hrs', dif_norm_hrs)\n",
    "    #np.save(base_folder+ 'dif_norm_lrs', dif_norm_lrs)\n",
    "    np.save(base_folder+ 'Yhr_recons_norms', Yhr_recons_norms)\n",
    "    np.save(base_folder+ 'Ylr_recons_norms', dif_norm_hrs)\n",
    "    #np.save(base_folder+ 'Yhr_norms', dif_norm_lrs)\n",
    "    np.save(base_folder+ 'Ylr_norms', Yhr_recons_norms)\n",
    "    \n",
    "    np.save(base_folder+ 'max_vals_hr_r', max_vals_hr_r)\n",
    "    np.save(base_folder+ 'min_vals_hr_r', min_vals_hr_r)\n",
    "    np.save(base_folder+ 'max_vals_lr_r', max_vals_hr_r)\n",
    "    np.save(base_folder+ 'min_vals_lr_r', min_vals_hr_r)\n",
    "    \n",
    "    np.save(base_folder+ 'times' , times)\n",
    "    np.save(base_folder+ 'optimal_vals', optimal_vals)\n"
   ]
  },
  {
   "cell_type": "code",
   "execution_count": 70,
   "metadata": {
    "collapsed": false
   },
   "outputs": [
    {
     "name": "stdout",
     "output_type": "stream",
     "text": [
      "----------------------------------------------------------------------------\n",
      "\tSCS v1.2.6 - Splitting Conic Solver\n",
      "\t(c) Brendan O'Donoghue, Stanford University, 2012-2016\n",
      "----------------------------------------------------------------------------\n",
      "Lin-sys: sparse-indirect, nnz in A = 10255725, CG tol ~ 1/iter^(2.00)\n",
      "eps = 5.00e-03, alpha = 1.50, max_iters = 1500, normalize = 1, scale = 1.00\n",
      "Variables n = 43223, constraints m = 156861\n",
      "Cones:\tlinear vars: 63936\n",
      "\tsoc vars: 92925, soc blks: 5207\n",
      "Setup time: 3.96e-01s\n",
      "----------------------------------------------------------------------------\n",
      " Iter | pri res | dua res | rel gap | pri obj | dua obj | kap/tau | time (s)\n",
      "----------------------------------------------------------------------------\n",
      "     0|      inf       inf      -nan      -inf       inf       inf  6.20e-01 \n",
      "   100| 1.37e+00  9.19e-02  4.82e-04  1.59e+09  1.59e+09  1.03e-07  1.75e+01 \n",
      "   200| 4.08e-01  2.86e-02  4.90e-05  1.60e+09  1.60e+09  9.96e-08  3.62e+01 \n",
      "   300| 2.07e-01  1.44e-02  4.79e-05  1.60e+09  1.60e+09  9.99e-08  5.40e+01 \n",
      "   400| 1.43e-01  8.98e-03  8.60e-05  1.60e+09  1.60e+09  1.01e-07  7.21e+01 \n",
      "   500| 1.21e-01  6.38e-03  1.04e-04  1.60e+09  1.60e+09  1.03e-07  8.99e+01 \n",
      "   600| 1.12e-01  4.96e-03  1.12e-04  1.60e+09  1.60e+09  1.05e-07  1.08e+02 \n",
      "   700| 1.08e-01  4.11e-03  1.14e-04  1.60e+09  1.60e+09  1.07e-07  1.25e+02 \n",
      "   800| 1.06e-01  3.58e-03  1.15e-04  1.59e+09  1.59e+09  1.10e-07  1.43e+02 \n",
      "   900| 1.06e-01  3.24e-03  1.16e-04  1.59e+09  1.59e+09  1.12e-07  1.60e+02 \n",
      "  1000| 1.06e-01  3.01e-03  1.18e-04  1.59e+09  1.59e+09  1.14e-07  1.77e+02 \n",
      "  1100| 1.06e-01  2.84e-03  1.19e-04  1.59e+09  1.59e+09  1.17e-07  1.93e+02 \n",
      "  1200| 1.06e-01  2.72e-03  1.19e-04  1.59e+09  1.59e+09  1.19e-07  2.09e+02 \n",
      "  1300| 1.06e-01  2.63e-03  1.19e-04  1.59e+09  1.59e+09  1.22e-07  2.25e+02 \n",
      "  1400| 1.07e-01  2.56e-03  1.20e-04  1.59e+09  1.59e+09  1.25e-07  2.40e+02 \n",
      "  1500| 1.07e-01  2.50e-03  1.20e-04  1.58e+09  1.58e+09  1.27e-07  2.55e+02 \n",
      "----------------------------------------------------------------------------\n",
      "Status: Solved/Inaccurate\n",
      "Hit max_iters, solution may be inaccurate\n",
      "Timing: Solve time: 2.55e+02s\n",
      "\tLin-sys: avg # CG iterations: 3.73, avg solve time: 1.66e-01s\n",
      "\tCones: avg projection time: 2.46e-04s\n",
      "----------------------------------------------------------------------------\n",
      "Error metrics:\n",
      "dist(s, K) = 1.1176e-08, dist(y, K*) = 1.1642e-10, s'y/|s||y| = -1.5230e-17\n",
      "|Ax + s - b|_2 / (1 + |b|_2) = 1.0720e-01\n",
      "|A'y + c|_2 / (1 + |c|_2) = 2.5010e-03\n",
      "|c'x + b'y| / (1 + |c'x| + |b'y|) = 1.2039e-04\n",
      "----------------------------------------------------------------------------\n",
      "c'x = 1583790012.5950, -b'y = 1584171404.0788\n",
      "============================================================================\n",
      "--- time of optimization : 4' 20'' ---\n",
      "--- status: optimal_inaccurate optimal value 1583790012.59\n",
      "\n"
     ]
    }
   ],
   "source": [
    "# Para darle otra ronda\n",
    "A, C, seg, prob = solveMin(clr_test, i_hr.shape, G, M, U,  tau, gtab, prob=prob, max_iters=1500, verbose=True)\n",
    "#parameters = dict((c.name(), c) for c in prob.parameters())\n",
    "#betha, alpha = parameters['betha'],  parameters['alpha']\n",
    "\n",
    "#H, _, S0hr, _,  gtab = get_sample_dwi(2, subjects, loader_func, scale=2)\n",
    "#img_utils._ish(H, b=7, vmin=H.min(), vmax=H.max())"
   ]
  },
  {
   "cell_type": "code",
   "execution_count": 84,
   "metadata": {
    "collapsed": false
   },
   "outputs": [
    {
     "name": "stdout",
     "output_type": "stream",
     "text": [
      "1.14085043833 1.41404291322\n",
      "18594.0808484\n"
     ]
    },
    {
     "data": {
      "image/png": "[encoded data removed]",
      "text/plain": [
       "<matplotlib.figure.Figure at 0x7f7d67dad5d0>"
      ]
     },
     "metadata": {},
     "output_type": "display_data"
    }
   ],
   "source": [
    "b=4\n",
    "print A[:,6,:, b].mean(), np.std(A)\n",
    "\n",
    "img_utils._ish(A, b=b, vmin=A.min(), vmax=A.max())\n",
    "print cvxNorm1.value, "
   ]
  },
  {
   "cell_type": "code",
   "execution_count": 34,
   "metadata": {
    "collapsed": false
   },
   "outputs": [
    {
     "data": {
      "text/plain": [
       "(array([ 17.,  27.,  16.,  15.,  14.,  19.,   9.,   9.,   8.,  10.]),\n",
       " array([   89.90352631,   186.25699692,   282.61046753,   378.96393814,\n",
       "          475.31740875,   571.67087936,   668.02434998,   764.37782059,\n",
       "          860.7312912 ,   957.08476181,  1053.43823242]),\n",
       " <a list of 10 Patch objects>)"
      ]
     },
     "execution_count": 34,
     "metadata": {},
     "output_type": "execute_result"
    },
    {
     "data": {
      "image/png": "[encoded data removed]",
      "text/plain": [
       "<matplotlib.figure.Figure at 0x7f7d67c4e5d0>"
      ]
     },
     "metadata": {},
     "output_type": "display_data"
    }
   ],
   "source": [
    "#hist(A[:,6,:, b].flatten(), range=(-0.03,0.15))\n",
    "hist(i_hr[:,6,:, b].flatten())\n"
   ]
  },
  {
   "cell_type": "code",
   "execution_count": 86,
   "metadata": {
    "collapsed": false
   },
   "outputs": [
    {
     "name": "stdout",
     "output_type": "stream",
     "text": [
      "recons (-0.1191182977646299, 2.072876780871526, 7.9885634628353559) (12, 12, 12, 37)\n",
      "orig (16.150066, 878.86945, 3105.2488) (12, 12, 12, 37)\n",
      "con la primer forma de tvnorm\n",
      "dif_norm_hrs [272182.39299981814]\n",
      "Yhr_recons_norms [634.47813761444183]\n",
      "Yhr_norms [272721.56]\n",
      "times [217.14821195602417]\n",
      "optimal_vals [251089249328.34677]\n"
     ]
    },
    {
     "data": {
      "image/png": "[encoded data removed]",
      "text/plain": [
       "<matplotlib.figure.Figure at 0x7f7d8dea8e50>"
      ]
     },
     "metadata": {},
     "output_type": "display_data"
    }
   ],
   "source": [
    "img_utils._isc(A*2000, i_hr, b=4, vmin=0, vmax=3000, titles=['^Yhr', 'Yhr'])\n",
    "\n",
    "#img_utils._is(A, vmin=A.min(), vmax=A.max())\n",
    "print 'recons', (A.min(), A.mean(), A.max()), A.shape\n",
    "print 'orig',(i_hr.min(), i_hr.mean(), i_hr.max()), i_hr.shape\n",
    "#G.shape\n",
    "\n",
    "print 'con la primer forma de tvnorm'\n",
    "print 'dif_norm_hrs', dif_norm_hrs\n",
    "print 'Yhr_recons_norms', Yhr_recons_norms\n",
    "print 'Yhr_norms', Yhr_norms\n",
    "print 'times',times\n",
    "print 'optimal_vals', optimal_vals"
   ]
  },
  {
   "cell_type": "markdown",
   "metadata": {},
   "source": [
    "# HR Testing reconstruction \n"
   ]
  },
  {
   "cell_type": "code",
   "execution_count": 54,
   "metadata": {
    "collapsed": false
   },
   "outputs": [
    {
     "name": "stdout",
     "output_type": "stream",
     "text": [
      "mse= 1162428.94935\n"
     ]
    },
    {
     "data": {
      "text/plain": [
       "((0, 0), (119, 1501), (18650, 3072127), 1994760.5223021316)"
      ]
     },
     "execution_count": 54,
     "metadata": {},
     "output_type": "execute_result"
    },
    {
     "data": {
      "image/png": "[encoded data removed]",
      "text/plain": [
       "<matplotlib.figure.Figure at 0x7fb1c9b83f50>"
      ]
     },
     "metadata": {},
     "output_type": "display_data"
    }
   ],
   "source": [
    "mse = ((A-i_hr)**2).mean(axis=3)\n",
    "print 'mse=', ((A-i_hr)**2).mean()\n",
    "\n",
    "bval = 5\n",
    "titles = ['^Yhr '+str(int(gtab.bvals[bval])), 'Yhr', 'mse']\n",
    "plt, _, _, im3 = img_utils._isc3(A, i_hr, mse,  b=bval,  vmin=[0, 61104], vmax=[12425, 324973], titles=titles)\n",
    "plt.colorbar(im3,fraction=0.056, pad=0.04)\n",
    "mm(A[:,6,:, bval]), mm(i_hr[:,6,:, bval]), mm(mse), mse.mean()+ np.std(mse)"
   ]
  },
  {
   "cell_type": "code",
   "execution_count": 23,
   "metadata": {
    "collapsed": false
   },
   "outputs": [
    {
     "data": {
      "text/plain": [
       "(<Container object of 40 artists>,\n",
       " 0.89344014176808906,\n",
       " 0.89014089080400383,\n",
       " 5.0,\n",
       " 5.0)"
      ]
     },
     "execution_count": 23,
     "metadata": {},
     "output_type": "execute_result"
    },
    {
     "data": {
      "image/png": "[encoded data removed]",
      "text/plain": [
       "<matplotlib.figure.Figure at 0x7fb5c4518450>"
      ]
     },
     "metadata": {},
     "output_type": "display_data"
    }
   ],
   "source": [
    "errel = errrel_layers(A, i_hr)\n",
    "errs =[errel[:,:,:,b].mean() for b in xrange(A.shape[3])]\n",
    "\n",
    "plt.bar(xrange(A.shape[3]), errs),errs[16], errs[32], gtab.bvals[16], gtab.bvals[32]"
   ]
  },
  {
   "cell_type": "markdown",
   "metadata": {},
   "source": [
    "# LR Testing reconstruction\n",
    "\n",
    "$ G*Yhr = Yhr^* $"
   ]
  },
  {
   "cell_type": "code",
   "execution_count": 13,
   "metadata": {
    "collapsed": false
   },
   "outputs": [],
   "source": [
    "def errrel_layers(A, B):\n",
    "    err_rel = np.zeros(A.shape)\n",
    "    for b in xrange(A.shape[3]):\n",
    "        err_rel[:,:,:,b] = np.divide(np.abs(A[:,:,:,b]-B[:,:,:,b]), B[:,:,:,b]+0.01)\n",
    "    return err_rel\n",
    "    "
   ]
  },
  {
   "cell_type": "code",
   "execution_count": 212,
   "metadata": {
    "collapsed": false
   },
   "outputs": [
    {
     "name": "stdout",
     "output_type": "stream",
     "text": [
      "(6, 6, 6, 6) mse: (0, 22) 0.602017806689 1.4911128861 B: (56, 11659) i_lr: (73, 12425)\n"
     ]
    },
    {
     "data": {
      "text/plain": [
       "<matplotlib.colorbar.Colorbar at 0x7f9c635f0310>"
      ]
     },
     "execution_count": 212,
     "metadata": {},
     "output_type": "execute_result"
    },
    {
     "data": {
      "image/png": "[encoded data removed]",
      "text/plain": [
       "<matplotlib.figure.Figure at 0x7f9c6a28a850>"
      ]
     },
     "metadata": {},
     "output_type": "display_data"
    }
   ],
   "source": [
    "mse_lr = errrel_layers(B,i_lr)\n",
    "#mse_lr = ((mat_utils.normalize(B)-mat_utils.normalize(i_lr))**2).mean(axis=3)\n",
    "#mse_lr = ((np.divide(B-i_lr, i_lr))**2).mean(axis=3)\n",
    "print mse_lr.shape, 'mse:',mm(mse_lr), mse_lr.mean(), np.std(mse_lr), 'B:',mm(B),'i_lr:', mm(i_lr)\n",
    "\n",
    "reload(img_utils)\n",
    "plt, _, _, im3 = img_utils._isc3(B, i_lr, mse_lr,  b=4, vmin=[73, 0], vmax=[12000,2],)\n",
    "plt.colorbar(im3,fraction=0.056, pad=0.04)"
   ]
  },
  {
   "cell_type": "markdown",
   "metadata": {},
   "source": [
    "# Testing Mapl reconstruction"
   ]
  },
  {
   "cell_type": "code",
   "execution_count": 33,
   "metadata": {
    "collapsed": false
   },
   "outputs": [
    {
     "name": "stdout",
     "output_type": "stream",
     "text": [
      "M.shape (40, 22) C.size 38016\n",
      "(1728, 40) (12, 12, 12, 40)\n",
      "(0, 12251)\n",
      "Error relativo max,min u std (0, 35) 1 1\n",
      "max/min i_hr: (0, 13620) Eq: (-227, 12707) 1093.13802999\n"
     ]
    },
    {
     "data": {
      "text/plain": [
       "'\\nMAPL SALE PAL TRASTE PORQ \\nprecisa mas de 6 puntos \\n- probar con menos orden \\n- probar con minimo 40 puntos y q dios ayude a la compu!!!\\n\\n'"
      ]
     },
     "execution_count": 33,
     "metadata": {},
     "output_type": "execute_result"
    },
    {
     "data": {
      "image/png": "[encoded data removed]",
      "text/plain": [
       "<matplotlib.figure.Figure at 0x7fb5c3bf8750>"
      ]
     },
     "metadata": {},
     "output_type": "display_data"
    }
   ],
   "source": [
    "Nx, Ny, Nz, Nb = i_hr.shape\n",
    "Nb, Nc =  M.shape\n",
    "Eq_reconst = mapl_predict(gtab, C.reshape((Nx*Ny*Nz, Nc), order='F'), M, tau, Nx, Ny, Nz)\n",
    "\n",
    "\n",
    "err = np.abs(Eq_reconst - i_hr)\n",
    "err_rel = np.divide(err, i_hr+1)#para q no de infinito\n",
    "\n",
    "print mm(err) \n",
    "print 'Error relativo max,min u std', mm(err_rel), int(err_rel.mean()), \\\n",
    "                                      int(np.std(err_rel)) \n",
    "\n",
    "#img_utils._isc(i_hr, Eq_reconst,b=b, vmin=0, vmax=i_hr.max(), titles=['i_hr', 'cvxpy'])\n",
    "img_utils._isc(i_hr, Eq_reconst,b=4, vmin=111, vmax=16402, titles=['i_hr', 'cvxpy'])\n",
    "print 'max/min i_hr:',mm(i_hr),'Eq:', mm(Eq_reconst), Eq_reconst.mean()\n",
    "\n",
    "\"\"\"\n",
    "MAPL SALE PAL TRASTE PORQ \n",
    "precisa mas de 6 puntos \n",
    "- probar con menos orden \n",
    "- probar con minimo 40 puntos y q dios ayude a la compu!!!\n",
    "\n",
    "\"\"\"\n"
   ]
  },
  {
   "cell_type": "code",
   "execution_count": 22,
   "metadata": {
    "collapsed": false
   },
   "outputs": [
    {
     "data": {
      "text/plain": [
       "['__class__',\n",
       " '__delattr__',\n",
       " '__dict__',\n",
       " '__doc__',\n",
       " '__format__',\n",
       " '__getattribute__',\n",
       " '__hash__',\n",
       " '__init__',\n",
       " '__module__',\n",
       " '__new__',\n",
       " '__reduce__',\n",
       " '__reduce_ex__',\n",
       " '__repr__',\n",
       " '__setattr__',\n",
       " '__sizeof__',\n",
       " '__str__',\n",
       " '__subclasshook__',\n",
       " '__weakref__',\n",
       " 'b0_threshold',\n",
       " 'b0s_mask',\n",
       " 'big_delta',\n",
       " 'bvals',\n",
       " 'bvecs',\n",
       " 'gradients',\n",
       " 'info',\n",
       " 'qvals',\n",
       " 'small_delta']"
      ]
     },
     "execution_count": 22,
     "metadata": {},
     "output_type": "execute_result"
    }
   ],
   "source": []
  }
 ],
 "metadata": {
  "kernelspec": {
   "display_name": "Python 2",
   "language": "python",
   "name": "python2"
  },
  "language_info": {
   "codemirror_mode": {
    "name": "ipython",
    "version": 2
   },
   "file_extension": ".py",
   "mimetype": "text/x-python",
   "name": "python",
   "nbconvert_exporter": "python",
   "pygments_lexer": "ipython2",
   "version": "2.7.12"
  }
 },
 "nbformat": 4,
 "nbformat_minor": 0
}
